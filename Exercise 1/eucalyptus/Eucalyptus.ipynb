{
 "cells": [
  {
   "cell_type": "markdown",
   "id": "32c985fe",
   "metadata": {},
   "source": [
    "# ML Exercise 1 - Eucalyptus"
   ]
  },
  {
   "cell_type": "code",
   "execution_count": 2,
   "id": "bff19797",
   "metadata": {},
   "outputs": [],
   "source": [
    "# imports\n",
    "import time\n",
    "import pandas as pd\n",
    "import matplotlib.pyplot as plt\n",
    "import seaborn as sns\n",
    "import numpy as np\n",
    "from scipy.io.arff import loadarff\n",
    "\n",
    "pd.set_option('display.max_rows', 500)\n",
    "pd.set_option('display.max_columns', 500)\n",
    "pd.set_option('display.width', 1000)\n",
    "\n",
    "%matplotlib inline"
   ]
  },
  {
   "cell_type": "markdown",
   "id": "c1969ce1",
   "metadata": {},
   "source": [
    "## Exploratory Data Analysis"
   ]
  },
  {
   "cell_type": "code",
   "execution_count": 68,
   "id": "ac7fa45a",
   "metadata": {},
   "outputs": [],
   "source": [
    "# Load learn data\n",
    "raw_data = loadarff(\"dataset_194_eucalyptus.arff\");\n",
    "df = pd.DataFrame(raw_data[0])"
   ]
  },
  {
   "cell_type": "code",
   "execution_count": 69,
   "id": "5cf287d2",
   "metadata": {},
   "outputs": [
    {
     "data": {
      "text/html": [
       "<div>\n",
       "<style scoped>\n",
       "    .dataframe tbody tr th:only-of-type {\n",
       "        vertical-align: middle;\n",
       "    }\n",
       "\n",
       "    .dataframe tbody tr th {\n",
       "        vertical-align: top;\n",
       "    }\n",
       "\n",
       "    .dataframe thead th {\n",
       "        text-align: right;\n",
       "    }\n",
       "</style>\n",
       "<table border=\"1\" class=\"dataframe\">\n",
       "  <thead>\n",
       "    <tr style=\"text-align: right;\">\n",
       "      <th></th>\n",
       "      <th>Abbrev</th>\n",
       "      <th>Rep</th>\n",
       "      <th>Locality</th>\n",
       "      <th>Map_Ref</th>\n",
       "      <th>Latitude</th>\n",
       "      <th>Altitude</th>\n",
       "      <th>Rainfall</th>\n",
       "      <th>Frosts</th>\n",
       "      <th>Year</th>\n",
       "      <th>Sp</th>\n",
       "      <th>PMCno</th>\n",
       "      <th>DBH</th>\n",
       "      <th>Ht</th>\n",
       "      <th>Surv</th>\n",
       "      <th>Vig</th>\n",
       "      <th>Ins_res</th>\n",
       "      <th>Stem_Fm</th>\n",
       "      <th>Crown_Fm</th>\n",
       "      <th>Brnch_Fm</th>\n",
       "      <th>Utility</th>\n",
       "    </tr>\n",
       "  </thead>\n",
       "  <tbody>\n",
       "    <tr>\n",
       "      <th>0</th>\n",
       "      <td>b'Cra'</td>\n",
       "      <td>1.0</td>\n",
       "      <td>b'Central_Hawkes_Bay'</td>\n",
       "      <td>b'N135_382/137'</td>\n",
       "      <td>b'39__38'</td>\n",
       "      <td>100.0</td>\n",
       "      <td>850.0</td>\n",
       "      <td>-2.0</td>\n",
       "      <td>1980.0</td>\n",
       "      <td>b'co'</td>\n",
       "      <td>1520.0</td>\n",
       "      <td>18.45</td>\n",
       "      <td>9.96</td>\n",
       "      <td>40.0</td>\n",
       "      <td>4.0</td>\n",
       "      <td>3.0</td>\n",
       "      <td>3.5</td>\n",
       "      <td>4.0</td>\n",
       "      <td>3.5</td>\n",
       "      <td>b'good'</td>\n",
       "    </tr>\n",
       "    <tr>\n",
       "      <th>1</th>\n",
       "      <td>b'Cra'</td>\n",
       "      <td>1.0</td>\n",
       "      <td>b'Central_Hawkes_Bay'</td>\n",
       "      <td>b'N135_382/137'</td>\n",
       "      <td>b'39__38'</td>\n",
       "      <td>100.0</td>\n",
       "      <td>850.0</td>\n",
       "      <td>-2.0</td>\n",
       "      <td>1980.0</td>\n",
       "      <td>b'fr'</td>\n",
       "      <td>1487.0</td>\n",
       "      <td>13.15</td>\n",
       "      <td>9.65</td>\n",
       "      <td>90.0</td>\n",
       "      <td>4.5</td>\n",
       "      <td>4.0</td>\n",
       "      <td>3.5</td>\n",
       "      <td>3.5</td>\n",
       "      <td>3.0</td>\n",
       "      <td>b'best'</td>\n",
       "    </tr>\n",
       "    <tr>\n",
       "      <th>2</th>\n",
       "      <td>b'Cra'</td>\n",
       "      <td>1.0</td>\n",
       "      <td>b'Central_Hawkes_Bay'</td>\n",
       "      <td>b'N135_382/137'</td>\n",
       "      <td>b'39__38'</td>\n",
       "      <td>100.0</td>\n",
       "      <td>850.0</td>\n",
       "      <td>-2.0</td>\n",
       "      <td>1980.0</td>\n",
       "      <td>b'ma'</td>\n",
       "      <td>1362.0</td>\n",
       "      <td>10.32</td>\n",
       "      <td>6.50</td>\n",
       "      <td>50.0</td>\n",
       "      <td>2.3</td>\n",
       "      <td>2.5</td>\n",
       "      <td>3.0</td>\n",
       "      <td>3.5</td>\n",
       "      <td>3.0</td>\n",
       "      <td>b'low'</td>\n",
       "    </tr>\n",
       "    <tr>\n",
       "      <th>3</th>\n",
       "      <td>b'Cra'</td>\n",
       "      <td>1.0</td>\n",
       "      <td>b'Central_Hawkes_Bay'</td>\n",
       "      <td>b'N135_382/137'</td>\n",
       "      <td>b'39__38'</td>\n",
       "      <td>100.0</td>\n",
       "      <td>850.0</td>\n",
       "      <td>-2.0</td>\n",
       "      <td>1980.0</td>\n",
       "      <td>b'nd'</td>\n",
       "      <td>1596.0</td>\n",
       "      <td>14.80</td>\n",
       "      <td>9.48</td>\n",
       "      <td>70.0</td>\n",
       "      <td>3.7</td>\n",
       "      <td>3.0</td>\n",
       "      <td>3.3</td>\n",
       "      <td>4.0</td>\n",
       "      <td>3.5</td>\n",
       "      <td>b'good'</td>\n",
       "    </tr>\n",
       "    <tr>\n",
       "      <th>4</th>\n",
       "      <td>b'Cra'</td>\n",
       "      <td>1.0</td>\n",
       "      <td>b'Central_Hawkes_Bay'</td>\n",
       "      <td>b'N135_382/137'</td>\n",
       "      <td>b'39__38'</td>\n",
       "      <td>100.0</td>\n",
       "      <td>850.0</td>\n",
       "      <td>-2.0</td>\n",
       "      <td>1980.0</td>\n",
       "      <td>b'ni'</td>\n",
       "      <td>2088.0</td>\n",
       "      <td>14.50</td>\n",
       "      <td>10.78</td>\n",
       "      <td>90.0</td>\n",
       "      <td>4.0</td>\n",
       "      <td>2.7</td>\n",
       "      <td>3.3</td>\n",
       "      <td>3.0</td>\n",
       "      <td>3.0</td>\n",
       "      <td>b'good'</td>\n",
       "    </tr>\n",
       "  </tbody>\n",
       "</table>\n",
       "</div>"
      ],
      "text/plain": [
       "   Abbrev  Rep               Locality          Map_Ref   Latitude  Altitude  Rainfall  Frosts    Year     Sp   PMCno    DBH     Ht  Surv  Vig  Ins_res  Stem_Fm  Crown_Fm  Brnch_Fm  Utility\n",
       "0  b'Cra'  1.0  b'Central_Hawkes_Bay'  b'N135_382/137'  b'39__38'     100.0     850.0    -2.0  1980.0  b'co'  1520.0  18.45   9.96  40.0  4.0      3.0      3.5       4.0       3.5  b'good'\n",
       "1  b'Cra'  1.0  b'Central_Hawkes_Bay'  b'N135_382/137'  b'39__38'     100.0     850.0    -2.0  1980.0  b'fr'  1487.0  13.15   9.65  90.0  4.5      4.0      3.5       3.5       3.0  b'best'\n",
       "2  b'Cra'  1.0  b'Central_Hawkes_Bay'  b'N135_382/137'  b'39__38'     100.0     850.0    -2.0  1980.0  b'ma'  1362.0  10.32   6.50  50.0  2.3      2.5      3.0       3.5       3.0   b'low'\n",
       "3  b'Cra'  1.0  b'Central_Hawkes_Bay'  b'N135_382/137'  b'39__38'     100.0     850.0    -2.0  1980.0  b'nd'  1596.0  14.80   9.48  70.0  3.7      3.0      3.3       4.0       3.5  b'good'\n",
       "4  b'Cra'  1.0  b'Central_Hawkes_Bay'  b'N135_382/137'  b'39__38'     100.0     850.0    -2.0  1980.0  b'ni'  2088.0  14.50  10.78  90.0  4.0      2.7      3.3       3.0       3.0  b'good'"
      ]
     },
     "execution_count": 69,
     "metadata": {},
     "output_type": "execute_result"
    }
   ],
   "source": [
    "df.head()"
   ]
  },
  {
   "cell_type": "code",
   "execution_count": 70,
   "id": "8038c7a3",
   "metadata": {},
   "outputs": [
    {
     "data": {
      "text/plain": [
       "(736, 20)"
      ]
     },
     "execution_count": 70,
     "metadata": {},
     "output_type": "execute_result"
    }
   ],
   "source": [
    "# 736 instances, 20 features\n",
    "df.shape"
   ]
  },
  {
   "cell_type": "code",
   "execution_count": 71,
   "id": "d2941656",
   "metadata": {},
   "outputs": [
    {
     "data": {
      "text/plain": [
       "736"
      ]
     },
     "execution_count": 71,
     "metadata": {},
     "output_type": "execute_result"
    }
   ],
   "source": [
    "# check for duplicates\n",
    "len(df.drop_duplicates())"
   ]
  },
  {
   "cell_type": "markdown",
   "id": "13766f40",
   "metadata": {},
   "source": [
    "-> no duplicates"
   ]
  },
  {
   "cell_type": "code",
   "execution_count": 72,
   "id": "ea16f488",
   "metadata": {},
   "outputs": [
    {
     "data": {
      "text/plain": [
       "Abbrev       0\n",
       "Rep          0\n",
       "Locality     0\n",
       "Map_Ref      0\n",
       "Latitude     0\n",
       "Altitude     0\n",
       "Rainfall     0\n",
       "Frosts       0\n",
       "Year         0\n",
       "Sp           0\n",
       "PMCno        7\n",
       "DBH          1\n",
       "Ht           1\n",
       "Surv        94\n",
       "Vig         69\n",
       "Ins_res     69\n",
       "Stem_Fm     69\n",
       "Crown_Fm    69\n",
       "Brnch_Fm    69\n",
       "Utility      0\n",
       "dtype: int64"
      ]
     },
     "execution_count": 72,
     "metadata": {},
     "output_type": "execute_result"
    }
   ],
   "source": [
    "# we have some instances with missing values\n",
    "df.isna().sum()"
   ]
  },
  {
   "cell_type": "code",
   "execution_count": 73,
   "id": "8c374cb7",
   "metadata": {},
   "outputs": [
    {
     "name": "stdout",
     "output_type": "stream",
     "text": [
      "[b'good' b'best' b'low' b'average' b'none']\n",
      "\n",
      "Number of unique classes:  5\n"
     ]
    }
   ],
   "source": [
    "uniq_classes = df['Utility'].unique()\n",
    "\n",
    "print(uniq_classes)\n",
    "print(\"\\nNumber of unique classes: \", len(uniq_classes))"
   ]
  },
  {
   "cell_type": "code",
   "execution_count": 74,
   "id": "cbd466ff",
   "metadata": {},
   "outputs": [
    {
     "data": {
      "text/plain": [
       "Abbrev       16\n",
       "Rep           4\n",
       "Locality      8\n",
       "Map_Ref      14\n",
       "Latitude     12\n",
       "Altitude      9\n",
       "Rainfall     10\n",
       "Frosts        2\n",
       "Year          5\n",
       "Sp           27\n",
       "PMCno        85\n",
       "DBH         603\n",
       "Ht          531\n",
       "Surv         47\n",
       "Vig          33\n",
       "Ins_res      28\n",
       "Stem_Fm      26\n",
       "Crown_Fm     29\n",
       "Brnch_Fm     28\n",
       "Utility       5\n",
       "dtype: int64"
      ]
     },
     "execution_count": 74,
     "metadata": {},
     "output_type": "execute_result"
    }
   ],
   "source": [
    "#count unique values in each column\n",
    "df.nunique()"
   ]
  },
  {
   "cell_type": "markdown",
   "id": "9cc2a0e7",
   "metadata": {},
   "source": [
    "Statistics:\n",
    "\n",
    "- number of instances: 736\n",
    "- number of features: 20\n",
    "- number of classes: 5\n",
    "- number of missing values: 448\n",
    "- number of instances with missing values: 95\n",
    "- number of numeric features: 14\n",
    "- number of symbolic features: 6\n",
    "\n",
    "Dataset contains numeric and nominal data types."
   ]
  },
  {
   "cell_type": "code",
   "execution_count": 75,
   "id": "b93f96af",
   "metadata": {},
   "outputs": [
    {
     "name": "stderr",
     "output_type": "stream",
     "text": [
      "C:\\Users\\stefa\\AppData\\Local\\Temp\\ipykernel_14116\\2225569098.py:2: FutureWarning: The default value of numeric_only in DataFrame.corr is deprecated. In a future version, it will default to False. Select only valid columns or specify the value of numeric_only to silence this warning.\n",
      "  corr = df.corr()\n",
      "C:\\Users\\stefa\\AppData\\Local\\Temp\\ipykernel_14116\\2225569098.py:3: DeprecationWarning: `np.bool` is a deprecated alias for the builtin `bool`. To silence this warning, use `bool` by itself. Doing this will not modify any behavior and is safe. If you specifically wanted the numpy scalar type, use `np.bool_` here.\n",
      "Deprecated in NumPy 1.20; for more details and guidance: https://numpy.org/devdocs/release/1.20.0-notes.html#deprecations\n",
      "  sns.heatmap(corr, mask=np.zeros_like(corr, dtype=np.bool),\n"
     ]
    },
    {
     "data": {
      "text/plain": [
       "<AxesSubplot: >"
      ]
     },
     "execution_count": 75,
     "metadata": {},
     "output_type": "execute_result"
    },
    {
     "data": {
      "image/png": "[encoded data removed]",
      "text/plain": [
       "<Figure size 1000x800 with 2 Axes>"
      ]
     },
     "metadata": {},
     "output_type": "display_data"
    }
   ],
   "source": [
    "f, ax = plt.subplots(figsize=(10, 8))\n",
    "corr = df.corr()\n",
    "sns.heatmap(corr, mask=np.zeros_like(corr, dtype=np.bool),\n",
    "            cmap=sns.diverging_palette(220, 10, as_cmap=True),\n",
    "            square=True, ax=ax)"
   ]
  },
  {
   "cell_type": "code",
   "execution_count": 76,
   "id": "d7283341",
   "metadata": {},
   "outputs": [
    {
     "data": {
      "text/plain": [
       "b'good'       214\n",
       "b'none'       180\n",
       "b'average'    130\n",
       "b'low'        107\n",
       "b'best'       105\n",
       "Name: Utility, dtype: int64"
      ]
     },
     "execution_count": 76,
     "metadata": {},
     "output_type": "execute_result"
    },
    {
     "data": {
      "image/png": "[encoded data removed]",
      "text/plain": [
       "<Figure size 640x480 with 1 Axes>"
      ]
     },
     "metadata": {},
     "output_type": "display_data"
    }
   ],
   "source": [
    "# check class distribution\n",
    "df['Utility'].hist()\n",
    "\n",
    "df['Utility'].value_counts()"
   ]
  },
  {
   "cell_type": "markdown",
   "id": "5f3f55d9",
   "metadata": {},
   "source": [
    "## Preprocessing"
   ]
  },
  {
   "cell_type": "code",
   "execution_count": 184,
   "id": "282079b6",
   "metadata": {},
   "outputs": [],
   "source": [
    "# import libs\n",
    "from sklearn.model_selection import train_test_split, cross_val_score\n",
    "from sklearn.decomposition import PCA\n",
    "from sklearn.preprocessing import StandardScaler, RobustScaler, MinMaxScaler, LabelEncoder\n",
    "from sklearn.impute import SimpleImputer"
   ]
  },
  {
   "cell_type": "code",
   "execution_count": 185,
   "id": "c91c9086",
   "metadata": {},
   "outputs": [],
   "source": [
    "nominal_features = [\"Abbrev\", \"Locality\", \"Map_Ref\", \"Latitude\", \"Sp\"]\n",
    "numeric_features = [\"Rep\", \"Altitude\", \"Rainfall\", \"Frosts\", \"Year\", \"PMCno\", \"DBH\", \n",
    "                    \"Ht\", \"Surv\", \"Vig\", \"Ins_res\", \"Stem_Fm\", \"Crown_Fm\", \"Brnch_Fm\"]"
   ]
  },
  {
   "cell_type": "code",
   "execution_count": 186,
   "id": "ed17925a",
   "metadata": {},
   "outputs": [],
   "source": [
    "df = pd.DataFrame(raw_data[0])"
   ]
  },
  {
   "cell_type": "markdown",
   "id": "49888675",
   "metadata": {},
   "source": [
    "#### Impute missing values"
   ]
  },
  {
   "cell_type": "code",
   "execution_count": 187,
   "id": "3712d6e2",
   "metadata": {},
   "outputs": [],
   "source": [
    "df_imp = df.copy()\n",
    "imp = SimpleImputer(missing_values=np.nan, strategy='mean')\n",
    "numeric_columns = df_imp.select_dtypes(include='number').columns\n",
    "imp = SimpleImputer(missing_values=np.nan, strategy='mean')\n",
    "df_imp[numeric_columns] = pd.DataFrame(imp.fit_transform(df_imp[numeric_columns]), columns=numeric_columns)"
   ]
  },
  {
   "cell_type": "markdown",
   "id": "e72b58a1",
   "metadata": {},
   "source": [
    "#### Drop instances with missing values"
   ]
  },
  {
   "cell_type": "code",
   "execution_count": 188,
   "id": "1d72b34f",
   "metadata": {},
   "outputs": [
    {
     "data": {
      "text/plain": [
       "(641, 20)"
      ]
     },
     "execution_count": 188,
     "metadata": {},
     "output_type": "execute_result"
    }
   ],
   "source": [
    "df = df.dropna()\n",
    "\n",
    "# 736 -> 641 instances\n",
    "df.shape"
   ]
  },
  {
   "cell_type": "code",
   "execution_count": 189,
   "id": "1f0f02f1",
   "metadata": {},
   "outputs": [
    {
     "data": {
      "text/plain": [
       "(736, 20)"
      ]
     },
     "execution_count": 189,
     "metadata": {},
     "output_type": "execute_result"
    }
   ],
   "source": [
    "df_imp.shape"
   ]
  },
  {
   "cell_type": "code",
   "execution_count": 174,
   "id": "de03c966",
   "metadata": {},
   "outputs": [
    {
     "data": {
      "text/plain": [
       "<AxesSubplot: >"
      ]
     },
     "execution_count": 174,
     "metadata": {},
     "output_type": "execute_result"
    },
    {
     "data": {
      "image/png": "[encoded data removed]",
      "text/plain": [
       "<Figure size 640x480 with 1 Axes>"
      ]
     },
     "metadata": {},
     "output_type": "display_data"
    }
   ],
   "source": [
    "# class distribution after dropping NA\n",
    "df['Utility'].hist()"
   ]
  },
  {
   "cell_type": "code",
   "execution_count": 175,
   "id": "89eec941",
   "metadata": {},
   "outputs": [
    {
     "data": {
      "text/plain": [
       "<AxesSubplot: >"
      ]
     },
     "execution_count": 175,
     "metadata": {},
     "output_type": "execute_result"
    },
    {
     "data": {
      "image/png": "[encoded data removed]",
      "text/plain": [
       "<Figure size 640x480 with 1 Axes>"
      ]
     },
     "metadata": {},
     "output_type": "display_data"
    }
   ],
   "source": [
    "df_imp['Utility'].hist()"
   ]
  },
  {
   "cell_type": "markdown",
   "id": "98da60a2",
   "metadata": {},
   "source": [
    "#### Split features and labels"
   ]
  },
  {
   "cell_type": "code",
   "execution_count": 190,
   "id": "96db89bb",
   "metadata": {},
   "outputs": [],
   "source": [
    "X = df.drop(columns=['Utility'])\n",
    "y = df['Utility']\n",
    "\n",
    "X_imp = df_imp.drop(columns=['Utility'])\n",
    "y_imp = df_imp['Utility']"
   ]
  },
  {
   "cell_type": "markdown",
   "id": "b50e5330",
   "metadata": {},
   "source": [
    "#### Encoding"
   ]
  },
  {
   "cell_type": "code",
   "execution_count": 191,
   "id": "456d2b99",
   "metadata": {},
   "outputs": [],
   "source": [
    "# transform all nominal features using one-hot encoding technique\n",
    "one_hot = pd.get_dummies(X[nominal_features])\n",
    "X = X.drop(columns=nominal_features).join(one_hot)\n",
    "\n",
    "one_hot_imp = pd.get_dummies(X_imp[nominal_features])\n",
    "X_imp = X_imp.drop(columns=nominal_features).join(one_hot_imp)"
   ]
  },
  {
   "cell_type": "code",
   "execution_count": 192,
   "id": "0adc0413",
   "metadata": {},
   "outputs": [],
   "source": [
    "# also transform target calss values using 1hot encoding because it is multi-class prediction\n",
    "y = pd.get_dummies(y).to_numpy()\n",
    "y_imp = pd.get_dummies(y_imp).to_numpy()"
   ]
  },
  {
   "cell_type": "code",
   "execution_count": 193,
   "id": "fd2c90ed",
   "metadata": {},
   "outputs": [
    {
     "data": {
      "text/plain": [
       "(641, 78)"
      ]
     },
     "execution_count": 193,
     "metadata": {},
     "output_type": "execute_result"
    }
   ],
   "source": [
    "X.shape"
   ]
  },
  {
   "cell_type": "code",
   "execution_count": 194,
   "id": "540eafdc",
   "metadata": {},
   "outputs": [
    {
     "data": {
      "text/plain": [
       "(736, 91)"
      ]
     },
     "execution_count": 194,
     "metadata": {},
     "output_type": "execute_result"
    }
   ],
   "source": [
    "X_imp.shape"
   ]
  },
  {
   "cell_type": "markdown",
   "id": "4b45933f",
   "metadata": {},
   "source": [
    "#### Split train and test data"
   ]
  },
  {
   "cell_type": "code",
   "execution_count": 182,
   "id": "0e869819",
   "metadata": {},
   "outputs": [],
   "source": [
    "X_train, X_test, y_train, y_test = train_test_split(X, y, test_size=0.3, random_state=42)"
   ]
  },
  {
   "cell_type": "markdown",
   "id": "d0309c4e",
   "metadata": {},
   "source": [
    "#### Scaling"
   ]
  },
  {
   "cell_type": "code",
   "execution_count": 62,
   "id": "dc0bf282",
   "metadata": {},
   "outputs": [],
   "source": [
    "sc = StandardScaler()\n",
    "mms = MinMaxScaler()\n",
    "rs = RobustScaler()"
   ]
  },
  {
   "cell_type": "markdown",
   "id": "8e87e268",
   "metadata": {},
   "source": [
    "do scaling of numeric values\n",
    "\n",
    "it is also recommended to do scaling before using PCA\n",
    "\n",
    "Also scaling is needed for the algorithms relying on distance (kNN)"
   ]
  },
  {
   "cell_type": "code",
   "execution_count": null,
   "id": "ce7beb4e",
   "metadata": {},
   "outputs": [],
   "source": [
    "# X_train = sc.fit_transform(X_train)\n",
    "# X_test = sc.transform(X_test)"
   ]
  },
  {
   "cell_type": "code",
   "execution_count": 63,
   "id": "8dbc342d",
   "metadata": {},
   "outputs": [],
   "source": [
    "X_train = mms.fit_transform(X_train)\n",
    "X_test = mms.transform(X_test)"
   ]
  },
  {
   "cell_type": "code",
   "execution_count": null,
   "id": "6d466302",
   "metadata": {},
   "outputs": [],
   "source": [
    "# X_train = rs.fit_transform(X_train)\n",
    "# X_test = rs.transform(X_test)"
   ]
  },
  {
   "cell_type": "markdown",
   "id": "6fe3f224",
   "metadata": {},
   "source": [
    "#### PCA"
   ]
  },
  {
   "cell_type": "markdown",
   "id": "42c72f86",
   "metadata": {},
   "source": [
    "Do data scaling before applying PCA"
   ]
  },
  {
   "cell_type": "code",
   "execution_count": 28,
   "id": "8ade549d",
   "metadata": {},
   "outputs": [],
   "source": [
    "scalers = [None, StandardScaler(), MinMaxScaler(), RobustScaler()]\n",
    "n_comp = 50\n",
    "\n",
    "def show_pca_plots(X_pca, y_pca):\n",
    "    for scaler in scalers:\n",
    "        X_train, X_test, y_train, y_test = train_test_split(X_pca, y_pca, test_size=0.3, random_state=42)\n",
    "\n",
    "        if scaler != None:\n",
    "            X_train = scaler.fit_transform(X_train)\n",
    "            X_test = scaler.transform(X_test)\n",
    "\n",
    "        pca = PCA(n_components=n_comp)\n",
    "\n",
    "        # fit only train data\n",
    "        pca.fit(X_train)\n",
    "\n",
    "        pc_values = np.arange(pca.n_components_) + 1\n",
    "\n",
    "        plt.plot(pc_values, pca.explained_variance_ratio_, 'o-', linewidth=1, color='blue')\n",
    "        plt.title('Scree Plot - ' + str(scaler))\n",
    "        plt.xlabel('Principal Component')\n",
    "        plt.ylabel('Variance Explained')\n",
    "        plt.show()"
   ]
  },
  {
   "cell_type": "code",
   "execution_count": 47,
   "id": "2665f31c",
   "metadata": {},
   "outputs": [
    {
     "data": {
      "image/png": "[encoded data removed]",
      "text/plain": [
       "<Figure size 640x480 with 1 Axes>"
      ]
     },
     "metadata": {},
     "output_type": "display_data"
    },
    {
     "data": {
      "image/png": "[encoded data removed]",
      "text/plain": [
       "<Figure size 640x480 with 1 Axes>"
      ]
     },
     "metadata": {},
     "output_type": "display_data"
    },
    {
     "data": {
      "image/png": "[encoded data removed]",
      "text/plain": [
       "<Figure size 640x480 with 1 Axes>"
      ]
     },
     "metadata": {},
     "output_type": "display_data"
    },
    {
     "data": {
      "image/png": "[encoded data removed]",
      "text/plain": [
       "<Figure size 640x480 with 1 Axes>"
      ]
     },
     "metadata": {},
     "output_type": "display_data"
    }
   ],
   "source": [
    "show_pca_plots(X_train, y_train)"
   ]
  },
  {
   "cell_type": "markdown",
   "id": "f0e0f923",
   "metadata": {},
   "source": [
    "-> From plots it can be seen that reducing the dimensionality may remove features that bring some value. Therefore it won't be used"
   ]
  },
  {
   "cell_type": "markdown",
   "id": "3477afdd",
   "metadata": {},
   "source": [
    "## Model Development"
   ]
  },
  {
   "cell_type": "markdown",
   "id": "4f7708c6",
   "metadata": {},
   "source": [
    "Do hypterparameter tuning on different classifiers using randomized search CV algorithm in order to find best model parameters"
   ]
  },
  {
   "cell_type": "code",
   "execution_count": 64,
   "id": "7d7bba6d",
   "metadata": {},
   "outputs": [],
   "source": [
    "# import libraries from sklearn\n",
    "from sklearn.neighbors import KNeighborsClassifier\n",
    "from sklearn.ensemble import RandomForestClassifier\n",
    "from sklearn.neural_network import MLPClassifier\n",
    "\n",
    "from sklearn.metrics import accuracy_score, confusion_matrix, ConfusionMatrixDisplay\n",
    "from sklearn.model_selection import RandomizedSearchCV\n",
    "from sklearn.pipeline import Pipeline"
   ]
  },
  {
   "cell_type": "markdown",
   "id": "27cc2f79",
   "metadata": {},
   "source": [
    "#### KNN"
   ]
  },
  {
   "cell_type": "code",
   "execution_count": 65,
   "id": "0f7c8f0d",
   "metadata": {},
   "outputs": [
    {
     "name": "stdout",
     "output_type": "stream",
     "text": [
      "[KNN] Best Score: 0.45242718446601937\n",
      "[KNN] Best Hyperparameters: {'n_neighbors': 3}\n",
      "[KNN] Accurracy:  0.42081447963800905\n"
     ]
    }
   ],
   "source": [
    "knn = KNeighborsClassifier()\n",
    "\n",
    "knn_params = {\n",
    "    'n_neighbors': [3, 5, 7, 9, 11, 13, 15]\n",
    "}\n",
    "\n",
    "knn_search = RandomizedSearchCV(knn, knn_params, n_iter=7, scoring='accuracy', cv=5, random_state=1)\n",
    "knn_result = knn_search.fit(X_train, y_train)\n",
    "\n",
    "print('[KNN] Best Score: %s' % knn_result.best_score_)\n",
    "print('[KNN] Best Hyperparameters: %s' % knn_result.best_params_)\n",
    "\n",
    "y_pred = knn_search.predict(X_test)\n",
    "\n",
    "print(\"[KNN] Accurracy: \", accuracy_score(y_test, y_pred))"
   ]
  },
  {
   "cell_type": "markdown",
   "id": "68e9071e",
   "metadata": {},
   "source": [
    "#### Random Forest"
   ]
  },
  {
   "cell_type": "code",
   "execution_count": 66,
   "id": "7fb641da",
   "metadata": {},
   "outputs": [
    {
     "name": "stdout",
     "output_type": "stream",
     "text": [
      "[RF] Best Score: 0.48543689320388345\n",
      "[RF] Best Hyperparameters: {'n_estimators': 125}\n",
      "[RF] Accurracy:  0.46153846153846156\n"
     ]
    }
   ],
   "source": [
    "rf = RandomForestClassifier()\n",
    "\n",
    "rf_params = {\n",
    "    'n_estimators': [100, 125, 150, 175, 200, 250, 300, 350],\n",
    "}\n",
    "\n",
    "rf_search = RandomizedSearchCV(rf, rf_params, n_iter=8, scoring='accuracy', n_jobs=-1, cv=5, random_state=1)\n",
    "rf_result = rf_search.fit(X_train, y_train)\n",
    "\n",
    "print('[RF] Best Score: %s' % rf_result.best_score_)\n",
    "print('[RF] Best Hyperparameters: %s' % rf_result.best_params_)\n",
    "\n",
    "y_pred = rf_search.predict(X_test)\n",
    "\n",
    "print(\"[RF] Accurracy: \", accuracy_score(y_test, y_pred))"
   ]
  },
  {
   "cell_type": "code",
   "execution_count": 183,
   "id": "aeab8ac5",
   "metadata": {},
   "outputs": [
    {
     "data": {
      "text/plain": [
       "Text(0.5, 1.0, 'Importance of attributes in RF Classifier')"
      ]
     },
     "execution_count": 183,
     "metadata": {},
     "output_type": "execute_result"
    },
    {
     "data": {
      "image/png": "[encoded data removed]",
      "text/plain": [
       "<Figure size 640x480 with 1 Axes>"
      ]
     },
     "metadata": {},
     "output_type": "display_data"
    }
   ],
   "source": [
    "# creating the rf model, to plot the importance of attributes\n",
    "\n",
    "model = RandomForestClassifier(n_estimators=125)\n",
    "model.fit(X_train, y_train)\n",
    "\n",
    "plt.barh(X.columns, model.feature_importances_)\n",
    "plt.rcParams[\"figure.figsize\"] = (60,30)\n",
    "plt.title(\"Importance of attributes in RF Classifier\")"
   ]
  },
  {
   "cell_type": "markdown",
   "id": "d2469030",
   "metadata": {},
   "source": [
    "#### MLP"
   ]
  },
  {
   "cell_type": "code",
   "execution_count": 67,
   "id": "f4b44034",
   "metadata": {},
   "outputs": [
    {
     "name": "stdout",
     "output_type": "stream",
     "text": [
      "[MLP] Best Score: 0.5980582524271844\n",
      "[MLP] Best Hyperparameters: {'solver': 'lbfgs', 'max_iter': 1000, 'learning_rate_init': 0.003, 'hidden_layer_sizes': (200, 100), 'alpha': 0.0003, 'activation': 'logistic'}\n",
      "[MLP] Accurracy:  0.5656108597285068\n"
     ]
    }
   ],
   "source": [
    "mlp = MLPClassifier()\n",
    "\n",
    "mlp_params = {\n",
    "    'hidden_layer_sizes': [(400, 200), (300, 150), (200, 100), (400), (300), (200), (100)],\n",
    "    'alpha': [0.0001, 0.0002, 0.0003],\n",
    "    'learning_rate_init': [0.001, 0.002, 0.003],\n",
    "    'max_iter': [1000],\n",
    "    'activation' : ['relu', 'tanh', 'identity', 'logistic'],\n",
    "    'solver': ['adam', 'lbfgs']\n",
    "}\n",
    "\n",
    "mlp_search = RandomizedSearchCV(mlp, mlp_params, n_iter=50, scoring='accuracy', n_jobs=-1, cv=5, random_state=1)\n",
    "mlp_result = mlp_search.fit(X_train, y_train)\n",
    "\n",
    "print('[MLP] Best Score: %s' % mlp_result.best_score_)\n",
    "print('[MLP] Best Hyperparameters: %s' % mlp_result.best_params_)\n",
    "\n",
    "y_pred = mlp_search.predict(X_test)\n",
    "\n",
    "print(\"[MLP] Accurracy: \", accuracy_score(y_test, y_pred))"
   ]
  },
  {
   "cell_type": "markdown",
   "id": "275022b7",
   "metadata": {},
   "source": [
    "## Model Comparison"
   ]
  },
  {
   "cell_type": "code",
   "execution_count": 195,
   "id": "19845e28",
   "metadata": {},
   "outputs": [],
   "source": [
    "# impor libraries\n",
    "from sklearn.metrics import accuracy_score\n",
    "from sklearn.metrics import precision_score\n",
    "from sklearn.metrics import f1_score\n",
    "from sklearn.metrics import recall_score\n",
    "from sklearn.metrics import make_scorer\n",
    "from sklearn.model_selection import cross_val_score"
   ]
  },
  {
   "cell_type": "code",
   "execution_count": 199,
   "id": "4f8137f3",
   "metadata": {},
   "outputs": [],
   "source": [
    "cols = [\"algorithm\", \"scaler\", \"val\", \"accuracy\", \"precision\", \"recall\", \"f1\", \"elapsed_time (sec)\"]\n",
    "\n",
    "classifiers = [\n",
    "    KNeighborsClassifier(n_neighbors=3),\n",
    "    RandomForestClassifier(n_estimators=125),\n",
    "    MLPClassifier(solver='lbfgs',\n",
    "                  hidden_layer_sizes=(200, 100),\n",
    "                  activation='logistic',\n",
    "                  alpha=0.0003,\n",
    "                  learning_rate_init=0.003,\n",
    "                  max_iter=1000)\n",
    "]\n",
    "\n",
    "scalers = [\n",
    "    StandardScaler(),\n",
    "    MinMaxScaler(),\n",
    "    RobustScaler(),\n",
    "    None\n",
    "]\n",
    "\n",
    "validation = ['cv', 'holdout']\n",
    "\n",
    "\n",
    "def do_comparison(data):\n",
    "    for classifier in classifiers:\n",
    "        for scaler in scalers:\n",
    "            for validation_method in validation:\n",
    "                steps = [\n",
    "                    ('scaler', scaler),\n",
    "                    ('reduce_dim', PCA()),\n",
    "                    ('clf', classifier)\n",
    "                ]\n",
    "\n",
    "                pipeline = Pipeline(steps)\n",
    "                algorithm = classifier\n",
    "\n",
    "                if validation_method == 'holdout':\n",
    "                    # --------------------------------\n",
    "                    st = time.time()\n",
    "                    # ------------\n",
    "                    pipeline.fit(X_train, y_train)   \n",
    "                    # ------------\n",
    "                    et = time.time()\n",
    "                    # --------------------------------\n",
    "\n",
    "                    y_pred = pipeline.predict(X_test)\n",
    "\n",
    "                    accuracy = accuracy_score(y_test, y_pred)\n",
    "                    precision = precision_score(y_test, y_pred, average='macro', zero_division=0)\n",
    "                    recall = recall_score(y_test, y_pred, average='macro', zero_division=0)\n",
    "                    f1 = f1_score(y_test, y_pred, average='macro', zero_division=0)\n",
    "                    elapsed_time = et - st\n",
    "\n",
    "                    new_row = pd.DataFrame({\n",
    "                        \"algorithm\": str(algorithm),\n",
    "                        \"scaler\": str(scaler),\n",
    "                        \"val\": 'holdout',\n",
    "                        \"accuracy\": accuracy,\n",
    "                        \"precision\":precision,\n",
    "                        \"recall\":recall,\n",
    "                        \"f1\": f1,\n",
    "                        \"elapsed_time (sec)\": elapsed_time}, index=[0])\n",
    "\n",
    "                    data = pd.concat([new_row, data.loc[:]]).reset_index(drop=True)\n",
    "\n",
    "                elif validation_method == 'cv':\n",
    "                    # --------------------------------\n",
    "                    st = time.time()\n",
    "                    # ------------\n",
    "                    accuracy_scores = cross_val_score(pipeline, X, y, cv=5, scoring=\"accuracy\")\n",
    "                    # ------------\n",
    "                    et = time.time()\n",
    "                    # --------------------------------\n",
    "\n",
    "                    elapsed_time = et - st\n",
    "\n",
    "                    precision_scores = cross_val_score(pipeline, X, y, cv=5, scoring=make_scorer(precision_score, average='macro', zero_division=0))\n",
    "                    recall_scores = cross_val_score(pipeline, X, y, cv=5, scoring=make_scorer(recall_score, average='macro', zero_division=0))\n",
    "                    f1_scores = cross_val_score(pipeline, X, y, cv=5, scoring=make_scorer(f1_score, average='macro', zero_division=0))\n",
    "\n",
    "                    new_row = pd.DataFrame({\n",
    "                        \"algorithm\": str(algorithm),\n",
    "                        \"scaler\": str(scaler),\n",
    "                        \"val\": 'cv',\n",
    "                        \"accuracy\": accuracy_scores.mean(),\n",
    "                        \"precision\":precision_scores.mean(),\n",
    "                        \"recall\":recall_scores.mean(),\n",
    "                        \"f1\": f1_scores.mean(),\n",
    "                        \"elapsed_time (sec)\": elapsed_time}, index=[0])\n",
    "\n",
    "                    data = pd.concat([new_row, data.loc[:]]).reset_index(drop=True)\n",
    "    return data"
   ]
  },
  {
   "cell_type": "code",
   "execution_count": 200,
   "id": "172bc894",
   "metadata": {},
   "outputs": [
    {
     "name": "stderr",
     "output_type": "stream",
     "text": [
      "D:\\TU Wien\\Semester 3\\ML\\Assignement 1\\env\\lib\\site-packages\\sklearn\\neural_network\\_multilayer_perceptron.py:559: ConvergenceWarning: lbfgs failed to converge (status=1):\n",
      "STOP: TOTAL NO. of ITERATIONS REACHED LIMIT.\n",
      "\n",
      "Increase the number of iterations (max_iter) or scale the data as shown in:\n",
      "    https://scikit-learn.org/stable/modules/preprocessing.html\n",
      "  self.n_iter_ = _check_optimize_result(\"lbfgs\", opt_res, self.max_iter)\n",
      "D:\\TU Wien\\Semester 3\\ML\\Assignement 1\\env\\lib\\site-packages\\sklearn\\neural_network\\_multilayer_perceptron.py:559: ConvergenceWarning: lbfgs failed to converge (status=1):\n",
      "STOP: TOTAL NO. of ITERATIONS REACHED LIMIT.\n",
      "\n",
      "Increase the number of iterations (max_iter) or scale the data as shown in:\n",
      "    https://scikit-learn.org/stable/modules/preprocessing.html\n",
      "  self.n_iter_ = _check_optimize_result(\"lbfgs\", opt_res, self.max_iter)\n",
      "D:\\TU Wien\\Semester 3\\ML\\Assignement 1\\env\\lib\\site-packages\\sklearn\\neural_network\\_multilayer_perceptron.py:559: ConvergenceWarning: lbfgs failed to converge (status=1):\n",
      "STOP: TOTAL NO. of ITERATIONS REACHED LIMIT.\n",
      "\n",
      "Increase the number of iterations (max_iter) or scale the data as shown in:\n",
      "    https://scikit-learn.org/stable/modules/preprocessing.html\n",
      "  self.n_iter_ = _check_optimize_result(\"lbfgs\", opt_res, self.max_iter)\n",
      "D:\\TU Wien\\Semester 3\\ML\\Assignement 1\\env\\lib\\site-packages\\sklearn\\neural_network\\_multilayer_perceptron.py:559: ConvergenceWarning: lbfgs failed to converge (status=1):\n",
      "STOP: TOTAL NO. of ITERATIONS REACHED LIMIT.\n",
      "\n",
      "Increase the number of iterations (max_iter) or scale the data as shown in:\n",
      "    https://scikit-learn.org/stable/modules/preprocessing.html\n",
      "  self.n_iter_ = _check_optimize_result(\"lbfgs\", opt_res, self.max_iter)\n",
      "D:\\TU Wien\\Semester 3\\ML\\Assignement 1\\env\\lib\\site-packages\\sklearn\\neural_network\\_multilayer_perceptron.py:559: ConvergenceWarning: lbfgs failed to converge (status=1):\n",
      "STOP: TOTAL NO. of ITERATIONS REACHED LIMIT.\n",
      "\n",
      "Increase the number of iterations (max_iter) or scale the data as shown in:\n",
      "    https://scikit-learn.org/stable/modules/preprocessing.html\n",
      "  self.n_iter_ = _check_optimize_result(\"lbfgs\", opt_res, self.max_iter)\n",
      "D:\\TU Wien\\Semester 3\\ML\\Assignement 1\\env\\lib\\site-packages\\sklearn\\neural_network\\_multilayer_perceptron.py:559: ConvergenceWarning: lbfgs failed to converge (status=1):\n",
      "STOP: TOTAL NO. of ITERATIONS REACHED LIMIT.\n",
      "\n",
      "Increase the number of iterations (max_iter) or scale the data as shown in:\n",
      "    https://scikit-learn.org/stable/modules/preprocessing.html\n",
      "  self.n_iter_ = _check_optimize_result(\"lbfgs\", opt_res, self.max_iter)\n",
      "D:\\TU Wien\\Semester 3\\ML\\Assignement 1\\env\\lib\\site-packages\\sklearn\\neural_network\\_multilayer_perceptron.py:559: ConvergenceWarning: lbfgs failed to converge (status=1):\n",
      "STOP: TOTAL NO. of ITERATIONS REACHED LIMIT.\n",
      "\n",
      "Increase the number of iterations (max_iter) or scale the data as shown in:\n",
      "    https://scikit-learn.org/stable/modules/preprocessing.html\n",
      "  self.n_iter_ = _check_optimize_result(\"lbfgs\", opt_res, self.max_iter)\n",
      "D:\\TU Wien\\Semester 3\\ML\\Assignement 1\\env\\lib\\site-packages\\sklearn\\neural_network\\_multilayer_perceptron.py:559: ConvergenceWarning: lbfgs failed to converge (status=1):\n",
      "STOP: TOTAL NO. of ITERATIONS REACHED LIMIT.\n",
      "\n",
      "Increase the number of iterations (max_iter) or scale the data as shown in:\n",
      "    https://scikit-learn.org/stable/modules/preprocessing.html\n",
      "  self.n_iter_ = _check_optimize_result(\"lbfgs\", opt_res, self.max_iter)\n",
      "D:\\TU Wien\\Semester 3\\ML\\Assignement 1\\env\\lib\\site-packages\\sklearn\\neural_network\\_multilayer_perceptron.py:559: ConvergenceWarning: lbfgs failed to converge (status=1):\n",
      "STOP: TOTAL NO. of ITERATIONS REACHED LIMIT.\n",
      "\n",
      "Increase the number of iterations (max_iter) or scale the data as shown in:\n",
      "    https://scikit-learn.org/stable/modules/preprocessing.html\n",
      "  self.n_iter_ = _check_optimize_result(\"lbfgs\", opt_res, self.max_iter)\n",
      "D:\\TU Wien\\Semester 3\\ML\\Assignement 1\\env\\lib\\site-packages\\sklearn\\neural_network\\_multilayer_perceptron.py:559: ConvergenceWarning: lbfgs failed to converge (status=1):\n",
      "STOP: TOTAL NO. of ITERATIONS REACHED LIMIT.\n",
      "\n",
      "Increase the number of iterations (max_iter) or scale the data as shown in:\n",
      "    https://scikit-learn.org/stable/modules/preprocessing.html\n",
      "  self.n_iter_ = _check_optimize_result(\"lbfgs\", opt_res, self.max_iter)\n",
      "D:\\TU Wien\\Semester 3\\ML\\Assignement 1\\env\\lib\\site-packages\\sklearn\\neural_network\\_multilayer_perceptron.py:559: ConvergenceWarning: lbfgs failed to converge (status=1):\n",
      "STOP: TOTAL NO. of ITERATIONS REACHED LIMIT.\n",
      "\n",
      "Increase the number of iterations (max_iter) or scale the data as shown in:\n",
      "    https://scikit-learn.org/stable/modules/preprocessing.html\n",
      "  self.n_iter_ = _check_optimize_result(\"lbfgs\", opt_res, self.max_iter)\n",
      "D:\\TU Wien\\Semester 3\\ML\\Assignement 1\\env\\lib\\site-packages\\sklearn\\neural_network\\_multilayer_perceptron.py:559: ConvergenceWarning: lbfgs failed to converge (status=1):\n",
      "STOP: TOTAL NO. of ITERATIONS REACHED LIMIT.\n",
      "\n",
      "Increase the number of iterations (max_iter) or scale the data as shown in:\n",
      "    https://scikit-learn.org/stable/modules/preprocessing.html\n",
      "  self.n_iter_ = _check_optimize_result(\"lbfgs\", opt_res, self.max_iter)\n",
      "D:\\TU Wien\\Semester 3\\ML\\Assignement 1\\env\\lib\\site-packages\\sklearn\\neural_network\\_multilayer_perceptron.py:559: ConvergenceWarning: lbfgs failed to converge (status=1):\n",
      "STOP: TOTAL NO. of ITERATIONS REACHED LIMIT.\n",
      "\n",
      "Increase the number of iterations (max_iter) or scale the data as shown in:\n",
      "    https://scikit-learn.org/stable/modules/preprocessing.html\n",
      "  self.n_iter_ = _check_optimize_result(\"lbfgs\", opt_res, self.max_iter)\n",
      "D:\\TU Wien\\Semester 3\\ML\\Assignement 1\\env\\lib\\site-packages\\sklearn\\neural_network\\_multilayer_perceptron.py:559: ConvergenceWarning: lbfgs failed to converge (status=1):\n",
      "STOP: TOTAL NO. of ITERATIONS REACHED LIMIT.\n",
      "\n",
      "Increase the number of iterations (max_iter) or scale the data as shown in:\n",
      "    https://scikit-learn.org/stable/modules/preprocessing.html\n",
      "  self.n_iter_ = _check_optimize_result(\"lbfgs\", opt_res, self.max_iter)\n",
      "D:\\TU Wien\\Semester 3\\ML\\Assignement 1\\env\\lib\\site-packages\\sklearn\\neural_network\\_multilayer_perceptron.py:559: ConvergenceWarning: lbfgs failed to converge (status=1):\n",
      "STOP: TOTAL NO. of ITERATIONS REACHED LIMIT.\n",
      "\n",
      "Increase the number of iterations (max_iter) or scale the data as shown in:\n",
      "    https://scikit-learn.org/stable/modules/preprocessing.html\n",
      "  self.n_iter_ = _check_optimize_result(\"lbfgs\", opt_res, self.max_iter)\n",
      "D:\\TU Wien\\Semester 3\\ML\\Assignement 1\\env\\lib\\site-packages\\sklearn\\neural_network\\_multilayer_perceptron.py:559: ConvergenceWarning: lbfgs failed to converge (status=1):\n",
      "STOP: TOTAL NO. of ITERATIONS REACHED LIMIT.\n",
      "\n",
      "Increase the number of iterations (max_iter) or scale the data as shown in:\n",
      "    https://scikit-learn.org/stable/modules/preprocessing.html\n",
      "  self.n_iter_ = _check_optimize_result(\"lbfgs\", opt_res, self.max_iter)\n",
      "D:\\TU Wien\\Semester 3\\ML\\Assignement 1\\env\\lib\\site-packages\\sklearn\\neural_network\\_multilayer_perceptron.py:559: ConvergenceWarning: lbfgs failed to converge (status=1):\n",
      "STOP: TOTAL NO. of ITERATIONS REACHED LIMIT.\n",
      "\n",
      "Increase the number of iterations (max_iter) or scale the data as shown in:\n",
      "    https://scikit-learn.org/stable/modules/preprocessing.html\n",
      "  self.n_iter_ = _check_optimize_result(\"lbfgs\", opt_res, self.max_iter)\n",
      "D:\\TU Wien\\Semester 3\\ML\\Assignement 1\\env\\lib\\site-packages\\sklearn\\neural_network\\_multilayer_perceptron.py:559: ConvergenceWarning: lbfgs failed to converge (status=1):\n",
      "STOP: TOTAL NO. of ITERATIONS REACHED LIMIT.\n",
      "\n",
      "Increase the number of iterations (max_iter) or scale the data as shown in:\n",
      "    https://scikit-learn.org/stable/modules/preprocessing.html\n",
      "  self.n_iter_ = _check_optimize_result(\"lbfgs\", opt_res, self.max_iter)\n",
      "D:\\TU Wien\\Semester 3\\ML\\Assignement 1\\env\\lib\\site-packages\\sklearn\\neural_network\\_multilayer_perceptron.py:559: ConvergenceWarning: lbfgs failed to converge (status=1):\n",
      "STOP: TOTAL NO. of ITERATIONS REACHED LIMIT.\n",
      "\n",
      "Increase the number of iterations (max_iter) or scale the data as shown in:\n",
      "    https://scikit-learn.org/stable/modules/preprocessing.html\n",
      "  self.n_iter_ = _check_optimize_result(\"lbfgs\", opt_res, self.max_iter)\n",
      "D:\\TU Wien\\Semester 3\\ML\\Assignement 1\\env\\lib\\site-packages\\sklearn\\neural_network\\_multilayer_perceptron.py:559: ConvergenceWarning: lbfgs failed to converge (status=1):\n",
      "STOP: TOTAL NO. of ITERATIONS REACHED LIMIT.\n",
      "\n",
      "Increase the number of iterations (max_iter) or scale the data as shown in:\n",
      "    https://scikit-learn.org/stable/modules/preprocessing.html\n",
      "  self.n_iter_ = _check_optimize_result(\"lbfgs\", opt_res, self.max_iter)\n"
     ]
    },
    {
     "name": "stderr",
     "output_type": "stream",
     "text": [
      "D:\\TU Wien\\Semester 3\\ML\\Assignement 1\\env\\lib\\site-packages\\sklearn\\neural_network\\_multilayer_perceptron.py:559: ConvergenceWarning: lbfgs failed to converge (status=1):\n",
      "STOP: TOTAL NO. of ITERATIONS REACHED LIMIT.\n",
      "\n",
      "Increase the number of iterations (max_iter) or scale the data as shown in:\n",
      "    https://scikit-learn.org/stable/modules/preprocessing.html\n",
      "  self.n_iter_ = _check_optimize_result(\"lbfgs\", opt_res, self.max_iter)\n",
      "D:\\TU Wien\\Semester 3\\ML\\Assignement 1\\env\\lib\\site-packages\\sklearn\\neural_network\\_multilayer_perceptron.py:559: ConvergenceWarning: lbfgs failed to converge (status=1):\n",
      "STOP: TOTAL NO. of ITERATIONS REACHED LIMIT.\n",
      "\n",
      "Increase the number of iterations (max_iter) or scale the data as shown in:\n",
      "    https://scikit-learn.org/stable/modules/preprocessing.html\n",
      "  self.n_iter_ = _check_optimize_result(\"lbfgs\", opt_res, self.max_iter)\n",
      "D:\\TU Wien\\Semester 3\\ML\\Assignement 1\\env\\lib\\site-packages\\sklearn\\neural_network\\_multilayer_perceptron.py:559: ConvergenceWarning: lbfgs failed to converge (status=1):\n",
      "STOP: TOTAL NO. of ITERATIONS REACHED LIMIT.\n",
      "\n",
      "Increase the number of iterations (max_iter) or scale the data as shown in:\n",
      "    https://scikit-learn.org/stable/modules/preprocessing.html\n",
      "  self.n_iter_ = _check_optimize_result(\"lbfgs\", opt_res, self.max_iter)\n"
     ]
    }
   ],
   "source": [
    "# without imputing\n",
    "results = pd.DataFrame(columns = cols)\n",
    "\n",
    "X_train, X_test, y_train, y_test = train_test_split(X, y, test_size=0.3, random_state=42)\n",
    "results = do_comparison(results)"
   ]
  },
  {
   "cell_type": "code",
   "execution_count": 201,
   "id": "ce181d33",
   "metadata": {},
   "outputs": [
    {
     "data": {
      "text/html": [
       "<div>\n",
       "<style scoped>\n",
       "    .dataframe tbody tr th:only-of-type {\n",
       "        vertical-align: middle;\n",
       "    }\n",
       "\n",
       "    .dataframe tbody tr th {\n",
       "        vertical-align: top;\n",
       "    }\n",
       "\n",
       "    .dataframe thead th {\n",
       "        text-align: right;\n",
       "    }\n",
       "</style>\n",
       "<table border=\"1\" class=\"dataframe\">\n",
       "  <thead>\n",
       "    <tr style=\"text-align: right;\">\n",
       "      <th></th>\n",
       "      <th>algorithm</th>\n",
       "      <th>scaler</th>\n",
       "      <th>val</th>\n",
       "      <th>accuracy</th>\n",
       "      <th>precision</th>\n",
       "      <th>recall</th>\n",
       "      <th>f1</th>\n",
       "      <th>elapsed_time (sec)</th>\n",
       "    </tr>\n",
       "  </thead>\n",
       "  <tbody>\n",
       "    <tr>\n",
       "      <th>4</th>\n",
       "      <td>MLPClassifier(activation='logistic', alpha=0.0...</td>\n",
       "      <td>MinMaxScaler()</td>\n",
       "      <td>holdout</td>\n",
       "      <td>0.554404</td>\n",
       "      <td>0.579952</td>\n",
       "      <td>0.546174</td>\n",
       "      <td>0.557415</td>\n",
       "      <td>3.443190</td>\n",
       "    </tr>\n",
       "    <tr>\n",
       "      <th>6</th>\n",
       "      <td>MLPClassifier(activation='logistic', alpha=0.0...</td>\n",
       "      <td>StandardScaler()</td>\n",
       "      <td>holdout</td>\n",
       "      <td>0.554404</td>\n",
       "      <td>0.584727</td>\n",
       "      <td>0.545899</td>\n",
       "      <td>0.562271</td>\n",
       "      <td>1.949387</td>\n",
       "    </tr>\n",
       "    <tr>\n",
       "      <th>2</th>\n",
       "      <td>MLPClassifier(activation='logistic', alpha=0.0...</td>\n",
       "      <td>RobustScaler()</td>\n",
       "      <td>holdout</td>\n",
       "      <td>0.497409</td>\n",
       "      <td>0.559334</td>\n",
       "      <td>0.528332</td>\n",
       "      <td>0.541053</td>\n",
       "      <td>16.960771</td>\n",
       "    </tr>\n",
       "    <tr>\n",
       "      <th>3</th>\n",
       "      <td>MLPClassifier(activation='logistic', alpha=0.0...</td>\n",
       "      <td>RobustScaler()</td>\n",
       "      <td>cv</td>\n",
       "      <td>0.489850</td>\n",
       "      <td>0.516199</td>\n",
       "      <td>0.525264</td>\n",
       "      <td>0.477928</td>\n",
       "      <td>27.814747</td>\n",
       "    </tr>\n",
       "    <tr>\n",
       "      <th>18</th>\n",
       "      <td>KNeighborsClassifier(n_neighbors=3)</td>\n",
       "      <td>RobustScaler()</td>\n",
       "      <td>holdout</td>\n",
       "      <td>0.487047</td>\n",
       "      <td>0.539653</td>\n",
       "      <td>0.460388</td>\n",
       "      <td>0.493109</td>\n",
       "      <td>0.046977</td>\n",
       "    </tr>\n",
       "    <tr>\n",
       "      <th>7</th>\n",
       "      <td>MLPClassifier(activation='logistic', alpha=0.0...</td>\n",
       "      <td>StandardScaler()</td>\n",
       "      <td>cv</td>\n",
       "      <td>0.461761</td>\n",
       "      <td>0.472057</td>\n",
       "      <td>0.475244</td>\n",
       "      <td>0.446948</td>\n",
       "      <td>9.938876</td>\n",
       "    </tr>\n",
       "    <tr>\n",
       "      <th>5</th>\n",
       "      <td>MLPClassifier(activation='logistic', alpha=0.0...</td>\n",
       "      <td>MinMaxScaler()</td>\n",
       "      <td>cv</td>\n",
       "      <td>0.461749</td>\n",
       "      <td>0.523533</td>\n",
       "      <td>0.502935</td>\n",
       "      <td>0.478216</td>\n",
       "      <td>20.295217</td>\n",
       "    </tr>\n",
       "    <tr>\n",
       "      <th>20</th>\n",
       "      <td>KNeighborsClassifier(n_neighbors=3)</td>\n",
       "      <td>MinMaxScaler()</td>\n",
       "      <td>holdout</td>\n",
       "      <td>0.419689</td>\n",
       "      <td>0.480593</td>\n",
       "      <td>0.376642</td>\n",
       "      <td>0.414410</td>\n",
       "      <td>0.032000</td>\n",
       "    </tr>\n",
       "    <tr>\n",
       "      <th>22</th>\n",
       "      <td>KNeighborsClassifier(n_neighbors=3)</td>\n",
       "      <td>StandardScaler()</td>\n",
       "      <td>holdout</td>\n",
       "      <td>0.393782</td>\n",
       "      <td>0.473327</td>\n",
       "      <td>0.351508</td>\n",
       "      <td>0.397971</td>\n",
       "      <td>0.035087</td>\n",
       "    </tr>\n",
       "    <tr>\n",
       "      <th>19</th>\n",
       "      <td>KNeighborsClassifier(n_neighbors=3)</td>\n",
       "      <td>RobustScaler()</td>\n",
       "      <td>cv</td>\n",
       "      <td>0.358818</td>\n",
       "      <td>0.407599</td>\n",
       "      <td>0.330885</td>\n",
       "      <td>0.344816</td>\n",
       "      <td>0.336643</td>\n",
       "    </tr>\n",
       "    <tr>\n",
       "      <th>21</th>\n",
       "      <td>KNeighborsClassifier(n_neighbors=3)</td>\n",
       "      <td>MinMaxScaler()</td>\n",
       "      <td>cv</td>\n",
       "      <td>0.332364</td>\n",
       "      <td>0.332593</td>\n",
       "      <td>0.296887</td>\n",
       "      <td>0.291540</td>\n",
       "      <td>0.283984</td>\n",
       "    </tr>\n",
       "    <tr>\n",
       "      <th>16</th>\n",
       "      <td>KNeighborsClassifier(n_neighbors=3)</td>\n",
       "      <td>None</td>\n",
       "      <td>holdout</td>\n",
       "      <td>0.321244</td>\n",
       "      <td>0.404075</td>\n",
       "      <td>0.288527</td>\n",
       "      <td>0.335010</td>\n",
       "      <td>0.033151</td>\n",
       "    </tr>\n",
       "    <tr>\n",
       "      <th>0</th>\n",
       "      <td>MLPClassifier(activation='logistic', alpha=0.0...</td>\n",
       "      <td>None</td>\n",
       "      <td>holdout</td>\n",
       "      <td>0.305699</td>\n",
       "      <td>0.383779</td>\n",
       "      <td>0.337262</td>\n",
       "      <td>0.356292</td>\n",
       "      <td>14.937997</td>\n",
       "    </tr>\n",
       "    <tr>\n",
       "      <th>23</th>\n",
       "      <td>KNeighborsClassifier(n_neighbors=3)</td>\n",
       "      <td>StandardScaler()</td>\n",
       "      <td>cv</td>\n",
       "      <td>0.282425</td>\n",
       "      <td>0.394892</td>\n",
       "      <td>0.268547</td>\n",
       "      <td>0.283837</td>\n",
       "      <td>0.279652</td>\n",
       "    </tr>\n",
       "    <tr>\n",
       "      <th>14</th>\n",
       "      <td>RandomForestClassifier(n_estimators=125)</td>\n",
       "      <td>StandardScaler()</td>\n",
       "      <td>holdout</td>\n",
       "      <td>0.279793</td>\n",
       "      <td>0.625909</td>\n",
       "      <td>0.231981</td>\n",
       "      <td>0.318896</td>\n",
       "      <td>0.345661</td>\n",
       "    </tr>\n",
       "    <tr>\n",
       "      <th>12</th>\n",
       "      <td>RandomForestClassifier(n_estimators=125)</td>\n",
       "      <td>MinMaxScaler()</td>\n",
       "      <td>holdout</td>\n",
       "      <td>0.279793</td>\n",
       "      <td>0.761463</td>\n",
       "      <td>0.249076</td>\n",
       "      <td>0.333797</td>\n",
       "      <td>0.320292</td>\n",
       "    </tr>\n",
       "    <tr>\n",
       "      <th>10</th>\n",
       "      <td>RandomForestClassifier(n_estimators=125)</td>\n",
       "      <td>RobustScaler()</td>\n",
       "      <td>holdout</td>\n",
       "      <td>0.269430</td>\n",
       "      <td>0.700000</td>\n",
       "      <td>0.228980</td>\n",
       "      <td>0.315607</td>\n",
       "      <td>0.334167</td>\n",
       "    </tr>\n",
       "    <tr>\n",
       "      <th>17</th>\n",
       "      <td>KNeighborsClassifier(n_neighbors=3)</td>\n",
       "      <td>None</td>\n",
       "      <td>cv</td>\n",
       "      <td>0.268532</td>\n",
       "      <td>0.354845</td>\n",
       "      <td>0.236644</td>\n",
       "      <td>0.260800</td>\n",
       "      <td>0.273537</td>\n",
       "    </tr>\n",
       "    <tr>\n",
       "      <th>1</th>\n",
       "      <td>MLPClassifier(activation='logistic', alpha=0.0...</td>\n",
       "      <td>None</td>\n",
       "      <td>cv</td>\n",
       "      <td>0.248062</td>\n",
       "      <td>0.401801</td>\n",
       "      <td>0.305558</td>\n",
       "      <td>0.317492</td>\n",
       "      <td>77.372286</td>\n",
       "    </tr>\n",
       "    <tr>\n",
       "      <th>8</th>\n",
       "      <td>RandomForestClassifier(n_estimators=125)</td>\n",
       "      <td>None</td>\n",
       "      <td>holdout</td>\n",
       "      <td>0.222798</td>\n",
       "      <td>0.568120</td>\n",
       "      <td>0.193029</td>\n",
       "      <td>0.276788</td>\n",
       "      <td>0.396946</td>\n",
       "    </tr>\n",
       "    <tr>\n",
       "      <th>15</th>\n",
       "      <td>RandomForestClassifier(n_estimators=125)</td>\n",
       "      <td>StandardScaler()</td>\n",
       "      <td>cv</td>\n",
       "      <td>0.101357</td>\n",
       "      <td>0.425206</td>\n",
       "      <td>0.114018</td>\n",
       "      <td>0.165879</td>\n",
       "      <td>2.096056</td>\n",
       "    </tr>\n",
       "    <tr>\n",
       "      <th>13</th>\n",
       "      <td>RandomForestClassifier(n_estimators=125)</td>\n",
       "      <td>MinMaxScaler()</td>\n",
       "      <td>cv</td>\n",
       "      <td>0.096827</td>\n",
       "      <td>0.387584</td>\n",
       "      <td>0.093924</td>\n",
       "      <td>0.144640</td>\n",
       "      <td>1.969922</td>\n",
       "    </tr>\n",
       "    <tr>\n",
       "      <th>11</th>\n",
       "      <td>RandomForestClassifier(n_estimators=125)</td>\n",
       "      <td>RobustScaler()</td>\n",
       "      <td>cv</td>\n",
       "      <td>0.065540</td>\n",
       "      <td>0.368889</td>\n",
       "      <td>0.076214</td>\n",
       "      <td>0.122291</td>\n",
       "      <td>1.909135</td>\n",
       "    </tr>\n",
       "    <tr>\n",
       "      <th>9</th>\n",
       "      <td>RandomForestClassifier(n_estimators=125)</td>\n",
       "      <td>None</td>\n",
       "      <td>cv</td>\n",
       "      <td>0.059363</td>\n",
       "      <td>0.422879</td>\n",
       "      <td>0.047763</td>\n",
       "      <td>0.084668</td>\n",
       "      <td>2.059346</td>\n",
       "    </tr>\n",
       "  </tbody>\n",
       "</table>\n",
       "</div>"
      ],
      "text/plain": [
       "                                            algorithm            scaler      val  accuracy  precision    recall        f1  elapsed_time (sec)\n",
       "4   MLPClassifier(activation='logistic', alpha=0.0...    MinMaxScaler()  holdout  0.554404   0.579952  0.546174  0.557415            3.443190\n",
       "6   MLPClassifier(activation='logistic', alpha=0.0...  StandardScaler()  holdout  0.554404   0.584727  0.545899  0.562271            1.949387\n",
       "2   MLPClassifier(activation='logistic', alpha=0.0...    RobustScaler()  holdout  0.497409   0.559334  0.528332  0.541053           16.960771\n",
       "3   MLPClassifier(activation='logistic', alpha=0.0...    RobustScaler()       cv  0.489850   0.516199  0.525264  0.477928           27.814747\n",
       "18                KNeighborsClassifier(n_neighbors=3)    RobustScaler()  holdout  0.487047   0.539653  0.460388  0.493109            0.046977\n",
       "7   MLPClassifier(activation='logistic', alpha=0.0...  StandardScaler()       cv  0.461761   0.472057  0.475244  0.446948            9.938876\n",
       "5   MLPClassifier(activation='logistic', alpha=0.0...    MinMaxScaler()       cv  0.461749   0.523533  0.502935  0.478216           20.295217\n",
       "20                KNeighborsClassifier(n_neighbors=3)    MinMaxScaler()  holdout  0.419689   0.480593  0.376642  0.414410            0.032000\n",
       "22                KNeighborsClassifier(n_neighbors=3)  StandardScaler()  holdout  0.393782   0.473327  0.351508  0.397971            0.035087\n",
       "19                KNeighborsClassifier(n_neighbors=3)    RobustScaler()       cv  0.358818   0.407599  0.330885  0.344816            0.336643\n",
       "21                KNeighborsClassifier(n_neighbors=3)    MinMaxScaler()       cv  0.332364   0.332593  0.296887  0.291540            0.283984\n",
       "16                KNeighborsClassifier(n_neighbors=3)              None  holdout  0.321244   0.404075  0.288527  0.335010            0.033151\n",
       "0   MLPClassifier(activation='logistic', alpha=0.0...              None  holdout  0.305699   0.383779  0.337262  0.356292           14.937997\n",
       "23                KNeighborsClassifier(n_neighbors=3)  StandardScaler()       cv  0.282425   0.394892  0.268547  0.283837            0.279652\n",
       "14           RandomForestClassifier(n_estimators=125)  StandardScaler()  holdout  0.279793   0.625909  0.231981  0.318896            0.345661\n",
       "12           RandomForestClassifier(n_estimators=125)    MinMaxScaler()  holdout  0.279793   0.761463  0.249076  0.333797            0.320292\n",
       "10           RandomForestClassifier(n_estimators=125)    RobustScaler()  holdout  0.269430   0.700000  0.228980  0.315607            0.334167\n",
       "17                KNeighborsClassifier(n_neighbors=3)              None       cv  0.268532   0.354845  0.236644  0.260800            0.273537\n",
       "1   MLPClassifier(activation='logistic', alpha=0.0...              None       cv  0.248062   0.401801  0.305558  0.317492           77.372286\n",
       "8            RandomForestClassifier(n_estimators=125)              None  holdout  0.222798   0.568120  0.193029  0.276788            0.396946\n",
       "15           RandomForestClassifier(n_estimators=125)  StandardScaler()       cv  0.101357   0.425206  0.114018  0.165879            2.096056\n",
       "13           RandomForestClassifier(n_estimators=125)    MinMaxScaler()       cv  0.096827   0.387584  0.093924  0.144640            1.969922\n",
       "11           RandomForestClassifier(n_estimators=125)    RobustScaler()       cv  0.065540   0.368889  0.076214  0.122291            1.909135\n",
       "9            RandomForestClassifier(n_estimators=125)              None       cv  0.059363   0.422879  0.047763  0.084668            2.059346"
      ]
     },
     "execution_count": 201,
     "metadata": {},
     "output_type": "execute_result"
    }
   ],
   "source": [
    "# sort results by accuracy\n",
    "results.sort_values(by=\"accuracy\", ascending=False)"
   ]
  },
  {
   "cell_type": "code",
   "execution_count": 202,
   "id": "3c72bc27",
   "metadata": {},
   "outputs": [
    {
     "name": "stderr",
     "output_type": "stream",
     "text": [
      "D:\\TU Wien\\Semester 3\\ML\\Assignement 1\\env\\lib\\site-packages\\sklearn\\neural_network\\_multilayer_perceptron.py:559: ConvergenceWarning: lbfgs failed to converge (status=1):\n",
      "STOP: TOTAL NO. of ITERATIONS REACHED LIMIT.\n",
      "\n",
      "Increase the number of iterations (max_iter) or scale the data as shown in:\n",
      "    https://scikit-learn.org/stable/modules/preprocessing.html\n",
      "  self.n_iter_ = _check_optimize_result(\"lbfgs\", opt_res, self.max_iter)\n",
      "D:\\TU Wien\\Semester 3\\ML\\Assignement 1\\env\\lib\\site-packages\\sklearn\\neural_network\\_multilayer_perceptron.py:559: ConvergenceWarning: lbfgs failed to converge (status=1):\n",
      "STOP: TOTAL NO. of ITERATIONS REACHED LIMIT.\n",
      "\n",
      "Increase the number of iterations (max_iter) or scale the data as shown in:\n",
      "    https://scikit-learn.org/stable/modules/preprocessing.html\n",
      "  self.n_iter_ = _check_optimize_result(\"lbfgs\", opt_res, self.max_iter)\n",
      "D:\\TU Wien\\Semester 3\\ML\\Assignement 1\\env\\lib\\site-packages\\sklearn\\neural_network\\_multilayer_perceptron.py:559: ConvergenceWarning: lbfgs failed to converge (status=1):\n",
      "STOP: TOTAL NO. of ITERATIONS REACHED LIMIT.\n",
      "\n",
      "Increase the number of iterations (max_iter) or scale the data as shown in:\n",
      "    https://scikit-learn.org/stable/modules/preprocessing.html\n",
      "  self.n_iter_ = _check_optimize_result(\"lbfgs\", opt_res, self.max_iter)\n",
      "D:\\TU Wien\\Semester 3\\ML\\Assignement 1\\env\\lib\\site-packages\\sklearn\\neural_network\\_multilayer_perceptron.py:559: ConvergenceWarning: lbfgs failed to converge (status=1):\n",
      "STOP: TOTAL NO. of ITERATIONS REACHED LIMIT.\n",
      "\n",
      "Increase the number of iterations (max_iter) or scale the data as shown in:\n",
      "    https://scikit-learn.org/stable/modules/preprocessing.html\n",
      "  self.n_iter_ = _check_optimize_result(\"lbfgs\", opt_res, self.max_iter)\n",
      "D:\\TU Wien\\Semester 3\\ML\\Assignement 1\\env\\lib\\site-packages\\sklearn\\neural_network\\_multilayer_perceptron.py:559: ConvergenceWarning: lbfgs failed to converge (status=1):\n",
      "STOP: TOTAL NO. of ITERATIONS REACHED LIMIT.\n",
      "\n",
      "Increase the number of iterations (max_iter) or scale the data as shown in:\n",
      "    https://scikit-learn.org/stable/modules/preprocessing.html\n",
      "  self.n_iter_ = _check_optimize_result(\"lbfgs\", opt_res, self.max_iter)\n",
      "D:\\TU Wien\\Semester 3\\ML\\Assignement 1\\env\\lib\\site-packages\\sklearn\\neural_network\\_multilayer_perceptron.py:559: ConvergenceWarning: lbfgs failed to converge (status=1):\n",
      "STOP: TOTAL NO. of ITERATIONS REACHED LIMIT.\n",
      "\n",
      "Increase the number of iterations (max_iter) or scale the data as shown in:\n",
      "    https://scikit-learn.org/stable/modules/preprocessing.html\n",
      "  self.n_iter_ = _check_optimize_result(\"lbfgs\", opt_res, self.max_iter)\n",
      "D:\\TU Wien\\Semester 3\\ML\\Assignement 1\\env\\lib\\site-packages\\sklearn\\neural_network\\_multilayer_perceptron.py:559: ConvergenceWarning: lbfgs failed to converge (status=1):\n",
      "STOP: TOTAL NO. of ITERATIONS REACHED LIMIT.\n",
      "\n",
      "Increase the number of iterations (max_iter) or scale the data as shown in:\n",
      "    https://scikit-learn.org/stable/modules/preprocessing.html\n",
      "  self.n_iter_ = _check_optimize_result(\"lbfgs\", opt_res, self.max_iter)\n",
      "D:\\TU Wien\\Semester 3\\ML\\Assignement 1\\env\\lib\\site-packages\\sklearn\\neural_network\\_multilayer_perceptron.py:559: ConvergenceWarning: lbfgs failed to converge (status=1):\n",
      "STOP: TOTAL NO. of ITERATIONS REACHED LIMIT.\n",
      "\n",
      "Increase the number of iterations (max_iter) or scale the data as shown in:\n",
      "    https://scikit-learn.org/stable/modules/preprocessing.html\n",
      "  self.n_iter_ = _check_optimize_result(\"lbfgs\", opt_res, self.max_iter)\n",
      "D:\\TU Wien\\Semester 3\\ML\\Assignement 1\\env\\lib\\site-packages\\sklearn\\neural_network\\_multilayer_perceptron.py:559: ConvergenceWarning: lbfgs failed to converge (status=1):\n",
      "STOP: TOTAL NO. of ITERATIONS REACHED LIMIT.\n",
      "\n",
      "Increase the number of iterations (max_iter) or scale the data as shown in:\n",
      "    https://scikit-learn.org/stable/modules/preprocessing.html\n",
      "  self.n_iter_ = _check_optimize_result(\"lbfgs\", opt_res, self.max_iter)\n",
      "D:\\TU Wien\\Semester 3\\ML\\Assignement 1\\env\\lib\\site-packages\\sklearn\\neural_network\\_multilayer_perceptron.py:559: ConvergenceWarning: lbfgs failed to converge (status=1):\n",
      "STOP: TOTAL NO. of ITERATIONS REACHED LIMIT.\n",
      "\n",
      "Increase the number of iterations (max_iter) or scale the data as shown in:\n",
      "    https://scikit-learn.org/stable/modules/preprocessing.html\n",
      "  self.n_iter_ = _check_optimize_result(\"lbfgs\", opt_res, self.max_iter)\n",
      "D:\\TU Wien\\Semester 3\\ML\\Assignement 1\\env\\lib\\site-packages\\sklearn\\neural_network\\_multilayer_perceptron.py:559: ConvergenceWarning: lbfgs failed to converge (status=1):\n",
      "STOP: TOTAL NO. of ITERATIONS REACHED LIMIT.\n",
      "\n",
      "Increase the number of iterations (max_iter) or scale the data as shown in:\n",
      "    https://scikit-learn.org/stable/modules/preprocessing.html\n",
      "  self.n_iter_ = _check_optimize_result(\"lbfgs\", opt_res, self.max_iter)\n",
      "D:\\TU Wien\\Semester 3\\ML\\Assignement 1\\env\\lib\\site-packages\\sklearn\\neural_network\\_multilayer_perceptron.py:559: ConvergenceWarning: lbfgs failed to converge (status=1):\n",
      "STOP: TOTAL NO. of ITERATIONS REACHED LIMIT.\n",
      "\n",
      "Increase the number of iterations (max_iter) or scale the data as shown in:\n",
      "    https://scikit-learn.org/stable/modules/preprocessing.html\n",
      "  self.n_iter_ = _check_optimize_result(\"lbfgs\", opt_res, self.max_iter)\n",
      "D:\\TU Wien\\Semester 3\\ML\\Assignement 1\\env\\lib\\site-packages\\sklearn\\neural_network\\_multilayer_perceptron.py:559: ConvergenceWarning: lbfgs failed to converge (status=1):\n",
      "STOP: TOTAL NO. of ITERATIONS REACHED LIMIT.\n",
      "\n",
      "Increase the number of iterations (max_iter) or scale the data as shown in:\n",
      "    https://scikit-learn.org/stable/modules/preprocessing.html\n",
      "  self.n_iter_ = _check_optimize_result(\"lbfgs\", opt_res, self.max_iter)\n",
      "D:\\TU Wien\\Semester 3\\ML\\Assignement 1\\env\\lib\\site-packages\\sklearn\\neural_network\\_multilayer_perceptron.py:559: ConvergenceWarning: lbfgs failed to converge (status=1):\n",
      "STOP: TOTAL NO. of ITERATIONS REACHED LIMIT.\n",
      "\n",
      "Increase the number of iterations (max_iter) or scale the data as shown in:\n",
      "    https://scikit-learn.org/stable/modules/preprocessing.html\n",
      "  self.n_iter_ = _check_optimize_result(\"lbfgs\", opt_res, self.max_iter)\n",
      "D:\\TU Wien\\Semester 3\\ML\\Assignement 1\\env\\lib\\site-packages\\sklearn\\neural_network\\_multilayer_perceptron.py:559: ConvergenceWarning: lbfgs failed to converge (status=1):\n",
      "STOP: TOTAL NO. of ITERATIONS REACHED LIMIT.\n",
      "\n",
      "Increase the number of iterations (max_iter) or scale the data as shown in:\n",
      "    https://scikit-learn.org/stable/modules/preprocessing.html\n",
      "  self.n_iter_ = _check_optimize_result(\"lbfgs\", opt_res, self.max_iter)\n",
      "D:\\TU Wien\\Semester 3\\ML\\Assignement 1\\env\\lib\\site-packages\\sklearn\\neural_network\\_multilayer_perceptron.py:559: ConvergenceWarning: lbfgs failed to converge (status=1):\n",
      "STOP: TOTAL NO. of ITERATIONS REACHED LIMIT.\n",
      "\n",
      "Increase the number of iterations (max_iter) or scale the data as shown in:\n",
      "    https://scikit-learn.org/stable/modules/preprocessing.html\n",
      "  self.n_iter_ = _check_optimize_result(\"lbfgs\", opt_res, self.max_iter)\n",
      "D:\\TU Wien\\Semester 3\\ML\\Assignement 1\\env\\lib\\site-packages\\sklearn\\neural_network\\_multilayer_perceptron.py:559: ConvergenceWarning: lbfgs failed to converge (status=1):\n",
      "STOP: TOTAL NO. of ITERATIONS REACHED LIMIT.\n",
      "\n",
      "Increase the number of iterations (max_iter) or scale the data as shown in:\n",
      "    https://scikit-learn.org/stable/modules/preprocessing.html\n",
      "  self.n_iter_ = _check_optimize_result(\"lbfgs\", opt_res, self.max_iter)\n",
      "D:\\TU Wien\\Semester 3\\ML\\Assignement 1\\env\\lib\\site-packages\\sklearn\\neural_network\\_multilayer_perceptron.py:559: ConvergenceWarning: lbfgs failed to converge (status=1):\n",
      "STOP: TOTAL NO. of ITERATIONS REACHED LIMIT.\n",
      "\n",
      "Increase the number of iterations (max_iter) or scale the data as shown in:\n",
      "    https://scikit-learn.org/stable/modules/preprocessing.html\n",
      "  self.n_iter_ = _check_optimize_result(\"lbfgs\", opt_res, self.max_iter)\n",
      "D:\\TU Wien\\Semester 3\\ML\\Assignement 1\\env\\lib\\site-packages\\sklearn\\neural_network\\_multilayer_perceptron.py:559: ConvergenceWarning: lbfgs failed to converge (status=1):\n",
      "STOP: TOTAL NO. of ITERATIONS REACHED LIMIT.\n",
      "\n",
      "Increase the number of iterations (max_iter) or scale the data as shown in:\n",
      "    https://scikit-learn.org/stable/modules/preprocessing.html\n",
      "  self.n_iter_ = _check_optimize_result(\"lbfgs\", opt_res, self.max_iter)\n",
      "D:\\TU Wien\\Semester 3\\ML\\Assignement 1\\env\\lib\\site-packages\\sklearn\\neural_network\\_multilayer_perceptron.py:559: ConvergenceWarning: lbfgs failed to converge (status=1):\n",
      "STOP: TOTAL NO. of ITERATIONS REACHED LIMIT.\n",
      "\n",
      "Increase the number of iterations (max_iter) or scale the data as shown in:\n",
      "    https://scikit-learn.org/stable/modules/preprocessing.html\n",
      "  self.n_iter_ = _check_optimize_result(\"lbfgs\", opt_res, self.max_iter)\n"
     ]
    },
    {
     "name": "stderr",
     "output_type": "stream",
     "text": [
      "D:\\TU Wien\\Semester 3\\ML\\Assignement 1\\env\\lib\\site-packages\\sklearn\\neural_network\\_multilayer_perceptron.py:559: ConvergenceWarning: lbfgs failed to converge (status=1):\n",
      "STOP: TOTAL NO. of ITERATIONS REACHED LIMIT.\n",
      "\n",
      "Increase the number of iterations (max_iter) or scale the data as shown in:\n",
      "    https://scikit-learn.org/stable/modules/preprocessing.html\n",
      "  self.n_iter_ = _check_optimize_result(\"lbfgs\", opt_res, self.max_iter)\n",
      "D:\\TU Wien\\Semester 3\\ML\\Assignement 1\\env\\lib\\site-packages\\sklearn\\neural_network\\_multilayer_perceptron.py:559: ConvergenceWarning: lbfgs failed to converge (status=1):\n",
      "STOP: TOTAL NO. of ITERATIONS REACHED LIMIT.\n",
      "\n",
      "Increase the number of iterations (max_iter) or scale the data as shown in:\n",
      "    https://scikit-learn.org/stable/modules/preprocessing.html\n",
      "  self.n_iter_ = _check_optimize_result(\"lbfgs\", opt_res, self.max_iter)\n",
      "D:\\TU Wien\\Semester 3\\ML\\Assignement 1\\env\\lib\\site-packages\\sklearn\\neural_network\\_multilayer_perceptron.py:559: ConvergenceWarning: lbfgs failed to converge (status=1):\n",
      "STOP: TOTAL NO. of ITERATIONS REACHED LIMIT.\n",
      "\n",
      "Increase the number of iterations (max_iter) or scale the data as shown in:\n",
      "    https://scikit-learn.org/stable/modules/preprocessing.html\n",
      "  self.n_iter_ = _check_optimize_result(\"lbfgs\", opt_res, self.max_iter)\n"
     ]
    }
   ],
   "source": [
    "# with imputing\n",
    "results_imp = pd.DataFrame(columns = cols)\n",
    "\n",
    "X_train, X_test, y_train, y_test = train_test_split(X_imp, y_imp, test_size=0.3, random_state=42)\n",
    "results_imp = do_comparison(results_imp)"
   ]
  },
  {
   "cell_type": "code",
   "execution_count": 203,
   "id": "73c34234",
   "metadata": {},
   "outputs": [
    {
     "data": {
      "text/html": [
       "<div>\n",
       "<style scoped>\n",
       "    .dataframe tbody tr th:only-of-type {\n",
       "        vertical-align: middle;\n",
       "    }\n",
       "\n",
       "    .dataframe tbody tr th {\n",
       "        vertical-align: top;\n",
       "    }\n",
       "\n",
       "    .dataframe thead th {\n",
       "        text-align: right;\n",
       "    }\n",
       "</style>\n",
       "<table border=\"1\" class=\"dataframe\">\n",
       "  <thead>\n",
       "    <tr style=\"text-align: right;\">\n",
       "      <th></th>\n",
       "      <th>algorithm</th>\n",
       "      <th>scaler</th>\n",
       "      <th>val</th>\n",
       "      <th>accuracy</th>\n",
       "      <th>precision</th>\n",
       "      <th>recall</th>\n",
       "      <th>f1</th>\n",
       "      <th>elapsed_time (sec)</th>\n",
       "    </tr>\n",
       "  </thead>\n",
       "  <tbody>\n",
       "    <tr>\n",
       "      <th>6</th>\n",
       "      <td>MLPClassifier(activation='logistic', alpha=0.0...</td>\n",
       "      <td>StandardScaler()</td>\n",
       "      <td>holdout</td>\n",
       "      <td>0.597285</td>\n",
       "      <td>0.604818</td>\n",
       "      <td>0.576986</td>\n",
       "      <td>0.590181</td>\n",
       "      <td>2.162776</td>\n",
       "    </tr>\n",
       "    <tr>\n",
       "      <th>2</th>\n",
       "      <td>MLPClassifier(activation='logistic', alpha=0.0...</td>\n",
       "      <td>RobustScaler()</td>\n",
       "      <td>holdout</td>\n",
       "      <td>0.561086</td>\n",
       "      <td>0.568323</td>\n",
       "      <td>0.558782</td>\n",
       "      <td>0.562833</td>\n",
       "      <td>3.980093</td>\n",
       "    </tr>\n",
       "    <tr>\n",
       "      <th>4</th>\n",
       "      <td>MLPClassifier(activation='logistic', alpha=0.0...</td>\n",
       "      <td>MinMaxScaler()</td>\n",
       "      <td>holdout</td>\n",
       "      <td>0.556561</td>\n",
       "      <td>0.582382</td>\n",
       "      <td>0.572911</td>\n",
       "      <td>0.577019</td>\n",
       "      <td>2.879056</td>\n",
       "    </tr>\n",
       "    <tr>\n",
       "      <th>5</th>\n",
       "      <td>MLPClassifier(activation='logistic', alpha=0.0...</td>\n",
       "      <td>MinMaxScaler()</td>\n",
       "      <td>cv</td>\n",
       "      <td>0.517793</td>\n",
       "      <td>0.543419</td>\n",
       "      <td>0.525082</td>\n",
       "      <td>0.513241</td>\n",
       "      <td>21.625387</td>\n",
       "    </tr>\n",
       "    <tr>\n",
       "      <th>3</th>\n",
       "      <td>MLPClassifier(activation='logistic', alpha=0.0...</td>\n",
       "      <td>RobustScaler()</td>\n",
       "      <td>cv</td>\n",
       "      <td>0.499176</td>\n",
       "      <td>0.530507</td>\n",
       "      <td>0.489413</td>\n",
       "      <td>0.503367</td>\n",
       "      <td>39.266990</td>\n",
       "    </tr>\n",
       "    <tr>\n",
       "      <th>7</th>\n",
       "      <td>MLPClassifier(activation='logistic', alpha=0.0...</td>\n",
       "      <td>StandardScaler()</td>\n",
       "      <td>cv</td>\n",
       "      <td>0.488239</td>\n",
       "      <td>0.521279</td>\n",
       "      <td>0.482412</td>\n",
       "      <td>0.473255</td>\n",
       "      <td>10.356182</td>\n",
       "    </tr>\n",
       "    <tr>\n",
       "      <th>18</th>\n",
       "      <td>KNeighborsClassifier(n_neighbors=3)</td>\n",
       "      <td>RobustScaler()</td>\n",
       "      <td>holdout</td>\n",
       "      <td>0.457014</td>\n",
       "      <td>0.485175</td>\n",
       "      <td>0.393294</td>\n",
       "      <td>0.426661</td>\n",
       "      <td>0.053975</td>\n",
       "    </tr>\n",
       "    <tr>\n",
       "      <th>22</th>\n",
       "      <td>KNeighborsClassifier(n_neighbors=3)</td>\n",
       "      <td>StandardScaler()</td>\n",
       "      <td>holdout</td>\n",
       "      <td>0.420814</td>\n",
       "      <td>0.482975</td>\n",
       "      <td>0.390741</td>\n",
       "      <td>0.428344</td>\n",
       "      <td>0.045994</td>\n",
       "    </tr>\n",
       "    <tr>\n",
       "      <th>20</th>\n",
       "      <td>KNeighborsClassifier(n_neighbors=3)</td>\n",
       "      <td>MinMaxScaler()</td>\n",
       "      <td>holdout</td>\n",
       "      <td>0.420814</td>\n",
       "      <td>0.490351</td>\n",
       "      <td>0.381717</td>\n",
       "      <td>0.426868</td>\n",
       "      <td>0.043975</td>\n",
       "    </tr>\n",
       "    <tr>\n",
       "      <th>16</th>\n",
       "      <td>KNeighborsClassifier(n_neighbors=3)</td>\n",
       "      <td>None</td>\n",
       "      <td>holdout</td>\n",
       "      <td>0.416290</td>\n",
       "      <td>0.487959</td>\n",
       "      <td>0.376376</td>\n",
       "      <td>0.422901</td>\n",
       "      <td>0.041970</td>\n",
       "    </tr>\n",
       "    <tr>\n",
       "      <th>0</th>\n",
       "      <td>MLPClassifier(activation='logistic', alpha=0.0...</td>\n",
       "      <td>None</td>\n",
       "      <td>holdout</td>\n",
       "      <td>0.402715</td>\n",
       "      <td>0.416431</td>\n",
       "      <td>0.399418</td>\n",
       "      <td>0.405505</td>\n",
       "      <td>16.593996</td>\n",
       "    </tr>\n",
       "    <tr>\n",
       "      <th>19</th>\n",
       "      <td>KNeighborsClassifier(n_neighbors=3)</td>\n",
       "      <td>RobustScaler()</td>\n",
       "      <td>cv</td>\n",
       "      <td>0.358818</td>\n",
       "      <td>0.407599</td>\n",
       "      <td>0.330885</td>\n",
       "      <td>0.344816</td>\n",
       "      <td>0.327894</td>\n",
       "    </tr>\n",
       "    <tr>\n",
       "      <th>21</th>\n",
       "      <td>KNeighborsClassifier(n_neighbors=3)</td>\n",
       "      <td>MinMaxScaler()</td>\n",
       "      <td>cv</td>\n",
       "      <td>0.332364</td>\n",
       "      <td>0.332593</td>\n",
       "      <td>0.296887</td>\n",
       "      <td>0.291540</td>\n",
       "      <td>0.280001</td>\n",
       "    </tr>\n",
       "    <tr>\n",
       "      <th>23</th>\n",
       "      <td>KNeighborsClassifier(n_neighbors=3)</td>\n",
       "      <td>StandardScaler()</td>\n",
       "      <td>cv</td>\n",
       "      <td>0.282425</td>\n",
       "      <td>0.394892</td>\n",
       "      <td>0.268547</td>\n",
       "      <td>0.283837</td>\n",
       "      <td>0.277564</td>\n",
       "    </tr>\n",
       "    <tr>\n",
       "      <th>8</th>\n",
       "      <td>RandomForestClassifier(n_estimators=125)</td>\n",
       "      <td>None</td>\n",
       "      <td>holdout</td>\n",
       "      <td>0.276018</td>\n",
       "      <td>0.607927</td>\n",
       "      <td>0.228330</td>\n",
       "      <td>0.307584</td>\n",
       "      <td>0.383596</td>\n",
       "    </tr>\n",
       "    <tr>\n",
       "      <th>1</th>\n",
       "      <td>MLPClassifier(activation='logistic', alpha=0.0...</td>\n",
       "      <td>None</td>\n",
       "      <td>cv</td>\n",
       "      <td>0.274637</td>\n",
       "      <td>0.405656</td>\n",
       "      <td>0.288172</td>\n",
       "      <td>0.296456</td>\n",
       "      <td>76.251797</td>\n",
       "    </tr>\n",
       "    <tr>\n",
       "      <th>17</th>\n",
       "      <td>KNeighborsClassifier(n_neighbors=3)</td>\n",
       "      <td>None</td>\n",
       "      <td>cv</td>\n",
       "      <td>0.268532</td>\n",
       "      <td>0.354845</td>\n",
       "      <td>0.236644</td>\n",
       "      <td>0.260800</td>\n",
       "      <td>0.262503</td>\n",
       "    </tr>\n",
       "    <tr>\n",
       "      <th>14</th>\n",
       "      <td>RandomForestClassifier(n_estimators=125)</td>\n",
       "      <td>StandardScaler()</td>\n",
       "      <td>holdout</td>\n",
       "      <td>0.266968</td>\n",
       "      <td>0.545744</td>\n",
       "      <td>0.226726</td>\n",
       "      <td>0.309185</td>\n",
       "      <td>0.466242</td>\n",
       "    </tr>\n",
       "    <tr>\n",
       "      <th>12</th>\n",
       "      <td>RandomForestClassifier(n_estimators=125)</td>\n",
       "      <td>MinMaxScaler()</td>\n",
       "      <td>holdout</td>\n",
       "      <td>0.253394</td>\n",
       "      <td>0.678305</td>\n",
       "      <td>0.214355</td>\n",
       "      <td>0.301407</td>\n",
       "      <td>0.461051</td>\n",
       "    </tr>\n",
       "    <tr>\n",
       "      <th>10</th>\n",
       "      <td>RandomForestClassifier(n_estimators=125)</td>\n",
       "      <td>RobustScaler()</td>\n",
       "      <td>holdout</td>\n",
       "      <td>0.244344</td>\n",
       "      <td>0.698659</td>\n",
       "      <td>0.193359</td>\n",
       "      <td>0.265562</td>\n",
       "      <td>0.472104</td>\n",
       "    </tr>\n",
       "    <tr>\n",
       "      <th>15</th>\n",
       "      <td>RandomForestClassifier(n_estimators=125)</td>\n",
       "      <td>StandardScaler()</td>\n",
       "      <td>cv</td>\n",
       "      <td>0.116982</td>\n",
       "      <td>0.425857</td>\n",
       "      <td>0.116522</td>\n",
       "      <td>0.138005</td>\n",
       "      <td>2.069188</td>\n",
       "    </tr>\n",
       "    <tr>\n",
       "      <th>13</th>\n",
       "      <td>RandomForestClassifier(n_estimators=125)</td>\n",
       "      <td>MinMaxScaler()</td>\n",
       "      <td>cv</td>\n",
       "      <td>0.103077</td>\n",
       "      <td>0.467667</td>\n",
       "      <td>0.097760</td>\n",
       "      <td>0.165352</td>\n",
       "      <td>2.016233</td>\n",
       "    </tr>\n",
       "    <tr>\n",
       "      <th>11</th>\n",
       "      <td>RandomForestClassifier(n_estimators=125)</td>\n",
       "      <td>RobustScaler()</td>\n",
       "      <td>cv</td>\n",
       "      <td>0.073389</td>\n",
       "      <td>0.396571</td>\n",
       "      <td>0.069962</td>\n",
       "      <td>0.103817</td>\n",
       "      <td>2.101173</td>\n",
       "    </tr>\n",
       "    <tr>\n",
       "      <th>9</th>\n",
       "      <td>RandomForestClassifier(n_estimators=125)</td>\n",
       "      <td>None</td>\n",
       "      <td>cv</td>\n",
       "      <td>0.045300</td>\n",
       "      <td>0.381429</td>\n",
       "      <td>0.059892</td>\n",
       "      <td>0.087567</td>\n",
       "      <td>2.037759</td>\n",
       "    </tr>\n",
       "  </tbody>\n",
       "</table>\n",
       "</div>"
      ],
      "text/plain": [
       "                                            algorithm            scaler      val  accuracy  precision    recall        f1  elapsed_time (sec)\n",
       "6   MLPClassifier(activation='logistic', alpha=0.0...  StandardScaler()  holdout  0.597285   0.604818  0.576986  0.590181            2.162776\n",
       "2   MLPClassifier(activation='logistic', alpha=0.0...    RobustScaler()  holdout  0.561086   0.568323  0.558782  0.562833            3.980093\n",
       "4   MLPClassifier(activation='logistic', alpha=0.0...    MinMaxScaler()  holdout  0.556561   0.582382  0.572911  0.577019            2.879056\n",
       "5   MLPClassifier(activation='logistic', alpha=0.0...    MinMaxScaler()       cv  0.517793   0.543419  0.525082  0.513241           21.625387\n",
       "3   MLPClassifier(activation='logistic', alpha=0.0...    RobustScaler()       cv  0.499176   0.530507  0.489413  0.503367           39.266990\n",
       "7   MLPClassifier(activation='logistic', alpha=0.0...  StandardScaler()       cv  0.488239   0.521279  0.482412  0.473255           10.356182\n",
       "18                KNeighborsClassifier(n_neighbors=3)    RobustScaler()  holdout  0.457014   0.485175  0.393294  0.426661            0.053975\n",
       "22                KNeighborsClassifier(n_neighbors=3)  StandardScaler()  holdout  0.420814   0.482975  0.390741  0.428344            0.045994\n",
       "20                KNeighborsClassifier(n_neighbors=3)    MinMaxScaler()  holdout  0.420814   0.490351  0.381717  0.426868            0.043975\n",
       "16                KNeighborsClassifier(n_neighbors=3)              None  holdout  0.416290   0.487959  0.376376  0.422901            0.041970\n",
       "0   MLPClassifier(activation='logistic', alpha=0.0...              None  holdout  0.402715   0.416431  0.399418  0.405505           16.593996\n",
       "19                KNeighborsClassifier(n_neighbors=3)    RobustScaler()       cv  0.358818   0.407599  0.330885  0.344816            0.327894\n",
       "21                KNeighborsClassifier(n_neighbors=3)    MinMaxScaler()       cv  0.332364   0.332593  0.296887  0.291540            0.280001\n",
       "23                KNeighborsClassifier(n_neighbors=3)  StandardScaler()       cv  0.282425   0.394892  0.268547  0.283837            0.277564\n",
       "8            RandomForestClassifier(n_estimators=125)              None  holdout  0.276018   0.607927  0.228330  0.307584            0.383596\n",
       "1   MLPClassifier(activation='logistic', alpha=0.0...              None       cv  0.274637   0.405656  0.288172  0.296456           76.251797\n",
       "17                KNeighborsClassifier(n_neighbors=3)              None       cv  0.268532   0.354845  0.236644  0.260800            0.262503\n",
       "14           RandomForestClassifier(n_estimators=125)  StandardScaler()  holdout  0.266968   0.545744  0.226726  0.309185            0.466242\n",
       "12           RandomForestClassifier(n_estimators=125)    MinMaxScaler()  holdout  0.253394   0.678305  0.214355  0.301407            0.461051\n",
       "10           RandomForestClassifier(n_estimators=125)    RobustScaler()  holdout  0.244344   0.698659  0.193359  0.265562            0.472104\n",
       "15           RandomForestClassifier(n_estimators=125)  StandardScaler()       cv  0.116982   0.425857  0.116522  0.138005            2.069188\n",
       "13           RandomForestClassifier(n_estimators=125)    MinMaxScaler()       cv  0.103077   0.467667  0.097760  0.165352            2.016233\n",
       "11           RandomForestClassifier(n_estimators=125)    RobustScaler()       cv  0.073389   0.396571  0.069962  0.103817            2.101173\n",
       "9            RandomForestClassifier(n_estimators=125)              None       cv  0.045300   0.381429  0.059892  0.087567            2.037759"
      ]
     },
     "execution_count": 203,
     "metadata": {},
     "output_type": "execute_result"
    }
   ],
   "source": [
    "# sort results by accuracy\n",
    "results_imp.sort_values(by=\"accuracy\", ascending=False)"
   ]
  }
 ],
 "metadata": {
  "kernelspec": {
   "display_name": "Python 3 (ipykernel)",
   "language": "python",
   "name": "python3"
  },
  "language_info": {
   "codemirror_mode": {
    "name": "ipython",
    "version": 3
   },
   "file_extension": ".py",
   "mimetype": "text/x-python",
   "name": "python",
   "nbconvert_exporter": "python",
   "pygments_lexer": "ipython3",
   "version": "3.10.8"
  }
 },
 "nbformat": 4,
 "nbformat_minor": 5
}
