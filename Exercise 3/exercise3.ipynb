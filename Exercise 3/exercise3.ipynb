{
 "cells": [
  {
   "cell_type": "markdown",
   "id": "954ae2ef",
   "metadata": {},
   "source": [
    "# Exercise 3\n",
    "\n",
    "## Imports"
   ]
  },
  {
   "cell_type": "code",
   "execution_count": 1,
   "id": "7425fa09",
   "metadata": {},
   "outputs": [],
   "source": [
    "import time\n",
    "import os\n",
    "import transformers\n",
    "import optuna\n",
    "import pickle\n",
    "import pandas as pd\n",
    "import matplotlib.pyplot as plt\n",
    "import seaborn as sns\n",
    "import numpy as np\n",
    "from sklearn.model_selection import train_test_split\n",
    "from sklearn.neural_network import MLPClassifier\n",
    "from sklearn.model_selection import cross_val_score\n",
    "from sklearn.metrics import log_loss, balanced_accuracy_score"
   ]
  },
  {
   "cell_type": "markdown",
   "id": "9ed92da3",
   "metadata": {},
   "source": [
    "## Data loading"
   ]
  },
  {
   "cell_type": "code",
   "execution_count": 2,
   "id": "b7c69407",
   "metadata": {},
   "outputs": [],
   "source": [
    "ag_news_train_df = pd.read_csv('data/ag_news_train.csv')\n",
    "ag_news_test_df = pd.read_csv('data/ag_news_test.csv')\n",
    "amazon_reviews_df = pd.read_csv('data/cleaned_amazon_reviews.csv')"
   ]
  },
  {
   "cell_type": "code",
   "execution_count": 3,
   "id": "9af11b04",
   "metadata": {},
   "outputs": [
    {
     "data": {
      "text/plain": [
       "(120000, 3)"
      ]
     },
     "execution_count": 3,
     "metadata": {},
     "output_type": "execute_result"
    }
   ],
   "source": [
    "ag_news_train_df.shape"
   ]
  },
  {
   "cell_type": "code",
   "execution_count": 4,
   "id": "dbfc10cc",
   "metadata": {},
   "outputs": [
    {
     "data": {
      "text/plain": [
       "(7600, 3)"
      ]
     },
     "execution_count": 4,
     "metadata": {},
     "output_type": "execute_result"
    }
   ],
   "source": [
    "ag_news_test_df.shape"
   ]
  },
  {
   "cell_type": "code",
   "execution_count": 5,
   "id": "6a40c3a2",
   "metadata": {},
   "outputs": [
    {
     "data": {
      "text/html": [
       "<div>\n",
       "<style scoped>\n",
       "    .dataframe tbody tr th:only-of-type {\n",
       "        vertical-align: middle;\n",
       "    }\n",
       "\n",
       "    .dataframe tbody tr th {\n",
       "        vertical-align: top;\n",
       "    }\n",
       "\n",
       "    .dataframe thead th {\n",
       "        text-align: right;\n",
       "    }\n",
       "</style>\n",
       "<table border=\"1\" class=\"dataframe\">\n",
       "  <thead>\n",
       "    <tr style=\"text-align: right;\">\n",
       "      <th></th>\n",
       "      <th>Class Index</th>\n",
       "      <th>Title</th>\n",
       "      <th>Description</th>\n",
       "    </tr>\n",
       "  </thead>\n",
       "  <tbody>\n",
       "    <tr>\n",
       "      <th>0</th>\n",
       "      <td>3</td>\n",
       "      <td>Wall St. Bears Claw Back Into the Black (Reuters)</td>\n",
       "      <td>Reuters - Short-sellers, Wall Street's dwindli...</td>\n",
       "    </tr>\n",
       "    <tr>\n",
       "      <th>1</th>\n",
       "      <td>3</td>\n",
       "      <td>Carlyle Looks Toward Commercial Aerospace (Reu...</td>\n",
       "      <td>Reuters - Private investment firm Carlyle Grou...</td>\n",
       "    </tr>\n",
       "    <tr>\n",
       "      <th>2</th>\n",
       "      <td>3</td>\n",
       "      <td>Oil and Economy Cloud Stocks' Outlook (Reuters)</td>\n",
       "      <td>Reuters - Soaring crude prices plus worries\\ab...</td>\n",
       "    </tr>\n",
       "    <tr>\n",
       "      <th>3</th>\n",
       "      <td>3</td>\n",
       "      <td>Iraq Halts Oil Exports from Main Southern Pipe...</td>\n",
       "      <td>Reuters - Authorities have halted oil export\\f...</td>\n",
       "    </tr>\n",
       "    <tr>\n",
       "      <th>4</th>\n",
       "      <td>3</td>\n",
       "      <td>Oil prices soar to all-time record, posing new...</td>\n",
       "      <td>AFP - Tearaway world oil prices, toppling reco...</td>\n",
       "    </tr>\n",
       "  </tbody>\n",
       "</table>\n",
       "</div>"
      ],
      "text/plain": [
       "   Class Index                                              Title  \\\n",
       "0            3  Wall St. Bears Claw Back Into the Black (Reuters)   \n",
       "1            3  Carlyle Looks Toward Commercial Aerospace (Reu...   \n",
       "2            3    Oil and Economy Cloud Stocks' Outlook (Reuters)   \n",
       "3            3  Iraq Halts Oil Exports from Main Southern Pipe...   \n",
       "4            3  Oil prices soar to all-time record, posing new...   \n",
       "\n",
       "                                         Description  \n",
       "0  Reuters - Short-sellers, Wall Street's dwindli...  \n",
       "1  Reuters - Private investment firm Carlyle Grou...  \n",
       "2  Reuters - Soaring crude prices plus worries\\ab...  \n",
       "3  Reuters - Authorities have halted oil export\\f...  \n",
       "4  AFP - Tearaway world oil prices, toppling reco...  "
      ]
     },
     "execution_count": 5,
     "metadata": {},
     "output_type": "execute_result"
    }
   ],
   "source": [
    "ag_news_train_df.head()"
   ]
  },
  {
   "cell_type": "code",
   "execution_count": 6,
   "id": "fbc83f81",
   "metadata": {},
   "outputs": [
    {
     "data": {
      "text/plain": [
       "(17340, 4)"
      ]
     },
     "execution_count": 6,
     "metadata": {},
     "output_type": "execute_result"
    }
   ],
   "source": [
    "amazon_reviews_df.shape"
   ]
  },
  {
   "cell_type": "code",
   "execution_count": 7,
   "id": "24aec614",
   "metadata": {},
   "outputs": [
    {
     "data": {
      "text/html": [
       "<div>\n",
       "<style scoped>\n",
       "    .dataframe tbody tr th:only-of-type {\n",
       "        vertical-align: middle;\n",
       "    }\n",
       "\n",
       "    .dataframe tbody tr th {\n",
       "        vertical-align: top;\n",
       "    }\n",
       "\n",
       "    .dataframe thead th {\n",
       "        text-align: right;\n",
       "    }\n",
       "</style>\n",
       "<table border=\"1\" class=\"dataframe\">\n",
       "  <thead>\n",
       "    <tr style=\"text-align: right;\">\n",
       "      <th></th>\n",
       "      <th>sentiments</th>\n",
       "      <th>cleaned_review</th>\n",
       "      <th>cleaned_review_length</th>\n",
       "      <th>review_score</th>\n",
       "    </tr>\n",
       "  </thead>\n",
       "  <tbody>\n",
       "    <tr>\n",
       "      <th>0</th>\n",
       "      <td>positive</td>\n",
       "      <td>i wish would have gotten one earlier love it a...</td>\n",
       "      <td>19</td>\n",
       "      <td>5.0</td>\n",
       "    </tr>\n",
       "    <tr>\n",
       "      <th>1</th>\n",
       "      <td>neutral</td>\n",
       "      <td>i ve learned this lesson again open the packag...</td>\n",
       "      <td>88</td>\n",
       "      <td>1.0</td>\n",
       "    </tr>\n",
       "    <tr>\n",
       "      <th>2</th>\n",
       "      <td>neutral</td>\n",
       "      <td>it is so slow and lags find better option</td>\n",
       "      <td>9</td>\n",
       "      <td>2.0</td>\n",
       "    </tr>\n",
       "    <tr>\n",
       "      <th>3</th>\n",
       "      <td>neutral</td>\n",
       "      <td>roller ball stopped working within months of m...</td>\n",
       "      <td>12</td>\n",
       "      <td>1.0</td>\n",
       "    </tr>\n",
       "    <tr>\n",
       "      <th>4</th>\n",
       "      <td>neutral</td>\n",
       "      <td>i like the color and size but it few days out ...</td>\n",
       "      <td>21</td>\n",
       "      <td>1.0</td>\n",
       "    </tr>\n",
       "  </tbody>\n",
       "</table>\n",
       "</div>"
      ],
      "text/plain": [
       "  sentiments                                     cleaned_review  \\\n",
       "0   positive  i wish would have gotten one earlier love it a...   \n",
       "1    neutral  i ve learned this lesson again open the packag...   \n",
       "2    neutral          it is so slow and lags find better option   \n",
       "3    neutral  roller ball stopped working within months of m...   \n",
       "4    neutral  i like the color and size but it few days out ...   \n",
       "\n",
       "   cleaned_review_length  review_score  \n",
       "0                     19           5.0  \n",
       "1                     88           1.0  \n",
       "2                      9           2.0  \n",
       "3                     12           1.0  \n",
       "4                     21           1.0  "
      ]
     },
     "execution_count": 7,
     "metadata": {},
     "output_type": "execute_result"
    }
   ],
   "source": [
    "amazon_reviews_df.head()"
   ]
  },
  {
   "cell_type": "code",
   "execution_count": 8,
   "id": "97023268",
   "metadata": {},
   "outputs": [
    {
     "data": {
      "text/plain": [
       "sentiments               0\n",
       "cleaned_review           3\n",
       "cleaned_review_length    0\n",
       "review_score             0\n",
       "dtype: int64"
      ]
     },
     "execution_count": 8,
     "metadata": {},
     "output_type": "execute_result"
    }
   ],
   "source": [
    "amazon_reviews_df.isna().sum()"
   ]
  },
  {
   "cell_type": "code",
   "execution_count": 9,
   "id": "2cdd0644",
   "metadata": {},
   "outputs": [
    {
     "data": {
      "text/plain": [
       "<AxesSubplot:>"
      ]
     },
     "execution_count": 9,
     "metadata": {},
     "output_type": "execute_result"
    },
    {
     "data": {
      "image/png": "[encoded data removed]",
      "text/plain": [
       "<Figure size 432x288 with 1 Axes>"
      ]
     },
     "metadata": {
      "needs_background": "light"
     },
     "output_type": "display_data"
    }
   ],
   "source": [
    "amazon_reviews_df.sentiments.value_counts().plot(kind='bar')"
   ]
  },
  {
   "cell_type": "markdown",
   "id": "66cf4aa4",
   "metadata": {},
   "source": [
    "Unbalanced target"
   ]
  },
  {
   "cell_type": "code",
   "execution_count": 10,
   "id": "82393d1e",
   "metadata": {},
   "outputs": [
    {
     "data": {
      "text/plain": [
       "<AxesSubplot:>"
      ]
     },
     "execution_count": 10,
     "metadata": {},
     "output_type": "execute_result"
    },
    {
     "data": {
      "image/png": "[encoded data removed]",
      "text/plain": [
       "<Figure size 432x288 with 1 Axes>"
      ]
     },
     "metadata": {
      "needs_background": "light"
     },
     "output_type": "display_data"
    }
   ],
   "source": [
    "ag_news_train_df['Class Index'].value_counts().plot(kind='bar')"
   ]
  },
  {
   "cell_type": "markdown",
   "id": "0518b78a",
   "metadata": {},
   "source": [
    "Balanced target"
   ]
  },
  {
   "cell_type": "markdown",
   "id": "601b6dfe",
   "metadata": {},
   "source": [
    "#### Distribution of review lengths"
   ]
  },
  {
   "cell_type": "code",
   "execution_count": 11,
   "id": "398fe6df",
   "metadata": {},
   "outputs": [
    {
     "data": {
      "text/plain": [
       "(array([1.4993e+04, 1.8380e+03, 3.4300e+02, 8.3000e+01, 5.0000e+01,\n",
       "        1.2000e+01, 9.0000e+00, 5.0000e+00, 4.0000e+00, 3.0000e+00]),\n",
       " array([  0. ,  57.1, 114.2, 171.3, 228.4, 285.5, 342.6, 399.7, 456.8,\n",
       "        513.9, 571. ]),\n",
       " <BarContainer object of 10 artists>)"
      ]
     },
     "execution_count": 11,
     "metadata": {},
     "output_type": "execute_result"
    },
    {
     "data": {
      "image/png": "[encoded data removed]",
      "text/plain": [
       "<Figure size 432x288 with 1 Axes>"
      ]
     },
     "metadata": {
      "needs_background": "light"
     },
     "output_type": "display_data"
    }
   ],
   "source": [
    "plt.hist(amazon_reviews_df.cleaned_review_length)"
   ]
  },
  {
   "cell_type": "markdown",
   "id": "48c41a88",
   "metadata": {},
   "source": [
    "#### Distribution of the news article lengths"
   ]
  },
  {
   "cell_type": "code",
   "execution_count": 12,
   "id": "bbdc407f",
   "metadata": {},
   "outputs": [
    {
     "data": {
      "text/plain": [
       "(array([4.8100e+03, 6.7638e+04, 4.1664e+04, 4.2770e+03, 1.0700e+03,\n",
       "        2.9800e+02, 9.3000e+01, 9.0000e+01, 2.9000e+01, 3.1000e+01]),\n",
       " array([  6. , 103.9, 201.8, 299.7, 397.6, 495.5, 593.4, 691.3, 789.2,\n",
       "        887.1, 985. ]),\n",
       " <BarContainer object of 10 artists>)"
      ]
     },
     "execution_count": 12,
     "metadata": {},
     "output_type": "execute_result"
    },
    {
     "data": {
      "image/png": "[encoded data removed]",
      "text/plain": [
       "<Figure size 432x288 with 1 Axes>"
      ]
     },
     "metadata": {
      "needs_background": "light"
     },
     "output_type": "display_data"
    }
   ],
   "source": [
    "plt.hist(ag_news_train_df.Description.str.len())"
   ]
  },
  {
   "cell_type": "code",
   "execution_count": 13,
   "id": "21fcdac8",
   "metadata": {},
   "outputs": [
    {
     "data": {
      "text/plain": [
       "Class Index    False\n",
       "Title          False\n",
       "Description    False\n",
       "dtype: bool"
      ]
     },
     "execution_count": 13,
     "metadata": {},
     "output_type": "execute_result"
    }
   ],
   "source": [
    "ag_news_train_df.isna().any()"
   ]
  },
  {
   "cell_type": "markdown",
   "id": "698e7635",
   "metadata": {},
   "source": [
    "#### Removing NaNs"
   ]
  },
  {
   "cell_type": "code",
   "execution_count": 14,
   "id": "c7a01d77",
   "metadata": {},
   "outputs": [],
   "source": [
    "amazon_reviews_df.dropna(inplace=True)"
   ]
  },
  {
   "cell_type": "markdown",
   "id": "c93da568",
   "metadata": {},
   "source": [
    "### Splitting amazon reviews into train and test set"
   ]
  },
  {
   "cell_type": "code",
   "execution_count": 15,
   "id": "17908955",
   "metadata": {},
   "outputs": [],
   "source": [
    "X_amazon_reviews = amazon_reviews_df.drop(columns=['sentiments'])\n",
    "y_amazon_reviews = amazon_reviews_df['sentiments']"
   ]
  },
  {
   "cell_type": "code",
   "execution_count": 16,
   "id": "34048169",
   "metadata": {},
   "outputs": [],
   "source": [
    "X_train_reviews, X_test_reviews, y_train_reviews, y_test_reviews = train_test_split(X_amazon_reviews,\n",
    "                                                                                   y_amazon_reviews,\n",
    "                                                                                   random_state=42,\n",
    "                                                                                   test_size=0.2)"
   ]
  },
  {
   "cell_type": "code",
   "execution_count": 17,
   "id": "1c12aa1a",
   "metadata": {},
   "outputs": [],
   "source": [
    "X_train_reviews, X_valid_reviews, y_train_reviews, y_valid_reviews = train_test_split(X_train_reviews,\n",
    "                                                                                     y_train_reviews,\n",
    "                                                                                     random_state=42,\n",
    "                                                                                     test_size = 0.33)"
   ]
  },
  {
   "cell_type": "markdown",
   "id": "f177d90e",
   "metadata": {},
   "source": [
    "### Splitting ag news into X and y's"
   ]
  },
  {
   "cell_type": "markdown",
   "id": "9f484ee0",
   "metadata": {},
   "source": [
    "Merging Title and Description into one field, \"Text\""
   ]
  },
  {
   "cell_type": "code",
   "execution_count": 18,
   "id": "674437cf",
   "metadata": {},
   "outputs": [],
   "source": [
    "ag_news_train_df['Text'] = ag_news_train_df[['Title', 'Description']].agg(' '.join,axis=1)\n",
    "ag_news_test_df['Text'] = ag_news_test_df[['Title', 'Description']].agg(' '.join,axis=1)"
   ]
  },
  {
   "cell_type": "code",
   "execution_count": 19,
   "id": "0c44f02d",
   "metadata": {},
   "outputs": [
    {
     "data": {
      "text/plain": [
       "0         Wall St. Bears Claw Back Into the Black (Reute...\n",
       "1         Carlyle Looks Toward Commercial Aerospace (Reu...\n",
       "2         Oil and Economy Cloud Stocks' Outlook (Reuters...\n",
       "3         Iraq Halts Oil Exports from Main Southern Pipe...\n",
       "4         Oil prices soar to all-time record, posing new...\n",
       "                                ...                        \n",
       "119995    Pakistan's Musharraf Says Won't Quit as Army C...\n",
       "119996    Renteria signing a top-shelf deal Red Sox gene...\n",
       "119997    Saban not going to Dolphins yet The Miami Dolp...\n",
       "119998    Today's NFL games PITTSBURGH at NY GIANTS Time...\n",
       "119999    Nets get Carter from Raptors INDIANAPOLIS -- A...\n",
       "Name: Text, Length: 120000, dtype: object"
      ]
     },
     "execution_count": 19,
     "metadata": {},
     "output_type": "execute_result"
    }
   ],
   "source": [
    "ag_news_train_df['Text']"
   ]
  },
  {
   "cell_type": "code",
   "execution_count": 20,
   "id": "4b277978",
   "metadata": {},
   "outputs": [],
   "source": [
    "X_train_news = ag_news_train_df['Text']\n",
    "y_train_news = ag_news_train_df['Class Index']\n",
    "\n",
    "X_test_news = ag_news_test_df['Text']\n",
    "y_test_news = ag_news_test_df['Class Index']"
   ]
  },
  {
   "cell_type": "code",
   "execution_count": 21,
   "id": "61ec7492",
   "metadata": {},
   "outputs": [],
   "source": [
    "X_train_news, X_valid_news, y_train_news, y_valid_news = train_test_split(X_train_news,\n",
    "                                                                          y_train_news,\n",
    "                                                                          random_state=42,\n",
    "                                                                          test_size = 0.33)"
   ]
  },
  {
   "cell_type": "markdown",
   "id": "94d1e70d",
   "metadata": {},
   "source": [
    "## Naive feature extraction"
   ]
  },
  {
   "cell_type": "markdown",
   "id": "4ef1a8fd",
   "metadata": {},
   "source": [
    "### Uni-Bigram vectorizer"
   ]
  },
  {
   "cell_type": "markdown",
   "id": "e1b7a204",
   "metadata": {},
   "source": [
    "Because documents are quite short on average, we used the uni-bigram vectorizer (contains both unigrams and bigrams)"
   ]
  },
  {
   "cell_type": "markdown",
   "id": "06ef2f65",
   "metadata": {},
   "source": [
    "Following pieces of code were taken from Sklearn's text feature extraction tutorial. (https://scikit-learn.org/stable/modules/feature_extraction.html)"
   ]
  },
  {
   "cell_type": "code",
   "execution_count": 22,
   "id": "a263c20a",
   "metadata": {},
   "outputs": [],
   "source": [
    "from sklearn.feature_extraction.text import CountVectorizer"
   ]
  },
  {
   "cell_type": "code",
   "execution_count": 23,
   "id": "477dd153",
   "metadata": {},
   "outputs": [],
   "source": [
    "bigram_vectorizer = CountVectorizer(ngram_range=(1,2), token_pattern=r'\\b\\w+\\b', min_df=1)"
   ]
  },
  {
   "cell_type": "code",
   "execution_count": 24,
   "id": "4a15113c",
   "metadata": {},
   "outputs": [],
   "source": [
    "X_train_reviews_tr = bigram_vectorizer.fit_transform(X_train_reviews.cleaned_review)\n",
    "X_valid_reviews_tr = bigram_vectorizer.transform(X_valid_reviews.cleaned_review)\n",
    "X_test_reviews_tr = bigram_vectorizer.transform(X_test_reviews.cleaned_review)"
   ]
  },
  {
   "cell_type": "code",
   "execution_count": 25,
   "id": "22a8e759",
   "metadata": {},
   "outputs": [
    {
     "data": {
      "text/plain": [
       "['a',\n",
       " 'a bit',\n",
       " 'a bunch',\n",
       " 'a dependable',\n",
       " 'a fantastic',\n",
       " 'a flimsy',\n",
       " 'a friend',\n",
       " 'a gift',\n",
       " 'a good',\n",
       " 'a great',\n",
       " 'a little',\n",
       " 'a month',\n",
       " 'a pretty',\n",
       " 'a solid',\n",
       " 'a sweet',\n",
       " 'a tad',\n",
       " 'a very',\n",
       " 'a well',\n",
       " 'aa',\n",
       " 'aa batteries',\n",
       " 'aa battery',\n",
       " 'aaa',\n",
       " 'aaa batteries',\n",
       " 'aaa battery',\n",
       " 'aaaaaaaaaaaahhhh',\n",
       " 'aaaaaaaaaaaahhhh hear',\n",
       " 'aaron',\n",
       " 'aaron diehl',\n",
       " 'aasdbvdb',\n",
       " 'abd',\n",
       " 'abd if',\n",
       " 'abilities',\n",
       " 'abilities after',\n",
       " 'abilities but',\n",
       " 'abilities over',\n",
       " 'ability',\n",
       " 'ability and',\n",
       " 'ability cause',\n",
       " 'ability it',\n",
       " 'ability on',\n",
       " 'ability to',\n",
       " 'ability with',\n",
       " 'abit',\n",
       " 'abit better',\n",
       " 'abit more',\n",
       " 'abit of',\n",
       " 'able',\n",
       " 'able to',\n",
       " 'about',\n",
       " 'about accuracy',\n",
       " 'about activating',\n",
       " 'about all',\n",
       " 'about almost',\n",
       " 'about am',\n",
       " 'about an',\n",
       " 'about and',\n",
       " 'about anywhere',\n",
       " 'about as',\n",
       " 'about away',\n",
       " 'about background',\n",
       " 'about bad',\n",
       " 'about battery',\n",
       " 'about being',\n",
       " 'about but',\n",
       " 'about buying',\n",
       " 'about changing',\n",
       " 'about constantly',\n",
       " 'about day',\n",
       " 'about days',\n",
       " 'about dead',\n",
       " 'about delay',\n",
       " 'about different',\n",
       " 'about dollars',\n",
       " 'about emails',\n",
       " 'about equipment',\n",
       " 'about every',\n",
       " 'about everything',\n",
       " 'about feet',\n",
       " 'about few',\n",
       " 'about finding',\n",
       " 'about football',\n",
       " 'about four',\n",
       " 'about friends',\n",
       " 'about ft',\n",
       " 'about full',\n",
       " 'about gaming',\n",
       " 'about getting',\n",
       " 'about haha',\n",
       " 'about half',\n",
       " 'about handful',\n",
       " 'about having',\n",
       " 'about he',\n",
       " 'about headsets',\n",
       " 'about hearing',\n",
       " 'about him',\n",
       " 'about his',\n",
       " 'about hour',\n",
       " 'about hours',\n",
       " 'about how',\n",
       " 'about hrs',\n",
       " 'about in',\n",
       " 'about inches',\n",
       " 'about is',\n",
       " 'about it',\n",
       " 'about jbl',\n",
       " 'about leaving',\n",
       " 'about lights',\n",
       " 'about like',\n",
       " 'about long',\n",
       " 'about making',\n",
       " 'about meters',\n",
       " 'about miles',\n",
       " 'about million',\n",
       " 'about min',\n",
       " 'about minute',\n",
       " 'about minutes',\n",
       " 'about month',\n",
       " 'about months',\n",
       " 'about my',\n",
       " 'about of',\n",
       " 'about once',\n",
       " 'about one',\n",
       " 'about or',\n",
       " 'about ordering',\n",
       " 'about plugging',\n",
       " 'about pm',\n",
       " 'about purchasing',\n",
       " 'about recharging',\n",
       " 'about refurb',\n",
       " 'about remembering',\n",
       " 'about replacing',\n",
       " 'about returning',\n",
       " 'about rgb',\n",
       " 'about rhis',\n",
       " 'about seconds',\n",
       " 'about seeing',\n",
       " 'about seven',\n",
       " 'about six',\n",
       " 'about sleep',\n",
       " 'about slow',\n",
       " 'about so',\n",
       " 'about something',\n",
       " 'about sound',\n",
       " 'about sounds',\n",
       " 'about speed',\n",
       " 'about stereo',\n",
       " 'about ten',\n",
       " 'about that',\n",
       " 'about thatspent',\n",
       " 'about the',\n",
       " 'about their',\n",
       " 'about them',\n",
       " 'about these',\n",
       " 'about this',\n",
       " 'about three',\n",
       " 'about times',\n",
       " 'about to',\n",
       " 'about turning',\n",
       " 'about twenty',\n",
       " 'about twice',\n",
       " 'about two',\n",
       " 'about using',\n",
       " 'about was',\n",
       " 'about week',\n",
       " 'about weeks',\n",
       " 'about what',\n",
       " 'about where',\n",
       " 'about who',\n",
       " 'about will',\n",
       " 'about wires',\n",
       " 'about year',\n",
       " 'about years',\n",
       " 'above',\n",
       " 'above and',\n",
       " 'above average',\n",
       " 'above half',\n",
       " 'above it',\n",
       " 'above the',\n",
       " 'above where',\n",
       " 'above wpm',\n",
       " 'abroad',\n",
       " 'abruptly',\n",
       " 'abruptly stopped',\n",
       " 'abs',\n",
       " 'abs pipe',\n",
       " 'absolute',\n",
       " 'absolute best',\n",
       " 'absolute clarity',\n",
       " 'absolute crap',\n",
       " 'absolute deal',\n",
       " 'absolute garbage',\n",
       " 'absolute great',\n",
       " 'absolute joke',\n",
       " 'absolute junk',\n",
       " 'absolute last',\n",
       " 'absolute match',\n",
       " 'absolute poopoo',\n",
       " 'absolute trash',\n",
       " 'absolute waste',\n",
       " 'absolutely',\n",
       " 'absolutely amazing',\n",
       " 'absolutely awesome',\n",
       " 'absolutely baffled',\n",
       " 'absolutely beautiful',\n",
       " 'absolutely buy',\n",
       " 'absolutely correct',\n",
       " 'absolutely debris',\n",
       " 'absolutely deserves',\n",
       " 'absolutely despised',\n",
       " 'absolutely everything',\n",
       " 'absolutely fell',\n",
       " 'absolutely great',\n",
       " 'absolutely in',\n",
       " 'absolutely incredible',\n",
       " 'absolutely love',\n",
       " 'absolutely loved',\n",
       " 'absolutely loves',\n",
       " 'absolutely no',\n",
       " 'absolutely nothing',\n",
       " 'absolutely perfect',\n",
       " 'absolutely purchase',\n",
       " 'absolutely quiet',\n",
       " 'absolutely recommend',\n",
       " 'absolutely smashed',\n",
       " 'absolutely terrible',\n",
       " 'absolutely the',\n",
       " 'absolutely trash',\n",
       " 'absolutely untrue',\n",
       " 'absolutely useless',\n",
       " 'absolutely wonderful',\n",
       " 'absolutely worth',\n",
       " 'absolutely zero',\n",
       " 'absolutley',\n",
       " 'absolutley love',\n",
       " 'absoulutely',\n",
       " 'absoulutely love',\n",
       " 'absurdly',\n",
       " 'absurdly small',\n",
       " 'abt',\n",
       " 'abt buying',\n",
       " 'abunch',\n",
       " 'abunch of',\n",
       " 'abundant',\n",
       " 'abundant and',\n",
       " 'abuse',\n",
       " 'abuse neglect',\n",
       " 'abuse of',\n",
       " 'abuse then',\n",
       " 'abused',\n",
       " 'abused unit',\n",
       " 'abusrd',\n",
       " 'abusrd error',\n",
       " 'accept',\n",
       " 'accept all',\n",
       " 'accept any',\n",
       " 'accept charge',\n",
       " 'accept is',\n",
       " 'accept our',\n",
       " 'accept that',\n",
       " 'accept the',\n",
       " 'accept this',\n",
       " 'acceptable',\n",
       " 'acceptable but',\n",
       " 'acceptable especially',\n",
       " 'acceptable for',\n",
       " 'acceptable inexpensive',\n",
       " 'acceptable to',\n",
       " 'acceptable two',\n",
       " 'acceptable workaround',\n",
       " 'accepted',\n",
       " 'accepted it',\n",
       " 'accesories',\n",
       " 'access',\n",
       " 'access is',\n",
       " 'access occasionally',\n",
       " 'access to',\n",
       " 'accessible',\n",
       " 'accessible and',\n",
       " 'accessible like',\n",
       " 'accessible sitting',\n",
       " 'accessories',\n",
       " 'accessories am',\n",
       " 'accessories however',\n",
       " 'accessories so',\n",
       " 'accessories tend',\n",
       " 'accessories that',\n",
       " 'accessory',\n",
       " 'accessory is',\n",
       " 'accessory that',\n",
       " 'accident',\n",
       " 'accident all',\n",
       " 'accident and',\n",
       " 'accident anymore',\n",
       " 'accident of',\n",
       " 'accident several',\n",
       " 'accident since',\n",
       " 'accidental',\n",
       " 'accidental spills',\n",
       " 'accidental swim',\n",
       " 'accidentally',\n",
       " 'accidentally buy',\n",
       " 'accidentally closed',\n",
       " 'accidentally cut',\n",
       " 'accidentally dropped',\n",
       " 'accidentally kicked',\n",
       " 'accidentally leave',\n",
       " 'accidentally pulling',\n",
       " 'accidentally tested',\n",
       " 'accidentally the',\n",
       " 'accidentally throw',\n",
       " 'accidentally touch',\n",
       " 'accidentally tugged',\n",
       " 'accidentally when',\n",
       " 'accidently',\n",
       " 'accidently broke',\n",
       " 'accidently keeps',\n",
       " 'accidently left',\n",
       " 'accidentrn',\n",
       " 'accidents',\n",
       " 'accidents from',\n",
       " 'accidents happen',\n",
       " 'accidents of',\n",
       " 'accommodate',\n",
       " 'accommodate left',\n",
       " 'accommodation',\n",
       " 'accommodation and',\n",
       " 'accompanied',\n",
       " 'accompanied with',\n",
       " 'accompany',\n",
       " 'accompany her',\n",
       " 'according',\n",
       " 'according to',\n",
       " 'accordingly',\n",
       " 'accordingly if',\n",
       " 'account',\n",
       " 'account of',\n",
       " 'account the',\n",
       " 'accountable',\n",
       " 'accountable item',\n",
       " 'accounts',\n",
       " 'accounts locked',\n",
       " 'accumulated',\n",
       " 'accumulated intuition',\n",
       " 'accuracy',\n",
       " 'accuracy buy',\n",
       " 'accuracy comes',\n",
       " 'accuracy however',\n",
       " 'accuracy is',\n",
       " 'accuracy little',\n",
       " 'accuracy while',\n",
       " 'accurate',\n",
       " 'accurate about',\n",
       " 'accurate and',\n",
       " 'accurate as',\n",
       " 'accurate because',\n",
       " 'accurate but',\n",
       " 'accurate comes',\n",
       " 'accurate control',\n",
       " 'accurate it',\n",
       " 'accurate like',\n",
       " 'accurate mouse',\n",
       " 'accurate now',\n",
       " 'accurate on',\n",
       " 'accurate so',\n",
       " 'accurate to',\n",
       " 'accurate with',\n",
       " 'accurately',\n",
       " 'accurately and',\n",
       " 'accurately track',\n",
       " 'accustomed',\n",
       " 'accustomed to',\n",
       " 'aced',\n",
       " 'aced ff',\n",
       " 'aced vayne',\n",
       " 'acer',\n",
       " 'acer when',\n",
       " 'achieve',\n",
       " 'achieve full',\n",
       " 'achieved',\n",
       " 'achieved with',\n",
       " 'achilles',\n",
       " 'achilles heel',\n",
       " 'acknowledge',\n",
       " 'acknowledge it',\n",
       " 'acknowledge that',\n",
       " 'acknowledge the',\n",
       " 'acnt',\n",
       " 'acnt fault',\n",
       " 'acoustic',\n",
       " 'acoustic wave',\n",
       " 'acquisition',\n",
       " 'acquisition then',\n",
       " 'acres',\n",
       " 'acres can',\n",
       " 'across',\n",
       " 'across as',\n",
       " 'across faulty',\n",
       " 'across many',\n",
       " 'across multiple',\n",
       " 'across my',\n",
       " 'across our',\n",
       " 'across pages',\n",
       " 'across room',\n",
       " 'across surfaces',\n",
       " 'across that',\n",
       " 'across the',\n",
       " 'across these',\n",
       " 'across this',\n",
       " 'acrosss',\n",
       " 'acrosss screens',\n",
       " 'act',\n",
       " 'act in',\n",
       " 'act like',\n",
       " 'acted',\n",
       " 'acted in',\n",
       " 'acting',\n",
       " 'acting as',\n",
       " 'acting bit',\n",
       " 'acting like',\n",
       " 'acting sluggish',\n",
       " 'acting up',\n",
       " 'acting wild',\n",
       " 'action',\n",
       " 'action does',\n",
       " 'action games',\n",
       " 'action is',\n",
       " 'action on',\n",
       " 'action only',\n",
       " 'action threw',\n",
       " 'action time',\n",
       " 'activate',\n",
       " 'activate and',\n",
       " 'activate but',\n",
       " 'activate the',\n",
       " 'activate ve',\n",
       " 'activate when',\n",
       " 'activated',\n",
       " 'activated by',\n",
       " 'activated or',\n",
       " 'activates',\n",
       " 'activates way',\n",
       " 'activates what',\n",
       " 'activates within',\n",
       " 'activating',\n",
       " 'activating warranty',\n",
       " 'activation',\n",
       " 'activation or',\n",
       " 'activator',\n",
       " 'activator or',\n",
       " 'active',\n",
       " 'active all',\n",
       " 'active click',\n",
       " 'active mode',\n",
       " 'active noise',\n",
       " 'active speaker',\n",
       " 'active the',\n",
       " 'active use',\n",
       " 'actively',\n",
       " 'actively using',\n",
       " 'actively working',\n",
       " 'activities',\n",
       " 'activities do',\n",
       " 'activities especially',\n",
       " 'activities the',\n",
       " 'activity',\n",
       " 'activity and',\n",
       " 'activity is',\n",
       " 'acts',\n",
       " 'acts as',\n",
       " 'acts like',\n",
       " 'acts my',\n",
       " 'acts now',\n",
       " 'actual',\n",
       " 'actual box',\n",
       " 'actual design',\n",
       " 'actual functionality',\n",
       " 'actual headset',\n",
       " 'actual lighting',\n",
       " 'actual mouse',\n",
       " 'actual noise',\n",
       " 'actual placing',\n",
       " 'actual product',\n",
       " 'actual quality',\n",
       " 'actual rechargeable',\n",
       " 'actual sound',\n",
       " 'actual speaker',\n",
       " 'actual uses',\n",
       " 'actual xbox',\n",
       " 'actually',\n",
       " 'actually actually',\n",
       " 'actually after',\n",
       " 'actually allowed',\n",
       " 'actually are',\n",
       " 'actually believe',\n",
       " 'actually better',\n",
       " 'actually big',\n",
       " 'actually bluetooths',\n",
       " 'actually bought',\n",
       " 'actually but',\n",
       " 'actually buys',\n",
       " 'actually came',\n",
       " 'actually care',\n",
       " 'actually changed',\n",
       " 'actually clicks',\n",
       " 'actually come',\n",
       " 'actually compatible',\n",
       " 'actually connect',\n",
       " 'actually contacted',\n",
       " 'actually decent',\n",
       " 'actually distort',\n",
       " 'actually doubled',\n",
       " 'actually expending',\n",
       " 'actually feels',\n",
       " 'actually fit',\n",
       " 'actually for',\n",
       " 'actually functional',\n",
       " 'actually functioning',\n",
       " 'actually get',\n",
       " 'actually good',\n",
       " 'actually gotten',\n",
       " 'actually great',\n",
       " 'actually grown',\n",
       " 'actually had',\n",
       " 'actually happy',\n",
       " 'actually has',\n",
       " 'actually have',\n",
       " 'actually hear',\n",
       " 'actually impossible',\n",
       " 'actually in',\n",
       " 'actually is',\n",
       " 'actually it',\n",
       " 'actually its',\n",
       " 'actually just',\n",
       " 'actually know',\n",
       " 'actually known',\n",
       " 'actually last',\n",
       " 'actually like',\n",
       " 'actually liked',\n",
       " 'actually little',\n",
       " 'actually lives',\n",
       " 'actually love',\n",
       " 'actually loved',\n",
       " 'actually made',\n",
       " 'actually move',\n",
       " 'actually my',\n",
       " 'actually nice',\n",
       " 'actually one',\n",
       " 'actually pick',\n",
       " 'actually played',\n",
       " 'actually prefer',\n",
       " 'actually pretty',\n",
       " 'actually problem',\n",
       " 'actually purchased',\n",
       " 'actually quite',\n",
       " 'actually really',\n",
       " 'actually rgb',\n",
       " 'actually serves',\n",
       " 'actually shiny',\n",
       " 'actually sounds',\n",
       " 'actually speaking',\n",
       " 'actually that',\n",
       " 'actually the',\n",
       " 'actually there',\n",
       " 'actually time',\n",
       " 'actually touched',\n",
       " 'actually turn',\n",
       " 'actually type',\n",
       " 'actually use',\n",
       " 'actually utilize',\n",
       " 'actually was',\n",
       " 'actually wireless',\n",
       " 'actually wish',\n",
       " 'actually worked',\n",
       " 'actually working',\n",
       " 'actually works',\n",
       " 'actually worth',\n",
       " 'actually would',\n",
       " 'actuates',\n",
       " 'actuates the',\n",
       " 'acustomed',\n",
       " 'acustomed to',\n",
       " 'ad',\n",
       " 'ad it',\n",
       " 'adage',\n",
       " 'adage increasing',\n",
       " 'adage you',\n",
       " 'adaptability',\n",
       " 'adaptability for',\n",
       " 'adaptable',\n",
       " 'adaptable to',\n",
       " 'adapter',\n",
       " 'adapter along',\n",
       " 'adapter also',\n",
       " 'adapter and',\n",
       " 'adapter because',\n",
       " 'adapter broke',\n",
       " 'adapter came',\n",
       " 'adapter charging',\n",
       " 'adapter considering',\n",
       " 'adapter contacted',\n",
       " 'adapter decides',\n",
       " 'adapter did',\n",
       " 'adapter didn',\n",
       " 'adapter didnt',\n",
       " 'adapter does',\n",
       " 'adapter doesn',\n",
       " 'adapter doesnt',\n",
       " 'adapter don',\n",
       " 'adapter fits',\n",
       " 'adapter flashes',\n",
       " 'adapter for',\n",
       " 'adapter from',\n",
       " 'adapter got',\n",
       " 'adapter had',\n",
       " 'adapter however',\n",
       " 'adapter if',\n",
       " 'adapter in',\n",
       " 'adapter incase',\n",
       " 'adapter included',\n",
       " 'adapter into',\n",
       " 'adapter is',\n",
       " 'adapter isn',\n",
       " 'adapter it',\n",
       " 'adapter just',\n",
       " 'adapter lighting',\n",
       " 'adapter like',\n",
       " 'adapter neither',\n",
       " 'adapter never',\n",
       " 'adapter now',\n",
       " 'adapter on',\n",
       " 'adapter once',\n",
       " 'adapter other',\n",
       " 'adapter overall',\n",
       " 'adapter recommend',\n",
       " 'adapter required',\n",
       " 'adapter seems',\n",
       " 'adapter separately',\n",
       " 'adapter sticking',\n",
       " 'adapter super',\n",
       " 'adapter that',\n",
       " 'adapter the',\n",
       " 'adapter they',\n",
       " 'adapter this',\n",
       " 'adapter to',\n",
       " 'adapter underneath',\n",
       " 'adapter usb',\n",
       " 'adapter ve',\n",
       " 'adapter very',\n",
       " 'adapter was',\n",
       " 'adapter which',\n",
       " 'adapter worked',\n",
       " 'adapter works',\n",
       " 'adapter would',\n",
       " 'adapters',\n",
       " 'adapters and',\n",
       " 'adapters everything',\n",
       " 'adapters for',\n",
       " 'adapters that',\n",
       " 'adapters the',\n",
       " 'adapters with',\n",
       " 'adapting',\n",
       " 'adapting from',\n",
       " 'adaptor',\n",
       " 'adaptor and',\n",
       " 'adaptor did',\n",
       " 'adaptor does',\n",
       " 'adaptor is',\n",
       " 'adaptor it',\n",
       " 'adaptor my',\n",
       " 'adaptor otherwise',\n",
       " 'adaptor prefer',\n",
       " 'adaptor that',\n",
       " 'adaptor to',\n",
       " 'adaptor with',\n",
       " 'adaptors',\n",
       " 'adaptors are',\n",
       " 'adc',\n",
       " 'adc nasus',\n",
       " 'add',\n",
       " 'add an',\n",
       " 'add any',\n",
       " 'add cord',\n",
       " 'add did',\n",
       " 'add fun',\n",
       " 'add insult',\n",
       " 'add larger',\n",
       " 'add little',\n",
       " 'add nice',\n",
       " 'add nothing',\n",
       " 'add on',\n",
       " 'add received',\n",
       " 'add sense',\n",
       " 'add some',\n",
       " 'add that',\n",
       " 'add the',\n",
       " 'add to',\n",
       " 'add very',\n",
       " 'added',\n",
       " 'added adapter',\n",
       " 'added bonus',\n",
       " 'added note',\n",
       " 'added otherwise',\n",
       " 'added overall',\n",
       " 'added plus',\n",
       " 'added problem',\n",
       " 'added the',\n",
       " 'added to',\n",
       " 'added touch',\n",
       " 'added usb',\n",
       " 'added variability',\n",
       " 'adding',\n",
       " 'adding little',\n",
       " 'adding to',\n",
       " 'addition',\n",
       " 'addition but',\n",
       " 'addition it',\n",
       " 'addition of',\n",
       " 'addition so',\n",
       " 'addition the',\n",
       " 'addition to',\n",
       " 'additional',\n",
       " 'additional buttons',\n",
       " 'additional case',\n",
       " 'additional charge',\n",
       " 'additional computer',\n",
       " 'additional cord',\n",
       " 'additional expense',\n",
       " 'additional full',\n",
       " 'additional headphone',\n",
       " 'additional jacks',\n",
       " 'additional jbl',\n",
       " 'additional key',\n",
       " 'additional one',\n",
       " 'additional resolution',\n",
       " 'additional usb',\n",
       " 'additional you',\n",
       " 'additionally',\n",
       " 'additionally it',\n",
       " 'additionally recently',\n",
       " 'additionally the',\n",
       " 'additionally with',\n",
       " 'additions',\n",
       " 'additions which',\n",
       " 'additonal',\n",
       " 'additonal ghz',\n",
       " 'address',\n",
       " 'address capacity',\n",
       " 'address claiming',\n",
       " 'address immediately',\n",
       " 'address in',\n",
       " 'address that',\n",
       " 'address why',\n",
       " 'addressed',\n",
       " 'addressed by',\n",
       " 'addressed in',\n",
       " 'adds',\n",
       " 'adds an',\n",
       " 'adds little',\n",
       " 'adds nice',\n",
       " 'adds no',\n",
       " 'adds pop',\n",
       " 'adds some',\n",
       " 'adds the',\n",
       " 'adds to',\n",
       " 'adds uniqueness',\n",
       " 'adds unnecessary',\n",
       " 'adds weight',\n",
       " 'adds xp',\n",
       " 'adequate',\n",
       " 'adequate bass',\n",
       " 'adequate for',\n",
       " 'adequate not',\n",
       " 'adequate on',\n",
       " 'adequate portable',\n",
       " 'adequate speaker',\n",
       " 'adequately',\n",
       " 'adequately and',\n",
       " 'adequately when',\n",
       " 'adfsadfasfdasdf',\n",
       " 'adhesive',\n",
       " 'adhesive to',\n",
       " 'adjust',\n",
       " 'adjust any',\n",
       " 'adjust how',\n",
       " 'adjust it',\n",
       " 'adjust my',\n",
       " 'adjust on',\n",
       " 'adjust the',\n",
       " 'adjust this',\n",
       " 'adjust to',\n",
       " 'adjust treble',\n",
       " 'adjust volume',\n",
       " 'adjust would',\n",
       " 'adjustability',\n",
       " 'adjustability through',\n",
       " 'adjustable',\n",
       " 'adjustable also',\n",
       " 'adjustable and',\n",
       " 'adjustable backlighting',\n",
       " 'adjustable both',\n",
       " 'adjustable but',\n",
       " 'adjustable definitely',\n",
       " 'adjustable eq',\n",
       " 'adjustable headpiece',\n",
       " 'adjustable length',\n",
       " 'adjustable lighting',\n",
       " 'adjustable pretty',\n",
       " 'adjustable sensitivity',\n",
       " 'adjustable sleep',\n",
       " 'adjustable the',\n",
       " 'adjustable they',\n",
       " 'adjustable think',\n",
       " 'adjustable which',\n",
       " 'adjustcons',\n",
       " 'adjustcons did',\n",
       " 'adjusted',\n",
       " 'adjusted but',\n",
       " 'adjusted from',\n",
       " 'adjusted he',\n",
       " 'adjusted the',\n",
       " 'adjusted to',\n",
       " 'adjusted very',\n",
       " 'adjusting',\n",
       " 'adjusting my',\n",
       " 'adjusting the',\n",
       " 'adjusting through',\n",
       " 'adjustment',\n",
       " 'adjustment and',\n",
       " 'adjustment but',\n",
       " 'adjustment does',\n",
       " 'adjustment personally',\n",
       " 'adjustment remotely',\n",
       " 'adjustment to',\n",
       " 'adjustment wheel',\n",
       " 'adjustments',\n",
       " 'adjustments on',\n",
       " 'adjustments volume',\n",
       " 'adjustments was',\n",
       " 'adjusts',\n",
       " 'adjusts to',\n",
       " 'admirably',\n",
       " 'admit',\n",
       " 'admit bought',\n",
       " 'admit for',\n",
       " 'admit it',\n",
       " 'admit liked',\n",
       " 'admit the',\n",
       " 'admit they',\n",
       " 'admit was',\n",
       " 'admittedly',\n",
       " 'admittedly cheap',\n",
       " 'adobe',\n",
       " 'adobe programs',\n",
       " 'adorable',\n",
       " 'adorable and',\n",
       " 'adorable little',\n",
       " 'adorable mouse',\n",
       " 'adrien',\n",
       " 'adrien are',\n",
       " 'ads',\n",
       " 'ads first',\n",
       " 'ads or',\n",
       " 'adult',\n",
       " 'adult ears',\n",
       " 'adult hand',\n",
       " 'adult use',\n",
       " 'adult with',\n",
       " 'adults',\n",
       " 'adults and',\n",
       " 'adults due',\n",
       " 'adults ears',\n",
       " 'adults fast',\n",
       " 'adults in',\n",
       " 'adults shouldn',\n",
       " 'advance',\n",
       " 'advance for',\n",
       " 'advance slides',\n",
       " 'advanced',\n",
       " 'advanced gaming',\n",
       " 'advanced just',\n",
       " 'advanced tasks',\n",
       " 'advantage',\n",
       " 'advantage again',\n",
       " 'advantage by',\n",
       " 'advantage of',\n",
       " 'advertise',\n",
       " 'advertise and',\n",
       " 'advertise change',\n",
       " 'advertised',\n",
       " 'advertised and',\n",
       " 'advertised as',\n",
       " 'advertised battery',\n",
       " 'advertised changes',\n",
       " 'advertised does',\n",
       " 'advertised from',\n",
       " 'advertised great',\n",
       " 'advertised he',\n",
       " 'advertised highly',\n",
       " 'advertised hrs',\n",
       " 'advertised it',\n",
       " 'advertised light',\n",
       " 'advertised love',\n",
       " 'advertised my',\n",
       " 'advertised nicely',\n",
       " 'advertised no',\n",
       " 'advertised not',\n",
       " 'advertised on',\n",
       " 'advertised photos',\n",
       " 'advertised run',\n",
       " 'advertised small',\n",
       " 'advertised so',\n",
       " 'advertised such',\n",
       " 'advertised the',\n",
       " 'advertised this',\n",
       " 'advertised time',\n",
       " 'advertised to',\n",
       " 'advertised unless',\n",
       " 'advertised was',\n",
       " 'advertised works',\n",
       " 'advertisement',\n",
       " 'advertisement and',\n",
       " 'advertisement but',\n",
       " 'advertisement just',\n",
       " 'advertisement no',\n",
       " 'advertisement right',\n",
       " 'advertisement says',\n",
       " 'advertisements',\n",
       " 'advertisements the',\n",
       " 'advertises',\n",
       " 'advertises as',\n",
       " 'advertising',\n",
       " 'advertising also',\n",
       " 'advertising and',\n",
       " 'advertising bought',\n",
       " 'advertising for',\n",
       " 'advertising in',\n",
       " 'advertising useless',\n",
       " 'advertized',\n",
       " 'advertized ive',\n",
       " 'advice',\n",
       " 'advice and',\n",
       " 'advice from',\n",
       " 'advice if',\n",
       " 'advise',\n",
       " 'advise anyone',\n",
       " 'advise everybody',\n",
       " 'advise on',\n",
       " 'advise when',\n",
       " 'advising',\n",
       " 'advising you',\n",
       " 'advvertised',\n",
       " 'aerodynamic',\n",
       " 'aerodynamic mouse',\n",
       " 'aestetic',\n",
       " 'aestetic bonus',\n",
       " 'aesthetic',\n",
       " 'aesthetic but',\n",
       " 'aesthetic design',\n",
       " 'aesthetic got',\n",
       " 'aesthetic it',\n",
       " 'aesthetic thing',\n",
       " 'aesthetic when',\n",
       " 'aesthetic worth',\n",
       " 'aesthetically',\n",
       " 'aesthetically however',\n",
       " 'aesthetically it',\n",
       " 'aesthetically pleasing',\n",
       " 'aesthetically pretty',\n",
       " 'aesthetically this',\n",
       " 'aesthetically very',\n",
       " 'aesthetics',\n",
       " 'aesthetics dont',\n",
       " 'aesthetics of',\n",
       " 'af',\n",
       " 'af audio',\n",
       " 'af the',\n",
       " 'af they',\n",
       " 'af when',\n",
       " 'afaik',\n",
       " 'afaik this',\n",
       " 'afar',\n",
       " 'afar can',\n",
       " 'affair',\n",
       " 'affair however',\n",
       " 'affect',\n",
       " 'affect is',\n",
       " 'affect my',\n",
       " 'affect portability',\n",
       " 'affect the',\n",
       " 'affect your',\n",
       " 'affected',\n",
       " 'affected by',\n",
       " 'affected depending',\n",
       " 'affected my',\n",
       " 'affected the',\n",
       " 'affecting',\n",
       " 'affecting it',\n",
       " 'affects',\n",
       " 'affects my',\n",
       " 'afford',\n",
       " ...]"
      ]
     },
     "execution_count": 25,
     "metadata": {},
     "output_type": "execute_result"
    }
   ],
   "source": [
    "bigram_vectorizer.get_feature_names()"
   ]
  },
  {
   "cell_type": "code",
   "execution_count": 26,
   "id": "71d335e8",
   "metadata": {},
   "outputs": [],
   "source": [
    "X_train_news_tr = bigram_vectorizer.fit_transform(X_train_news)\n",
    "X_valid_news_tr = bigram_vectorizer.transform(X_valid_news)\n",
    "X_test_news_tr = bigram_vectorizer.transform(X_test_news)"
   ]
  },
  {
   "cell_type": "markdown",
   "id": "13da2703",
   "metadata": {},
   "source": [
    "## Training shallow models"
   ]
  },
  {
   "cell_type": "markdown",
   "id": "2d2e64e4",
   "metadata": {},
   "source": [
    "Balanced accuracy score is used to macro average across classes.\n",
    "\n",
    "For hyperparam tuning only a half of training data will be used for performance reasons."
   ]
  },
  {
   "cell_type": "code",
   "execution_count": 40,
   "id": "b6debe4b",
   "metadata": {},
   "outputs": [],
   "source": [
    "np.random.seed(42)\n",
    "\n",
    "reviews_train_idx = np.random.choice(y_train_reviews.shape[0], \n",
    "                                     replace=False, size=y_train_reviews.shape[0]//2)\n",
    "news_train_idx = np.random.choice(y_train_news.shape[0], \n",
    "                                     replace=False, size=y_train_news.shape[0]//16)\n",
    "news_train_eighth_idx = np.random.choice(y_train_news.shape[0], \n",
    "                                     replace=False, size=y_train_news.shape[0]//8)\n"
   ]
  },
  {
   "cell_type": "code",
   "execution_count": 41,
   "id": "fc15555a",
   "metadata": {},
   "outputs": [],
   "source": [
    "X_train_reviews_half = X_train_reviews_tr[reviews_train_idx,:]\n",
    "y_train_reviews_half = y_train_reviews.iloc[reviews_train_idx]\n",
    "\n",
    "X_train_news_16th = X_train_news_tr[news_train_idx,:]\n",
    "y_train_news_16th = y_train_news.iloc[news_train_idx]\n",
    "\n",
    "X_train_news_8th = X_train_news_tr[news_train_eighth_idx,:]\n",
    "y_train_news_8th = y_train_news.iloc[news_train_eighth_idx]"
   ]
  },
  {
   "cell_type": "markdown",
   "id": "fd260611",
   "metadata": {},
   "source": [
    "#### Checking if models are saved"
   ]
  },
  {
   "cell_type": "code",
   "execution_count": 29,
   "id": "7b542517",
   "metadata": {},
   "outputs": [],
   "source": [
    "best_model_nn_reviews_is_saved = os.path.exists('models/best_model_nn_reviews.sav')\n",
    "best_model_nn_news_is_saved = os.path.exists('models/best_model_nn_news.sav')\n",
    "best_model_svm_reviews_is_saved = os.path.exists('models/best_model_svm_reviews.sav')\n",
    "best_model_svm_news_is_saved = os.path.exists('models/best_model_svm_news.sav')\n"
   ]
  },
  {
   "cell_type": "markdown",
   "id": "d04702ea",
   "metadata": {},
   "source": [
    "### Shallow NN (One layer perceptron)"
   ]
  },
  {
   "cell_type": "markdown",
   "id": "1b31697c",
   "metadata": {},
   "source": [
    "#### Reviews dataset"
   ]
  },
  {
   "cell_type": "code",
   "execution_count": 30,
   "id": "c9056010",
   "metadata": {},
   "outputs": [],
   "source": [
    "available_activations = ['relu', 'logistic', 'tanh']\n",
    "available_solvers = ['adam', 'lbfgs']\n",
    "def objective(trial: optuna.trial.Trial):\n",
    "    size_of_hidden_layer = trial.suggest_int('size_of_hidden_layer', 10, 100)\n",
    "    alpha = trial.suggest_float('alpha', 0.0001, 0.001)\n",
    "    activation = trial.suggest_categorical('activation', \n",
    "                                           choices=available_activations)\n",
    "    solver = trial.suggest_categorical('solver', \n",
    "                                           choices=available_solvers)\n",
    "    \n",
    "    print(f\"Trying: {size_of_hidden_layer}, {alpha}, {activation}, {solver}\")\n",
    "    model = MLPClassifier(hidden_layer_sizes=tuple([size_of_hidden_layer]),\n",
    "                          alpha=alpha,\n",
    "                          activation = activation,\n",
    "                          max_iter=20,\n",
    "                          solver=solver,\n",
    "                          verbose=True,\n",
    "                          learning_rate='adaptive',\n",
    "                          random_state=42)\n",
    "    model.fit(X_train_reviews_half, y_train_reviews_half)\n",
    "    y_pred_probas = model.predict_proba(X_valid_reviews_tr)\n",
    "    return log_loss(y_valid_reviews, y_pred_probas)\n",
    "\n",
    "\n",
    "if not best_model_nn_reviews_is_saved:\n",
    "    study_nn_reviews = optuna.create_study(direction='minimize')\n",
    "    # optuna.logging.set_verbosity(optuna.logging.DEBUG)\n",
    "    study_nn_reviews.optimize(objective, n_trials=10,show_progress_bar=True,n_jobs=-1)\n",
    "\n",
    "    study_nn_reviews.best_params"
   ]
  },
  {
   "cell_type": "markdown",
   "id": "3f6e5c28",
   "metadata": {},
   "source": [
    "{'size_of_hidden_layer': 85,\n",
    " 'alpha': 0.00045434026867030927,\n",
    " 'activation': 'logistic',\n",
    " 'solver': 'adam'}"
   ]
  },
  {
   "cell_type": "code",
   "execution_count": 31,
   "id": "b7026966",
   "metadata": {},
   "outputs": [],
   "source": [
    "if not best_model_nn_reviews_is_saved:\n",
    "    best_model_nn_reviews = MLPClassifier(hidden_layer_sizes=(85,), \n",
    "                              alpha=0.00045434026867030927,\n",
    "                              solver='adam',\n",
    "                              activation='logistic',\n",
    "                                random_state=42,\n",
    "                               learning_rate='adaptive',\n",
    "                               verbose=True,\n",
    "                              max_iter=50,\n",
    "                          )\n",
    "    best_model_nn_reviews.fit(X_train_reviews_tr, y_train_reviews)\n"
   ]
  },
  {
   "cell_type": "code",
   "execution_count": 32,
   "id": "436d29a0",
   "metadata": {},
   "outputs": [],
   "source": [
    "if not best_model_nn_reviews_is_saved:\n",
    "    pickle.dump(best_model_nn_reviews, open('models/best_model_nn_reviews.sav', 'wb'))\n",
    "    best_model_nn_reviews_is_saved = True\n",
    "else:\n",
    "    best_model_nn_reviews=pickle.load(open('models/best_model_nn_reviews.sav', 'rb'))"
   ]
  },
  {
   "cell_type": "code",
   "execution_count": 33,
   "id": "89a5b0a1",
   "metadata": {},
   "outputs": [],
   "source": [
    "y_preds_nn_reviews = best_model_nn_reviews.predict(X_valid_reviews_tr)\n",
    "\n",
    "balanced_acc_shallow_nn_reviews = balanced_accuracy_score(y_valid_reviews, y_preds_nn_reviews)"
   ]
  },
  {
   "cell_type": "code",
   "execution_count": 34,
   "id": "9bc37f50",
   "metadata": {},
   "outputs": [
    {
     "data": {
      "text/plain": [
       "0.7584863114952708"
      ]
     },
     "execution_count": 34,
     "metadata": {},
     "output_type": "execute_result"
    }
   ],
   "source": [
    "balanced_acc_shallow_nn_reviews"
   ]
  },
  {
   "cell_type": "markdown",
   "id": "88b548c6",
   "metadata": {},
   "source": [
    "Reviews:\n",
    "Baseline of shallow NNs (balanced accuracy = average of recalls for each class): __0.758__"
   ]
  },
  {
   "cell_type": "markdown",
   "id": "a10a27b3",
   "metadata": {},
   "source": [
    "#### News dataset"
   ]
  },
  {
   "cell_type": "code",
   "execution_count": 35,
   "id": "1e5468c5",
   "metadata": {},
   "outputs": [
    {
     "name": "stderr",
     "output_type": "stream",
     "text": [
      "\u001B[32m[I 2023-02-10 14:11:06,659]\u001B[0m A new study created in memory with name: no-name-bd127e2d-c62b-4141-b4dc-fc454cf68a13\u001B[0m\n",
      "D:\\Anaconda\\lib\\site-packages\\optuna\\progress_bar.py:56: ExperimentalWarning: Progress bar is experimental (supported from v1.2.0). The interface can change in the future.\n",
      "  self._init_valid()\n"
     ]
    },
    {
     "data": {
      "application/vnd.jupyter.widget-view+json": {
       "model_id": "58c2d954974b49c9923f7847d5cba1da",
       "version_major": 2,
       "version_minor": 0
      },
      "text/plain": [
       "  0%|          | 0/10 [00:00<?, ?it/s]"
      ]
     },
     "metadata": {},
     "output_type": "display_data"
    },
    {
     "name": "stdout",
     "output_type": "stream",
     "text": [
      "Trying: 84, 0.0006358917507602908, relu, adam\n",
      "Trying: 90, 0.00031470281720136857, tanh, adam\n",
      "Iteration 1, loss = 0.89443927\n",
      "Iteration 1, loss = 0.78732110\n",
      "Iteration 2, loss = 0.10724975\n",
      "Iteration 2, loss = 0.06175298\n",
      "Iteration 3, loss = 0.02549712\n",
      "Iteration 3, loss = 0.01533005\n",
      "Iteration 4, loss = 0.01238633\n",
      "Iteration 4, loss = 0.00883988\n",
      "Iteration 5, loss = 0.00851856\n",
      "Iteration 5, loss = 0.00606122\n",
      "Iteration 6, loss = 0.00636737\n",
      "Iteration 6, loss = 0.00477340\n",
      "Iteration 7, loss = 0.00508766\n",
      "Iteration 7, loss = 0.00398493\n",
      "Iteration 8, loss = 0.00435352\n",
      "Iteration 8, loss = 0.00358742\n",
      "Iteration 9, loss = 0.00379657\n",
      "Iteration 9, loss = 0.00294925\n",
      "Iteration 10, loss = 0.00359559\n",
      "Iteration 10, loss = 0.00255747\n",
      "Iteration 11, loss = 0.00335122\n",
      "Iteration 11, loss = 0.00230461\n",
      "Iteration 12, loss = 0.00305547\n",
      "Iteration 12, loss = 0.00209745\n",
      "Iteration 13, loss = 0.00262316\n",
      "Iteration 13, loss = 0.00187329\n",
      "Iteration 14, loss = 0.00242804\n",
      "Iteration 14, loss = 0.00168378\n",
      "Iteration 15, loss = 0.00231376\n",
      "Iteration 15, loss = 0.00157452\n",
      "Iteration 16, loss = 0.00219352\n",
      "Iteration 16, loss = 0.00148323\n",
      "Iteration 17, loss = 0.00210132\n",
      "Iteration 17, loss = 0.00140564\n",
      "Iteration 18, loss = 0.00203128\n",
      "Iteration 18, loss = 0.00133526\n",
      "Iteration 19, loss = 0.00193860\n",
      "Iteration 20, loss = 0.00188425\n"
     ]
    },
    {
     "name": "stderr",
     "output_type": "stream",
     "text": [
      "D:\\Anaconda\\lib\\site-packages\\sklearn\\neural_network\\_multilayer_perceptron.py:614: ConvergenceWarning: Stochastic Optimizer: Maximum iterations (20) reached and the optimization hasn't converged yet.\n",
      "  warnings.warn(\n"
     ]
    },
    {
     "name": "stdout",
     "output_type": "stream",
     "text": [
      "\u001B[32m[I 2023-02-10 14:50:30,035]\u001B[0m Trial 0 finished with value: 0.3747170768048675 and parameters: {'size_of_hidden_layer': 84, 'alpha': 0.0006358917507602908, 'activation': 'relu', 'solver': 'adam'}. Best is trial 0 with value: 0.3747170768048675.\u001B[0m\n",
      "Trying: 65, 0.0005715482100200712, logistic, adam\n",
      "Iteration 19, loss = 0.00127633\n",
      "Iteration 1, loss = 1.27518631\n",
      "Iteration 20, loss = 0.00122812\n"
     ]
    },
    {
     "name": "stderr",
     "output_type": "stream",
     "text": [
      "D:\\Anaconda\\lib\\site-packages\\sklearn\\neural_network\\_multilayer_perceptron.py:614: ConvergenceWarning: Stochastic Optimizer: Maximum iterations (20) reached and the optimization hasn't converged yet.\n",
      "  warnings.warn(\n"
     ]
    },
    {
     "name": "stdout",
     "output_type": "stream",
     "text": [
      "\u001B[32m[I 2023-02-10 14:52:35,250]\u001B[0m Trial 1 finished with value: 0.37968590251405715 and parameters: {'size_of_hidden_layer': 90, 'alpha': 0.00031470281720136857, 'activation': 'tanh', 'solver': 'adam'}. Best is trial 0 with value: 0.3747170768048675.\u001B[0m\n",
      "Trying: 72, 0.0005334905896163569, tanh, lbfgs\n",
      "Iteration 2, loss = 0.86271048\n",
      "Iteration 3, loss = 0.53771692\n"
     ]
    },
    {
     "name": "stderr",
     "output_type": "stream",
     "text": [
      "D:\\Anaconda\\lib\\site-packages\\sklearn\\neural_network\\_multilayer_perceptron.py:500: ConvergenceWarning: lbfgs failed to converge (status=1):\n",
      "STOP: TOTAL NO. of ITERATIONS REACHED LIMIT.\n",
      "\n",
      "Increase the number of iterations (max_iter) or scale the data as shown in:\n",
      "    https://scikit-learn.org/stable/modules/preprocessing.html\n",
      "  self.n_iter_ = _check_optimize_result(\"lbfgs\", opt_res, self.max_iter)\n"
     ]
    },
    {
     "name": "stdout",
     "output_type": "stream",
     "text": [
      "Iteration 4, loss = 0.31855468\n",
      "\u001B[32m[I 2023-02-10 16:28:55,529]\u001B[0m Trial 3 finished with value: 0.9763752760634413 and parameters: {'size_of_hidden_layer': 72, 'alpha': 0.0005334905896163569, 'activation': 'tanh', 'solver': 'lbfgs'}. Best is trial 0 with value: 0.3747170768048675.\u001B[0m\n",
      "Trying: 86, 0.0004345360365538965, tanh, adam\n",
      "Iteration 5, loss = 0.19460593\n",
      "Iteration 1, loss = 0.81144863\n",
      "Iteration 6, loss = 0.12695809\n",
      "Iteration 2, loss = 0.08162914\n",
      "Iteration 7, loss = 0.08936824\n",
      "Iteration 3, loss = 0.02093596\n",
      "Iteration 8, loss = 0.06712168\n",
      "Iteration 9, loss = 0.05350128\n",
      "Iteration 4, loss = 0.01217000\n",
      "Iteration 10, loss = 0.04452083\n",
      "Iteration 5, loss = 0.00890737\n",
      "Iteration 11, loss = 0.03809748\n",
      "Iteration 6, loss = 0.00685254\n",
      "Iteration 12, loss = 0.03348711\n",
      "Iteration 13, loss = 0.03005086\n",
      "Iteration 7, loss = 0.00529566\n",
      "Iteration 14, loss = 0.02738558\n",
      "Iteration 8, loss = 0.00414780\n",
      "Iteration 15, loss = 0.02526864\n",
      "Iteration 9, loss = 0.00348159\n",
      "Iteration 16, loss = 0.02358077\n",
      "Iteration 10, loss = 0.00308259\n",
      "Iteration 17, loss = 0.02224155\n",
      "Iteration 18, loss = 0.02106253\n",
      "Iteration 11, loss = 0.00278991\n",
      "Iteration 19, loss = 0.01992278\n",
      "Iteration 12, loss = 0.00253966\n",
      "Iteration 20, loss = 0.01903762\n"
     ]
    },
    {
     "name": "stderr",
     "output_type": "stream",
     "text": [
      "D:\\Anaconda\\lib\\site-packages\\sklearn\\neural_network\\_multilayer_perceptron.py:614: ConvergenceWarning: Stochastic Optimizer: Maximum iterations (20) reached and the optimization hasn't converged yet.\n",
      "  warnings.warn(\n"
     ]
    },
    {
     "name": "stdout",
     "output_type": "stream",
     "text": [
      "\u001B[32m[I 2023-02-10 16:56:33,776]\u001B[0m Trial 2 finished with value: 0.38012967188474134 and parameters: {'size_of_hidden_layer': 65, 'alpha': 0.0005715482100200712, 'activation': 'logistic', 'solver': 'adam'}. Best is trial 0 with value: 0.3747170768048675.\u001B[0m\n",
      "Trying: 58, 0.0007956599433048955, logistic, lbfgs\n",
      "Iteration 13, loss = 0.00237088\n"
     ]
    },
    {
     "name": "stderr",
     "output_type": "stream",
     "text": [
      "D:\\Anaconda\\lib\\site-packages\\sklearn\\neural_network\\_multilayer_perceptron.py:500: ConvergenceWarning: lbfgs failed to converge (status=1):\n",
      "STOP: TOTAL NO. of ITERATIONS REACHED LIMIT.\n",
      "\n",
      "Increase the number of iterations (max_iter) or scale the data as shown in:\n",
      "    https://scikit-learn.org/stable/modules/preprocessing.html\n",
      "  self.n_iter_ = _check_optimize_result(\"lbfgs\", opt_res, self.max_iter)\n"
     ]
    },
    {
     "name": "stdout",
     "output_type": "stream",
     "text": [
      "\u001B[32m[I 2023-02-10 17:39:18,835]\u001B[0m Trial 5 finished with value: 0.7932006670374889 and parameters: {'size_of_hidden_layer': 58, 'alpha': 0.0007956599433048955, 'activation': 'logistic', 'solver': 'lbfgs'}. Best is trial 0 with value: 0.3747170768048675.\u001B[0m\n",
      "Trying: 63, 0.0007284361569054989, logistic, lbfgs\n",
      "Iteration 14, loss = 0.00219602\n",
      "Iteration 15, loss = 0.00208821\n"
     ]
    },
    {
     "name": "stderr",
     "output_type": "stream",
     "text": [
      "D:\\Anaconda\\lib\\site-packages\\sklearn\\neural_network\\_multilayer_perceptron.py:500: ConvergenceWarning: lbfgs failed to converge (status=1):\n",
      "STOP: TOTAL NO. of ITERATIONS REACHED LIMIT.\n",
      "\n",
      "Increase the number of iterations (max_iter) or scale the data as shown in:\n",
      "    https://scikit-learn.org/stable/modules/preprocessing.html\n",
      "  self.n_iter_ = _check_optimize_result(\"lbfgs\", opt_res, self.max_iter)\n"
     ]
    },
    {
     "name": "stdout",
     "output_type": "stream",
     "text": [
      "\u001B[32m[I 2023-02-10 18:31:34,165]\u001B[0m Trial 6 finished with value: 0.711844756454779 and parameters: {'size_of_hidden_layer': 63, 'alpha': 0.0007284361569054989, 'activation': 'logistic', 'solver': 'lbfgs'}. Best is trial 0 with value: 0.3747170768048675.\u001B[0m\n",
      "Trying: 34, 0.0004980605929484772, tanh, adam\n",
      "Iteration 16, loss = 0.00195590\n",
      "Iteration 1, loss = 0.95219356\n",
      "Iteration 2, loss = 0.19479309\n",
      "Iteration 17, loss = 0.00187977\n",
      "Iteration 3, loss = 0.06796541\n",
      "Iteration 4, loss = 0.03419110\n",
      "Iteration 18, loss = 0.00177837\n",
      "Iteration 5, loss = 0.02204393\n",
      "Iteration 6, loss = 0.01598316\n",
      "Iteration 7, loss = 0.01296085\n",
      "Iteration 19, loss = 0.00171016\n",
      "Iteration 8, loss = 0.01043513\n",
      "Iteration 9, loss = 0.00812893\n",
      "Iteration 20, loss = 0.00165348\n"
     ]
    },
    {
     "name": "stderr",
     "output_type": "stream",
     "text": [
      "D:\\Anaconda\\lib\\site-packages\\sklearn\\neural_network\\_multilayer_perceptron.py:614: ConvergenceWarning: Stochastic Optimizer: Maximum iterations (20) reached and the optimization hasn't converged yet.\n",
      "  warnings.warn(\n"
     ]
    },
    {
     "name": "stdout",
     "output_type": "stream",
     "text": [
      "\u001B[32m[I 2023-02-10 18:39:34,789]\u001B[0m Trial 4 finished with value: 0.37579377776875517 and parameters: {'size_of_hidden_layer': 86, 'alpha': 0.0004345360365538965, 'activation': 'tanh', 'solver': 'adam'}. Best is trial 0 with value: 0.3747170768048675.\u001B[0m\n",
      "Trying: 15, 0.0004922823756848594, logistic, lbfgs\n",
      "Iteration 10, loss = 0.00679459\n"
     ]
    },
    {
     "name": "stderr",
     "output_type": "stream",
     "text": [
      "D:\\Anaconda\\lib\\site-packages\\sklearn\\neural_network\\_multilayer_perceptron.py:500: ConvergenceWarning: lbfgs failed to converge (status=1):\n",
      "STOP: TOTAL NO. of ITERATIONS REACHED LIMIT.\n",
      "\n",
      "Increase the number of iterations (max_iter) or scale the data as shown in:\n",
      "    https://scikit-learn.org/stable/modules/preprocessing.html\n",
      "  self.n_iter_ = _check_optimize_result(\"lbfgs\", opt_res, self.max_iter)\n"
     ]
    },
    {
     "name": "stdout",
     "output_type": "stream",
     "text": [
      "\u001B[32m[I 2023-02-10 18:40:35,593]\u001B[0m Trial 8 finished with value: 0.5264591584465401 and parameters: {'size_of_hidden_layer': 15, 'alpha': 0.0004922823756848594, 'activation': 'logistic', 'solver': 'lbfgs'}. Best is trial 0 with value: 0.3747170768048675.\u001B[0m\n",
      "Trying: 43, 0.0009245844118927594, logistic, lbfgs\n",
      "Iteration 11, loss = 0.00589013\n"
     ]
    },
    {
     "name": "stderr",
     "output_type": "stream",
     "text": [
      "D:\\Anaconda\\lib\\site-packages\\sklearn\\neural_network\\_multilayer_perceptron.py:500: ConvergenceWarning: lbfgs failed to converge (status=1):\n",
      "STOP: TOTAL NO. of ITERATIONS REACHED LIMIT.\n",
      "\n",
      "Increase the number of iterations (max_iter) or scale the data as shown in:\n",
      "    https://scikit-learn.org/stable/modules/preprocessing.html\n",
      "  self.n_iter_ = _check_optimize_result(\"lbfgs\", opt_res, self.max_iter)\n"
     ]
    },
    {
     "name": "stdout",
     "output_type": "stream",
     "text": [
      "\u001B[32m[I 2023-02-10 18:43:34,228]\u001B[0m Trial 9 finished with value: 0.6065623922949059 and parameters: {'size_of_hidden_layer': 43, 'alpha': 0.0009245844118927594, 'activation': 'logistic', 'solver': 'lbfgs'}. Best is trial 0 with value: 0.3747170768048675.\u001B[0m\n",
      "Iteration 12, loss = 0.00524767\n",
      "Iteration 13, loss = 0.00461006\n",
      "Iteration 14, loss = 0.00419559\n",
      "Iteration 15, loss = 0.00382025\n",
      "Iteration 16, loss = 0.00352761\n",
      "Iteration 17, loss = 0.00327008\n",
      "Iteration 18, loss = 0.00376290\n",
      "Iteration 19, loss = 0.00285495\n",
      "Iteration 20, loss = 0.00269910\n"
     ]
    },
    {
     "name": "stderr",
     "output_type": "stream",
     "text": [
      "D:\\Anaconda\\lib\\site-packages\\sklearn\\neural_network\\_multilayer_perceptron.py:614: ConvergenceWarning: Stochastic Optimizer: Maximum iterations (20) reached and the optimization hasn't converged yet.\n",
      "  warnings.warn(\n"
     ]
    },
    {
     "name": "stdout",
     "output_type": "stream",
     "text": [
      "\u001B[32m[I 2023-02-10 18:47:59,830]\u001B[0m Trial 7 finished with value: 0.3686714944409208 and parameters: {'size_of_hidden_layer': 34, 'alpha': 0.0004980605929484772, 'activation': 'tanh', 'solver': 'adam'}. Best is trial 7 with value: 0.3686714944409208.\u001B[0m\n"
     ]
    }
   ],
   "source": [
    "available_activations = ['relu', 'logistic', 'tanh']\n",
    "available_solvers = ['adam', 'lbfgs']\n",
    "def objective(trial: optuna.trial.Trial):\n",
    "    size_of_hidden_layer = trial.suggest_int('size_of_hidden_layer', 10, 100)\n",
    "    alpha = trial.suggest_float('alpha', 0.0001, 0.001)\n",
    "    activation = trial.suggest_categorical('activation', \n",
    "                                           choices=available_activations)\n",
    "    solver = trial.suggest_categorical('solver', \n",
    "                                           choices=available_solvers)\n",
    "    \n",
    "    print(f\"Trying: {size_of_hidden_layer}, {alpha}, {activation}, {solver}\")\n",
    "    model = MLPClassifier(hidden_layer_sizes=tuple([size_of_hidden_layer]),\n",
    "                          alpha=alpha,\n",
    "                          activation = activation,\n",
    "                          max_iter=20,\n",
    "                          solver=solver,\n",
    "                          verbose=True,\n",
    "                          learning_rate='adaptive',\n",
    "                          random_state=42)\n",
    "    model.fit(X_train_news_16th, y_train_news_16th)\n",
    "    y_pred_probas = model.predict_proba(X_valid_news_tr)\n",
    "    return log_loss(y_valid_news, y_pred_probas)\n",
    "\n",
    "if not best_model_nn_news_is_saved:\n",
    "    study_nn_news = optuna.create_study(direction='minimize')\n",
    "    # optuna.logging.set_verbosity(optuna.logging.DEBUG)\n",
    "    study_nn_news.optimize(objective, n_trials=10,show_progress_bar=True,n_jobs=2)\n",
    "\n",
    "    study_nn_news.best_params"
   ]
  },
  {
   "cell_type": "code",
   "execution_count": 38,
   "id": "129d9e00",
   "metadata": {},
   "outputs": [
    {
     "data": {
      "text/plain": [
       "0.3686714944409208"
      ]
     },
     "execution_count": 38,
     "metadata": {},
     "output_type": "execute_result"
    }
   ],
   "source": [
    "study_nn_news.best_value"
   ]
  },
  {
   "cell_type": "markdown",
   "id": "5011664d",
   "metadata": {},
   "source": [
    "best value: 0.3686714944409208 (log loss)\n",
    " \n",
    "best params:\n",
    "{'size_of_hidden_layer': 34,\n",
    " 'alpha': 0.0004980605929484772,\n",
    " 'activation': 'tanh',\n",
    " 'solver': 'adam'}"
   ]
  },
  {
   "cell_type": "code",
   "execution_count": 42,
   "id": "89ce1f83",
   "metadata": {},
   "outputs": [
    {
     "name": "stdout",
     "output_type": "stream",
     "text": [
      "Iteration 1, loss = 0.73232100\n",
      "Iteration 2, loss = 0.11048733\n",
      "Iteration 3, loss = 0.03403315\n",
      "Iteration 4, loss = 0.01827902\n",
      "Iteration 5, loss = 0.01252437\n",
      "Iteration 6, loss = 0.00940702\n",
      "Iteration 7, loss = 0.00756440\n",
      "Iteration 8, loss = 0.00633131\n",
      "Iteration 9, loss = 0.00568283\n",
      "Iteration 10, loss = 0.00480833\n",
      "Iteration 11, loss = 0.00441195\n",
      "Iteration 12, loss = 0.00407887\n",
      "Iteration 13, loss = 0.00399694\n",
      "Iteration 14, loss = 0.00347134\n",
      "Iteration 15, loss = 0.00329088\n",
      "Iteration 16, loss = 0.00315138\n",
      "Iteration 17, loss = 0.00279531\n",
      "Iteration 18, loss = 0.00266400\n",
      "Iteration 19, loss = 0.00269408\n",
      "Iteration 20, loss = 0.00285858\n"
     ]
    },
    {
     "name": "stderr",
     "output_type": "stream",
     "text": [
      "D:\\Anaconda\\lib\\site-packages\\sklearn\\neural_network\\_multilayer_perceptron.py:614: ConvergenceWarning: Stochastic Optimizer: Maximum iterations (20) reached and the optimization hasn't converged yet.\n",
      "  warnings.warn(\n"
     ]
    }
   ],
   "source": [
    "if not best_model_nn_news_is_saved:\n",
    "    best_model_nn_news = MLPClassifier(hidden_layer_sizes=(34,), \n",
    "                              alpha=0.0004980605929484772,\n",
    "                              solver='adam',\n",
    "                              activation='tanh',\n",
    "                                random_state=42,\n",
    "                               learning_rate='adaptive',\n",
    "                               verbose=True,\n",
    "                              max_iter=20,\n",
    "                          )\n",
    "    best_model_nn_news.fit(X_train_news_8th, y_train_news_8th)\n"
   ]
  },
  {
   "cell_type": "code",
   "execution_count": 45,
   "id": "a9edf391",
   "metadata": {},
   "outputs": [],
   "source": [
    "if not best_model_nn_news_is_saved:\n",
    "    pickle.dump(best_model_nn_news, open('models/best_model_nn_news.sav', 'wb'))\n",
    "    best_model_nn_news_is_saved = True\n",
    "else:\n",
    "    best_model_nn_news=pickle.load(open('models/best_model_nn_news.sav', 'rb'))"
   ]
  },
  {
   "cell_type": "code",
   "execution_count": 43,
   "id": "5fef2ede",
   "metadata": {},
   "outputs": [],
   "source": [
    "y_preds_nn_news = best_model_nn_news.predict(X_valid_news_tr)\n",
    "\n",
    "balanced_acc_shallow_nn_news = balanced_accuracy_score(y_valid_news, y_preds_nn_news)"
   ]
  },
  {
   "cell_type": "code",
   "execution_count": 44,
   "id": "5b5da91d",
   "metadata": {},
   "outputs": [
    {
     "data": {
      "text/plain": [
       "0.8971229026985744"
      ]
     },
     "execution_count": 44,
     "metadata": {},
     "output_type": "execute_result"
    }
   ],
   "source": [
    "balanced_acc_shallow_nn_news"
   ]
  },
  {
   "cell_type": "markdown",
   "id": "5846beda",
   "metadata": {},
   "source": [
    "News Baseline of shallow NNs (balanced accuracy = average of recalls for each class): __0.92__"
   ]
  },
  {
   "cell_type": "markdown",
   "id": "3d2b36ee",
   "metadata": {},
   "source": [
    "### SVM"
   ]
  },
  {
   "cell_type": "markdown",
   "id": "e04575a2",
   "metadata": {},
   "source": [
    "#### Reviews dataset"
   ]
  },
  {
   "cell_type": "code",
   "execution_count": 74,
   "id": "79e3f102",
   "metadata": {},
   "outputs": [],
   "source": [
    "from sklearn.svm import SVC  \n",
    "from sklearn.metrics import classification_report, confusion_matrix "
   ]
  },
  {
   "cell_type": "code",
   "execution_count": 79,
   "id": "9ed7ef80",
   "metadata": {},
   "outputs": [
    {
     "name": "stderr",
     "output_type": "stream",
     "text": [
      "\u001B[32m[I 2023-02-04 20:18:53,511]\u001B[0m A new study created in memory with name: no-name-93a41a8d-ccee-49c5-8a06-2fb1ab79644b\u001B[0m\n",
      "D:\\Anaconda\\lib\\site-packages\\optuna\\progress_bar.py:56: ExperimentalWarning: Progress bar is experimental (supported from v1.2.0). The interface can change in the future.\n",
      "  self._init_valid()\n"
     ]
    },
    {
     "data": {
      "application/vnd.jupyter.widget-view+json": {
       "model_id": "",
       "version_major": 2,
       "version_minor": 0
      },
      "text/plain": [
       "  0%|          | 0/5 [00:00<?, ?it/s]"
      ]
     },
     "metadata": {},
     "output_type": "display_data"
    },
    {
     "name": "stdout",
     "output_type": "stream",
     "text": [
      "Trying: poly\n",
      "[LibSVM]\u001B[32m[I 2023-02-04 20:22:08,231]\u001B[0m Trial 0 finished with value: 0.9070452498701899 and parameters: {'kernel': 'poly', 'degree': 5}. Best is trial 0 with value: 0.9070452498701899.\u001B[0m\n",
      "Trying: sigmoid\n",
      "[LibSVM]\u001B[32m[I 2023-02-04 20:23:15,584]\u001B[0m Trial 1 finished with value: 1.0279405102445667 and parameters: {'kernel': 'sigmoid', 'degree': 6}. Best is trial 0 with value: 0.9070452498701899.\u001B[0m\n",
      "Trying: linear\n",
      "[LibSVM]\u001B[32m[I 2023-02-04 20:24:23,687]\u001B[0m Trial 2 finished with value: 0.41371841548140753 and parameters: {'kernel': 'linear', 'degree': 5}. Best is trial 2 with value: 0.41371841548140753.\u001B[0m\n",
      "Trying: poly\n",
      "[LibSVM]\u001B[33m[W 2023-02-04 20:26:59,465]\u001B[0m Trial 3 failed with parameters: {'kernel': 'poly', 'degree': 3} because of the following error: KeyboardInterrupt().\u001B[0m\n",
      "Traceback (most recent call last):\n",
      "  File \"D:\\Anaconda\\lib\\site-packages\\optuna\\study\\_optimize.py\", line 200, in _run_trial\n",
      "    value_or_values = func(trial)\n",
      "  File \"<ipython-input-79-75fef08f6dad>\", line 12, in objective\n",
      "    model.fit(X_train_reviews_tr, y_train_reviews)\n",
      "  File \"D:\\Anaconda\\lib\\site-packages\\sklearn\\svm\\_base.py\", line 226, in fit\n",
      "    fit(X, y, sample_weight, solver_type, kernel, random_seed=seed)\n",
      "  File \"D:\\Anaconda\\lib\\site-packages\\sklearn\\svm\\_base.py\", line 301, in _sparse_fit\n",
      "    libsvm_sparse.libsvm_sparse_train(\n",
      "  File \"sklearn\\svm\\_libsvm_sparse.pyx\", line 191, in sklearn.svm._libsvm_sparse.libsvm_sparse_train\n",
      "  File \"D:\\Anaconda\\lib\\site-packages\\scipy\\sparse\\compressed.py\", line 27, in __init__\n",
      "    def __init__(self, arg1, shape=None, dtype=None, copy=False):\n",
      "KeyboardInterrupt\n",
      "\u001B[33m[W 2023-02-04 20:27:01,158]\u001B[0m Trial 3 failed with value None.\u001B[0m\n"
     ]
    },
    {
     "ename": "KeyboardInterrupt",
     "evalue": "",
     "output_type": "error",
     "traceback": [
      "\u001B[1;31m---------------------------------------------------------------------------\u001B[0m",
      "\u001B[1;31mKeyboardInterrupt\u001B[0m                         Traceback (most recent call last)",
      "\u001B[1;32m<ipython-input-79-75fef08f6dad>\u001B[0m in \u001B[0;36m<module>\u001B[1;34m\u001B[0m\n\u001B[0;32m     17\u001B[0m \u001B[0mstudy\u001B[0m \u001B[1;33m=\u001B[0m \u001B[0moptuna\u001B[0m\u001B[1;33m.\u001B[0m\u001B[0mcreate_study\u001B[0m\u001B[1;33m(\u001B[0m\u001B[0mdirection\u001B[0m\u001B[1;33m=\u001B[0m\u001B[1;34m'minimize'\u001B[0m\u001B[1;33m)\u001B[0m\u001B[1;33m\u001B[0m\u001B[1;33m\u001B[0m\u001B[0m\n\u001B[0;32m     18\u001B[0m \u001B[1;31m# optuna.logging.set_verbosity(optuna.logging.DEBUG)\u001B[0m\u001B[1;33m\u001B[0m\u001B[1;33m\u001B[0m\u001B[1;33m\u001B[0m\u001B[0m\n\u001B[1;32m---> 19\u001B[1;33m \u001B[0mstudy\u001B[0m\u001B[1;33m.\u001B[0m\u001B[0moptimize\u001B[0m\u001B[1;33m(\u001B[0m\u001B[0mobjective\u001B[0m\u001B[1;33m,\u001B[0m \u001B[0mn_trials\u001B[0m\u001B[1;33m=\u001B[0m\u001B[1;36m5\u001B[0m\u001B[1;33m,\u001B[0m\u001B[0mshow_progress_bar\u001B[0m\u001B[1;33m=\u001B[0m\u001B[1;32mTrue\u001B[0m\u001B[1;33m)\u001B[0m\u001B[1;33m\u001B[0m\u001B[1;33m\u001B[0m\u001B[0m\n\u001B[0m\u001B[0;32m     20\u001B[0m \u001B[1;33m\u001B[0m\u001B[0m\n\u001B[0;32m     21\u001B[0m \u001B[0mstudy\u001B[0m\u001B[1;33m.\u001B[0m\u001B[0mbest_params\u001B[0m\u001B[1;33m\u001B[0m\u001B[1;33m\u001B[0m\u001B[0m\n",
      "\u001B[1;32mD:\\Anaconda\\lib\\site-packages\\optuna\\study\\study.py\u001B[0m in \u001B[0;36moptimize\u001B[1;34m(self, func, n_trials, timeout, n_jobs, catch, callbacks, gc_after_trial, show_progress_bar)\u001B[0m\n\u001B[0;32m    423\u001B[0m         \"\"\"\n\u001B[0;32m    424\u001B[0m \u001B[1;33m\u001B[0m\u001B[0m\n\u001B[1;32m--> 425\u001B[1;33m         _optimize(\n\u001B[0m\u001B[0;32m    426\u001B[0m             \u001B[0mstudy\u001B[0m\u001B[1;33m=\u001B[0m\u001B[0mself\u001B[0m\u001B[1;33m,\u001B[0m\u001B[1;33m\u001B[0m\u001B[1;33m\u001B[0m\u001B[0m\n\u001B[0;32m    427\u001B[0m             \u001B[0mfunc\u001B[0m\u001B[1;33m=\u001B[0m\u001B[0mfunc\u001B[0m\u001B[1;33m,\u001B[0m\u001B[1;33m\u001B[0m\u001B[1;33m\u001B[0m\u001B[0m\n",
      "\u001B[1;32mD:\\Anaconda\\lib\\site-packages\\optuna\\study\\_optimize.py\u001B[0m in \u001B[0;36m_optimize\u001B[1;34m(study, func, n_trials, timeout, n_jobs, catch, callbacks, gc_after_trial, show_progress_bar)\u001B[0m\n\u001B[0;32m     64\u001B[0m     \u001B[1;32mtry\u001B[0m\u001B[1;33m:\u001B[0m\u001B[1;33m\u001B[0m\u001B[1;33m\u001B[0m\u001B[0m\n\u001B[0;32m     65\u001B[0m         \u001B[1;32mif\u001B[0m \u001B[0mn_jobs\u001B[0m \u001B[1;33m==\u001B[0m \u001B[1;36m1\u001B[0m\u001B[1;33m:\u001B[0m\u001B[1;33m\u001B[0m\u001B[1;33m\u001B[0m\u001B[0m\n\u001B[1;32m---> 66\u001B[1;33m             _optimize_sequential(\n\u001B[0m\u001B[0;32m     67\u001B[0m                 \u001B[0mstudy\u001B[0m\u001B[1;33m,\u001B[0m\u001B[1;33m\u001B[0m\u001B[1;33m\u001B[0m\u001B[0m\n\u001B[0;32m     68\u001B[0m                 \u001B[0mfunc\u001B[0m\u001B[1;33m,\u001B[0m\u001B[1;33m\u001B[0m\u001B[1;33m\u001B[0m\u001B[0m\n",
      "\u001B[1;32mD:\\Anaconda\\lib\\site-packages\\optuna\\study\\_optimize.py\u001B[0m in \u001B[0;36m_optimize_sequential\u001B[1;34m(study, func, n_trials, timeout, catch, callbacks, gc_after_trial, reseed_sampler_rng, time_start, progress_bar)\u001B[0m\n\u001B[0;32m    161\u001B[0m \u001B[1;33m\u001B[0m\u001B[0m\n\u001B[0;32m    162\u001B[0m         \u001B[1;32mtry\u001B[0m\u001B[1;33m:\u001B[0m\u001B[1;33m\u001B[0m\u001B[1;33m\u001B[0m\u001B[0m\n\u001B[1;32m--> 163\u001B[1;33m             \u001B[0mfrozen_trial\u001B[0m \u001B[1;33m=\u001B[0m \u001B[0m_run_trial\u001B[0m\u001B[1;33m(\u001B[0m\u001B[0mstudy\u001B[0m\u001B[1;33m,\u001B[0m \u001B[0mfunc\u001B[0m\u001B[1;33m,\u001B[0m \u001B[0mcatch\u001B[0m\u001B[1;33m)\u001B[0m\u001B[1;33m\u001B[0m\u001B[1;33m\u001B[0m\u001B[0m\n\u001B[0m\u001B[0;32m    164\u001B[0m         \u001B[1;32mfinally\u001B[0m\u001B[1;33m:\u001B[0m\u001B[1;33m\u001B[0m\u001B[1;33m\u001B[0m\u001B[0m\n\u001B[0;32m    165\u001B[0m             \u001B[1;31m# The following line mitigates memory problems that can be occurred in some\u001B[0m\u001B[1;33m\u001B[0m\u001B[1;33m\u001B[0m\u001B[1;33m\u001B[0m\u001B[0m\n",
      "\u001B[1;32mD:\\Anaconda\\lib\\site-packages\\optuna\\study\\_optimize.py\u001B[0m in \u001B[0;36m_run_trial\u001B[1;34m(study, func, catch)\u001B[0m\n\u001B[0;32m    249\u001B[0m         \u001B[1;32mand\u001B[0m \u001B[1;32mnot\u001B[0m \u001B[0misinstance\u001B[0m\u001B[1;33m(\u001B[0m\u001B[0mfunc_err\u001B[0m\u001B[1;33m,\u001B[0m \u001B[0mcatch\u001B[0m\u001B[1;33m)\u001B[0m\u001B[1;33m\u001B[0m\u001B[1;33m\u001B[0m\u001B[0m\n\u001B[0;32m    250\u001B[0m     ):\n\u001B[1;32m--> 251\u001B[1;33m         \u001B[1;32mraise\u001B[0m \u001B[0mfunc_err\u001B[0m\u001B[1;33m\u001B[0m\u001B[1;33m\u001B[0m\u001B[0m\n\u001B[0m\u001B[0;32m    252\u001B[0m     \u001B[1;32mreturn\u001B[0m \u001B[0mfrozen_trial\u001B[0m\u001B[1;33m\u001B[0m\u001B[1;33m\u001B[0m\u001B[0m\n\u001B[0;32m    253\u001B[0m \u001B[1;33m\u001B[0m\u001B[0m\n",
      "\u001B[1;32mD:\\Anaconda\\lib\\site-packages\\optuna\\study\\_optimize.py\u001B[0m in \u001B[0;36m_run_trial\u001B[1;34m(study, func, catch)\u001B[0m\n\u001B[0;32m    198\u001B[0m     \u001B[1;32mwith\u001B[0m \u001B[0mget_heartbeat_thread\u001B[0m\u001B[1;33m(\u001B[0m\u001B[0mtrial\u001B[0m\u001B[1;33m.\u001B[0m\u001B[0m_trial_id\u001B[0m\u001B[1;33m,\u001B[0m \u001B[0mstudy\u001B[0m\u001B[1;33m.\u001B[0m\u001B[0m_storage\u001B[0m\u001B[1;33m)\u001B[0m\u001B[1;33m:\u001B[0m\u001B[1;33m\u001B[0m\u001B[1;33m\u001B[0m\u001B[0m\n\u001B[0;32m    199\u001B[0m         \u001B[1;32mtry\u001B[0m\u001B[1;33m:\u001B[0m\u001B[1;33m\u001B[0m\u001B[1;33m\u001B[0m\u001B[0m\n\u001B[1;32m--> 200\u001B[1;33m             \u001B[0mvalue_or_values\u001B[0m \u001B[1;33m=\u001B[0m \u001B[0mfunc\u001B[0m\u001B[1;33m(\u001B[0m\u001B[0mtrial\u001B[0m\u001B[1;33m)\u001B[0m\u001B[1;33m\u001B[0m\u001B[1;33m\u001B[0m\u001B[0m\n\u001B[0m\u001B[0;32m    201\u001B[0m         \u001B[1;32mexcept\u001B[0m \u001B[0mexceptions\u001B[0m\u001B[1;33m.\u001B[0m\u001B[0mTrialPruned\u001B[0m \u001B[1;32mas\u001B[0m \u001B[0me\u001B[0m\u001B[1;33m:\u001B[0m\u001B[1;33m\u001B[0m\u001B[1;33m\u001B[0m\u001B[0m\n\u001B[0;32m    202\u001B[0m             \u001B[1;31m# TODO(mamu): Handle multi-objective cases.\u001B[0m\u001B[1;33m\u001B[0m\u001B[1;33m\u001B[0m\u001B[1;33m\u001B[0m\u001B[0m\n",
      "\u001B[1;32m<ipython-input-79-75fef08f6dad>\u001B[0m in \u001B[0;36mobjective\u001B[1;34m(trial)\u001B[0m\n\u001B[0;32m     10\u001B[0m                \u001B[0mverbose\u001B[0m\u001B[1;33m=\u001B[0m\u001B[1;32mTrue\u001B[0m\u001B[1;33m,\u001B[0m\u001B[1;33m\u001B[0m\u001B[1;33m\u001B[0m\u001B[0m\n\u001B[0;32m     11\u001B[0m                probability=True)\n\u001B[1;32m---> 12\u001B[1;33m     \u001B[0mmodel\u001B[0m\u001B[1;33m.\u001B[0m\u001B[0mfit\u001B[0m\u001B[1;33m(\u001B[0m\u001B[0mX_train_reviews_tr\u001B[0m\u001B[1;33m,\u001B[0m \u001B[0my_train_reviews\u001B[0m\u001B[1;33m)\u001B[0m\u001B[1;33m\u001B[0m\u001B[1;33m\u001B[0m\u001B[0m\n\u001B[0m\u001B[0;32m     13\u001B[0m     \u001B[0my_pred_probas\u001B[0m \u001B[1;33m=\u001B[0m \u001B[0mmodel\u001B[0m\u001B[1;33m.\u001B[0m\u001B[0mpredict_proba\u001B[0m\u001B[1;33m(\u001B[0m\u001B[0mX_valid_reviews_tr\u001B[0m\u001B[1;33m)\u001B[0m\u001B[1;33m\u001B[0m\u001B[1;33m\u001B[0m\u001B[0m\n\u001B[0;32m     14\u001B[0m     \u001B[1;32mreturn\u001B[0m \u001B[0mlog_loss\u001B[0m\u001B[1;33m(\u001B[0m\u001B[0my_valid_reviews\u001B[0m\u001B[1;33m,\u001B[0m \u001B[0my_pred_probas\u001B[0m\u001B[1;33m)\u001B[0m\u001B[1;33m\u001B[0m\u001B[1;33m\u001B[0m\u001B[0m\n",
      "\u001B[1;32mD:\\Anaconda\\lib\\site-packages\\sklearn\\svm\\_base.py\u001B[0m in \u001B[0;36mfit\u001B[1;34m(self, X, y, sample_weight)\u001B[0m\n\u001B[0;32m    224\u001B[0m \u001B[1;33m\u001B[0m\u001B[0m\n\u001B[0;32m    225\u001B[0m         \u001B[0mseed\u001B[0m \u001B[1;33m=\u001B[0m \u001B[0mrnd\u001B[0m\u001B[1;33m.\u001B[0m\u001B[0mrandint\u001B[0m\u001B[1;33m(\u001B[0m\u001B[0mnp\u001B[0m\u001B[1;33m.\u001B[0m\u001B[0miinfo\u001B[0m\u001B[1;33m(\u001B[0m\u001B[1;34m'i'\u001B[0m\u001B[1;33m)\u001B[0m\u001B[1;33m.\u001B[0m\u001B[0mmax\u001B[0m\u001B[1;33m)\u001B[0m\u001B[1;33m\u001B[0m\u001B[1;33m\u001B[0m\u001B[0m\n\u001B[1;32m--> 226\u001B[1;33m         \u001B[0mfit\u001B[0m\u001B[1;33m(\u001B[0m\u001B[0mX\u001B[0m\u001B[1;33m,\u001B[0m \u001B[0my\u001B[0m\u001B[1;33m,\u001B[0m \u001B[0msample_weight\u001B[0m\u001B[1;33m,\u001B[0m \u001B[0msolver_type\u001B[0m\u001B[1;33m,\u001B[0m \u001B[0mkernel\u001B[0m\u001B[1;33m,\u001B[0m \u001B[0mrandom_seed\u001B[0m\u001B[1;33m=\u001B[0m\u001B[0mseed\u001B[0m\u001B[1;33m)\u001B[0m\u001B[1;33m\u001B[0m\u001B[1;33m\u001B[0m\u001B[0m\n\u001B[0m\u001B[0;32m    227\u001B[0m         \u001B[1;31m# see comment on the other call to np.iinfo in this file\u001B[0m\u001B[1;33m\u001B[0m\u001B[1;33m\u001B[0m\u001B[1;33m\u001B[0m\u001B[0m\n\u001B[0;32m    228\u001B[0m \u001B[1;33m\u001B[0m\u001B[0m\n",
      "\u001B[1;32mD:\\Anaconda\\lib\\site-packages\\sklearn\\svm\\_base.py\u001B[0m in \u001B[0;36m_sparse_fit\u001B[1;34m(self, X, y, sample_weight, solver_type, kernel, random_seed)\u001B[0m\n\u001B[0;32m    299\u001B[0m             \u001B[0mself\u001B[0m\u001B[1;33m.\u001B[0m\u001B[0mintercept_\u001B[0m\u001B[1;33m,\u001B[0m \u001B[0mself\u001B[0m\u001B[1;33m.\u001B[0m\u001B[0m_n_support\u001B[0m\u001B[1;33m,\u001B[0m\u001B[0;31m \u001B[0m\u001B[0;31m\\\u001B[0m\u001B[1;33m\u001B[0m\u001B[1;33m\u001B[0m\u001B[0m\n\u001B[0;32m    300\u001B[0m             \u001B[0mself\u001B[0m\u001B[1;33m.\u001B[0m\u001B[0m_probA\u001B[0m\u001B[1;33m,\u001B[0m \u001B[0mself\u001B[0m\u001B[1;33m.\u001B[0m\u001B[0m_probB\u001B[0m\u001B[1;33m,\u001B[0m \u001B[0mself\u001B[0m\u001B[1;33m.\u001B[0m\u001B[0mfit_status_\u001B[0m \u001B[1;33m=\u001B[0m\u001B[0;31m \u001B[0m\u001B[0;31m\\\u001B[0m\u001B[1;33m\u001B[0m\u001B[1;33m\u001B[0m\u001B[0m\n\u001B[1;32m--> 301\u001B[1;33m             libsvm_sparse.libsvm_sparse_train(\n\u001B[0m\u001B[0;32m    302\u001B[0m                 \u001B[0mX\u001B[0m\u001B[1;33m.\u001B[0m\u001B[0mshape\u001B[0m\u001B[1;33m[\u001B[0m\u001B[1;36m1\u001B[0m\u001B[1;33m]\u001B[0m\u001B[1;33m,\u001B[0m \u001B[0mX\u001B[0m\u001B[1;33m.\u001B[0m\u001B[0mdata\u001B[0m\u001B[1;33m,\u001B[0m \u001B[0mX\u001B[0m\u001B[1;33m.\u001B[0m\u001B[0mindices\u001B[0m\u001B[1;33m,\u001B[0m \u001B[0mX\u001B[0m\u001B[1;33m.\u001B[0m\u001B[0mindptr\u001B[0m\u001B[1;33m,\u001B[0m \u001B[0my\u001B[0m\u001B[1;33m,\u001B[0m \u001B[0msolver_type\u001B[0m\u001B[1;33m,\u001B[0m\u001B[1;33m\u001B[0m\u001B[1;33m\u001B[0m\u001B[0m\n\u001B[0;32m    303\u001B[0m                 \u001B[0mkernel_type\u001B[0m\u001B[1;33m,\u001B[0m \u001B[0mself\u001B[0m\u001B[1;33m.\u001B[0m\u001B[0mdegree\u001B[0m\u001B[1;33m,\u001B[0m \u001B[0mself\u001B[0m\u001B[1;33m.\u001B[0m\u001B[0m_gamma\u001B[0m\u001B[1;33m,\u001B[0m \u001B[0mself\u001B[0m\u001B[1;33m.\u001B[0m\u001B[0mcoef0\u001B[0m\u001B[1;33m,\u001B[0m \u001B[0mself\u001B[0m\u001B[1;33m.\u001B[0m\u001B[0mtol\u001B[0m\u001B[1;33m,\u001B[0m\u001B[1;33m\u001B[0m\u001B[1;33m\u001B[0m\u001B[0m\n",
      "\u001B[1;32msklearn\\svm\\_libsvm_sparse.pyx\u001B[0m in \u001B[0;36msklearn.svm._libsvm_sparse.libsvm_sparse_train\u001B[1;34m()\u001B[0m\n",
      "\u001B[1;32mD:\\Anaconda\\lib\\site-packages\\scipy\\sparse\\compressed.py\u001B[0m in \u001B[0;36m__init__\u001B[1;34m(self, arg1, shape, dtype, copy)\u001B[0m\n\u001B[0;32m     25\u001B[0m     \u001B[1;34m\"\"\"base matrix class for compressed row- and column-oriented matrices\"\"\"\u001B[0m\u001B[1;33m\u001B[0m\u001B[1;33m\u001B[0m\u001B[0m\n\u001B[0;32m     26\u001B[0m \u001B[1;33m\u001B[0m\u001B[0m\n\u001B[1;32m---> 27\u001B[1;33m     \u001B[1;32mdef\u001B[0m \u001B[0m__init__\u001B[0m\u001B[1;33m(\u001B[0m\u001B[0mself\u001B[0m\u001B[1;33m,\u001B[0m \u001B[0marg1\u001B[0m\u001B[1;33m,\u001B[0m \u001B[0mshape\u001B[0m\u001B[1;33m=\u001B[0m\u001B[1;32mNone\u001B[0m\u001B[1;33m,\u001B[0m \u001B[0mdtype\u001B[0m\u001B[1;33m=\u001B[0m\u001B[1;32mNone\u001B[0m\u001B[1;33m,\u001B[0m \u001B[0mcopy\u001B[0m\u001B[1;33m=\u001B[0m\u001B[1;32mFalse\u001B[0m\u001B[1;33m)\u001B[0m\u001B[1;33m:\u001B[0m\u001B[1;33m\u001B[0m\u001B[1;33m\u001B[0m\u001B[0m\n\u001B[0m\u001B[0;32m     28\u001B[0m         \u001B[0m_data_matrix\u001B[0m\u001B[1;33m.\u001B[0m\u001B[0m__init__\u001B[0m\u001B[1;33m(\u001B[0m\u001B[0mself\u001B[0m\u001B[1;33m)\u001B[0m\u001B[1;33m\u001B[0m\u001B[1;33m\u001B[0m\u001B[0m\n\u001B[0;32m     29\u001B[0m \u001B[1;33m\u001B[0m\u001B[0m\n",
      "\u001B[1;31mKeyboardInterrupt\u001B[0m: "
     ]
    }
   ],
   "source": [
    "available_kernels = ['poly', 'sigmoid', 'linear']\n",
    "def objective(trial: optuna.trial.Trial):\n",
    "    kernel = trial.suggest_categorical('kernel', \n",
    "                                           choices=available_kernels)\n",
    "    degree = trial.suggest_int('degree', 3,6)\n",
    "    print(f\"Trying: {kernel}\")\n",
    "    model = SVC(kernel=kernel,\n",
    "                degree=degree,\n",
    "                gamma='scale',\n",
    "               verbose=True,\n",
    "               probability=True,\n",
    "               random_state=42)\n",
    "    model.fit(X_train_reviews_tr, y_train_reviews)\n",
    "    y_pred_probas = model.predict_proba(X_valid_reviews_tr)\n",
    "    return log_loss(y_valid_reviews, y_pred_probas)\n",
    "\n",
    "if not best_model_svm_reviews_is_saved:\n",
    "    study_svm_reviews = optuna.create_study(direction='minimize')\n",
    "    # optuna.logging.set_verbosity(optuna.logging.DEBUG)\n",
    "    study_svm_reviews.optimize(objective, n_trials=5,show_progress_bar=True,n_jobs=-1)\n",
    "\n",
    "    study_svm_reviews.best_params"
   ]
  },
  {
   "cell_type": "code",
   "execution_count": 81,
   "id": "4f41fa59",
   "metadata": {},
   "outputs": [
    {
     "name": "stdout",
     "output_type": "stream",
     "text": [
      "[LibSVM]"
     ]
    },
    {
     "ename": "NameError",
     "evalue": "name 'y_preds_svm' is not defined",
     "output_type": "error",
     "traceback": [
      "\u001B[1;31m---------------------------------------------------------------------------\u001B[0m",
      "\u001B[1;31mNameError\u001B[0m                                 Traceback (most recent call last)",
      "\u001B[1;32m<ipython-input-81-67c6b5981bdc>\u001B[0m in \u001B[0;36m<module>\u001B[1;34m\u001B[0m\n\u001B[0;32m      4\u001B[0m \u001B[0my_preds_svm_reviews\u001B[0m \u001B[1;33m=\u001B[0m \u001B[0mbest_model_svm\u001B[0m\u001B[1;33m.\u001B[0m\u001B[0mpredict\u001B[0m\u001B[1;33m(\u001B[0m\u001B[0mX_valid_reviews_tr\u001B[0m\u001B[1;33m)\u001B[0m\u001B[1;33m\u001B[0m\u001B[1;33m\u001B[0m\u001B[0m\n\u001B[0;32m      5\u001B[0m \u001B[1;33m\u001B[0m\u001B[0m\n\u001B[1;32m----> 6\u001B[1;33m \u001B[0mbalanced_acc_svm_reviews\u001B[0m \u001B[1;33m=\u001B[0m \u001B[0mbalanced_accuracy_score\u001B[0m\u001B[1;33m(\u001B[0m\u001B[0my_valid_reviews\u001B[0m\u001B[1;33m,\u001B[0m \u001B[0my_preds_svm\u001B[0m\u001B[1;33m)\u001B[0m\u001B[1;33m\u001B[0m\u001B[1;33m\u001B[0m\u001B[0m\n\u001B[0m",
      "\u001B[1;31mNameError\u001B[0m: name 'y_preds_svm' is not defined"
     ]
    }
   ],
   "source": [
    "if not best_model_svm_reviews_is_saved:\n",
    "    best_model_svm_reviews = SVC(kernel='linear', verbose=True)\n",
    "    best_model_svm_reviews.fit(X_train_reviews_tr, y_train_reviews)"
   ]
  },
  {
   "cell_type": "code",
   "execution_count": null,
   "id": "9fff875e",
   "metadata": {},
   "outputs": [],
   "source": [
    "if not best_model_svm_reviews_is_saved:\n",
    "    pickle.dump(best_model_svm_reviews, open('models/best_model_svm_reviews.sav', 'wb'))\n",
    "    best_model_svm_reviews_is_saved = True\n",
    "else:\n",
    "    best_model_svm_reviews=pickle.load(open('models/best_model_svm_reviews.sav', 'rb'))"
   ]
  },
  {
   "cell_type": "code",
   "execution_count": 82,
   "id": "051295b3",
   "metadata": {},
   "outputs": [],
   "source": [
    "y_preds_svm_reviews = best_model_svm_reviews.predict(X_valid_reviews_tr)\n",
    "\n",
    "balanced_acc_svm_reviews = balanced_accuracy_score(y_valid_reviews, y_preds_svm_reviews)"
   ]
  },
  {
   "cell_type": "code",
   "execution_count": 83,
   "id": "dfe38d59",
   "metadata": {},
   "outputs": [
    {
     "data": {
      "text/plain": [
       "0.7806725304721253"
      ]
     },
     "execution_count": 83,
     "metadata": {},
     "output_type": "execute_result"
    }
   ],
   "source": [
    "balanced_acc_svm_reviews"
   ]
  },
  {
   "cell_type": "markdown",
   "id": "fb4db66e",
   "metadata": {},
   "source": [
    "Balanced accuracy for reviews dataset with SVM: __0.78__"
   ]
  },
  {
   "cell_type": "markdown",
   "id": "8b83a68c",
   "metadata": {},
   "source": [
    "#### News dataset"
   ]
  },
  {
   "cell_type": "code",
   "execution_count": null,
   "id": "42fff08f",
   "metadata": {},
   "outputs": [
    {
     "name": "stderr",
     "output_type": "stream",
     "text": [
      "\u001B[32m[I 2023-02-05 11:22:17,839]\u001B[0m A new study created in memory with name: no-name-9aa5c437-c092-4c1e-87cd-6447dd4b3689\u001B[0m\n",
      "D:\\Anaconda\\lib\\site-packages\\optuna\\progress_bar.py:56: ExperimentalWarning: Progress bar is experimental (supported from v1.2.0). The interface can change in the future.\n",
      "  self._init_valid()\n"
     ]
    },
    {
     "data": {
      "application/vnd.jupyter.widget-view+json": {
       "model_id": "f89c3d6047c74e3b9b647586e1a2ad6c",
       "version_major": 2,
       "version_minor": 0
      },
      "text/plain": [
       "  0%|          | 0/5 [00:00<?, ?it/s]"
      ]
     },
     "metadata": {},
     "output_type": "display_data"
    },
    {
     "name": "stdout",
     "output_type": "stream",
     "text": [
      "Trying: sigmoid, deg=5\n",
      "[LibSVM]"
     ]
    }
   ],
   "source": [
    "available_kernels = ['poly', 'sigmoid', 'linear']\n",
    "def objective(trial: optuna.trial.Trial):\n",
    "    kernel = trial.suggest_categorical('kernel', \n",
    "                                           choices=available_kernels)\n",
    "    degree = trial.suggest_int('degree', 3,6)\n",
    "    print(f\"Trying: {kernel}, deg={degree}\")\n",
    "    model = SVC(kernel=kernel,\n",
    "                degree=degree,\n",
    "                gamma='scale',\n",
    "               verbose=True,\n",
    "               probability=True,\n",
    "               random_state=42)\n",
    "    model.fit(X_train_news_tr, y_train_news)\n",
    "    y_pred_probas = model.predict_proba(X_valid_news_tr)\n",
    "    return log_loss(y_valid_news, y_pred_probas)\n",
    "\n",
    "if not best_model_svm_news_is_saved:\n",
    "    study_news_svm = optuna.create_study(direction='minimize')\n",
    "    # optuna.logging.set_verbosity(optuna.logging.DEBUG)\n",
    "    study_news_svm.optimize(objective, n_trials=5,show_progress_bar=True,n_jobs=-1)\n",
    "\n",
    "    study_news_svm.best_params"
   ]
  },
  {
   "cell_type": "code",
   "execution_count": 81,
   "id": "74ca490b",
   "metadata": {},
   "outputs": [
    {
     "name": "stdout",
     "output_type": "stream",
     "text": [
      "[LibSVM]"
     ]
    },
    {
     "ename": "NameError",
     "evalue": "name 'y_preds_svm' is not defined",
     "output_type": "error",
     "traceback": [
      "\u001B[1;31m---------------------------------------------------------------------------\u001B[0m",
      "\u001B[1;31mNameError\u001B[0m                                 Traceback (most recent call last)",
      "\u001B[1;32m<ipython-input-81-67c6b5981bdc>\u001B[0m in \u001B[0;36m<module>\u001B[1;34m\u001B[0m\n\u001B[0;32m      4\u001B[0m \u001B[0my_preds_svm_reviews\u001B[0m \u001B[1;33m=\u001B[0m \u001B[0mbest_model_svm\u001B[0m\u001B[1;33m.\u001B[0m\u001B[0mpredict\u001B[0m\u001B[1;33m(\u001B[0m\u001B[0mX_valid_reviews_tr\u001B[0m\u001B[1;33m)\u001B[0m\u001B[1;33m\u001B[0m\u001B[1;33m\u001B[0m\u001B[0m\n\u001B[0;32m      5\u001B[0m \u001B[1;33m\u001B[0m\u001B[0m\n\u001B[1;32m----> 6\u001B[1;33m \u001B[0mbalanced_acc_svm_reviews\u001B[0m \u001B[1;33m=\u001B[0m \u001B[0mbalanced_accuracy_score\u001B[0m\u001B[1;33m(\u001B[0m\u001B[0my_valid_reviews\u001B[0m\u001B[1;33m,\u001B[0m \u001B[0my_preds_svm\u001B[0m\u001B[1;33m)\u001B[0m\u001B[1;33m\u001B[0m\u001B[1;33m\u001B[0m\u001B[0m\n\u001B[0m",
      "\u001B[1;31mNameError\u001B[0m: name 'y_preds_svm' is not defined"
     ]
    }
   ],
   "source": [
    "if not best_model_nn_news_is_saved:\n",
    "    best_model_svm_news = SVC(kernel='linear', verbose=True)\n",
    "    best_model_svm_news.fit(X_train_news_tr, y_train_news)"
   ]
  },
  {
   "cell_type": "code",
   "execution_count": null,
   "id": "5e94c333",
   "metadata": {},
   "outputs": [],
   "source": [
    "if not best_model_svm_news_is_saved:\n",
    "    pickle.dump(best_model_svm_news, open('models/best_model_svm_news.sav', 'wb'))\n",
    "else:\n",
    "    best_model_svm_news=pickle.load(open('models/best_model_svm_news.sav', 'rb'))"
   ]
  },
  {
   "cell_type": "code",
   "execution_count": 82,
   "id": "b51fb648",
   "metadata": {},
   "outputs": [],
   "source": [
    "y_preds_svm_news = best_model_svm_news.predict(X_valid_news_tr)\n",
    "\n",
    "balanced_acc_svm_news = balanced_accuracy_score(y_valid_news, y_preds_svm_news)"
   ]
  },
  {
   "cell_type": "code",
   "execution_count": 83,
   "id": "9e17dc50",
   "metadata": {},
   "outputs": [
    {
     "data": {
      "text/plain": [
       "0.7806725304721253"
      ]
     },
     "execution_count": 83,
     "metadata": {},
     "output_type": "execute_result"
    }
   ],
   "source": [
    "balanced_acc_svm_news"
   ]
  },
  {
   "cell_type": "markdown",
   "id": "906b52bc",
   "metadata": {},
   "source": [
    "Balanced accuracy for news dataset with SVM: __0.__"
   ]
  },
  {
   "cell_type": "markdown",
   "id": "17a69f07",
   "metadata": {},
   "source": [
    "## Evaluating shallow models"
   ]
  },
  {
   "cell_type": "code",
   "execution_count": null,
   "id": "04141646",
   "metadata": {},
   "outputs": [],
   "source": []
  },
  {
   "cell_type": "markdown",
   "id": "bc84c434",
   "metadata": {},
   "source": [
    "## Tranining RNN architectures"
   ]
  },
  {
   "cell_type": "markdown",
   "id": "0071d9d0",
   "metadata": {},
   "source": [
    "### Transfer learning with BERT as a base model"
   ]
  },
  {
   "cell_type": "code",
   "execution_count": null,
   "id": "385491a9",
   "metadata": {},
   "outputs": [],
   "source": []
  },
  {
   "cell_type": "markdown",
   "id": "6209c298",
   "metadata": {},
   "source": [
    "### Architecture 2"
   ]
  },
  {
   "cell_type": "code",
   "execution_count": null,
   "id": "68b47439",
   "metadata": {},
   "outputs": [],
   "source": []
  },
  {
   "cell_type": "markdown",
   "id": "94383f7c",
   "metadata": {},
   "source": [
    "## Evaluating RNN performance"
   ]
  },
  {
   "cell_type": "code",
   "execution_count": null,
   "id": "f6d0f6cf",
   "metadata": {},
   "outputs": [],
   "source": []
  },
  {
   "cell_type": "markdown",
   "id": "f039c92d",
   "metadata": {},
   "source": [
    "## Comparison: RNNs vs Shallow"
   ]
  },
  {
   "cell_type": "code",
   "execution_count": null,
   "id": "ce501ef5",
   "metadata": {},
   "outputs": [],
   "source": []
  }
 ],
 "metadata": {
  "kernelspec": {
   "display_name": "Python 3",
   "language": "python",
   "name": "python3"
  },
  "language_info": {
   "codemirror_mode": {
    "name": "ipython",
    "version": 3
   },
   "file_extension": ".py",
   "mimetype": "text/x-python",
   "name": "python",
   "nbconvert_exporter": "python",
   "pygments_lexer": "ipython3",
   "version": "3.10.5"
  }
 },
 "nbformat": 4,
 "nbformat_minor": 5
}
