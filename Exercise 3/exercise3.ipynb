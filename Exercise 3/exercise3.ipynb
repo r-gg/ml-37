{
 "cells": [
  {
   "cell_type": "markdown",
   "id": "f3e5012c",
   "metadata": {},
   "source": [
    "# Exercise 3\n",
    "\n",
    "## Imports"
   ]
  },
  {
   "cell_type": "code",
   "execution_count": 26,
   "id": "7dcc84cd",
   "metadata": {},
   "outputs": [],
   "source": [
    "import time\n",
    "import optuna\n",
    "import pandas as pd\n",
    "import matplotlib.pyplot as plt\n",
    "import seaborn as sns\n",
    "import numpy as np\n",
    "from sklearn.model_selection import train_test_split"
   ]
  },
  {
   "cell_type": "markdown",
   "id": "ea272b4b",
   "metadata": {},
   "source": [
    "## Data loading"
   ]
  },
  {
   "cell_type": "code",
   "execution_count": 27,
   "id": "5062e02a",
   "metadata": {},
   "outputs": [],
   "source": [
    "ag_news_train_df = pd.read_csv('data/ag_news_train.csv')\n",
    "ag_news_test_df = pd.read_csv('data/ag_news_test.csv')\n",
    "amazon_reviews_df = pd.read_csv('data/cleaned_amazon_reviews.csv')"
   ]
  },
  {
   "cell_type": "code",
   "execution_count": 28,
   "id": "1ea0c79d",
   "metadata": {},
   "outputs": [
    {
     "data": {
      "text/plain": [
       "(120000, 3)"
      ]
     },
     "execution_count": 28,
     "metadata": {},
     "output_type": "execute_result"
    }
   ],
   "source": [
    "ag_news_train_df.shape"
   ]
  },
  {
   "cell_type": "code",
   "execution_count": 29,
   "id": "75fd8ab0",
   "metadata": {},
   "outputs": [
    {
     "data": {
      "text/plain": [
       "(7600, 3)"
      ]
     },
     "execution_count": 29,
     "metadata": {},
     "output_type": "execute_result"
    }
   ],
   "source": [
    "ag_news_test_df.shape"
   ]
  },
  {
   "cell_type": "code",
   "execution_count": 30,
   "id": "5eb12b67",
   "metadata": {},
   "outputs": [
    {
     "data": {
      "text/html": [
       "<div>\n",
       "<style scoped>\n",
       "    .dataframe tbody tr th:only-of-type {\n",
       "        vertical-align: middle;\n",
       "    }\n",
       "\n",
       "    .dataframe tbody tr th {\n",
       "        vertical-align: top;\n",
       "    }\n",
       "\n",
       "    .dataframe thead th {\n",
       "        text-align: right;\n",
       "    }\n",
       "</style>\n",
       "<table border=\"1\" class=\"dataframe\">\n",
       "  <thead>\n",
       "    <tr style=\"text-align: right;\">\n",
       "      <th></th>\n",
       "      <th>Class Index</th>\n",
       "      <th>Title</th>\n",
       "      <th>Description</th>\n",
       "    </tr>\n",
       "  </thead>\n",
       "  <tbody>\n",
       "    <tr>\n",
       "      <th>0</th>\n",
       "      <td>3</td>\n",
       "      <td>Wall St. Bears Claw Back Into the Black (Reuters)</td>\n",
       "      <td>Reuters - Short-sellers, Wall Street's dwindli...</td>\n",
       "    </tr>\n",
       "    <tr>\n",
       "      <th>1</th>\n",
       "      <td>3</td>\n",
       "      <td>Carlyle Looks Toward Commercial Aerospace (Reu...</td>\n",
       "      <td>Reuters - Private investment firm Carlyle Grou...</td>\n",
       "    </tr>\n",
       "    <tr>\n",
       "      <th>2</th>\n",
       "      <td>3</td>\n",
       "      <td>Oil and Economy Cloud Stocks' Outlook (Reuters)</td>\n",
       "      <td>Reuters - Soaring crude prices plus worries\\ab...</td>\n",
       "    </tr>\n",
       "    <tr>\n",
       "      <th>3</th>\n",
       "      <td>3</td>\n",
       "      <td>Iraq Halts Oil Exports from Main Southern Pipe...</td>\n",
       "      <td>Reuters - Authorities have halted oil export\\f...</td>\n",
       "    </tr>\n",
       "    <tr>\n",
       "      <th>4</th>\n",
       "      <td>3</td>\n",
       "      <td>Oil prices soar to all-time record, posing new...</td>\n",
       "      <td>AFP - Tearaway world oil prices, toppling reco...</td>\n",
       "    </tr>\n",
       "  </tbody>\n",
       "</table>\n",
       "</div>"
      ],
      "text/plain": [
       "   Class Index                                              Title  \\\n",
       "0            3  Wall St. Bears Claw Back Into the Black (Reuters)   \n",
       "1            3  Carlyle Looks Toward Commercial Aerospace (Reu...   \n",
       "2            3    Oil and Economy Cloud Stocks' Outlook (Reuters)   \n",
       "3            3  Iraq Halts Oil Exports from Main Southern Pipe...   \n",
       "4            3  Oil prices soar to all-time record, posing new...   \n",
       "\n",
       "                                         Description  \n",
       "0  Reuters - Short-sellers, Wall Street's dwindli...  \n",
       "1  Reuters - Private investment firm Carlyle Grou...  \n",
       "2  Reuters - Soaring crude prices plus worries\\ab...  \n",
       "3  Reuters - Authorities have halted oil export\\f...  \n",
       "4  AFP - Tearaway world oil prices, toppling reco...  "
      ]
     },
     "execution_count": 30,
     "metadata": {},
     "output_type": "execute_result"
    }
   ],
   "source": [
    "ag_news_train_df.head()"
   ]
  },
  {
   "cell_type": "code",
   "execution_count": 31,
   "id": "736a3fc8",
   "metadata": {},
   "outputs": [
    {
     "data": {
      "text/plain": [
       "(17340, 4)"
      ]
     },
     "execution_count": 31,
     "metadata": {},
     "output_type": "execute_result"
    }
   ],
   "source": [
    "amazon_reviews_df.shape"
   ]
  },
  {
   "cell_type": "code",
   "execution_count": 32,
   "id": "12a8e34c",
   "metadata": {},
   "outputs": [
    {
     "data": {
      "text/html": [
       "<div>\n",
       "<style scoped>\n",
       "    .dataframe tbody tr th:only-of-type {\n",
       "        vertical-align: middle;\n",
       "    }\n",
       "\n",
       "    .dataframe tbody tr th {\n",
       "        vertical-align: top;\n",
       "    }\n",
       "\n",
       "    .dataframe thead th {\n",
       "        text-align: right;\n",
       "    }\n",
       "</style>\n",
       "<table border=\"1\" class=\"dataframe\">\n",
       "  <thead>\n",
       "    <tr style=\"text-align: right;\">\n",
       "      <th></th>\n",
       "      <th>sentiments</th>\n",
       "      <th>cleaned_review</th>\n",
       "      <th>cleaned_review_length</th>\n",
       "      <th>review_score</th>\n",
       "    </tr>\n",
       "  </thead>\n",
       "  <tbody>\n",
       "    <tr>\n",
       "      <th>0</th>\n",
       "      <td>positive</td>\n",
       "      <td>i wish would have gotten one earlier love it a...</td>\n",
       "      <td>19</td>\n",
       "      <td>5.0</td>\n",
       "    </tr>\n",
       "    <tr>\n",
       "      <th>1</th>\n",
       "      <td>neutral</td>\n",
       "      <td>i ve learned this lesson again open the packag...</td>\n",
       "      <td>88</td>\n",
       "      <td>1.0</td>\n",
       "    </tr>\n",
       "    <tr>\n",
       "      <th>2</th>\n",
       "      <td>neutral</td>\n",
       "      <td>it is so slow and lags find better option</td>\n",
       "      <td>9</td>\n",
       "      <td>2.0</td>\n",
       "    </tr>\n",
       "    <tr>\n",
       "      <th>3</th>\n",
       "      <td>neutral</td>\n",
       "      <td>roller ball stopped working within months of m...</td>\n",
       "      <td>12</td>\n",
       "      <td>1.0</td>\n",
       "    </tr>\n",
       "    <tr>\n",
       "      <th>4</th>\n",
       "      <td>neutral</td>\n",
       "      <td>i like the color and size but it few days out ...</td>\n",
       "      <td>21</td>\n",
       "      <td>1.0</td>\n",
       "    </tr>\n",
       "  </tbody>\n",
       "</table>\n",
       "</div>"
      ],
      "text/plain": [
       "  sentiments                                     cleaned_review  \\\n",
       "0   positive  i wish would have gotten one earlier love it a...   \n",
       "1    neutral  i ve learned this lesson again open the packag...   \n",
       "2    neutral          it is so slow and lags find better option   \n",
       "3    neutral  roller ball stopped working within months of m...   \n",
       "4    neutral  i like the color and size but it few days out ...   \n",
       "\n",
       "   cleaned_review_length  review_score  \n",
       "0                     19           5.0  \n",
       "1                     88           1.0  \n",
       "2                      9           2.0  \n",
       "3                     12           1.0  \n",
       "4                     21           1.0  "
      ]
     },
     "execution_count": 32,
     "metadata": {},
     "output_type": "execute_result"
    }
   ],
   "source": [
    "amazon_reviews_df.head()"
   ]
  },
  {
   "cell_type": "code",
   "execution_count": 33,
   "id": "ce6fb755",
   "metadata": {},
   "outputs": [
    {
     "data": {
      "text/plain": [
       "sentiments               0\n",
       "cleaned_review           3\n",
       "cleaned_review_length    0\n",
       "review_score             0\n",
       "dtype: int64"
      ]
     },
     "execution_count": 33,
     "metadata": {},
     "output_type": "execute_result"
    }
   ],
   "source": [
    "amazon_reviews_df.isna().sum()"
   ]
  },
  {
   "cell_type": "code",
   "execution_count": 34,
   "id": "bac75d86",
   "metadata": {},
   "outputs": [
    {
     "data": {
      "text/plain": [
       "<AxesSubplot:>"
      ]
     },
     "execution_count": 34,
     "metadata": {},
     "output_type": "execute_result"
    },
    {
     "data": {
      "image/png": "[encoded data removed]",
      "text/plain": [
       "<Figure size 432x288 with 1 Axes>"
      ]
     },
     "metadata": {
      "needs_background": "light"
     },
     "output_type": "display_data"
    }
   ],
   "source": [
    "amazon_reviews_df.sentiments.value_counts().plot(kind='bar')"
   ]
  },
  {
   "cell_type": "markdown",
   "id": "4002cb2c",
   "metadata": {},
   "source": [
    "Unbalanced target"
   ]
  },
  {
   "cell_type": "code",
   "execution_count": 35,
   "id": "a5c8d374",
   "metadata": {},
   "outputs": [
    {
     "data": {
      "text/plain": [
       "<AxesSubplot:>"
      ]
     },
     "execution_count": 35,
     "metadata": {},
     "output_type": "execute_result"
    },
    {
     "data": {
      "image/png": "[encoded data removed]",
      "text/plain": [
       "<Figure size 432x288 with 1 Axes>"
      ]
     },
     "metadata": {
      "needs_background": "light"
     },
     "output_type": "display_data"
    }
   ],
   "source": [
    "ag_news_train_df['Class Index'].value_counts().plot(kind='bar')"
   ]
  },
  {
   "cell_type": "markdown",
   "id": "7adbe05e",
   "metadata": {},
   "source": [
    "Balanced target"
   ]
  },
  {
   "cell_type": "markdown",
   "id": "299d5dfa",
   "metadata": {},
   "source": [
    "#### Distribution of review lengths"
   ]
  },
  {
   "cell_type": "code",
   "execution_count": 36,
   "id": "eab0fb4f",
   "metadata": {},
   "outputs": [
    {
     "data": {
      "text/plain": [
       "(array([1.4993e+04, 1.8380e+03, 3.4300e+02, 8.3000e+01, 5.0000e+01,\n",
       "        1.2000e+01, 9.0000e+00, 5.0000e+00, 4.0000e+00, 3.0000e+00]),\n",
       " array([  0. ,  57.1, 114.2, 171.3, 228.4, 285.5, 342.6, 399.7, 456.8,\n",
       "        513.9, 571. ]),\n",
       " <BarContainer object of 10 artists>)"
      ]
     },
     "execution_count": 36,
     "metadata": {},
     "output_type": "execute_result"
    },
    {
     "data": {
      "image/png": "[encoded data removed]",
      "text/plain": [
       "<Figure size 432x288 with 1 Axes>"
      ]
     },
     "metadata": {
      "needs_background": "light"
     },
     "output_type": "display_data"
    }
   ],
   "source": [
    "plt.hist(amazon_reviews_df.cleaned_review_length)"
   ]
  },
  {
   "cell_type": "markdown",
   "id": "3ade3e0b",
   "metadata": {},
   "source": [
    "#### Distribution of the news article lengths"
   ]
  },
  {
   "cell_type": "code",
   "execution_count": 37,
   "id": "39ed6df0",
   "metadata": {},
   "outputs": [
    {
     "data": {
      "text/plain": [
       "(array([4.8100e+03, 6.7638e+04, 4.1664e+04, 4.2770e+03, 1.0700e+03,\n",
       "        2.9800e+02, 9.3000e+01, 9.0000e+01, 2.9000e+01, 3.1000e+01]),\n",
       " array([  6. , 103.9, 201.8, 299.7, 397.6, 495.5, 593.4, 691.3, 789.2,\n",
       "        887.1, 985. ]),\n",
       " <BarContainer object of 10 artists>)"
      ]
     },
     "execution_count": 37,
     "metadata": {},
     "output_type": "execute_result"
    },
    {
     "data": {
      "image/png": "[encoded data removed]",
      "text/plain": [
       "<Figure size 432x288 with 1 Axes>"
      ]
     },
     "metadata": {
      "needs_background": "light"
     },
     "output_type": "display_data"
    }
   ],
   "source": [
    "plt.hist(ag_news_train_df.Description.str.len())"
   ]
  },
  {
   "cell_type": "code",
   "execution_count": 38,
   "id": "8f9dfb36",
   "metadata": {},
   "outputs": [
    {
     "data": {
      "text/plain": [
       "Class Index    False\n",
       "Title          False\n",
       "Description    False\n",
       "dtype: bool"
      ]
     },
     "execution_count": 38,
     "metadata": {},
     "output_type": "execute_result"
    }
   ],
   "source": [
    "ag_news_train_df.isna().any()"
   ]
  },
  {
   "cell_type": "markdown",
   "id": "50a3e5cf",
   "metadata": {},
   "source": [
    "#### Removing NaNs"
   ]
  },
  {
   "cell_type": "code",
   "execution_count": 39,
   "id": "dc47766a",
   "metadata": {},
   "outputs": [],
   "source": [
    "amazon_reviews_df.dropna(inplace=True)"
   ]
  },
  {
   "cell_type": "markdown",
   "id": "8dcfe50b",
   "metadata": {},
   "source": [
    "### Splitting amazon reviews into train and test set"
   ]
  },
  {
   "cell_type": "code",
   "execution_count": 40,
   "id": "8bc92323",
   "metadata": {},
   "outputs": [],
   "source": [
    "X_amazon_reviews = amazon_reviews_df.drop(columns=['sentiments'])\n",
    "y_amazon_reviews = amazon_reviews_df['sentiments']"
   ]
  },
  {
   "cell_type": "code",
   "execution_count": 41,
   "id": "a24cb982",
   "metadata": {},
   "outputs": [],
   "source": [
    "X_train_reviews, X_test_reviews, y_train_reviews, y_test_reviews = train_test_split(X_amazon_reviews,\n",
    "                                                                                   y_amazon_reviews,\n",
    "                                                                                   random_state=42,\n",
    "                                                                                   test_size=0.2)"
   ]
  },
  {
   "cell_type": "code",
   "execution_count": 53,
   "id": "fd0093e5",
   "metadata": {},
   "outputs": [],
   "source": [
    "X_train_reviews, X_valid_reviews, y_train_reviews, y_valid_reviews = train_test_split(X_train_reviews,\n",
    "                                                                                     y_train_reviews,\n",
    "                                                                                     random_state=42,\n",
    "                                                                                     test_size = 0.33)"
   ]
  },
  {
   "cell_type": "markdown",
   "id": "8032c61c",
   "metadata": {},
   "source": [
    "### Splitting ag news into X and y's"
   ]
  },
  {
   "cell_type": "markdown",
   "id": "4f852cef",
   "metadata": {},
   "source": [
    "Merging Title and Description into one field, \"Text\""
   ]
  },
  {
   "cell_type": "code",
   "execution_count": 42,
   "id": "4c3cd2fe",
   "metadata": {},
   "outputs": [],
   "source": [
    "ag_news_train_df['Text'] = ag_news_train_df[['Title', 'Description']].agg(' '.join,axis=1)\n",
    "ag_news_test_df['Text'] = ag_news_test_df[['Title', 'Description']].agg(' '.join,axis=1)"
   ]
  },
  {
   "cell_type": "code",
   "execution_count": 43,
   "id": "68408944",
   "metadata": {},
   "outputs": [
    {
     "data": {
      "text/plain": [
       "0         Wall St. Bears Claw Back Into the Black (Reute...\n",
       "1         Carlyle Looks Toward Commercial Aerospace (Reu...\n",
       "2         Oil and Economy Cloud Stocks' Outlook (Reuters...\n",
       "3         Iraq Halts Oil Exports from Main Southern Pipe...\n",
       "4         Oil prices soar to all-time record, posing new...\n",
       "                                ...                        \n",
       "119995    Pakistan's Musharraf Says Won't Quit as Army C...\n",
       "119996    Renteria signing a top-shelf deal Red Sox gene...\n",
       "119997    Saban not going to Dolphins yet The Miami Dolp...\n",
       "119998    Today's NFL games PITTSBURGH at NY GIANTS Time...\n",
       "119999    Nets get Carter from Raptors INDIANAPOLIS -- A...\n",
       "Name: Text, Length: 120000, dtype: object"
      ]
     },
     "execution_count": 43,
     "metadata": {},
     "output_type": "execute_result"
    }
   ],
   "source": [
    "ag_news_train_df['Text']"
   ]
  },
  {
   "cell_type": "code",
   "execution_count": 44,
   "id": "34bbe5fb",
   "metadata": {},
   "outputs": [],
   "source": [
    "X_train_news = ag_news_train_df['Text']\n",
    "y_train_news = ag_news_train_df['Class Index']\n",
    "\n",
    "X_test_news = ag_news_test_df['Text']\n",
    "y_test_news = ag_news_test_df['Class Index']"
   ]
  },
  {
   "cell_type": "code",
   "execution_count": 55,
   "id": "abcc402b",
   "metadata": {},
   "outputs": [],
   "source": [
    "X_train_news, X_valid_news, y_train_news, y_valid_news = train_test_split(X_train_news,\n",
    "                                                                          y_train_news,\n",
    "                                                                          random_state=42,\n",
    "                                                                          test_size = 0.33)"
   ]
  },
  {
   "cell_type": "markdown",
   "id": "01db62c8",
   "metadata": {},
   "source": [
    "## Naive feature extraction"
   ]
  },
  {
   "cell_type": "markdown",
   "id": "92a2492b",
   "metadata": {},
   "source": [
    "### Uni-Bigram vectorizer"
   ]
  },
  {
   "cell_type": "markdown",
   "id": "88e1e5e3",
   "metadata": {},
   "source": [
    "Because documents are quite short on average, we used the uni-bigram vectorizer (contains both unigrams and bigrams)"
   ]
  },
  {
   "cell_type": "markdown",
   "id": "a8eaa487",
   "metadata": {},
   "source": [
    "Following pieces of code were taken from Sklearn's text feature extraction tutorial. (https://scikit-learn.org/stable/modules/feature_extraction.html)"
   ]
  },
  {
   "cell_type": "code",
   "execution_count": 45,
   "id": "0e4b53c4",
   "metadata": {},
   "outputs": [],
   "source": [
    "from sklearn.feature_extraction.text import CountVectorizer"
   ]
  },
  {
   "cell_type": "code",
   "execution_count": 46,
   "id": "09dfe371",
   "metadata": {},
   "outputs": [],
   "source": [
    "bigram_vectorizer = CountVectorizer(ngram_range=(1,2), token_pattern=r'\\b\\w+\\b', min_df=1)"
   ]
  },
  {
   "cell_type": "code",
   "execution_count": 57,
   "id": "7aee8b67",
   "metadata": {},
   "outputs": [],
   "source": [
    "X_train_reviews_tr = bigram_vectorizer.fit_transform(X_train_reviews.cleaned_review)\n",
    "X_valid_reviews_tr = bigram_vectorizer.transform(X_valid_reviews.cleaned_review)\n",
    "X_test_reviews_tr = bigram_vectorizer.transform(X_test_reviews.cleaned_review)"
   ]
  },
  {
   "cell_type": "code",
   "execution_count": 48,
   "id": "431191c0",
   "metadata": {},
   "outputs": [
    {
     "data": {
      "text/plain": [
       "['a',\n",
       " 'a bit',\n",
       " 'a bunch',\n",
       " 'a dependable',\n",
       " 'a fantastic',\n",
       " 'a faster',\n",
       " 'a few',\n",
       " 'a flimsy',\n",
       " 'a friend',\n",
       " 'a gift',\n",
       " 'a good',\n",
       " 'a great',\n",
       " 'a little',\n",
       " 'a lot',\n",
       " 'a month',\n",
       " 'a pretty',\n",
       " 'a rechargeable',\n",
       " 'a solid',\n",
       " 'a sweet',\n",
       " 'a tad',\n",
       " 'a very',\n",
       " 'a waste',\n",
       " 'a well',\n",
       " 'aa',\n",
       " 'aa batteries',\n",
       " 'aa battery',\n",
       " 'aa only',\n",
       " 'aaa',\n",
       " 'aaa batteries',\n",
       " 'aaa battery',\n",
       " 'aaaaa',\n",
       " 'aaaaaaaaaaaahhhh',\n",
       " 'aaaaaaaaaaaahhhh hear',\n",
       " 'aaron',\n",
       " 'aaron diehl',\n",
       " 'aasdbvdb',\n",
       " 'abd',\n",
       " 'abd if',\n",
       " 'abilities',\n",
       " 'abilities after',\n",
       " 'abilities but',\n",
       " 'abilities over',\n",
       " 'ability',\n",
       " 'ability and',\n",
       " 'ability cause',\n",
       " 'ability it',\n",
       " 'ability on',\n",
       " 'ability to',\n",
       " 'ability with',\n",
       " 'abillity',\n",
       " 'abillity yet',\n",
       " 'abit',\n",
       " 'abit better',\n",
       " 'abit more',\n",
       " 'abit of',\n",
       " 'able',\n",
       " 'able to',\n",
       " 'about',\n",
       " 'about accuracy',\n",
       " 'about activating',\n",
       " 'about all',\n",
       " 'about almost',\n",
       " 'about am',\n",
       " 'about an',\n",
       " 'about and',\n",
       " 'about any',\n",
       " 'about anywhere',\n",
       " 'about as',\n",
       " 'about away',\n",
       " 'about background',\n",
       " 'about bad',\n",
       " 'about batteries',\n",
       " 'about battery',\n",
       " 'about being',\n",
       " 'about bucks',\n",
       " 'about but',\n",
       " 'about buying',\n",
       " 'about changing',\n",
       " 'about chargingdont',\n",
       " 'about constantly',\n",
       " 'about day',\n",
       " 'about days',\n",
       " 'about dead',\n",
       " 'about dealing',\n",
       " 'about delay',\n",
       " 'about different',\n",
       " 'about dollars',\n",
       " 'about eight',\n",
       " 'about electronics',\n",
       " 'about emails',\n",
       " 'about equipment',\n",
       " 'about ergonomics',\n",
       " 'about every',\n",
       " 'about everyday',\n",
       " 'about everything',\n",
       " 'about family',\n",
       " 'about feet',\n",
       " 'about few',\n",
       " 'about finding',\n",
       " 'about football',\n",
       " 'about for',\n",
       " 'about four',\n",
       " 'about friends',\n",
       " 'about ft',\n",
       " 'about full',\n",
       " 'about gaming',\n",
       " 'about getting',\n",
       " 'about giving',\n",
       " 'about haha',\n",
       " 'about half',\n",
       " 'about halfway',\n",
       " 'about handful',\n",
       " 'about having',\n",
       " 'about he',\n",
       " 'about headsets',\n",
       " 'about hearing',\n",
       " 'about here',\n",
       " 'about him',\n",
       " 'about his',\n",
       " 'about hour',\n",
       " 'about hours',\n",
       " 'about how',\n",
       " 'about hrs',\n",
       " 'about in',\n",
       " 'about inches',\n",
       " 'about is',\n",
       " 'about it',\n",
       " 'about jbl',\n",
       " 'about leaving',\n",
       " 'about let',\n",
       " 'about lights',\n",
       " 'about like',\n",
       " 'about long',\n",
       " 'about losing',\n",
       " 'about making',\n",
       " 'about meters',\n",
       " 'about miles',\n",
       " 'about million',\n",
       " 'about min',\n",
       " 'about minute',\n",
       " 'about minutes',\n",
       " 'about month',\n",
       " 'about months',\n",
       " 'about more',\n",
       " 'about mouse',\n",
       " 'about mph',\n",
       " 'about my',\n",
       " 'about new',\n",
       " 'about noise',\n",
       " 'about of',\n",
       " 'about once',\n",
       " 'about one',\n",
       " 'about or',\n",
       " 'about ordering',\n",
       " 'about plugging',\n",
       " 'about pm',\n",
       " 'about purchasing',\n",
       " 'about quieter',\n",
       " 'about really',\n",
       " 'about recharging',\n",
       " 'about refurb',\n",
       " 'about remembering',\n",
       " 'about replacing',\n",
       " 'about returning',\n",
       " 'about rgb',\n",
       " 'about rhis',\n",
       " 'about right',\n",
       " 'about seconds',\n",
       " 'about seeing',\n",
       " 'about seven',\n",
       " 'about short',\n",
       " 'about six',\n",
       " 'about sleep',\n",
       " 'about slow',\n",
       " 'about so',\n",
       " 'about something',\n",
       " 'about sound',\n",
       " 'about sounds',\n",
       " 'about speed',\n",
       " 'about stereo',\n",
       " 'about ten',\n",
       " 'about that',\n",
       " 'about thatspent',\n",
       " 'about the',\n",
       " 'about their',\n",
       " 'about them',\n",
       " 'about these',\n",
       " 'about this',\n",
       " 'about three',\n",
       " 'about times',\n",
       " 'about to',\n",
       " 'about tries',\n",
       " 'about turning',\n",
       " 'about twenty',\n",
       " 'about twice',\n",
       " 'about two',\n",
       " 'about uses',\n",
       " 'about using',\n",
       " 'about was',\n",
       " 'about week',\n",
       " 'about weeks',\n",
       " 'about what',\n",
       " 'about where',\n",
       " 'about who',\n",
       " 'about will',\n",
       " 'about wires',\n",
       " 'about would',\n",
       " 'about year',\n",
       " 'about years',\n",
       " 'about you',\n",
       " 'above',\n",
       " 'above and',\n",
       " 'above average',\n",
       " 'above expectations',\n",
       " 'above half',\n",
       " 'above it',\n",
       " 'above the',\n",
       " 'above was',\n",
       " 'above where',\n",
       " 'above wpm',\n",
       " 'abovepurchased',\n",
       " 'abovepurchased this',\n",
       " 'abroad',\n",
       " 'abrupt',\n",
       " 'abrupt rather',\n",
       " 'abruptly',\n",
       " 'abruptly had',\n",
       " 'abruptly stopped',\n",
       " 'abs',\n",
       " 'abs pipe',\n",
       " 'absolute',\n",
       " 'absolute best',\n",
       " 'absolute clarity',\n",
       " 'absolute crap',\n",
       " 'absolute deal',\n",
       " 'absolute garbage',\n",
       " 'absolute great',\n",
       " 'absolute joke',\n",
       " 'absolute junk',\n",
       " 'absolute last',\n",
       " 'absolute match',\n",
       " 'absolute pleasure',\n",
       " 'absolute poopoo',\n",
       " 'absolute trash',\n",
       " 'absolute waste',\n",
       " 'absolutely',\n",
       " 'absolutely amazing',\n",
       " 'absolutely awesome',\n",
       " 'absolutely baffled',\n",
       " 'absolutely beautiful',\n",
       " 'absolutely buy',\n",
       " 'absolutely can',\n",
       " 'absolutely comfortable',\n",
       " 'absolutely correct',\n",
       " 'absolutely debris',\n",
       " 'absolutely deserves',\n",
       " 'absolutely despised',\n",
       " 'absolutely don',\n",
       " 'absolutely done',\n",
       " 'absolutely everything',\n",
       " 'absolutely fell',\n",
       " 'absolutely great',\n",
       " 'absolutely in',\n",
       " 'absolutely incredible',\n",
       " 'absolutely love',\n",
       " 'absolutely loved',\n",
       " 'absolutely loves',\n",
       " 'absolutely no',\n",
       " 'absolutely not',\n",
       " 'absolutely nothing',\n",
       " 'absolutely nuts',\n",
       " 'absolutely perfect',\n",
       " 'absolutely purchase',\n",
       " 'absolutely quiet',\n",
       " 'absolutely recommend',\n",
       " 'absolutely ridiculous',\n",
       " 'absolutely smashed',\n",
       " 'absolutely sucks',\n",
       " 'absolutely terrible',\n",
       " 'absolutely the',\n",
       " 'absolutely trash',\n",
       " 'absolutely unbearable',\n",
       " 'absolutely untrue',\n",
       " 'absolutely useless',\n",
       " 'absolutely wonderful',\n",
       " 'absolutely worth',\n",
       " 'absolutely zero',\n",
       " 'absolutelyphenomenal',\n",
       " 'absolutelyphenomenal and',\n",
       " 'absolutley',\n",
       " 'absolutley love',\n",
       " 'absoulutely',\n",
       " 'absoulutely love',\n",
       " 'absurd',\n",
       " 'absurd the',\n",
       " 'absurdly',\n",
       " 'absurdly small',\n",
       " 'abt',\n",
       " 'abt buying',\n",
       " 'abunch',\n",
       " 'abunch of',\n",
       " 'abundant',\n",
       " 'abundant and',\n",
       " 'abuse',\n",
       " 'abuse but',\n",
       " 'abuse neglect',\n",
       " 'abuse of',\n",
       " 'abuse or',\n",
       " 'abuse then',\n",
       " 'abuse to',\n",
       " 'abused',\n",
       " 'abused as',\n",
       " 'abused unit',\n",
       " 'abuses',\n",
       " 'abuses of',\n",
       " 'abusrd',\n",
       " 'abusrd error',\n",
       " 'abysmal',\n",
       " 'abysmal have',\n",
       " 'abysmal my',\n",
       " 'ac',\n",
       " 'ac usb',\n",
       " 'ac wall',\n",
       " 'accent',\n",
       " 'accent lights',\n",
       " 'accept',\n",
       " 'accept all',\n",
       " 'accept any',\n",
       " 'accept charge',\n",
       " 'accept is',\n",
       " 'accept our',\n",
       " 'accept return',\n",
       " 'accept that',\n",
       " 'accept the',\n",
       " 'accept this',\n",
       " 'acceptable',\n",
       " 'acceptable but',\n",
       " 'acceptable especially',\n",
       " 'acceptable for',\n",
       " 'acceptable inexpensive',\n",
       " 'acceptable to',\n",
       " 'acceptable two',\n",
       " 'acceptable workaround',\n",
       " 'accepted',\n",
       " 'accepted it',\n",
       " 'accepting',\n",
       " 'accepting ac',\n",
       " 'accepting charge',\n",
       " 'accepts',\n",
       " 'accepts the',\n",
       " 'accesories',\n",
       " 'access',\n",
       " 'access bought',\n",
       " 'access is',\n",
       " 'access occasionally',\n",
       " 'access to',\n",
       " 'accessible',\n",
       " 'accessible and',\n",
       " 'accessible like',\n",
       " 'accessible sitting',\n",
       " 'accessories',\n",
       " 'accessories am',\n",
       " 'accessories however',\n",
       " 'accessories so',\n",
       " 'accessories tend',\n",
       " 'accessories that',\n",
       " 'accessory',\n",
       " 'accessory is',\n",
       " 'accessory that',\n",
       " 'accessory to',\n",
       " 'accident',\n",
       " 'accident all',\n",
       " 'accident and',\n",
       " 'accident anymore',\n",
       " 'accident of',\n",
       " 'accident several',\n",
       " 'accident since',\n",
       " 'accident when',\n",
       " 'accidental',\n",
       " 'accidental spills',\n",
       " 'accidental swim',\n",
       " 'accidentally',\n",
       " 'accidentally buy',\n",
       " 'accidentally closed',\n",
       " 'accidentally cut',\n",
       " 'accidentally dropped',\n",
       " 'accidentally kicked',\n",
       " 'accidentally leave',\n",
       " 'accidentally leaving',\n",
       " 'accidentally press',\n",
       " 'accidentally pressing',\n",
       " 'accidentally pulling',\n",
       " 'accidentally spill',\n",
       " 'accidentally tested',\n",
       " 'accidentally the',\n",
       " 'accidentally throw',\n",
       " 'accidentally touch',\n",
       " 'accidentally tugged',\n",
       " 'accidentally when',\n",
       " 'accidently',\n",
       " 'accidently broke',\n",
       " 'accidently keeps',\n",
       " 'accidently left',\n",
       " 'accidently move',\n",
       " 'accidentrn',\n",
       " 'accidents',\n",
       " 'accidents from',\n",
       " 'accidents happen',\n",
       " 'accidents of',\n",
       " 'accommodate',\n",
       " 'accommodate left',\n",
       " 'accommodation',\n",
       " 'accommodation and',\n",
       " 'accompanied',\n",
       " 'accompanied with',\n",
       " 'accompany',\n",
       " 'accompany her',\n",
       " 'according',\n",
       " 'according to',\n",
       " 'accordingly',\n",
       " 'accordingly if',\n",
       " 'account',\n",
       " 'account of',\n",
       " 'account the',\n",
       " 'accountable',\n",
       " 'accountable item',\n",
       " 'accountant',\n",
       " 'accountant and',\n",
       " 'accounts',\n",
       " 'accounts for',\n",
       " 'accounts locked',\n",
       " 'accounts out',\n",
       " 'accumulated',\n",
       " 'accumulated intuition',\n",
       " 'accuracy',\n",
       " 'accuracy buy',\n",
       " 'accuracy comes',\n",
       " 'accuracy however',\n",
       " 'accuracy in',\n",
       " 'accuracy is',\n",
       " 'accuracy little',\n",
       " 'accuracy when',\n",
       " 'accuracy while',\n",
       " 'accurate',\n",
       " 'accurate about',\n",
       " 'accurate and',\n",
       " 'accurate as',\n",
       " 'accurate because',\n",
       " 'accurate but',\n",
       " 'accurate comes',\n",
       " 'accurate control',\n",
       " 'accurate it',\n",
       " 'accurate like',\n",
       " 'accurate mouse',\n",
       " 'accurate now',\n",
       " 'accurate on',\n",
       " 'accurate so',\n",
       " 'accurate stay',\n",
       " 'accurate the',\n",
       " 'accurate to',\n",
       " 'accurate with',\n",
       " 'accurately',\n",
       " 'accurately and',\n",
       " 'accurately track',\n",
       " 'accustomed',\n",
       " 'accustomed to',\n",
       " 'aced',\n",
       " 'aced ff',\n",
       " 'aced vayne',\n",
       " 'acer',\n",
       " 'acer when',\n",
       " 'achieve',\n",
       " 'achieve full',\n",
       " 'achieved',\n",
       " 'achieved by',\n",
       " 'achieved with',\n",
       " 'achilles',\n",
       " 'achilles heel',\n",
       " 'aching',\n",
       " 'aching hurting',\n",
       " 'achy',\n",
       " 'achy have',\n",
       " 'acid',\n",
       " 'acid overall',\n",
       " 'acknowledge',\n",
       " 'acknowledge it',\n",
       " 'acknowledge that',\n",
       " 'acknowledge the',\n",
       " 'acnt',\n",
       " 'acnt fault',\n",
       " 'acoustic',\n",
       " 'acoustic wave',\n",
       " 'acoustics',\n",
       " 'acoustics was',\n",
       " 'acquisition',\n",
       " 'acquisition then',\n",
       " 'acres',\n",
       " 'acres can',\n",
       " 'across',\n",
       " 'across as',\n",
       " 'across faulty',\n",
       " 'across many',\n",
       " 'across most',\n",
       " 'across multiple',\n",
       " 'across my',\n",
       " 'across our',\n",
       " 'across pages',\n",
       " 'across room',\n",
       " 'across sq',\n",
       " 'across surfaces',\n",
       " 'across that',\n",
       " 'across the',\n",
       " 'across these',\n",
       " 'across this',\n",
       " 'acrosss',\n",
       " 'acrosss screens',\n",
       " 'act',\n",
       " 'act in',\n",
       " 'act like',\n",
       " 'act surprised',\n",
       " 'act up',\n",
       " 'acted',\n",
       " 'acted as',\n",
       " 'acted in',\n",
       " 'acted very',\n",
       " 'acting',\n",
       " 'acting as',\n",
       " 'acting bit',\n",
       " 'acting like',\n",
       " 'acting sluggish',\n",
       " 'acting up',\n",
       " 'acting wild',\n",
       " 'action',\n",
       " 'action as',\n",
       " 'action does',\n",
       " 'action games',\n",
       " 'action is',\n",
       " 'action on',\n",
       " 'action only',\n",
       " 'action threw',\n",
       " 'action time',\n",
       " 'actions',\n",
       " 'actions turn',\n",
       " 'activate',\n",
       " 'activate and',\n",
       " 'activate but',\n",
       " 'activate lighting',\n",
       " 'activate the',\n",
       " 'activate ve',\n",
       " 'activate when',\n",
       " 'activated',\n",
       " 'activated by',\n",
       " 'activated is',\n",
       " 'activated or',\n",
       " 'activates',\n",
       " 'activates after',\n",
       " 'activates way',\n",
       " 'activates what',\n",
       " 'activates within',\n",
       " 'activating',\n",
       " 'activating warranty',\n",
       " 'activation',\n",
       " 'activation or',\n",
       " 'activator',\n",
       " 'activator or',\n",
       " 'active',\n",
       " 'active all',\n",
       " 'active click',\n",
       " 'active mode',\n",
       " 'active noise',\n",
       " 'active speaker',\n",
       " 'active the',\n",
       " 'active use',\n",
       " 'actively',\n",
       " 'actively using',\n",
       " 'actively working',\n",
       " 'activities',\n",
       " 'activities do',\n",
       " 'activities especially',\n",
       " 'activities the',\n",
       " 'activity',\n",
       " 'activity and',\n",
       " 'activity is',\n",
       " 'acts',\n",
       " 'acts as',\n",
       " 'acts erratically',\n",
       " 'acts like',\n",
       " 'acts my',\n",
       " 'acts now',\n",
       " 'actual',\n",
       " 'actual box',\n",
       " 'actual complaint',\n",
       " 'actual cord',\n",
       " 'actual design',\n",
       " 'actual device',\n",
       " 'actual functionality',\n",
       " 'actual good',\n",
       " 'actual headset',\n",
       " 'actual keys',\n",
       " 'actual lighting',\n",
       " 'actual lower',\n",
       " 'actual mouse',\n",
       " 'actual noise',\n",
       " 'actual placing',\n",
       " 'actual product',\n",
       " 'actual quality',\n",
       " 'actual rechargeable',\n",
       " 'actual sound',\n",
       " 'actual speaker',\n",
       " 'actual uses',\n",
       " 'actual warning',\n",
       " 'actual wire',\n",
       " 'actual xbox',\n",
       " 'actually',\n",
       " 'actually actually',\n",
       " 'actually after',\n",
       " 'actually allowed',\n",
       " 'actually are',\n",
       " 'actually be',\n",
       " 'actually believe',\n",
       " 'actually better',\n",
       " 'actually big',\n",
       " 'actually bluetooths',\n",
       " 'actually bought',\n",
       " 'actually but',\n",
       " 'actually buy',\n",
       " 'actually buys',\n",
       " 'actually came',\n",
       " 'actually care',\n",
       " 'actually changed',\n",
       " 'actually charge',\n",
       " 'actually cheap',\n",
       " 'actually click',\n",
       " 'actually clicking',\n",
       " 'actually clicks',\n",
       " 'actually come',\n",
       " 'actually comfortable',\n",
       " 'actually compatible',\n",
       " 'actually connect',\n",
       " 'actually contacted',\n",
       " 'actually damage',\n",
       " 'actually decent',\n",
       " 'actually didn',\n",
       " 'actually distort',\n",
       " 'actually does',\n",
       " 'actually doesn',\n",
       " 'actually doubled',\n",
       " 'actually engineered',\n",
       " 'actually expending',\n",
       " 'actually feel',\n",
       " 'actually feels',\n",
       " 'actually fit',\n",
       " 'actually for',\n",
       " 'actually functional',\n",
       " 'actually functioning',\n",
       " 'actually get',\n",
       " 'actually give',\n",
       " 'actually goes',\n",
       " 'actually good',\n",
       " 'actually gotten',\n",
       " 'actually great',\n",
       " 'actually grown',\n",
       " 'actually had',\n",
       " 'actually happens',\n",
       " 'actually happy',\n",
       " 'actually has',\n",
       " 'actually have',\n",
       " 'actually hear',\n",
       " 'actually helps',\n",
       " 'actually hold',\n",
       " 'actually hurt',\n",
       " 'actually if',\n",
       " 'actually impossible',\n",
       " 'actually in',\n",
       " 'actually is',\n",
       " 'actually it',\n",
       " 'actually its',\n",
       " 'actually just',\n",
       " 'actually know',\n",
       " 'actually known',\n",
       " 'actually last',\n",
       " 'actually lasted',\n",
       " 'actually lasts',\n",
       " 'actually like',\n",
       " 'actually liked',\n",
       " 'actually little',\n",
       " 'actually lives',\n",
       " 'actually looks',\n",
       " 'actually loud',\n",
       " 'actually louder',\n",
       " 'actually love',\n",
       " 'actually loved',\n",
       " 'actually made',\n",
       " 'actually makes',\n",
       " 'actually more',\n",
       " 'actually move',\n",
       " 'actually my',\n",
       " 'actually needed',\n",
       " 'actually nice',\n",
       " 'actually noticeable',\n",
       " 'actually one',\n",
       " 'actually own',\n",
       " 'actually painful',\n",
       " 'actually pass',\n",
       " 'actually pick',\n",
       " 'actually played',\n",
       " 'actually prefer',\n",
       " 'actually pretty',\n",
       " 'actually problem',\n",
       " 'actually purchased',\n",
       " 'actually quite',\n",
       " 'actually really',\n",
       " 'actually recognizing',\n",
       " 'actually register',\n",
       " 'actually remember',\n",
       " 'actually requires',\n",
       " 'actually rgb',\n",
       " 'actually serves',\n",
       " 'actually shiny',\n",
       " 'actually somewhat',\n",
       " 'actually sounds',\n",
       " 'actually speaking',\n",
       " 'actually stayed',\n",
       " 'actually that',\n",
       " 'actually the',\n",
       " 'actually there',\n",
       " 'actually time',\n",
       " 'actually touched',\n",
       " 'actually trying',\n",
       " 'actually turn',\n",
       " 'actually type',\n",
       " 'actually typed',\n",
       " 'actually typing',\n",
       " 'actually use',\n",
       " 'actually utilize',\n",
       " 'actually very',\n",
       " 'actually was',\n",
       " 'actually wireless',\n",
       " 'actually wish',\n",
       " 'actually worked',\n",
       " 'actually working',\n",
       " 'actually works',\n",
       " 'actually worth',\n",
       " 'actually would',\n",
       " 'actuates',\n",
       " 'actuates the',\n",
       " 'acustomed',\n",
       " 'acustomed to',\n",
       " 'ad',\n",
       " 'ad came',\n",
       " 'ad it',\n",
       " 'adage',\n",
       " 'adage increasing',\n",
       " 'adage you',\n",
       " 'adaptability',\n",
       " 'adaptability for',\n",
       " 'adaptability no',\n",
       " 'adaptability to',\n",
       " 'adaptable',\n",
       " 'adaptable to',\n",
       " 'adapter',\n",
       " 'adapter along',\n",
       " 'adapter also',\n",
       " 'adapter and',\n",
       " 'adapter because',\n",
       " 'adapter broke',\n",
       " 'adapter but',\n",
       " 'adapter came',\n",
       " 'adapter charging',\n",
       " 'adapter considering',\n",
       " 'adapter contacted',\n",
       " 'adapter decides',\n",
       " 'adapter did',\n",
       " 'adapter didn',\n",
       " 'adapter didnt',\n",
       " 'adapter does',\n",
       " 'adapter doesn',\n",
       " 'adapter doesnt',\n",
       " 'adapter don',\n",
       " 'adapter fits',\n",
       " 'adapter flashes',\n",
       " 'adapter for',\n",
       " 'adapter from',\n",
       " 'adapter got',\n",
       " 'adapter had',\n",
       " 'adapter highly',\n",
       " 'adapter however',\n",
       " 'adapter if',\n",
       " 'adapter in',\n",
       " 'adapter incase',\n",
       " 'adapter included',\n",
       " 'adapter into',\n",
       " 'adapter is',\n",
       " 'adapter isn',\n",
       " 'adapter it',\n",
       " 'adapter jbl',\n",
       " 'adapter just',\n",
       " 'adapter lighting',\n",
       " 'adapter like',\n",
       " 'adapter most',\n",
       " 'adapter neither',\n",
       " 'adapter never',\n",
       " 'adapter not',\n",
       " 'adapter now',\n",
       " 'adapter on',\n",
       " 'adapter once',\n",
       " 'adapter one',\n",
       " 'adapter other',\n",
       " 'adapter overall',\n",
       " 'adapter provided',\n",
       " 'adapter recommend',\n",
       " 'adapter required',\n",
       " 'adapter saved',\n",
       " 'adapter seems',\n",
       " 'adapter separate',\n",
       " 'adapter separately',\n",
       " 'adapter sticking',\n",
       " 'adapter super',\n",
       " 'adapter that',\n",
       " 'adapter the',\n",
       " 'adapter they',\n",
       " 'adapter this',\n",
       " 'adapter to',\n",
       " 'adapter underneath',\n",
       " 'adapter usb',\n",
       " 'adapter ve',\n",
       " 'adapter very',\n",
       " 'adapter was',\n",
       " 'adapter when',\n",
       " 'adapter which',\n",
       " 'adapter will',\n",
       " 'adapter worked',\n",
       " 'adapter works',\n",
       " 'adapter would',\n",
       " 'adapter wrote',\n",
       " 'adapters',\n",
       " 'adapters and',\n",
       " 'adapters everything',\n",
       " 'adapters for',\n",
       " 'adapters means',\n",
       " 'adapters that',\n",
       " 'adapters the',\n",
       " 'adapters with',\n",
       " 'adapting',\n",
       " 'adapting from',\n",
       " 'adaptor',\n",
       " 'adaptor and',\n",
       " 'adaptor did',\n",
       " 'adaptor does',\n",
       " 'adaptor is',\n",
       " 'adaptor it',\n",
       " 'adaptor my',\n",
       " 'adaptor otherwise',\n",
       " 'adaptor prefer',\n",
       " 'adaptor that',\n",
       " 'adaptor to',\n",
       " 'adaptor which',\n",
       " 'adaptor with',\n",
       " 'adaptors',\n",
       " 'adaptors are',\n",
       " 'adaptors so',\n",
       " 'adator',\n",
       " 'adator for',\n",
       " 'adc',\n",
       " 'adc nasus',\n",
       " 'add',\n",
       " 'add all',\n",
       " 'add an',\n",
       " 'add any',\n",
       " 'add bit',\n",
       " 'add characters',\n",
       " 'add cord',\n",
       " 'add did',\n",
       " 'add fun',\n",
       " 'add insult',\n",
       " 'add it',\n",
       " 'add larger',\n",
       " 'add little',\n",
       " 'add nice',\n",
       " 'add nothing',\n",
       " 'add on',\n",
       " 'add really',\n",
       " 'add received',\n",
       " 'add sense',\n",
       " 'add some',\n",
       " 'add that',\n",
       " 'add the',\n",
       " 'add to',\n",
       " 'add touch',\n",
       " 'add very',\n",
       " 'add visual',\n",
       " 'added',\n",
       " 'added adapter',\n",
       " 'added bonus',\n",
       " 'added by',\n",
       " 'added colors',\n",
       " 'added note',\n",
       " 'added of',\n",
       " 'added otherwise',\n",
       " 'added overall',\n",
       " 'added plus',\n",
       " 'added problem',\n",
       " 'added the',\n",
       " 'added to',\n",
       " 'added touch',\n",
       " 'added usb',\n",
       " 'added variability',\n",
       " 'adding',\n",
       " 'adding little',\n",
       " 'adding to',\n",
       " 'addition',\n",
       " 'addition and',\n",
       " 'addition are',\n",
       " 'addition but',\n",
       " 'addition enjoy',\n",
       " 'addition it',\n",
       " 'addition of',\n",
       " 'addition so',\n",
       " 'addition that',\n",
       " 'addition the',\n",
       " 'addition this',\n",
       " 'addition to',\n",
       " 'additional',\n",
       " 'additional buttons',\n",
       " 'additional case',\n",
       " 'additional charge',\n",
       " 'additional computer',\n",
       " 'additional cord',\n",
       " 'additional expense',\n",
       " 'additional full',\n",
       " 'additional headphone',\n",
       " 'additional jacks',\n",
       " 'additional jbl',\n",
       " 'additional key',\n",
       " 'additional one',\n",
       " 'additional point',\n",
       " 'additional resolution',\n",
       " 'additional speakers',\n",
       " 'additional usb',\n",
       " 'additional you',\n",
       " 'additionally',\n",
       " 'additionally it',\n",
       " 'additionally love',\n",
       " 'additionally recently',\n",
       " 'additionally the',\n",
       " 'additionally they',\n",
       " 'additionally with',\n",
       " 'additions',\n",
       " 'additions the',\n",
       " 'additions which',\n",
       " 'additonal',\n",
       " 'additonal ghz',\n",
       " 'address',\n",
       " 'address capacity',\n",
       " 'address claiming',\n",
       " 'address immediately',\n",
       " 'address in',\n",
       " 'address that',\n",
       " 'address why',\n",
       " 'addressed',\n",
       " 'addressed at',\n",
       " 'addressed by',\n",
       " 'addressed in',\n",
       " 'addressed my',\n",
       " 'addresses',\n",
       " 'addresses the',\n",
       " 'adds',\n",
       " 'adds an',\n",
       " 'adds little',\n",
       " 'adds nice',\n",
       " 'adds no',\n",
       " 'adds pop',\n",
       " 'adds some',\n",
       " 'adds the',\n",
       " 'adds to',\n",
       " 'adds uniqueness',\n",
       " 'adds unnecessary',\n",
       " 'adds weight',\n",
       " 'adds wow',\n",
       " 'adds xp',\n",
       " 'adequate',\n",
       " 'adequate and',\n",
       " 'adequate bass',\n",
       " 'adequate for',\n",
       " 'adequate not',\n",
       " 'adequate on',\n",
       " 'adequate portable',\n",
       " 'adequate speaker',\n",
       " 'adequately',\n",
       " 'adequately and',\n",
       " 'adequately review',\n",
       " 'adequately when',\n",
       " 'adfsadfasfdasdf',\n",
       " 'adhd',\n",
       " 'adhd and',\n",
       " 'adhesive',\n",
       " 'adhesive to',\n",
       " 'adjust',\n",
       " 'adjust and',\n",
       " 'adjust any',\n",
       " ...]"
      ]
     },
     "execution_count": 48,
     "metadata": {},
     "output_type": "execute_result"
    }
   ],
   "source": [
    "bigram_vectorizer.get_feature_names()"
   ]
  },
  {
   "cell_type": "code",
   "execution_count": 56,
   "id": "1a9fae89",
   "metadata": {},
   "outputs": [],
   "source": [
    "X_train_news_tr = bigram_vectorizer.fit_transform(X_train_news)\n",
    "X_valid_news_tr = bigram_vectorizer.transform(X_valid_news)\n",
    "X_test_news_tr = bigram_vectorizer.transform(X_test_news)"
   ]
  },
  {
   "cell_type": "markdown",
   "id": "0b42df6c",
   "metadata": {},
   "source": [
    "## Training shallow models"
   ]
  },
  {
   "cell_type": "markdown",
   "id": "9da09c17",
   "metadata": {},
   "source": [
    "Balanced accuracy score is used to macro average across classes."
   ]
  },
  {
   "cell_type": "markdown",
   "id": "86c51e07",
   "metadata": {},
   "source": [
    "### Shallow NN (One layer perceptron)"
   ]
  },
  {
   "cell_type": "code",
   "execution_count": 60,
   "id": "0d0b6910",
   "metadata": {},
   "outputs": [],
   "source": [
    "from sklearn.neural_network import MLPClassifier\n",
    "from sklearn.model_selection import cross_val_score\n",
    "from sklearn.metrics import log_loss, balanced_accuracy_score"
   ]
  },
  {
   "cell_type": "markdown",
   "id": "3fffd0b8",
   "metadata": {},
   "source": [
    "#### Reviews dataset"
   ]
  },
  {
   "cell_type": "code",
   "execution_count": 69,
   "id": "8c040d8e",
   "metadata": {},
   "outputs": [
    {
     "name": "stderr",
     "output_type": "stream",
     "text": [
      "\u001b[32m[I 2023-02-03 22:28:36,108]\u001b[0m A new study created in memory with name: no-name-105b53d0-0f0c-415b-8eb9-516e62b80a22\u001b[0m\n",
      "D:\\Anaconda\\lib\\site-packages\\optuna\\progress_bar.py:56: ExperimentalWarning: Progress bar is experimental (supported from v1.2.0). The interface can change in the future.\n",
      "  self._init_valid()\n"
     ]
    },
    {
     "data": {
      "application/vnd.jupyter.widget-view+json": {
       "model_id": "491810bd8858436e8a35816231dd6047",
       "version_major": 2,
       "version_minor": 0
      },
      "text/plain": [
       "  0%|          | 0/5 [00:00<?, ?it/s]"
      ]
     },
     "metadata": {},
     "output_type": "display_data"
    },
    {
     "name": "stdout",
     "output_type": "stream",
     "text": [
      "Trying: 65, 0.0005410614960283604, relu, lbfgs\n"
     ]
    },
    {
     "name": "stderr",
     "output_type": "stream",
     "text": [
      "D:\\Anaconda\\lib\\site-packages\\sklearn\\neural_network\\_multilayer_perceptron.py:500: ConvergenceWarning: lbfgs failed to converge (status=1):\n",
      "STOP: TOTAL NO. of ITERATIONS REACHED LIMIT.\n",
      "\n",
      "Increase the number of iterations (max_iter) or scale the data as shown in:\n",
      "    https://scikit-learn.org/stable/modules/preprocessing.html\n",
      "  self.n_iter_ = _check_optimize_result(\"lbfgs\", opt_res, self.max_iter)\n"
     ]
    },
    {
     "name": "stdout",
     "output_type": "stream",
     "text": [
      "\u001b[32m[I 2023-02-03 22:28:58,572]\u001b[0m Trial 0 finished with value: 0.556164019038031 and parameters: {'size_of_hidden_layer': 65, 'alpha': 0.0005410614960283604, 'activation': 'relu', 'solver': 'lbfgs'}. Best is trial 0 with value: 0.556164019038031.\u001b[0m\n",
      "Trying: 56, 0.0005155343094109715, relu, adam\n",
      "Iteration 1, loss = 0.81389798\n",
      "Iteration 2, loss = 0.37695481\n",
      "Iteration 3, loss = 0.18543595\n",
      "Iteration 4, loss = 0.10036984\n",
      "Iteration 5, loss = 0.06088123\n",
      "Iteration 6, loss = 0.04059136\n",
      "Iteration 7, loss = 0.02914268\n",
      "Iteration 8, loss = 0.02200649\n",
      "Iteration 9, loss = 0.01727664\n",
      "Iteration 10, loss = 0.01401530\n",
      "Iteration 11, loss = 0.01163247\n",
      "Iteration 12, loss = 0.00986985\n",
      "Iteration 13, loss = 0.00853533\n",
      "Iteration 14, loss = 0.00749110\n",
      "Iteration 15, loss = 0.00663516\n",
      "Iteration 16, loss = 0.00594691\n",
      "Iteration 17, loss = 0.00537735\n",
      "Iteration 18, loss = 0.00490833\n",
      "Iteration 19, loss = 0.00452044\n"
     ]
    },
    {
     "name": "stderr",
     "output_type": "stream",
     "text": [
      "D:\\Anaconda\\lib\\site-packages\\sklearn\\neural_network\\_multilayer_perceptron.py:614: ConvergenceWarning: Stochastic Optimizer: Maximum iterations (20) reached and the optimization hasn't converged yet.\n",
      "  warnings.warn(\n"
     ]
    },
    {
     "name": "stdout",
     "output_type": "stream",
     "text": [
      "Iteration 20, loss = 0.00418562\n",
      "\u001b[32m[I 2023-02-03 22:32:18,051]\u001b[0m Trial 1 finished with value: 0.7861318455450359 and parameters: {'size_of_hidden_layer': 56, 'alpha': 0.0005155343094109715, 'activation': 'relu', 'solver': 'adam'}. Best is trial 0 with value: 0.556164019038031.\u001b[0m\n",
      "Trying: 85, 0.0006565224990696518, relu, adam\n",
      "Iteration 1, loss = 0.75953676\n",
      "Iteration 2, loss = 0.31136567\n",
      "Iteration 3, loss = 0.13688824\n",
      "Iteration 4, loss = 0.07266446\n",
      "Iteration 5, loss = 0.04467914\n",
      "Iteration 6, loss = 0.03044863\n",
      "Iteration 7, loss = 0.02203283\n",
      "Iteration 8, loss = 0.01690780\n",
      "Iteration 9, loss = 0.01339627\n",
      "Iteration 10, loss = 0.01099463\n",
      "Iteration 11, loss = 0.00922296\n",
      "Iteration 12, loss = 0.00797218\n",
      "Iteration 13, loss = 0.00698714\n",
      "Iteration 14, loss = 0.00621984\n",
      "Iteration 15, loss = 0.00560475\n",
      "Iteration 16, loss = 0.00510403\n",
      "Iteration 17, loss = 0.00470325\n",
      "Iteration 18, loss = 0.00436623\n",
      "Iteration 19, loss = 0.00407113\n"
     ]
    },
    {
     "name": "stderr",
     "output_type": "stream",
     "text": [
      "D:\\Anaconda\\lib\\site-packages\\sklearn\\neural_network\\_multilayer_perceptron.py:614: ConvergenceWarning: Stochastic Optimizer: Maximum iterations (20) reached and the optimization hasn't converged yet.\n",
      "  warnings.warn(\n"
     ]
    },
    {
     "name": "stdout",
     "output_type": "stream",
     "text": [
      "Iteration 20, loss = 0.00383477\n",
      "\u001b[32m[I 2023-02-03 22:37:07,062]\u001b[0m Trial 2 finished with value: 0.8117192765315313 and parameters: {'size_of_hidden_layer': 85, 'alpha': 0.0006565224990696518, 'activation': 'relu', 'solver': 'adam'}. Best is trial 0 with value: 0.556164019038031.\u001b[0m\n",
      "Trying: 32, 0.00034347316180621075, logistic, adam\n",
      "Iteration 1, loss = 0.98842025\n",
      "Iteration 2, loss = 0.77332254\n",
      "Iteration 3, loss = 0.63918933\n",
      "Iteration 4, loss = 0.52846847\n",
      "Iteration 5, loss = 0.43769739\n",
      "Iteration 6, loss = 0.36217271\n",
      "Iteration 7, loss = 0.30070500\n",
      "Iteration 8, loss = 0.25070330\n",
      "Iteration 9, loss = 0.21057994\n",
      "Iteration 10, loss = 0.17840921\n",
      "Iteration 11, loss = 0.15265671\n",
      "Iteration 12, loss = 0.13181453\n",
      "Iteration 13, loss = 0.11493337\n",
      "Iteration 14, loss = 0.10115768\n",
      "Iteration 15, loss = 0.08974446\n",
      "Iteration 16, loss = 0.08030703\n",
      "Iteration 17, loss = 0.07242254\n",
      "Iteration 18, loss = 0.06566789\n",
      "Iteration 19, loss = 0.05999072\n"
     ]
    },
    {
     "name": "stderr",
     "output_type": "stream",
     "text": [
      "D:\\Anaconda\\lib\\site-packages\\sklearn\\neural_network\\_multilayer_perceptron.py:614: ConvergenceWarning: Stochastic Optimizer: Maximum iterations (20) reached and the optimization hasn't converged yet.\n",
      "  warnings.warn(\n"
     ]
    },
    {
     "name": "stdout",
     "output_type": "stream",
     "text": [
      "Iteration 20, loss = 0.05506787\n",
      "\u001b[32m[I 2023-02-03 22:39:03,516]\u001b[0m Trial 3 finished with value: 0.45512533824999024 and parameters: {'size_of_hidden_layer': 32, 'alpha': 0.00034347316180621075, 'activation': 'logistic', 'solver': 'adam'}. Best is trial 3 with value: 0.45512533824999024.\u001b[0m\n",
      "Trying: 83, 0.0007408630698833534, relu, adam\n",
      "Iteration 1, loss = 0.78999814\n",
      "Iteration 2, loss = 0.31011296\n",
      "Iteration 3, loss = 0.13147521\n",
      "Iteration 4, loss = 0.06820540\n",
      "Iteration 5, loss = 0.04179622\n",
      "Iteration 6, loss = 0.02851409\n",
      "Iteration 7, loss = 0.02095283\n",
      "Iteration 8, loss = 0.01621576\n",
      "Iteration 9, loss = 0.01299090\n",
      "Iteration 10, loss = 0.01077637\n",
      "Iteration 11, loss = 0.00911754\n",
      "Iteration 12, loss = 0.00785886\n",
      "Iteration 13, loss = 0.00690821\n",
      "Iteration 14, loss = 0.00616413\n",
      "Iteration 15, loss = 0.00556283\n",
      "Iteration 16, loss = 0.00506928\n",
      "Iteration 17, loss = 0.00466758\n",
      "Iteration 18, loss = 0.00434333\n",
      "Iteration 19, loss = 0.00406040\n"
     ]
    },
    {
     "name": "stderr",
     "output_type": "stream",
     "text": [
      "D:\\Anaconda\\lib\\site-packages\\sklearn\\neural_network\\_multilayer_perceptron.py:614: ConvergenceWarning: Stochastic Optimizer: Maximum iterations (20) reached and the optimization hasn't converged yet.\n",
      "  warnings.warn(\n"
     ]
    },
    {
     "name": "stdout",
     "output_type": "stream",
     "text": [
      "Iteration 20, loss = 0.00381745\n",
      "\u001b[32m[I 2023-02-03 22:43:42,173]\u001b[0m Trial 4 finished with value: 0.8005292711568056 and parameters: {'size_of_hidden_layer': 83, 'alpha': 0.0007408630698833534, 'activation': 'relu', 'solver': 'adam'}. Best is trial 3 with value: 0.45512533824999024.\u001b[0m\n"
     ]
    },
    {
     "data": {
      "text/plain": [
       "{'size_of_hidden_layer': 32,\n",
       " 'alpha': 0.00034347316180621075,\n",
       " 'activation': 'logistic',\n",
       " 'solver': 'adam'}"
      ]
     },
     "execution_count": 69,
     "metadata": {},
     "output_type": "execute_result"
    }
   ],
   "source": [
    "available_activations = ['relu', 'logistic']\n",
    "available_solvers = ['adam', 'lbfgs']\n",
    "def objective(trial: optuna.trial.Trial):\n",
    "    size_of_hidden_layer = trial.suggest_int('size_of_hidden_layer', 10, 100)\n",
    "    alpha = trial.suggest_float('alpha', 0.0001, 0.001)\n",
    "    activation = trial.suggest_categorical('activation', \n",
    "                                           choices=available_activations)\n",
    "    solver = trial.suggest_categorical('solver', \n",
    "                                           choices=available_solvers)\n",
    "    \n",
    "    print(f\"Trying: {size_of_hidden_layer}, {alpha}, {activation}, {solver}\")\n",
    "    model = MLPClassifier(hidden_layer_sizes=tuple([size_of_hidden_layer]),\n",
    "                          alpha=alpha,\n",
    "                          activation = activation,\n",
    "                          max_iter=20,\n",
    "                          solver=solver,\n",
    "                          verbose=True,\n",
    "                          learning_rate='adaptive',\n",
    "                          random_state=42)\n",
    "    model.fit(X_train_reviews_tr, y_train_reviews)\n",
    "    y_pred_probas = model.predict_proba(X_valid_reviews_tr)\n",
    "    return log_loss(y_valid_reviews, y_pred_probas)\n",
    "\n",
    "\n",
    "study = optuna.create_study(direction='minimize')\n",
    "# optuna.logging.set_verbosity(optuna.logging.DEBUG)\n",
    "study.optimize(objective, n_trials=5,show_progress_bar=True)\n",
    "\n",
    "study.best_params"
   ]
  },
  {
   "cell_type": "markdown",
   "id": "ff5df7b9",
   "metadata": {},
   "source": [
    "{'size_of_hidden_layer': 32,\n",
    " 'alpha': 0.00034347316180621075,\n",
    " 'activation': 'logistic',\n",
    " 'solver': 'adam'}"
   ]
  },
  {
   "cell_type": "code",
   "execution_count": 71,
   "id": "82e6b8c4",
   "metadata": {},
   "outputs": [
    {
     "name": "stdout",
     "output_type": "stream",
     "text": [
      "Iteration 1, loss = 0.98842025\n",
      "Iteration 2, loss = 0.77332254\n",
      "Iteration 3, loss = 0.63918933\n",
      "Iteration 4, loss = 0.52846847\n",
      "Iteration 5, loss = 0.43769739\n",
      "Iteration 6, loss = 0.36217271\n",
      "Iteration 7, loss = 0.30070500\n",
      "Iteration 8, loss = 0.25070330\n",
      "Iteration 9, loss = 0.21057994\n",
      "Iteration 10, loss = 0.17840921\n",
      "Iteration 11, loss = 0.15265671\n",
      "Iteration 12, loss = 0.13181453\n",
      "Iteration 13, loss = 0.11493337\n",
      "Iteration 14, loss = 0.10115768\n",
      "Iteration 15, loss = 0.08974446\n",
      "Iteration 16, loss = 0.08030703\n",
      "Iteration 17, loss = 0.07242254\n",
      "Iteration 18, loss = 0.06566789\n",
      "Iteration 19, loss = 0.05999072\n",
      "Iteration 20, loss = 0.05506787\n"
     ]
    },
    {
     "name": "stderr",
     "output_type": "stream",
     "text": [
      "D:\\Anaconda\\lib\\site-packages\\sklearn\\neural_network\\_multilayer_perceptron.py:614: ConvergenceWarning: Stochastic Optimizer: Maximum iterations (20) reached and the optimization hasn't converged yet.\n",
      "  warnings.warn(\n"
     ]
    },
    {
     "data": {
      "text/plain": [
       "MLPClassifier(activation='logistic', alpha=0.00034347316180621075,\n",
       "              hidden_layer_sizes=(32,), learning_rate='adaptive', max_iter=20,\n",
       "              random_state=42, verbose=True)"
      ]
     },
     "execution_count": 71,
     "metadata": {},
     "output_type": "execute_result"
    }
   ],
   "source": [
    "best_model = MLPClassifier(hidden_layer_sizes=(32,), \n",
    "                          alpha=0.00034347316180621075,\n",
    "                          solver='adam',\n",
    "                          activation='logistic',\n",
    "                            random_state=42,\n",
    "                           learning_rate='adaptive',\n",
    "                           verbose=True,\n",
    "                          max_iter=20,\n",
    "                      )\n",
    "best_model.fit(X_train_reviews_tr, y_train_reviews)\n"
   ]
  },
  {
   "cell_type": "code",
   "execution_count": 72,
   "id": "dfb33f6b",
   "metadata": {},
   "outputs": [
    {
     "data": {
      "text/plain": [
       "0.7465360861670227"
      ]
     },
     "execution_count": 72,
     "metadata": {},
     "output_type": "execute_result"
    }
   ],
   "source": [
    "y_preds = best_model.predict(X_valid_reviews_tr)\n",
    "\n",
    "balanced_accuracy_score(y_valid_reviews, y_preds)"
   ]
  },
  {
   "cell_type": "markdown",
   "id": "170b906a",
   "metadata": {},
   "source": []
  },
  {
   "cell_type": "markdown",
   "id": "4c004e10",
   "metadata": {},
   "source": [
    "### SVM"
   ]
  },
  {
   "cell_type": "code",
   "execution_count": null,
   "id": "5122b981",
   "metadata": {},
   "outputs": [],
   "source": []
  },
  {
   "cell_type": "markdown",
   "id": "b7185473",
   "metadata": {},
   "source": [
    "## Evaluating shallow models"
   ]
  },
  {
   "cell_type": "code",
   "execution_count": null,
   "id": "1a0c498d",
   "metadata": {},
   "outputs": [],
   "source": []
  },
  {
   "cell_type": "markdown",
   "id": "2a656bae",
   "metadata": {},
   "source": [
    "## Tranining RNN architectures"
   ]
  },
  {
   "cell_type": "markdown",
   "id": "97c80ad6",
   "metadata": {},
   "source": [
    "### Transfer learning with BERT as a base model"
   ]
  },
  {
   "cell_type": "code",
   "execution_count": null,
   "id": "bde1e221",
   "metadata": {},
   "outputs": [],
   "source": []
  },
  {
   "cell_type": "markdown",
   "id": "db84b85c",
   "metadata": {},
   "source": [
    "### Architecture 2"
   ]
  },
  {
   "cell_type": "code",
   "execution_count": null,
   "id": "705566e7",
   "metadata": {},
   "outputs": [],
   "source": []
  },
  {
   "cell_type": "markdown",
   "id": "bff66eae",
   "metadata": {},
   "source": [
    "## Evaluating RNN performance"
   ]
  },
  {
   "cell_type": "code",
   "execution_count": null,
   "id": "790bfc31",
   "metadata": {},
   "outputs": [],
   "source": []
  },
  {
   "cell_type": "markdown",
   "id": "9e2410fa",
   "metadata": {},
   "source": [
    "## Comparison: RNNs vs Shallow"
   ]
  },
  {
   "cell_type": "code",
   "execution_count": null,
   "id": "d9267696",
   "metadata": {},
   "outputs": [],
   "source": []
  }
 ],
 "metadata": {
  "kernelspec": {
   "display_name": "Python 3",
   "language": "python",
   "name": "python3"
  },
  "language_info": {
   "codemirror_mode": {
    "name": "ipython",
    "version": 3
   },
   "file_extension": ".py",
   "mimetype": "text/x-python",
   "name": "python",
   "nbconvert_exporter": "python",
   "pygments_lexer": "ipython3",
   "version": "3.8.8"
  }
 },
 "nbformat": 4,
 "nbformat_minor": 5
}
