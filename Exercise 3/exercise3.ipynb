{
 "cells": [
  {
   "cell_type": "markdown",
   "id": "954ae2ef",
   "metadata": {},
   "source": [
    "# Exercise 3\n",
    "\n",
    "## Imports"
   ]
  },
  {
   "cell_type": "code",
   "execution_count": null,
   "outputs": [],
   "source": [
    "# !pip install -r requirements.txt"
   ],
   "metadata": {
    "collapsed": false
   }
  },
  {
   "cell_type": "code",
   "execution_count": null,
   "outputs": [],
   "source": [
    "import time\n",
    "import os\n",
    "import transformers\n",
    "import optuna\n",
    "import pickle\n",
    "import pandas as pd\n",
    "import matplotlib.pyplot as plt\n",
    "import seaborn as sns\n",
    "import numpy as np\n",
    "from sklearn.model_selection import train_test_split\n",
    "from sklearn.neural_network import MLPClassifier\n",
    "from sklearn.model_selection import cross_val_score\n",
    "from sklearn.metrics import log_loss, balanced_accuracy_score\n",
    "from sklearn.svm import SVC  \n",
    "from sklearn.metrics import classification_report, confusion_matrix \n",
    "from sklearn.model_selection import GridSearchCV, RandomizedSearchCV"
   ],
   "metadata": {
    "collapsed": false
   }
  },
  {
   "cell_type": "markdown",
   "source": [
    "## Data loading"
   ],
   "metadata": {
    "collapsed": false
   }
  },
  {
   "cell_type": "code",
   "execution_count": null,
   "outputs": [],
   "source": [
    "ag_news_train_df = pd.read_csv('data/ag_news_train.csv')\n",
    "ag_news_test_df = pd.read_csv('data/ag_news_test.csv')\n",
    "amazon_reviews_df = pd.read_csv('data/cleaned_amazon_reviews.csv')"
   ],
   "metadata": {
    "collapsed": false
   }
  },
  {
   "cell_type": "code",
   "execution_count": null,
   "outputs": [],
   "source": [
    "ag_news_train_df.shape"
   ],
   "metadata": {
    "collapsed": false
   }
  },
  {
   "cell_type": "code",
   "execution_count": null,
   "outputs": [],
   "source": [
    "ag_news_test_df.shape"
   ],
   "metadata": {
    "collapsed": false
   }
  },
  {
   "cell_type": "code",
   "execution_count": null,
   "outputs": [],
   "source": [
    "ag_news_train_df.head()"
   ],
   "metadata": {
    "collapsed": false
   }
  },
  {
   "cell_type": "code",
   "execution_count": null,
   "outputs": [],
   "source": [
    "amazon_reviews_df.shape"
   ],
   "metadata": {
    "collapsed": false
   }
  },
  {
   "cell_type": "code",
   "execution_count": null,
   "outputs": [],
   "source": [
    "amazon_reviews_df.head()"
   ],
   "metadata": {
    "collapsed": false
   }
  },
  {
   "cell_type": "code",
   "execution_count": null,
   "outputs": [],
   "source": [
    "amazon_reviews_df.isna().sum()"
   ],
   "metadata": {
    "collapsed": false
   }
  },
  {
   "cell_type": "code",
   "execution_count": null,
   "outputs": [],
   "source": [
    "amazon_reviews_df.sentiments.value_counts().plot(kind='bar')"
   ],
   "metadata": {
    "collapsed": false
   }
  },
  {
   "cell_type": "markdown",
   "source": [
    "Unbalanced target"
   ],
   "metadata": {
    "collapsed": false
   }
  },
  {
   "cell_type": "code",
   "execution_count": null,
   "outputs": [],
   "source": [
    "ag_news_train_df['Class Index'].value_counts().plot(kind='bar')"
   ],
   "metadata": {
    "collapsed": false
   }
  },
  {
   "cell_type": "markdown",
   "source": [
    "Balanced target"
   ],
   "metadata": {
    "collapsed": false
   }
  },
  {
   "cell_type": "markdown",
   "source": [
    "#### Distribution of review lengths"
   ],
   "metadata": {
    "collapsed": false
   }
  },
  {
   "cell_type": "code",
   "execution_count": null,
   "outputs": [],
   "source": [
    "plt.hist(amazon_reviews_df.cleaned_review_length)"
   ],
   "metadata": {
    "collapsed": false
   }
  },
  {
   "cell_type": "markdown",
   "source": [
    "#### Distribution of the news article lengths"
   ],
   "metadata": {
    "collapsed": false
   }
  },
  {
   "cell_type": "code",
   "execution_count": null,
   "outputs": [],
   "source": [
    "plt.hist(ag_news_train_df.Description.str.len())"
   ],
   "metadata": {
    "collapsed": false
   }
  },
  {
   "cell_type": "code",
   "execution_count": null,
   "outputs": [],
   "source": [
    "ag_news_train_df.isna().any()"
   ],
   "metadata": {
    "collapsed": false
   }
  },
  {
   "cell_type": "markdown",
   "source": [
    "#### Removing NaNs"
   ],
   "metadata": {
    "collapsed": false
   }
  },
  {
   "cell_type": "code",
   "execution_count": null,
   "outputs": [],
   "source": [
    "amazon_reviews_df.dropna(inplace=True)"
   ],
   "metadata": {
    "collapsed": false
   }
  },
  {
   "cell_type": "markdown",
   "source": [
    "### Splitting amazon reviews into train and test set"
   ],
   "metadata": {
    "collapsed": false
   }
  },
  {
   "cell_type": "code",
   "execution_count": null,
   "outputs": [],
   "source": [
    "X_amazon_reviews = amazon_reviews_df.drop(columns=['sentiments'])\n",
    "y_amazon_reviews = amazon_reviews_df['sentiments']"
   ],
   "metadata": {
    "collapsed": false
   }
  },
  {
   "cell_type": "code",
   "execution_count": null,
   "outputs": [],
   "source": [
    "X_train_reviews, X_test_reviews, y_train_reviews, y_test_reviews = train_test_split(X_amazon_reviews,\n",
    "                                                                                   y_amazon_reviews,\n",
    "                                                                                   random_state=42,\n",
    "                                                                                   test_size=0.2)"
   ],
   "metadata": {
    "collapsed": false
   }
  },
  {
   "cell_type": "code",
   "execution_count": null,
   "outputs": [],
   "source": [
    "X_train_reviews, X_valid_reviews, y_train_reviews, y_valid_reviews = train_test_split(X_train_reviews,\n",
    "                                                                                     y_train_reviews,\n",
    "                                                                                     random_state=42,\n",
    "                                                                                     test_size = 0.33)"
   ],
   "metadata": {
    "collapsed": false
   }
  },
  {
   "cell_type": "markdown",
   "source": [
    "### Splitting ag news into X and y's"
   ],
   "metadata": {
    "collapsed": false
   }
  },
  {
   "cell_type": "markdown",
   "source": [
    "Merging Title and Description into one field, \"Text\""
   ],
   "metadata": {
    "collapsed": false
   }
  },
  {
   "cell_type": "code",
   "execution_count": null,
   "outputs": [],
   "source": [
    "ag_news_train_df['Text'] = ag_news_train_df[['Title', 'Description']].agg(' '.join,axis=1)\n",
    "ag_news_test_df['Text'] = ag_news_test_df[['Title', 'Description']].agg(' '.join,axis=1)"
   ],
   "metadata": {
    "collapsed": false
   }
  },
  {
   "cell_type": "code",
   "execution_count": null,
   "outputs": [],
   "source": [
    "ag_news_train_df['Text']"
   ],
   "metadata": {
    "collapsed": false
   }
  },
  {
   "cell_type": "code",
   "execution_count": null,
   "outputs": [],
   "source": [
    "X_train_news = ag_news_train_df['Text']\n",
    "y_train_news = ag_news_train_df['Class Index']\n",
    "\n",
    "X_test_news = ag_news_test_df['Text']\n",
    "y_test_news = ag_news_test_df['Class Index']"
   ],
   "metadata": {
    "collapsed": false
   }
  },
  {
   "cell_type": "code",
   "execution_count": null,
   "outputs": [],
   "source": [
    "X_train_news, X_valid_news, y_train_news, y_valid_news = train_test_split(X_train_news,\n",
    "                                                                          y_train_news,\n",
    "                                                                          random_state=42,\n",
    "                                                                          test_size = 0.33)"
   ],
   "metadata": {
    "collapsed": false
   }
  },
  {
   "cell_type": "markdown",
   "source": [
    "## Naive feature extraction"
   ],
   "metadata": {
    "collapsed": false
   }
  },
  {
   "cell_type": "markdown",
   "source": [
    "### Uni-Bigram vectorizer"
   ],
   "metadata": {
    "collapsed": false
   }
  },
  {
   "cell_type": "markdown",
   "source": [
    "Because documents are quite short on average, we used the uni-bigram vectorizer (contains both unigrams and bigrams)"
   ],
   "metadata": {
    "collapsed": false
   }
  },
  {
   "cell_type": "markdown",
   "source": [
    "Following pieces of code were taken from Sklearn's text feature extraction tutorial. (https://scikit-learn.org/stable/modules/feature_extraction.html)"
   ],
   "metadata": {
    "collapsed": false
   }
  },
  {
   "cell_type": "code",
   "execution_count": null,
   "outputs": [],
   "source": [
    "from sklearn.feature_extraction.text import CountVectorizer"
   ],
   "metadata": {
    "collapsed": false
   }
  },
  {
   "cell_type": "code",
   "execution_count": null,
   "outputs": [],
   "source": [
    "bigram_vectorizer = CountVectorizer(ngram_range=(1,2), token_pattern=r'\\b\\w+\\b', min_df=1)"
   ],
   "metadata": {
    "collapsed": false
   }
  },
  {
   "cell_type": "code",
   "execution_count": null,
   "outputs": [],
   "source": [
    "X_train_reviews_tr = bigram_vectorizer.fit_transform(X_train_reviews.cleaned_review)\n",
    "X_valid_reviews_tr = bigram_vectorizer.transform(X_valid_reviews.cleaned_review)\n",
    "X_test_reviews_tr = bigram_vectorizer.transform(X_test_reviews.cleaned_review)"
   ],
   "metadata": {
    "collapsed": false
   }
  },
  {
   "cell_type": "code",
   "execution_count": null,
   "outputs": [],
   "source": [
    "bigram_vectorizer.get_feature_names_out()"
   ],
   "metadata": {
    "collapsed": false
   }
  },
  {
   "cell_type": "code",
   "execution_count": null,
   "outputs": [],
   "source": [
    "X_train_news_tr = bigram_vectorizer.fit_transform(X_train_news)\n",
    "X_valid_news_tr = bigram_vectorizer.transform(X_valid_news)\n",
    "X_test_news_tr = bigram_vectorizer.transform(X_test_news)"
   ],
   "metadata": {
    "collapsed": false
   }
  },
  {
   "cell_type": "markdown",
   "source": [
    "## Training shallow models"
   ],
   "metadata": {
    "collapsed": false
   }
  },
  {
   "cell_type": "markdown",
   "source": [
    "Balanced accuracy score is used to macro average across classes.\n",
    "\n",
    "For hyperparam tuning only a half of training data will be used for performance reasons."
   ],
   "metadata": {
    "collapsed": false
   }
  },
  {
   "cell_type": "code",
   "execution_count": null,
   "outputs": [],
   "source": [
    "np.random.seed(42)\n",
    "reviews_train_idx = np.random.choice(y_train_reviews.shape[0], \n",
    "                                     replace=False, size=y_train_reviews.shape[0]//2)\n",
    "news_train_idx = np.random.choice(y_train_news.shape[0], \n",
    "                                     replace=False, size=y_train_news.shape[0]//8)"
   ],
   "metadata": {
    "collapsed": false
   }
  },
  {
   "cell_type": "code",
   "execution_count": null,
   "outputs": [],
   "source": [
    "X_train_reviews_half = X_train_reviews_tr[reviews_train_idx,:]\n",
    "y_train_reviews_half = y_train_reviews.iloc[reviews_train_idx]\n",
    "\n",
    "X_train_news_16th = X_train_news_tr[news_train_idx,:]\n",
    "y_train_news_16th = y_train_news.iloc[news_train_idx]\n",
    "\n",
    "X_train_news_8th = X_train_news_tr[news_train_idx,:]\n",
    "y_train_news_8th = y_train_news.iloc[news_train_idx]"
   ],
   "metadata": {
    "collapsed": false
   }
  },
  {
   "cell_type": "markdown",
   "source": [
    "#### Checking if models are saved"
   ],
   "metadata": {
    "collapsed": false
   }
  },
  {
   "cell_type": "code",
   "execution_count": null,
   "outputs": [],
   "source": [
    "best_model_nn_reviews_is_saved = os.path.exists('models/best_model_nn_reviews.sav')\n",
    "best_model_nn_news_is_saved = os.path.exists('models/best_model_nn_news.sav')\n",
    "best_model_svm_reviews_is_saved = os.path.exists('models/best_model_svm_reviews.sav')\n",
    "best_model_svm_news_is_saved = os.path.exists('models/best_model_svm_news.sav')\n"
   ],
   "metadata": {
    "collapsed": false
   }
  },
  {
   "cell_type": "markdown",
   "source": [
    "### Shallow NN (One layer perceptron)"
   ],
   "metadata": {
    "collapsed": false
   }
  },
  {
   "cell_type": "markdown",
   "source": [
    "#### Reviews dataset"
   ],
   "metadata": {
    "collapsed": false
   }
  },
  {
   "cell_type": "code",
   "execution_count": null,
   "outputs": [],
   "source": [
    "available_activations = ['relu', 'logistic', 'tanh']\n",
    "available_solvers = ['adam', 'lbfgs']\n",
    "def objective(trial: optuna.trial.Trial):\n",
    "    size_of_hidden_layer = trial.suggest_int('size_of_hidden_layer', 10, 100)\n",
    "    alpha = trial.suggest_float('alpha', 0.0001, 0.001)\n",
    "    activation = trial.suggest_categorical('activation', \n",
    "                                           choices=available_activations)\n",
    "    solver = trial.suggest_categorical('solver', \n",
    "                                           choices=available_solvers)\n",
    "    \n",
    "    print(f\"Trying: {size_of_hidden_layer}, {alpha}, {activation}, {solver}\")\n",
    "    model = MLPClassifier(hidden_layer_sizes=tuple([size_of_hidden_layer]),\n",
    "                          alpha=alpha,\n",
    "                          activation = activation,\n",
    "                          max_iter=20,\n",
    "                          solver=solver,\n",
    "                          verbose=True,\n",
    "                          learning_rate='adaptive',\n",
    "                          random_state=42)\n",
    "    model.fit(X_train_reviews_half, y_train_reviews_half)\n",
    "    y_pred_probas = model.predict_proba(X_valid_reviews_tr)\n",
    "    return log_loss(y_valid_reviews, y_pred_probas)\n",
    "\n",
    "\n",
    "if not best_model_nn_reviews_is_saved:\n",
    "    study_nn_reviews = optuna.create_study(direction='minimize')\n",
    "    # optuna.logging.set_verbosity(optuna.logging.DEBUG)\n",
    "    study_nn_reviews.optimize(objective, n_trials=10,show_progress_bar=True,n_jobs=-1)\n",
    "\n",
    "    study_nn_reviews.best_params"
   ],
   "metadata": {
    "collapsed": false
   }
  },
  {
   "cell_type": "markdown",
   "source": [
    "{'size_of_hidden_layer': 85,\n",
    " 'alpha': 0.00045434026867030927,\n",
    " 'activation': 'logistic',\n",
    " 'solver': 'adam'}"
   ],
   "metadata": {
    "collapsed": false
   }
  },
  {
   "cell_type": "code",
   "execution_count": null,
   "outputs": [],
   "source": [
    "if not best_model_nn_reviews_is_saved:\n",
    "    best_model_nn_reviews = MLPClassifier(hidden_layer_sizes=(85,), \n",
    "                              alpha=0.00045434026867030927,\n",
    "                              solver='adam',\n",
    "                              activation='logistic',\n",
    "                                random_state=42,\n",
    "                               learning_rate='adaptive',\n",
    "                               verbose=True,\n",
    "                              max_iter=50,\n",
    "                          )\n",
    "    best_model_nn_reviews.fit(X_train_reviews_tr, y_train_reviews)\n"
   ],
   "metadata": {
    "collapsed": false
   }
  },
  {
   "cell_type": "code",
   "execution_count": null,
   "outputs": [],
   "source": [
    "if not best_model_nn_reviews_is_saved:\n",
    "    pickle.dump(best_model_nn_reviews, open('models/best_model_nn_reviews.sav', 'wb'))\n",
    "    best_model_nn_reviews_is_saved = True\n",
    "else:\n",
    "    best_model_nn_reviews=pickle.load(open('models/best_model_nn_reviews.sav', 'rb'))"
   ],
   "metadata": {
    "collapsed": false
   }
  },
  {
   "cell_type": "code",
   "execution_count": null,
   "outputs": [],
   "source": [
    "y_preds_nn_reviews = best_model_nn_reviews.predict(X_valid_reviews_tr)\n",
    "\n",
    "balanced_acc_shallow_nn_reviews = balanced_accuracy_score(y_valid_reviews, y_preds_nn_reviews)"
   ],
   "metadata": {
    "collapsed": false
   }
  },
  {
   "cell_type": "code",
   "execution_count": null,
   "outputs": [],
   "source": [
    "balanced_acc_shallow_nn_reviews"
   ],
   "metadata": {
    "collapsed": false
   }
  },
  {
   "cell_type": "markdown",
   "source": [
    "Reviews:\n",
    "Baseline of shallow NNs (balanced accuracy = average of recalls for each class): __0.758__"
   ],
   "metadata": {
    "collapsed": false
   }
  },
  {
   "cell_type": "markdown",
   "source": [
    "#### News dataset"
   ],
   "metadata": {
    "collapsed": false
   }
  },
  {
   "cell_type": "code",
   "execution_count": null,
   "outputs": [],
   "source": [
    "available_activations = ['relu', 'logistic', 'tanh']\n",
    "available_solvers = ['adam', 'lbfgs']\n",
    "def objective(trial: optuna.trial.Trial):\n",
    "    size_of_hidden_layer = trial.suggest_int('size_of_hidden_layer', 10, 100)\n",
    "    alpha = trial.suggest_float('alpha', 0.0001, 0.001)\n",
    "    activation = trial.suggest_categorical('activation', \n",
    "                                           choices=available_activations)\n",
    "    solver = trial.suggest_categorical('solver', \n",
    "                                           choices=available_solvers)\n",
    "    \n",
    "    print(f\"Trying: {size_of_hidden_layer}, {alpha}, {activation}, {solver}\")\n",
    "    model = MLPClassifier(hidden_layer_sizes=tuple([size_of_hidden_layer]),\n",
    "                          alpha=alpha,\n",
    "                          activation = activation,\n",
    "                          max_iter=20,\n",
    "                          solver=solver,\n",
    "                          verbose=True,\n",
    "                          learning_rate='adaptive',\n",
    "                          random_state=42)\n",
    "    model.fit(X_train_news_16th, y_train_news_16th)\n",
    "    y_pred_probas = model.predict_proba(X_valid_news_tr)\n",
    "    return log_loss(y_valid_news, y_pred_probas)\n",
    "\n",
    "if not best_model_nn_news_is_saved:\n",
    "    study_nn_news = optuna.create_study(direction='minimize')\n",
    "    # optuna.logging.set_verbosity(optuna.logging.DEBUG)\n",
    "    study_nn_news.optimize(objective, n_trials=10,show_progress_bar=True,n_jobs=2)\n",
    "\n",
    "    study_nn_news.best_params"
   ],
   "metadata": {
    "collapsed": false
   }
  },
  {
   "cell_type": "markdown",
   "source": [
    "best value: 0.3686714944409208 (log loss)\n",
    " \n",
    "best params:\n",
    "{'size_of_hidden_layer': 34,\n",
    " 'alpha': 0.0004980605929484772,\n",
    " 'activation': 'tanh',\n",
    " 'solver': 'adam'}\n",
    " \n",
    "last:\n",
    "{'size_of_hidden_layer': 28, 'alpha': 0.0009033187102132166, 'activation': 'tanh', 'solver': 'adam'}"
   ],
   "metadata": {
    "collapsed": false
   }
  },
  {
   "cell_type": "code",
   "execution_count": null,
   "outputs": [],
   "source": [
    "if not best_model_nn_news_is_saved:\n",
    "    best_model_nn_news = MLPClassifier(hidden_layer_sizes=(34,), \n",
    "                              alpha=0.0004980605929484772,\n",
    "                              solver='adam',\n",
    "                              activation='tanh',\n",
    "                                random_state=42,\n",
    "                               learning_rate='adaptive',\n",
    "                               verbose=True,\n",
    "                              max_iter=20,\n",
    "                          )\n",
    "    best_model_nn_news.fit(X_train_news_8th, y_train_news_8th)\n"
   ],
   "metadata": {
    "collapsed": false
   }
  },
  {
   "cell_type": "code",
   "execution_count": 45,
   "id": "a9edf391",
   "metadata": {},
   "outputs": [],
   "source": [
    "if not best_model_nn_news_is_saved:\n",
    "    pickle.dump(best_model_nn_news, open('models/best_model_nn_news.sav', 'wb'))\n",
    "    best_model_nn_news_is_saved = True\n",
    "else:\n",
    "    best_model_nn_news=pickle.load(open('models/best_model_nn_news.sav', 'rb'))"
   ]
  },
  {
   "cell_type": "code",
   "execution_count": 43,
   "id": "5fef2ede",
   "metadata": {},
   "outputs": [],
   "source": [
    "y_preds_nn_news = best_model_nn_news.predict(X_valid_news_tr)\n",
    "\n",
    "balanced_acc_shallow_nn_news = balanced_accuracy_score(y_valid_news, y_preds_nn_news)"
   ]
  },
  {
   "cell_type": "code",
   "execution_count": 44,
   "id": "5b5da91d",
   "metadata": {},
   "outputs": [
    {
     "data": {
      "text/plain": [
       "0.8971229026985744"
      ]
     },
     "execution_count": 44,
     "metadata": {},
     "output_type": "execute_result"
    }
   ],
   "source": [
    "balanced_acc_shallow_nn_news"
   ]
  },
  {
   "cell_type": "markdown",
   "id": "5846beda",
   "metadata": {},
   "source": [
    "News Baseline of shallow NNs (balanced accuracy = average of recalls for each class): __0.92__"
   ]
  },
  {
   "cell_type": "markdown",
   "id": "3d2b36ee",
   "metadata": {},
   "source": [
    "### SVM"
   ]
  },
  {
   "cell_type": "markdown",
   "id": "e04575a2",
   "metadata": {},
   "source": [
    "#### Reviews dataset"
   ]
  },
  {
   "cell_type": "code",
   "execution_count": null,
   "outputs": [],
   "source": [
    "available_kernels = ['poly', 'sigmoid', 'linear']\n",
    "def objective(trial: optuna.trial.Trial):\n",
    "    kernel = trial.suggest_categorical('kernel', \n",
    "                                           choices=available_kernels)\n",
    "    degree = trial.suggest_int('degree', 3,6)\n",
    "    print(f\"Trying: {kernel}\")\n",
    "    model = SVC(kernel=kernel,\n",
    "                degree=degree,\n",
    "                gamma='scale',\n",
    "               verbose=True,\n",
    "               probability=True,\n",
    "               random_state=42)\n",
    "    model.fit(X_train_reviews_tr, y_train_reviews)\n",
    "    y_pred_probas = model.predict_proba(X_valid_reviews_tr)\n",
    "    return log_loss(y_valid_reviews, y_pred_probas)\n",
    "\n",
    "if not best_model_svm_reviews_is_saved:\n",
    "    study_svm_reviews = optuna.create_study(direction='minimize')\n",
    "    # optuna.logging.set_verbosity(optuna.logging.DEBUG)\n",
    "    study_svm_reviews.optimize(objective, n_trials=5,show_progress_bar=True,n_jobs=-1)\n",
    "\n",
    "    study_svm_reviews.best_params"
   ],
   "metadata": {
    "collapsed": false
   }
  },
  {
   "cell_type": "code",
   "execution_count": 81,
   "id": "4f41fa59",
   "metadata": {},
   "outputs": [
    {
     "name": "stdout",
     "output_type": "stream",
     "text": [
      "[LibSVM]"
     ]
    },
    {
     "ename": "NameError",
     "evalue": "name 'y_preds_svm' is not defined",
     "output_type": "error",
     "traceback": [
      "\u001B[1;31m---------------------------------------------------------------------------\u001B[0m",
      "\u001B[1;31mNameError\u001B[0m                                 Traceback (most recent call last)",
      "\u001B[1;32m<ipython-input-81-67c6b5981bdc>\u001B[0m in \u001B[0;36m<module>\u001B[1;34m\u001B[0m\n\u001B[0;32m      4\u001B[0m \u001B[0my_preds_svm_reviews\u001B[0m \u001B[1;33m=\u001B[0m \u001B[0mbest_model_svm\u001B[0m\u001B[1;33m.\u001B[0m\u001B[0mpredict\u001B[0m\u001B[1;33m(\u001B[0m\u001B[0mX_valid_reviews_tr\u001B[0m\u001B[1;33m)\u001B[0m\u001B[1;33m\u001B[0m\u001B[1;33m\u001B[0m\u001B[0m\n\u001B[0;32m      5\u001B[0m \u001B[1;33m\u001B[0m\u001B[0m\n\u001B[1;32m----> 6\u001B[1;33m \u001B[0mbalanced_acc_svm_reviews\u001B[0m \u001B[1;33m=\u001B[0m \u001B[0mbalanced_accuracy_score\u001B[0m\u001B[1;33m(\u001B[0m\u001B[0my_valid_reviews\u001B[0m\u001B[1;33m,\u001B[0m \u001B[0my_preds_svm\u001B[0m\u001B[1;33m)\u001B[0m\u001B[1;33m\u001B[0m\u001B[1;33m\u001B[0m\u001B[0m\n\u001B[0m",
      "\u001B[1;31mNameError\u001B[0m: name 'y_preds_svm' is not defined"
     ]
    }
   ],
   "source": [
    "if not best_model_svm_reviews_is_saved:\n",
    "    best_model_svm_reviews = SVC(kernel='linear', verbose=True)\n",
    "    best_model_svm_reviews.fit(X_train_reviews_tr, y_train_reviews)"
   ]
  },
  {
   "cell_type": "code",
   "execution_count": null,
   "id": "9fff875e",
   "metadata": {},
   "outputs": [],
   "source": [
    "if not best_model_svm_reviews_is_saved:\n",
    "    pickle.dump(best_model_svm_reviews, open('models/best_model_svm_reviews.sav', 'wb'))\n",
    "    best_model_svm_reviews_is_saved = True\n",
    "else:\n",
    "    best_model_svm_reviews=pickle.load(open('models/best_model_svm_reviews.sav', 'rb'))"
   ]
  },
  {
   "cell_type": "code",
   "execution_count": 82,
   "id": "051295b3",
   "metadata": {},
   "outputs": [],
   "source": [
    "y_preds_svm_reviews = best_model_svm_reviews.predict(X_valid_reviews_tr)\n",
    "\n",
    "balanced_acc_svm_reviews = balanced_accuracy_score(y_valid_reviews, y_preds_svm_reviews)"
   ]
  },
  {
   "cell_type": "code",
   "execution_count": 83,
   "id": "dfe38d59",
   "metadata": {},
   "outputs": [
    {
     "data": {
      "text/plain": [
       "0.7806725304721253"
      ]
     },
     "execution_count": 83,
     "metadata": {},
     "output_type": "execute_result"
    }
   ],
   "source": [
    "balanced_acc_svm_reviews"
   ]
  },
  {
   "cell_type": "markdown",
   "id": "fb4db66e",
   "metadata": {},
   "source": [
    "Balanced accuracy for reviews dataset with SVM: __0.78__"
   ]
  },
  {
   "cell_type": "markdown",
   "id": "8b83a68c",
   "metadata": {},
   "source": [
    "#### News dataset"
   ]
  },
  {
   "cell_type": "code",
   "execution_count": null,
   "outputs": [],
   "source": [
    "model = SVC(probability=True, random_state=42)\n",
    "param_grid = {'C': [0.1, 1, 10], \n",
    "              'gamma': [1, 0.1, 0.01, 0.001, 0.0001],\n",
    "              'kernel':['poly', 'sigmoid', 'linear', 'rbf']} \n",
    "  \n",
    "randomized = RandomizedSearchCV(model, param_grid, refit = True, verbose = 3, random_state=42)"
   ],
   "metadata": {
    "collapsed": false
   }
  },
  {
   "cell_type": "code",
   "execution_count": null,
   "outputs": [],
   "source": [
    "randomized.fit(X_train_news_16th, y_train_news_16th)"
   ],
   "metadata": {
    "collapsed": false
   }
  },
  {
   "cell_type": "code",
   "execution_count": null,
   "outputs": [],
   "source": [
    "randomized.best_params_"
   ],
   "metadata": {
    "collapsed": false
   }
  },
  {
   "cell_type": "code",
   "execution_count": null,
   "outputs": [],
   "source": [
    "randomized.best_score_"
   ],
   "metadata": {
    "collapsed": false
   }
  },
  {
   "cell_type": "code",
   "execution_count": null,
   "outputs": [],
   "source": [
    "\n",
    "if not best_model_svm_news_is_saved:\n",
    "    start=time.time()\n",
    "    best_model_svm_news = SVC(kernel='linear', gamma=0.001, C=10, verbose=True, random_state=42)\n",
    "    best_model_svm_news.fit(X_train_news_tr, y_train_news)\n",
    "    end=time.time()\n",
    "\n",
    "print(\"It took \", end-start, \"seconds\")"
   ],
   "metadata": {
    "collapsed": false
   }
  },
  {
   "cell_type": "code",
   "execution_count": null,
   "id": "5e94c333",
   "metadata": {},
   "outputs": [],
   "source": [
    "if not best_model_svm_news_is_saved:\n",
    "    pickle.dump(best_model_svm_news, open('models/best_model_svm_news.sav', 'wb'))\n",
    "    print('dumped')\n",
    "    best_model_nn_news_is_saved = True\n",
    "# else:\n",
    "#    best_model_svm_news=pickle.load(open('models/best_model_svm_news.sav', 'rb'))"
   ]
  },
  {
   "cell_type": "code",
   "execution_count": 82,
   "id": "b51fb648",
   "metadata": {},
   "outputs": [],
   "source": [
    "y_preds_svm_news = best_model_svm_news.predict(X_valid_news_tr)\n",
    "\n",
    "balanced_acc_svm_news = balanced_accuracy_score(y_valid_news, y_preds_svm_news)"
   ]
  },
  {
   "cell_type": "code",
   "execution_count": 83,
   "id": "9e17dc50",
   "metadata": {},
   "outputs": [
    {
     "data": {
      "text/plain": [
       "0.7806725304721253"
      ]
     },
     "execution_count": 83,
     "metadata": {},
     "output_type": "execute_result"
    }
   ],
   "source": [
    "balanced_acc_svm_news"
   ]
  },
  {
   "cell_type": "markdown",
   "id": "906b52bc",
   "metadata": {},
   "source": [
    "Balanced accuracy for news dataset with SVM: __0.912__"
   ]
  },
  {
   "cell_type": "markdown",
   "id": "17a69f07",
   "metadata": {},
   "source": [
    "## Evaluating shallow models"
   ]
  },
  {
   "cell_type": "code",
   "execution_count": null,
   "id": "04141646",
   "metadata": {},
   "outputs": [],
   "source": []
  },
  {
   "cell_type": "markdown",
   "id": "bc84c434",
   "metadata": {},
   "source": [
    "## Tranining RNN architectures"
   ]
  },
  {
   "cell_type": "markdown",
   "id": "0071d9d0",
   "metadata": {},
   "source": [
    "### Transfer learning with BERT as a base model"
   ]
  },
  {
   "cell_type": "code",
   "execution_count": null,
   "id": "385491a9",
   "metadata": {},
   "outputs": [],
   "source": []
  },
  {
   "cell_type": "markdown",
   "id": "6209c298",
   "metadata": {},
   "source": [
    "### Architecture 2"
   ]
  },
  {
   "cell_type": "code",
   "execution_count": null,
   "id": "68b47439",
   "metadata": {},
   "outputs": [],
   "source": []
  },
  {
   "cell_type": "markdown",
   "id": "94383f7c",
   "metadata": {},
   "source": [
    "## Evaluating RNN performance"
   ]
  },
  {
   "cell_type": "code",
   "execution_count": null,
   "id": "f6d0f6cf",
   "metadata": {},
   "outputs": [],
   "source": []
  },
  {
   "cell_type": "markdown",
   "id": "f039c92d",
   "metadata": {},
   "source": [
    "## Comparison: RNNs vs Shallow"
   ]
  },
  {
   "cell_type": "code",
   "execution_count": null,
   "id": "ce501ef5",
   "metadata": {},
   "outputs": [],
   "source": []
  }
 ],
 "metadata": {
  "kernelspec": {
   "display_name": "Python 3",
   "language": "python",
   "name": "python3"
  },
  "language_info": {
   "codemirror_mode": {
    "name": "ipython",
    "version": 3
   },
   "file_extension": ".py",
   "mimetype": "text/x-python",
   "name": "python",
   "nbconvert_exporter": "python",
   "pygments_lexer": "ipython3",
   "version": "3.10.5"
  }
 },
 "nbformat": 4,
 "nbformat_minor": 5
}
