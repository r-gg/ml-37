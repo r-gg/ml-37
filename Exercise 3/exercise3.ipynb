{
 "cells": [
  {
   "cell_type": "markdown",
   "id": "954ae2ef",
   "metadata": {},
   "source": [
    "# Exercise 3\n",
    "\n",
    "## Imports"
   ]
  },
  {
   "cell_type": "code",
   "execution_count": 2,
   "id": "47915d70",
   "metadata": {
    "tags": []
   },
   "outputs": [],
   "source": [
    "# !pip install scikit-learn"
   ]
  },
  {
   "cell_type": "code",
   "execution_count": 3,
   "id": "b6908a2d",
   "metadata": {},
   "outputs": [
    {
     "name": "stderr",
     "output_type": "stream",
     "text": [
      "C:\\Python311\\Lib\\site-packages\\tqdm\\auto.py:22: TqdmWarning: IProgress not found. Please update jupyter and ipywidgets. See https://ipywidgets.readthedocs.io/en/stable/user_install.html\n",
      "  from .autonotebook import tqdm as notebook_tqdm\n",
      "None of PyTorch, TensorFlow >= 2.0, or Flax have been found. Models won't be available and only tokenizers, configuration and file/data utilities can be used.\n"
     ]
    }
   ],
   "source": [
    "import time\n",
    "import os\n",
    "import transformers\n",
    "import optuna\n",
    "import pickle\n",
    "import pandas as pd\n",
    "import matplotlib.pyplot as plt\n",
    "import seaborn as sns\n",
    "import numpy as np\n",
    "from sklearn.model_selection import train_test_split\n",
    "from sklearn.neural_network import MLPClassifier\n",
    "from sklearn.model_selection import cross_val_score\n",
    "from sklearn.metrics import log_loss, balanced_accuracy_score\n",
    "from sklearn.svm import SVC  \n",
    "from sklearn.metrics import classification_report, confusion_matrix \n",
    "from sklearn.model_selection import GridSearchCV, RandomizedSearchCV"
   ]
  },
  {
   "cell_type": "markdown",
   "id": "30ce3196",
   "metadata": {},
   "source": [
    "## Data loading"
   ]
  },
  {
   "cell_type": "code",
   "execution_count": 4,
   "id": "04e43e5f",
   "metadata": {},
   "outputs": [],
   "source": [
    "ag_news_train_df = pd.read_csv('data/ag_news_train.csv')\n",
    "ag_news_test_df = pd.read_csv('data/ag_news_test.csv')\n",
    "amazon_reviews_df = pd.read_csv('data/cleaned_amazon_reviews.csv')"
   ]
  },
  {
   "cell_type": "code",
   "execution_count": 5,
   "id": "d345b392",
   "metadata": {},
   "outputs": [
    {
     "data": {
      "text/plain": [
       "(120000, 3)"
      ]
     },
     "execution_count": 5,
     "metadata": {},
     "output_type": "execute_result"
    }
   ],
   "source": [
    "ag_news_train_df.shape"
   ]
  },
  {
   "cell_type": "code",
   "execution_count": 6,
   "id": "ab99022b",
   "metadata": {},
   "outputs": [
    {
     "data": {
      "text/plain": [
       "(7600, 3)"
      ]
     },
     "execution_count": 6,
     "metadata": {},
     "output_type": "execute_result"
    }
   ],
   "source": [
    "ag_news_test_df.shape"
   ]
  },
  {
   "cell_type": "code",
   "execution_count": 7,
   "id": "5b365aff",
   "metadata": {},
   "outputs": [
    {
     "data": {
      "text/html": [
       "<div>\n",
       "<style scoped>\n",
       "    .dataframe tbody tr th:only-of-type {\n",
       "        vertical-align: middle;\n",
       "    }\n",
       "\n",
       "    .dataframe tbody tr th {\n",
       "        vertical-align: top;\n",
       "    }\n",
       "\n",
       "    .dataframe thead th {\n",
       "        text-align: right;\n",
       "    }\n",
       "</style>\n",
       "<table border=\"1\" class=\"dataframe\">\n",
       "  <thead>\n",
       "    <tr style=\"text-align: right;\">\n",
       "      <th></th>\n",
       "      <th>Class Index</th>\n",
       "      <th>Title</th>\n",
       "      <th>Description</th>\n",
       "    </tr>\n",
       "  </thead>\n",
       "  <tbody>\n",
       "    <tr>\n",
       "      <th>0</th>\n",
       "      <td>3</td>\n",
       "      <td>Wall St. Bears Claw Back Into the Black (Reuters)</td>\n",
       "      <td>Reuters - Short-sellers, Wall Street's dwindli...</td>\n",
       "    </tr>\n",
       "    <tr>\n",
       "      <th>1</th>\n",
       "      <td>3</td>\n",
       "      <td>Carlyle Looks Toward Commercial Aerospace (Reu...</td>\n",
       "      <td>Reuters - Private investment firm Carlyle Grou...</td>\n",
       "    </tr>\n",
       "    <tr>\n",
       "      <th>2</th>\n",
       "      <td>3</td>\n",
       "      <td>Oil and Economy Cloud Stocks' Outlook (Reuters)</td>\n",
       "      <td>Reuters - Soaring crude prices plus worries\\ab...</td>\n",
       "    </tr>\n",
       "    <tr>\n",
       "      <th>3</th>\n",
       "      <td>3</td>\n",
       "      <td>Iraq Halts Oil Exports from Main Southern Pipe...</td>\n",
       "      <td>Reuters - Authorities have halted oil export\\f...</td>\n",
       "    </tr>\n",
       "    <tr>\n",
       "      <th>4</th>\n",
       "      <td>3</td>\n",
       "      <td>Oil prices soar to all-time record, posing new...</td>\n",
       "      <td>AFP - Tearaway world oil prices, toppling reco...</td>\n",
       "    </tr>\n",
       "  </tbody>\n",
       "</table>\n",
       "</div>"
      ],
      "text/plain": [
       "   Class Index                                              Title  \\\n",
       "0            3  Wall St. Bears Claw Back Into the Black (Reuters)   \n",
       "1            3  Carlyle Looks Toward Commercial Aerospace (Reu...   \n",
       "2            3    Oil and Economy Cloud Stocks' Outlook (Reuters)   \n",
       "3            3  Iraq Halts Oil Exports from Main Southern Pipe...   \n",
       "4            3  Oil prices soar to all-time record, posing new...   \n",
       "\n",
       "                                         Description  \n",
       "0  Reuters - Short-sellers, Wall Street's dwindli...  \n",
       "1  Reuters - Private investment firm Carlyle Grou...  \n",
       "2  Reuters - Soaring crude prices plus worries\\ab...  \n",
       "3  Reuters - Authorities have halted oil export\\f...  \n",
       "4  AFP - Tearaway world oil prices, toppling reco...  "
      ]
     },
     "execution_count": 7,
     "metadata": {},
     "output_type": "execute_result"
    }
   ],
   "source": [
    "ag_news_train_df.head()"
   ]
  },
  {
   "cell_type": "code",
   "execution_count": 8,
   "id": "ca4be8c8",
   "metadata": {},
   "outputs": [
    {
     "data": {
      "text/plain": [
       "(17340, 4)"
      ]
     },
     "execution_count": 8,
     "metadata": {},
     "output_type": "execute_result"
    }
   ],
   "source": [
    "amazon_reviews_df.shape"
   ]
  },
  {
   "cell_type": "code",
   "execution_count": 9,
   "id": "4ce3ac02",
   "metadata": {},
   "outputs": [
    {
     "data": {
      "text/html": [
       "<div>\n",
       "<style scoped>\n",
       "    .dataframe tbody tr th:only-of-type {\n",
       "        vertical-align: middle;\n",
       "    }\n",
       "\n",
       "    .dataframe tbody tr th {\n",
       "        vertical-align: top;\n",
       "    }\n",
       "\n",
       "    .dataframe thead th {\n",
       "        text-align: right;\n",
       "    }\n",
       "</style>\n",
       "<table border=\"1\" class=\"dataframe\">\n",
       "  <thead>\n",
       "    <tr style=\"text-align: right;\">\n",
       "      <th></th>\n",
       "      <th>sentiments</th>\n",
       "      <th>cleaned_review</th>\n",
       "      <th>cleaned_review_length</th>\n",
       "      <th>review_score</th>\n",
       "    </tr>\n",
       "  </thead>\n",
       "  <tbody>\n",
       "    <tr>\n",
       "      <th>0</th>\n",
       "      <td>positive</td>\n",
       "      <td>i wish would have gotten one earlier love it a...</td>\n",
       "      <td>19</td>\n",
       "      <td>5.0</td>\n",
       "    </tr>\n",
       "    <tr>\n",
       "      <th>1</th>\n",
       "      <td>neutral</td>\n",
       "      <td>i ve learned this lesson again open the packag...</td>\n",
       "      <td>88</td>\n",
       "      <td>1.0</td>\n",
       "    </tr>\n",
       "    <tr>\n",
       "      <th>2</th>\n",
       "      <td>neutral</td>\n",
       "      <td>it is so slow and lags find better option</td>\n",
       "      <td>9</td>\n",
       "      <td>2.0</td>\n",
       "    </tr>\n",
       "    <tr>\n",
       "      <th>3</th>\n",
       "      <td>neutral</td>\n",
       "      <td>roller ball stopped working within months of m...</td>\n",
       "      <td>12</td>\n",
       "      <td>1.0</td>\n",
       "    </tr>\n",
       "    <tr>\n",
       "      <th>4</th>\n",
       "      <td>neutral</td>\n",
       "      <td>i like the color and size but it few days out ...</td>\n",
       "      <td>21</td>\n",
       "      <td>1.0</td>\n",
       "    </tr>\n",
       "  </tbody>\n",
       "</table>\n",
       "</div>"
      ],
      "text/plain": [
       "  sentiments                                     cleaned_review  \\\n",
       "0   positive  i wish would have gotten one earlier love it a...   \n",
       "1    neutral  i ve learned this lesson again open the packag...   \n",
       "2    neutral          it is so slow and lags find better option   \n",
       "3    neutral  roller ball stopped working within months of m...   \n",
       "4    neutral  i like the color and size but it few days out ...   \n",
       "\n",
       "   cleaned_review_length  review_score  \n",
       "0                     19           5.0  \n",
       "1                     88           1.0  \n",
       "2                      9           2.0  \n",
       "3                     12           1.0  \n",
       "4                     21           1.0  "
      ]
     },
     "execution_count": 9,
     "metadata": {},
     "output_type": "execute_result"
    }
   ],
   "source": [
    "amazon_reviews_df.head()"
   ]
  },
  {
   "cell_type": "code",
   "execution_count": 10,
   "id": "77dfc846",
   "metadata": {},
   "outputs": [
    {
     "data": {
      "text/plain": [
       "sentiments               0\n",
       "cleaned_review           3\n",
       "cleaned_review_length    0\n",
       "review_score             0\n",
       "dtype: int64"
      ]
     },
     "execution_count": 10,
     "metadata": {},
     "output_type": "execute_result"
    }
   ],
   "source": [
    "amazon_reviews_df.isna().sum()"
   ]
  },
  {
   "cell_type": "code",
   "execution_count": 11,
   "id": "e177d2f9",
   "metadata": {},
   "outputs": [
    {
     "data": {
      "text/plain": [
       "<Axes: >"
      ]
     },
     "execution_count": 11,
     "metadata": {},
     "output_type": "execute_result"
    },
    {
     "data": {
      "image/png": "[encoded data removed]",
      "text/plain": [
       "<Figure size 640x480 with 1 Axes>"
      ]
     },
     "metadata": {},
     "output_type": "display_data"
    }
   ],
   "source": [
    "amazon_reviews_df.sentiments.value_counts().plot(kind='bar')"
   ]
  },
  {
   "cell_type": "markdown",
   "id": "57bc1448",
   "metadata": {},
   "source": [
    "Unbalanced target"
   ]
  },
  {
   "cell_type": "code",
   "execution_count": 12,
   "id": "86251ec3",
   "metadata": {},
   "outputs": [
    {
     "data": {
      "text/plain": [
       "<Axes: >"
      ]
     },
     "execution_count": 12,
     "metadata": {},
     "output_type": "execute_result"
    },
    {
     "data": {
      "image/png": "[encoded data removed]",
      "text/plain": [
       "<Figure size 640x480 with 1 Axes>"
      ]
     },
     "metadata": {},
     "output_type": "display_data"
    }
   ],
   "source": [
    "ag_news_train_df['Class Index'].value_counts().plot(kind='bar')"
   ]
  },
  {
   "cell_type": "markdown",
   "id": "7b13d0fc",
   "metadata": {},
   "source": [
    "Balanced target"
   ]
  },
  {
   "cell_type": "markdown",
   "id": "e6f90678",
   "metadata": {},
   "source": [
    "#### Distribution of review lengths"
   ]
  },
  {
   "cell_type": "code",
   "execution_count": 13,
   "id": "e22614e6",
   "metadata": {},
   "outputs": [
    {
     "data": {
      "text/plain": [
       "(array([1.4993e+04, 1.8380e+03, 3.4300e+02, 8.3000e+01, 5.0000e+01,\n",
       "        1.2000e+01, 9.0000e+00, 5.0000e+00, 4.0000e+00, 3.0000e+00]),\n",
       " array([  0. ,  57.1, 114.2, 171.3, 228.4, 285.5, 342.6, 399.7, 456.8,\n",
       "        513.9, 571. ]),\n",
       " <BarContainer object of 10 artists>)"
      ]
     },
     "execution_count": 13,
     "metadata": {},
     "output_type": "execute_result"
    },
    {
     "data": {
      "image/png": "[encoded data removed]",
      "text/plain": [
       "<Figure size 640x480 with 1 Axes>"
      ]
     },
     "metadata": {},
     "output_type": "display_data"
    }
   ],
   "source": [
    "plt.hist(amazon_reviews_df.cleaned_review_length)"
   ]
  },
  {
   "cell_type": "markdown",
   "id": "726b78f2",
   "metadata": {},
   "source": [
    "#### Distribution of the news article lengths"
   ]
  },
  {
   "cell_type": "code",
   "execution_count": 14,
   "id": "eb80ba3d",
   "metadata": {},
   "outputs": [
    {
     "data": {
      "text/plain": [
       "(array([4.8100e+03, 6.7638e+04, 4.1664e+04, 4.2770e+03, 1.0700e+03,\n",
       "        2.9800e+02, 9.3000e+01, 9.0000e+01, 2.9000e+01, 3.1000e+01]),\n",
       " array([  6. , 103.9, 201.8, 299.7, 397.6, 495.5, 593.4, 691.3, 789.2,\n",
       "        887.1, 985. ]),\n",
       " <BarContainer object of 10 artists>)"
      ]
     },
     "execution_count": 14,
     "metadata": {},
     "output_type": "execute_result"
    },
    {
     "data": {
      "image/png": "[encoded data removed]",
      "text/plain": [
       "<Figure size 640x480 with 1 Axes>"
      ]
     },
     "metadata": {},
     "output_type": "display_data"
    }
   ],
   "source": [
    "plt.hist(ag_news_train_df.Description.str.len())"
   ]
  },
  {
   "cell_type": "code",
   "execution_count": 15,
   "id": "015c2fcf",
   "metadata": {},
   "outputs": [
    {
     "data": {
      "text/plain": [
       "Class Index    False\n",
       "Title          False\n",
       "Description    False\n",
       "dtype: bool"
      ]
     },
     "execution_count": 15,
     "metadata": {},
     "output_type": "execute_result"
    }
   ],
   "source": [
    "ag_news_train_df.isna().any()"
   ]
  },
  {
   "cell_type": "markdown",
   "id": "9d065041",
   "metadata": {},
   "source": [
    "#### Removing NaNs"
   ]
  },
  {
   "cell_type": "code",
   "execution_count": 16,
   "id": "fb1f3a48",
   "metadata": {},
   "outputs": [],
   "source": [
    "amazon_reviews_df.dropna(inplace=True)"
   ]
  },
  {
   "cell_type": "markdown",
   "id": "a04ea6fb",
   "metadata": {},
   "source": [
    "### Splitting amazon reviews into train and test set"
   ]
  },
  {
   "cell_type": "code",
   "execution_count": 17,
   "id": "eb222e2f",
   "metadata": {},
   "outputs": [],
   "source": [
    "X_amazon_reviews = amazon_reviews_df.drop(columns=['sentiments'])\n",
    "y_amazon_reviews = amazon_reviews_df['sentiments']"
   ]
  },
  {
   "cell_type": "code",
   "execution_count": 18,
   "id": "91eaf2c7",
   "metadata": {},
   "outputs": [],
   "source": [
    "X_train_reviews, X_test_reviews, y_train_reviews, y_test_reviews = train_test_split(X_amazon_reviews,\n",
    "                                                                                   y_amazon_reviews,\n",
    "                                                                                   random_state=42,\n",
    "                                                                                   test_size=0.2)"
   ]
  },
  {
   "cell_type": "code",
   "execution_count": 19,
   "id": "836713a6",
   "metadata": {},
   "outputs": [],
   "source": [
    "X_train_reviews, X_valid_reviews, y_train_reviews, y_valid_reviews = train_test_split(X_train_reviews,\n",
    "                                                                                     y_train_reviews,\n",
    "                                                                                     random_state=42,\n",
    "                                                                                     test_size = 0.33)"
   ]
  },
  {
   "cell_type": "markdown",
   "id": "84accaf9",
   "metadata": {},
   "source": [
    "### Splitting ag news into X and y's"
   ]
  },
  {
   "cell_type": "markdown",
   "id": "ab9a5c6c",
   "metadata": {},
   "source": [
    "Merging Title and Description into one field, \"Text\""
   ]
  },
  {
   "cell_type": "code",
   "execution_count": 20,
   "id": "b3132726",
   "metadata": {},
   "outputs": [],
   "source": [
    "ag_news_train_df['Text'] = ag_news_train_df[['Title', 'Description']].agg(' '.join,axis=1)\n",
    "ag_news_test_df['Text'] = ag_news_test_df[['Title', 'Description']].agg(' '.join,axis=1)"
   ]
  },
  {
   "cell_type": "code",
   "execution_count": 21,
   "id": "0fd1251b",
   "metadata": {},
   "outputs": [
    {
     "data": {
      "text/plain": [
       "0         Wall St. Bears Claw Back Into the Black (Reute...\n",
       "1         Carlyle Looks Toward Commercial Aerospace (Reu...\n",
       "2         Oil and Economy Cloud Stocks' Outlook (Reuters...\n",
       "3         Iraq Halts Oil Exports from Main Southern Pipe...\n",
       "4         Oil prices soar to all-time record, posing new...\n",
       "                                ...                        \n",
       "119995    Pakistan's Musharraf Says Won't Quit as Army C...\n",
       "119996    Renteria signing a top-shelf deal Red Sox gene...\n",
       "119997    Saban not going to Dolphins yet The Miami Dolp...\n",
       "119998    Today's NFL games PITTSBURGH at NY GIANTS Time...\n",
       "119999    Nets get Carter from Raptors INDIANAPOLIS -- A...\n",
       "Name: Text, Length: 120000, dtype: object"
      ]
     },
     "execution_count": 21,
     "metadata": {},
     "output_type": "execute_result"
    }
   ],
   "source": [
    "ag_news_train_df['Text']"
   ]
  },
  {
   "cell_type": "code",
   "execution_count": 22,
   "id": "d49caf67",
   "metadata": {},
   "outputs": [],
   "source": [
    "X_train_news = ag_news_train_df['Text']\n",
    "y_train_news = ag_news_train_df['Class Index']\n",
    "\n",
    "X_test_news = ag_news_test_df['Text']\n",
    "y_test_news = ag_news_test_df['Class Index']"
   ]
  },
  {
   "cell_type": "code",
   "execution_count": 23,
   "id": "0f2cfafb",
   "metadata": {},
   "outputs": [],
   "source": [
    "X_train_news, X_valid_news, y_train_news, y_valid_news = train_test_split(X_train_news,\n",
    "                                                                          y_train_news,\n",
    "                                                                          random_state=42,\n",
    "                                                                          test_size = 0.33)"
   ]
  },
  {
   "cell_type": "markdown",
   "id": "57849c89",
   "metadata": {},
   "source": [
    "## Naive feature extraction"
   ]
  },
  {
   "cell_type": "markdown",
   "id": "6764ba92",
   "metadata": {},
   "source": [
    "### Uni-Bigram vectorizer"
   ]
  },
  {
   "cell_type": "markdown",
   "id": "7671d792",
   "metadata": {},
   "source": [
    "Because documents are quite short on average, we used the uni-bigram vectorizer (contains both unigrams and bigrams)"
   ]
  },
  {
   "cell_type": "markdown",
   "id": "991cf474",
   "metadata": {},
   "source": [
    "Following pieces of code were taken from Sklearn's text feature extraction tutorial. (https://scikit-learn.org/stable/modules/feature_extraction.html)"
   ]
  },
  {
   "cell_type": "code",
   "execution_count": 24,
   "id": "3d052cb2",
   "metadata": {},
   "outputs": [],
   "source": [
    "from sklearn.feature_extraction.text import CountVectorizer"
   ]
  },
  {
   "cell_type": "code",
   "execution_count": 25,
   "id": "2029a0f0",
   "metadata": {},
   "outputs": [],
   "source": [
    "bigram_vectorizer = CountVectorizer(ngram_range=(1,2), token_pattern=r'\\b\\w+\\b', min_df=1)"
   ]
  },
  {
   "cell_type": "code",
   "execution_count": 26,
   "id": "98ef933e",
   "metadata": {},
   "outputs": [],
   "source": [
    "X_train_reviews_tr = bigram_vectorizer.fit_transform(X_train_reviews.cleaned_review)\n",
    "X_valid_reviews_tr = bigram_vectorizer.transform(X_valid_reviews.cleaned_review)\n",
    "X_test_reviews_tr = bigram_vectorizer.transform(X_test_reviews.cleaned_review)"
   ]
  },
  {
   "cell_type": "code",
   "execution_count": 27,
   "id": "667f0969",
   "metadata": {},
   "outputs": [
    {
     "data": {
      "text/plain": [
       "array(['a', 'a bit', 'a bunch', ..., 'zoom while', 'zooms', 'zooms down'],\n",
       "      dtype=object)"
      ]
     },
     "execution_count": 27,
     "metadata": {},
     "output_type": "execute_result"
    }
   ],
   "source": [
    "bigram_vectorizer.get_feature_names_out()"
   ]
  },
  {
   "cell_type": "code",
   "execution_count": null,
   "id": "e01ec08b",
   "metadata": {},
   "outputs": [],
   "source": [
    "X_train_news_tr = bigram_vectorizer.fit_transform(X_train_news)\n",
    "X_valid_news_tr = bigram_vectorizer.transform(X_valid_news)\n",
    "X_test_news_tr = bigram_vectorizer.transform(X_test_news)"
   ]
  },
  {
   "cell_type": "code",
   "execution_count": 43,
   "id": "e59e4f36-6a43-4709-a118-e780890a3344",
   "metadata": {
    "tags": []
   },
   "outputs": [],
   "source": [
    "from sklearn.decomposition import PCA, TruncatedSVD"
   ]
  },
  {
   "cell_type": "code",
   "execution_count": 59,
   "id": "36c5d159-7a6b-4327-b473-c13760c0647f",
   "metadata": {
    "tags": []
   },
   "outputs": [
    {
     "data": {
      "text/html": [
       "<style>#sk-container-id-5 {color: black;background-color: white;}#sk-container-id-5 pre{padding: 0;}#sk-container-id-5 div.sk-toggleable {background-color: white;}#sk-container-id-5 label.sk-toggleable__label {cursor: pointer;display: block;width: 100%;margin-bottom: 0;padding: 0.3em;box-sizing: border-box;text-align: center;}#sk-container-id-5 label.sk-toggleable__label-arrow:before {content: \"▸\";float: left;margin-right: 0.25em;color: #696969;}#sk-container-id-5 label.sk-toggleable__label-arrow:hover:before {color: black;}#sk-container-id-5 div.sk-estimator:hover label.sk-toggleable__label-arrow:before {color: black;}#sk-container-id-5 div.sk-toggleable__content {max-height: 0;max-width: 0;overflow: hidden;text-align: left;background-color: #f0f8ff;}#sk-container-id-5 div.sk-toggleable__content pre {margin: 0.2em;color: black;border-radius: 0.25em;background-color: #f0f8ff;}#sk-container-id-5 input.sk-toggleable__control:checked~div.sk-toggleable__content {max-height: 200px;max-width: 100%;overflow: auto;}#sk-container-id-5 input.sk-toggleable__control:checked~label.sk-toggleable__label-arrow:before {content: \"▾\";}#sk-container-id-5 div.sk-estimator input.sk-toggleable__control:checked~label.sk-toggleable__label {background-color: #d4ebff;}#sk-container-id-5 div.sk-label input.sk-toggleable__control:checked~label.sk-toggleable__label {background-color: #d4ebff;}#sk-container-id-5 input.sk-hidden--visually {border: 0;clip: rect(1px 1px 1px 1px);clip: rect(1px, 1px, 1px, 1px);height: 1px;margin: -1px;overflow: hidden;padding: 0;position: absolute;width: 1px;}#sk-container-id-5 div.sk-estimator {font-family: monospace;background-color: #f0f8ff;border: 1px dotted black;border-radius: 0.25em;box-sizing: border-box;margin-bottom: 0.5em;}#sk-container-id-5 div.sk-estimator:hover {background-color: #d4ebff;}#sk-container-id-5 div.sk-parallel-item::after {content: \"\";width: 100%;border-bottom: 1px solid gray;flex-grow: 1;}#sk-container-id-5 div.sk-label:hover label.sk-toggleable__label {background-color: #d4ebff;}#sk-container-id-5 div.sk-serial::before {content: \"\";position: absolute;border-left: 1px solid gray;box-sizing: border-box;top: 0;bottom: 0;left: 50%;z-index: 0;}#sk-container-id-5 div.sk-serial {display: flex;flex-direction: column;align-items: center;background-color: white;padding-right: 0.2em;padding-left: 0.2em;position: relative;}#sk-container-id-5 div.sk-item {position: relative;z-index: 1;}#sk-container-id-5 div.sk-parallel {display: flex;align-items: stretch;justify-content: center;background-color: white;position: relative;}#sk-container-id-5 div.sk-item::before, #sk-container-id-5 div.sk-parallel-item::before {content: \"\";position: absolute;border-left: 1px solid gray;box-sizing: border-box;top: 0;bottom: 0;left: 50%;z-index: -1;}#sk-container-id-5 div.sk-parallel-item {display: flex;flex-direction: column;z-index: 1;position: relative;background-color: white;}#sk-container-id-5 div.sk-parallel-item:first-child::after {align-self: flex-end;width: 50%;}#sk-container-id-5 div.sk-parallel-item:last-child::after {align-self: flex-start;width: 50%;}#sk-container-id-5 div.sk-parallel-item:only-child::after {width: 0;}#sk-container-id-5 div.sk-dashed-wrapped {border: 1px dashed gray;margin: 0 0.4em 0.5em 0.4em;box-sizing: border-box;padding-bottom: 0.4em;background-color: white;}#sk-container-id-5 div.sk-label label {font-family: monospace;font-weight: bold;display: inline-block;line-height: 1.2em;}#sk-container-id-5 div.sk-label-container {text-align: center;}#sk-container-id-5 div.sk-container {/* jupyter's `normalize.less` sets `[hidden] { display: none; }` but bootstrap.min.css set `[hidden] { display: none !important; }` so we also need the `!important` here to be able to override the default hidden behavior on the sphinx rendered scikit-learn.org. See: https://github.com/scikit-learn/scikit-learn/issues/21755 */display: inline-block !important;position: relative;}#sk-container-id-5 div.sk-text-repr-fallback {display: none;}</style><div id=\"sk-container-id-5\" class=\"sk-top-container\"><div class=\"sk-text-repr-fallback\"><pre>TruncatedSVD(n_components=100, n_iter=3, random_state=42)</pre><b>In a Jupyter environment, please rerun this cell to show the HTML representation or trust the notebook. <br />On GitHub, the HTML representation is unable to render, please try loading this page with nbviewer.org.</b></div><div class=\"sk-container\" hidden><div class=\"sk-item\"><div class=\"sk-estimator sk-toggleable\"><input class=\"sk-toggleable__control sk-hidden--visually\" id=\"sk-estimator-id-5\" type=\"checkbox\" checked><label for=\"sk-estimator-id-5\" class=\"sk-toggleable__label sk-toggleable__label-arrow\">TruncatedSVD</label><div class=\"sk-toggleable__content\"><pre>TruncatedSVD(n_components=100, n_iter=3, random_state=42)</pre></div></div></div></div></div>"
      ],
      "text/plain": [
       "TruncatedSVD(n_components=100, n_iter=3, random_state=42)"
      ]
     },
     "execution_count": 59,
     "metadata": {},
     "output_type": "execute_result"
    }
   ],
   "source": [
    "pca = TruncatedSVD(n_components=100, n_iter=3, random_state=42)\n",
    "pca.fit(X_train_news_tr)"
   ]
  },
  {
   "cell_type": "code",
   "execution_count": 48,
   "id": "879db6a0-80d9-4b68-b38b-420bd9a17c3d",
   "metadata": {
    "tags": []
   },
   "outputs": [
    {
     "data": {
      "text/plain": [
       "[<matplotlib.lines.Line2D at 0x27d1ac34950>]"
      ]
     },
     "execution_count": 48,
     "metadata": {},
     "output_type": "execute_result"
    },
    {
     "data": {
      "image/png": "[encoded data removed]",
      "text/plain": [
       "<Figure size 640x480 with 1 Axes>"
      ]
     },
     "metadata": {},
     "output_type": "display_data"
    }
   ],
   "source": [
    "plt.plot(pca.explained_variance_ratio_)"
   ]
  },
  {
   "cell_type": "code",
   "execution_count": 56,
   "id": "807ae0b8-ff62-4804-8f67-3aa99c72d9ea",
   "metadata": {
    "tags": []
   },
   "outputs": [
    {
     "data": {
      "text/plain": [
       "0.7928252737952203"
      ]
     },
     "execution_count": 56,
     "metadata": {},
     "output_type": "execute_result"
    }
   ],
   "source": [
    "np.sum(pca.explained_variance_ratio_)"
   ]
  },
  {
   "cell_type": "markdown",
   "id": "6f868f3b",
   "metadata": {},
   "source": [
    "## Training shallow models"
   ]
  },
  {
   "cell_type": "markdown",
   "id": "d23995a6",
   "metadata": {},
   "source": [
    "Balanced accuracy score is used to macro average across classes.\n",
    "\n",
    "For hyperparam tuning only a half of training data will be used for performance reasons."
   ]
  },
  {
   "cell_type": "code",
   "execution_count": null,
   "id": "f78dc361",
   "metadata": {},
   "outputs": [],
   "source": [
    "np.random.seed(42)\n",
    "reviews_train_idx = np.random.choice(y_train_reviews.shape[0], \n",
    "                                     replace=False, size=y_train_reviews.shape[0]//2)\n",
    "news_train_idx = np.random.choice(y_train_news.shape[0], \n",
    "                                     replace=False, size=y_train_news.shape[0]//8)"
   ]
  },
  {
   "cell_type": "code",
   "execution_count": null,
   "id": "e4b5cf49",
   "metadata": {},
   "outputs": [],
   "source": [
    "X_train_reviews_half = X_train_reviews_tr[reviews_train_idx,:]\n",
    "y_train_reviews_half = y_train_reviews.iloc[reviews_train_idx]\n",
    "\n",
    "X_train_news_16th = X_train_news_tr[news_train_idx,:]\n",
    "y_train_news_16th = y_train_news.iloc[news_train_idx]\n",
    "\n",
    "X_train_news_8th = X_train_news_tr[news_train_idx,:]\n",
    "y_train_news_8th = y_train_news.iloc[news_train_idx]"
   ]
  },
  {
   "cell_type": "markdown",
   "id": "07aa8735",
   "metadata": {},
   "source": [
    "#### Checking if models are saved"
   ]
  },
  {
   "cell_type": "code",
   "execution_count": null,
   "id": "1056c24f",
   "metadata": {
    "tags": []
   },
   "outputs": [],
   "source": [
    "best_model_nn_reviews_is_saved = os.path.exists('models/best_model_nn_reviews.sav')\n",
    "best_model_nn_news_is_saved = os.path.exists('models/best_model_nn_news.sav')\n",
    "best_model_svm_reviews_is_saved = os.path.exists('models/best_model_svm_reviews.sav')\n",
    "best_model_svm_news_is_saved = os.path.exists('models/best_model_svm_news.sav')\n",
    "\n",
    "train_time_nn_reviews = 1258.6950891017914\n",
    "train_time_nn_news = 16355.122691392899\n",
    "train_time_svm_reviews = 98.50997948646545\n",
    "train_time_svm_news = 7091.315309524536"
   ]
  },
  {
   "cell_type": "markdown",
   "id": "915337f0",
   "metadata": {},
   "source": [
    "### Shallow NN (One layer perceptron)"
   ]
  },
  {
   "cell_type": "markdown",
   "id": "bd02bba7",
   "metadata": {},
   "source": [
    "#### Reviews dataset"
   ]
  },
  {
   "cell_type": "code",
   "execution_count": null,
   "id": "f01c6aa6",
   "metadata": {},
   "outputs": [],
   "source": [
    "available_activations = ['relu', 'logistic', 'tanh']\n",
    "available_solvers = ['adam', 'lbfgs']\n",
    "def objective(trial: optuna.trial.Trial):\n",
    "    size_of_hidden_layer = trial.suggest_int('size_of_hidden_layer', 10, 100)\n",
    "    alpha = trial.suggest_float('alpha', 0.0001, 0.001)\n",
    "    activation = trial.suggest_categorical('activation', \n",
    "                                           choices=available_activations)\n",
    "    solver = trial.suggest_categorical('solver', \n",
    "                                           choices=available_solvers)\n",
    "    \n",
    "    print(f\"Trying: {size_of_hidden_layer}, {alpha}, {activation}, {solver}\")\n",
    "    model = MLPClassifier(hidden_layer_sizes=tuple([size_of_hidden_layer]),\n",
    "                          alpha=alpha,\n",
    "                          activation = activation,\n",
    "                          max_iter=20,\n",
    "                          solver=solver,\n",
    "                          verbose=True,\n",
    "                          learning_rate='adaptive',\n",
    "                          random_state=42)\n",
    "    model.fit(X_train_reviews_half, y_train_reviews_half)\n",
    "    y_pred_probas = model.predict_proba(X_valid_reviews_tr)\n",
    "    return log_loss(y_valid_reviews, y_pred_probas)\n",
    "\n",
    "\n",
    "if not best_model_nn_reviews_is_saved:\n",
    "    study_nn_reviews = optuna.create_study(direction='minimize')\n",
    "    # optuna.logging.set_verbosity(optuna.logging.DEBUG)\n",
    "    study_nn_reviews.optimize(objective, n_trials=10,show_progress_bar=True,n_jobs=-1)\n",
    "\n",
    "    study_nn_reviews.best_params"
   ]
  },
  {
   "cell_type": "markdown",
   "id": "9b80c0b3",
   "metadata": {},
   "source": [
    "{'size_of_hidden_layer': 85,\n",
    " 'alpha': 0.00045434026867030927,\n",
    " 'activation': 'logistic',\n",
    " 'solver': 'adam'}"
   ]
  },
  {
   "cell_type": "code",
   "execution_count": 32,
   "id": "cb5c5950",
   "metadata": {
    "tags": []
   },
   "outputs": [
    {
     "name": "stdout",
     "output_type": "stream",
     "text": [
      "Iteration 1, loss = 0.85204182\n",
      "Iteration 2, loss = 0.60728027\n",
      "Iteration 3, loss = 0.44798095\n",
      "Iteration 4, loss = 0.32897192\n",
      "Iteration 5, loss = 0.24530914\n",
      "Iteration 6, loss = 0.18774814\n",
      "Iteration 7, loss = 0.14743751\n",
      "Iteration 8, loss = 0.11937067\n",
      "Iteration 9, loss = 0.09848032\n",
      "Iteration 10, loss = 0.08324523\n",
      "Iteration 11, loss = 0.07132085\n",
      "Iteration 12, loss = 0.06231173\n",
      "Iteration 13, loss = 0.05506250\n",
      "Iteration 14, loss = 0.04923954\n",
      "Iteration 15, loss = 0.04447541\n",
      "Iteration 16, loss = 0.04050258\n",
      "Iteration 17, loss = 0.03721316\n",
      "Iteration 18, loss = 0.03442405\n",
      "Iteration 19, loss = 0.03195646\n",
      "Iteration 20, loss = 0.02990044\n",
      "Iteration 21, loss = 0.02806770\n",
      "Iteration 22, loss = 0.02647645\n",
      "Iteration 23, loss = 0.02505352\n",
      "Iteration 24, loss = 0.02379337\n",
      "Iteration 25, loss = 0.02267507\n",
      "Iteration 26, loss = 0.02165680\n",
      "Iteration 27, loss = 0.02073603\n",
      "Iteration 28, loss = 0.01992415\n",
      "Iteration 29, loss = 0.01915732\n",
      "Iteration 30, loss = 0.01847397\n",
      "Iteration 31, loss = 0.01781248\n",
      "Iteration 32, loss = 0.01722371\n",
      "Iteration 33, loss = 0.01668934\n",
      "Iteration 34, loss = 0.01618037\n",
      "Iteration 35, loss = 0.01568947\n",
      "Iteration 36, loss = 0.01524249\n",
      "Iteration 37, loss = 0.01483450\n",
      "Iteration 38, loss = 0.01444427\n",
      "Iteration 39, loss = 0.01407706\n",
      "Iteration 40, loss = 0.01373826\n",
      "Iteration 41, loss = 0.01339822\n",
      "Iteration 42, loss = 0.01309112\n",
      "Iteration 43, loss = 0.01280494\n",
      "Iteration 44, loss = 0.01252226\n",
      "Iteration 45, loss = 0.01224378\n",
      "Iteration 46, loss = 0.01198852\n",
      "Iteration 47, loss = 0.01174977\n",
      "Iteration 48, loss = 0.01152143\n",
      "Iteration 49, loss = 0.01129603\n",
      "Iteration 50, loss = 0.01107750\n",
      "It took  1258.6950891017914 seconds\n"
     ]
    },
    {
     "name": "stderr",
     "output_type": "stream",
     "text": [
      "C:\\Python311\\Lib\\site-packages\\sklearn\\neural_network\\_multilayer_perceptron.py:684: ConvergenceWarning: Stochastic Optimizer: Maximum iterations (50) reached and the optimization hasn't converged yet.\n",
      "  warnings.warn(\n"
     ]
    }
   ],
   "source": [
    "if not best_model_nn_reviews_is_saved:\n",
    "    best_model_nn_reviews = MLPClassifier(hidden_layer_sizes=(85,), \n",
    "                              alpha=0.00045434026867030927,\n",
    "                              solver='adam',\n",
    "                              activation='logistic',\n",
    "                                random_state=42,\n",
    "                               learning_rate='adaptive',\n",
    "                               verbose=True,\n",
    "                              max_iter=50,\n",
    "                          )\n",
    "    start=time.time()\n",
    "    best_model_nn_reviews.fit(X_train_reviews_tr, y_train_reviews)\n",
    "    end=time.time()\n",
    "\n",
    "    print(\"It took \", end-start, \"seconds\")\n",
    "    train_time_nn_reviews = end-start"
   ]
  },
  {
   "cell_type": "code",
   "execution_count": null,
   "id": "29654b2f",
   "metadata": {},
   "outputs": [],
   "source": [
    "if not best_model_nn_reviews_is_saved:\n",
    "    pickle.dump(best_model_nn_reviews, open('models/best_model_nn_reviews.sav', 'wb'))\n",
    "    best_model_nn_reviews_is_saved = True\n",
    "else:\n",
    "    best_model_nn_reviews=pickle.load(open('models/best_model_nn_reviews.sav', 'rb'))"
   ]
  },
  {
   "cell_type": "code",
   "execution_count": null,
   "id": "c26ac847",
   "metadata": {},
   "outputs": [],
   "source": [
    "y_preds_nn_reviews = best_model_nn_reviews.predict(X_valid_reviews_tr)\n",
    "\n",
    "balanced_acc_shallow_nn_reviews = balanced_accuracy_score(y_valid_reviews, y_preds_nn_reviews)"
   ]
  },
  {
   "cell_type": "code",
   "execution_count": null,
   "id": "4a6205b2",
   "metadata": {},
   "outputs": [],
   "source": [
    "balanced_acc_shallow_nn_reviews"
   ]
  },
  {
   "cell_type": "markdown",
   "id": "dbaeac4a",
   "metadata": {},
   "source": [
    "Reviews:\n",
    "Baseline of shallow NNs (balanced accuracy = average of recalls for each class): __0.758__"
   ]
  },
  {
   "cell_type": "markdown",
   "id": "825cc010",
   "metadata": {},
   "source": [
    "#### News dataset"
   ]
  },
  {
   "cell_type": "code",
   "execution_count": null,
   "id": "4d2b8df2",
   "metadata": {},
   "outputs": [],
   "source": [
    "available_activations = ['relu', 'logistic', 'tanh']\n",
    "available_solvers = ['adam', 'lbfgs']\n",
    "def objective(trial: optuna.trial.Trial):\n",
    "    size_of_hidden_layer = trial.suggest_int('size_of_hidden_layer', 10, 100)\n",
    "    alpha = trial.suggest_float('alpha', 0.0001, 0.001)\n",
    "    activation = trial.suggest_categorical('activation', \n",
    "                                           choices=available_activations)\n",
    "    solver = trial.suggest_categorical('solver', \n",
    "                                           choices=available_solvers)\n",
    "    \n",
    "    print(f\"Trying: {size_of_hidden_layer}, {alpha}, {activation}, {solver}\")\n",
    "    model = MLPClassifier(hidden_layer_sizes=tuple([size_of_hidden_layer]),\n",
    "                          alpha=alpha,\n",
    "                          activation = activation,\n",
    "                          max_iter=20,\n",
    "                          solver=solver,\n",
    "                          verbose=True,\n",
    "                          learning_rate='adaptive',\n",
    "                          random_state=42)\n",
    "    model.fit(X_train_news_16th, y_train_news_16th)\n",
    "    y_pred_probas = model.predict_proba(X_valid_news_tr)\n",
    "    return log_loss(y_valid_news, y_pred_probas)\n",
    "\n",
    "if not best_model_nn_news_is_saved:\n",
    "    study_nn_news = optuna.create_study(direction='minimize')\n",
    "    # optuna.logging.set_verbosity(optuna.logging.DEBUG)\n",
    "    study_nn_news.optimize(objective, n_trials=10,show_progress_bar=True,n_jobs=2)\n",
    "\n",
    "    study_nn_news.best_params"
   ]
  },
  {
   "cell_type": "markdown",
   "id": "41b19e94",
   "metadata": {},
   "source": [
    "best value: 0.3686714944409208 (log loss)\n",
    " \n",
    "best params:\n",
    "{'size_of_hidden_layer': 34,\n",
    " 'alpha': 0.0004980605929484772,\n",
    " 'activation': 'tanh',\n",
    " 'solver': 'adam'}\n",
    " \n",
    "last:\n",
    "{'size_of_hidden_layer': 28, 'alpha': 0.0009033187102132166, 'activation': 'tanh', 'solver': 'adam'}"
   ]
  },
  {
   "cell_type": "code",
   "execution_count": 37,
   "id": "31e8bc30",
   "metadata": {
    "tags": []
   },
   "outputs": [
    {
     "name": "stdout",
     "output_type": "stream",
     "text": [
      "Iteration 1, loss = 0.33724045\n",
      "Iteration 2, loss = 0.05308799\n",
      "Iteration 3, loss = 0.02711650\n",
      "Iteration 4, loss = 0.01960663\n",
      "Iteration 5, loss = 0.01510889\n",
      "Iteration 6, loss = 0.01189128\n",
      "Iteration 7, loss = 0.01017260\n",
      "Iteration 8, loss = 0.00852699\n",
      "Iteration 9, loss = 0.00773750\n",
      "Iteration 10, loss = 0.00726638\n",
      "Iteration 11, loss = 0.00785577\n",
      "Iteration 12, loss = 0.01010342\n",
      "Iteration 13, loss = 0.01611780\n",
      "Iteration 14, loss = 0.02124843\n",
      "Iteration 15, loss = 0.01925159\n",
      "Iteration 16, loss = 0.01444418\n",
      "Iteration 17, loss = 0.01230017\n",
      "Iteration 18, loss = 0.01225840\n",
      "Iteration 19, loss = 0.01196926\n",
      "Iteration 20, loss = 0.01176749\n",
      "It took  16355.122691392899 seconds\n"
     ]
    },
    {
     "name": "stderr",
     "output_type": "stream",
     "text": [
      "C:\\Python311\\Lib\\site-packages\\sklearn\\neural_network\\_multilayer_perceptron.py:684: ConvergenceWarning: Stochastic Optimizer: Maximum iterations (20) reached and the optimization hasn't converged yet.\n",
      "  warnings.warn(\n"
     ]
    }
   ],
   "source": [
    "if not best_model_nn_news_is_saved:\n",
    "    start=time.time()\n",
    "    best_model_nn_news = MLPClassifier(hidden_layer_sizes=(34,), \n",
    "                              alpha=0.0004980605929484772,\n",
    "                              solver='adam',\n",
    "                              activation='tanh',\n",
    "                                random_state=42,\n",
    "                               learning_rate='adaptive',\n",
    "                               verbose=True,\n",
    "                              max_iter=20,\n",
    "                          )\n",
    "    best_model_nn_news.fit(X_train_news_tr, y_train_news)\n",
    "    end=time.time()\n",
    "\n",
    "    print(\"It took \", end-start, \"seconds\")\n",
    "    train_time_nn_news = end-start"
   ]
  },
  {
   "cell_type": "code",
   "execution_count": 38,
   "id": "a9edf391",
   "metadata": {
    "tags": []
   },
   "outputs": [],
   "source": [
    "if not best_model_nn_news_is_saved:\n",
    "    pickle.dump(best_model_nn_news, open('models/best_model_nn_news.sav', 'wb'))\n",
    "    best_model_nn_news_is_saved = True\n",
    "else:\n",
    "    best_model_nn_news=pickle.load(open('models/best_model_nn_news.sav', 'rb'))"
   ]
  },
  {
   "cell_type": "code",
   "execution_count": 43,
   "id": "5fef2ede",
   "metadata": {},
   "outputs": [],
   "source": [
    "y_preds_nn_news = best_model_nn_news.predict(X_valid_news_tr)\n",
    "\n",
    "balanced_acc_shallow_nn_news = balanced_accuracy_score(y_valid_news, y_preds_nn_news)"
   ]
  },
  {
   "cell_type": "code",
   "execution_count": 44,
   "id": "5b5da91d",
   "metadata": {},
   "outputs": [
    {
     "data": {
      "text/plain": [
       "0.8971229026985744"
      ]
     },
     "execution_count": 44,
     "metadata": {},
     "output_type": "execute_result"
    }
   ],
   "source": [
    "balanced_acc_shallow_nn_news"
   ]
  },
  {
   "cell_type": "markdown",
   "id": "5846beda",
   "metadata": {},
   "source": [
    "News Baseline of shallow NNs (balanced accuracy = average of recalls for each class): __0.92__"
   ]
  },
  {
   "cell_type": "markdown",
   "id": "3d2b36ee",
   "metadata": {},
   "source": [
    "### SVM"
   ]
  },
  {
   "cell_type": "markdown",
   "id": "e04575a2",
   "metadata": {},
   "source": [
    "#### Reviews dataset"
   ]
  },
  {
   "cell_type": "code",
   "execution_count": 52,
   "id": "dab39bcb-829d-4e81-b098-4e81ba97ab9d",
   "metadata": {
    "tags": []
   },
   "outputs": [],
   "source": [
    "model_reviews = SVC(probability=True, random_state=42)\n",
    "param_grid_reviews = {'C': [0.1, 1, 10], \n",
    "              'gamma': [1, 0.1, 0.01, 0.001, 0.0001],\n",
    "              'kernel':['poly', 'sigmoid', 'linear', 'rbf']} \n",
    "  \n",
    "randomized_search_reviews = RandomizedSearchCV(model_reviews, param_grid_reviews, refit = True, verbose = 3, random_state=42)"
   ]
  },
  {
   "cell_type": "code",
   "execution_count": null,
   "id": "5b85dabd-25d8-4a7e-879f-3407f003c369",
   "metadata": {
    "tags": []
   },
   "outputs": [
    {
     "name": "stdout",
     "output_type": "stream",
     "text": [
      "Fitting 5 folds for each of 10 candidates, totalling 50 fits\n",
      "[CV 1/5] END .......C=0.1, gamma=1, kernel=poly;, score=0.731 total time=  33.4s\n",
      "[CV 2/5] END .......C=0.1, gamma=1, kernel=poly;, score=0.689 total time=  31.4s\n",
      "[CV 3/5] END .......C=0.1, gamma=1, kernel=poly;, score=0.742 total time=  31.7s\n",
      "[CV 4/5] END .......C=0.1, gamma=1, kernel=poly;, score=0.736 total time=  29.9s\n",
      "[CV 5/5] END .......C=0.1, gamma=1, kernel=poly;, score=0.705 total time=  30.3s\n",
      "[CV 1/5] END ..C=0.1, gamma=0.1, kernel=sigmoid;, score=0.447 total time=  13.6s\n",
      "[CV 2/5] END ..C=0.1, gamma=0.1, kernel=sigmoid;, score=0.492 total time=  13.3s\n",
      "[CV 3/5] END ..C=0.1, gamma=0.1, kernel=sigmoid;, score=0.517 total time=  13.5s\n",
      "[CV 4/5] END ..C=0.1, gamma=0.1, kernel=sigmoid;, score=0.466 total time=  13.4s\n",
      "[CV 5/5] END ..C=0.1, gamma=0.1, kernel=sigmoid;, score=0.497 total time=  13.1s\n",
      "[CV 1/5] END ....C=1, gamma=0.0001, kernel=poly;, score=0.540 total time=  17.6s\n",
      "[CV 2/5] END ....C=1, gamma=0.0001, kernel=poly;, score=0.539 total time=  17.1s\n",
      "[CV 3/5] END ....C=1, gamma=0.0001, kernel=poly;, score=0.539 total time=  18.0s\n",
      "[CV 4/5] END ....C=1, gamma=0.0001, kernel=poly;, score=0.539 total time=  18.6s\n",
      "[CV 5/5] END ....C=1, gamma=0.0001, kernel=poly;, score=0.540 total time=  21.7s\n",
      "[CV 1/5] END ...C=10, gamma=0.1, kernel=sigmoid;, score=0.432 total time=  14.2s\n",
      "[CV 2/5] END ...C=10, gamma=0.1, kernel=sigmoid;, score=0.473 total time=  13.5s\n",
      "[CV 3/5] END ...C=10, gamma=0.1, kernel=sigmoid;, score=0.484 total time=  11.6s\n",
      "[CV 4/5] END ...C=10, gamma=0.1, kernel=sigmoid;, score=0.456 total time=  11.4s\n",
      "[CV 5/5] END ...C=10, gamma=0.1, kernel=sigmoid;, score=0.511 total time=  11.1s\n",
      "[CV 1/5] END C=0.1, gamma=0.001, kernel=sigmoid;, score=0.540 total time=  21.3s\n",
      "[CV 2/5] END C=0.1, gamma=0.001, kernel=sigmoid;, score=0.539 total time=  20.8s\n",
      "[CV 3/5] END C=0.1, gamma=0.001, kernel=sigmoid;, score=0.539 total time=  21.6s\n",
      "[CV 4/5] END C=0.1, gamma=0.001, kernel=sigmoid;, score=0.539 total time=  21.0s\n",
      "[CV 5/5] END C=0.1, gamma=0.001, kernel=sigmoid;, score=0.540 total time=  20.9s\n",
      "[CV 1/5] END ..C=10, gamma=0.001, kernel=linear;, score=0.805 total time=  15.3s\n",
      "[CV 2/5] END ..C=10, gamma=0.001, kernel=linear;, score=0.797 total time=  15.3s\n",
      "[CV 3/5] END ..C=10, gamma=0.001, kernel=linear;, score=0.807 total time=  15.3s\n",
      "[CV 4/5] END ..C=10, gamma=0.001, kernel=linear;, score=0.839 total time=  15.5s\n",
      "[CV 5/5] END ..C=10, gamma=0.001, kernel=linear;, score=0.804 total time=  15.3s\n",
      "[CV 1/5] END ..C=1, gamma=0.001, kernel=sigmoid;, score=0.574 total time=  20.8s\n",
      "[CV 2/5] END ..C=1, gamma=0.001, kernel=sigmoid;, score=0.567 total time=  20.5s\n",
      "[CV 3/5] END ..C=1, gamma=0.001, kernel=sigmoid;, score=0.578 total time=  21.0s\n",
      "[CV 4/5] END ..C=1, gamma=0.001, kernel=sigmoid;, score=0.595 total time=  21.3s\n",
      "[CV 5/5] END ..C=1, gamma=0.001, kernel=sigmoid;, score=0.598 total time=  22.7s\n",
      "[CV 1/5] END .....C=10, gamma=0.01, kernel=poly;, score=0.528 total time=  34.3s\n",
      "[CV 2/5] END .....C=10, gamma=0.01, kernel=poly;, score=0.557 total time=  35.7s\n",
      "[CV 3/5] END .....C=10, gamma=0.01, kernel=poly;, score=0.571 total time=  35.6s\n",
      "[CV 4/5] END .....C=10, gamma=0.01, kernel=poly;, score=0.573 total time=  39.6s\n",
      "[CV 5/5] END .....C=10, gamma=0.01, kernel=poly;, score=0.579 total time=  37.1s\n",
      "[CV 1/5] END ...C=0.1, gamma=0.001, kernel=poly;, score=0.540 total time=  27.7s\n",
      "[CV 2/5] END ...C=0.1, gamma=0.001, kernel=poly;, score=0.539 total time=  26.8s\n",
      "[CV 3/5] END ...C=0.1, gamma=0.001, kernel=poly;, score=0.539 total time=  26.8s\n",
      "[CV 4/5] END ...C=0.1, gamma=0.001, kernel=poly;, score=0.539 total time=  26.7s\n",
      "[CV 5/5] END ...C=0.1, gamma=0.001, kernel=poly;, score=0.540 total time=  25.6s\n",
      "[CV 1/5] END C=10, gamma=0.0001, kernel=sigmoid;, score=0.567 total time=  26.7s\n",
      "[CV 2/5] END C=10, gamma=0.0001, kernel=sigmoid;, score=0.569 total time=  26.3s\n",
      "[CV 3/5] END C=10, gamma=0.0001, kernel=sigmoid;, score=0.564 total time=  27.4s\n",
      "[CV 4/5] END C=10, gamma=0.0001, kernel=sigmoid;, score=0.571 total time=  25.8s\n",
      "[CV 5/5] END C=10, gamma=0.0001, kernel=sigmoid;, score=0.576 total time=  24.5s\n"
     ]
    },
    {
     "data": {
      "text/html": [
       "<style>#sk-container-id-1 {color: black;background-color: white;}#sk-container-id-1 pre{padding: 0;}#sk-container-id-1 div.sk-toggleable {background-color: white;}#sk-container-id-1 label.sk-toggleable__label {cursor: pointer;display: block;width: 100%;margin-bottom: 0;padding: 0.3em;box-sizing: border-box;text-align: center;}#sk-container-id-1 label.sk-toggleable__label-arrow:before {content: \"▸\";float: left;margin-right: 0.25em;color: #696969;}#sk-container-id-1 label.sk-toggleable__label-arrow:hover:before {color: black;}#sk-container-id-1 div.sk-estimator:hover label.sk-toggleable__label-arrow:before {color: black;}#sk-container-id-1 div.sk-toggleable__content {max-height: 0;max-width: 0;overflow: hidden;text-align: left;background-color: #f0f8ff;}#sk-container-id-1 div.sk-toggleable__content pre {margin: 0.2em;color: black;border-radius: 0.25em;background-color: #f0f8ff;}#sk-container-id-1 input.sk-toggleable__control:checked~div.sk-toggleable__content {max-height: 200px;max-width: 100%;overflow: auto;}#sk-container-id-1 input.sk-toggleable__control:checked~label.sk-toggleable__label-arrow:before {content: \"▾\";}#sk-container-id-1 div.sk-estimator input.sk-toggleable__control:checked~label.sk-toggleable__label {background-color: #d4ebff;}#sk-container-id-1 div.sk-label input.sk-toggleable__control:checked~label.sk-toggleable__label {background-color: #d4ebff;}#sk-container-id-1 input.sk-hidden--visually {border: 0;clip: rect(1px 1px 1px 1px);clip: rect(1px, 1px, 1px, 1px);height: 1px;margin: -1px;overflow: hidden;padding: 0;position: absolute;width: 1px;}#sk-container-id-1 div.sk-estimator {font-family: monospace;background-color: #f0f8ff;border: 1px dotted black;border-radius: 0.25em;box-sizing: border-box;margin-bottom: 0.5em;}#sk-container-id-1 div.sk-estimator:hover {background-color: #d4ebff;}#sk-container-id-1 div.sk-parallel-item::after {content: \"\";width: 100%;border-bottom: 1px solid gray;flex-grow: 1;}#sk-container-id-1 div.sk-label:hover label.sk-toggleable__label {background-color: #d4ebff;}#sk-container-id-1 div.sk-serial::before {content: \"\";position: absolute;border-left: 1px solid gray;box-sizing: border-box;top: 0;bottom: 0;left: 50%;z-index: 0;}#sk-container-id-1 div.sk-serial {display: flex;flex-direction: column;align-items: center;background-color: white;padding-right: 0.2em;padding-left: 0.2em;position: relative;}#sk-container-id-1 div.sk-item {position: relative;z-index: 1;}#sk-container-id-1 div.sk-parallel {display: flex;align-items: stretch;justify-content: center;background-color: white;position: relative;}#sk-container-id-1 div.sk-item::before, #sk-container-id-1 div.sk-parallel-item::before {content: \"\";position: absolute;border-left: 1px solid gray;box-sizing: border-box;top: 0;bottom: 0;left: 50%;z-index: -1;}#sk-container-id-1 div.sk-parallel-item {display: flex;flex-direction: column;z-index: 1;position: relative;background-color: white;}#sk-container-id-1 div.sk-parallel-item:first-child::after {align-self: flex-end;width: 50%;}#sk-container-id-1 div.sk-parallel-item:last-child::after {align-self: flex-start;width: 50%;}#sk-container-id-1 div.sk-parallel-item:only-child::after {width: 0;}#sk-container-id-1 div.sk-dashed-wrapped {border: 1px dashed gray;margin: 0 0.4em 0.5em 0.4em;box-sizing: border-box;padding-bottom: 0.4em;background-color: white;}#sk-container-id-1 div.sk-label label {font-family: monospace;font-weight: bold;display: inline-block;line-height: 1.2em;}#sk-container-id-1 div.sk-label-container {text-align: center;}#sk-container-id-1 div.sk-container {/* jupyter's `normalize.less` sets `[hidden] { display: none; }` but bootstrap.min.css set `[hidden] { display: none !important; }` so we also need the `!important` here to be able to override the default hidden behavior on the sphinx rendered scikit-learn.org. See: https://github.com/scikit-learn/scikit-learn/issues/21755 */display: inline-block !important;position: relative;}#sk-container-id-1 div.sk-text-repr-fallback {display: none;}</style><div id=\"sk-container-id-1\" class=\"sk-top-container\"><div class=\"sk-text-repr-fallback\"><pre>RandomizedSearchCV(estimator=SVC(probability=True, random_state=42),\n",
       "                   param_distributions={&#x27;C&#x27;: [0.1, 1, 10],\n",
       "                                        &#x27;gamma&#x27;: [1, 0.1, 0.01, 0.001, 0.0001],\n",
       "                                        &#x27;kernel&#x27;: [&#x27;poly&#x27;, &#x27;sigmoid&#x27;, &#x27;linear&#x27;,\n",
       "                                                   &#x27;rbf&#x27;]},\n",
       "                   random_state=42, verbose=3)</pre><b>In a Jupyter environment, please rerun this cell to show the HTML representation or trust the notebook. <br />On GitHub, the HTML representation is unable to render, please try loading this page with nbviewer.org.</b></div><div class=\"sk-container\" hidden><div class=\"sk-item sk-dashed-wrapped\"><div class=\"sk-label-container\"><div class=\"sk-label sk-toggleable\"><input class=\"sk-toggleable__control sk-hidden--visually\" id=\"sk-estimator-id-1\" type=\"checkbox\" ><label for=\"sk-estimator-id-1\" class=\"sk-toggleable__label sk-toggleable__label-arrow\">RandomizedSearchCV</label><div class=\"sk-toggleable__content\"><pre>RandomizedSearchCV(estimator=SVC(probability=True, random_state=42),\n",
       "                   param_distributions={&#x27;C&#x27;: [0.1, 1, 10],\n",
       "                                        &#x27;gamma&#x27;: [1, 0.1, 0.01, 0.001, 0.0001],\n",
       "                                        &#x27;kernel&#x27;: [&#x27;poly&#x27;, &#x27;sigmoid&#x27;, &#x27;linear&#x27;,\n",
       "                                                   &#x27;rbf&#x27;]},\n",
       "                   random_state=42, verbose=3)</pre></div></div></div><div class=\"sk-parallel\"><div class=\"sk-parallel-item\"><div class=\"sk-item\"><div class=\"sk-label-container\"><div class=\"sk-label sk-toggleable\"><input class=\"sk-toggleable__control sk-hidden--visually\" id=\"sk-estimator-id-2\" type=\"checkbox\" ><label for=\"sk-estimator-id-2\" class=\"sk-toggleable__label sk-toggleable__label-arrow\">estimator: SVC</label><div class=\"sk-toggleable__content\"><pre>SVC(probability=True, random_state=42)</pre></div></div></div><div class=\"sk-serial\"><div class=\"sk-item\"><div class=\"sk-estimator sk-toggleable\"><input class=\"sk-toggleable__control sk-hidden--visually\" id=\"sk-estimator-id-3\" type=\"checkbox\" ><label for=\"sk-estimator-id-3\" class=\"sk-toggleable__label sk-toggleable__label-arrow\">SVC</label><div class=\"sk-toggleable__content\"><pre>SVC(probability=True, random_state=42)</pre></div></div></div></div></div></div></div></div></div></div>"
      ],
      "text/plain": [
       "RandomizedSearchCV(estimator=SVC(probability=True, random_state=42),\n",
       "                   param_distributions={'C': [0.1, 1, 10],\n",
       "                                        'gamma': [1, 0.1, 0.01, 0.001, 0.0001],\n",
       "                                        'kernel': ['poly', 'sigmoid', 'linear',\n",
       "                                                   'rbf']},\n",
       "                   random_state=42, verbose=3)"
      ]
     },
     "execution_count": 54,
     "metadata": {},
     "output_type": "execute_result"
    }
   ],
   "source": [
    "randomized_search_reviews.fit(X_train_reviews_half, y_train_reviews_half)"
   ]
  },
  {
   "cell_type": "code",
   "execution_count": null,
   "id": "604d63ea-5de5-4dae-ab1a-69186219992a",
   "metadata": {},
   "outputs": [
    {
     "data": {
      "text/plain": [
       "{'kernel': 'linear', 'gamma': 0.001, 'C': 10}"
      ]
     },
     "execution_count": 55,
     "metadata": {},
     "output_type": "execute_result"
    }
   ],
   "source": [
    "randomized_search_reviews.best_params_"
   ]
  },
  {
   "cell_type": "code",
   "execution_count": null,
   "id": "de9b4354-633c-4314-a43e-2dccadef27d6",
   "metadata": {},
   "outputs": [
    {
     "data": {
      "text/plain": [
       "0.8103755917450837"
      ]
     },
     "execution_count": 56,
     "metadata": {},
     "output_type": "execute_result"
    }
   ],
   "source": [
    "randomized_search_reviews.best_score_"
   ]
  },
  {
   "cell_type": "code",
   "execution_count": 34,
   "id": "4f41fa59",
   "metadata": {
    "tags": []
   },
   "outputs": [
    {
     "name": "stdout",
     "output_type": "stream",
     "text": [
      "It took  98.50997948646545 seconds\n"
     ]
    }
   ],
   "source": [
    "if not best_model_svm_reviews_is_saved:\n",
    "    start=time.time()\n",
    "    best_model_svm_reviews =  SVC(probability=True, random_state=42, kernel='linear', gamma=0.001, C=10)\n",
    "    best_model_svm_reviews.fit(X_train_reviews_tr, y_train_reviews)\n",
    "    end=time.time()\n",
    "\n",
    "    print(\"It took \", end-start, \"seconds\")\n",
    "    train_time_svm_reviews = end-start"
   ]
  },
  {
   "cell_type": "code",
   "execution_count": 58,
   "id": "9fff875e",
   "metadata": {
    "tags": []
   },
   "outputs": [],
   "source": [
    "if not best_model_svm_reviews_is_saved:\n",
    "    pickle.dump(best_model_svm_reviews, open('models/best_model_svm_reviews.sav', 'wb'))\n",
    "    best_model_svm_reviews_is_saved = True\n",
    "else:\n",
    "    best_model_svm_reviews=pickle.load(open('models/best_model_svm_reviews.sav', 'rb'))"
   ]
  },
  {
   "cell_type": "code",
   "execution_count": 59,
   "id": "051295b3",
   "metadata": {
    "tags": []
   },
   "outputs": [],
   "source": [
    "y_preds_svm_reviews = best_model_svm_reviews.predict(X_valid_reviews_tr)\n",
    "\n",
    "balanced_acc_svm_reviews = balanced_accuracy_score(y_valid_reviews, y_preds_svm_reviews)"
   ]
  },
  {
   "cell_type": "code",
   "execution_count": 60,
   "id": "dfe38d59",
   "metadata": {
    "tags": []
   },
   "outputs": [
    {
     "data": {
      "text/plain": [
       "0.7774100664712412"
      ]
     },
     "execution_count": 60,
     "metadata": {},
     "output_type": "execute_result"
    }
   ],
   "source": [
    "balanced_acc_svm_reviews"
   ]
  },
  {
   "cell_type": "markdown",
   "id": "fb4db66e",
   "metadata": {},
   "source": [
    "Balanced accuracy for reviews dataset with SVM: __0.78__"
   ]
  },
  {
   "cell_type": "markdown",
   "id": "8b83a68c",
   "metadata": {},
   "source": [
    "#### News dataset"
   ]
  },
  {
   "cell_type": "code",
   "execution_count": null,
   "id": "a607ce6c",
   "metadata": {},
   "outputs": [],
   "source": [
    "model = SVC(probability=True, random_state=42)\n",
    "param_grid = {'C': [0.1, 1, 10], \n",
    "              'gamma': [1, 0.1, 0.01, 0.001, 0.0001],\n",
    "              'kernel':['poly', 'sigmoid', 'linear', 'rbf']} \n",
    "  \n",
    "randomized = RandomizedSearchCV(model, param_grid, refit = True, verbose = 3, random_state=42)"
   ]
  },
  {
   "cell_type": "code",
   "execution_count": null,
   "id": "5a588d11",
   "metadata": {},
   "outputs": [],
   "source": [
    "randomized.fit(X_train_news_16th, y_train_news_16th)"
   ]
  },
  {
   "cell_type": "code",
   "execution_count": null,
   "id": "0e414d37",
   "metadata": {},
   "outputs": [],
   "source": [
    "randomized.best_params_"
   ]
  },
  {
   "cell_type": "code",
   "execution_count": null,
   "id": "6f2d33c3",
   "metadata": {},
   "outputs": [],
   "source": [
    "randomized.best_score_"
   ]
  },
  {
   "cell_type": "code",
   "execution_count": 36,
   "id": "450c725c",
   "metadata": {
    "tags": []
   },
   "outputs": [
    {
     "name": "stdout",
     "output_type": "stream",
     "text": [
      "[LibSVM]It took  7091.315309524536 seconds\n"
     ]
    }
   ],
   "source": [
    "\n",
    "if not best_model_svm_news_is_saved:\n",
    "    start=time.time()\n",
    "    best_model_svm_news = SVC(kernel='linear', gamma=0.001, C=10, verbose=True, random_state=42)\n",
    "    best_model_svm_news.fit(X_train_news_tr, y_train_news)\n",
    "    end=time.time()\n",
    "\n",
    "    print(\"It took \", end-start, \"seconds\")\n",
    "    train_time_svm_news = end-start"
   ]
  },
  {
   "cell_type": "code",
   "execution_count": null,
   "id": "5e94c333",
   "metadata": {},
   "outputs": [],
   "source": [
    "if not best_model_svm_news_is_saved:\n",
    "    pickle.dump(best_model_svm_news, open('models/best_model_svm_news.sav', 'wb'))\n",
    "    print('dumped')\n",
    "    best_model_nn_news_is_saved = True\n",
    "# else:\n",
    "#    best_model_svm_news=pickle.load(open('models/best_model_svm_news.sav', 'rb'))"
   ]
  },
  {
   "cell_type": "code",
   "execution_count": 82,
   "id": "b51fb648",
   "metadata": {},
   "outputs": [],
   "source": [
    "y_preds_svm_news = best_model_svm_news.predict(X_valid_news_tr)\n",
    "\n",
    "balanced_acc_svm_news = balanced_accuracy_score(y_valid_news, y_preds_svm_news)"
   ]
  },
  {
   "cell_type": "code",
   "execution_count": 83,
   "id": "9e17dc50",
   "metadata": {},
   "outputs": [
    {
     "data": {
      "text/plain": [
       "0.7806725304721253"
      ]
     },
     "execution_count": 83,
     "metadata": {},
     "output_type": "execute_result"
    }
   ],
   "source": [
    "balanced_acc_svm_news"
   ]
  },
  {
   "cell_type": "markdown",
   "id": "906b52bc",
   "metadata": {},
   "source": [
    "Balanced accuracy for news dataset with SVM: __0.912__"
   ]
  },
  {
   "cell_type": "code",
   "execution_count": null,
   "id": "686d7492-4de5-4c53-ace3-13e62dd639be",
   "metadata": {},
   "outputs": [],
   "source": []
  },
  {
   "cell_type": "markdown",
   "id": "17a69f07",
   "metadata": {},
   "source": [
    "## Evaluating shallow models"
   ]
  },
  {
   "cell_type": "code",
   "execution_count": null,
   "id": "04141646",
   "metadata": {},
   "outputs": [],
   "source": []
  },
  {
   "cell_type": "markdown",
   "id": "bc84c434",
   "metadata": {},
   "source": [
    "## Tranining RNN architectures"
   ]
  },
  {
   "cell_type": "markdown",
   "id": "6209c298",
   "metadata": {},
   "source": [
    "### Architecture 2 - LSTM"
   ]
  },
  {
   "cell_type": "code",
   "execution_count": null,
   "id": "68b47439",
   "metadata": {},
   "outputs": [],
   "source": []
  },
  {
   "cell_type": "markdown",
   "id": "94383f7c",
   "metadata": {},
   "source": [
    "## Evaluating RNN performance"
   ]
  },
  {
   "cell_type": "code",
   "execution_count": null,
   "id": "f6d0f6cf",
   "metadata": {},
   "outputs": [],
   "source": []
  },
  {
   "cell_type": "markdown",
   "id": "f039c92d",
   "metadata": {},
   "source": [
    "## Comparison: RNNs vs Shallow"
   ]
  },
  {
   "cell_type": "code",
   "execution_count": null,
   "id": "ce501ef5",
   "metadata": {},
   "outputs": [],
   "source": []
  }
 ],
 "metadata": {
  "kernelspec": {
   "display_name": "Python 3 (ipykernel)",
   "language": "python",
   "name": "python3"
  },
  "language_info": {
   "codemirror_mode": {
    "name": "ipython",
    "version": 3
   },
   "file_extension": ".py",
   "mimetype": "text/x-python",
   "name": "python",
   "nbconvert_exporter": "python",
   "pygments_lexer": "ipython3",
   "version": "3.11.0"
  }
 },
 "nbformat": 4,
 "nbformat_minor": 5
}
