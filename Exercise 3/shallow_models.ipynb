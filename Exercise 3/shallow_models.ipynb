{
 "cells": [
  {
   "cell_type": "markdown",
   "id": "954ae2ef",
   "metadata": {},
   "source": [
    "# Exercise 3\n",
    "\n",
    "## Imports"
   ]
  },
  {
   "cell_type": "code",
   "execution_count": 62,
   "id": "47915d70",
   "metadata": {
    "tags": []
   },
   "outputs": [],
   "source": [
    "# !pip install scikit-learn"
   ]
  },
  {
   "cell_type": "code",
   "execution_count": 192,
   "id": "b6908a2d",
   "metadata": {},
   "outputs": [],
   "source": [
    "import time\n",
    "import os\n",
    "import optuna\n",
    "import pickle\n",
    "import pandas as pd\n",
    "import matplotlib.pyplot as plt\n",
    "import numpy as np\n",
    "from sklearn.model_selection import train_test_split\n",
    "from sklearn.neural_network import MLPClassifier\n",
    "from sklearn.metrics import log_loss\n",
    "from sklearn.svm import SVC\n",
    "from sklearn.metrics import classification_report\n",
    "from sklearn.model_selection import RandomizedSearchCV\n",
    "from sklearn.metrics import accuracy_score, balanced_accuracy_score, precision_score, recall_score"
   ]
  },
  {
   "cell_type": "code",
   "execution_count": null,
   "outputs": [],
   "source": [
    "is_run_on_colab = False\n",
    "if is_run_on_colab:\n",
    "    from google.colab import drive\n",
    "    drive.mount('/content/drive')"
   ],
   "metadata": {
    "collapsed": false
   }
  },
  {
   "cell_type": "code",
   "execution_count": 64,
   "outputs": [],
   "source": [
    "plt.style.use('seaborn-v0_8-pastel')"
   ],
   "metadata": {
    "collapsed": false
   }
  },
  {
   "cell_type": "code",
   "execution_count": 203,
   "outputs": [],
   "source": [
    "import sklearn"
   ],
   "metadata": {
    "collapsed": false
   }
  },
  {
   "cell_type": "code",
   "execution_count": 204,
   "outputs": [
    {
     "data": {
      "text/plain": "'1.2.1'"
     },
     "execution_count": 204,
     "metadata": {},
     "output_type": "execute_result"
    }
   ],
   "source": [
    "sklearn.__version__"
   ],
   "metadata": {
    "collapsed": false
   }
  },
  {
   "cell_type": "markdown",
   "id": "30ce3196",
   "metadata": {},
   "source": [
    "## Data loading"
   ]
  },
  {
   "cell_type": "code",
   "execution_count": 65,
   "id": "04e43e5f",
   "metadata": {},
   "outputs": [],
   "source": [
    "ag_news_train_df = pd.read_csv('data/ag_news_train.csv')\n",
    "ag_news_test_df = pd.read_csv('data/ag_news_test.csv')\n",
    "amazon_reviews_df = pd.read_csv('data/cleaned_amazon_reviews.csv')"
   ]
  },
  {
   "cell_type": "code",
   "execution_count": 66,
   "id": "d345b392",
   "metadata": {},
   "outputs": [
    {
     "data": {
      "text/plain": "(120000, 3)"
     },
     "execution_count": 66,
     "metadata": {},
     "output_type": "execute_result"
    }
   ],
   "source": [
    "ag_news_train_df.shape"
   ]
  },
  {
   "cell_type": "code",
   "execution_count": 67,
   "id": "ab99022b",
   "metadata": {},
   "outputs": [
    {
     "data": {
      "text/plain": "(7600, 3)"
     },
     "execution_count": 67,
     "metadata": {},
     "output_type": "execute_result"
    }
   ],
   "source": [
    "ag_news_test_df.shape"
   ]
  },
  {
   "cell_type": "code",
   "execution_count": 68,
   "id": "5b365aff",
   "metadata": {},
   "outputs": [
    {
     "data": {
      "text/plain": "   Class Index                                              Title  \\\n0            3  Wall St. Bears Claw Back Into the Black (Reuters)   \n1            3  Carlyle Looks Toward Commercial Aerospace (Reu...   \n2            3    Oil and Economy Cloud Stocks' Outlook (Reuters)   \n3            3  Iraq Halts Oil Exports from Main Southern Pipe...   \n4            3  Oil prices soar to all-time record, posing new...   \n\n                                         Description  \n0  Reuters - Short-sellers, Wall Street's dwindli...  \n1  Reuters - Private investment firm Carlyle Grou...  \n2  Reuters - Soaring crude prices plus worries\\ab...  \n3  Reuters - Authorities have halted oil export\\f...  \n4  AFP - Tearaway world oil prices, toppling reco...  ",
      "text/html": "<div>\n<style scoped>\n    .dataframe tbody tr th:only-of-type {\n        vertical-align: middle;\n    }\n\n    .dataframe tbody tr th {\n        vertical-align: top;\n    }\n\n    .dataframe thead th {\n        text-align: right;\n    }\n</style>\n<table border=\"1\" class=\"dataframe\">\n  <thead>\n    <tr style=\"text-align: right;\">\n      <th></th>\n      <th>Class Index</th>\n      <th>Title</th>\n      <th>Description</th>\n    </tr>\n  </thead>\n  <tbody>\n    <tr>\n      <th>0</th>\n      <td>3</td>\n      <td>Wall St. Bears Claw Back Into the Black (Reuters)</td>\n      <td>Reuters - Short-sellers, Wall Street's dwindli...</td>\n    </tr>\n    <tr>\n      <th>1</th>\n      <td>3</td>\n      <td>Carlyle Looks Toward Commercial Aerospace (Reu...</td>\n      <td>Reuters - Private investment firm Carlyle Grou...</td>\n    </tr>\n    <tr>\n      <th>2</th>\n      <td>3</td>\n      <td>Oil and Economy Cloud Stocks' Outlook (Reuters)</td>\n      <td>Reuters - Soaring crude prices plus worries\\ab...</td>\n    </tr>\n    <tr>\n      <th>3</th>\n      <td>3</td>\n      <td>Iraq Halts Oil Exports from Main Southern Pipe...</td>\n      <td>Reuters - Authorities have halted oil export\\f...</td>\n    </tr>\n    <tr>\n      <th>4</th>\n      <td>3</td>\n      <td>Oil prices soar to all-time record, posing new...</td>\n      <td>AFP - Tearaway world oil prices, toppling reco...</td>\n    </tr>\n  </tbody>\n</table>\n</div>"
     },
     "execution_count": 68,
     "metadata": {},
     "output_type": "execute_result"
    }
   ],
   "source": [
    "ag_news_train_df.head()"
   ]
  },
  {
   "cell_type": "code",
   "execution_count": 69,
   "id": "ca4be8c8",
   "metadata": {},
   "outputs": [
    {
     "data": {
      "text/plain": "(17340, 4)"
     },
     "execution_count": 69,
     "metadata": {},
     "output_type": "execute_result"
    }
   ],
   "source": [
    "amazon_reviews_df.shape"
   ]
  },
  {
   "cell_type": "code",
   "execution_count": 70,
   "id": "4ce3ac02",
   "metadata": {},
   "outputs": [
    {
     "data": {
      "text/plain": "  sentiments                                     cleaned_review  \\\n0   positive  i wish would have gotten one earlier love it a...   \n1    neutral  i ve learned this lesson again open the packag...   \n2    neutral          it is so slow and lags find better option   \n3    neutral  roller ball stopped working within months of m...   \n4    neutral  i like the color and size but it few days out ...   \n\n   cleaned_review_length  review_score  \n0                     19           5.0  \n1                     88           1.0  \n2                      9           2.0  \n3                     12           1.0  \n4                     21           1.0  ",
      "text/html": "<div>\n<style scoped>\n    .dataframe tbody tr th:only-of-type {\n        vertical-align: middle;\n    }\n\n    .dataframe tbody tr th {\n        vertical-align: top;\n    }\n\n    .dataframe thead th {\n        text-align: right;\n    }\n</style>\n<table border=\"1\" class=\"dataframe\">\n  <thead>\n    <tr style=\"text-align: right;\">\n      <th></th>\n      <th>sentiments</th>\n      <th>cleaned_review</th>\n      <th>cleaned_review_length</th>\n      <th>review_score</th>\n    </tr>\n  </thead>\n  <tbody>\n    <tr>\n      <th>0</th>\n      <td>positive</td>\n      <td>i wish would have gotten one earlier love it a...</td>\n      <td>19</td>\n      <td>5.0</td>\n    </tr>\n    <tr>\n      <th>1</th>\n      <td>neutral</td>\n      <td>i ve learned this lesson again open the packag...</td>\n      <td>88</td>\n      <td>1.0</td>\n    </tr>\n    <tr>\n      <th>2</th>\n      <td>neutral</td>\n      <td>it is so slow and lags find better option</td>\n      <td>9</td>\n      <td>2.0</td>\n    </tr>\n    <tr>\n      <th>3</th>\n      <td>neutral</td>\n      <td>roller ball stopped working within months of m...</td>\n      <td>12</td>\n      <td>1.0</td>\n    </tr>\n    <tr>\n      <th>4</th>\n      <td>neutral</td>\n      <td>i like the color and size but it few days out ...</td>\n      <td>21</td>\n      <td>1.0</td>\n    </tr>\n  </tbody>\n</table>\n</div>"
     },
     "execution_count": 70,
     "metadata": {},
     "output_type": "execute_result"
    }
   ],
   "source": [
    "amazon_reviews_df.head()"
   ]
  },
  {
   "cell_type": "code",
   "execution_count": 71,
   "id": "77dfc846",
   "metadata": {},
   "outputs": [
    {
     "data": {
      "text/plain": "sentiments               0\ncleaned_review           3\ncleaned_review_length    0\nreview_score             0\ndtype: int64"
     },
     "execution_count": 71,
     "metadata": {},
     "output_type": "execute_result"
    }
   ],
   "source": [
    "amazon_reviews_df.isna().sum()"
   ]
  },
  {
   "cell_type": "code",
   "execution_count": 72,
   "id": "e177d2f9",
   "metadata": {},
   "outputs": [
    {
     "data": {
      "text/plain": "<AxesSubplot: >"
     },
     "execution_count": 72,
     "metadata": {},
     "output_type": "execute_result"
    },
    {
     "data": {
      "text/plain": "<Figure size 640x480 with 1 Axes>",
      "image/png": "[encoded data removed]"
     },
     "metadata": {},
     "output_type": "display_data"
    }
   ],
   "source": [
    "amazon_reviews_df.sentiments.value_counts().plot(kind='bar')"
   ]
  },
  {
   "cell_type": "markdown",
   "id": "57bc1448",
   "metadata": {},
   "source": [
    "Unbalanced target"
   ]
  },
  {
   "cell_type": "code",
   "execution_count": 73,
   "id": "86251ec3",
   "metadata": {},
   "outputs": [
    {
     "data": {
      "text/plain": "<AxesSubplot: >"
     },
     "execution_count": 73,
     "metadata": {},
     "output_type": "execute_result"
    },
    {
     "data": {
      "text/plain": "<Figure size 640x480 with 1 Axes>",
      "image/png": "[encoded data removed]"
     },
     "metadata": {},
     "output_type": "display_data"
    }
   ],
   "source": [
    "ag_news_train_df['Class Index'].value_counts().plot(kind='bar')"
   ]
  },
  {
   "cell_type": "markdown",
   "id": "7b13d0fc",
   "metadata": {},
   "source": [
    "Balanced target"
   ]
  },
  {
   "cell_type": "markdown",
   "id": "e6f90678",
   "metadata": {},
   "source": [
    "#### Distribution of review lengths"
   ]
  },
  {
   "cell_type": "code",
   "execution_count": 74,
   "id": "e22614e6",
   "metadata": {},
   "outputs": [
    {
     "data": {
      "text/plain": "(array([1.4993e+04, 1.8380e+03, 3.4300e+02, 8.3000e+01, 5.0000e+01,\n        1.2000e+01, 9.0000e+00, 5.0000e+00, 4.0000e+00, 3.0000e+00]),\n array([  0. ,  57.1, 114.2, 171.3, 228.4, 285.5, 342.6, 399.7, 456.8,\n        513.9, 571. ]),\n <BarContainer object of 10 artists>)"
     },
     "execution_count": 74,
     "metadata": {},
     "output_type": "execute_result"
    },
    {
     "data": {
      "text/plain": "<Figure size 640x480 with 1 Axes>",
      "image/png": "[encoded data removed]"
     },
     "metadata": {},
     "output_type": "display_data"
    }
   ],
   "source": [
    "plt.hist(amazon_reviews_df.cleaned_review_length)"
   ]
  },
  {
   "cell_type": "markdown",
   "id": "726b78f2",
   "metadata": {},
   "source": [
    "#### Distribution of the news article lengths"
   ]
  },
  {
   "cell_type": "code",
   "execution_count": 75,
   "id": "eb80ba3d",
   "metadata": {},
   "outputs": [
    {
     "data": {
      "text/plain": "(array([4.8100e+03, 6.7638e+04, 4.1664e+04, 4.2770e+03, 1.0700e+03,\n        2.9800e+02, 9.3000e+01, 9.0000e+01, 2.9000e+01, 3.1000e+01]),\n array([  6. , 103.9, 201.8, 299.7, 397.6, 495.5, 593.4, 691.3, 789.2,\n        887.1, 985. ]),\n <BarContainer object of 10 artists>)"
     },
     "execution_count": 75,
     "metadata": {},
     "output_type": "execute_result"
    },
    {
     "data": {
      "text/plain": "<Figure size 640x480 with 1 Axes>",
      "image/png": "[encoded data removed]"
     },
     "metadata": {},
     "output_type": "display_data"
    }
   ],
   "source": [
    "plt.hist(ag_news_train_df.Description.str.len())"
   ]
  },
  {
   "cell_type": "code",
   "execution_count": 76,
   "id": "015c2fcf",
   "metadata": {},
   "outputs": [
    {
     "data": {
      "text/plain": "Class Index    False\nTitle          False\nDescription    False\ndtype: bool"
     },
     "execution_count": 76,
     "metadata": {},
     "output_type": "execute_result"
    }
   ],
   "source": [
    "ag_news_train_df.isna().any()"
   ]
  },
  {
   "cell_type": "markdown",
   "id": "9d065041",
   "metadata": {},
   "source": [
    "#### Removing NaNs"
   ]
  },
  {
   "cell_type": "code",
   "execution_count": 77,
   "id": "fb1f3a48",
   "metadata": {},
   "outputs": [],
   "source": [
    "amazon_reviews_df.dropna(inplace=True)"
   ]
  },
  {
   "cell_type": "markdown",
   "id": "a04ea6fb",
   "metadata": {},
   "source": [
    "### Splitting amazon reviews into train and test set"
   ]
  },
  {
   "cell_type": "code",
   "execution_count": 78,
   "id": "eb222e2f",
   "metadata": {},
   "outputs": [],
   "source": [
    "X_amazon_reviews = amazon_reviews_df.drop(columns=['sentiments'])\n",
    "y_amazon_reviews = amazon_reviews_df['sentiments']"
   ]
  },
  {
   "cell_type": "code",
   "execution_count": 79,
   "id": "91eaf2c7",
   "metadata": {},
   "outputs": [],
   "source": [
    "X_train_reviews, X_test_reviews, y_train_reviews, y_test_reviews = train_test_split(X_amazon_reviews,\n",
    "                                                                                   y_amazon_reviews,\n",
    "                                                                                   random_state=42,\n",
    "                                                                                   test_size=0.2)"
   ]
  },
  {
   "cell_type": "code",
   "execution_count": 80,
   "id": "836713a6",
   "metadata": {},
   "outputs": [],
   "source": [
    "X_train_reviews, X_valid_reviews, y_train_reviews, y_valid_reviews = train_test_split(X_train_reviews,\n",
    "                                                                                     y_train_reviews,\n",
    "                                                                                     random_state=42,\n",
    "                                                                                     test_size = 0.25)"
   ]
  },
  {
   "cell_type": "markdown",
   "id": "84accaf9",
   "metadata": {},
   "source": [
    "### Splitting ag news into X and y's"
   ]
  },
  {
   "cell_type": "markdown",
   "id": "ab9a5c6c",
   "metadata": {},
   "source": [
    "Merging Title and Description into one field, \"Text\""
   ]
  },
  {
   "cell_type": "code",
   "execution_count": 81,
   "id": "b3132726",
   "metadata": {},
   "outputs": [],
   "source": [
    "ag_news_train_df['Text'] = ag_news_train_df[['Title', 'Description']].agg(' '.join,axis=1)\n",
    "ag_news_test_df['Text'] = ag_news_test_df[['Title', 'Description']].agg(' '.join,axis=1)"
   ]
  },
  {
   "cell_type": "code",
   "execution_count": 82,
   "id": "0fd1251b",
   "metadata": {},
   "outputs": [
    {
     "data": {
      "text/plain": "0         Wall St. Bears Claw Back Into the Black (Reute...\n1         Carlyle Looks Toward Commercial Aerospace (Reu...\n2         Oil and Economy Cloud Stocks' Outlook (Reuters...\n3         Iraq Halts Oil Exports from Main Southern Pipe...\n4         Oil prices soar to all-time record, posing new...\n                                ...                        \n119995    Pakistan's Musharraf Says Won't Quit as Army C...\n119996    Renteria signing a top-shelf deal Red Sox gene...\n119997    Saban not going to Dolphins yet The Miami Dolp...\n119998    Today's NFL games PITTSBURGH at NY GIANTS Time...\n119999    Nets get Carter from Raptors INDIANAPOLIS -- A...\nName: Text, Length: 120000, dtype: object"
     },
     "execution_count": 82,
     "metadata": {},
     "output_type": "execute_result"
    }
   ],
   "source": [
    "ag_news_train_df['Text']"
   ]
  },
  {
   "cell_type": "code",
   "execution_count": 83,
   "id": "d49caf67",
   "metadata": {},
   "outputs": [],
   "source": [
    "X_train_news = ag_news_train_df['Text']\n",
    "y_train_news = ag_news_train_df['Class Index']\n",
    "\n",
    "X_test_news = ag_news_test_df['Text']\n",
    "y_test_news = ag_news_test_df['Class Index']"
   ]
  },
  {
   "cell_type": "code",
   "execution_count": 84,
   "id": "0f2cfafb",
   "metadata": {},
   "outputs": [],
   "source": [
    "X_train_news, X_valid_news, y_train_news, y_valid_news = train_test_split(X_train_news,\n",
    "                                                                          y_train_news,\n",
    "                                                                          random_state=42,\n",
    "                                                                          test_size = 0.25)"
   ]
  },
  {
   "cell_type": "markdown",
   "id": "57849c89",
   "metadata": {},
   "source": [
    "## Naive feature extraction"
   ]
  },
  {
   "cell_type": "markdown",
   "id": "6764ba92",
   "metadata": {},
   "source": [
    "### Uni-Bigram vectorizer"
   ]
  },
  {
   "cell_type": "markdown",
   "id": "7671d792",
   "metadata": {},
   "source": [
    "Because documents are quite short on average, we used the uni-bigram vectorizer (contains both unigrams and bigrams)"
   ]
  },
  {
   "cell_type": "markdown",
   "id": "991cf474",
   "metadata": {},
   "source": [
    "Following pieces of code were taken from Sklearn's text feature extraction tutorial. (https://scikit-learn.org/stable/modules/feature_extraction.html)"
   ]
  },
  {
   "cell_type": "code",
   "execution_count": 85,
   "id": "3d052cb2",
   "metadata": {},
   "outputs": [],
   "source": [
    "from sklearn.feature_extraction.text import CountVectorizer"
   ]
  },
  {
   "cell_type": "code",
   "execution_count": 86,
   "id": "2029a0f0",
   "metadata": {},
   "outputs": [],
   "source": [
    "bigram_vectorizer = CountVectorizer(ngram_range=(1,2), token_pattern=r'\\b\\w+\\b', min_df=1)"
   ]
  },
  {
   "cell_type": "code",
   "execution_count": 87,
   "id": "98ef933e",
   "metadata": {},
   "outputs": [],
   "source": [
    "start = time.time()\n",
    "X_train_reviews_tr = bigram_vectorizer.fit_transform(X_train_reviews.cleaned_review)\n",
    "X_valid_reviews_tr = bigram_vectorizer.transform(X_valid_reviews.cleaned_review)\n",
    "X_test_reviews_tr = bigram_vectorizer.transform(X_test_reviews.cleaned_review)\n",
    "end = time.time()\n",
    "feature_extraction_time_reviews = end-start"
   ]
  },
  {
   "cell_type": "code",
   "execution_count": 88,
   "id": "667f0969",
   "metadata": {},
   "outputs": [
    {
     "data": {
      "text/plain": "array(['a', 'a bit', 'a bunch', ..., 'zoom while', 'zooms', 'zooms down'],\n      dtype=object)"
     },
     "execution_count": 88,
     "metadata": {},
     "output_type": "execute_result"
    }
   ],
   "source": [
    "bigram_vectorizer.get_feature_names_out()"
   ]
  },
  {
   "cell_type": "code",
   "execution_count": 89,
   "id": "e01ec08b",
   "metadata": {},
   "outputs": [],
   "source": [
    "start = time.time()\n",
    "X_train_news_tr = bigram_vectorizer.fit_transform(X_train_news)\n",
    "X_valid_news_tr = bigram_vectorizer.transform(X_valid_news)\n",
    "X_test_news_tr = bigram_vectorizer.transform(X_test_news)\n",
    "end=time.time()\n",
    "feature_extraction_time_news = end-start"
   ]
  },
  {
   "cell_type": "markdown",
   "source": [
    "## Training shallow models"
   ],
   "metadata": {
    "collapsed": false
   }
  },
  {
   "cell_type": "markdown",
   "source": [
    "Balanced accuracy score is used to macro average across classes.\n",
    "\n",
    "For hyperparam tuning only a half of training data will be used for performance reasons."
   ],
   "metadata": {
    "collapsed": false
   }
  },
  {
   "cell_type": "code",
   "execution_count": 90,
   "outputs": [],
   "source": [
    "np.random.seed(42)\n",
    "reviews_train_idx = np.random.choice(y_train_reviews.shape[0], \n",
    "                                     replace=False, size=y_train_reviews.shape[0]//2)\n",
    "news_train_idx = np.random.choice(y_train_news.shape[0], \n",
    "                                     replace=False, size=y_train_news.shape[0]//8)"
   ],
   "metadata": {
    "collapsed": false
   }
  },
  {
   "cell_type": "code",
   "execution_count": 91,
   "outputs": [],
   "source": [
    "X_train_reviews_half = X_train_reviews_tr[reviews_train_idx,:]\n",
    "y_train_reviews_half = y_train_reviews.iloc[reviews_train_idx]\n",
    "\n",
    "X_train_news_16th = X_train_news_tr[news_train_idx,:]\n",
    "y_train_news_16th = y_train_news.iloc[news_train_idx]\n",
    "\n",
    "X_train_news_8th = X_train_news_tr[news_train_idx,:]\n",
    "y_train_news_8th = y_train_news.iloc[news_train_idx]"
   ],
   "metadata": {
    "collapsed": false
   }
  },
  {
   "cell_type": "markdown",
   "source": [
    "#### Checking if models are saved"
   ],
   "metadata": {
    "collapsed": false
   }
  },
  {
   "cell_type": "code",
   "execution_count": 92,
   "outputs": [],
   "source": [
    "best_model_nn_reviews_is_saved = os.path.exists('models/best_model_nn_reviews.sav')\n",
    "best_model_nn_news_is_saved = os.path.exists('models/best_model_nn_news.sav')\n",
    "best_model_svm_reviews_is_saved = os.path.exists('models/best_model_svm_reviews.sav')\n",
    "best_model_svm_news_is_saved = os.path.exists('models/best_model_svm_news.sav')\n",
    "\n",
    "train_time_nn_reviews = 1262.204321861267\n",
    "train_time_nn_news = 15825.467003107071\n",
    "train_time_svm_reviews = 78.65971994400024\n",
    "train_time_svm_news = 7950.114312410355"
   ],
   "metadata": {
    "collapsed": false
   }
  },
  {
   "cell_type": "markdown",
   "source": [
    "### Shallow NN (One layer perceptron)"
   ],
   "metadata": {
    "collapsed": false
   }
  },
  {
   "cell_type": "markdown",
   "source": [
    "#### Reviews dataset"
   ],
   "metadata": {
    "collapsed": false
   }
  },
  {
   "cell_type": "code",
   "execution_count": 93,
   "outputs": [],
   "source": [
    "available_activations = ['relu', 'logistic', 'tanh']\n",
    "available_solvers = ['adam', 'lbfgs']\n",
    "def objective(trial: optuna.trial.Trial):\n",
    "    size_of_hidden_layer = trial.suggest_int('size_of_hidden_layer', 10, 100)\n",
    "    alpha = trial.suggest_float('alpha', 0.0001, 0.001)\n",
    "    activation = trial.suggest_categorical('activation', \n",
    "                                           choices=available_activations)\n",
    "    solver = trial.suggest_categorical('solver', \n",
    "                                           choices=available_solvers)\n",
    "    \n",
    "    print(f\"Trying: {size_of_hidden_layer}, {alpha}, {activation}, {solver}\")\n",
    "    model = MLPClassifier(hidden_layer_sizes=tuple([size_of_hidden_layer]),\n",
    "                          alpha=alpha,\n",
    "                          activation = activation,\n",
    "                          max_iter=20,\n",
    "                          solver=solver,\n",
    "                          verbose=True,\n",
    "                          learning_rate='adaptive',\n",
    "                          random_state=42)\n",
    "    model.fit(X_train_reviews_half, y_train_reviews_half)\n",
    "    y_pred_probas = model.predict_proba(X_valid_reviews_tr)\n",
    "    return log_loss(y_valid_reviews, y_pred_probas)\n",
    "\n",
    "\n",
    "if not best_model_nn_reviews_is_saved:\n",
    "    study_nn_reviews = optuna.create_study(direction='minimize')\n",
    "    # optuna.logging.set_verbosity(optuna.logging.DEBUG)\n",
    "    study_nn_reviews.optimize(objective, n_trials=10,show_progress_bar=True,n_jobs=-1)\n",
    "\n",
    "    study_nn_reviews.best_params"
   ],
   "metadata": {
    "collapsed": false
   }
  },
  {
   "cell_type": "markdown",
   "source": [
    "{'size_of_hidden_layer': 85,\n",
    " 'alpha': 0.00045434026867030927,\n",
    " 'activation': 'logistic',\n",
    " 'solver': 'adam'}"
   ],
   "metadata": {
    "collapsed": false
   }
  },
  {
   "cell_type": "code",
   "execution_count": 94,
   "outputs": [],
   "source": [
    "if not best_model_nn_reviews_is_saved:\n",
    "    best_model_nn_reviews = MLPClassifier(hidden_layer_sizes=(85,), \n",
    "                              alpha=0.00045434026867030927,\n",
    "                              solver='adam',\n",
    "                              activation='logistic',\n",
    "                                random_state=42,\n",
    "                               learning_rate='adaptive',\n",
    "                               verbose=True,\n",
    "                              max_iter=50,\n",
    "                          )\n",
    "    start=time.time()\n",
    "    best_model_nn_reviews.fit(X_train_reviews_tr, y_train_reviews)\n",
    "    end=time.time()\n",
    "\n",
    "    print(\"It took \", end-start, \"seconds\")\n",
    "    train_time_nn_reviews = end-start"
   ],
   "metadata": {
    "collapsed": false
   }
  },
  {
   "cell_type": "code",
   "execution_count": 95,
   "outputs": [
    {
     "name": "stderr",
     "output_type": "stream",
     "text": [
      "D:\\virtual_envs\\lib\\site-packages\\sklearn\\base.py:299: UserWarning: Trying to unpickle estimator LabelBinarizer from version 0.24.1 when using version 1.2.1. This might lead to breaking code or invalid results. Use at your own risk. For more info please refer to:\n",
      "https://scikit-learn.org/stable/model_persistence.html#security-maintainability-limitations\n",
      "  warnings.warn(\n",
      "D:\\virtual_envs\\lib\\site-packages\\sklearn\\base.py:299: UserWarning: Trying to unpickle estimator MLPClassifier from version 0.24.1 when using version 1.2.1. This might lead to breaking code or invalid results. Use at your own risk. For more info please refer to:\n",
      "https://scikit-learn.org/stable/model_persistence.html#security-maintainability-limitations\n",
      "  warnings.warn(\n"
     ]
    }
   ],
   "source": [
    "if not best_model_nn_reviews_is_saved:\n",
    "    pickle.dump(best_model_nn_reviews, open('models/best_model_nn_reviews.sav', 'wb'))\n",
    "    best_model_nn_reviews_is_saved = True\n",
    "else:\n",
    "    best_model_nn_reviews=pickle.load(open('models/best_model_nn_reviews.sav', 'rb'))"
   ],
   "metadata": {
    "collapsed": false
   }
  },
  {
   "cell_type": "code",
   "execution_count": 157,
   "outputs": [],
   "source": [
    "start = time.time()\n",
    "y_preds_nn_reviews = best_model_nn_reviews.predict(X_test_reviews_tr)\n",
    "end = time.time()\n",
    "test_time_nn_reviews = end-start\n",
    "balanced_acc_shallow_nn_reviews = balanced_accuracy_score(y_test_reviews, y_preds_nn_reviews)"
   ],
   "metadata": {
    "collapsed": false
   }
  },
  {
   "cell_type": "code",
   "execution_count": 158,
   "outputs": [
    {
     "data": {
      "text/plain": "0.7861248313512093"
     },
     "execution_count": 158,
     "metadata": {},
     "output_type": "execute_result"
    }
   ],
   "source": [
    "balanced_acc_shallow_nn_reviews"
   ],
   "metadata": {
    "collapsed": false
   }
  },
  {
   "cell_type": "markdown",
   "source": [
    "Reviews:\n",
    "Baseline of shallow NNs (balanced accuracy = average of recalls for each class): __0.758__"
   ],
   "metadata": {
    "collapsed": false
   }
  },
  {
   "cell_type": "markdown",
   "source": [
    "#### News dataset"
   ],
   "metadata": {
    "collapsed": false
   }
  },
  {
   "cell_type": "code",
   "execution_count": 98,
   "outputs": [],
   "source": [
    "available_activations = ['relu', 'logistic', 'tanh']\n",
    "available_solvers = ['adam', 'lbfgs']\n",
    "def objective(trial: optuna.trial.Trial):\n",
    "    size_of_hidden_layer = trial.suggest_int('size_of_hidden_layer', 10, 100)\n",
    "    alpha = trial.suggest_float('alpha', 0.0001, 0.001)\n",
    "    activation = trial.suggest_categorical('activation', \n",
    "                                           choices=available_activations)\n",
    "    solver = trial.suggest_categorical('solver', \n",
    "                                           choices=available_solvers)\n",
    "    \n",
    "    print(f\"Trying: {size_of_hidden_layer}, {alpha}, {activation}, {solver}\")\n",
    "    model = MLPClassifier(hidden_layer_sizes=tuple([size_of_hidden_layer]),\n",
    "                          alpha=alpha,\n",
    "                          activation = activation,\n",
    "                          max_iter=20,\n",
    "                          solver=solver,\n",
    "                          verbose=True,\n",
    "                          learning_rate='adaptive',\n",
    "                          random_state=42)\n",
    "    model.fit(X_train_news_16th, y_train_news_16th)\n",
    "    y_pred_probas = model.predict_proba(X_valid_news_tr)\n",
    "    return log_loss(y_valid_news, y_pred_probas)\n",
    "\n",
    "if not best_model_nn_news_is_saved:\n",
    "    study_nn_news = optuna.create_study(direction='minimize')\n",
    "    # optuna.logging.set_verbosity(optuna.logging.DEBUG)\n",
    "    study_nn_news.optimize(objective, n_trials=10,show_progress_bar=True,n_jobs=2)\n",
    "\n",
    "    study_nn_news.best_params"
   ],
   "metadata": {
    "collapsed": false
   }
  },
  {
   "cell_type": "markdown",
   "source": [
    "best value: 0.3686714944409208 (log loss)\n",
    " \n",
    "best params:\n",
    "{'size_of_hidden_layer': 34,\n",
    " 'alpha': 0.0004980605929484772,\n",
    " 'activation': 'tanh',\n",
    " 'solver': 'adam'}\n",
    " \n",
    "last:\n",
    "{'size_of_hidden_layer': 28, 'alpha': 0.0009033187102132166, 'activation': 'tanh', 'solver': 'adam'}"
   ],
   "metadata": {
    "collapsed": false
   }
  },
  {
   "cell_type": "code",
   "execution_count": 99,
   "outputs": [],
   "source": [
    "if not best_model_nn_news_is_saved:\n",
    "    start=time.time()\n",
    "    best_model_nn_news = MLPClassifier(hidden_layer_sizes=(34,),\n",
    "                              alpha=0.0004980605929484772,\n",
    "                              solver='adam',\n",
    "                              activation='tanh',\n",
    "                                random_state=42,\n",
    "                               learning_rate='adaptive',\n",
    "                               verbose=True,\n",
    "                              max_iter=20,\n",
    "                          )\n",
    "    best_model_nn_news.fit(X_train_news_tr, y_train_news)\n",
    "    end=time.time()\n",
    "\n",
    "    print(\"It took \", end-start, \"seconds\")\n",
    "    train_time_nn_news = end-start"
   ],
   "metadata": {
    "collapsed": false
   }
  },
  {
   "cell_type": "code",
   "execution_count": 100,
   "outputs": [],
   "source": [
    "if not best_model_nn_news_is_saved:\n",
    "    pickle.dump(best_model_nn_news, open('models/best_model_nn_news.sav', 'wb'))\n",
    "    best_model_nn_news_is_saved = True\n",
    "else:\n",
    "    best_model_nn_news=pickle.load(open('models/best_model_nn_news.sav', 'rb'))"
   ],
   "metadata": {
    "collapsed": false
   }
  },
  {
   "cell_type": "code",
   "execution_count": 159,
   "outputs": [],
   "source": [
    "start = time.time()\n",
    "y_preds_nn_news = best_model_nn_news.predict(X_test_news_tr)\n",
    "end = time.time()\n",
    "test_time_nn_news = end-start\n",
    "balanced_acc_shallow_nn_news = balanced_accuracy_score(y_test_news, y_preds_nn_news)"
   ],
   "metadata": {
    "collapsed": false
   }
  },
  {
   "cell_type": "code",
   "execution_count": 160,
   "outputs": [
    {
     "data": {
      "text/plain": "0.9096052631578948"
     },
     "execution_count": 160,
     "metadata": {},
     "output_type": "execute_result"
    }
   ],
   "source": [
    "balanced_acc_shallow_nn_news"
   ],
   "metadata": {
    "collapsed": false
   }
  },
  {
   "cell_type": "markdown",
   "source": [
    "News Baseline of shallow NNs (balanced accuracy = average of recalls for each class): __0.90__"
   ],
   "metadata": {
    "collapsed": false
   }
  },
  {
   "cell_type": "markdown",
   "source": [
    "### SVM"
   ],
   "metadata": {
    "collapsed": false
   }
  },
  {
   "cell_type": "markdown",
   "source": [
    "#### Reviews dataset"
   ],
   "metadata": {
    "collapsed": false
   }
  },
  {
   "cell_type": "code",
   "execution_count": 105,
   "outputs": [],
   "source": [
    "model_reviews = SVC(probability=True, random_state=42)\n",
    "param_grid_reviews = {'C': [0.1, 1, 10], \n",
    "              'gamma': [1, 0.1, 0.01, 0.001, 0.0001],\n",
    "              'kernel':['poly', 'sigmoid', 'linear', 'rbf']} \n",
    "\n",
    "if not best_model_svm_reviews_is_saved:\n",
    "    randomized_search_reviews = RandomizedSearchCV(model_reviews, param_grid_reviews, refit = True, verbose = 3, random_state=42)\n",
    "    randomized_search_reviews.fit(X_train_reviews_half, y_train_reviews_half)"
   ],
   "metadata": {
    "collapsed": false
   }
  },
  {
   "cell_type": "code",
   "execution_count": 106,
   "outputs": [],
   "source": [
    "# randomized_search_reviews.best_params_"
   ],
   "metadata": {
    "collapsed": false
   }
  },
  {
   "cell_type": "markdown",
   "source": [
    "Best params were Linear kernel, gamma=0.001 and C=10."
   ],
   "metadata": {
    "collapsed": false
   }
  },
  {
   "cell_type": "code",
   "execution_count": 107,
   "outputs": [],
   "source": [
    "# randomized_search_reviews.best_score_"
   ],
   "metadata": {
    "collapsed": false
   }
  },
  {
   "cell_type": "code",
   "execution_count": 108,
   "outputs": [],
   "source": [
    "if not best_model_svm_reviews_is_saved:\n",
    "    start=time.time()\n",
    "    best_model_svm_reviews =  SVC(probability=True, random_state=42, kernel='linear', gamma=0.001, C=10)\n",
    "    best_model_svm_reviews.fit(X_train_reviews_tr, y_train_reviews)\n",
    "    end=time.time()\n",
    "\n",
    "    print(\"It took \", end-start, \"seconds\")\n",
    "    train_time_svm_reviews = end-start"
   ],
   "metadata": {
    "collapsed": false
   }
  },
  {
   "cell_type": "code",
   "execution_count": 109,
   "outputs": [],
   "source": [
    "if not best_model_svm_reviews_is_saved:\n",
    "    pickle.dump(best_model_svm_reviews, open('models/best_model_svm_reviews.sav', 'wb'))\n",
    "    best_model_svm_reviews_is_saved = True\n",
    "else:\n",
    "    best_model_svm_reviews=pickle.load(open('models/best_model_svm_reviews.sav', 'rb'))"
   ],
   "metadata": {
    "collapsed": false
   }
  },
  {
   "cell_type": "code",
   "execution_count": 163,
   "outputs": [],
   "source": [
    "start = time.time()\n",
    "y_preds_svm_reviews = best_model_svm_reviews.predict(X_test_reviews_tr)\n",
    "end = time.time()\n",
    "test_time_svm_reviews = end-start\n",
    "balanced_acc_svm_reviews = balanced_accuracy_score(y_test_reviews, y_preds_svm_reviews)"
   ],
   "metadata": {
    "collapsed": false
   }
  },
  {
   "cell_type": "code",
   "execution_count": 164,
   "outputs": [
    {
     "data": {
      "text/plain": "0.802734774339105"
     },
     "execution_count": 164,
     "metadata": {},
     "output_type": "execute_result"
    }
   ],
   "source": [
    "balanced_acc_svm_reviews"
   ],
   "metadata": {
    "collapsed": false
   }
  },
  {
   "cell_type": "markdown",
   "source": [
    "Balanced accuracy for reviews dataset with SVM: __0.78__"
   ],
   "metadata": {
    "collapsed": false
   }
  },
  {
   "cell_type": "markdown",
   "source": [
    "#### News dataset"
   ],
   "metadata": {
    "collapsed": false
   }
  },
  {
   "cell_type": "code",
   "execution_count": 112,
   "outputs": [],
   "source": [
    "model = SVC(probability=True, random_state=42)\n",
    "param_grid = {'C': [0.1, 1, 10], \n",
    "              'gamma': [1, 0.1, 0.01, 0.001, 0.0001],\n",
    "              'kernel':['poly', 'sigmoid', 'linear', 'rbf']} \n",
    "\n",
    "if not best_model_svm_news_is_saved:\n",
    "    randomized = RandomizedSearchCV(model, param_grid, refit = True, verbose = 3, random_state=42)\n",
    "    randomized.fit(X_train_news_16th, y_train_news_16th)"
   ],
   "metadata": {
    "collapsed": false
   }
  },
  {
   "cell_type": "code",
   "execution_count": 113,
   "outputs": [],
   "source": [
    "# randomized.best_params_"
   ],
   "metadata": {
    "collapsed": false
   }
  },
  {
   "cell_type": "markdown",
   "source": [
    "Best params were linear kernel, gamma = 0.001, C=10"
   ],
   "metadata": {
    "collapsed": false
   }
  },
  {
   "cell_type": "code",
   "execution_count": 114,
   "outputs": [],
   "source": [
    "# randomized.best_score_"
   ],
   "metadata": {
    "collapsed": false
   }
  },
  {
   "cell_type": "code",
   "execution_count": 115,
   "outputs": [],
   "source": [
    "\n",
    "if not best_model_svm_news_is_saved:\n",
    "    start=time.time()\n",
    "    best_model_svm_news = SVC(kernel='linear', gamma=0.001, C=10, verbose=True, random_state=42)\n",
    "    best_model_svm_news.fit(X_train_news_tr, y_train_news)\n",
    "    end=time.time()\n",
    "\n",
    "    print(\"It took \", end-start, \"seconds\")\n",
    "    train_time_svm_news = end-start"
   ],
   "metadata": {
    "collapsed": false
   }
  },
  {
   "cell_type": "code",
   "execution_count": 118,
   "outputs": [],
   "source": [
    "if not best_model_svm_news_is_saved:\n",
    "    pickle.dump(best_model_svm_news, open('models/best_model_svm_news.sav', 'wb'))\n",
    "    print('dumped')\n",
    "    best_model_nn_news_is_saved = True\n",
    "else:\n",
    "   best_model_svm_news=pickle.load(open('models/best_model_svm_news.sav', 'rb'))"
   ],
   "metadata": {
    "collapsed": false
   }
  },
  {
   "cell_type": "code",
   "execution_count": 165,
   "outputs": [],
   "source": [
    "start = time.time()\n",
    "y_preds_svm_news = best_model_svm_news.predict(X_test_news_tr)\n",
    "end = time.time()\n",
    "test_time_svm_news = end-start\n",
    "\n",
    "balanced_acc_svm_news = balanced_accuracy_score(y_test_news, y_preds_svm_news)"
   ],
   "metadata": {
    "collapsed": false
   }
  },
  {
   "cell_type": "code",
   "execution_count": 120,
   "outputs": [
    {
     "data": {
      "text/plain": "0.9119000794033292"
     },
     "execution_count": 120,
     "metadata": {},
     "output_type": "execute_result"
    }
   ],
   "source": [
    "balanced_acc_svm_news"
   ],
   "metadata": {
    "collapsed": false
   }
  },
  {
   "cell_type": "markdown",
   "source": [
    "Balanced accuracy for news dataset with SVM: __0.912__"
   ],
   "metadata": {
    "collapsed": false
   }
  },
  {
   "cell_type": "markdown",
   "source": [
    "### Creating result dataframes"
   ],
   "metadata": {
    "collapsed": false
   }
  },
  {
   "cell_type": "code",
   "execution_count": 156,
   "outputs": [
    {
     "data": {
      "text/plain": "(4577,)"
     },
     "execution_count": 156,
     "metadata": {},
     "output_type": "execute_result"
    }
   ],
   "source": [
    "y_valid_reviews.shape"
   ],
   "metadata": {
    "collapsed": false
   }
  },
  {
   "cell_type": "code",
   "execution_count": 180,
   "outputs": [],
   "source": [
    "conf_mat_nn_reviews = pd.crosstab(y_test_reviews, y_preds_nn_reviews, rownames=['Actual'], colnames=['Predicted'])"
   ],
   "metadata": {
    "collapsed": false
   }
  },
  {
   "cell_type": "code",
   "execution_count": 198,
   "outputs": [],
   "source": [
    "nn_reviews_results = classification_report(y_test_reviews, y_preds_nn_reviews,output_dict=True)\n",
    "nn_news_results = classification_report(y_test_news, y_preds_nn_news,output_dict=True)\n",
    "svm_reviews_results = classification_report(y_test_reviews, y_preds_svm_reviews,output_dict=True)\n",
    "svm_news_results = classification_report(y_test_news, y_preds_svm_news,output_dict=True)"
   ],
   "metadata": {
    "collapsed": false
   }
  },
  {
   "cell_type": "code",
   "execution_count": 233,
   "outputs": [
    {
     "ename": "NameError",
     "evalue": "name 'test_time_svm_news' is not defined",
     "output_type": "error",
     "traceback": [
      "\u001B[1;31m---------------------------------------------------------------------------\u001B[0m",
      "\u001B[1;31mNameError\u001B[0m                                 Traceback (most recent call last)",
      "Cell \u001B[1;32mIn[233], line 9\u001B[0m\n\u001B[0;32m      7\u001B[0m nn_news_results[\u001B[38;5;124m'\u001B[39m\u001B[38;5;124mtest_time\u001B[39m\u001B[38;5;124m'\u001B[39m] \u001B[38;5;241m=\u001B[39m test_time_nn_news\n\u001B[0;32m      8\u001B[0m svm_reviews_results[\u001B[38;5;124m'\u001B[39m\u001B[38;5;124mtest_time\u001B[39m\u001B[38;5;124m'\u001B[39m] \u001B[38;5;241m=\u001B[39m test_time_svm_reviews\n\u001B[1;32m----> 9\u001B[0m svm_news_results[\u001B[38;5;124m'\u001B[39m\u001B[38;5;124mtest_time\u001B[39m\u001B[38;5;124m'\u001B[39m] \u001B[38;5;241m=\u001B[39m \u001B[43mtest_time_svm_news\u001B[49m\n\u001B[0;32m     11\u001B[0m nn_reviews_results[\u001B[38;5;124m'\u001B[39m\u001B[38;5;124mfeature_extraction_time\u001B[39m\u001B[38;5;124m'\u001B[39m] \u001B[38;5;241m=\u001B[39m feature_extraction_time_reviews\n\u001B[0;32m     12\u001B[0m nn_news_results[\u001B[38;5;124m'\u001B[39m\u001B[38;5;124mfeature_extraction_time\u001B[39m\u001B[38;5;124m'\u001B[39m] \u001B[38;5;241m=\u001B[39m feature_extraction_time_news\n",
      "\u001B[1;31mNameError\u001B[0m: name 'test_time_svm_news' is not defined"
     ]
    }
   ],
   "source": [
    "nn_reviews_results['train_time'] = train_time_nn_reviews\n",
    "nn_news_results['train_time'] = train_time_nn_news\n",
    "svm_reviews_results['train_time'] = train_time_svm_reviews\n",
    "svm_news_results['train_time'] = train_time_svm_news\n",
    "\n",
    "nn_reviews_results['test_time'] = test_time_nn_reviews\n",
    "nn_news_results['test_time'] = test_time_nn_news\n",
    "svm_reviews_results['test_time'] = test_time_svm_reviews\n",
    "svm_news_results['test_time'] = test_time_svm_news\n",
    "\n",
    "nn_reviews_results['feature_extraction_time'] = feature_extraction_time_reviews\n",
    "nn_news_results['feature_extraction_time'] = feature_extraction_time_news"
   ],
   "metadata": {
    "collapsed": false
   }
  },
  {
   "cell_type": "code",
   "execution_count": 230,
   "outputs": [],
   "source": [
    "nn_reviews_results_df = pd.DataFrame.from_dict(nn_reviews_results)\n",
    "nn_news_results_df = pd.DataFrame.from_dict(nn_news_results)\n",
    "svm_reviews_results_df = pd.DataFrame.from_dict(svm_reviews_results)\n",
    "svm_news_results_df = pd.DataFrame.from_dict(svm_news_results)"
   ],
   "metadata": {
    "collapsed": false
   }
  },
  {
   "cell_type": "code",
   "execution_count": 232,
   "outputs": [],
   "source": [
    "nn_reviews_results_df.to_csv('results/baselines/nn_reviews_baseline.csv')\n",
    "nn_news_results_df.to_csv('results/baselines/nn_news_baseline.csv')\n",
    "svm_reviews_results_df.to_csv('results/baselines/svm_reviews_baseline.csv')\n",
    "svm_news_results_df.to_csv('results/baselines/svm_news_baseline.csv')\n"
   ],
   "metadata": {
    "collapsed": false
   }
  },
  {
   "cell_type": "markdown",
   "source": [
    "## Data augmentation"
   ],
   "metadata": {
    "collapsed": false
   }
  },
  {
   "cell_type": "markdown",
   "source": [
    "Amazon reviews dataset is augmented."
   ],
   "metadata": {
    "collapsed": false
   }
  },
  {
   "cell_type": "code",
   "execution_count": 122,
   "outputs": [],
   "source": [
    "import nltk\n",
    "import random\n",
    "from nltk.corpus import wordnet"
   ],
   "metadata": {
    "collapsed": false
   }
  },
  {
   "cell_type": "code",
   "execution_count": null,
   "outputs": [],
   "source": [
    "# Download the necessary NLTK resources\n",
    "nltk.download('averaged_perceptron_tagger')\n",
    "nltk.download('wordnet')"
   ],
   "metadata": {
    "collapsed": false,
    "pycharm": {
     "is_executing": true
    }
   }
  },
  {
   "cell_type": "code",
   "execution_count": 218,
   "outputs": [],
   "source": [
    "# Define a function to replace a percentage of nouns with their synonyms\n",
    "def replace_noun_synonyms(text, p=0.2):\n",
    "    words = nltk.word_tokenize(text)\n",
    "    tagged_words = nltk.pos_tag(words) # Words tagged with NN are nouns\n",
    "    new_words = []\n",
    "    for word, tag in tagged_words:\n",
    "        if tag == 'NN' or tag.startswith('VB') and random.random() < p:\n",
    "            synonyms = wordnet.synsets(word)\n",
    "            synonyms = [x for x in synonyms if x.lemmas()[0].name() != word] # synonyms only different from the original word\n",
    "            if synonyms:\n",
    "                new_word = synonyms[0].lemmas()[0].name()\n",
    "                new_words.append(new_word)\n",
    "            else:\n",
    "                new_words.append(word)\n",
    "        else:\n",
    "            new_words.append(word)\n",
    "    return ' '.join(new_words)"
   ],
   "metadata": {
    "collapsed": false
   }
  },
  {
   "cell_type": "code",
   "execution_count": 224,
   "outputs": [],
   "source": [
    "# Select 80% of the reviews and apply the noun synonym replacement\n",
    "train_aug_df = X_train_reviews.copy()\n",
    "#augmented_indices = train_aug_df.sample(frac=1, random_state=42).index\n",
    "random.seed(42)\n",
    "train_aug_df.loc[:, 'cleaned_review'] = train_aug_df.loc[:, 'cleaned_review'].apply(replace_noun_synonyms)"
   ],
   "metadata": {
    "collapsed": false
   }
  },
  {
   "cell_type": "code",
   "execution_count": 226,
   "outputs": [
    {
     "name": "stdout",
     "output_type": "stream",
     "text": [
      "it really lives up to the silent snap devising it comfortable in manner the buffet also seems to last quite few days if you turn it off when it not in function it also hour_angle various luminosity patterns when you chink the push_button in the center the silent snap is what really gets me\n",
      "it really lives up to the silent clicking making it comfortable in way the batter also seems to last quite few days if you turn it off when it not in use it also has various light patterns when you click the button in the middle the silent clicking is what really gets me \n"
     ]
    }
   ],
   "source": [
    "# Print the first few rows of the augmented training data\n",
    "i = 2\n",
    "\n",
    "print(train_aug_df['cleaned_review'].iloc[i])\n",
    "print(X_train_reviews['cleaned_review'].iloc[i])"
   ],
   "metadata": {
    "collapsed": false
   }
  },
  {
   "cell_type": "code",
   "execution_count": 182,
   "outputs": [
    {
     "data": {
      "text/plain": "                                          cleaned_review  \\\n8439   i purchased this for my desk at work it fantas...   \n16094  one of the best speakers in the market right now    \n1439   it really lives up to the silent clicking maki...   \n10510  headset is comfortable sound quality is good c...   \n12310                                          great buy   \n...                                                  ...   \n10086                                there great headset   \n7496   i love the fact that there are no batteries ju...   \n12107  great sound quality at great cost bang for you...   \n13718  i bought this for my year old he goes through ...   \n15336                 this speaker is worth every penny    \n\n       cleaned_review_length  review_score  \n8439                      34           5.0  \n16094                     10           5.0  \n1439                      54           1.0  \n10510                     27           2.0  \n12310                      2           5.0  \n...                      ...           ...  \n10086                      3           5.0  \n7496                      13           1.0  \n12107                     13           5.0  \n13718                     30           4.0  \n15336                      6           5.0  \n\n[9292 rows x 3 columns]",
      "text/html": "<div>\n<style scoped>\n    .dataframe tbody tr th:only-of-type {\n        vertical-align: middle;\n    }\n\n    .dataframe tbody tr th {\n        vertical-align: top;\n    }\n\n    .dataframe thead th {\n        text-align: right;\n    }\n</style>\n<table border=\"1\" class=\"dataframe\">\n  <thead>\n    <tr style=\"text-align: right;\">\n      <th></th>\n      <th>cleaned_review</th>\n      <th>cleaned_review_length</th>\n      <th>review_score</th>\n    </tr>\n  </thead>\n  <tbody>\n    <tr>\n      <th>8439</th>\n      <td>i purchased this for my desk at work it fantas...</td>\n      <td>34</td>\n      <td>5.0</td>\n    </tr>\n    <tr>\n      <th>16094</th>\n      <td>one of the best speakers in the market right now</td>\n      <td>10</td>\n      <td>5.0</td>\n    </tr>\n    <tr>\n      <th>1439</th>\n      <td>it really lives up to the silent clicking maki...</td>\n      <td>54</td>\n      <td>1.0</td>\n    </tr>\n    <tr>\n      <th>10510</th>\n      <td>headset is comfortable sound quality is good c...</td>\n      <td>27</td>\n      <td>2.0</td>\n    </tr>\n    <tr>\n      <th>12310</th>\n      <td>great buy</td>\n      <td>2</td>\n      <td>5.0</td>\n    </tr>\n    <tr>\n      <th>...</th>\n      <td>...</td>\n      <td>...</td>\n      <td>...</td>\n    </tr>\n    <tr>\n      <th>10086</th>\n      <td>there great headset</td>\n      <td>3</td>\n      <td>5.0</td>\n    </tr>\n    <tr>\n      <th>7496</th>\n      <td>i love the fact that there are no batteries ju...</td>\n      <td>13</td>\n      <td>1.0</td>\n    </tr>\n    <tr>\n      <th>12107</th>\n      <td>great sound quality at great cost bang for you...</td>\n      <td>13</td>\n      <td>5.0</td>\n    </tr>\n    <tr>\n      <th>13718</th>\n      <td>i bought this for my year old he goes through ...</td>\n      <td>30</td>\n      <td>4.0</td>\n    </tr>\n    <tr>\n      <th>15336</th>\n      <td>this speaker is worth every penny</td>\n      <td>6</td>\n      <td>5.0</td>\n    </tr>\n  </tbody>\n</table>\n<p>9292 rows × 3 columns</p>\n</div>"
     },
     "execution_count": 182,
     "metadata": {},
     "output_type": "execute_result"
    }
   ],
   "source": [
    "train_aug_df"
   ],
   "metadata": {
    "collapsed": false
   }
  },
  {
   "cell_type": "code",
   "execution_count": 228,
   "outputs": [],
   "source": [
    "X_train_reviews_augmented= pd.concat([X_train_reviews, train_aug_df])\n",
    "X_train_reviews_augmented.to_csv('data/augmented_reviews_train.csv')"
   ],
   "metadata": {
    "collapsed": false
   }
  },
  {
   "cell_type": "markdown",
   "source": [],
   "metadata": {
    "collapsed": false
   }
  }
 ],
 "metadata": {
  "kernelspec": {
   "display_name": "Python 3 (ipykernel)",
   "language": "python",
   "name": "python3"
  },
  "language_info": {
   "codemirror_mode": {
    "name": "ipython",
    "version": 3
   },
   "file_extension": ".py",
   "mimetype": "text/x-python",
   "name": "python",
   "nbconvert_exporter": "python",
   "pygments_lexer": "ipython3",
   "version": "3.11.0"
  }
 },
 "nbformat": 4,
 "nbformat_minor": 5
}
