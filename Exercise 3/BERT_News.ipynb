{
 "cells": [
  {
   "cell_type": "markdown",
   "id": "028c00a7",
   "metadata": {
    "id": "f7ddaadb"
   },
   "source": [
    "# Transfer learning with BERT as a base model"
   ]
  },
  {
   "cell_type": "code",
   "execution_count": 31,
   "id": "a3349f0f",
   "metadata": {
    "colab": {
     "base_uri": "https://localhost:8080/"
    },
    "id": "34778118",
    "outputId": "9ebc4850-9b42-4ae5-b97b-2efeb6417f70"
   },
   "outputs": [
    {
     "name": "stdout",
     "output_type": "stream",
     "text": [
      "Looking in indexes: https://pypi.org/simple, https://us-python.pkg.dev/colab-wheels/public/simple/\n",
      "\n",
      "Requirement already satisfied: transformers in /usr/local/lib/python3.8/dist-packages (4.26.1)\n",
      "\n",
      "Requirement already satisfied: pyyaml>=5.1 in /usr/local/lib/python3.8/dist-packages (from transformers) (6.0)\n",
      "\n",
      "Requirement already satisfied: huggingface-hub<1.0,>=0.11.0 in /usr/local/lib/python3.8/dist-packages (from transformers) (0.12.1)\n",
      "\n",
      "Requirement already satisfied: tqdm>=4.27 in /usr/local/lib/python3.8/dist-packages (from transformers) (4.64.1)\n",
      "\n",
      "Requirement already satisfied: packaging>=20.0 in /usr/local/lib/python3.8/dist-packages (from transformers) (23.0)\n",
      "\n",
      "Requirement already satisfied: tokenizers!=0.11.3,<0.14,>=0.11.1 in /usr/local/lib/python3.8/dist-packages (from transformers) (0.13.2)\n",
      "\n",
      "Requirement already satisfied: filelock in /usr/local/lib/python3.8/dist-packages (from transformers) (3.9.0)\n",
      "\n",
      "Requirement already satisfied: requests in /usr/local/lib/python3.8/dist-packages (from transformers) (2.25.1)\n",
      "\n",
      "Requirement already satisfied: regex!=2019.12.17 in /usr/local/lib/python3.8/dist-packages (from transformers) (2022.6.2)\n",
      "\n",
      "Requirement already satisfied: numpy>=1.17 in /usr/local/lib/python3.8/dist-packages (from transformers) (1.21.6)\n",
      "\n",
      "Requirement already satisfied: typing-extensions>=3.7.4.3 in /usr/local/lib/python3.8/dist-packages (from huggingface-hub<1.0,>=0.11.0->transformers) (4.5.0)\n",
      "\n",
      "Requirement already satisfied: idna<3,>=2.5 in /usr/local/lib/python3.8/dist-packages (from requests->transformers) (2.10)\n",
      "\n",
      "Requirement already satisfied: urllib3<1.27,>=1.21.1 in /usr/local/lib/python3.8/dist-packages (from requests->transformers) (1.24.3)\n",
      "\n",
      "Requirement already satisfied: chardet<5,>=3.0.2 in /usr/local/lib/python3.8/dist-packages (from requests->transformers) (4.0.0)\n",
      "\n",
      "Requirement already satisfied: certifi>=2017.4.17 in /usr/local/lib/python3.8/dist-packages (from requests->transformers) (2022.12.7)\n"
     ]
    }
   ],
   "source": [
    "# !pip install transformers"
   ]
  },
  {
   "cell_type": "code",
   "execution_count": 1,
   "id": "7ed1f08f",
   "metadata": {
    "execution": {
     "iopub.execute_input": "2023-02-21T17:28:13.710377Z",
     "iopub.status.busy": "2023-02-21T17:28:13.709832Z",
     "iopub.status.idle": "2023-02-21T17:28:20.935721Z",
     "shell.execute_reply": "2023-02-21T17:28:20.934738Z",
     "shell.execute_reply.started": "2023-02-21T17:28:13.710263Z"
    },
    "id": "9b450d38"
   },
   "outputs": [],
   "source": [
    "# load required libraries\n",
    "import pandas as pd\n",
    "import numpy as np\n",
    "import tensorflow as tf\n",
    "import matplotlib.pyplot as plt\n",
    "\n",
    "from sklearn.model_selection import train_test_split\n",
    "from tensorflow.keras.utils import to_categorical\n",
    "\n",
    "from transformers import AutoTokenizer\n",
    "from transformers import TFAutoModelForSequenceClassification # for sentimental analysis"
   ]
  },
  {
   "cell_type": "markdown",
   "id": "d1df5baa",
   "metadata": {},
   "source": [
    "## Load AG News Dataset"
   ]
  },
  {
   "cell_type": "code",
   "execution_count": 2,
   "id": "3f803f59",
   "metadata": {
    "execution": {
     "iopub.execute_input": "2023-02-21T17:28:23.709027Z",
     "iopub.status.busy": "2023-02-21T17:28:23.708365Z",
     "iopub.status.idle": "2023-02-21T17:28:24.816921Z",
     "shell.execute_reply": "2023-02-21T17:28:24.815994Z",
     "shell.execute_reply.started": "2023-02-21T17:28:23.708987Z"
    },
    "id": "ec5652fd"
   },
   "outputs": [],
   "source": [
    "ag_news_train_df = pd.read_csv('data/ag_news_train.csv')\n",
    "ag_news_test_df = pd.read_csv('data/ag_news_test.csv')"
   ]
  },
  {
   "cell_type": "code",
   "execution_count": 3,
   "id": "0e6c5324",
   "metadata": {
    "colab": {
     "base_uri": "https://localhost:8080/"
    },
    "execution": {
     "iopub.execute_input": "2023-02-21T17:28:25.909429Z",
     "iopub.status.busy": "2023-02-21T17:28:25.908776Z",
     "iopub.status.idle": "2023-02-21T17:28:25.922884Z",
     "shell.execute_reply": "2023-02-21T17:28:25.921971Z",
     "shell.execute_reply.started": "2023-02-21T17:28:25.909394Z"
    },
    "id": "16295252",
    "outputId": "fa13e6f0-e5f0-4af9-c6a1-d6308b7f42cd"
   },
   "outputs": [
    {
     "data": {
      "text/plain": [
       "(120000, 3)"
      ]
     },
     "execution_count": 3,
     "metadata": {},
     "output_type": "execute_result"
    }
   ],
   "source": [
    "ag_news_train_df.shape"
   ]
  },
  {
   "cell_type": "code",
   "execution_count": 4,
   "id": "777b82dc",
   "metadata": {
    "colab": {
     "base_uri": "https://localhost:8080/"
    },
    "execution": {
     "iopub.execute_input": "2023-02-21T17:28:27.867480Z",
     "iopub.status.busy": "2023-02-21T17:28:27.866862Z",
     "iopub.status.idle": "2023-02-21T17:28:27.874261Z",
     "shell.execute_reply": "2023-02-21T17:28:27.873167Z",
     "shell.execute_reply.started": "2023-02-21T17:28:27.867445Z"
    },
    "id": "627d905e",
    "outputId": "0d7fa15d-8f44-4298-f510-2ce54faab2ef"
   },
   "outputs": [
    {
     "data": {
      "text/plain": [
       "(7600, 3)"
      ]
     },
     "execution_count": 4,
     "metadata": {},
     "output_type": "execute_result"
    }
   ],
   "source": [
    "ag_news_test_df.shape"
   ]
  },
  {
   "cell_type": "code",
   "execution_count": 5,
   "id": "625fc153",
   "metadata": {
    "colab": {
     "base_uri": "https://localhost:8080/",
     "height": 206
    },
    "execution": {
     "iopub.execute_input": "2023-02-21T17:28:29.127039Z",
     "iopub.status.busy": "2023-02-21T17:28:29.125885Z",
     "iopub.status.idle": "2023-02-21T17:28:29.145297Z",
     "shell.execute_reply": "2023-02-21T17:28:29.144153Z",
     "shell.execute_reply.started": "2023-02-21T17:28:29.126991Z"
    },
    "id": "003ab200",
    "outputId": "b4bdf661-94d5-4192-a547-48c025f6f1df"
   },
   "outputs": [
    {
     "data": {
      "text/html": [
       "<div>\n",
       "<style scoped>\n",
       "    .dataframe tbody tr th:only-of-type {\n",
       "        vertical-align: middle;\n",
       "    }\n",
       "\n",
       "    .dataframe tbody tr th {\n",
       "        vertical-align: top;\n",
       "    }\n",
       "\n",
       "    .dataframe thead th {\n",
       "        text-align: right;\n",
       "    }\n",
       "</style>\n",
       "<table border=\"1\" class=\"dataframe\">\n",
       "  <thead>\n",
       "    <tr style=\"text-align: right;\">\n",
       "      <th></th>\n",
       "      <th>Class Index</th>\n",
       "      <th>Title</th>\n",
       "      <th>Description</th>\n",
       "    </tr>\n",
       "  </thead>\n",
       "  <tbody>\n",
       "    <tr>\n",
       "      <th>0</th>\n",
       "      <td>3</td>\n",
       "      <td>Wall St. Bears Claw Back Into the Black (Reuters)</td>\n",
       "      <td>Reuters - Short-sellers, Wall Street's dwindli...</td>\n",
       "    </tr>\n",
       "    <tr>\n",
       "      <th>1</th>\n",
       "      <td>3</td>\n",
       "      <td>Carlyle Looks Toward Commercial Aerospace (Reu...</td>\n",
       "      <td>Reuters - Private investment firm Carlyle Grou...</td>\n",
       "    </tr>\n",
       "    <tr>\n",
       "      <th>2</th>\n",
       "      <td>3</td>\n",
       "      <td>Oil and Economy Cloud Stocks' Outlook (Reuters)</td>\n",
       "      <td>Reuters - Soaring crude prices plus worries\\ab...</td>\n",
       "    </tr>\n",
       "    <tr>\n",
       "      <th>3</th>\n",
       "      <td>3</td>\n",
       "      <td>Iraq Halts Oil Exports from Main Southern Pipe...</td>\n",
       "      <td>Reuters - Authorities have halted oil export\\f...</td>\n",
       "    </tr>\n",
       "    <tr>\n",
       "      <th>4</th>\n",
       "      <td>3</td>\n",
       "      <td>Oil prices soar to all-time record, posing new...</td>\n",
       "      <td>AFP - Tearaway world oil prices, toppling reco...</td>\n",
       "    </tr>\n",
       "  </tbody>\n",
       "</table>\n",
       "</div>"
      ],
      "text/plain": [
       "   Class Index                                              Title  \\\n",
       "0            3  Wall St. Bears Claw Back Into the Black (Reuters)   \n",
       "1            3  Carlyle Looks Toward Commercial Aerospace (Reu...   \n",
       "2            3    Oil and Economy Cloud Stocks' Outlook (Reuters)   \n",
       "3            3  Iraq Halts Oil Exports from Main Southern Pipe...   \n",
       "4            3  Oil prices soar to all-time record, posing new...   \n",
       "\n",
       "                                         Description  \n",
       "0  Reuters - Short-sellers, Wall Street's dwindli...  \n",
       "1  Reuters - Private investment firm Carlyle Grou...  \n",
       "2  Reuters - Soaring crude prices plus worries\\ab...  \n",
       "3  Reuters - Authorities have halted oil export\\f...  \n",
       "4  AFP - Tearaway world oil prices, toppling reco...  "
      ]
     },
     "execution_count": 5,
     "metadata": {},
     "output_type": "execute_result"
    }
   ],
   "source": [
    "ag_news_train_df.head()"
   ]
  },
  {
   "cell_type": "code",
   "execution_count": 6,
   "id": "98b6227d",
   "metadata": {
    "colab": {
     "base_uri": "https://localhost:8080/",
     "height": 279
    },
    "execution": {
     "iopub.execute_input": "2023-02-21T17:28:30.926462Z",
     "iopub.status.busy": "2023-02-21T17:28:30.925781Z",
     "iopub.status.idle": "2023-02-21T17:28:31.159733Z",
     "shell.execute_reply": "2023-02-21T17:28:31.158663Z",
     "shell.execute_reply.started": "2023-02-21T17:28:30.926424Z"
    },
    "id": "ac3647ca",
    "outputId": "c74b542f-9461-456c-f0aa-92923521e655"
   },
   "outputs": [
    {
     "data": {
      "text/plain": [
       "<AxesSubplot:>"
      ]
     },
     "execution_count": 6,
     "metadata": {},
     "output_type": "execute_result"
    },
    {
     "data": {
      "image/png": "[encoded data removed]",
      "text/plain": [
       "<Figure size 640x480 with 1 Axes>"
      ]
     },
     "metadata": {},
     "output_type": "display_data"
    }
   ],
   "source": [
    "# equal distribution of classes\n",
    "ag_news_train_df['Class Index'].value_counts().plot(kind='bar')"
   ]
  },
  {
   "cell_type": "code",
   "execution_count": 7,
   "id": "4ac10896",
   "metadata": {
    "colab": {
     "base_uri": "https://localhost:8080/",
     "height": 353
    },
    "execution": {
     "iopub.execute_input": "2023-02-21T17:28:32.748390Z",
     "iopub.status.busy": "2023-02-21T17:28:32.748014Z",
     "iopub.status.idle": "2023-02-21T17:28:33.022787Z",
     "shell.execute_reply": "2023-02-21T17:28:33.021885Z",
     "shell.execute_reply.started": "2023-02-21T17:28:32.748357Z"
    },
    "id": "ea0eaf80",
    "outputId": "e8257aec-825b-463f-ea2b-91d3f6bc242d"
   },
   "outputs": [
    {
     "data": {
      "text/plain": [
       "(array([4.8100e+03, 6.7638e+04, 4.1664e+04, 4.2770e+03, 1.0700e+03,\n",
       "        2.9800e+02, 9.3000e+01, 9.0000e+01, 2.9000e+01, 3.1000e+01]),\n",
       " array([  6. , 103.9, 201.8, 299.7, 397.6, 495.5, 593.4, 691.3, 789.2,\n",
       "        887.1, 985. ]),\n",
       " <BarContainer object of 10 artists>)"
      ]
     },
     "execution_count": 7,
     "metadata": {},
     "output_type": "execute_result"
    },
    {
     "data": {
      "image/png": "[encoded data removed]",
      "text/plain": [
       "<Figure size 640x480 with 1 Axes>"
      ]
     },
     "metadata": {},
     "output_type": "display_data"
    }
   ],
   "source": [
    "plt.hist(ag_news_train_df.Description.str.len())"
   ]
  },
  {
   "cell_type": "markdown",
   "id": "653ca8b3",
   "metadata": {},
   "source": [
    "## Data Preprocessing"
   ]
  },
  {
   "cell_type": "code",
   "execution_count": 8,
   "id": "4f7dc2d2",
   "metadata": {
    "colab": {
     "base_uri": "https://localhost:8080/"
    },
    "execution": {
     "iopub.execute_input": "2023-02-21T17:28:34.996756Z",
     "iopub.status.busy": "2023-02-21T17:28:34.995807Z",
     "iopub.status.idle": "2023-02-21T17:28:35.020386Z",
     "shell.execute_reply": "2023-02-21T17:28:35.018932Z",
     "shell.execute_reply.started": "2023-02-21T17:28:34.996711Z"
    },
    "id": "feafdebf",
    "outputId": "25799546-19ed-4169-c296-1bad2f4be741"
   },
   "outputs": [
    {
     "data": {
      "text/plain": [
       "Class Index    False\n",
       "Title          False\n",
       "Description    False\n",
       "dtype: bool"
      ]
     },
     "execution_count": 8,
     "metadata": {},
     "output_type": "execute_result"
    }
   ],
   "source": [
    "# no instances with missing values\n",
    "ag_news_train_df.isna().any()"
   ]
  },
  {
   "cell_type": "code",
   "execution_count": 9,
   "id": "4b36922d",
   "metadata": {
    "execution": {
     "iopub.execute_input": "2023-02-21T17:28:36.978525Z",
     "iopub.status.busy": "2023-02-21T17:28:36.978147Z",
     "iopub.status.idle": "2023-02-21T17:28:41.197988Z",
     "shell.execute_reply": "2023-02-21T17:28:41.196993Z",
     "shell.execute_reply.started": "2023-02-21T17:28:36.978495Z"
    },
    "id": "3e66455e"
   },
   "outputs": [],
   "source": [
    "# merge two columns into one\n",
    "ag_news_train_df['Text'] = ag_news_train_df[['Title', 'Description']].agg(' '.join,axis=1)\n",
    "ag_news_test_df['Text'] = ag_news_test_df[['Title', 'Description']].agg(' '.join,axis=1)"
   ]
  },
  {
   "cell_type": "code",
   "execution_count": 10,
   "id": "867fff16",
   "metadata": {
    "colab": {
     "base_uri": "https://localhost:8080/"
    },
    "execution": {
     "iopub.execute_input": "2023-02-21T17:28:44.118713Z",
     "iopub.status.busy": "2023-02-21T17:28:44.117621Z",
     "iopub.status.idle": "2023-02-21T17:28:44.127699Z",
     "shell.execute_reply": "2023-02-21T17:28:44.126605Z",
     "shell.execute_reply.started": "2023-02-21T17:28:44.118670Z"
    },
    "id": "1408f137",
    "outputId": "080c4be5-1dc5-4e13-81e7-74379179732d"
   },
   "outputs": [
    {
     "data": {
      "text/plain": [
       "0         Wall St. Bears Claw Back Into the Black (Reute...\n",
       "1         Carlyle Looks Toward Commercial Aerospace (Reu...\n",
       "2         Oil and Economy Cloud Stocks' Outlook (Reuters...\n",
       "3         Iraq Halts Oil Exports from Main Southern Pipe...\n",
       "4         Oil prices soar to all-time record, posing new...\n",
       "                                ...                        \n",
       "119995    Pakistan's Musharraf Says Won't Quit as Army C...\n",
       "119996    Renteria signing a top-shelf deal Red Sox gene...\n",
       "119997    Saban not going to Dolphins yet The Miami Dolp...\n",
       "119998    Today's NFL games PITTSBURGH at NY GIANTS Time...\n",
       "119999    Nets get Carter from Raptors INDIANAPOLIS -- A...\n",
       "Name: Text, Length: 120000, dtype: object"
      ]
     },
     "execution_count": 10,
     "metadata": {},
     "output_type": "execute_result"
    }
   ],
   "source": [
    "ag_news_train_df['Text']"
   ]
  },
  {
   "cell_type": "code",
   "execution_count": 11,
   "id": "208d042b",
   "metadata": {
    "execution": {
     "iopub.execute_input": "2023-02-21T17:28:46.269667Z",
     "iopub.status.busy": "2023-02-21T17:28:46.269019Z",
     "iopub.status.idle": "2023-02-21T17:28:46.278567Z",
     "shell.execute_reply": "2023-02-21T17:28:46.277619Z",
     "shell.execute_reply.started": "2023-02-21T17:28:46.269634Z"
    },
    "id": "26e9d826"
   },
   "outputs": [],
   "source": [
    "X_train_news = ag_news_train_df['Text']\n",
    "y_train_news = ag_news_train_df['Class Index']\n",
    "\n",
    "X_test_news = ag_news_test_df['Text']\n",
    "y_test_news = ag_news_test_df['Class Index']\n",
    "\n",
    "# one hot encode target class\n",
    "y_train_news = to_categorical(y_train_news)\n",
    "y_test_news = to_categorical(y_test_news)"
   ]
  },
  {
   "cell_type": "code",
   "execution_count": 12,
   "id": "592ea34f",
   "metadata": {
    "execution": {
     "iopub.execute_input": "2023-02-21T17:28:55.698386Z",
     "iopub.status.busy": "2023-02-21T17:28:55.698025Z",
     "iopub.status.idle": "2023-02-21T17:28:55.727603Z",
     "shell.execute_reply": "2023-02-21T17:28:55.726722Z",
     "shell.execute_reply.started": "2023-02-21T17:28:55.698354Z"
    },
    "id": "15536ef5"
   },
   "outputs": [],
   "source": [
    "# split train-test 80-20 subsets\n",
    "X_train_news, X_valid_news, y_train_news, y_valid_news = train_test_split(X_train_news,\n",
    "                                                                          y_train_news,\n",
    "                                                                          random_state=42,\n",
    "                                                                          test_size=0.2)"
   ]
  },
  {
   "cell_type": "code",
   "execution_count": 13,
   "id": "6606ca98",
   "metadata": {
    "execution": {
     "iopub.execute_input": "2023-02-21T17:28:59.616086Z",
     "iopub.status.busy": "2023-02-21T17:28:59.615701Z",
     "iopub.status.idle": "2023-02-21T17:28:59.625145Z",
     "shell.execute_reply": "2023-02-21T17:28:59.623849Z",
     "shell.execute_reply.started": "2023-02-21T17:28:59.616053Z"
    },
    "id": "1Y7Nd4LZZx29"
   },
   "outputs": [],
   "source": [
    "# for training is used only 1/8 of the training subset due to its size\n",
    "np.random.seed(42)\n",
    "news_train_idx = np.random.choice(y_train_news.shape[0], \n",
    "                                     replace=False, size=y_train_news.shape[0]//8)"
   ]
  },
  {
   "cell_type": "code",
   "execution_count": 14,
   "id": "1afce8e8",
   "metadata": {
    "execution": {
     "iopub.execute_input": "2023-02-21T17:29:01.301772Z",
     "iopub.status.busy": "2023-02-21T17:29:01.301399Z",
     "iopub.status.idle": "2023-02-21T17:29:01.311001Z",
     "shell.execute_reply": "2023-02-21T17:29:01.309988Z",
     "shell.execute_reply.started": "2023-02-21T17:29:01.301737Z"
    },
    "id": "RB2g5PPXZy1x"
   },
   "outputs": [],
   "source": [
    "X_train_news_8th = X_train_news.take(news_train_idx)\n",
    "y_train_news_8th = y_train_news[news_train_idx]"
   ]
  },
  {
   "cell_type": "code",
   "execution_count": 15,
   "id": "b606287d",
   "metadata": {
    "execution": {
     "iopub.execute_input": "2023-02-21T17:29:04.382127Z",
     "iopub.status.busy": "2023-02-21T17:29:04.381750Z",
     "iopub.status.idle": "2023-02-21T17:29:09.418285Z",
     "shell.execute_reply": "2023-02-21T17:29:09.417281Z",
     "shell.execute_reply.started": "2023-02-21T17:29:04.382094Z"
    },
    "id": "f197519b"
   },
   "outputs": [
    {
     "data": {
      "application/vnd.jupyter.widget-view+json": {
       "model_id": "4e6a6a006113470ca07345f802cfa2de",
       "version_major": 2,
       "version_minor": 0
      },
      "text/plain": [
       "Downloading:   0%|          | 0.00/28.0 [00:00<?, ?B/s]"
      ]
     },
     "metadata": {},
     "output_type": "display_data"
    },
    {
     "data": {
      "application/vnd.jupyter.widget-view+json": {
       "model_id": "63525047b2f54e7f866ce7ab262569a3",
       "version_major": 2,
       "version_minor": 0
      },
      "text/plain": [
       "Downloading:   0%|          | 0.00/570 [00:00<?, ?B/s]"
      ]
     },
     "metadata": {},
     "output_type": "display_data"
    },
    {
     "data": {
      "application/vnd.jupyter.widget-view+json": {
       "model_id": "897e92a3b40447dea66a2ebc2d0a7cec",
       "version_major": 2,
       "version_minor": 0
      },
      "text/plain": [
       "Downloading:   0%|          | 0.00/226k [00:00<?, ?B/s]"
      ]
     },
     "metadata": {},
     "output_type": "display_data"
    },
    {
     "data": {
      "application/vnd.jupyter.widget-view+json": {
       "model_id": "90d02f5d3d30480597a6959805d8a8f2",
       "version_major": 2,
       "version_minor": 0
      },
      "text/plain": [
       "Downloading:   0%|          | 0.00/455k [00:00<?, ?B/s]"
      ]
     },
     "metadata": {},
     "output_type": "display_data"
    }
   ],
   "source": [
    "# load model tokenizer\n",
    "model_name = \"bert-base-uncased\"\n",
    "\n",
    "tokenizer = AutoTokenizer.from_pretrained(model_name)"
   ]
  },
  {
   "cell_type": "code",
   "execution_count": 16,
   "id": "9cea5183",
   "metadata": {
    "execution": {
     "iopub.execute_input": "2023-02-21T17:29:12.687437Z",
     "iopub.status.busy": "2023-02-21T17:29:12.686779Z",
     "iopub.status.idle": "2023-02-21T17:29:24.263026Z",
     "shell.execute_reply": "2023-02-21T17:29:24.261998Z",
     "shell.execute_reply.started": "2023-02-21T17:29:12.687401Z"
    },
    "id": "0b5cf242"
   },
   "outputs": [],
   "source": [
    "# apply tokenizer or our dataset\n",
    "train_encodings = tokenizer(list(X_train_news_8th),\n",
    "                            truncation=True,\n",
    "                            padding=\"max_length\",\n",
    "                            return_tensors=\"np\",\n",
    "                            return_token_type_ids=False)\n",
    "valid_encodings = tokenizer(list(X_valid_news),\n",
    "                            truncation=True,\n",
    "                            padding=\"max_length\",\n",
    "                            return_tensors=\"np\",\n",
    "                            return_token_type_ids=False)\n",
    "test_encodings = tokenizer(list(X_test_news),\n",
    "                           truncation=True,\n",
    "                           padding=\"max_length\",\n",
    "                           return_tensors=\"np\",\n",
    "                           return_token_type_ids=False)"
   ]
  },
  {
   "cell_type": "code",
   "execution_count": 17,
   "id": "58a5ef83",
   "metadata": {
    "execution": {
     "iopub.execute_input": "2023-02-21T17:29:26.505428Z",
     "iopub.status.busy": "2023-02-21T17:29:26.505068Z",
     "iopub.status.idle": "2023-02-21T17:29:29.479916Z",
     "shell.execute_reply": "2023-02-21T17:29:29.478799Z",
     "shell.execute_reply.started": "2023-02-21T17:29:26.505396Z"
    },
    "id": "4e20a37c"
   },
   "outputs": [],
   "source": [
    "# prepare tensor dataset that can be used for model training\n",
    "train_dataset = tf.data.Dataset.from_tensor_slices((\n",
    "    dict(train_encodings),\n",
    "    y_train_news_8th\n",
    "))\n",
    "\n",
    "valid_dataset = tf.data.Dataset.from_tensor_slices((\n",
    "    dict(valid_encodings),\n",
    "    y_valid_news\n",
    "))\n",
    "\n",
    "test_dataset = tf.data.Dataset.from_tensor_slices((\n",
    "    dict(test_encodings),\n",
    "    y_test_news\n",
    "))"
   ]
  },
  {
   "cell_type": "code",
   "execution_count": 18,
   "id": "e1e66c71",
   "metadata": {
    "execution": {
     "iopub.execute_input": "2023-02-21T17:30:26.021430Z",
     "iopub.status.busy": "2023-02-21T17:30:26.021064Z",
     "iopub.status.idle": "2023-02-21T17:30:26.038487Z",
     "shell.execute_reply": "2023-02-21T17:30:26.037410Z",
     "shell.execute_reply.started": "2023-02-21T17:30:26.021398Z"
    },
    "id": "a13f46de"
   },
   "outputs": [],
   "source": [
    "batch_size = 8\n",
    "\n",
    "train_dataset = train_dataset.shuffle(2000).batch(batch_size, drop_remainder=True)\n",
    "valid_dataset = valid_dataset.shuffle(2000).batch(batch_size, drop_remainder=True)\n",
    "test_dataset = test_dataset.shuffle(2000).batch(batch_size, drop_remainder=True)"
   ]
  },
  {
   "cell_type": "code",
   "execution_count": 19,
   "id": "aa4ce0f0",
   "metadata": {
    "execution": {
     "iopub.execute_input": "2023-02-21T17:30:27.816635Z",
     "iopub.status.busy": "2023-02-21T17:30:27.815424Z",
     "iopub.status.idle": "2023-02-21T17:30:27.822898Z",
     "shell.execute_reply": "2023-02-21T17:30:27.822000Z",
     "shell.execute_reply.started": "2023-02-21T17:30:27.816587Z"
    },
    "id": "ef8fbdb1"
   },
   "outputs": [],
   "source": [
    "seq_num = train_dataset.take(1).element_spec[0]['input_ids'].shape[1]"
   ]
  },
  {
   "cell_type": "markdown",
   "id": "2bf4b1aa",
   "metadata": {},
   "source": [
    "## Model Development"
   ]
  },
  {
   "cell_type": "code",
   "execution_count": 20,
   "id": "a03a9adb",
   "metadata": {
    "colab": {
     "base_uri": "https://localhost:8080/"
    },
    "execution": {
     "iopub.execute_input": "2023-02-21T17:30:28.782741Z",
     "iopub.status.busy": "2023-02-21T17:30:28.782378Z",
     "iopub.status.idle": "2023-02-21T17:30:59.987497Z",
     "shell.execute_reply": "2023-02-21T17:30:59.986459Z",
     "shell.execute_reply.started": "2023-02-21T17:30:28.782708Z"
    },
    "id": "c0725da0",
    "outputId": "f48cf5e3-fdcf-4aeb-9eae-2e0730043466"
   },
   "outputs": [
    {
     "data": {
      "application/vnd.jupyter.widget-view+json": {
       "model_id": "33df6cc414dc40f190334398fffd36eb",
       "version_major": 2,
       "version_minor": 0
      },
      "text/plain": [
       "Downloading:   0%|          | 0.00/511M [00:00<?, ?B/s]"
      ]
     },
     "metadata": {},
     "output_type": "display_data"
    },
    {
     "name": "stderr",
     "output_type": "stream",
     "text": [
      "All model checkpoint layers were used when initializing TFBertForSequenceClassification.\n",
      "\n",
      "Some layers of TFBertForSequenceClassification were not initialized from the model checkpoint at bert-base-uncased and are newly initialized: ['classifier']\n",
      "You should probably TRAIN this model on a down-stream task to be able to use it for predictions and inference.\n"
     ]
    }
   ],
   "source": [
    "# load pretrained model\n",
    "model = TFAutoModelForSequenceClassification.from_pretrained(model_name)"
   ]
  },
  {
   "cell_type": "code",
   "execution_count": 21,
   "id": "0e735a22",
   "metadata": {
    "execution": {
     "iopub.execute_input": "2023-02-21T17:31:01.977351Z",
     "iopub.status.busy": "2023-02-21T17:31:01.976991Z",
     "iopub.status.idle": "2023-02-21T17:31:07.764600Z",
     "shell.execute_reply": "2023-02-21T17:31:07.763527Z",
     "shell.execute_reply.started": "2023-02-21T17:31:01.977321Z"
    },
    "id": "e1b525e8"
   },
   "outputs": [],
   "source": [
    "# embedd input and output layers for model\n",
    "input_ids = tf.keras.layers.Input(shape=(seq_num,), name='input_ids', dtype='int32')\n",
    "attention_mask = tf.keras.layers.Input(shape=(seq_num,), name='attention_mask', dtype='int32')\n",
    "\n",
    "embeddings = model.bert(input_ids, attention_mask)[1]\n",
    "\n",
    "x = tf.keras.layers.Dense(seq_num * 2, activation='relu')(embeddings)\n",
    "y = tf.keras.layers.Dense(len(y_train_news_8th[0]), activation='softmax', name='outputs')(x)"
   ]
  },
  {
   "cell_type": "code",
   "execution_count": 22,
   "id": "f93e69f8",
   "metadata": {
    "colab": {
     "base_uri": "https://localhost:8080/"
    },
    "execution": {
     "iopub.execute_input": "2023-02-21T17:31:07.768260Z",
     "iopub.status.busy": "2023-02-21T17:31:07.767588Z",
     "iopub.status.idle": "2023-02-21T17:31:07.820520Z",
     "shell.execute_reply": "2023-02-21T17:31:07.819534Z",
     "shell.execute_reply.started": "2023-02-21T17:31:07.768220Z"
    },
    "id": "3c3a62cd",
    "outputId": "ca4e5f87-9d3e-4cdc-f5cd-56c9e5db7f2a"
   },
   "outputs": [
    {
     "name": "stdout",
     "output_type": "stream",
     "text": [
      "Model: \"model\"\n",
      "__________________________________________________________________________________________________\n",
      " Layer (type)                   Output Shape         Param #     Connected to                     \n",
      "==================================================================================================\n",
      " input_ids (InputLayer)         [(None, 512)]        0           []                               \n",
      "                                                                                                  \n",
      " attention_mask (InputLayer)    [(None, 512)]        0           []                               \n",
      "                                                                                                  \n",
      " bert (TFBertMainLayer)         TFBaseModelOutputWi  109482240   ['input_ids[0][0]',              \n",
      "                                thPoolingAndCrossAt               'attention_mask[0][0]']         \n",
      "                                tentions(last_hidde                                               \n",
      "                                n_state=(None, 512,                                               \n",
      "                                 768),                                                            \n",
      "                                 pooler_output=(Non                                               \n",
      "                                e, 768),                                                          \n",
      "                                 past_key_values=No                                               \n",
      "                                ne, hidden_states=N                                               \n",
      "                                one, attentions=Non                                               \n",
      "                                e, cross_attentions                                               \n",
      "                                =None)                                                            \n",
      "                                                                                                  \n",
      " dense (Dense)                  (None, 1024)         787456      ['bert[0][1]']                   \n",
      "                                                                                                  \n",
      " outputs (Dense)                (None, 5)            5125        ['dense[0][0]']                  \n",
      "                                                                                                  \n",
      "==================================================================================================\n",
      "Total params: 110,274,821\n",
      "Trainable params: 110,274,821\n",
      "Non-trainable params: 0\n",
      "__________________________________________________________________________________________________\n"
     ]
    }
   ],
   "source": [
    "# build new model structure\n",
    "model = tf.keras.Model(inputs=[input_ids, attention_mask], outputs=y)\n",
    "\n",
    "model.summary()"
   ]
  },
  {
   "cell_type": "code",
   "execution_count": 24,
   "id": "8d5f8b27",
   "metadata": {
    "execution": {
     "iopub.execute_input": "2023-02-21T17:31:37.619501Z",
     "iopub.status.busy": "2023-02-21T17:31:37.618806Z",
     "iopub.status.idle": "2023-02-21T17:31:37.637646Z",
     "shell.execute_reply": "2023-02-21T17:31:37.636508Z",
     "shell.execute_reply.started": "2023-02-21T17:31:37.619462Z"
    },
    "id": "e240a495"
   },
   "outputs": [],
   "source": [
    "model.compile(optimizer=tf.keras.optimizers.Adam(learning_rate=3e-6, epsilon=1e-08), \n",
    "              loss=tf.keras.losses.CategoricalCrossentropy(), \n",
    "              metrics=[tf.keras.metrics.CategoricalAccuracy('accuracy')])"
   ]
  },
  {
   "cell_type": "code",
   "execution_count": 25,
   "id": "478c3033",
   "metadata": {
    "colab": {
     "base_uri": "https://localhost:8080/"
    },
    "execution": {
     "iopub.execute_input": "2023-02-21T17:31:54.618810Z",
     "iopub.status.busy": "2023-02-21T17:31:54.618444Z",
     "iopub.status.idle": "2023-02-21T18:41:24.378894Z",
     "shell.execute_reply": "2023-02-21T18:41:24.377867Z",
     "shell.execute_reply.started": "2023-02-21T17:31:54.618777Z"
    },
    "id": "00c0fb28",
    "outputId": "e91c333c-9571-4426-d405-649ff44d4c34"
   },
   "outputs": [
    {
     "name": "stdout",
     "output_type": "stream",
     "text": [
      "Epoch 1/3\n",
      "1500/1500 [==============================] - 1366s 905ms/step - loss: 0.5195 - accuracy: 0.8188 - val_loss: 0.2935 - val_accuracy: 0.9046\n",
      "Epoch 2/3\n",
      "1500/1500 [==============================] - 1355s 903ms/step - loss: 0.2453 - accuracy: 0.9183 - val_loss: 0.2454 - val_accuracy: 0.9191\n",
      "Epoch 3/3\n",
      "1500/1500 [==============================] - 1354s 903ms/step - loss: 0.1820 - accuracy: 0.9389 - val_loss: 0.2398 - val_accuracy: 0.9205\n"
     ]
    },
    {
     "data": {
      "text/plain": [
       "<keras.callbacks.History at 0x7f58843e04d0>"
      ]
     },
     "execution_count": 25,
     "metadata": {},
     "output_type": "execute_result"
    }
   ],
   "source": [
    "# train model\n",
    "model.fit(train_dataset, validation_data=valid_dataset, epochs=3)"
   ]
  },
  {
   "cell_type": "markdown",
   "id": "07bd3764",
   "metadata": {},
   "source": [
    "### Evaluate on test subset"
   ]
  },
  {
   "cell_type": "code",
   "execution_count": 26,
   "id": "27cbfd7f",
   "metadata": {
    "colab": {
     "base_uri": "https://localhost:8080/"
    },
    "execution": {
     "iopub.execute_input": "2023-02-21T18:49:53.140989Z",
     "iopub.status.busy": "2023-02-21T18:49:53.140602Z",
     "iopub.status.idle": "2023-02-21T18:52:42.430424Z",
     "shell.execute_reply": "2023-02-21T18:52:42.429349Z",
     "shell.execute_reply.started": "2023-02-21T18:49:53.140947Z"
    },
    "id": "36e341ac",
    "outputId": "39327cf2-b85e-4ad0-f496-13aa064d27da"
   },
   "outputs": [
    {
     "name": "stdout",
     "output_type": "stream",
     "text": [
      "950/950 [==============================] - 169s 178ms/step - loss: 0.2506 - accuracy: 0.9170\n"
     ]
    },
    {
     "data": {
      "text/plain": [
       "[0.2505662441253662, 0.9169737100601196]"
      ]
     },
     "execution_count": 26,
     "metadata": {},
     "output_type": "execute_result"
    }
   ],
   "source": [
    "model.evaluate(test_dataset)"
   ]
  },
  {
   "cell_type": "code",
   "execution_count": 54,
   "id": "41c0c8b3",
   "metadata": {
    "colab": {
     "base_uri": "https://localhost:8080/"
    },
    "id": "FP_D-cU2_OP6",
    "outputId": "a565d15a-2850-4d91-806c-e302e04c2fec"
   },
   "outputs": [
    {
     "name": "stdout",
     "output_type": "stream",
     "text": [
      "950/950 [==============================] - 304s 315ms/step\n"
     ]
    }
   ],
   "source": [
    "y_pred = model.predict(test_dataset)"
   ]
  },
  {
   "cell_type": "markdown",
   "id": "1b36dcce",
   "metadata": {},
   "source": [
    "### Save/Load News model\n",
    "The model can be downloaded from https://drive.google.com/drive/folders/1MiA1fvj2YS6USLhtnXFTJDFWaTA7dNtN?usp=sharing"
   ]
  },
  {
   "cell_type": "code",
   "execution_count": 27,
   "id": "e9470e58",
   "metadata": {
    "execution": {
     "iopub.execute_input": "2023-02-21T18:55:40.462983Z",
     "iopub.status.busy": "2023-02-21T18:55:40.462573Z",
     "iopub.status.idle": "2023-02-21T18:56:10.182418Z",
     "shell.execute_reply": "2023-02-21T18:56:10.181345Z",
     "shell.execute_reply.started": "2023-02-21T18:55:40.462926Z"
    },
    "id": "TSV-ukDFCt71"
   },
   "outputs": [],
   "source": [
    "model.save(\"bert-news-model\")"
   ]
  },
  {
   "cell_type": "code",
   "execution_count": null,
   "id": "28087372",
   "metadata": {},
   "outputs": [],
   "source": [
    "saved_model = tf.keras.models.load_model('models/bert-news-model')"
   ]
  },
  {
   "cell_type": "code",
   "execution_count": null,
   "id": "f8d691e5",
   "metadata": {},
   "outputs": [],
   "source": [
    "saved_model.evaluate(test_dataset)"
   ]
  }
 ],
 "metadata": {
  "accelerator": "GPU",
  "colab": {
   "provenance": []
  },
  "gpuClass": "standard",
  "kernelspec": {
   "display_name": "Python 3 (ipykernel)",
   "language": "python",
   "name": "python3"
  },
  "language_info": {
   "codemirror_mode": {
    "name": "ipython",
    "version": 3
   },
   "file_extension": ".py",
   "mimetype": "text/x-python",
   "name": "python",
   "nbconvert_exporter": "python",
   "pygments_lexer": "ipython3",
   "version": "3.10.8"
  }
 },
 "nbformat": 4,
 "nbformat_minor": 5
}
