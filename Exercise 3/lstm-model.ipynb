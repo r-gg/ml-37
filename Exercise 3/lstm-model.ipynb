{
 "cells": [
  {
   "cell_type": "markdown",
   "id": "954ae2ef",
   "metadata": {},
   "source": [
    "# LSTM"
   ]
  },
  {
   "cell_type": "code",
   "execution_count": 1,
   "id": "7425fa09",
   "metadata": {},
   "outputs": [
    {
     "name": "stderr",
     "output_type": "stream",
     "text": [
      "C:\\Users\\User\\AppData\\Local\\Temp/ipykernel_2944/2352934017.py:19: DeprecationWarning: `import kerastuner` is deprecated, please use `import keras_tuner`.\n",
      "  from kerastuner.tuners import RandomSearch\n"
     ]
    }
   ],
   "source": [
    "# imports\n",
    "import time\n",
    "import os\n",
    "import optuna\n",
    "import pickle\n",
    "import pandas as pd\n",
    "import matplotlib.pyplot as plt\n",
    "import seaborn as sns\n",
    "import numpy as np\n",
    "import tensorflow as tf\n",
    "from sklearn.model_selection import train_test_split\n",
    "from sklearn.neural_network import MLPClassifier\n",
    "from sklearn.model_selection import cross_val_score\n",
    "from sklearn.metrics import log_loss, balanced_accuracy_score, precision_score, f1_score, recall_score, classification_report\n",
    "from tensorflow.keras.preprocessing.sequence import pad_sequences\n",
    "from tensorflow.keras.models import Sequential\n",
    "from tensorflow.keras.preprocessing.text import one_hot\n",
    "from tensorflow.keras.layers import LSTM, Bidirectional, Dense, Dropout, Embedding\n",
    "from kerastuner.tuners import RandomSearch\n",
    "from tensorflow.keras.optimizers import Adam\n",
    "from tensorflow.keras.losses import CategoricalCrossentropy\n",
    "from tensorflow.keras.metrics import Accuracy\n",
    "from nltk.corpus import stopwords\n",
    "import re\n",
    "import nltk\n",
    "from nltk.stem import WordNetLemmatizer\n",
    "# nltk.download('wordnet')"
   ]
  },
  {
   "cell_type": "markdown",
   "id": "9ed92da3",
   "metadata": {},
   "source": [
    "## 1. Data loading and exploration"
   ]
  },
  {
   "cell_type": "code",
   "execution_count": 2,
   "id": "b7c69407",
   "metadata": {},
   "outputs": [],
   "source": [
    "ag_news_train_df = pd.read_csv('data/ag_news_train.csv')\n",
    "ag_news_test_df = pd.read_csv('data/ag_news_test.csv')\n",
    "amazon_reviews_df = pd.read_csv('data/cleaned_amazon_reviews.csv')"
   ]
  },
  {
   "cell_type": "code",
   "execution_count": 3,
   "id": "9af11b04",
   "metadata": {},
   "outputs": [
    {
     "data": {
      "text/plain": [
       "(120000, 3)"
      ]
     },
     "execution_count": 3,
     "metadata": {},
     "output_type": "execute_result"
    }
   ],
   "source": [
    "ag_news_train_df.shape"
   ]
  },
  {
   "cell_type": "code",
   "execution_count": 4,
   "id": "dbfc10cc",
   "metadata": {},
   "outputs": [
    {
     "data": {
      "text/plain": [
       "(7600, 3)"
      ]
     },
     "execution_count": 4,
     "metadata": {},
     "output_type": "execute_result"
    }
   ],
   "source": [
    "ag_news_test_df.shape"
   ]
  },
  {
   "cell_type": "code",
   "execution_count": 5,
   "id": "6a40c3a2",
   "metadata": {},
   "outputs": [
    {
     "data": {
      "text/html": [
       "<div>\n",
       "<style scoped>\n",
       "    .dataframe tbody tr th:only-of-type {\n",
       "        vertical-align: middle;\n",
       "    }\n",
       "\n",
       "    .dataframe tbody tr th {\n",
       "        vertical-align: top;\n",
       "    }\n",
       "\n",
       "    .dataframe thead th {\n",
       "        text-align: right;\n",
       "    }\n",
       "</style>\n",
       "<table border=\"1\" class=\"dataframe\">\n",
       "  <thead>\n",
       "    <tr style=\"text-align: right;\">\n",
       "      <th></th>\n",
       "      <th>Class Index</th>\n",
       "      <th>Title</th>\n",
       "      <th>Description</th>\n",
       "    </tr>\n",
       "  </thead>\n",
       "  <tbody>\n",
       "    <tr>\n",
       "      <th>0</th>\n",
       "      <td>3</td>\n",
       "      <td>Wall St. Bears Claw Back Into the Black (Reuters)</td>\n",
       "      <td>Reuters - Short-sellers, Wall Street's dwindli...</td>\n",
       "    </tr>\n",
       "    <tr>\n",
       "      <th>1</th>\n",
       "      <td>3</td>\n",
       "      <td>Carlyle Looks Toward Commercial Aerospace (Reu...</td>\n",
       "      <td>Reuters - Private investment firm Carlyle Grou...</td>\n",
       "    </tr>\n",
       "    <tr>\n",
       "      <th>2</th>\n",
       "      <td>3</td>\n",
       "      <td>Oil and Economy Cloud Stocks' Outlook (Reuters)</td>\n",
       "      <td>Reuters - Soaring crude prices plus worries\\ab...</td>\n",
       "    </tr>\n",
       "    <tr>\n",
       "      <th>3</th>\n",
       "      <td>3</td>\n",
       "      <td>Iraq Halts Oil Exports from Main Southern Pipe...</td>\n",
       "      <td>Reuters - Authorities have halted oil export\\f...</td>\n",
       "    </tr>\n",
       "    <tr>\n",
       "      <th>4</th>\n",
       "      <td>3</td>\n",
       "      <td>Oil prices soar to all-time record, posing new...</td>\n",
       "      <td>AFP - Tearaway world oil prices, toppling reco...</td>\n",
       "    </tr>\n",
       "  </tbody>\n",
       "</table>\n",
       "</div>"
      ],
      "text/plain": [
       "   Class Index                                              Title  \\\n",
       "0            3  Wall St. Bears Claw Back Into the Black (Reuters)   \n",
       "1            3  Carlyle Looks Toward Commercial Aerospace (Reu...   \n",
       "2            3    Oil and Economy Cloud Stocks' Outlook (Reuters)   \n",
       "3            3  Iraq Halts Oil Exports from Main Southern Pipe...   \n",
       "4            3  Oil prices soar to all-time record, posing new...   \n",
       "\n",
       "                                         Description  \n",
       "0  Reuters - Short-sellers, Wall Street's dwindli...  \n",
       "1  Reuters - Private investment firm Carlyle Grou...  \n",
       "2  Reuters - Soaring crude prices plus worries\\ab...  \n",
       "3  Reuters - Authorities have halted oil export\\f...  \n",
       "4  AFP - Tearaway world oil prices, toppling reco...  "
      ]
     },
     "execution_count": 5,
     "metadata": {},
     "output_type": "execute_result"
    }
   ],
   "source": [
    "ag_news_train_df.head()"
   ]
  },
  {
   "cell_type": "code",
   "execution_count": 6,
   "id": "fbc83f81",
   "metadata": {},
   "outputs": [
    {
     "data": {
      "text/plain": [
       "(17340, 4)"
      ]
     },
     "execution_count": 6,
     "metadata": {},
     "output_type": "execute_result"
    }
   ],
   "source": [
    "amazon_reviews_df.shape"
   ]
  },
  {
   "cell_type": "code",
   "execution_count": 7,
   "id": "24aec614",
   "metadata": {},
   "outputs": [
    {
     "data": {
      "text/html": [
       "<div>\n",
       "<style scoped>\n",
       "    .dataframe tbody tr th:only-of-type {\n",
       "        vertical-align: middle;\n",
       "    }\n",
       "\n",
       "    .dataframe tbody tr th {\n",
       "        vertical-align: top;\n",
       "    }\n",
       "\n",
       "    .dataframe thead th {\n",
       "        text-align: right;\n",
       "    }\n",
       "</style>\n",
       "<table border=\"1\" class=\"dataframe\">\n",
       "  <thead>\n",
       "    <tr style=\"text-align: right;\">\n",
       "      <th></th>\n",
       "      <th>sentiments</th>\n",
       "      <th>cleaned_review</th>\n",
       "      <th>cleaned_review_length</th>\n",
       "      <th>review_score</th>\n",
       "    </tr>\n",
       "  </thead>\n",
       "  <tbody>\n",
       "    <tr>\n",
       "      <th>0</th>\n",
       "      <td>positive</td>\n",
       "      <td>i wish would have gotten one earlier love it a...</td>\n",
       "      <td>19</td>\n",
       "      <td>5.0</td>\n",
       "    </tr>\n",
       "    <tr>\n",
       "      <th>1</th>\n",
       "      <td>neutral</td>\n",
       "      <td>i ve learned this lesson again open the packag...</td>\n",
       "      <td>88</td>\n",
       "      <td>1.0</td>\n",
       "    </tr>\n",
       "    <tr>\n",
       "      <th>2</th>\n",
       "      <td>neutral</td>\n",
       "      <td>it is so slow and lags find better option</td>\n",
       "      <td>9</td>\n",
       "      <td>2.0</td>\n",
       "    </tr>\n",
       "    <tr>\n",
       "      <th>3</th>\n",
       "      <td>neutral</td>\n",
       "      <td>roller ball stopped working within months of m...</td>\n",
       "      <td>12</td>\n",
       "      <td>1.0</td>\n",
       "    </tr>\n",
       "    <tr>\n",
       "      <th>4</th>\n",
       "      <td>neutral</td>\n",
       "      <td>i like the color and size but it few days out ...</td>\n",
       "      <td>21</td>\n",
       "      <td>1.0</td>\n",
       "    </tr>\n",
       "  </tbody>\n",
       "</table>\n",
       "</div>"
      ],
      "text/plain": [
       "  sentiments                                     cleaned_review  \\\n",
       "0   positive  i wish would have gotten one earlier love it a...   \n",
       "1    neutral  i ve learned this lesson again open the packag...   \n",
       "2    neutral          it is so slow and lags find better option   \n",
       "3    neutral  roller ball stopped working within months of m...   \n",
       "4    neutral  i like the color and size but it few days out ...   \n",
       "\n",
       "   cleaned_review_length  review_score  \n",
       "0                     19           5.0  \n",
       "1                     88           1.0  \n",
       "2                      9           2.0  \n",
       "3                     12           1.0  \n",
       "4                     21           1.0  "
      ]
     },
     "execution_count": 7,
     "metadata": {},
     "output_type": "execute_result"
    }
   ],
   "source": [
    "amazon_reviews_df.head()"
   ]
  },
  {
   "cell_type": "code",
   "execution_count": 8,
   "id": "97023268",
   "metadata": {},
   "outputs": [
    {
     "data": {
      "text/plain": [
       "sentiments               0\n",
       "cleaned_review           3\n",
       "cleaned_review_length    0\n",
       "review_score             0\n",
       "dtype: int64"
      ]
     },
     "execution_count": 8,
     "metadata": {},
     "output_type": "execute_result"
    }
   ],
   "source": [
    "amazon_reviews_df.isna().sum()"
   ]
  },
  {
   "cell_type": "code",
   "execution_count": 9,
   "id": "2cdd0644",
   "metadata": {},
   "outputs": [
    {
     "data": {
      "text/plain": [
       "<AxesSubplot:>"
      ]
     },
     "execution_count": 9,
     "metadata": {},
     "output_type": "execute_result"
    },
    {
     "data": {
      "image/png": "[encoded data removed]",
      "text/plain": [
       "<Figure size 432x288 with 1 Axes>"
      ]
     },
     "metadata": {
      "needs_background": "light"
     },
     "output_type": "display_data"
    }
   ],
   "source": [
    "amazon_reviews_df.sentiments.value_counts().plot(kind='bar')"
   ]
  },
  {
   "cell_type": "markdown",
   "id": "66cf4aa4",
   "metadata": {},
   "source": [
    "Unbalanced target"
   ]
  },
  {
   "cell_type": "code",
   "execution_count": 10,
   "id": "82393d1e",
   "metadata": {},
   "outputs": [
    {
     "data": {
      "text/plain": [
       "<AxesSubplot:>"
      ]
     },
     "execution_count": 10,
     "metadata": {},
     "output_type": "execute_result"
    },
    {
     "data": {
      "image/png": "[encoded data removed]",
      "text/plain": [
       "<Figure size 432x288 with 1 Axes>"
      ]
     },
     "metadata": {
      "needs_background": "light"
     },
     "output_type": "display_data"
    }
   ],
   "source": [
    "ag_news_train_df['Class Index'].value_counts().plot(kind='bar')"
   ]
  },
  {
   "cell_type": "markdown",
   "id": "0518b78a",
   "metadata": {},
   "source": [
    "Balanced target"
   ]
  },
  {
   "cell_type": "markdown",
   "id": "601b6dfe",
   "metadata": {},
   "source": [
    "#### Distribution of review lengths"
   ]
  },
  {
   "cell_type": "code",
   "execution_count": 11,
   "id": "398fe6df",
   "metadata": {},
   "outputs": [
    {
     "data": {
      "text/plain": [
       "(array([1.4993e+04, 1.8380e+03, 3.4300e+02, 8.3000e+01, 5.0000e+01,\n",
       "        1.2000e+01, 9.0000e+00, 5.0000e+00, 4.0000e+00, 3.0000e+00]),\n",
       " array([  0. ,  57.1, 114.2, 171.3, 228.4, 285.5, 342.6, 399.7, 456.8,\n",
       "        513.9, 571. ]),\n",
       " <BarContainer object of 10 artists>)"
      ]
     },
     "execution_count": 11,
     "metadata": {},
     "output_type": "execute_result"
    },
    {
     "data": {
      "image/png": "[encoded data removed]",
      "text/plain": [
       "<Figure size 432x288 with 1 Axes>"
      ]
     },
     "metadata": {
      "needs_background": "light"
     },
     "output_type": "display_data"
    }
   ],
   "source": [
    "plt.hist(amazon_reviews_df.cleaned_review_length)"
   ]
  },
  {
   "cell_type": "markdown",
   "id": "48c41a88",
   "metadata": {},
   "source": [
    "#### Distribution of the news article lengths"
   ]
  },
  {
   "cell_type": "code",
   "execution_count": 12,
   "id": "bbdc407f",
   "metadata": {},
   "outputs": [
    {
     "data": {
      "text/plain": [
       "(array([4.8100e+03, 6.7638e+04, 4.1664e+04, 4.2770e+03, 1.0700e+03,\n",
       "        2.9800e+02, 9.3000e+01, 9.0000e+01, 2.9000e+01, 3.1000e+01]),\n",
       " array([  6. , 103.9, 201.8, 299.7, 397.6, 495.5, 593.4, 691.3, 789.2,\n",
       "        887.1, 985. ]),\n",
       " <BarContainer object of 10 artists>)"
      ]
     },
     "execution_count": 12,
     "metadata": {},
     "output_type": "execute_result"
    },
    {
     "data": {
      "image/png": "[encoded data removed]",
      "text/plain": [
       "<Figure size 432x288 with 1 Axes>"
      ]
     },
     "metadata": {
      "needs_background": "light"
     },
     "output_type": "display_data"
    }
   ],
   "source": [
    "plt.hist(ag_news_train_df.Description.str.len())"
   ]
  },
  {
   "cell_type": "code",
   "execution_count": 13,
   "id": "21fcdac8",
   "metadata": {},
   "outputs": [
    {
     "data": {
      "text/plain": [
       "Class Index    False\n",
       "Title          False\n",
       "Description    False\n",
       "dtype: bool"
      ]
     },
     "execution_count": 13,
     "metadata": {},
     "output_type": "execute_result"
    }
   ],
   "source": [
    "ag_news_train_df.isna().any()"
   ]
  },
  {
   "cell_type": "markdown",
   "id": "698e7635",
   "metadata": {},
   "source": [
    "#### Removing NaNs"
   ]
  },
  {
   "cell_type": "code",
   "execution_count": 14,
   "id": "c7a01d77",
   "metadata": {},
   "outputs": [],
   "source": [
    "amazon_reviews_df.dropna(inplace=True)"
   ]
  },
  {
   "cell_type": "markdown",
   "id": "c93da568",
   "metadata": {},
   "source": [
    "## 2. Train/Val/Test split"
   ]
  },
  {
   "cell_type": "code",
   "execution_count": 15,
   "id": "17908955",
   "metadata": {},
   "outputs": [],
   "source": [
    "X_amazon_reviews = amazon_reviews_df.drop(columns=['sentiments'])\n",
    "y_amazon_reviews = amazon_reviews_df['sentiments']"
   ]
  },
  {
   "cell_type": "code",
   "execution_count": 16,
   "id": "34048169",
   "metadata": {},
   "outputs": [],
   "source": [
    "X_train_reviews, X_test_reviews, y_train_reviews, y_test_reviews = train_test_split(X_amazon_reviews,\n",
    "                                                                                   y_amazon_reviews,\n",
    "                                                                                   random_state=42,\n",
    "                                                                                   test_size=0.2)"
   ]
  },
  {
   "cell_type": "code",
   "execution_count": 17,
   "id": "1c12aa1a",
   "metadata": {},
   "outputs": [],
   "source": [
    "X_train_reviews, X_valid_reviews, y_train_reviews, y_valid_reviews = train_test_split(X_train_reviews,\n",
    "                                                                                     y_train_reviews,\n",
    "                                                                                     random_state=42,\n",
    "                                                                                     test_size = 0.25)"
   ]
  },
  {
   "cell_type": "markdown",
   "id": "f177d90e",
   "metadata": {},
   "source": [
    "### Splitting ag news into X and y's"
   ]
  },
  {
   "cell_type": "markdown",
   "id": "9f484ee0",
   "metadata": {},
   "source": [
    "Merging Title and Description into one field, \"Text\""
   ]
  },
  {
   "cell_type": "code",
   "execution_count": 18,
   "id": "674437cf",
   "metadata": {},
   "outputs": [],
   "source": [
    "ag_news_train_df['Text'] = ag_news_train_df[['Title', 'Description']].agg(' '.join,axis=1)\n",
    "ag_news_test_df['Text'] = ag_news_test_df[['Title', 'Description']].agg(' '.join,axis=1)"
   ]
  },
  {
   "cell_type": "code",
   "execution_count": 19,
   "id": "0c44f02d",
   "metadata": {},
   "outputs": [
    {
     "data": {
      "text/plain": [
       "0         Wall St. Bears Claw Back Into the Black (Reute...\n",
       "1         Carlyle Looks Toward Commercial Aerospace (Reu...\n",
       "2         Oil and Economy Cloud Stocks' Outlook (Reuters...\n",
       "3         Iraq Halts Oil Exports from Main Southern Pipe...\n",
       "4         Oil prices soar to all-time record, posing new...\n",
       "                                ...                        \n",
       "119995    Pakistan's Musharraf Says Won't Quit as Army C...\n",
       "119996    Renteria signing a top-shelf deal Red Sox gene...\n",
       "119997    Saban not going to Dolphins yet The Miami Dolp...\n",
       "119998    Today's NFL games PITTSBURGH at NY GIANTS Time...\n",
       "119999    Nets get Carter from Raptors INDIANAPOLIS -- A...\n",
       "Name: Text, Length: 120000, dtype: object"
      ]
     },
     "execution_count": 19,
     "metadata": {},
     "output_type": "execute_result"
    }
   ],
   "source": [
    "ag_news_train_df['Text']"
   ]
  },
  {
   "cell_type": "code",
   "execution_count": 20,
   "id": "4b277978",
   "metadata": {},
   "outputs": [],
   "source": [
    "X_train_news = ag_news_train_df['Text']\n",
    "y_train_news = ag_news_train_df['Class Index']\n",
    "\n",
    "X_test_news = ag_news_test_df['Text']\n",
    "y_test_news = ag_news_test_df['Class Index']"
   ]
  },
  {
   "cell_type": "code",
   "execution_count": 21,
   "id": "61ec7492",
   "metadata": {},
   "outputs": [],
   "source": [
    "X_train_news, X_valid_news, y_train_news, y_valid_news = train_test_split(X_train_news,\n",
    "                                                                          y_train_news,\n",
    "                                                                          random_state=42,\n",
    "                                                                          test_size = 0.25)"
   ]
  },
  {
   "cell_type": "code",
   "execution_count": 22,
   "id": "b6debe4b",
   "metadata": {},
   "outputs": [],
   "source": [
    "# split the data sets accordignly, so we can perform hyperparameter tuning somewhat successfully\n",
    "\n",
    "np.random.seed(42)\n",
    "reviews_train_idx = np.random.choice(y_train_reviews.shape[0], \n",
    "                                     replace=False, size=y_train_reviews.shape[0]//2)\n",
    "news_train_idx = np.random.choice(y_train_news.shape[0], \n",
    "                                     replace=False, size=y_train_news.shape[0]//8)\n",
    "\n",
    "X_train_reviews_half = X_train_reviews.iloc[reviews_train_idx,:]\n",
    "y_train_reviews_half = y_train_reviews.iloc[reviews_train_idx]\n",
    "X_train_news_eight = X_train_news.iloc[news_train_idx]\n",
    "y_train_news_eight = y_train_news.iloc[news_train_idx]"
   ]
  },
  {
   "cell_type": "code",
   "execution_count": 23,
   "id": "7b542517",
   "metadata": {},
   "outputs": [],
   "source": [
    "# checking if models are saved\n",
    "\n",
    "best_model_nn_reviews_is_saved = os.path.exists('models/best_model_lstm_reviews.sav')\n",
    "best_model_nn_news_is_saved = os.path.exists('models/best_model_lstm_news.sav')"
   ]
  },
  {
   "cell_type": "markdown",
   "id": "6209c298",
   "metadata": {},
   "source": [
    "## 3. Model development - LSTM"
   ]
  },
  {
   "cell_type": "markdown",
   "id": "56ac5d9c",
   "metadata": {},
   "source": [
    "### 3.1. Reviews data set"
   ]
  },
  {
   "cell_type": "code",
   "execution_count": 24,
   "id": "22c054aa",
   "metadata": {},
   "outputs": [],
   "source": [
    "# setting the vocabulary and sentence length\n",
    "voc_size = 5000\n",
    "sent_length = 40\n",
    "embedding_vector_features = 40"
   ]
  },
  {
   "cell_type": "code",
   "execution_count": 25,
   "id": "414fe350",
   "metadata": {},
   "outputs": [],
   "source": [
    "X_train = X_train_reviews.copy()\n",
    "y_train = y_train_reviews.copy()\n",
    "X_test = X_test_reviews.copy()\n",
    "y_test = y_test_reviews.copy()\n",
    "X_valid = X_valid_reviews.copy()\n",
    "y_valid = y_valid_reviews.copy()"
   ]
  },
  {
   "cell_type": "code",
   "execution_count": 26,
   "id": "a933c1e7",
   "metadata": {},
   "outputs": [
    {
     "data": {
      "text/html": [
       "<div>\n",
       "<style scoped>\n",
       "    .dataframe tbody tr th:only-of-type {\n",
       "        vertical-align: middle;\n",
       "    }\n",
       "\n",
       "    .dataframe tbody tr th {\n",
       "        vertical-align: top;\n",
       "    }\n",
       "\n",
       "    .dataframe thead th {\n",
       "        text-align: right;\n",
       "    }\n",
       "</style>\n",
       "<table border=\"1\" class=\"dataframe\">\n",
       "  <thead>\n",
       "    <tr style=\"text-align: right;\">\n",
       "      <th></th>\n",
       "      <th>cleaned_review</th>\n",
       "      <th>cleaned_review_length</th>\n",
       "      <th>review_score</th>\n",
       "    </tr>\n",
       "  </thead>\n",
       "  <tbody>\n",
       "    <tr>\n",
       "      <th>11652</th>\n",
       "      <td>i do love this product but bought it think had...</td>\n",
       "      <td>19</td>\n",
       "      <td>4.0</td>\n",
       "    </tr>\n",
       "    <tr>\n",
       "      <th>7240</th>\n",
       "      <td>this mouse works very well and has very long b...</td>\n",
       "      <td>16</td>\n",
       "      <td>5.0</td>\n",
       "    </tr>\n",
       "    <tr>\n",
       "      <th>16483</th>\n",
       "      <td>just like described very pleased we also had a...</td>\n",
       "      <td>45</td>\n",
       "      <td>5.0</td>\n",
       "    </tr>\n",
       "    <tr>\n",
       "      <th>13353</th>\n",
       "      <td>our year old son asked for this headset for hi...</td>\n",
       "      <td>44</td>\n",
       "      <td>5.0</td>\n",
       "    </tr>\n",
       "    <tr>\n",
       "      <th>6024</th>\n",
       "      <td>nice looking mouse beautiful colors and comfor...</td>\n",
       "      <td>69</td>\n",
       "      <td>5.0</td>\n",
       "    </tr>\n",
       "  </tbody>\n",
       "</table>\n",
       "</div>"
      ],
      "text/plain": [
       "                                          cleaned_review  \\\n",
       "11652  i do love this product but bought it think had...   \n",
       "7240   this mouse works very well and has very long b...   \n",
       "16483  just like described very pleased we also had a...   \n",
       "13353  our year old son asked for this headset for hi...   \n",
       "6024   nice looking mouse beautiful colors and comfor...   \n",
       "\n",
       "       cleaned_review_length  review_score  \n",
       "11652                     19           4.0  \n",
       "7240                      16           5.0  \n",
       "16483                     45           5.0  \n",
       "13353                     44           5.0  \n",
       "6024                      69           5.0  "
      ]
     },
     "execution_count": 26,
     "metadata": {},
     "output_type": "execute_result"
    }
   ],
   "source": [
    "X_train.head()"
   ]
  },
  {
   "cell_type": "code",
   "execution_count": 27,
   "id": "7750e293",
   "metadata": {},
   "outputs": [],
   "source": [
    "def preprocessing_reviews(X, y, sent_length):\n",
    "    X.drop(['cleaned_review_length', 'review_score'], axis=1, inplace=True)\n",
    "    corpus = X['cleaned_review'].values.tolist()\n",
    "    onehot_repr = [one_hot(words, voc_size) for words in corpus] \n",
    "    embedded_docs = pad_sequences(onehot_repr, padding = 'pre', maxlen = sent_length)\n",
    "        \n",
    "    y = pd.get_dummies(y)\n",
    "    \n",
    "    X = np.array(embedded_docs)\n",
    "    y = np.array(y)\n",
    "    \n",
    "    return (X, y)"
   ]
  },
  {
   "cell_type": "code",
   "execution_count": 28,
   "id": "7d22adcf",
   "metadata": {},
   "outputs": [],
   "source": [
    "X_train, y_train = preprocessing_reviews(X_train, y_train, sent_length)\n",
    "X_valid, y_valid = preprocessing_reviews(X_valid, y_valid, sent_length)\n",
    "X_test, y_test = preprocessing_reviews(X_test, y_test, sent_length)"
   ]
  },
  {
   "cell_type": "markdown",
   "id": "29c2e230",
   "metadata": {},
   "source": [
    "#### 3.1.1. Reviews, LSTM model 1. - base"
   ]
  },
  {
   "cell_type": "code",
   "execution_count": 29,
   "id": "e6919d64",
   "metadata": {
    "scrolled": true
   },
   "outputs": [
    {
     "name": "stdout",
     "output_type": "stream",
     "text": [
      "Model: \"sequential\"\n",
      "_________________________________________________________________\n",
      " Layer (type)                Output Shape              Param #   \n",
      "=================================================================\n",
      " embedding (Embedding)       (None, 40, 40)            200000    \n",
      "                                                                 \n",
      " lstm (LSTM)                 (None, 100)               56400     \n",
      "                                                                 \n",
      " dense (Dense)               (None, 3)                 303       \n",
      "                                                                 \n",
      "=================================================================\n",
      "Total params: 256,703\n",
      "Trainable params: 256,703\n",
      "Non-trainable params: 0\n",
      "_________________________________________________________________\n",
      "None\n"
     ]
    }
   ],
   "source": [
    "# creating the base LSTM model\n",
    "\n",
    "model = Sequential()\n",
    "model.add(Embedding(voc_size,embedding_vector_features,input_length=sent_length))\n",
    "model.add(LSTM(100))\n",
    "model.add(Dense(3, activation='softmax'))\n",
    "model.compile(loss = 'categorical_crossentropy', optimizer = 'adam', metrics = ['accuracy'])\n",
    "print(model.summary())"
   ]
  },
  {
   "cell_type": "markdown",
   "id": "11fcbe5c",
   "metadata": {},
   "source": [
    "The results show that the model is overfitting the training data and not generalizing well to the validation data. This can be seen from the increasing difference between training accuracy and validation accuracy as the number of epochs increases.\n",
    "\n",
    "The training accuracy increases up to 95.6% while the validation accuracy only reaches 82.15%. This suggests that the model is memorizing the training data rather than learning the underlying patterns that can be generalized to the validation set.\n",
    "\n",
    "The loss is also decreasing on the training set, but increasing on the validation set. This further supports the overfitting issue.\n",
    "\n",
    "\n",
    "To address the overfitting issue, we will try using regularization techniques like dropout, or simplifying the model architecture."
   ]
  },
  {
   "cell_type": "code",
   "execution_count": 30,
   "id": "eaa865f9",
   "metadata": {},
   "outputs": [
    {
     "name": "stdout",
     "output_type": "stream",
     "text": [
      "326/326 [==============================] - 18s 47ms/step - loss: 0.6580 - accuracy: 0.7118\n"
     ]
    }
   ],
   "source": [
    "# training and predicting\n",
    "\n",
    "start=time.time()\n",
    "model.fit(X_train, y_train)\n",
    "end=time.time()\n",
    "\n",
    "train_time = end - start\n",
    "\n",
    "start=time.time()\n",
    "y_pred = model.predict(X_test)\n",
    "end=time.time()\n",
    "\n",
    "test_time = end - start"
   ]
  },
  {
   "cell_type": "code",
   "execution_count": 31,
   "id": "7ab7d401",
   "metadata": {},
   "outputs": [
    {
     "name": "stderr",
     "output_type": "stream",
     "text": [
      "WARNING:absl:Found untraced functions such as lstm_cell_layer_call_fn, lstm_cell_layer_call_and_return_conditional_losses while saving (showing 2 of 2). These functions will not be directly callable after loading.\n"
     ]
    },
    {
     "name": "stdout",
     "output_type": "stream",
     "text": [
      "INFO:tensorflow:Assets written to: ram://db04533e-612a-43b3-b277-ccc410bd6660/assets\n"
     ]
    },
    {
     "name": "stderr",
     "output_type": "stream",
     "text": [
      "INFO:tensorflow:Assets written to: ram://db04533e-612a-43b3-b277-ccc410bd6660/assets\n",
      "WARNING:absl:<keras.layers.recurrent.LSTMCell object at 0x000002782F485100> has the same name 'LSTMCell' as a built-in Keras object. Consider renaming <class 'keras.layers.recurrent.LSTMCell'> to avoid naming conflicts when loading with `tf.keras.models.load_model`. If renaming is not possible, pass the object in the `custom_objects` parameter of the load function.\n"
     ]
    }
   ],
   "source": [
    "# adjust the y_pred and the y_test\n",
    "y_pred = np.argmax(y_pred, axis = 1)\n",
    "y_test = np.argmax(y_test, axis = 1)\n",
    "\n",
    "reviews_m1_results = classification_report(y_test, y_pred, output_dict=True)\n",
    "\n",
    "reviews_m1_results['train_time'] = train_time\n",
    "reviews_m1_results['test_time'] = test_time\n",
    "reviews_m1_results = pd.DataFrame.from_dict(reviews_m1_results)\n",
    "reviews_m1_results.to_csv('results/lstm/reviews/model_1.csv')\n",
    "pickle.dump(model, open('models/lstm/reviews/model_1.sav', 'wb'))"
   ]
  },
  {
   "cell_type": "code",
   "execution_count": 33,
   "id": "24427355",
   "metadata": {},
   "outputs": [
    {
     "data": {
      "text/html": [
       "<div>\n",
       "<style scoped>\n",
       "    .dataframe tbody tr th:only-of-type {\n",
       "        vertical-align: middle;\n",
       "    }\n",
       "\n",
       "    .dataframe tbody tr th {\n",
       "        vertical-align: top;\n",
       "    }\n",
       "\n",
       "    .dataframe thead th {\n",
       "        text-align: right;\n",
       "    }\n",
       "</style>\n",
       "<table border=\"1\" class=\"dataframe\">\n",
       "  <thead>\n",
       "    <tr style=\"text-align: right;\">\n",
       "      <th></th>\n",
       "      <th>0</th>\n",
       "      <th>1</th>\n",
       "      <th>2</th>\n",
       "      <th>accuracy</th>\n",
       "      <th>macro avg</th>\n",
       "      <th>weighted avg</th>\n",
       "      <th>train_time</th>\n",
       "      <th>test_time</th>\n",
       "    </tr>\n",
       "  </thead>\n",
       "  <tbody>\n",
       "    <tr>\n",
       "      <th>precision</th>\n",
       "      <td>0.542453</td>\n",
       "      <td>0.684868</td>\n",
       "      <td>0.909562</td>\n",
       "      <td>0.788639</td>\n",
       "      <td>0.712294</td>\n",
       "      <td>0.795359</td>\n",
       "      <td>17.70314</td>\n",
       "      <td>2.335842</td>\n",
       "    </tr>\n",
       "    <tr>\n",
       "      <th>recall</th>\n",
       "      <td>0.365079</td>\n",
       "      <td>0.834135</td>\n",
       "      <td>0.828871</td>\n",
       "      <td>0.788639</td>\n",
       "      <td>0.676028</td>\n",
       "      <td>0.788639</td>\n",
       "      <td>17.70314</td>\n",
       "      <td>2.335842</td>\n",
       "    </tr>\n",
       "    <tr>\n",
       "      <th>f1-score</th>\n",
       "      <td>0.436433</td>\n",
       "      <td>0.752168</td>\n",
       "      <td>0.867344</td>\n",
       "      <td>0.788639</td>\n",
       "      <td>0.685315</td>\n",
       "      <td>0.786757</td>\n",
       "      <td>17.70314</td>\n",
       "      <td>2.335842</td>\n",
       "    </tr>\n",
       "    <tr>\n",
       "      <th>support</th>\n",
       "      <td>315.000000</td>\n",
       "      <td>1248.000000</td>\n",
       "      <td>1905.000000</td>\n",
       "      <td>0.788639</td>\n",
       "      <td>3468.000000</td>\n",
       "      <td>3468.000000</td>\n",
       "      <td>17.70314</td>\n",
       "      <td>2.335842</td>\n",
       "    </tr>\n",
       "  </tbody>\n",
       "</table>\n",
       "</div>"
      ],
      "text/plain": [
       "                    0            1            2  accuracy    macro avg  \\\n",
       "precision    0.542453     0.684868     0.909562  0.788639     0.712294   \n",
       "recall       0.365079     0.834135     0.828871  0.788639     0.676028   \n",
       "f1-score     0.436433     0.752168     0.867344  0.788639     0.685315   \n",
       "support    315.000000  1248.000000  1905.000000  0.788639  3468.000000   \n",
       "\n",
       "           weighted avg  train_time  test_time  \n",
       "precision      0.795359    17.70314   2.335842  \n",
       "recall         0.788639    17.70314   2.335842  \n",
       "f1-score       0.786757    17.70314   2.335842  \n",
       "support     3468.000000    17.70314   2.335842  "
      ]
     },
     "execution_count": 33,
     "metadata": {},
     "output_type": "execute_result"
    }
   ],
   "source": [
    "reviews_m1_results"
   ]
  },
  {
   "cell_type": "markdown",
   "id": "91239aa1",
   "metadata": {},
   "source": [
    "The test accuracy is 0.827 which is very similar to the validation results, therefore we will try to add dropout layers, or simplify the model architecture.\n",
    "\n",
    "We are using accuracy at the moment, we will later on focus on more metrics, and see in greated details how to best optimize the model."
   ]
  },
  {
   "cell_type": "markdown",
   "id": "623bede6",
   "metadata": {},
   "source": [
    "#### 3.1.2. Reviews, LSTM model 2. - base with dropout"
   ]
  },
  {
   "cell_type": "code",
   "execution_count": 34,
   "id": "1c656a95",
   "metadata": {},
   "outputs": [
    {
     "name": "stdout",
     "output_type": "stream",
     "text": [
      "Model: \"sequential_1\"\n",
      "_________________________________________________________________\n",
      " Layer (type)                Output Shape              Param #   \n",
      "=================================================================\n",
      " embedding_1 (Embedding)     (None, 40, 40)            200000    \n",
      "                                                                 \n",
      " dropout (Dropout)           (None, 40, 40)            0         \n",
      "                                                                 \n",
      " lstm_1 (LSTM)               (None, 100)               56400     \n",
      "                                                                 \n",
      " dropout_1 (Dropout)         (None, 100)               0         \n",
      "                                                                 \n",
      " dense_1 (Dense)             (None, 3)                 303       \n",
      "                                                                 \n",
      "=================================================================\n",
      "Total params: 256,703\n",
      "Trainable params: 256,703\n",
      "Non-trainable params: 0\n",
      "_________________________________________________________________\n",
      "None\n"
     ]
    }
   ],
   "source": [
    "embedding_vector_features = 40\n",
    "model = Sequential()\n",
    "model.add(Embedding(voc_size,embedding_vector_features,input_length=sent_length))\n",
    "model.add(Dropout(0.3))\n",
    "model.add(LSTM(100))\n",
    "model.add(Dropout(0.3))\n",
    "model.add(Dense(3,activation='softmax'))\n",
    "model.compile(loss = 'categorical_crossentropy', optimizer = 'adam', metrics = ['accuracy', tf.keras.metrics.Recall(), tf.keras.metrics.Precision()])\n",
    "print(model.summary())"
   ]
  },
  {
   "cell_type": "code",
   "execution_count": 35,
   "id": "e8495525",
   "metadata": {},
   "outputs": [
    {
     "name": "stdout",
     "output_type": "stream",
     "text": [
      "326/326 [==============================] - 13s 29ms/step - loss: 0.7034 - accuracy: 0.6827 - recall: 0.5753 - precision: 0.7406\n"
     ]
    }
   ],
   "source": [
    "# training and predicting\n",
    "\n",
    "start=time.time()\n",
    "model.fit(X_train, y_train)\n",
    "end=time.time()\n",
    "\n",
    "train_time = end - start\n",
    "\n",
    "start=time.time()\n",
    "y_pred = model.predict(X_test)\n",
    "end=time.time()\n",
    "\n",
    "test_time = end - start"
   ]
  },
  {
   "cell_type": "code",
   "execution_count": 38,
   "id": "54b06ee1",
   "metadata": {},
   "outputs": [
    {
     "name": "stderr",
     "output_type": "stream",
     "text": [
      "WARNING:absl:Found untraced functions such as lstm_cell_1_layer_call_fn, lstm_cell_1_layer_call_and_return_conditional_losses while saving (showing 2 of 2). These functions will not be directly callable after loading.\n"
     ]
    },
    {
     "name": "stdout",
     "output_type": "stream",
     "text": [
      "INFO:tensorflow:Assets written to: ram://c3eab251-75aa-4ec5-99c1-104b0a8816c2/assets\n"
     ]
    },
    {
     "name": "stderr",
     "output_type": "stream",
     "text": [
      "INFO:tensorflow:Assets written to: ram://c3eab251-75aa-4ec5-99c1-104b0a8816c2/assets\n",
      "WARNING:absl:<keras.layers.recurrent.LSTMCell object at 0x000002782FB23820> has the same name 'LSTMCell' as a built-in Keras object. Consider renaming <class 'keras.layers.recurrent.LSTMCell'> to avoid naming conflicts when loading with `tf.keras.models.load_model`. If renaming is not possible, pass the object in the `custom_objects` parameter of the load function.\n"
     ]
    }
   ],
   "source": [
    "# adjust the y_pred and the y_test\n",
    "y_pred = np.argmax(y_pred, axis = 1)\n",
    "# y_test = np.argmax(y_test, axis = 1)\n",
    "\n",
    "reviews_m2_results = classification_report(y_test, y_pred, output_dict=True)\n",
    "\n",
    "reviews_m2_results['train_time'] = train_time\n",
    "reviews_m2_results['test_time'] = test_time\n",
    "reviews_m2_results = pd.DataFrame.from_dict(reviews_m2_results)\n",
    "reviews_m2_results.to_csv('results/lstm/reviews/model_2.csv')\n",
    "pickle.dump(model, open('models/lstm/reviews/model_2.sav', 'wb'))"
   ]
  },
  {
   "cell_type": "code",
   "execution_count": 39,
   "id": "bcc9a44a",
   "metadata": {},
   "outputs": [
    {
     "data": {
      "text/html": [
       "<div>\n",
       "<style scoped>\n",
       "    .dataframe tbody tr th:only-of-type {\n",
       "        vertical-align: middle;\n",
       "    }\n",
       "\n",
       "    .dataframe tbody tr th {\n",
       "        vertical-align: top;\n",
       "    }\n",
       "\n",
       "    .dataframe thead th {\n",
       "        text-align: right;\n",
       "    }\n",
       "</style>\n",
       "<table border=\"1\" class=\"dataframe\">\n",
       "  <thead>\n",
       "    <tr style=\"text-align: right;\">\n",
       "      <th></th>\n",
       "      <th>0</th>\n",
       "      <th>1</th>\n",
       "      <th>2</th>\n",
       "      <th>accuracy</th>\n",
       "      <th>macro avg</th>\n",
       "      <th>weighted avg</th>\n",
       "      <th>train_time</th>\n",
       "      <th>test_time</th>\n",
       "    </tr>\n",
       "  </thead>\n",
       "  <tbody>\n",
       "    <tr>\n",
       "      <th>precision</th>\n",
       "      <td>0.417910</td>\n",
       "      <td>0.689147</td>\n",
       "      <td>0.875203</td>\n",
       "      <td>0.761822</td>\n",
       "      <td>0.660754</td>\n",
       "      <td>0.766713</td>\n",
       "      <td>12.59139</td>\n",
       "      <td>2.243873</td>\n",
       "    </tr>\n",
       "    <tr>\n",
       "      <th>recall</th>\n",
       "      <td>0.444444</td>\n",
       "      <td>0.712340</td>\n",
       "      <td>0.846719</td>\n",
       "      <td>0.761822</td>\n",
       "      <td>0.667834</td>\n",
       "      <td>0.761822</td>\n",
       "      <td>12.59139</td>\n",
       "      <td>2.243873</td>\n",
       "    </tr>\n",
       "    <tr>\n",
       "      <th>f1-score</th>\n",
       "      <td>0.430769</td>\n",
       "      <td>0.700552</td>\n",
       "      <td>0.860726</td>\n",
       "      <td>0.761822</td>\n",
       "      <td>0.664016</td>\n",
       "      <td>0.764032</td>\n",
       "      <td>12.59139</td>\n",
       "      <td>2.243873</td>\n",
       "    </tr>\n",
       "    <tr>\n",
       "      <th>support</th>\n",
       "      <td>315.000000</td>\n",
       "      <td>1248.000000</td>\n",
       "      <td>1905.000000</td>\n",
       "      <td>0.761822</td>\n",
       "      <td>3468.000000</td>\n",
       "      <td>3468.000000</td>\n",
       "      <td>12.59139</td>\n",
       "      <td>2.243873</td>\n",
       "    </tr>\n",
       "  </tbody>\n",
       "</table>\n",
       "</div>"
      ],
      "text/plain": [
       "                    0            1            2  accuracy    macro avg  \\\n",
       "precision    0.417910     0.689147     0.875203  0.761822     0.660754   \n",
       "recall       0.444444     0.712340     0.846719  0.761822     0.667834   \n",
       "f1-score     0.430769     0.700552     0.860726  0.761822     0.664016   \n",
       "support    315.000000  1248.000000  1905.000000  0.761822  3468.000000   \n",
       "\n",
       "           weighted avg  train_time  test_time  \n",
       "precision      0.766713    12.59139   2.243873  \n",
       "recall         0.761822    12.59139   2.243873  \n",
       "f1-score       0.764032    12.59139   2.243873  \n",
       "support     3468.000000    12.59139   2.243873  "
      ]
     },
     "execution_count": 39,
     "metadata": {},
     "output_type": "execute_result"
    }
   ],
   "source": [
    "reviews_m2_results"
   ]
  },
  {
   "cell_type": "markdown",
   "id": "187d9e76",
   "metadata": {},
   "source": [
    "After adding two dropout layers with the probability of 0.3, we get an accuracy of 0.828 which isn't an improvement really. We will now try to change the model architecture, and see what we can get.\n",
    "\n",
    "We will change the voc_size and the sent_length to see if that can make the results better."
   ]
  },
  {
   "cell_type": "markdown",
   "id": "77aa9dee",
   "metadata": {},
   "source": [
    "#### 3.1.3. Reviews, LSTM model 3. - dropout and voc and sent length changed"
   ]
  },
  {
   "cell_type": "code",
   "execution_count": 40,
   "id": "728ef2fe",
   "metadata": {},
   "outputs": [],
   "source": [
    "# setting the vocabulary and sentence length\n",
    "voc_size = 10000\n",
    "sent_length = 100\n",
    "embedding_vector_features = 60"
   ]
  },
  {
   "cell_type": "code",
   "execution_count": 41,
   "id": "9f80604b",
   "metadata": {},
   "outputs": [],
   "source": [
    "X_train = X_train_reviews.copy()\n",
    "y_train = y_train_reviews.copy()\n",
    "X_test = X_test_reviews.copy()\n",
    "y_test = y_test_reviews.copy()\n",
    "X_valid = X_valid_reviews.copy()\n",
    "y_valid = y_valid_reviews.copy()\n",
    "\n",
    "X_train, y_train = preprocessing_reviews(X_train, y_train, sent_length)\n",
    "X_valid, y_valid = preprocessing_reviews(X_valid, y_valid, sent_length)\n",
    "X_test, y_test = preprocessing_reviews(X_test, y_test, sent_length)"
   ]
  },
  {
   "cell_type": "code",
   "execution_count": 42,
   "id": "c06b7355",
   "metadata": {
    "scrolled": true
   },
   "outputs": [
    {
     "name": "stdout",
     "output_type": "stream",
     "text": [
      "Model: \"sequential_2\"\n",
      "_________________________________________________________________\n",
      " Layer (type)                Output Shape              Param #   \n",
      "=================================================================\n",
      " embedding_2 (Embedding)     (None, 100, 60)           600000    \n",
      "                                                                 \n",
      " bidirectional (Bidirectiona  (None, 200)              128800    \n",
      " l)                                                              \n",
      "                                                                 \n",
      " dense_2 (Dense)             (None, 3)                 603       \n",
      "                                                                 \n",
      "=================================================================\n",
      "Total params: 729,403\n",
      "Trainable params: 729,403\n",
      "Non-trainable params: 0\n",
      "_________________________________________________________________\n",
      "None\n"
     ]
    }
   ],
   "source": [
    "# creating the base LSTM model\n",
    "\n",
    "model = Sequential()\n",
    "model.add(Embedding(voc_size,embedding_vector_features,input_length=sent_length))\n",
    "model.add(Bidirectional(LSTM(100)))\n",
    "model.add(Dense(3, activation='softmax'))\n",
    "model.compile(loss = 'categorical_crossentropy', optimizer = 'adam', metrics = ['accuracy'])\n",
    "print(model.summary())"
   ]
  },
  {
   "cell_type": "code",
   "execution_count": 43,
   "id": "edf9bf33",
   "metadata": {},
   "outputs": [
    {
     "name": "stdout",
     "output_type": "stream",
     "text": [
      "326/326 [==============================] - 47s 132ms/step - loss: 0.6417 - accuracy: 0.7180\n"
     ]
    }
   ],
   "source": [
    "# training and predicting\n",
    "\n",
    "start=time.time()\n",
    "model.fit(X_train, y_train)\n",
    "end=time.time()\n",
    "\n",
    "train_time = end - start\n",
    "\n",
    "start=time.time()\n",
    "y_pred = model.predict(X_test)\n",
    "end=time.time()\n",
    "\n",
    "test_time = end - start"
   ]
  },
  {
   "cell_type": "code",
   "execution_count": 47,
   "id": "9c121baf",
   "metadata": {},
   "outputs": [
    {
     "name": "stderr",
     "output_type": "stream",
     "text": [
      "WARNING:absl:Found untraced functions such as lstm_cell_3_layer_call_fn, lstm_cell_3_layer_call_and_return_conditional_losses, lstm_cell_4_layer_call_fn, lstm_cell_4_layer_call_and_return_conditional_losses while saving (showing 4 of 4). These functions will not be directly callable after loading.\n"
     ]
    },
    {
     "name": "stdout",
     "output_type": "stream",
     "text": [
      "INFO:tensorflow:Assets written to: ram://5e72dc42-998f-4648-84e1-9e9e1c6ee9c7/assets\n"
     ]
    },
    {
     "name": "stderr",
     "output_type": "stream",
     "text": [
      "INFO:tensorflow:Assets written to: ram://5e72dc42-998f-4648-84e1-9e9e1c6ee9c7/assets\n",
      "WARNING:absl:<keras.layers.recurrent.LSTMCell object at 0x000002783799FA00> has the same name 'LSTMCell' as a built-in Keras object. Consider renaming <class 'keras.layers.recurrent.LSTMCell'> to avoid naming conflicts when loading with `tf.keras.models.load_model`. If renaming is not possible, pass the object in the `custom_objects` parameter of the load function.\n",
      "WARNING:absl:<keras.layers.recurrent.LSTMCell object at 0x000002783053ED00> has the same name 'LSTMCell' as a built-in Keras object. Consider renaming <class 'keras.layers.recurrent.LSTMCell'> to avoid naming conflicts when loading with `tf.keras.models.load_model`. If renaming is not possible, pass the object in the `custom_objects` parameter of the load function.\n"
     ]
    }
   ],
   "source": [
    "# adjust the y_pred and the y_test\n",
    "# y_pred = np.argmax(y_pred, axis = 1)\n",
    "y_test = np.argmax(y_test, axis = 1)\n",
    "\n",
    "reviews_m3_results = classification_report(y_test, y_pred, output_dict=True)\n",
    "\n",
    "reviews_m3_results['train_time'] = train_time\n",
    "reviews_m3_results['test_time'] = test_time\n",
    "reviews_m3_results = pd.DataFrame.from_dict(reviews_m3_results)\n",
    "reviews_m3_results.to_csv('results/lstm/reviews/model_3.csv')\n",
    "pickle.dump(model, open('models/lstm/reviews/model_3.sav', 'wb'))"
   ]
  },
  {
   "cell_type": "code",
   "execution_count": 49,
   "id": "2b249ff9",
   "metadata": {},
   "outputs": [
    {
     "data": {
      "text/html": [
       "<div>\n",
       "<style scoped>\n",
       "    .dataframe tbody tr th:only-of-type {\n",
       "        vertical-align: middle;\n",
       "    }\n",
       "\n",
       "    .dataframe tbody tr th {\n",
       "        vertical-align: top;\n",
       "    }\n",
       "\n",
       "    .dataframe thead th {\n",
       "        text-align: right;\n",
       "    }\n",
       "</style>\n",
       "<table border=\"1\" class=\"dataframe\">\n",
       "  <thead>\n",
       "    <tr style=\"text-align: right;\">\n",
       "      <th></th>\n",
       "      <th>0</th>\n",
       "      <th>1</th>\n",
       "      <th>2</th>\n",
       "      <th>accuracy</th>\n",
       "      <th>macro avg</th>\n",
       "      <th>weighted avg</th>\n",
       "      <th>train_time</th>\n",
       "      <th>test_time</th>\n",
       "    </tr>\n",
       "  </thead>\n",
       "  <tbody>\n",
       "    <tr>\n",
       "      <th>precision</th>\n",
       "      <td>0.752577</td>\n",
       "      <td>0.725437</td>\n",
       "      <td>0.901857</td>\n",
       "      <td>0.822088</td>\n",
       "      <td>0.793290</td>\n",
       "      <td>0.824811</td>\n",
       "      <td>47.43676</td>\n",
       "      <td>5.919207</td>\n",
       "    </tr>\n",
       "    <tr>\n",
       "      <th>recall</th>\n",
       "      <td>0.231746</td>\n",
       "      <td>0.863782</td>\n",
       "      <td>0.892388</td>\n",
       "      <td>0.822088</td>\n",
       "      <td>0.662639</td>\n",
       "      <td>0.822088</td>\n",
       "      <td>47.43676</td>\n",
       "      <td>5.919207</td>\n",
       "    </tr>\n",
       "    <tr>\n",
       "      <th>f1-score</th>\n",
       "      <td>0.354369</td>\n",
       "      <td>0.788588</td>\n",
       "      <td>0.897098</td>\n",
       "      <td>0.822088</td>\n",
       "      <td>0.680018</td>\n",
       "      <td>0.808753</td>\n",
       "      <td>47.43676</td>\n",
       "      <td>5.919207</td>\n",
       "    </tr>\n",
       "    <tr>\n",
       "      <th>support</th>\n",
       "      <td>315.000000</td>\n",
       "      <td>1248.000000</td>\n",
       "      <td>1905.000000</td>\n",
       "      <td>0.822088</td>\n",
       "      <td>3468.000000</td>\n",
       "      <td>3468.000000</td>\n",
       "      <td>47.43676</td>\n",
       "      <td>5.919207</td>\n",
       "    </tr>\n",
       "  </tbody>\n",
       "</table>\n",
       "</div>"
      ],
      "text/plain": [
       "                    0            1            2  accuracy    macro avg  \\\n",
       "precision    0.752577     0.725437     0.901857  0.822088     0.793290   \n",
       "recall       0.231746     0.863782     0.892388  0.822088     0.662639   \n",
       "f1-score     0.354369     0.788588     0.897098  0.822088     0.680018   \n",
       "support    315.000000  1248.000000  1905.000000  0.822088  3468.000000   \n",
       "\n",
       "           weighted avg  train_time  test_time  \n",
       "precision      0.824811    47.43676   5.919207  \n",
       "recall         0.822088    47.43676   5.919207  \n",
       "f1-score       0.808753    47.43676   5.919207  \n",
       "support     3468.000000    47.43676   5.919207  "
      ]
     },
     "execution_count": 49,
     "metadata": {},
     "output_type": "execute_result"
    }
   ],
   "source": [
    "reviews_m3_results"
   ]
  },
  {
   "cell_type": "markdown",
   "id": "7d6b3092",
   "metadata": {},
   "source": [
    "The best result is 84 % accuracy, which is an improvement, it mostly happened because we increased the size of the features, and the sent length, and the voc size, so it managed to capture more information. Of, course it does train longer than but that is the trade off we must accept."
   ]
  },
  {
   "cell_type": "markdown",
   "id": "134bef3c",
   "metadata": {},
   "source": [
    "#### 3.1.4. Reviews, Hyperparameter tuning"
   ]
  },
  {
   "cell_type": "code",
   "execution_count": 79,
   "id": "38ac60ef",
   "metadata": {},
   "outputs": [],
   "source": [
    "X_train = X_train_reviews_half.copy()\n",
    "y_train = y_train_reviews_half.copy()\n",
    "X_test = X_test_reviews.copy()\n",
    "y_test = y_test_reviews.copy()\n",
    "X_valid = X_valid_reviews.copy()\n",
    "y_valid = y_valid_reviews.copy()\n",
    "\n",
    "X_train, y_train = preprocessing_reviews(X_train, y_train, sent_length)\n",
    "X_valid, y_valid = preprocessing_reviews(X_valid, y_valid, sent_length)\n",
    "X_test, y_test = preprocessing_reviews(X_test, y_test, sent_length)"
   ]
  },
  {
   "cell_type": "code",
   "execution_count": 80,
   "id": "28d363ab",
   "metadata": {},
   "outputs": [],
   "source": [
    "def create_model(hp):\n",
    "    model = Sequential()\n",
    "    model.add(Embedding(\n",
    "        input_dim=hp.Int('voc_size', 5000, 20000, step=2500),\n",
    "        output_dim=hp.Int('embedding_size', 32, 128, 32),\n",
    "        input_length = 100))    \n",
    "    model.add(Bidirectional(LSTM(units=hp.Int('LSTM_units', 32, 128, 32))))\n",
    "    model.add(Dense(units=hp.Int('dense_units', 10, 50, 10), activation=hp.Choice('dense_activation', values=['relu', 'sigmoid', 'tanh'])))\n",
    "    model.add(Dense(units=3, activation='softmax'))\n",
    "    model.compile(\n",
    "        optimizer=Adam(hp.Choice('learning_rate', values=[0.01, 0.001, 0.0001])),\n",
    "        loss=CategoricalCrossentropy(),\n",
    "        metrics=[Accuracy()]\n",
    "    )\n",
    "    return model"
   ]
  },
  {
   "cell_type": "code",
   "execution_count": 81,
   "id": "c1ce7579",
   "metadata": {},
   "outputs": [
    {
     "name": "stdout",
     "output_type": "stream",
     "text": [
      "INFO:tensorflow:Reloading Tuner from tuning\\movie_review_sentiment_analysis\\tuner0.json\n"
     ]
    },
    {
     "name": "stderr",
     "output_type": "stream",
     "text": [
      "INFO:tensorflow:Reloading Tuner from tuning\\movie_review_sentiment_analysis\\tuner0.json\n"
     ]
    }
   ],
   "source": [
    "tuner = RandomSearch(\n",
    "    create_model,\n",
    "    objective='val_accuracy',\n",
    "    max_trials=10,\n",
    "    executions_per_trial=3,\n",
    "    directory='tuning',\n",
    "    project_name='movie_review_sentiment_analysis'\n",
    ")"
   ]
  },
  {
   "cell_type": "code",
   "execution_count": 82,
   "id": "1d4f6111",
   "metadata": {},
   "outputs": [
    {
     "name": "stdout",
     "output_type": "stream",
     "text": [
      "INFO:tensorflow:Oracle triggered exit\n"
     ]
    },
    {
     "name": "stderr",
     "output_type": "stream",
     "text": [
      "INFO:tensorflow:Oracle triggered exit\n"
     ]
    }
   ],
   "source": [
    "tuner.search(X_train, y_train, epochs=3, validation_data=(X_valid, y_valid))"
   ]
  },
  {
   "cell_type": "code",
   "execution_count": 83,
   "id": "44402ff2",
   "metadata": {},
   "outputs": [],
   "source": [
    "best_hyperparameters = tuner.get_best_hyperparameters(num_trials=1)[0]\n",
    "model = tuner.hypermodel.build(best_hyperparameters)"
   ]
  },
  {
   "cell_type": "code",
   "execution_count": 84,
   "id": "6f802381",
   "metadata": {},
   "outputs": [
    {
     "data": {
      "text/plain": [
       "{'voc_size': 7500,\n",
       " 'embedding_size': 64,\n",
       " 'sent_length': 90,\n",
       " 'LSTM_units': 64,\n",
       " 'dense_units': 50,\n",
       " 'dense_activation': 'relu',\n",
       " 'learning_rate': 0.01}"
      ]
     },
     "execution_count": 84,
     "metadata": {},
     "output_type": "execute_result"
    }
   ],
   "source": [
    "best_hyperparameters.values"
   ]
  },
  {
   "cell_type": "code",
   "execution_count": null,
   "id": "282c3fd0",
   "metadata": {},
   "outputs": [],
   "source": [
    "# fitting the best model"
   ]
  },
  {
   "cell_type": "code",
   "execution_count": 85,
   "id": "2683677c",
   "metadata": {},
   "outputs": [],
   "source": [
    "# setting the vocabulary and sentence length\n",
    "voc_size = 7500\n",
    "sent_length = 90\n",
    "embedding_vector_features = 64"
   ]
  },
  {
   "cell_type": "code",
   "execution_count": 86,
   "id": "9d863fb0",
   "metadata": {},
   "outputs": [],
   "source": [
    "X_train = X_train_reviews.copy()\n",
    "y_train = y_train_reviews.copy()\n",
    "X_test = X_test_reviews.copy()\n",
    "y_test = y_test_reviews.copy()\n",
    "X_valid = X_valid_reviews.copy()\n",
    "y_valid = y_valid_reviews.copy()\n",
    "\n",
    "X_train, y_train = preprocessing_reviews(X_train, y_train, sent_length)\n",
    "X_valid, y_valid = preprocessing_reviews(X_valid, y_valid, sent_length)\n",
    "X_test, y_test = preprocessing_reviews(X_test, y_test, sent_length)"
   ]
  },
  {
   "cell_type": "code",
   "execution_count": 87,
   "id": "57e5c6d2",
   "metadata": {},
   "outputs": [
    {
     "name": "stdout",
     "output_type": "stream",
     "text": [
      "Model: \"sequential_4\"\n",
      "_________________________________________________________________\n",
      " Layer (type)                Output Shape              Param #   \n",
      "=================================================================\n",
      " embedding_4 (Embedding)     (None, 90, 64)            480000    \n",
      "                                                                 \n",
      " bidirectional_4 (Bidirectio  (None, 128)              66048     \n",
      " nal)                                                            \n",
      "                                                                 \n",
      " dense_8 (Dense)             (None, 50)                6450      \n",
      "                                                                 \n",
      " dense_9 (Dense)             (None, 3)                 153       \n",
      "                                                                 \n",
      "=================================================================\n",
      "Total params: 552,651\n",
      "Trainable params: 552,651\n",
      "Non-trainable params: 0\n",
      "_________________________________________________________________\n",
      "None\n"
     ]
    }
   ],
   "source": [
    "# creating the base LSTM model\n",
    "\n",
    "model = Sequential()\n",
    "model.add(Embedding(voc_size,embedding_vector_features,input_length=sent_length))\n",
    "model.add(Bidirectional(LSTM(64)))\n",
    "model.add(Dense(50, activation='relu'))\n",
    "model.add(Dense(3, activation='softmax'))\n",
    "model.compile(loss = 'categorical_crossentropy', optimizer = Adam(learning_rate=0.01), metrics = ['accuracy'])\n",
    "print(model.summary())"
   ]
  },
  {
   "cell_type": "code",
   "execution_count": 88,
   "id": "eb2e0d28",
   "metadata": {},
   "outputs": [
    {
     "name": "stdout",
     "output_type": "stream",
     "text": [
      "326/326 [==============================] - 39s 104ms/step - loss: 0.6452 - accuracy: 0.7239\n"
     ]
    }
   ],
   "source": [
    "# training and predicting\n",
    "\n",
    "start=time.time()\n",
    "model.fit(X_train, y_train)\n",
    "end=time.time()\n",
    "\n",
    "train_time = end - start\n",
    "\n",
    "start=time.time()\n",
    "y_pred = model.predict(X_test)\n",
    "end=time.time()\n",
    "\n",
    "test_time = end - start"
   ]
  },
  {
   "cell_type": "code",
   "execution_count": 89,
   "id": "df69abb0",
   "metadata": {},
   "outputs": [
    {
     "name": "stderr",
     "output_type": "stream",
     "text": [
      "WARNING:absl:Found untraced functions such as lstm_cell_13_layer_call_fn, lstm_cell_13_layer_call_and_return_conditional_losses, lstm_cell_14_layer_call_fn, lstm_cell_14_layer_call_and_return_conditional_losses while saving (showing 4 of 4). These functions will not be directly callable after loading.\n"
     ]
    },
    {
     "name": "stdout",
     "output_type": "stream",
     "text": [
      "INFO:tensorflow:Assets written to: ram://0a2f7b57-d3ff-4ae9-b8d4-14f6df585d15/assets\n"
     ]
    },
    {
     "name": "stderr",
     "output_type": "stream",
     "text": [
      "INFO:tensorflow:Assets written to: ram://0a2f7b57-d3ff-4ae9-b8d4-14f6df585d15/assets\n",
      "WARNING:absl:<keras.layers.recurrent.LSTMCell object at 0x00000278409C4E80> has the same name 'LSTMCell' as a built-in Keras object. Consider renaming <class 'keras.layers.recurrent.LSTMCell'> to avoid naming conflicts when loading with `tf.keras.models.load_model`. If renaming is not possible, pass the object in the `custom_objects` parameter of the load function.\n",
      "WARNING:absl:<keras.layers.recurrent.LSTMCell object at 0x000002784088B1C0> has the same name 'LSTMCell' as a built-in Keras object. Consider renaming <class 'keras.layers.recurrent.LSTMCell'> to avoid naming conflicts when loading with `tf.keras.models.load_model`. If renaming is not possible, pass the object in the `custom_objects` parameter of the load function.\n"
     ]
    }
   ],
   "source": [
    "# adjust the y_pred and the y_test\n",
    "y_pred = np.argmax(y_pred, axis = 1)\n",
    "y_test = np.argmax(y_test, axis = 1)\n",
    "\n",
    "reviews_m4_results = classification_report(y_test, y_pred, output_dict=True)\n",
    "\n",
    "reviews_m4_results['train_time'] = train_time\n",
    "reviews_m4_results['test_time'] = test_time\n",
    "reviews_m4_results = pd.DataFrame.from_dict(reviews_m4_results)\n",
    "reviews_m4_results.to_csv('results/lstm/reviews/model_4.csv')\n",
    "pickle.dump(model, open('models/lstm/reviews/model_4.sav', 'wb'))"
   ]
  },
  {
   "cell_type": "code",
   "execution_count": 90,
   "id": "6f963831",
   "metadata": {},
   "outputs": [
    {
     "data": {
      "text/html": [
       "<div>\n",
       "<style scoped>\n",
       "    .dataframe tbody tr th:only-of-type {\n",
       "        vertical-align: middle;\n",
       "    }\n",
       "\n",
       "    .dataframe tbody tr th {\n",
       "        vertical-align: top;\n",
       "    }\n",
       "\n",
       "    .dataframe thead th {\n",
       "        text-align: right;\n",
       "    }\n",
       "</style>\n",
       "<table border=\"1\" class=\"dataframe\">\n",
       "  <thead>\n",
       "    <tr style=\"text-align: right;\">\n",
       "      <th></th>\n",
       "      <th>0</th>\n",
       "      <th>1</th>\n",
       "      <th>2</th>\n",
       "      <th>accuracy</th>\n",
       "      <th>macro avg</th>\n",
       "      <th>weighted avg</th>\n",
       "      <th>train_time</th>\n",
       "      <th>test_time</th>\n",
       "    </tr>\n",
       "  </thead>\n",
       "  <tbody>\n",
       "    <tr>\n",
       "      <th>precision</th>\n",
       "      <td>0.633333</td>\n",
       "      <td>0.706897</td>\n",
       "      <td>0.904891</td>\n",
       "      <td>0.8094</td>\n",
       "      <td>0.748374</td>\n",
       "      <td>0.808975</td>\n",
       "      <td>39.3978</td>\n",
       "      <td>4.347106</td>\n",
       "    </tr>\n",
       "    <tr>\n",
       "      <th>recall</th>\n",
       "      <td>0.241270</td>\n",
       "      <td>0.854167</td>\n",
       "      <td>0.874016</td>\n",
       "      <td>0.8094</td>\n",
       "      <td>0.656484</td>\n",
       "      <td>0.809400</td>\n",
       "      <td>39.3978</td>\n",
       "      <td>4.347106</td>\n",
       "    </tr>\n",
       "    <tr>\n",
       "      <th>f1-score</th>\n",
       "      <td>0.349425</td>\n",
       "      <td>0.773585</td>\n",
       "      <td>0.889186</td>\n",
       "      <td>0.8094</td>\n",
       "      <td>0.670732</td>\n",
       "      <td>0.798559</td>\n",
       "      <td>39.3978</td>\n",
       "      <td>4.347106</td>\n",
       "    </tr>\n",
       "    <tr>\n",
       "      <th>support</th>\n",
       "      <td>315.000000</td>\n",
       "      <td>1248.000000</td>\n",
       "      <td>1905.000000</td>\n",
       "      <td>0.8094</td>\n",
       "      <td>3468.000000</td>\n",
       "      <td>3468.000000</td>\n",
       "      <td>39.3978</td>\n",
       "      <td>4.347106</td>\n",
       "    </tr>\n",
       "  </tbody>\n",
       "</table>\n",
       "</div>"
      ],
      "text/plain": [
       "                    0            1            2  accuracy    macro avg  \\\n",
       "precision    0.633333     0.706897     0.904891    0.8094     0.748374   \n",
       "recall       0.241270     0.854167     0.874016    0.8094     0.656484   \n",
       "f1-score     0.349425     0.773585     0.889186    0.8094     0.670732   \n",
       "support    315.000000  1248.000000  1905.000000    0.8094  3468.000000   \n",
       "\n",
       "           weighted avg  train_time  test_time  \n",
       "precision      0.808975     39.3978   4.347106  \n",
       "recall         0.809400     39.3978   4.347106  \n",
       "f1-score       0.798559     39.3978   4.347106  \n",
       "support     3468.000000     39.3978   4.347106  "
      ]
     },
     "execution_count": 90,
     "metadata": {},
     "output_type": "execute_result"
    }
   ],
   "source": [
    "reviews_m4_results"
   ]
  },
  {
   "cell_type": "markdown",
   "id": "7c5276d8",
   "metadata": {},
   "source": [
    "### 3.1.2. Model comparison"
   ]
  },
  {
   "cell_type": "code",
   "execution_count": 91,
   "id": "063dd31a",
   "metadata": {},
   "outputs": [
    {
     "data": {
      "text/html": [
       "<div>\n",
       "<style scoped>\n",
       "    .dataframe tbody tr th:only-of-type {\n",
       "        vertical-align: middle;\n",
       "    }\n",
       "\n",
       "    .dataframe tbody tr th {\n",
       "        vertical-align: top;\n",
       "    }\n",
       "\n",
       "    .dataframe thead th {\n",
       "        text-align: right;\n",
       "    }\n",
       "</style>\n",
       "<table border=\"1\" class=\"dataframe\">\n",
       "  <thead>\n",
       "    <tr style=\"text-align: right;\">\n",
       "      <th></th>\n",
       "      <th>0</th>\n",
       "      <th>1</th>\n",
       "      <th>2</th>\n",
       "      <th>accuracy</th>\n",
       "      <th>macro avg</th>\n",
       "      <th>weighted avg</th>\n",
       "      <th>train_time</th>\n",
       "      <th>test_time</th>\n",
       "    </tr>\n",
       "  </thead>\n",
       "  <tbody>\n",
       "    <tr>\n",
       "      <th>precision</th>\n",
       "      <td>0.542453</td>\n",
       "      <td>0.684868</td>\n",
       "      <td>0.909562</td>\n",
       "      <td>0.788639</td>\n",
       "      <td>0.712294</td>\n",
       "      <td>0.795359</td>\n",
       "      <td>17.70314</td>\n",
       "      <td>2.335842</td>\n",
       "    </tr>\n",
       "    <tr>\n",
       "      <th>recall</th>\n",
       "      <td>0.365079</td>\n",
       "      <td>0.834135</td>\n",
       "      <td>0.828871</td>\n",
       "      <td>0.788639</td>\n",
       "      <td>0.676028</td>\n",
       "      <td>0.788639</td>\n",
       "      <td>17.70314</td>\n",
       "      <td>2.335842</td>\n",
       "    </tr>\n",
       "    <tr>\n",
       "      <th>f1-score</th>\n",
       "      <td>0.436433</td>\n",
       "      <td>0.752168</td>\n",
       "      <td>0.867344</td>\n",
       "      <td>0.788639</td>\n",
       "      <td>0.685315</td>\n",
       "      <td>0.786757</td>\n",
       "      <td>17.70314</td>\n",
       "      <td>2.335842</td>\n",
       "    </tr>\n",
       "    <tr>\n",
       "      <th>support</th>\n",
       "      <td>315.000000</td>\n",
       "      <td>1248.000000</td>\n",
       "      <td>1905.000000</td>\n",
       "      <td>0.788639</td>\n",
       "      <td>3468.000000</td>\n",
       "      <td>3468.000000</td>\n",
       "      <td>17.70314</td>\n",
       "      <td>2.335842</td>\n",
       "    </tr>\n",
       "  </tbody>\n",
       "</table>\n",
       "</div>"
      ],
      "text/plain": [
       "                    0            1            2  accuracy    macro avg  \\\n",
       "precision    0.542453     0.684868     0.909562  0.788639     0.712294   \n",
       "recall       0.365079     0.834135     0.828871  0.788639     0.676028   \n",
       "f1-score     0.436433     0.752168     0.867344  0.788639     0.685315   \n",
       "support    315.000000  1248.000000  1905.000000  0.788639  3468.000000   \n",
       "\n",
       "           weighted avg  train_time  test_time  \n",
       "precision      0.795359    17.70314   2.335842  \n",
       "recall         0.788639    17.70314   2.335842  \n",
       "f1-score       0.786757    17.70314   2.335842  \n",
       "support     3468.000000    17.70314   2.335842  "
      ]
     },
     "execution_count": 91,
     "metadata": {},
     "output_type": "execute_result"
    }
   ],
   "source": [
    "reviews_m1_results"
   ]
  },
  {
   "cell_type": "code",
   "execution_count": 92,
   "id": "1892c180",
   "metadata": {},
   "outputs": [
    {
     "data": {
      "text/html": [
       "<div>\n",
       "<style scoped>\n",
       "    .dataframe tbody tr th:only-of-type {\n",
       "        vertical-align: middle;\n",
       "    }\n",
       "\n",
       "    .dataframe tbody tr th {\n",
       "        vertical-align: top;\n",
       "    }\n",
       "\n",
       "    .dataframe thead th {\n",
       "        text-align: right;\n",
       "    }\n",
       "</style>\n",
       "<table border=\"1\" class=\"dataframe\">\n",
       "  <thead>\n",
       "    <tr style=\"text-align: right;\">\n",
       "      <th></th>\n",
       "      <th>0</th>\n",
       "      <th>1</th>\n",
       "      <th>2</th>\n",
       "      <th>accuracy</th>\n",
       "      <th>macro avg</th>\n",
       "      <th>weighted avg</th>\n",
       "      <th>train_time</th>\n",
       "      <th>test_time</th>\n",
       "    </tr>\n",
       "  </thead>\n",
       "  <tbody>\n",
       "    <tr>\n",
       "      <th>precision</th>\n",
       "      <td>0.417910</td>\n",
       "      <td>0.689147</td>\n",
       "      <td>0.875203</td>\n",
       "      <td>0.761822</td>\n",
       "      <td>0.660754</td>\n",
       "      <td>0.766713</td>\n",
       "      <td>12.59139</td>\n",
       "      <td>2.243873</td>\n",
       "    </tr>\n",
       "    <tr>\n",
       "      <th>recall</th>\n",
       "      <td>0.444444</td>\n",
       "      <td>0.712340</td>\n",
       "      <td>0.846719</td>\n",
       "      <td>0.761822</td>\n",
       "      <td>0.667834</td>\n",
       "      <td>0.761822</td>\n",
       "      <td>12.59139</td>\n",
       "      <td>2.243873</td>\n",
       "    </tr>\n",
       "    <tr>\n",
       "      <th>f1-score</th>\n",
       "      <td>0.430769</td>\n",
       "      <td>0.700552</td>\n",
       "      <td>0.860726</td>\n",
       "      <td>0.761822</td>\n",
       "      <td>0.664016</td>\n",
       "      <td>0.764032</td>\n",
       "      <td>12.59139</td>\n",
       "      <td>2.243873</td>\n",
       "    </tr>\n",
       "    <tr>\n",
       "      <th>support</th>\n",
       "      <td>315.000000</td>\n",
       "      <td>1248.000000</td>\n",
       "      <td>1905.000000</td>\n",
       "      <td>0.761822</td>\n",
       "      <td>3468.000000</td>\n",
       "      <td>3468.000000</td>\n",
       "      <td>12.59139</td>\n",
       "      <td>2.243873</td>\n",
       "    </tr>\n",
       "  </tbody>\n",
       "</table>\n",
       "</div>"
      ],
      "text/plain": [
       "                    0            1            2  accuracy    macro avg  \\\n",
       "precision    0.417910     0.689147     0.875203  0.761822     0.660754   \n",
       "recall       0.444444     0.712340     0.846719  0.761822     0.667834   \n",
       "f1-score     0.430769     0.700552     0.860726  0.761822     0.664016   \n",
       "support    315.000000  1248.000000  1905.000000  0.761822  3468.000000   \n",
       "\n",
       "           weighted avg  train_time  test_time  \n",
       "precision      0.766713    12.59139   2.243873  \n",
       "recall         0.761822    12.59139   2.243873  \n",
       "f1-score       0.764032    12.59139   2.243873  \n",
       "support     3468.000000    12.59139   2.243873  "
      ]
     },
     "execution_count": 92,
     "metadata": {},
     "output_type": "execute_result"
    }
   ],
   "source": [
    "reviews_m2_results"
   ]
  },
  {
   "cell_type": "code",
   "execution_count": 93,
   "id": "e1f3302e",
   "metadata": {},
   "outputs": [
    {
     "data": {
      "text/html": [
       "<div>\n",
       "<style scoped>\n",
       "    .dataframe tbody tr th:only-of-type {\n",
       "        vertical-align: middle;\n",
       "    }\n",
       "\n",
       "    .dataframe tbody tr th {\n",
       "        vertical-align: top;\n",
       "    }\n",
       "\n",
       "    .dataframe thead th {\n",
       "        text-align: right;\n",
       "    }\n",
       "</style>\n",
       "<table border=\"1\" class=\"dataframe\">\n",
       "  <thead>\n",
       "    <tr style=\"text-align: right;\">\n",
       "      <th></th>\n",
       "      <th>0</th>\n",
       "      <th>1</th>\n",
       "      <th>2</th>\n",
       "      <th>accuracy</th>\n",
       "      <th>macro avg</th>\n",
       "      <th>weighted avg</th>\n",
       "      <th>train_time</th>\n",
       "      <th>test_time</th>\n",
       "    </tr>\n",
       "  </thead>\n",
       "  <tbody>\n",
       "    <tr>\n",
       "      <th>precision</th>\n",
       "      <td>0.752577</td>\n",
       "      <td>0.725437</td>\n",
       "      <td>0.901857</td>\n",
       "      <td>0.822088</td>\n",
       "      <td>0.793290</td>\n",
       "      <td>0.824811</td>\n",
       "      <td>47.43676</td>\n",
       "      <td>5.919207</td>\n",
       "    </tr>\n",
       "    <tr>\n",
       "      <th>recall</th>\n",
       "      <td>0.231746</td>\n",
       "      <td>0.863782</td>\n",
       "      <td>0.892388</td>\n",
       "      <td>0.822088</td>\n",
       "      <td>0.662639</td>\n",
       "      <td>0.822088</td>\n",
       "      <td>47.43676</td>\n",
       "      <td>5.919207</td>\n",
       "    </tr>\n",
       "    <tr>\n",
       "      <th>f1-score</th>\n",
       "      <td>0.354369</td>\n",
       "      <td>0.788588</td>\n",
       "      <td>0.897098</td>\n",
       "      <td>0.822088</td>\n",
       "      <td>0.680018</td>\n",
       "      <td>0.808753</td>\n",
       "      <td>47.43676</td>\n",
       "      <td>5.919207</td>\n",
       "    </tr>\n",
       "    <tr>\n",
       "      <th>support</th>\n",
       "      <td>315.000000</td>\n",
       "      <td>1248.000000</td>\n",
       "      <td>1905.000000</td>\n",
       "      <td>0.822088</td>\n",
       "      <td>3468.000000</td>\n",
       "      <td>3468.000000</td>\n",
       "      <td>47.43676</td>\n",
       "      <td>5.919207</td>\n",
       "    </tr>\n",
       "  </tbody>\n",
       "</table>\n",
       "</div>"
      ],
      "text/plain": [
       "                    0            1            2  accuracy    macro avg  \\\n",
       "precision    0.752577     0.725437     0.901857  0.822088     0.793290   \n",
       "recall       0.231746     0.863782     0.892388  0.822088     0.662639   \n",
       "f1-score     0.354369     0.788588     0.897098  0.822088     0.680018   \n",
       "support    315.000000  1248.000000  1905.000000  0.822088  3468.000000   \n",
       "\n",
       "           weighted avg  train_time  test_time  \n",
       "precision      0.824811    47.43676   5.919207  \n",
       "recall         0.822088    47.43676   5.919207  \n",
       "f1-score       0.808753    47.43676   5.919207  \n",
       "support     3468.000000    47.43676   5.919207  "
      ]
     },
     "execution_count": 93,
     "metadata": {},
     "output_type": "execute_result"
    }
   ],
   "source": [
    "reviews_m3_results"
   ]
  },
  {
   "cell_type": "code",
   "execution_count": 94,
   "id": "36c9d809",
   "metadata": {},
   "outputs": [
    {
     "data": {
      "text/html": [
       "<div>\n",
       "<style scoped>\n",
       "    .dataframe tbody tr th:only-of-type {\n",
       "        vertical-align: middle;\n",
       "    }\n",
       "\n",
       "    .dataframe tbody tr th {\n",
       "        vertical-align: top;\n",
       "    }\n",
       "\n",
       "    .dataframe thead th {\n",
       "        text-align: right;\n",
       "    }\n",
       "</style>\n",
       "<table border=\"1\" class=\"dataframe\">\n",
       "  <thead>\n",
       "    <tr style=\"text-align: right;\">\n",
       "      <th></th>\n",
       "      <th>0</th>\n",
       "      <th>1</th>\n",
       "      <th>2</th>\n",
       "      <th>accuracy</th>\n",
       "      <th>macro avg</th>\n",
       "      <th>weighted avg</th>\n",
       "      <th>train_time</th>\n",
       "      <th>test_time</th>\n",
       "    </tr>\n",
       "  </thead>\n",
       "  <tbody>\n",
       "    <tr>\n",
       "      <th>precision</th>\n",
       "      <td>0.633333</td>\n",
       "      <td>0.706897</td>\n",
       "      <td>0.904891</td>\n",
       "      <td>0.8094</td>\n",
       "      <td>0.748374</td>\n",
       "      <td>0.808975</td>\n",
       "      <td>39.3978</td>\n",
       "      <td>4.347106</td>\n",
       "    </tr>\n",
       "    <tr>\n",
       "      <th>recall</th>\n",
       "      <td>0.241270</td>\n",
       "      <td>0.854167</td>\n",
       "      <td>0.874016</td>\n",
       "      <td>0.8094</td>\n",
       "      <td>0.656484</td>\n",
       "      <td>0.809400</td>\n",
       "      <td>39.3978</td>\n",
       "      <td>4.347106</td>\n",
       "    </tr>\n",
       "    <tr>\n",
       "      <th>f1-score</th>\n",
       "      <td>0.349425</td>\n",
       "      <td>0.773585</td>\n",
       "      <td>0.889186</td>\n",
       "      <td>0.8094</td>\n",
       "      <td>0.670732</td>\n",
       "      <td>0.798559</td>\n",
       "      <td>39.3978</td>\n",
       "      <td>4.347106</td>\n",
       "    </tr>\n",
       "    <tr>\n",
       "      <th>support</th>\n",
       "      <td>315.000000</td>\n",
       "      <td>1248.000000</td>\n",
       "      <td>1905.000000</td>\n",
       "      <td>0.8094</td>\n",
       "      <td>3468.000000</td>\n",
       "      <td>3468.000000</td>\n",
       "      <td>39.3978</td>\n",
       "      <td>4.347106</td>\n",
       "    </tr>\n",
       "  </tbody>\n",
       "</table>\n",
       "</div>"
      ],
      "text/plain": [
       "                    0            1            2  accuracy    macro avg  \\\n",
       "precision    0.633333     0.706897     0.904891    0.8094     0.748374   \n",
       "recall       0.241270     0.854167     0.874016    0.8094     0.656484   \n",
       "f1-score     0.349425     0.773585     0.889186    0.8094     0.670732   \n",
       "support    315.000000  1248.000000  1905.000000    0.8094  3468.000000   \n",
       "\n",
       "           weighted avg  train_time  test_time  \n",
       "precision      0.808975     39.3978   4.347106  \n",
       "recall         0.809400     39.3978   4.347106  \n",
       "f1-score       0.798559     39.3978   4.347106  \n",
       "support     3468.000000     39.3978   4.347106  "
      ]
     },
     "execution_count": 94,
     "metadata": {},
     "output_type": "execute_result"
    }
   ],
   "source": [
    "reviews_m4_results"
   ]
  },
  {
   "cell_type": "markdown",
   "id": "f83fa3c0",
   "metadata": {},
   "source": [
    "Conclusion"
   ]
  },
  {
   "cell_type": "markdown",
   "id": "d6294856",
   "metadata": {},
   "source": [
    "### 3.2. News data set"
   ]
  },
  {
   "cell_type": "code",
   "execution_count": 95,
   "id": "72c75354",
   "metadata": {},
   "outputs": [],
   "source": [
    "### helper functions\n",
    "\n",
    "# Tokenize the sentence into words\n",
    "lemmatizer = WordNetLemmatizer()\n",
    "\n",
    "def lemmetize_it(sentence):\n",
    "    words = nltk.word_tokenize(sentence)\n",
    "    lemmas = [lemmatizer.lemmatize(word) for word in words]\n",
    "    lemmas_str = ' '.join(lemmas)\n",
    "    return lemmas_str\n",
    "\n",
    "def clean_news_data(X):    \n",
    "    X = X.apply(lambda x: \" \".join(x.lower() for x in x.split()))\n",
    "    X = X.str.replace('[^\\w\\s]','', regex=True)\n",
    "    \n",
    "    stop = stopwords.words('english')\n",
    "    X = X.apply(lambda x: \" \".join(x for x in x.split() if x not in stop))\n",
    "    \n",
    "    # Create a WordNet lemmatizer object\n",
    "    lemmatizer = WordNetLemmatizer()\n",
    "    \n",
    "    X = X.apply(lemmetize_it)\n",
    "    \n",
    "    return(X)\n",
    "\n",
    "def preprocessing_news(X, y, sent_length):\n",
    "    corpus = X.values.tolist()\n",
    "    onehot_repr = [one_hot(words, voc_size) for words in corpus] \n",
    "    embedded_docs = pad_sequences(onehot_repr, padding = 'pre', maxlen = sent_length)\n",
    "        \n",
    "    y = pd.get_dummies(y)\n",
    "    \n",
    "    X = np.array(embedded_docs)\n",
    "    y = np.array(y)\n",
    "    \n",
    "    return (X, y)"
   ]
  },
  {
   "cell_type": "code",
   "execution_count": 96,
   "id": "4f244e58",
   "metadata": {},
   "outputs": [],
   "source": [
    "X_train = X_train_news.copy()\n",
    "y_train = y_train_news.copy()\n",
    "X_test = X_test_news.copy()\n",
    "y_test = y_test_news.copy()\n",
    "X_valid = X_valid_news.copy()\n",
    "y_valid = y_valid_news.copy()\n",
    "\n",
    "X_train = clean_news_data(X_train)\n",
    "X_valid = clean_news_data(X_valid)\n",
    "X_test = clean_news_data(X_test)"
   ]
  },
  {
   "cell_type": "markdown",
   "id": "13fe1034",
   "metadata": {},
   "source": [
    "### 3.2.1. News, LSTM model 1 - base"
   ]
  },
  {
   "cell_type": "code",
   "execution_count": 97,
   "id": "bf5bfdf1",
   "metadata": {},
   "outputs": [],
   "source": [
    "# setting the vocabulary and sentence length\n",
    "voc_size = 10000\n",
    "sent_length = 150\n",
    "embedding_vector_features = 50"
   ]
  },
  {
   "cell_type": "code",
   "execution_count": 98,
   "id": "8c857b34",
   "metadata": {},
   "outputs": [],
   "source": [
    "X_train, y_train = preprocessing_news(X_train, y_train, sent_length)\n",
    "X_valid, y_valid = preprocessing_news(X_valid, y_valid, sent_length)\n",
    "X_test, y_test = preprocessing_news(X_test, y_test, sent_length)"
   ]
  },
  {
   "cell_type": "code",
   "execution_count": 99,
   "id": "948ba612",
   "metadata": {
    "scrolled": true
   },
   "outputs": [
    {
     "name": "stdout",
     "output_type": "stream",
     "text": [
      "Model: \"sequential_5\"\n",
      "_________________________________________________________________\n",
      " Layer (type)                Output Shape              Param #   \n",
      "=================================================================\n",
      " embedding_5 (Embedding)     (None, 150, 50)           500000    \n",
      "                                                                 \n",
      " lstm_5 (LSTM)               (None, 100)               60400     \n",
      "                                                                 \n",
      " dense_10 (Dense)            (None, 4)                 404       \n",
      "                                                                 \n",
      "=================================================================\n",
      "Total params: 560,804\n",
      "Trainable params: 560,804\n",
      "Non-trainable params: 0\n",
      "_________________________________________________________________\n",
      "None\n"
     ]
    }
   ],
   "source": [
    "# creating the base LSTM model\n",
    "\n",
    "model = Sequential()\n",
    "model.add(Embedding(voc_size,embedding_vector_features,input_length=sent_length))\n",
    "model.add(LSTM(100))\n",
    "model.add(Dense(4, activation='softmax'))\n",
    "model.compile(loss = 'categorical_crossentropy', optimizer = 'adam', metrics = ['accuracy'])\n",
    "print(model.summary())"
   ]
  },
  {
   "cell_type": "code",
   "execution_count": 100,
   "id": "dd9e1d88",
   "metadata": {},
   "outputs": [
    {
     "name": "stdout",
     "output_type": "stream",
     "text": [
      "2813/2813 [==============================] - 476s 169ms/step - loss: 0.3876 - accuracy: 0.8639\n"
     ]
    }
   ],
   "source": [
    "# training and predicting\n",
    "\n",
    "start=time.time()\n",
    "model.fit(X_train, y_train)\n",
    "end=time.time()\n",
    "\n",
    "train_time = end - start\n",
    "\n",
    "start=time.time()\n",
    "y_pred = model.predict(X_test)\n",
    "end=time.time()\n",
    "\n",
    "test_time = end - start"
   ]
  },
  {
   "cell_type": "code",
   "execution_count": 101,
   "id": "571bdbf1",
   "metadata": {},
   "outputs": [
    {
     "name": "stderr",
     "output_type": "stream",
     "text": [
      "WARNING:absl:Found untraced functions such as lstm_cell_15_layer_call_fn, lstm_cell_15_layer_call_and_return_conditional_losses while saving (showing 2 of 2). These functions will not be directly callable after loading.\n"
     ]
    },
    {
     "name": "stdout",
     "output_type": "stream",
     "text": [
      "INFO:tensorflow:Assets written to: ram://220bccd2-3fbd-4c9b-9165-c79345212dc1/assets\n"
     ]
    },
    {
     "name": "stderr",
     "output_type": "stream",
     "text": [
      "INFO:tensorflow:Assets written to: ram://220bccd2-3fbd-4c9b-9165-c79345212dc1/assets\n",
      "WARNING:absl:<keras.layers.recurrent.LSTMCell object at 0x0000027838B0BD30> has the same name 'LSTMCell' as a built-in Keras object. Consider renaming <class 'keras.layers.recurrent.LSTMCell'> to avoid naming conflicts when loading with `tf.keras.models.load_model`. If renaming is not possible, pass the object in the `custom_objects` parameter of the load function.\n"
     ]
    }
   ],
   "source": [
    "# adjust the y_pred and the y_test\n",
    "y_pred = np.argmax(y_pred, axis = 1)\n",
    "y_test = np.argmax(y_test, axis = 1)\n",
    "\n",
    "news_m1_results = classification_report(y_test, y_pred, output_dict=True)\n",
    "\n",
    "news_m1_results['train_time'] = train_time\n",
    "news_m1_results['test_time'] = test_time\n",
    "news_m1_results = pd.DataFrame.from_dict(news_m1_results)\n",
    "news_m1_results.to_csv('results/lstm/news/model_1.csv')\n",
    "pickle.dump(model, open('models/lstm/news/model_1.sav', 'wb'))"
   ]
  },
  {
   "cell_type": "code",
   "execution_count": 102,
   "id": "d12e860f",
   "metadata": {},
   "outputs": [
    {
     "data": {
      "text/html": [
       "<div>\n",
       "<style scoped>\n",
       "    .dataframe tbody tr th:only-of-type {\n",
       "        vertical-align: middle;\n",
       "    }\n",
       "\n",
       "    .dataframe tbody tr th {\n",
       "        vertical-align: top;\n",
       "    }\n",
       "\n",
       "    .dataframe thead th {\n",
       "        text-align: right;\n",
       "    }\n",
       "</style>\n",
       "<table border=\"1\" class=\"dataframe\">\n",
       "  <thead>\n",
       "    <tr style=\"text-align: right;\">\n",
       "      <th></th>\n",
       "      <th>0</th>\n",
       "      <th>1</th>\n",
       "      <th>2</th>\n",
       "      <th>3</th>\n",
       "      <th>accuracy</th>\n",
       "      <th>macro avg</th>\n",
       "      <th>weighted avg</th>\n",
       "      <th>train_time</th>\n",
       "      <th>test_time</th>\n",
       "    </tr>\n",
       "  </thead>\n",
       "  <tbody>\n",
       "    <tr>\n",
       "      <th>precision</th>\n",
       "      <td>0.917033</td>\n",
       "      <td>0.942097</td>\n",
       "      <td>0.880022</td>\n",
       "      <td>0.835345</td>\n",
       "      <td>0.892368</td>\n",
       "      <td>0.893624</td>\n",
       "      <td>0.893624</td>\n",
       "      <td>476.462747</td>\n",
       "      <td>15.842448</td>\n",
       "    </tr>\n",
       "    <tr>\n",
       "      <th>recall</th>\n",
       "      <td>0.878421</td>\n",
       "      <td>0.950526</td>\n",
       "      <td>0.830000</td>\n",
       "      <td>0.910526</td>\n",
       "      <td>0.892368</td>\n",
       "      <td>0.892368</td>\n",
       "      <td>0.892368</td>\n",
       "      <td>476.462747</td>\n",
       "      <td>15.842448</td>\n",
       "    </tr>\n",
       "    <tr>\n",
       "      <th>f1-score</th>\n",
       "      <td>0.897312</td>\n",
       "      <td>0.946293</td>\n",
       "      <td>0.854280</td>\n",
       "      <td>0.871317</td>\n",
       "      <td>0.892368</td>\n",
       "      <td>0.892300</td>\n",
       "      <td>0.892300</td>\n",
       "      <td>476.462747</td>\n",
       "      <td>15.842448</td>\n",
       "    </tr>\n",
       "    <tr>\n",
       "      <th>support</th>\n",
       "      <td>1900.000000</td>\n",
       "      <td>1900.000000</td>\n",
       "      <td>1900.000000</td>\n",
       "      <td>1900.000000</td>\n",
       "      <td>0.892368</td>\n",
       "      <td>7600.000000</td>\n",
       "      <td>7600.000000</td>\n",
       "      <td>476.462747</td>\n",
       "      <td>15.842448</td>\n",
       "    </tr>\n",
       "  </tbody>\n",
       "</table>\n",
       "</div>"
      ],
      "text/plain": [
       "                     0            1            2            3  accuracy  \\\n",
       "precision     0.917033     0.942097     0.880022     0.835345  0.892368   \n",
       "recall        0.878421     0.950526     0.830000     0.910526  0.892368   \n",
       "f1-score      0.897312     0.946293     0.854280     0.871317  0.892368   \n",
       "support    1900.000000  1900.000000  1900.000000  1900.000000  0.892368   \n",
       "\n",
       "             macro avg  weighted avg  train_time  test_time  \n",
       "precision     0.893624      0.893624  476.462747  15.842448  \n",
       "recall        0.892368      0.892368  476.462747  15.842448  \n",
       "f1-score      0.892300      0.892300  476.462747  15.842448  \n",
       "support    7600.000000   7600.000000  476.462747  15.842448  "
      ]
     },
     "execution_count": 102,
     "metadata": {},
     "output_type": "execute_result"
    }
   ],
   "source": [
    "news_m1_results"
   ]
  },
  {
   "cell_type": "markdown",
   "id": "5eee0fd0",
   "metadata": {},
   "source": [
    "Based on the provided results of the LSTM model, it appears to be a good starting point for the news classification task. The training accuracy increased with each epoch, while the validation accuracy remained consistently high, suggesting that the model is generalizing well to new data. The validation loss did not increase significantly over the three epochs, indicating that the model is not overfitting. Overall, the model achieved an accuracy of 85.5% on the validation data."
   ]
  },
  {
   "cell_type": "markdown",
   "id": "03c34f80",
   "metadata": {},
   "source": [
    "The test accuracy is 86.9% which is very similar to the validation results, therefore we will try to add dropout layers, or simplify the model architecture."
   ]
  },
  {
   "cell_type": "markdown",
   "id": "ec02252c",
   "metadata": {},
   "source": [
    "#### 3.1.2. LSTM model 2. - dropout and voc and sent length changed"
   ]
  },
  {
   "cell_type": "code",
   "execution_count": 105,
   "id": "a65a7b62",
   "metadata": {},
   "outputs": [],
   "source": [
    "# setting the vocabulary and sentence length\n",
    "voc_size = 20000\n",
    "sent_length = 200\n",
    "embedding_vector_features = 100"
   ]
  },
  {
   "cell_type": "code",
   "execution_count": 106,
   "id": "87312985",
   "metadata": {},
   "outputs": [],
   "source": [
    "X_train = X_train_news.copy()\n",
    "y_train = y_train_news.copy()\n",
    "X_test = X_test_news.copy()\n",
    "y_test = y_test_news.copy()\n",
    "\n",
    "X_train = clean_news_data(X_train)\n",
    "X_test = clean_news_data(X_test)\n",
    "\n",
    "X_train, y_train = preprocessing_news(X_train, y_train, sent_length)\n",
    "X_test, y_test = preprocessing_news(X_test, y_test, sent_length)"
   ]
  },
  {
   "cell_type": "code",
   "execution_count": 107,
   "id": "69462b5f",
   "metadata": {
    "scrolled": true
   },
   "outputs": [
    {
     "name": "stdout",
     "output_type": "stream",
     "text": [
      "Model: \"sequential_6\"\n",
      "_________________________________________________________________\n",
      " Layer (type)                Output Shape              Param #   \n",
      "=================================================================\n",
      " embedding_6 (Embedding)     (None, 200, 100)          2000000   \n",
      "                                                                 \n",
      " bidirectional_5 (Bidirectio  (None, 200)              160800    \n",
      " nal)                                                            \n",
      "                                                                 \n",
      " dense_11 (Dense)            (None, 4)                 804       \n",
      "                                                                 \n",
      "=================================================================\n",
      "Total params: 2,161,604\n",
      "Trainable params: 2,161,604\n",
      "Non-trainable params: 0\n",
      "_________________________________________________________________\n",
      "None\n"
     ]
    }
   ],
   "source": [
    "# creating the base LSTM model\n",
    "\n",
    "model = Sequential()\n",
    "model.add(Embedding(voc_size,embedding_vector_features,input_length=sent_length))\n",
    "model.add(Bidirectional(LSTM(100)))\n",
    "model.add(Dense(4, activation='softmax'))\n",
    "model.compile(loss = 'categorical_crossentropy', optimizer = 'adam', metrics = ['accuracy'])\n",
    "print(model.summary())"
   ]
  },
  {
   "cell_type": "code",
   "execution_count": 108,
   "id": "382996f6",
   "metadata": {},
   "outputs": [
    {
     "name": "stdout",
     "output_type": "stream",
     "text": [
      "2813/2813 [==============================] - 1158s 410ms/step - loss: 0.3505 - accuracy: 0.8797\n"
     ]
    }
   ],
   "source": [
    "# training and predicting\n",
    "\n",
    "start=time.time()\n",
    "model.fit(X_train, y_train)\n",
    "end=time.time()\n",
    "\n",
    "train_time = end - start\n",
    "\n",
    "start=time.time()\n",
    "y_pred = model.predict(X_test)\n",
    "end=time.time()\n",
    "\n",
    "test_time = end - start"
   ]
  },
  {
   "cell_type": "code",
   "execution_count": 109,
   "id": "4f96ad42",
   "metadata": {},
   "outputs": [
    {
     "name": "stderr",
     "output_type": "stream",
     "text": [
      "WARNING:absl:Found untraced functions such as lstm_cell_17_layer_call_fn, lstm_cell_17_layer_call_and_return_conditional_losses, lstm_cell_18_layer_call_fn, lstm_cell_18_layer_call_and_return_conditional_losses while saving (showing 4 of 4). These functions will not be directly callable after loading.\n"
     ]
    },
    {
     "name": "stdout",
     "output_type": "stream",
     "text": [
      "INFO:tensorflow:Assets written to: ram://e042641f-681a-4aa1-a5c8-90f2310b6e63/assets\n"
     ]
    },
    {
     "name": "stderr",
     "output_type": "stream",
     "text": [
      "INFO:tensorflow:Assets written to: ram://e042641f-681a-4aa1-a5c8-90f2310b6e63/assets\n",
      "WARNING:absl:<keras.layers.recurrent.LSTMCell object at 0x000002783CFF9AC0> has the same name 'LSTMCell' as a built-in Keras object. Consider renaming <class 'keras.layers.recurrent.LSTMCell'> to avoid naming conflicts when loading with `tf.keras.models.load_model`. If renaming is not possible, pass the object in the `custom_objects` parameter of the load function.\n",
      "WARNING:absl:<keras.layers.recurrent.LSTMCell object at 0x000002785BCC36D0> has the same name 'LSTMCell' as a built-in Keras object. Consider renaming <class 'keras.layers.recurrent.LSTMCell'> to avoid naming conflicts when loading with `tf.keras.models.load_model`. If renaming is not possible, pass the object in the `custom_objects` parameter of the load function.\n"
     ]
    }
   ],
   "source": [
    "# adjust the y_pred and the y_test\n",
    "y_pred = np.argmax(y_pred, axis = 1)\n",
    "y_test = np.argmax(y_test, axis = 1)\n",
    "\n",
    "news_m2_results = classification_report(y_test, y_pred, output_dict=True)\n",
    "\n",
    "news_m2_results['train_time'] = train_time\n",
    "news_m2_results['test_time'] = test_time\n",
    "news_m2_results = pd.DataFrame.from_dict(news_m2_results)\n",
    "news_m2_results.to_csv('results/lstm/news/model_2.csv')\n",
    "pickle.dump(model, open('models/lstm/news/model_2.sav', 'wb'))"
   ]
  },
  {
   "cell_type": "code",
   "execution_count": 110,
   "id": "53977a7c",
   "metadata": {},
   "outputs": [
    {
     "data": {
      "text/html": [
       "<div>\n",
       "<style scoped>\n",
       "    .dataframe tbody tr th:only-of-type {\n",
       "        vertical-align: middle;\n",
       "    }\n",
       "\n",
       "    .dataframe tbody tr th {\n",
       "        vertical-align: top;\n",
       "    }\n",
       "\n",
       "    .dataframe thead th {\n",
       "        text-align: right;\n",
       "    }\n",
       "</style>\n",
       "<table border=\"1\" class=\"dataframe\">\n",
       "  <thead>\n",
       "    <tr style=\"text-align: right;\">\n",
       "      <th></th>\n",
       "      <th>0</th>\n",
       "      <th>1</th>\n",
       "      <th>2</th>\n",
       "      <th>3</th>\n",
       "      <th>accuracy</th>\n",
       "      <th>macro avg</th>\n",
       "      <th>weighted avg</th>\n",
       "      <th>train_time</th>\n",
       "      <th>test_time</th>\n",
       "    </tr>\n",
       "  </thead>\n",
       "  <tbody>\n",
       "    <tr>\n",
       "      <th>precision</th>\n",
       "      <td>0.914271</td>\n",
       "      <td>0.923077</td>\n",
       "      <td>0.888704</td>\n",
       "      <td>0.882945</td>\n",
       "      <td>0.902763</td>\n",
       "      <td>0.902249</td>\n",
       "      <td>0.902249</td>\n",
       "      <td>1158.448492</td>\n",
       "      <td>32.372607</td>\n",
       "    </tr>\n",
       "    <tr>\n",
       "      <th>recall</th>\n",
       "      <td>0.903684</td>\n",
       "      <td>0.985263</td>\n",
       "      <td>0.844737</td>\n",
       "      <td>0.877368</td>\n",
       "      <td>0.902763</td>\n",
       "      <td>0.902763</td>\n",
       "      <td>0.902763</td>\n",
       "      <td>1158.448492</td>\n",
       "      <td>32.372607</td>\n",
       "    </tr>\n",
       "    <tr>\n",
       "      <th>f1-score</th>\n",
       "      <td>0.908947</td>\n",
       "      <td>0.953157</td>\n",
       "      <td>0.866163</td>\n",
       "      <td>0.880148</td>\n",
       "      <td>0.902763</td>\n",
       "      <td>0.902104</td>\n",
       "      <td>0.902104</td>\n",
       "      <td>1158.448492</td>\n",
       "      <td>32.372607</td>\n",
       "    </tr>\n",
       "    <tr>\n",
       "      <th>support</th>\n",
       "      <td>1900.000000</td>\n",
       "      <td>1900.000000</td>\n",
       "      <td>1900.000000</td>\n",
       "      <td>1900.000000</td>\n",
       "      <td>0.902763</td>\n",
       "      <td>7600.000000</td>\n",
       "      <td>7600.000000</td>\n",
       "      <td>1158.448492</td>\n",
       "      <td>32.372607</td>\n",
       "    </tr>\n",
       "  </tbody>\n",
       "</table>\n",
       "</div>"
      ],
      "text/plain": [
       "                     0            1            2            3  accuracy  \\\n",
       "precision     0.914271     0.923077     0.888704     0.882945  0.902763   \n",
       "recall        0.903684     0.985263     0.844737     0.877368  0.902763   \n",
       "f1-score      0.908947     0.953157     0.866163     0.880148  0.902763   \n",
       "support    1900.000000  1900.000000  1900.000000  1900.000000  0.902763   \n",
       "\n",
       "             macro avg  weighted avg   train_time  test_time  \n",
       "precision     0.902249      0.902249  1158.448492  32.372607  \n",
       "recall        0.902763      0.902763  1158.448492  32.372607  \n",
       "f1-score      0.902104      0.902104  1158.448492  32.372607  \n",
       "support    7600.000000   7600.000000  1158.448492  32.372607  "
      ]
     },
     "execution_count": 110,
     "metadata": {},
     "output_type": "execute_result"
    }
   ],
   "source": [
    "news_m2_results"
   ]
  },
  {
   "cell_type": "code",
   "execution_count": null,
   "id": "485b5c9d",
   "metadata": {},
   "outputs": [],
   "source": [
    "# best result is 87 % accuracy without hyperparameter tuning"
   ]
  }
 ],
 "metadata": {
  "kernelspec": {
   "display_name": "Python 3 (ipykernel)",
   "language": "python",
   "name": "python3"
  },
  "language_info": {
   "codemirror_mode": {
    "name": "ipython",
    "version": 3
   },
   "file_extension": ".py",
   "mimetype": "text/x-python",
   "name": "python",
   "nbconvert_exporter": "python",
   "pygments_lexer": "ipython3",
   "version": "3.9.7"
  }
 },
 "nbformat": 4,
 "nbformat_minor": 5
}
