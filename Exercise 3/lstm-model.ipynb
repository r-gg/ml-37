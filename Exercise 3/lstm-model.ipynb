{
 "cells": [
  {
   "cell_type": "markdown",
   "id": "954ae2ef",
   "metadata": {
    "id": "954ae2ef"
   },
   "source": [
    "# LSTM"
   ]
  },
  {
   "cell_type": "code",
   "execution_count": 1,
   "id": "7425fa09",
   "metadata": {
    "colab": {
     "base_uri": "https://localhost:8080/"
    },
    "executionInfo": {
     "elapsed": 5,
     "status": "ok",
     "timestamp": 1677173971711,
     "user": {
      "displayName": "Branimir Raguž",
      "userId": "04099229421659579348"
     },
     "user_tz": -60
    },
    "id": "7425fa09",
    "outputId": "6f45b260-7abd-446e-f55e-f82df547c325"
   },
   "outputs": [
    {
     "name": "stderr",
     "output_type": "stream",
     "text": [
      "C:\\Users\\User\\AppData\\Local\\Temp/ipykernel_15800/1326900801.py:19: DeprecationWarning: `import kerastuner` is deprecated, please use `import keras_tuner`.\n",
      "  from kerastuner.tuners import RandomSearch\n"
     ]
    }
   ],
   "source": [
    "# imports\n",
    "import time\n",
    "import os\n",
    "import optuna\n",
    "import pickle\n",
    "import pandas as pd\n",
    "import matplotlib.pyplot as plt\n",
    "import seaborn as sns\n",
    "import numpy as np\n",
    "import tensorflow as tf\n",
    "from sklearn.model_selection import train_test_split\n",
    "from sklearn.neural_network import MLPClassifier\n",
    "from sklearn.model_selection import cross_val_score\n",
    "from sklearn.metrics import log_loss, balanced_accuracy_score, precision_score, f1_score, recall_score, classification_report\n",
    "from tensorflow.keras.preprocessing.sequence import pad_sequences\n",
    "from tensorflow.keras.models import Sequential\n",
    "from tensorflow.keras.preprocessing.text import one_hot\n",
    "from tensorflow.keras.layers import LSTM, Bidirectional, Dense, Dropout, Embedding\n",
    "from kerastuner.tuners import RandomSearch\n",
    "from tensorflow.keras.optimizers import Adam\n",
    "from tensorflow.keras.losses import CategoricalCrossentropy\n",
    "from tensorflow.keras.metrics import Accuracy\n",
    "from nltk.corpus import stopwords\n",
    "import re\n",
    "import nltk\n",
    "from nltk.stem import WordNetLemmatizer\n",
    "# nltk.download('wordnet')\n",
    "# nltk.download('stopwords')\n",
    "# nltk.download('punkt')\n",
    "# nltk.download('omw-1.4')"
   ]
  },
  {
   "cell_type": "markdown",
   "id": "9ed92da3",
   "metadata": {
    "id": "9ed92da3"
   },
   "source": [
    "## 1. Data loading and exploration"
   ]
  },
  {
   "cell_type": "code",
   "execution_count": 2,
   "id": "b7c69407",
   "metadata": {
    "executionInfo": {
     "elapsed": 787,
     "status": "ok",
     "timestamp": 1677174001212,
     "user": {
      "displayName": "Branimir Raguž",
      "userId": "04099229421659579348"
     },
     "user_tz": -60
    },
    "id": "b7c69407"
   },
   "outputs": [],
   "source": [
    "ag_news_train_df = pd.read_csv('data/ag_news_train.csv')\n",
    "ag_news_test_df = pd.read_csv('data/ag_news_test.csv')\n",
    "amazon_reviews_df = pd.read_csv('data/cleaned_amazon_reviews.csv')"
   ]
  },
  {
   "cell_type": "code",
   "execution_count": 3,
   "id": "9af11b04",
   "metadata": {
    "colab": {
     "base_uri": "https://localhost:8080/"
    },
    "executionInfo": {
     "elapsed": 37,
     "status": "ok",
     "timestamp": 1677174001213,
     "user": {
      "displayName": "Branimir Raguž",
      "userId": "04099229421659579348"
     },
     "user_tz": -60
    },
    "id": "9af11b04",
    "outputId": "217e9317-7a62-4fba-f563-2f983151a72a"
   },
   "outputs": [
    {
     "data": {
      "text/plain": [
       "(120000, 3)"
      ]
     },
     "execution_count": 3,
     "metadata": {},
     "output_type": "execute_result"
    }
   ],
   "source": [
    "ag_news_train_df.shape"
   ]
  },
  {
   "cell_type": "code",
   "execution_count": 4,
   "id": "dbfc10cc",
   "metadata": {
    "colab": {
     "base_uri": "https://localhost:8080/"
    },
    "executionInfo": {
     "elapsed": 33,
     "status": "ok",
     "timestamp": 1677174001214,
     "user": {
      "displayName": "Branimir Raguž",
      "userId": "04099229421659579348"
     },
     "user_tz": -60
    },
    "id": "dbfc10cc",
    "outputId": "8f370f67-0076-4da1-eb9e-7d23bfc3144e"
   },
   "outputs": [
    {
     "data": {
      "text/plain": [
       "(7600, 3)"
      ]
     },
     "execution_count": 4,
     "metadata": {},
     "output_type": "execute_result"
    }
   ],
   "source": [
    "ag_news_test_df.shape"
   ]
  },
  {
   "cell_type": "code",
   "execution_count": 5,
   "id": "6a40c3a2",
   "metadata": {
    "colab": {
     "base_uri": "https://localhost:8080/",
     "height": 206
    },
    "executionInfo": {
     "elapsed": 29,
     "status": "ok",
     "timestamp": 1677174001215,
     "user": {
      "displayName": "Branimir Raguž",
      "userId": "04099229421659579348"
     },
     "user_tz": -60
    },
    "id": "6a40c3a2",
    "outputId": "8a95b16b-ab22-4bbe-c9ef-287dfad2b4fd"
   },
   "outputs": [
    {
     "data": {
      "text/html": [
       "<div>\n",
       "<style scoped>\n",
       "    .dataframe tbody tr th:only-of-type {\n",
       "        vertical-align: middle;\n",
       "    }\n",
       "\n",
       "    .dataframe tbody tr th {\n",
       "        vertical-align: top;\n",
       "    }\n",
       "\n",
       "    .dataframe thead th {\n",
       "        text-align: right;\n",
       "    }\n",
       "</style>\n",
       "<table border=\"1\" class=\"dataframe\">\n",
       "  <thead>\n",
       "    <tr style=\"text-align: right;\">\n",
       "      <th></th>\n",
       "      <th>Class Index</th>\n",
       "      <th>Title</th>\n",
       "      <th>Description</th>\n",
       "    </tr>\n",
       "  </thead>\n",
       "  <tbody>\n",
       "    <tr>\n",
       "      <th>0</th>\n",
       "      <td>3</td>\n",
       "      <td>Wall St. Bears Claw Back Into the Black (Reuters)</td>\n",
       "      <td>Reuters - Short-sellers, Wall Street's dwindli...</td>\n",
       "    </tr>\n",
       "    <tr>\n",
       "      <th>1</th>\n",
       "      <td>3</td>\n",
       "      <td>Carlyle Looks Toward Commercial Aerospace (Reu...</td>\n",
       "      <td>Reuters - Private investment firm Carlyle Grou...</td>\n",
       "    </tr>\n",
       "    <tr>\n",
       "      <th>2</th>\n",
       "      <td>3</td>\n",
       "      <td>Oil and Economy Cloud Stocks' Outlook (Reuters)</td>\n",
       "      <td>Reuters - Soaring crude prices plus worries\\ab...</td>\n",
       "    </tr>\n",
       "    <tr>\n",
       "      <th>3</th>\n",
       "      <td>3</td>\n",
       "      <td>Iraq Halts Oil Exports from Main Southern Pipe...</td>\n",
       "      <td>Reuters - Authorities have halted oil export\\f...</td>\n",
       "    </tr>\n",
       "    <tr>\n",
       "      <th>4</th>\n",
       "      <td>3</td>\n",
       "      <td>Oil prices soar to all-time record, posing new...</td>\n",
       "      <td>AFP - Tearaway world oil prices, toppling reco...</td>\n",
       "    </tr>\n",
       "  </tbody>\n",
       "</table>\n",
       "</div>"
      ],
      "text/plain": [
       "   Class Index                                              Title  \\\n",
       "0            3  Wall St. Bears Claw Back Into the Black (Reuters)   \n",
       "1            3  Carlyle Looks Toward Commercial Aerospace (Reu...   \n",
       "2            3    Oil and Economy Cloud Stocks' Outlook (Reuters)   \n",
       "3            3  Iraq Halts Oil Exports from Main Southern Pipe...   \n",
       "4            3  Oil prices soar to all-time record, posing new...   \n",
       "\n",
       "                                         Description  \n",
       "0  Reuters - Short-sellers, Wall Street's dwindli...  \n",
       "1  Reuters - Private investment firm Carlyle Grou...  \n",
       "2  Reuters - Soaring crude prices plus worries\\ab...  \n",
       "3  Reuters - Authorities have halted oil export\\f...  \n",
       "4  AFP - Tearaway world oil prices, toppling reco...  "
      ]
     },
     "execution_count": 5,
     "metadata": {},
     "output_type": "execute_result"
    }
   ],
   "source": [
    "ag_news_train_df.head()"
   ]
  },
  {
   "cell_type": "code",
   "execution_count": 6,
   "id": "fbc83f81",
   "metadata": {
    "colab": {
     "base_uri": "https://localhost:8080/"
    },
    "executionInfo": {
     "elapsed": 29,
     "status": "ok",
     "timestamp": 1677174001217,
     "user": {
      "displayName": "Branimir Raguž",
      "userId": "04099229421659579348"
     },
     "user_tz": -60
    },
    "id": "fbc83f81",
    "outputId": "d49f8074-cffd-43ac-c69f-f728dfb1b49d"
   },
   "outputs": [
    {
     "data": {
      "text/plain": [
       "(17340, 4)"
      ]
     },
     "execution_count": 6,
     "metadata": {},
     "output_type": "execute_result"
    }
   ],
   "source": [
    "amazon_reviews_df.shape"
   ]
  },
  {
   "cell_type": "code",
   "execution_count": 7,
   "id": "24aec614",
   "metadata": {
    "colab": {
     "base_uri": "https://localhost:8080/",
     "height": 206
    },
    "executionInfo": {
     "elapsed": 26,
     "status": "ok",
     "timestamp": 1677174001218,
     "user": {
      "displayName": "Branimir Raguž",
      "userId": "04099229421659579348"
     },
     "user_tz": -60
    },
    "id": "24aec614",
    "outputId": "d4c2143c-ac18-4ec1-b98a-d092615a707d"
   },
   "outputs": [
    {
     "data": {
      "text/html": [
       "<div>\n",
       "<style scoped>\n",
       "    .dataframe tbody tr th:only-of-type {\n",
       "        vertical-align: middle;\n",
       "    }\n",
       "\n",
       "    .dataframe tbody tr th {\n",
       "        vertical-align: top;\n",
       "    }\n",
       "\n",
       "    .dataframe thead th {\n",
       "        text-align: right;\n",
       "    }\n",
       "</style>\n",
       "<table border=\"1\" class=\"dataframe\">\n",
       "  <thead>\n",
       "    <tr style=\"text-align: right;\">\n",
       "      <th></th>\n",
       "      <th>sentiments</th>\n",
       "      <th>cleaned_review</th>\n",
       "      <th>cleaned_review_length</th>\n",
       "      <th>review_score</th>\n",
       "    </tr>\n",
       "  </thead>\n",
       "  <tbody>\n",
       "    <tr>\n",
       "      <th>0</th>\n",
       "      <td>positive</td>\n",
       "      <td>i wish would have gotten one earlier love it a...</td>\n",
       "      <td>19</td>\n",
       "      <td>5.0</td>\n",
       "    </tr>\n",
       "    <tr>\n",
       "      <th>1</th>\n",
       "      <td>neutral</td>\n",
       "      <td>i ve learned this lesson again open the packag...</td>\n",
       "      <td>88</td>\n",
       "      <td>1.0</td>\n",
       "    </tr>\n",
       "    <tr>\n",
       "      <th>2</th>\n",
       "      <td>neutral</td>\n",
       "      <td>it is so slow and lags find better option</td>\n",
       "      <td>9</td>\n",
       "      <td>2.0</td>\n",
       "    </tr>\n",
       "    <tr>\n",
       "      <th>3</th>\n",
       "      <td>neutral</td>\n",
       "      <td>roller ball stopped working within months of m...</td>\n",
       "      <td>12</td>\n",
       "      <td>1.0</td>\n",
       "    </tr>\n",
       "    <tr>\n",
       "      <th>4</th>\n",
       "      <td>neutral</td>\n",
       "      <td>i like the color and size but it few days out ...</td>\n",
       "      <td>21</td>\n",
       "      <td>1.0</td>\n",
       "    </tr>\n",
       "  </tbody>\n",
       "</table>\n",
       "</div>"
      ],
      "text/plain": [
       "  sentiments                                     cleaned_review  \\\n",
       "0   positive  i wish would have gotten one earlier love it a...   \n",
       "1    neutral  i ve learned this lesson again open the packag...   \n",
       "2    neutral          it is so slow and lags find better option   \n",
       "3    neutral  roller ball stopped working within months of m...   \n",
       "4    neutral  i like the color and size but it few days out ...   \n",
       "\n",
       "   cleaned_review_length  review_score  \n",
       "0                     19           5.0  \n",
       "1                     88           1.0  \n",
       "2                      9           2.0  \n",
       "3                     12           1.0  \n",
       "4                     21           1.0  "
      ]
     },
     "execution_count": 7,
     "metadata": {},
     "output_type": "execute_result"
    }
   ],
   "source": [
    "amazon_reviews_df.head()"
   ]
  },
  {
   "cell_type": "code",
   "execution_count": 8,
   "id": "97023268",
   "metadata": {
    "colab": {
     "base_uri": "https://localhost:8080/"
    },
    "executionInfo": {
     "elapsed": 25,
     "status": "ok",
     "timestamp": 1677174001219,
     "user": {
      "displayName": "Branimir Raguž",
      "userId": "04099229421659579348"
     },
     "user_tz": -60
    },
    "id": "97023268",
    "outputId": "0f86e185-75e2-4aab-f8a9-e7a489d50d0f"
   },
   "outputs": [
    {
     "data": {
      "text/plain": [
       "sentiments               0\n",
       "cleaned_review           3\n",
       "cleaned_review_length    0\n",
       "review_score             0\n",
       "dtype: int64"
      ]
     },
     "execution_count": 8,
     "metadata": {},
     "output_type": "execute_result"
    }
   ],
   "source": [
    "amazon_reviews_df.isna().sum()"
   ]
  },
  {
   "cell_type": "code",
   "execution_count": 9,
   "id": "2cdd0644",
   "metadata": {
    "colab": {
     "base_uri": "https://localhost:8080/",
     "height": 316
    },
    "executionInfo": {
     "elapsed": 1008,
     "status": "ok",
     "timestamp": 1677174002206,
     "user": {
      "displayName": "Branimir Raguž",
      "userId": "04099229421659579348"
     },
     "user_tz": -60
    },
    "id": "2cdd0644",
    "outputId": "17a5531b-b53e-4af0-e9c2-ccee984cb70a"
   },
   "outputs": [
    {
     "data": {
      "text/plain": [
       "<AxesSubplot:>"
      ]
     },
     "execution_count": 9,
     "metadata": {},
     "output_type": "execute_result"
    },
    {
     "data": {
      "image/png": "[encoded data removed]",
      "text/plain": [
       "<Figure size 432x288 with 1 Axes>"
      ]
     },
     "metadata": {
      "needs_background": "light"
     },
     "output_type": "display_data"
    }
   ],
   "source": [
    "amazon_reviews_df.sentiments.value_counts().plot(kind='bar')"
   ]
  },
  {
   "cell_type": "markdown",
   "id": "66cf4aa4",
   "metadata": {
    "id": "66cf4aa4"
   },
   "source": [
    "Unbalanced target"
   ]
  },
  {
   "cell_type": "code",
   "execution_count": 10,
   "id": "82393d1e",
   "metadata": {
    "colab": {
     "base_uri": "https://localhost:8080/",
     "height": 279
    },
    "executionInfo": {
     "elapsed": 15,
     "status": "ok",
     "timestamp": 1677174002207,
     "user": {
      "displayName": "Branimir Raguž",
      "userId": "04099229421659579348"
     },
     "user_tz": -60
    },
    "id": "82393d1e",
    "outputId": "38f25c47-af27-4177-9555-43e4834c4a1c"
   },
   "outputs": [
    {
     "data": {
      "text/plain": [
       "<AxesSubplot:>"
      ]
     },
     "execution_count": 10,
     "metadata": {},
     "output_type": "execute_result"
    },
    {
     "data": {
      "image/png": "[encoded data removed]",
      "text/plain": [
       "<Figure size 432x288 with 1 Axes>"
      ]
     },
     "metadata": {
      "needs_background": "light"
     },
     "output_type": "display_data"
    }
   ],
   "source": [
    "ag_news_train_df['Class Index'].value_counts().plot(kind='bar')"
   ]
  },
  {
   "cell_type": "markdown",
   "id": "0518b78a",
   "metadata": {
    "id": "0518b78a"
   },
   "source": [
    "Balanced target"
   ]
  },
  {
   "cell_type": "markdown",
   "id": "601b6dfe",
   "metadata": {
    "id": "601b6dfe"
   },
   "source": [
    "#### Distribution of review lengths"
   ]
  },
  {
   "cell_type": "code",
   "execution_count": 11,
   "id": "398fe6df",
   "metadata": {
    "colab": {
     "base_uri": "https://localhost:8080/",
     "height": 352
    },
    "executionInfo": {
     "elapsed": 11,
     "status": "ok",
     "timestamp": 1677174002731,
     "user": {
      "displayName": "Branimir Raguž",
      "userId": "04099229421659579348"
     },
     "user_tz": -60
    },
    "id": "398fe6df",
    "outputId": "e4a7f3f8-211a-427f-d2e3-129fe45f6ae5"
   },
   "outputs": [
    {
     "data": {
      "text/plain": [
       "(array([1.4993e+04, 1.8380e+03, 3.4300e+02, 8.3000e+01, 5.0000e+01,\n",
       "        1.2000e+01, 9.0000e+00, 5.0000e+00, 4.0000e+00, 3.0000e+00]),\n",
       " array([  0. ,  57.1, 114.2, 171.3, 228.4, 285.5, 342.6, 399.7, 456.8,\n",
       "        513.9, 571. ]),\n",
       " <BarContainer object of 10 artists>)"
      ]
     },
     "execution_count": 11,
     "metadata": {},
     "output_type": "execute_result"
    },
    {
     "data": {
      "image/png": "[encoded data removed]",
      "text/plain": [
       "<Figure size 432x288 with 1 Axes>"
      ]
     },
     "metadata": {
      "needs_background": "light"
     },
     "output_type": "display_data"
    }
   ],
   "source": [
    "plt.hist(amazon_reviews_df.cleaned_review_length)"
   ]
  },
  {
   "cell_type": "markdown",
   "id": "48c41a88",
   "metadata": {
    "id": "48c41a88"
   },
   "source": [
    "#### Distribution of the news article lengths"
   ]
  },
  {
   "cell_type": "code",
   "execution_count": 12,
   "id": "bbdc407f",
   "metadata": {
    "colab": {
     "base_uri": "https://localhost:8080/",
     "height": 353
    },
    "executionInfo": {
     "elapsed": 1147,
     "status": "ok",
     "timestamp": 1677174004779,
     "user": {
      "displayName": "Branimir Raguž",
      "userId": "04099229421659579348"
     },
     "user_tz": -60
    },
    "id": "bbdc407f",
    "outputId": "62ef87d1-9738-49b6-d7b8-d5ee5269c1c9"
   },
   "outputs": [
    {
     "data": {
      "text/plain": [
       "(array([4.8100e+03, 6.7638e+04, 4.1664e+04, 4.2770e+03, 1.0700e+03,\n",
       "        2.9800e+02, 9.3000e+01, 9.0000e+01, 2.9000e+01, 3.1000e+01]),\n",
       " array([  6. , 103.9, 201.8, 299.7, 397.6, 495.5, 593.4, 691.3, 789.2,\n",
       "        887.1, 985. ]),\n",
       " <BarContainer object of 10 artists>)"
      ]
     },
     "execution_count": 12,
     "metadata": {},
     "output_type": "execute_result"
    },
    {
     "data": {
      "image/png": "[encoded data removed]",
      "text/plain": [
       "<Figure size 432x288 with 1 Axes>"
      ]
     },
     "metadata": {
      "needs_background": "light"
     },
     "output_type": "display_data"
    }
   ],
   "source": [
    "plt.hist(ag_news_train_df.Description.str.len())"
   ]
  },
  {
   "cell_type": "code",
   "execution_count": 13,
   "id": "21fcdac8",
   "metadata": {
    "colab": {
     "base_uri": "https://localhost:8080/"
    },
    "executionInfo": {
     "elapsed": 16,
     "status": "ok",
     "timestamp": 1677174004780,
     "user": {
      "displayName": "Branimir Raguž",
      "userId": "04099229421659579348"
     },
     "user_tz": -60
    },
    "id": "21fcdac8",
    "outputId": "d9170079-df81-45d0-cfbe-5bc1c19b1b84"
   },
   "outputs": [
    {
     "data": {
      "text/plain": [
       "Class Index    False\n",
       "Title          False\n",
       "Description    False\n",
       "dtype: bool"
      ]
     },
     "execution_count": 13,
     "metadata": {},
     "output_type": "execute_result"
    }
   ],
   "source": [
    "ag_news_train_df.isna().any()"
   ]
  },
  {
   "cell_type": "markdown",
   "id": "698e7635",
   "metadata": {
    "id": "698e7635"
   },
   "source": [
    "#### Removing NaNs"
   ]
  },
  {
   "cell_type": "code",
   "execution_count": 14,
   "id": "c7a01d77",
   "metadata": {
    "executionInfo": {
     "elapsed": 13,
     "status": "ok",
     "timestamp": 1677174004781,
     "user": {
      "displayName": "Branimir Raguž",
      "userId": "04099229421659579348"
     },
     "user_tz": -60
    },
    "id": "c7a01d77"
   },
   "outputs": [],
   "source": [
    "amazon_reviews_df.dropna(inplace=True)"
   ]
  },
  {
   "cell_type": "markdown",
   "id": "c93da568",
   "metadata": {
    "id": "c93da568"
   },
   "source": [
    "## 2. Train/Val/Test split"
   ]
  },
  {
   "cell_type": "code",
   "execution_count": 15,
   "id": "17908955",
   "metadata": {
    "executionInfo": {
     "elapsed": 13,
     "status": "ok",
     "timestamp": 1677174004782,
     "user": {
      "displayName": "Branimir Raguž",
      "userId": "04099229421659579348"
     },
     "user_tz": -60
    },
    "id": "17908955"
   },
   "outputs": [],
   "source": [
    "X_amazon_reviews = amazon_reviews_df.drop(columns=['sentiments'])\n",
    "y_amazon_reviews = amazon_reviews_df['sentiments']"
   ]
  },
  {
   "cell_type": "code",
   "execution_count": 16,
   "id": "34048169",
   "metadata": {
    "executionInfo": {
     "elapsed": 13,
     "status": "ok",
     "timestamp": 1677174004783,
     "user": {
      "displayName": "Branimir Raguž",
      "userId": "04099229421659579348"
     },
     "user_tz": -60
    },
    "id": "34048169"
   },
   "outputs": [],
   "source": [
    "X_train_reviews, X_test_reviews, y_train_reviews, y_test_reviews = train_test_split(X_amazon_reviews,\n",
    "                                                                                   y_amazon_reviews,\n",
    "                                                                                   random_state=42,\n",
    "                                                                                   test_size=0.2)"
   ]
  },
  {
   "cell_type": "code",
   "execution_count": 17,
   "id": "1c12aa1a",
   "metadata": {
    "executionInfo": {
     "elapsed": 14,
     "status": "ok",
     "timestamp": 1677174004784,
     "user": {
      "displayName": "Branimir Raguž",
      "userId": "04099229421659579348"
     },
     "user_tz": -60
    },
    "id": "1c12aa1a"
   },
   "outputs": [],
   "source": [
    "X_train_reviews, X_valid_reviews, y_train_reviews, y_valid_reviews = train_test_split(X_train_reviews,\n",
    "                                                                                     y_train_reviews,\n",
    "                                                                                     random_state=42,\n",
    "                                                                                     test_size = 0.25)"
   ]
  },
  {
   "cell_type": "markdown",
   "id": "f177d90e",
   "metadata": {
    "id": "f177d90e"
   },
   "source": [
    "### Splitting ag news into X and y's"
   ]
  },
  {
   "cell_type": "markdown",
   "id": "9f484ee0",
   "metadata": {
    "id": "9f484ee0"
   },
   "source": [
    "Merging Title and Description into one field, \"Text\""
   ]
  },
  {
   "cell_type": "code",
   "execution_count": 18,
   "id": "674437cf",
   "metadata": {
    "executionInfo": {
     "elapsed": 9480,
     "status": "ok",
     "timestamp": 1677174015105,
     "user": {
      "displayName": "Branimir Raguž",
      "userId": "04099229421659579348"
     },
     "user_tz": -60
    },
    "id": "674437cf"
   },
   "outputs": [],
   "source": [
    "ag_news_train_df['Text'] = ag_news_train_df[['Title', 'Description']].agg(' '.join,axis=1)\n",
    "ag_news_test_df['Text'] = ag_news_test_df[['Title', 'Description']].agg(' '.join,axis=1)"
   ]
  },
  {
   "cell_type": "code",
   "execution_count": 19,
   "id": "0c44f02d",
   "metadata": {
    "colab": {
     "base_uri": "https://localhost:8080/"
    },
    "executionInfo": {
     "elapsed": 17,
     "status": "ok",
     "timestamp": 1677174015106,
     "user": {
      "displayName": "Branimir Raguž",
      "userId": "04099229421659579348"
     },
     "user_tz": -60
    },
    "id": "0c44f02d",
    "outputId": "adb90286-c8cf-4ef4-ea84-58bd107f8034"
   },
   "outputs": [
    {
     "data": {
      "text/plain": [
       "0         Wall St. Bears Claw Back Into the Black (Reute...\n",
       "1         Carlyle Looks Toward Commercial Aerospace (Reu...\n",
       "2         Oil and Economy Cloud Stocks' Outlook (Reuters...\n",
       "3         Iraq Halts Oil Exports from Main Southern Pipe...\n",
       "4         Oil prices soar to all-time record, posing new...\n",
       "                                ...                        \n",
       "119995    Pakistan's Musharraf Says Won't Quit as Army C...\n",
       "119996    Renteria signing a top-shelf deal Red Sox gene...\n",
       "119997    Saban not going to Dolphins yet The Miami Dolp...\n",
       "119998    Today's NFL games PITTSBURGH at NY GIANTS Time...\n",
       "119999    Nets get Carter from Raptors INDIANAPOLIS -- A...\n",
       "Name: Text, Length: 120000, dtype: object"
      ]
     },
     "execution_count": 19,
     "metadata": {},
     "output_type": "execute_result"
    }
   ],
   "source": [
    "ag_news_train_df['Text']"
   ]
  },
  {
   "cell_type": "code",
   "execution_count": 20,
   "id": "4b277978",
   "metadata": {
    "executionInfo": {
     "elapsed": 15,
     "status": "ok",
     "timestamp": 1677174015106,
     "user": {
      "displayName": "Branimir Raguž",
      "userId": "04099229421659579348"
     },
     "user_tz": -60
    },
    "id": "4b277978"
   },
   "outputs": [],
   "source": [
    "X_train_news = ag_news_train_df['Text']\n",
    "y_train_news = ag_news_train_df['Class Index']\n",
    "\n",
    "X_test_news = ag_news_test_df['Text']\n",
    "y_test_news = ag_news_test_df['Class Index']"
   ]
  },
  {
   "cell_type": "code",
   "execution_count": 21,
   "id": "61ec7492",
   "metadata": {
    "executionInfo": {
     "elapsed": 15,
     "status": "ok",
     "timestamp": 1677174015107,
     "user": {
      "displayName": "Branimir Raguž",
      "userId": "04099229421659579348"
     },
     "user_tz": -60
    },
    "id": "61ec7492"
   },
   "outputs": [],
   "source": [
    "X_train_news, X_valid_news, y_train_news, y_valid_news = train_test_split(X_train_news,\n",
    "                                                                          y_train_news,\n",
    "                                                                          random_state=42,\n",
    "                                                                          test_size = 0.25)"
   ]
  },
  {
   "cell_type": "code",
   "execution_count": 22,
   "id": "b6debe4b",
   "metadata": {
    "executionInfo": {
     "elapsed": 3,
     "status": "ok",
     "timestamp": 1677174016071,
     "user": {
      "displayName": "Branimir Raguž",
      "userId": "04099229421659579348"
     },
     "user_tz": -60
    },
    "id": "b6debe4b"
   },
   "outputs": [],
   "source": [
    "# split the data sets accordignly, so we can perform hyperparameter tuning somewhat successfully\n",
    "\n",
    "np.random.seed(42)\n",
    "reviews_train_idx = np.random.choice(y_train_reviews.shape[0], \n",
    "                                     replace=False, size=y_train_reviews.shape[0]//2)\n",
    "news_train_idx = np.random.choice(y_train_news.shape[0], \n",
    "                                     replace=False, size=y_train_news.shape[0]//8)\n",
    "\n",
    "X_train_reviews_half = X_train_reviews.iloc[reviews_train_idx,:]\n",
    "y_train_reviews_half = y_train_reviews.iloc[reviews_train_idx]\n",
    "X_train_news_eight = X_train_news.iloc[news_train_idx]\n",
    "y_train_news_eight = y_train_news.iloc[news_train_idx]"
   ]
  },
  {
   "cell_type": "code",
   "execution_count": 106,
   "id": "16c23f45",
   "metadata": {
    "executionInfo": {
     "elapsed": 3,
     "status": "ok",
     "timestamp": 1677174501354,
     "user": {
      "displayName": "Branimir Raguž",
      "userId": "04099229421659579348"
     },
     "user_tz": -60
    },
    "id": "7750e293"
   },
   "outputs": [],
   "source": [
    "# helper function for the reviews data set\n",
    "\n",
    "def preprocessing_reviews(X, y, sent_length):\n",
    "    X.drop(['cleaned_review_length', 'review_score'], axis=1, inplace=True)\n",
    "    corpus = X['cleaned_review'].values.tolist()\n",
    "    onehot_repr = [one_hot(words, voc_size) for words in corpus] \n",
    "    embedded_docs = pad_sequences(onehot_repr, padding = 'pre', maxlen = sent_length)\n",
    "        \n",
    "    y = pd.get_dummies(y)\n",
    "    \n",
    "    X = np.array(embedded_docs)\n",
    "    y = np.array(y)\n",
    "    \n",
    "    return (X, y)"
   ]
  },
  {
   "cell_type": "code",
   "execution_count": 26,
   "id": "83d45c52",
   "metadata": {
    "executionInfo": {
     "elapsed": 445,
     "status": "ok",
     "timestamp": 1677174286511,
     "user": {
      "displayName": "Branimir Raguž",
      "userId": "04099229421659579348"
     },
     "user_tz": -60
    },
    "id": "72c75354"
   },
   "outputs": [],
   "source": [
    "### helper functions for the news data set \n",
    "\n",
    "# Tokenize the sentence into words\n",
    "lemmatizer = WordNetLemmatizer()\n",
    "\n",
    "def lemmetize_it(sentence):\n",
    "    words = nltk.word_tokenize(sentence)\n",
    "    lemmas = [lemmatizer.lemmatize(word) for word in words]\n",
    "    lemmas_str = ' '.join(lemmas)\n",
    "    return lemmas_str\n",
    "\n",
    "def clean_news_data(X):    \n",
    "    X = X.apply(lambda x: \" \".join(x.lower() for x in x.split()))\n",
    "    X = X.str.replace('[^\\w\\s]','', regex=True)\n",
    "    \n",
    "    stop = stopwords.words('english')\n",
    "    X = X.apply(lambda x: \" \".join(x for x in x.split() if x not in stop))\n",
    "    \n",
    "    # Create a WordNet lemmatizer object\n",
    "    lemmatizer = WordNetLemmatizer()\n",
    "    \n",
    "    X = X.apply(lemmetize_it)\n",
    "    \n",
    "    return(X)\n",
    "\n",
    "def preprocessing_news(X, y, sent_length):\n",
    "    corpus = X.values.tolist()\n",
    "    onehot_repr = [one_hot(words, voc_size) for words in corpus] \n",
    "    embedded_docs = pad_sequences(onehot_repr, padding = 'pre', maxlen = sent_length)\n",
    "        \n",
    "    y = pd.get_dummies(y)\n",
    "    \n",
    "    X = np.array(embedded_docs)\n",
    "    y = np.array(y)\n",
    "    \n",
    "    return (X, y)"
   ]
  },
  {
   "cell_type": "markdown",
   "id": "6209c298",
   "metadata": {
    "id": "6209c298"
   },
   "source": [
    "## 3. Model development - Reviews"
   ]
  },
  {
   "cell_type": "markdown",
   "id": "56ac5d9c",
   "metadata": {
    "id": "56ac5d9c"
   },
   "source": [
    "### 3.1. Model 1 - base model\n",
    "The parameters were as follows:  \n",
    "voc_size = 5000  \n",
    "sent_length = 40  \n",
    "embedding_vector_features = 40  \n",
    "\n",
    "The average sentence length of the data is 34, so we chose 40 in the begining to try to capture more of the information. As the data set is small, a slightly bigger sentence length will not take us much longer to train it. And, the rest of the parameters were chosen randomly but that they make sense in the context of the data and the model."
   ]
  },
  {
   "cell_type": "code",
   "execution_count": 27,
   "id": "22c054aa",
   "metadata": {
    "id": "22c054aa"
   },
   "outputs": [],
   "source": [
    "# setting the vocabulary and sentence length\n",
    "voc_size = 5000\n",
    "sent_length = 40\n",
    "embedding_vector_features = 40"
   ]
  },
  {
   "cell_type": "code",
   "execution_count": 28,
   "id": "414fe350",
   "metadata": {
    "id": "414fe350"
   },
   "outputs": [],
   "source": [
    "X_train = X_train_reviews.copy()\n",
    "y_train = y_train_reviews.copy()\n",
    "X_test = X_test_reviews.copy()\n",
    "y_test = y_test_reviews.copy()\n",
    "X_valid = X_valid_reviews.copy()\n",
    "y_valid = y_valid_reviews.copy()"
   ]
  },
  {
   "cell_type": "code",
   "execution_count": 29,
   "id": "db502edb",
   "metadata": {
    "colab": {
     "base_uri": "https://localhost:8080/",
     "height": 206
    },
    "executionInfo": {
     "elapsed": 6,
     "status": "ok",
     "timestamp": 1677161870347,
     "user": {
      "displayName": "Branimir Raguž",
      "userId": "04099229421659579348"
     },
     "user_tz": -60
    },
    "id": "a933c1e7",
    "outputId": "ae325d7b-a683-420c-ceb2-a2ba417ad614"
   },
   "outputs": [
    {
     "data": {
      "text/html": [
       "<div>\n",
       "<style scoped>\n",
       "    .dataframe tbody tr th:only-of-type {\n",
       "        vertical-align: middle;\n",
       "    }\n",
       "\n",
       "    .dataframe tbody tr th {\n",
       "        vertical-align: top;\n",
       "    }\n",
       "\n",
       "    .dataframe thead th {\n",
       "        text-align: right;\n",
       "    }\n",
       "</style>\n",
       "<table border=\"1\" class=\"dataframe\">\n",
       "  <thead>\n",
       "    <tr style=\"text-align: right;\">\n",
       "      <th></th>\n",
       "      <th>cleaned_review</th>\n",
       "      <th>cleaned_review_length</th>\n",
       "      <th>review_score</th>\n",
       "    </tr>\n",
       "  </thead>\n",
       "  <tbody>\n",
       "    <tr>\n",
       "      <th>11652</th>\n",
       "      <td>i do love this product but bought it think had...</td>\n",
       "      <td>19</td>\n",
       "      <td>4.0</td>\n",
       "    </tr>\n",
       "    <tr>\n",
       "      <th>7240</th>\n",
       "      <td>this mouse works very well and has very long b...</td>\n",
       "      <td>16</td>\n",
       "      <td>5.0</td>\n",
       "    </tr>\n",
       "    <tr>\n",
       "      <th>16483</th>\n",
       "      <td>just like described very pleased we also had a...</td>\n",
       "      <td>45</td>\n",
       "      <td>5.0</td>\n",
       "    </tr>\n",
       "    <tr>\n",
       "      <th>13353</th>\n",
       "      <td>our year old son asked for this headset for hi...</td>\n",
       "      <td>44</td>\n",
       "      <td>5.0</td>\n",
       "    </tr>\n",
       "    <tr>\n",
       "      <th>6024</th>\n",
       "      <td>nice looking mouse beautiful colors and comfor...</td>\n",
       "      <td>69</td>\n",
       "      <td>5.0</td>\n",
       "    </tr>\n",
       "  </tbody>\n",
       "</table>\n",
       "</div>"
      ],
      "text/plain": [
       "                                          cleaned_review  \\\n",
       "11652  i do love this product but bought it think had...   \n",
       "7240   this mouse works very well and has very long b...   \n",
       "16483  just like described very pleased we also had a...   \n",
       "13353  our year old son asked for this headset for hi...   \n",
       "6024   nice looking mouse beautiful colors and comfor...   \n",
       "\n",
       "       cleaned_review_length  review_score  \n",
       "11652                     19           4.0  \n",
       "7240                      16           5.0  \n",
       "16483                     45           5.0  \n",
       "13353                     44           5.0  \n",
       "6024                      69           5.0  "
      ]
     },
     "execution_count": 29,
     "metadata": {},
     "output_type": "execute_result"
    }
   ],
   "source": [
    "X_train.head()"
   ]
  },
  {
   "cell_type": "code",
   "execution_count": 30,
   "id": "7d22adcf",
   "metadata": {
    "id": "7d22adcf"
   },
   "outputs": [],
   "source": [
    "X_train, y_train = preprocessing_reviews(X_train, y_train, sent_length)\n",
    "X_valid, y_valid = preprocessing_reviews(X_valid, y_valid, sent_length)\n",
    "X_test, y_test = preprocessing_reviews(X_test, y_test, sent_length)"
   ]
  },
  {
   "cell_type": "code",
   "execution_count": 32,
   "id": "376334ed",
   "metadata": {},
   "outputs": [
    {
     "data": {
      "text/plain": [
       "array([[   0,    0,    0, ..., 1531, 2939, 1414],\n",
       "       [   0,    0,    0, ..., 2986, 2351,  135],\n",
       "       [ 411, 2359, 1975, ...,  936, 4769, 1114],\n",
       "       ...,\n",
       "       [   0,    0,    0, ..., 2551, 3916,  135],\n",
       "       [   0,    0,    0, ..., 4725,  181, 4086],\n",
       "       [   0,    0,    0, ..., 4199, 3080, 1434]])"
      ]
     },
     "execution_count": 32,
     "metadata": {},
     "output_type": "execute_result"
    }
   ],
   "source": [
    "X_train"
   ]
  },
  {
   "cell_type": "code",
   "execution_count": null,
   "id": "e6919d64",
   "metadata": {
    "colab": {
     "base_uri": "https://localhost:8080/"
    },
    "executionInfo": {
     "elapsed": 2491,
     "status": "ok",
     "timestamp": 1677161877211,
     "user": {
      "displayName": "Branimir Raguž",
      "userId": "04099229421659579348"
     },
     "user_tz": -60
    },
    "id": "e6919d64",
    "outputId": "4981d184-b62f-4eec-b216-1c5ba2f752cd",
    "scrolled": true
   },
   "outputs": [
    {
     "name": "stdout",
     "output_type": "stream",
     "text": [
      "Model: \"sequential\"\n",
      "_________________________________________________________________\n",
      " Layer (type)                Output Shape              Param #   \n",
      "=================================================================\n",
      " embedding (Embedding)       (None, 40, 40)            200000    \n",
      "                                                                 \n",
      " lstm (LSTM)                 (None, 100)               56400     \n",
      "                                                                 \n",
      " dense (Dense)               (None, 3)                 303       \n",
      "                                                                 \n",
      "=================================================================\n",
      "Total params: 256,703\n",
      "Trainable params: 256,703\n",
      "Non-trainable params: 0\n",
      "_________________________________________________________________\n",
      "None\n"
     ]
    }
   ],
   "source": [
    "# creating the base LSTM model\n",
    "\n",
    "model = Sequential()\n",
    "model.add(Embedding(voc_size,embedding_vector_features,input_length=sent_length))\n",
    "model.add(LSTM(100))\n",
    "model.add(Dense(3, activation='softmax'))\n",
    "model.compile(loss = 'categorical_crossentropy', optimizer = 'adam', metrics = ['accuracy'])\n",
    "print(model.summary())"
   ]
  },
  {
   "cell_type": "markdown",
   "id": "11fcbe5c",
   "metadata": {
    "id": "11fcbe5c"
   },
   "source": [
    "We first ran the model.fit on the training data and tested it out on the validation data. We used 3 epochs to see if the model will overfit.  \n",
    "The results show that the model is overfitting the training data and not generalizing well to the validation data. This can be seen from the increasing difference between training accuracy and validation accuracy as the number of epochs increases.\n",
    "\n",
    "The training accuracy increases up to 95.6% while the validation accuracy only reaches 82.15%. This suggests that the model is memorizing the training data rather than learning the underlying patterns that can be generalized to the validation set.\n",
    "\n",
    "The loss is also decreasing on the training set, but increasing on the validation set. This further supports the overfitting issue.\n",
    "\n",
    "\n",
    "To address the overfitting issue, we will try using regularization techniques like dropout, or simplifying the model architecture."
   ]
  },
  {
   "cell_type": "code",
   "execution_count": null,
   "id": "eaa865f9",
   "metadata": {
    "colab": {
     "base_uri": "https://localhost:8080/"
    },
    "executionInfo": {
     "elapsed": 34678,
     "status": "ok",
     "timestamp": 1677161917825,
     "user": {
      "displayName": "Branimir Raguž",
      "userId": "04099229421659579348"
     },
     "user_tz": -60
    },
    "id": "eaa865f9",
    "outputId": "06940f63-5ee0-4b34-a727-3a1eeda08c30"
   },
   "outputs": [
    {
     "name": "stdout",
     "output_type": "stream",
     "text": [
      "326/326 [==============================] - 32s 72ms/step - loss: 0.6501 - accuracy: 0.7115\n",
      "109/109 [==============================] - 2s 15ms/step\n"
     ]
    }
   ],
   "source": [
    "# training and predicting\n",
    "\n",
    "start=time.time()\n",
    "model.fit(X_train, y_train)\n",
    "end=time.time()\n",
    "\n",
    "train_time = end - start\n",
    "\n",
    "start=time.time()\n",
    "y_pred = model.predict(X_test)\n",
    "end=time.time()\n",
    "\n",
    "test_time = end - start"
   ]
  },
  {
   "cell_type": "code",
   "execution_count": null,
   "id": "7ab7d401",
   "metadata": {
    "colab": {
     "base_uri": "https://localhost:8080/"
    },
    "executionInfo": {
     "elapsed": 4259,
     "status": "ok",
     "timestamp": 1677161932502,
     "user": {
      "displayName": "Branimir Raguž",
      "userId": "04099229421659579348"
     },
     "user_tz": -60
    },
    "id": "7ab7d401",
    "outputId": "cee9dd86-2d46-4459-921d-5cb1f31368cc"
   },
   "outputs": [
    {
     "name": "stdout",
     "output_type": "stream",
     "text": [
      "Keras weights file (<HDF5 file \"variables.h5\" (mode r+)>) saving:\n",
      "...layers\n",
      "......dense\n",
      ".........vars\n",
      "............0\n",
      "............1\n",
      "......embedding\n",
      ".........vars\n",
      "............0\n",
      "......lstm\n",
      ".........cell\n",
      "............vars\n",
      "...............0\n",
      "...............1\n",
      "...............2\n",
      ".........vars\n",
      "...metrics\n",
      "......mean\n",
      ".........vars\n",
      "............0\n",
      "............1\n",
      "......mean_metric_wrapper\n",
      ".........vars\n",
      "............0\n",
      "............1\n",
      "...optimizer\n",
      "......vars\n",
      ".........0\n",
      ".........1\n",
      ".........10\n",
      ".........11\n",
      ".........12\n",
      ".........2\n",
      ".........3\n",
      ".........4\n",
      ".........5\n",
      ".........6\n",
      ".........7\n",
      ".........8\n",
      ".........9\n",
      "...vars\n",
      "Keras model archive saving:\n",
      "File Name                                             Modified             Size\n",
      "metadata.json                                  2023-02-23 14:18:52           64\n",
      "config.json                                    2023-02-23 14:18:52         2204\n",
      "variables.h5                                   2023-02-23 14:18:53      3107104\n"
     ]
    }
   ],
   "source": [
    "# adjust the y_pred and the y_test\n",
    "y_pred = np.argmax(y_pred, axis = 1)\n",
    "y_test = np.argmax(y_test, axis = 1)\n",
    "\n",
    "reviews_m1_results = classification_report(y_test, y_pred, output_dict=True)\n",
    "\n",
    "reviews_m1_results['train_time'] = train_time\n",
    "reviews_m1_results['test_time'] = test_time\n",
    "reviews_m1_results = pd.DataFrame.from_dict(reviews_m1_results)\n",
    "reviews_m1_results.to_csv('results/lstm/reviews/model_1.csv')\n",
    "pickle.dump(model, open('models/lstm/reviews/model_1.sav', 'wb'))"
   ]
  },
  {
   "cell_type": "code",
   "execution_count": null,
   "id": "24427355",
   "metadata": {
    "colab": {
     "base_uri": "https://localhost:8080/",
     "height": 174
    },
    "executionInfo": {
     "elapsed": 739,
     "status": "ok",
     "timestamp": 1677161940949,
     "user": {
      "displayName": "Branimir Raguž",
      "userId": "04099229421659579348"
     },
     "user_tz": -60
    },
    "id": "24427355",
    "outputId": "c623025c-1a6f-482b-fe87-d94668924283"
   },
   "outputs": [
    {
     "data": {
      "text/html": [
       "\n",
       "  <div id=\"df-8de6fb15-2385-444d-83e4-731193e1cf04\">\n",
       "    <div class=\"colab-df-container\">\n",
       "      <div>\n",
       "<style scoped>\n",
       "    .dataframe tbody tr th:only-of-type {\n",
       "        vertical-align: middle;\n",
       "    }\n",
       "\n",
       "    .dataframe tbody tr th {\n",
       "        vertical-align: top;\n",
       "    }\n",
       "\n",
       "    .dataframe thead th {\n",
       "        text-align: right;\n",
       "    }\n",
       "</style>\n",
       "<table border=\"1\" class=\"dataframe\">\n",
       "  <thead>\n",
       "    <tr style=\"text-align: right;\">\n",
       "      <th></th>\n",
       "      <th>0</th>\n",
       "      <th>1</th>\n",
       "      <th>2</th>\n",
       "      <th>accuracy</th>\n",
       "      <th>macro avg</th>\n",
       "      <th>weighted avg</th>\n",
       "      <th>train_time</th>\n",
       "      <th>test_time</th>\n",
       "    </tr>\n",
       "  </thead>\n",
       "  <tbody>\n",
       "    <tr>\n",
       "      <th>precision</th>\n",
       "      <td>0.607143</td>\n",
       "      <td>0.678799</td>\n",
       "      <td>0.897140</td>\n",
       "      <td>0.791522</td>\n",
       "      <td>0.727694</td>\n",
       "      <td>0.792227</td>\n",
       "      <td>32.089595</td>\n",
       "      <td>2.254562</td>\n",
       "    </tr>\n",
       "    <tr>\n",
       "      <th>recall</th>\n",
       "      <td>0.161905</td>\n",
       "      <td>0.851763</td>\n",
       "      <td>0.856168</td>\n",
       "      <td>0.791522</td>\n",
       "      <td>0.623279</td>\n",
       "      <td>0.791522</td>\n",
       "      <td>32.089595</td>\n",
       "      <td>2.254562</td>\n",
       "    </tr>\n",
       "    <tr>\n",
       "      <th>f1-score</th>\n",
       "      <td>0.255639</td>\n",
       "      <td>0.755508</td>\n",
       "      <td>0.876175</td>\n",
       "      <td>0.791522</td>\n",
       "      <td>0.629107</td>\n",
       "      <td>0.776388</td>\n",
       "      <td>32.089595</td>\n",
       "      <td>2.254562</td>\n",
       "    </tr>\n",
       "    <tr>\n",
       "      <th>support</th>\n",
       "      <td>315.000000</td>\n",
       "      <td>1248.000000</td>\n",
       "      <td>1905.000000</td>\n",
       "      <td>0.791522</td>\n",
       "      <td>3468.000000</td>\n",
       "      <td>3468.000000</td>\n",
       "      <td>32.089595</td>\n",
       "      <td>2.254562</td>\n",
       "    </tr>\n",
       "  </tbody>\n",
       "</table>\n",
       "</div>\n",
       "      <button class=\"colab-df-convert\" onclick=\"convertToInteractive('df-8de6fb15-2385-444d-83e4-731193e1cf04')\"\n",
       "              title=\"Convert this dataframe to an interactive table.\"\n",
       "              style=\"display:none;\">\n",
       "        \n",
       "  <svg xmlns=\"http://www.w3.org/2000/svg\" height=\"24px\"viewBox=\"0 0 24 24\"\n",
       "       width=\"24px\">\n",
       "    <path d=\"M0 0h24v24H0V0z\" fill=\"none\"/>\n",
       "    <path d=\"M18.56 5.44l.94 2.06.94-2.06 2.06-.94-2.06-.94-.94-2.06-.94 2.06-2.06.94zm-11 1L8.5 8.5l.94-2.06 2.06-.94-2.06-.94L8.5 2.5l-.94 2.06-2.06.94zm10 10l.94 2.06.94-2.06 2.06-.94-2.06-.94-.94-2.06-.94 2.06-2.06.94z\"/><path d=\"M17.41 7.96l-1.37-1.37c-.4-.4-.92-.59-1.43-.59-.52 0-1.04.2-1.43.59L10.3 9.45l-7.72 7.72c-.78.78-.78 2.05 0 2.83L4 21.41c.39.39.9.59 1.41.59.51 0 1.02-.2 1.41-.59l7.78-7.78 2.81-2.81c.8-.78.8-2.07 0-2.86zM5.41 20L4 18.59l7.72-7.72 1.47 1.35L5.41 20z\"/>\n",
       "  </svg>\n",
       "      </button>\n",
       "      \n",
       "  <style>\n",
       "    .colab-df-container {\n",
       "      display:flex;\n",
       "      flex-wrap:wrap;\n",
       "      gap: 12px;\n",
       "    }\n",
       "\n",
       "    .colab-df-convert {\n",
       "      background-color: #E8F0FE;\n",
       "      border: none;\n",
       "      border-radius: 50%;\n",
       "      cursor: pointer;\n",
       "      display: none;\n",
       "      fill: #1967D2;\n",
       "      height: 32px;\n",
       "      padding: 0 0 0 0;\n",
       "      width: 32px;\n",
       "    }\n",
       "\n",
       "    .colab-df-convert:hover {\n",
       "      background-color: #E2EBFA;\n",
       "      box-shadow: 0px 1px 2px rgba(60, 64, 67, 0.3), 0px 1px 3px 1px rgba(60, 64, 67, 0.15);\n",
       "      fill: #174EA6;\n",
       "    }\n",
       "\n",
       "    [theme=dark] .colab-df-convert {\n",
       "      background-color: #3B4455;\n",
       "      fill: #D2E3FC;\n",
       "    }\n",
       "\n",
       "    [theme=dark] .colab-df-convert:hover {\n",
       "      background-color: #434B5C;\n",
       "      box-shadow: 0px 1px 3px 1px rgba(0, 0, 0, 0.15);\n",
       "      filter: drop-shadow(0px 1px 2px rgba(0, 0, 0, 0.3));\n",
       "      fill: #FFFFFF;\n",
       "    }\n",
       "  </style>\n",
       "\n",
       "      <script>\n",
       "        const buttonEl =\n",
       "          document.querySelector('#df-8de6fb15-2385-444d-83e4-731193e1cf04 button.colab-df-convert');\n",
       "        buttonEl.style.display =\n",
       "          google.colab.kernel.accessAllowed ? 'block' : 'none';\n",
       "\n",
       "        async function convertToInteractive(key) {\n",
       "          const element = document.querySelector('#df-8de6fb15-2385-444d-83e4-731193e1cf04');\n",
       "          const dataTable =\n",
       "            await google.colab.kernel.invokeFunction('convertToInteractive',\n",
       "                                                     [key], {});\n",
       "          if (!dataTable) return;\n",
       "\n",
       "          const docLinkHtml = 'Like what you see? Visit the ' +\n",
       "            '<a target=\"_blank\" href=https://colab.research.google.com/notebooks/data_table.ipynb>data table notebook</a>'\n",
       "            + ' to learn more about interactive tables.';\n",
       "          element.innerHTML = '';\n",
       "          dataTable['output_type'] = 'display_data';\n",
       "          await google.colab.output.renderOutput(dataTable, element);\n",
       "          const docLink = document.createElement('div');\n",
       "          docLink.innerHTML = docLinkHtml;\n",
       "          element.appendChild(docLink);\n",
       "        }\n",
       "      </script>\n",
       "    </div>\n",
       "  </div>\n",
       "  "
      ],
      "text/plain": [
       "                    0            1            2  accuracy    macro avg  \\\n",
       "precision    0.607143     0.678799     0.897140  0.791522     0.727694   \n",
       "recall       0.161905     0.851763     0.856168  0.791522     0.623279   \n",
       "f1-score     0.255639     0.755508     0.876175  0.791522     0.629107   \n",
       "support    315.000000  1248.000000  1905.000000  0.791522  3468.000000   \n",
       "\n",
       "           weighted avg  train_time  test_time  \n",
       "precision      0.792227   32.089595   2.254562  \n",
       "recall         0.791522   32.089595   2.254562  \n",
       "f1-score       0.776388   32.089595   2.254562  \n",
       "support     3468.000000   32.089595   2.254562  "
      ]
     },
     "execution_count": 53,
     "metadata": {},
     "output_type": "execute_result"
    }
   ],
   "source": [
    "reviews_m1_results"
   ]
  },
  {
   "cell_type": "markdown",
   "id": "91239aa1",
   "metadata": {
    "id": "91239aa1"
   },
   "source": [
    "The test accuracy is 79 % which is very similar to the validation results, but this is a balanced accuracy, and the model.fit was a normal accuracy which doesn't take into account the distribution of the target variable properly. Furthermore, we will try to add dropout layers, or simplify the model architecture."
   ]
  },
  {
   "cell_type": "markdown",
   "id": "623bede6",
   "metadata": {
    "id": "623bede6"
   },
   "source": [
    "### 3.2. Model 1 - base model with dropout added\n",
    "Essentially, we will just add two dropout layers with the probability of neurons not firing at 30%. We just want to see if this small data context, it will make any difference."
   ]
  },
  {
   "cell_type": "code",
   "execution_count": null,
   "id": "1c656a95",
   "metadata": {
    "colab": {
     "base_uri": "https://localhost:8080/"
    },
    "executionInfo": {
     "elapsed": 1635,
     "status": "ok",
     "timestamp": 1677161949784,
     "user": {
      "displayName": "Branimir Raguž",
      "userId": "04099229421659579348"
     },
     "user_tz": -60
    },
    "id": "1c656a95",
    "outputId": "1c03e343-9e66-4ea2-f02d-b3906247de04"
   },
   "outputs": [
    {
     "name": "stdout",
     "output_type": "stream",
     "text": [
      "Model: \"sequential_1\"\n",
      "_________________________________________________________________\n",
      " Layer (type)                Output Shape              Param #   \n",
      "=================================================================\n",
      " embedding_1 (Embedding)     (None, 40, 40)            200000    \n",
      "                                                                 \n",
      " dropout (Dropout)           (None, 40, 40)            0         \n",
      "                                                                 \n",
      " lstm_1 (LSTM)               (None, 100)               56400     \n",
      "                                                                 \n",
      " dropout_1 (Dropout)         (None, 100)               0         \n",
      "                                                                 \n",
      " dense_1 (Dense)             (None, 3)                 303       \n",
      "                                                                 \n",
      "=================================================================\n",
      "Total params: 256,703\n",
      "Trainable params: 256,703\n",
      "Non-trainable params: 0\n",
      "_________________________________________________________________\n",
      "None\n"
     ]
    }
   ],
   "source": [
    "embedding_vector_features = 40\n",
    "model = Sequential()\n",
    "model.add(Embedding(voc_size,embedding_vector_features,input_length=sent_length))\n",
    "model.add(Dropout(0.3))\n",
    "model.add(LSTM(100))\n",
    "model.add(Dropout(0.3))\n",
    "model.add(Dense(3,activation='softmax'))\n",
    "model.compile(loss = 'categorical_crossentropy', optimizer = 'adam', metrics = ['accuracy', tf.keras.metrics.Recall(), tf.keras.metrics.Precision()])\n",
    "print(model.summary())"
   ]
  },
  {
   "cell_type": "code",
   "execution_count": null,
   "id": "e8495525",
   "metadata": {
    "colab": {
     "base_uri": "https://localhost:8080/"
    },
    "executionInfo": {
     "elapsed": 25760,
     "status": "ok",
     "timestamp": 1677161976406,
     "user": {
      "displayName": "Branimir Raguž",
      "userId": "04099229421659579348"
     },
     "user_tz": -60
    },
    "id": "e8495525",
    "outputId": "387f88be-077b-400d-a4c8-e637108f24de"
   },
   "outputs": [
    {
     "name": "stdout",
     "output_type": "stream",
     "text": [
      "326/326 [==============================] - 22s 55ms/step - loss: 0.6817 - accuracy: 0.6936 - recall: 0.5980 - precision: 0.7490\n",
      "109/109 [==============================] - 2s 14ms/step\n"
     ]
    }
   ],
   "source": [
    "# training and predicting\n",
    "\n",
    "start=time.time()\n",
    "model.fit(X_train, y_train)\n",
    "end=time.time()\n",
    "\n",
    "train_time = end - start\n",
    "\n",
    "start=time.time()\n",
    "y_pred = model.predict(X_test)\n",
    "end=time.time()\n",
    "\n",
    "test_time = end - start"
   ]
  },
  {
   "cell_type": "code",
   "execution_count": null,
   "id": "54b06ee1",
   "metadata": {
    "colab": {
     "base_uri": "https://localhost:8080/"
    },
    "executionInfo": {
     "elapsed": 1837,
     "status": "ok",
     "timestamp": 1677161978229,
     "user": {
      "displayName": "Branimir Raguž",
      "userId": "04099229421659579348"
     },
     "user_tz": -60
    },
    "id": "54b06ee1",
    "outputId": "e34af9ea-0192-4ffe-c9cb-0150dd5501b6"
   },
   "outputs": [
    {
     "name": "stdout",
     "output_type": "stream",
     "text": [
      "Keras weights file (<HDF5 file \"variables.h5\" (mode r+)>) saving:\n",
      "...layers\n",
      "......dense\n",
      ".........vars\n",
      "............0\n",
      "............1\n",
      "......dropout\n",
      ".........vars\n",
      "......dropout_1\n",
      ".........vars\n",
      "......embedding\n",
      ".........vars\n",
      "............0\n",
      "......lstm\n",
      ".........cell\n",
      "............vars\n",
      "...............0\n",
      "...............1\n",
      "...............2\n",
      ".........vars\n",
      "...metrics\n",
      "......mean\n",
      ".........vars\n",
      "............0\n",
      "............1\n",
      "......mean_metric_wrapper\n",
      ".........vars\n",
      "............0\n",
      "............1\n",
      "......precision\n",
      ".........vars\n",
      "............0\n",
      "............1\n",
      "......recall\n",
      ".........vars\n",
      "............0\n",
      "............1\n",
      "...optimizer\n",
      "......vars\n",
      ".........0\n",
      ".........1\n",
      ".........10\n",
      ".........11\n",
      ".........12\n",
      ".........2\n",
      ".........3\n",
      ".........4\n",
      ".........5\n",
      ".........6\n",
      ".........7\n",
      ".........8\n",
      ".........9\n",
      "...vars\n",
      "Keras model archive saving:\n",
      "File Name                                             Modified             Size\n",
      "metadata.json                                  2023-02-23 14:19:38           64\n",
      "config.json                                    2023-02-23 14:19:38         2874\n",
      "variables.h5                                   2023-02-23 14:19:38      3115792\n"
     ]
    }
   ],
   "source": [
    "# adjust the y_pred and the y_test\n",
    "y_pred = np.argmax(y_pred, axis = 1)\n",
    "# y_test = np.argmax(y_test, axis = 1)\n",
    "\n",
    "reviews_m2_results = classification_report(y_test, y_pred, output_dict=True)\n",
    "\n",
    "reviews_m2_results['train_time'] = train_time\n",
    "reviews_m2_results['test_time'] = test_time\n",
    "reviews_m2_results = pd.DataFrame.from_dict(reviews_m2_results)\n",
    "reviews_m2_results.to_csv('results/lstm/reviews/model_2.csv')\n",
    "pickle.dump(model, open('models/lstm/reviews/model_2.sav', 'wb'))"
   ]
  },
  {
   "cell_type": "code",
   "execution_count": null,
   "id": "bcc9a44a",
   "metadata": {
    "colab": {
     "base_uri": "https://localhost:8080/",
     "height": 174
    },
    "executionInfo": {
     "elapsed": 486,
     "status": "ok",
     "timestamp": 1677162014131,
     "user": {
      "displayName": "Branimir Raguž",
      "userId": "04099229421659579348"
     },
     "user_tz": -60
    },
    "id": "bcc9a44a",
    "outputId": "871a185d-c3b7-40e9-d04e-17ee57d87c93"
   },
   "outputs": [
    {
     "data": {
      "text/html": [
       "\n",
       "  <div id=\"df-e7ddbb9e-005e-4322-bcf8-b4090a37195b\">\n",
       "    <div class=\"colab-df-container\">\n",
       "      <div>\n",
       "<style scoped>\n",
       "    .dataframe tbody tr th:only-of-type {\n",
       "        vertical-align: middle;\n",
       "    }\n",
       "\n",
       "    .dataframe tbody tr th {\n",
       "        vertical-align: top;\n",
       "    }\n",
       "\n",
       "    .dataframe thead th {\n",
       "        text-align: right;\n",
       "    }\n",
       "</style>\n",
       "<table border=\"1\" class=\"dataframe\">\n",
       "  <thead>\n",
       "    <tr style=\"text-align: right;\">\n",
       "      <th></th>\n",
       "      <th>0</th>\n",
       "      <th>1</th>\n",
       "      <th>2</th>\n",
       "      <th>accuracy</th>\n",
       "      <th>macro avg</th>\n",
       "      <th>weighted avg</th>\n",
       "      <th>train_time</th>\n",
       "      <th>test_time</th>\n",
       "    </tr>\n",
       "  </thead>\n",
       "  <tbody>\n",
       "    <tr>\n",
       "      <th>precision</th>\n",
       "      <td>0.652174</td>\n",
       "      <td>0.675316</td>\n",
       "      <td>0.886863</td>\n",
       "      <td>0.788927</td>\n",
       "      <td>0.738118</td>\n",
       "      <td>0.789419</td>\n",
       "      <td>24.234262</td>\n",
       "      <td>2.115632</td>\n",
       "    </tr>\n",
       "    <tr>\n",
       "      <th>recall</th>\n",
       "      <td>0.047619</td>\n",
       "      <td>0.854968</td>\n",
       "      <td>0.868241</td>\n",
       "      <td>0.788927</td>\n",
       "      <td>0.590276</td>\n",
       "      <td>0.788927</td>\n",
       "      <td>24.234262</td>\n",
       "      <td>2.115632</td>\n",
       "    </tr>\n",
       "    <tr>\n",
       "      <th>f1-score</th>\n",
       "      <td>0.088757</td>\n",
       "      <td>0.754597</td>\n",
       "      <td>0.877454</td>\n",
       "      <td>0.788927</td>\n",
       "      <td>0.573603</td>\n",
       "      <td>0.761605</td>\n",
       "      <td>24.234262</td>\n",
       "      <td>2.115632</td>\n",
       "    </tr>\n",
       "    <tr>\n",
       "      <th>support</th>\n",
       "      <td>315.000000</td>\n",
       "      <td>1248.000000</td>\n",
       "      <td>1905.000000</td>\n",
       "      <td>0.788927</td>\n",
       "      <td>3468.000000</td>\n",
       "      <td>3468.000000</td>\n",
       "      <td>24.234262</td>\n",
       "      <td>2.115632</td>\n",
       "    </tr>\n",
       "  </tbody>\n",
       "</table>\n",
       "</div>\n",
       "      <button class=\"colab-df-convert\" onclick=\"convertToInteractive('df-e7ddbb9e-005e-4322-bcf8-b4090a37195b')\"\n",
       "              title=\"Convert this dataframe to an interactive table.\"\n",
       "              style=\"display:none;\">\n",
       "        \n",
       "  <svg xmlns=\"http://www.w3.org/2000/svg\" height=\"24px\"viewBox=\"0 0 24 24\"\n",
       "       width=\"24px\">\n",
       "    <path d=\"M0 0h24v24H0V0z\" fill=\"none\"/>\n",
       "    <path d=\"M18.56 5.44l.94 2.06.94-2.06 2.06-.94-2.06-.94-.94-2.06-.94 2.06-2.06.94zm-11 1L8.5 8.5l.94-2.06 2.06-.94-2.06-.94L8.5 2.5l-.94 2.06-2.06.94zm10 10l.94 2.06.94-2.06 2.06-.94-2.06-.94-.94-2.06-.94 2.06-2.06.94z\"/><path d=\"M17.41 7.96l-1.37-1.37c-.4-.4-.92-.59-1.43-.59-.52 0-1.04.2-1.43.59L10.3 9.45l-7.72 7.72c-.78.78-.78 2.05 0 2.83L4 21.41c.39.39.9.59 1.41.59.51 0 1.02-.2 1.41-.59l7.78-7.78 2.81-2.81c.8-.78.8-2.07 0-2.86zM5.41 20L4 18.59l7.72-7.72 1.47 1.35L5.41 20z\"/>\n",
       "  </svg>\n",
       "      </button>\n",
       "      \n",
       "  <style>\n",
       "    .colab-df-container {\n",
       "      display:flex;\n",
       "      flex-wrap:wrap;\n",
       "      gap: 12px;\n",
       "    }\n",
       "\n",
       "    .colab-df-convert {\n",
       "      background-color: #E8F0FE;\n",
       "      border: none;\n",
       "      border-radius: 50%;\n",
       "      cursor: pointer;\n",
       "      display: none;\n",
       "      fill: #1967D2;\n",
       "      height: 32px;\n",
       "      padding: 0 0 0 0;\n",
       "      width: 32px;\n",
       "    }\n",
       "\n",
       "    .colab-df-convert:hover {\n",
       "      background-color: #E2EBFA;\n",
       "      box-shadow: 0px 1px 2px rgba(60, 64, 67, 0.3), 0px 1px 3px 1px rgba(60, 64, 67, 0.15);\n",
       "      fill: #174EA6;\n",
       "    }\n",
       "\n",
       "    [theme=dark] .colab-df-convert {\n",
       "      background-color: #3B4455;\n",
       "      fill: #D2E3FC;\n",
       "    }\n",
       "\n",
       "    [theme=dark] .colab-df-convert:hover {\n",
       "      background-color: #434B5C;\n",
       "      box-shadow: 0px 1px 3px 1px rgba(0, 0, 0, 0.15);\n",
       "      filter: drop-shadow(0px 1px 2px rgba(0, 0, 0, 0.3));\n",
       "      fill: #FFFFFF;\n",
       "    }\n",
       "  </style>\n",
       "\n",
       "      <script>\n",
       "        const buttonEl =\n",
       "          document.querySelector('#df-e7ddbb9e-005e-4322-bcf8-b4090a37195b button.colab-df-convert');\n",
       "        buttonEl.style.display =\n",
       "          google.colab.kernel.accessAllowed ? 'block' : 'none';\n",
       "\n",
       "        async function convertToInteractive(key) {\n",
       "          const element = document.querySelector('#df-e7ddbb9e-005e-4322-bcf8-b4090a37195b');\n",
       "          const dataTable =\n",
       "            await google.colab.kernel.invokeFunction('convertToInteractive',\n",
       "                                                     [key], {});\n",
       "          if (!dataTable) return;\n",
       "\n",
       "          const docLinkHtml = 'Like what you see? Visit the ' +\n",
       "            '<a target=\"_blank\" href=https://colab.research.google.com/notebooks/data_table.ipynb>data table notebook</a>'\n",
       "            + ' to learn more about interactive tables.';\n",
       "          element.innerHTML = '';\n",
       "          dataTable['output_type'] = 'display_data';\n",
       "          await google.colab.output.renderOutput(dataTable, element);\n",
       "          const docLink = document.createElement('div');\n",
       "          docLink.innerHTML = docLinkHtml;\n",
       "          element.appendChild(docLink);\n",
       "        }\n",
       "      </script>\n",
       "    </div>\n",
       "  </div>\n",
       "  "
      ],
      "text/plain": [
       "                    0            1            2  accuracy    macro avg  \\\n",
       "precision    0.652174     0.675316     0.886863  0.788927     0.738118   \n",
       "recall       0.047619     0.854968     0.868241  0.788927     0.590276   \n",
       "f1-score     0.088757     0.754597     0.877454  0.788927     0.573603   \n",
       "support    315.000000  1248.000000  1905.000000  0.788927  3468.000000   \n",
       "\n",
       "           weighted avg  train_time  test_time  \n",
       "precision      0.789419   24.234262   2.115632  \n",
       "recall         0.788927   24.234262   2.115632  \n",
       "f1-score       0.761605   24.234262   2.115632  \n",
       "support     3468.000000   24.234262   2.115632  "
      ]
     },
     "execution_count": 59,
     "metadata": {},
     "output_type": "execute_result"
    }
   ],
   "source": [
    "reviews_m2_results"
   ]
  },
  {
   "cell_type": "markdown",
   "id": "187d9e76",
   "metadata": {
    "id": "187d9e76"
   },
   "source": [
    "After adding two dropout layers with the probability of 0.3, we get an accuracy of 78% which isn't an improvement really.  \n",
    "We will now change the voc_size and the sent_length to see if that can make the results better, and then we will experiment with the model architecture and all of the parameters in hyperparameter tuning."
   ]
  },
  {
   "cell_type": "markdown",
   "id": "77aa9dee",
   "metadata": {
    "id": "77aa9dee"
   },
   "source": [
    "### 3.3. Model 3 - bigger parameters\n",
    "We generally tried a bit bigger parameters because then the model can capture more information, as stated earlier, and we do not risk losing on performance."
   ]
  },
  {
   "cell_type": "code",
   "execution_count": null,
   "id": "728ef2fe",
   "metadata": {
    "id": "728ef2fe"
   },
   "outputs": [],
   "source": [
    "# setting the vocabulary and sentence length\n",
    "voc_size = 10000\n",
    "sent_length = 100\n",
    "embedding_vector_features = 60"
   ]
  },
  {
   "cell_type": "code",
   "execution_count": null,
   "id": "9f80604b",
   "metadata": {
    "id": "9f80604b"
   },
   "outputs": [],
   "source": [
    "X_train = X_train_reviews.copy()\n",
    "y_train = y_train_reviews.copy()\n",
    "X_test = X_test_reviews.copy()\n",
    "y_test = y_test_reviews.copy()\n",
    "X_valid = X_valid_reviews.copy()\n",
    "y_valid = y_valid_reviews.copy()\n",
    "\n",
    "X_train, y_train = preprocessing_reviews(X_train, y_train, sent_length)\n",
    "X_valid, y_valid = preprocessing_reviews(X_valid, y_valid, sent_length)\n",
    "X_test, y_test = preprocessing_reviews(X_test, y_test, sent_length)"
   ]
  },
  {
   "cell_type": "code",
   "execution_count": null,
   "id": "c06b7355",
   "metadata": {
    "colab": {
     "base_uri": "https://localhost:8080/"
    },
    "executionInfo": {
     "elapsed": 1164,
     "status": "ok",
     "timestamp": 1677162017825,
     "user": {
      "displayName": "Branimir Raguž",
      "userId": "04099229421659579348"
     },
     "user_tz": -60
    },
    "id": "c06b7355",
    "outputId": "f09b5072-dff8-4ff7-9507-bb7e2c3bd2c4",
    "scrolled": true
   },
   "outputs": [
    {
     "name": "stdout",
     "output_type": "stream",
     "text": [
      "Model: \"sequential_2\"\n",
      "_________________________________________________________________\n",
      " Layer (type)                Output Shape              Param #   \n",
      "=================================================================\n",
      " embedding_2 (Embedding)     (None, 100, 60)           600000    \n",
      "                                                                 \n",
      " bidirectional (Bidirectiona  (None, 200)              128800    \n",
      " l)                                                              \n",
      "                                                                 \n",
      " dense_2 (Dense)             (None, 3)                 603       \n",
      "                                                                 \n",
      "=================================================================\n",
      "Total params: 729,403\n",
      "Trainable params: 729,403\n",
      "Non-trainable params: 0\n",
      "_________________________________________________________________\n",
      "None\n"
     ]
    }
   ],
   "source": [
    "# creating the base LSTM model\n",
    "\n",
    "model = Sequential()\n",
    "model.add(Embedding(voc_size,embedding_vector_features,input_length=sent_length))\n",
    "model.add(Bidirectional(LSTM(100)))\n",
    "model.add(Dense(3, activation='softmax'))\n",
    "model.compile(loss = 'categorical_crossentropy', optimizer = 'adam', metrics = ['accuracy'])\n",
    "print(model.summary())"
   ]
  },
  {
   "cell_type": "code",
   "execution_count": null,
   "id": "edf9bf33",
   "metadata": {
    "colab": {
     "base_uri": "https://localhost:8080/"
    },
    "executionInfo": {
     "elapsed": 96135,
     "status": "ok",
     "timestamp": 1677162113955,
     "user": {
      "displayName": "Branimir Raguž",
      "userId": "04099229421659579348"
     },
     "user_tz": -60
    },
    "id": "edf9bf33",
    "outputId": "57138873-5318-4624-e198-1f7d2892c4c4"
   },
   "outputs": [
    {
     "name": "stdout",
     "output_type": "stream",
     "text": [
      "326/326 [==============================] - 73s 207ms/step - loss: 0.6552 - accuracy: 0.7150\n",
      "109/109 [==============================] - 8s 68ms/step\n"
     ]
    }
   ],
   "source": [
    "# training and predicting\n",
    "\n",
    "start=time.time()\n",
    "model.fit(X_train, y_train)\n",
    "end=time.time()\n",
    "\n",
    "train_time = end - start\n",
    "\n",
    "start=time.time()\n",
    "y_pred = model.predict(X_test)\n",
    "end=time.time()\n",
    "\n",
    "test_time = end - start"
   ]
  },
  {
   "cell_type": "code",
   "execution_count": null,
   "id": "9c121baf",
   "metadata": {
    "colab": {
     "base_uri": "https://localhost:8080/"
    },
    "executionInfo": {
     "elapsed": 2675,
     "status": "ok",
     "timestamp": 1677162124775,
     "user": {
      "displayName": "Branimir Raguž",
      "userId": "04099229421659579348"
     },
     "user_tz": -60
    },
    "id": "9c121baf",
    "outputId": "dc0b646f-6085-4977-d245-2c8c88249dd7"
   },
   "outputs": [
    {
     "name": "stdout",
     "output_type": "stream",
     "text": [
      "Keras weights file (<HDF5 file \"variables.h5\" (mode r+)>) saving:\n",
      "...layers\n",
      "......bidirectional\n",
      ".........backward_layer\n",
      "............cell\n",
      "...............vars\n",
      "..................0\n",
      "..................1\n",
      "..................2\n",
      "............vars\n",
      ".........forward_layer\n",
      "............cell\n",
      "...............vars\n",
      "..................0\n",
      "..................1\n",
      "..................2\n",
      "............vars\n",
      ".........layer\n",
      "............cell\n",
      "...............vars\n",
      "............vars\n",
      ".........vars\n",
      "......dense\n",
      ".........vars\n",
      "............0\n",
      "............1\n",
      "......embedding\n",
      ".........vars\n",
      "............0\n",
      "...metrics\n",
      "......mean\n",
      ".........vars\n",
      "............0\n",
      "............1\n",
      "......mean_metric_wrapper\n",
      ".........vars\n",
      "............0\n",
      "............1\n",
      "...optimizer\n",
      "......vars\n",
      ".........0\n",
      ".........1\n",
      ".........10\n",
      ".........11\n",
      ".........12\n",
      ".........13\n",
      ".........14\n",
      ".........15\n",
      ".........16\n",
      ".........17\n",
      ".........18\n",
      ".........2\n",
      ".........3\n",
      ".........4\n",
      ".........5\n",
      ".........6\n",
      ".........7\n",
      ".........8\n",
      ".........9\n",
      "...vars\n",
      "Keras model archive saving:\n",
      "File Name                                             Modified             Size\n",
      "metadata.json                                  2023-02-23 14:22:04           64\n",
      "config.json                                    2023-02-23 14:22:04         2361\n",
      "variables.h5                                   2023-02-23 14:22:05      8791448\n"
     ]
    }
   ],
   "source": [
    "# adjust the y_pred and the y_test\n",
    "y_pred = np.argmax(y_pred, axis = 1)\n",
    "# y_test = np.argmax(y_test, axis = 1)\n",
    "\n",
    "reviews_m3_results = classification_report(y_test, y_pred, output_dict=True)\n",
    "\n",
    "reviews_m3_results['train_time'] = train_time\n",
    "reviews_m3_results['test_time'] = test_time\n",
    "reviews_m3_results = pd.DataFrame.from_dict(reviews_m3_results)\n",
    "reviews_m3_results.to_csv('results/lstm/reviews/model_3.csv')\n",
    "pickle.dump(model, open('models/lstm/reviews/model_3.sav', 'wb'))"
   ]
  },
  {
   "cell_type": "code",
   "execution_count": null,
   "id": "2b249ff9",
   "metadata": {
    "colab": {
     "base_uri": "https://localhost:8080/",
     "height": 174
    },
    "executionInfo": {
     "elapsed": 437,
     "status": "ok",
     "timestamp": 1677162125209,
     "user": {
      "displayName": "Branimir Raguž",
      "userId": "04099229421659579348"
     },
     "user_tz": -60
    },
    "id": "2b249ff9",
    "outputId": "96634493-6976-4d0f-c7c6-53b83db3fc32"
   },
   "outputs": [
    {
     "data": {
      "text/html": [
       "\n",
       "  <div id=\"df-694d1bac-aa99-4b71-8c69-431bc02c82f5\">\n",
       "    <div class=\"colab-df-container\">\n",
       "      <div>\n",
       "<style scoped>\n",
       "    .dataframe tbody tr th:only-of-type {\n",
       "        vertical-align: middle;\n",
       "    }\n",
       "\n",
       "    .dataframe tbody tr th {\n",
       "        vertical-align: top;\n",
       "    }\n",
       "\n",
       "    .dataframe thead th {\n",
       "        text-align: right;\n",
       "    }\n",
       "</style>\n",
       "<table border=\"1\" class=\"dataframe\">\n",
       "  <thead>\n",
       "    <tr style=\"text-align: right;\">\n",
       "      <th></th>\n",
       "      <th>0</th>\n",
       "      <th>1</th>\n",
       "      <th>2</th>\n",
       "      <th>accuracy</th>\n",
       "      <th>macro avg</th>\n",
       "      <th>weighted avg</th>\n",
       "      <th>train_time</th>\n",
       "      <th>test_time</th>\n",
       "    </tr>\n",
       "  </thead>\n",
       "  <tbody>\n",
       "    <tr>\n",
       "      <th>precision</th>\n",
       "      <td>0.673077</td>\n",
       "      <td>0.669109</td>\n",
       "      <td>0.906074</td>\n",
       "      <td>0.790657</td>\n",
       "      <td>0.749420</td>\n",
       "      <td>0.799636</td>\n",
       "      <td>87.403893</td>\n",
       "      <td>8.382079</td>\n",
       "    </tr>\n",
       "    <tr>\n",
       "      <th>recall</th>\n",
       "      <td>0.111111</td>\n",
       "      <td>0.878205</td>\n",
       "      <td>0.845669</td>\n",
       "      <td>0.790657</td>\n",
       "      <td>0.611662</td>\n",
       "      <td>0.790657</td>\n",
       "      <td>87.403893</td>\n",
       "      <td>8.382079</td>\n",
       "    </tr>\n",
       "    <tr>\n",
       "      <th>f1-score</th>\n",
       "      <td>0.190736</td>\n",
       "      <td>0.759529</td>\n",
       "      <td>0.874830</td>\n",
       "      <td>0.790657</td>\n",
       "      <td>0.608365</td>\n",
       "      <td>0.771201</td>\n",
       "      <td>87.403893</td>\n",
       "      <td>8.382079</td>\n",
       "    </tr>\n",
       "    <tr>\n",
       "      <th>support</th>\n",
       "      <td>315.000000</td>\n",
       "      <td>1248.000000</td>\n",
       "      <td>1905.000000</td>\n",
       "      <td>0.790657</td>\n",
       "      <td>3468.000000</td>\n",
       "      <td>3468.000000</td>\n",
       "      <td>87.403893</td>\n",
       "      <td>8.382079</td>\n",
       "    </tr>\n",
       "  </tbody>\n",
       "</table>\n",
       "</div>\n",
       "      <button class=\"colab-df-convert\" onclick=\"convertToInteractive('df-694d1bac-aa99-4b71-8c69-431bc02c82f5')\"\n",
       "              title=\"Convert this dataframe to an interactive table.\"\n",
       "              style=\"display:none;\">\n",
       "        \n",
       "  <svg xmlns=\"http://www.w3.org/2000/svg\" height=\"24px\"viewBox=\"0 0 24 24\"\n",
       "       width=\"24px\">\n",
       "    <path d=\"M0 0h24v24H0V0z\" fill=\"none\"/>\n",
       "    <path d=\"M18.56 5.44l.94 2.06.94-2.06 2.06-.94-2.06-.94-.94-2.06-.94 2.06-2.06.94zm-11 1L8.5 8.5l.94-2.06 2.06-.94-2.06-.94L8.5 2.5l-.94 2.06-2.06.94zm10 10l.94 2.06.94-2.06 2.06-.94-2.06-.94-.94-2.06-.94 2.06-2.06.94z\"/><path d=\"M17.41 7.96l-1.37-1.37c-.4-.4-.92-.59-1.43-.59-.52 0-1.04.2-1.43.59L10.3 9.45l-7.72 7.72c-.78.78-.78 2.05 0 2.83L4 21.41c.39.39.9.59 1.41.59.51 0 1.02-.2 1.41-.59l7.78-7.78 2.81-2.81c.8-.78.8-2.07 0-2.86zM5.41 20L4 18.59l7.72-7.72 1.47 1.35L5.41 20z\"/>\n",
       "  </svg>\n",
       "      </button>\n",
       "      \n",
       "  <style>\n",
       "    .colab-df-container {\n",
       "      display:flex;\n",
       "      flex-wrap:wrap;\n",
       "      gap: 12px;\n",
       "    }\n",
       "\n",
       "    .colab-df-convert {\n",
       "      background-color: #E8F0FE;\n",
       "      border: none;\n",
       "      border-radius: 50%;\n",
       "      cursor: pointer;\n",
       "      display: none;\n",
       "      fill: #1967D2;\n",
       "      height: 32px;\n",
       "      padding: 0 0 0 0;\n",
       "      width: 32px;\n",
       "    }\n",
       "\n",
       "    .colab-df-convert:hover {\n",
       "      background-color: #E2EBFA;\n",
       "      box-shadow: 0px 1px 2px rgba(60, 64, 67, 0.3), 0px 1px 3px 1px rgba(60, 64, 67, 0.15);\n",
       "      fill: #174EA6;\n",
       "    }\n",
       "\n",
       "    [theme=dark] .colab-df-convert {\n",
       "      background-color: #3B4455;\n",
       "      fill: #D2E3FC;\n",
       "    }\n",
       "\n",
       "    [theme=dark] .colab-df-convert:hover {\n",
       "      background-color: #434B5C;\n",
       "      box-shadow: 0px 1px 3px 1px rgba(0, 0, 0, 0.15);\n",
       "      filter: drop-shadow(0px 1px 2px rgba(0, 0, 0, 0.3));\n",
       "      fill: #FFFFFF;\n",
       "    }\n",
       "  </style>\n",
       "\n",
       "      <script>\n",
       "        const buttonEl =\n",
       "          document.querySelector('#df-694d1bac-aa99-4b71-8c69-431bc02c82f5 button.colab-df-convert');\n",
       "        buttonEl.style.display =\n",
       "          google.colab.kernel.accessAllowed ? 'block' : 'none';\n",
       "\n",
       "        async function convertToInteractive(key) {\n",
       "          const element = document.querySelector('#df-694d1bac-aa99-4b71-8c69-431bc02c82f5');\n",
       "          const dataTable =\n",
       "            await google.colab.kernel.invokeFunction('convertToInteractive',\n",
       "                                                     [key], {});\n",
       "          if (!dataTable) return;\n",
       "\n",
       "          const docLinkHtml = 'Like what you see? Visit the ' +\n",
       "            '<a target=\"_blank\" href=https://colab.research.google.com/notebooks/data_table.ipynb>data table notebook</a>'\n",
       "            + ' to learn more about interactive tables.';\n",
       "          element.innerHTML = '';\n",
       "          dataTable['output_type'] = 'display_data';\n",
       "          await google.colab.output.renderOutput(dataTable, element);\n",
       "          const docLink = document.createElement('div');\n",
       "          docLink.innerHTML = docLinkHtml;\n",
       "          element.appendChild(docLink);\n",
       "        }\n",
       "      </script>\n",
       "    </div>\n",
       "  </div>\n",
       "  "
      ],
      "text/plain": [
       "                    0            1            2  accuracy    macro avg  \\\n",
       "precision    0.673077     0.669109     0.906074  0.790657     0.749420   \n",
       "recall       0.111111     0.878205     0.845669  0.790657     0.611662   \n",
       "f1-score     0.190736     0.759529     0.874830  0.790657     0.608365   \n",
       "support    315.000000  1248.000000  1905.000000  0.790657  3468.000000   \n",
       "\n",
       "           weighted avg  train_time  test_time  \n",
       "precision      0.799636   87.403893   8.382079  \n",
       "recall         0.790657   87.403893   8.382079  \n",
       "f1-score       0.771201   87.403893   8.382079  \n",
       "support     3468.000000   87.403893   8.382079  "
      ]
     },
     "execution_count": 66,
     "metadata": {},
     "output_type": "execute_result"
    }
   ],
   "source": [
    "reviews_m3_results"
   ]
  },
  {
   "cell_type": "markdown",
   "id": "7d6b3092",
   "metadata": {
    "id": "7d6b3092"
   },
   "source": [
    "The best result is 84 % accuracy, which is an improvement, it mostly happened because we increased the size of the features, and the sent length, and the voc size, so it managed to capture more information. Of, course it does train longer than but that is the trade off we must accept."
   ]
  },
  {
   "cell_type": "markdown",
   "id": "134bef3c",
   "metadata": {
    "id": "134bef3c"
   },
   "source": [
    "### Reviews, Hyperparameter tuning"
   ]
  },
  {
   "cell_type": "markdown",
   "id": "cef11ace",
   "metadata": {},
   "source": [
    "We experimented with essentially all of the parameters in our setting except. Furthermore, we added another layer to the model to see if different dense activation, and number of units will improve the model. In the begining with our experimentation, we tried different multi layer models, and it really didn't improve the model, so we just included in in the hyperparameter tuning to see if it finds the best model by itself."
   ]
  },
  {
   "cell_type": "code",
   "execution_count": null,
   "id": "38ac60ef",
   "metadata": {
    "id": "38ac60ef"
   },
   "outputs": [],
   "source": [
    "X_train = X_train_reviews_half.copy()\n",
    "y_train = y_train_reviews_half.copy()\n",
    "X_test = X_test_reviews.copy()\n",
    "y_test = y_test_reviews.copy()\n",
    "X_valid = X_valid_reviews.copy()\n",
    "y_valid = y_valid_reviews.copy()\n",
    "\n",
    "X_train, y_train = preprocessing_reviews(X_train, y_train, sent_length)\n",
    "X_valid, y_valid = preprocessing_reviews(X_valid, y_valid, sent_length)\n",
    "X_test, y_test = preprocessing_reviews(X_test, y_test, sent_length)"
   ]
  },
  {
   "cell_type": "code",
   "execution_count": null,
   "id": "28d363ab",
   "metadata": {
    "id": "28d363ab"
   },
   "outputs": [],
   "source": [
    "def create_model(hp):\n",
    "    model = Sequential()\n",
    "    model.add(Embedding(\n",
    "        input_dim=hp.Int('voc_size', 5000, 20000, step=2500),\n",
    "        output_dim=hp.Int('embedding_size', 32, 128, 32),\n",
    "        input_length = 100))    \n",
    "    model.add(Bidirectional(LSTM(units=hp.Int('LSTM_units', 32, 128, 32))))\n",
    "    model.add(Dense(units=hp.Int('dense_units', 10, 50, 10), activation=hp.Choice('dense_activation', values=['relu', 'sigmoid', 'tanh'])))\n",
    "    model.add(Dense(units=3, activation='softmax'))\n",
    "    model.compile(\n",
    "        optimizer=Adam(hp.Choice('learning_rate', values=[0.01, 0.001, 0.0001])),\n",
    "        loss=CategoricalCrossentropy(),\n",
    "        metrics=[Accuracy()]\n",
    "    )\n",
    "    return model"
   ]
  },
  {
   "cell_type": "code",
   "execution_count": null,
   "id": "c1ce7579",
   "metadata": {
    "id": "c1ce7579",
    "outputId": "5db11bc1-ceee-48a5-ee75-bc642e84e47c"
   },
   "outputs": [
    {
     "name": "stdout",
     "output_type": "stream",
     "text": [
      "INFO:tensorflow:Reloading Tuner from tuning\\movie_review_sentiment_analysis\\tuner0.json\n"
     ]
    },
    {
     "name": "stderr",
     "output_type": "stream",
     "text": [
      "INFO:tensorflow:Reloading Tuner from tuning\\movie_review_sentiment_analysis\\tuner0.json\n"
     ]
    }
   ],
   "source": [
    "tuner = RandomSearch(\n",
    "    create_model,\n",
    "    objective='val_accuracy',\n",
    "    max_trials=10,\n",
    "    executions_per_trial=3,\n",
    "    directory='tuning',\n",
    "    project_name='movie_review_sentiment_analysis'\n",
    ")"
   ]
  },
  {
   "cell_type": "code",
   "execution_count": null,
   "id": "1d4f6111",
   "metadata": {
    "id": "1d4f6111",
    "outputId": "f6faacbf-0ec5-47f1-a057-f2bca9cff533"
   },
   "outputs": [
    {
     "name": "stdout",
     "output_type": "stream",
     "text": [
      "INFO:tensorflow:Oracle triggered exit\n"
     ]
    },
    {
     "name": "stderr",
     "output_type": "stream",
     "text": [
      "INFO:tensorflow:Oracle triggered exit\n"
     ]
    }
   ],
   "source": [
    "tuner.search(X_train, y_train, epochs=3, validation_data=(X_valid, y_valid))"
   ]
  },
  {
   "cell_type": "code",
   "execution_count": null,
   "id": "44402ff2",
   "metadata": {
    "id": "44402ff2"
   },
   "outputs": [],
   "source": [
    "best_hyperparameters = tuner.get_best_hyperparameters(num_trials=1)[0]\n",
    "model = tuner.hypermodel.build(best_hyperparameters)"
   ]
  },
  {
   "cell_type": "code",
   "execution_count": null,
   "id": "6f802381",
   "metadata": {
    "id": "6f802381",
    "outputId": "59466d3c-ed96-4bcc-aaae-8f0a58c52f83"
   },
   "outputs": [
    {
     "data": {
      "text/plain": [
       "{'voc_size': 7500,\n",
       " 'embedding_size': 64,\n",
       " 'sent_length': 90,\n",
       " 'LSTM_units': 64,\n",
       " 'dense_units': 50,\n",
       " 'dense_activation': 'relu',\n",
       " 'learning_rate': 0.01}"
      ]
     },
     "execution_count": 84,
     "metadata": {},
     "output_type": "execute_result"
    }
   ],
   "source": [
    "best_hyperparameters.values"
   ]
  },
  {
   "cell_type": "markdown",
   "id": "b3c3a92f",
   "metadata": {
    "id": "282c3fd0"
   },
   "source": [
    "### 3.4. Model 4 - with best parameters\n",
    "\n",
    "{ 'voc_size': 7500,  \n",
    " 'embedding_size': 64,  \n",
    " 'sent_length': 90,  \n",
    " 'LSTM_units': 64,  \n",
    " 'dense_units': 50,  \n",
    " 'dense_activation': 'relu',  \n",
    " 'learning_rate': 0.01 }"
   ]
  },
  {
   "cell_type": "code",
   "execution_count": null,
   "id": "2683677c",
   "metadata": {
    "id": "2683677c"
   },
   "outputs": [],
   "source": [
    "# setting the vocabulary and sentence length\n",
    "voc_size = 7500\n",
    "sent_length = 90\n",
    "embedding_vector_features = 64"
   ]
  },
  {
   "cell_type": "code",
   "execution_count": null,
   "id": "9d863fb0",
   "metadata": {
    "id": "9d863fb0"
   },
   "outputs": [],
   "source": [
    "X_train = X_train_reviews.copy()\n",
    "y_train = y_train_reviews.copy()\n",
    "X_test = X_test_reviews.copy()\n",
    "y_test = y_test_reviews.copy()\n",
    "X_valid = X_valid_reviews.copy()\n",
    "y_valid = y_valid_reviews.copy()\n",
    "\n",
    "X_train, y_train = preprocessing_reviews(X_train, y_train, sent_length)\n",
    "X_valid, y_valid = preprocessing_reviews(X_valid, y_valid, sent_length)\n",
    "X_test, y_test = preprocessing_reviews(X_test, y_test, sent_length)"
   ]
  },
  {
   "cell_type": "code",
   "execution_count": null,
   "id": "57e5c6d2",
   "metadata": {
    "colab": {
     "base_uri": "https://localhost:8080/"
    },
    "executionInfo": {
     "elapsed": 525,
     "status": "ok",
     "timestamp": 1677162151264,
     "user": {
      "displayName": "Branimir Raguž",
      "userId": "04099229421659579348"
     },
     "user_tz": -60
    },
    "id": "57e5c6d2",
    "outputId": "ebffc6b8-9a5e-4564-db41-273e0ebe49d4"
   },
   "outputs": [
    {
     "name": "stdout",
     "output_type": "stream",
     "text": [
      "Model: \"sequential_3\"\n",
      "_________________________________________________________________\n",
      " Layer (type)                Output Shape              Param #   \n",
      "=================================================================\n",
      " embedding_3 (Embedding)     (None, 90, 64)            480000    \n",
      "                                                                 \n",
      " bidirectional_1 (Bidirectio  (None, 128)              66048     \n",
      " nal)                                                            \n",
      "                                                                 \n",
      " dense_3 (Dense)             (None, 50)                6450      \n",
      "                                                                 \n",
      " dense_4 (Dense)             (None, 3)                 153       \n",
      "                                                                 \n",
      "=================================================================\n",
      "Total params: 552,651\n",
      "Trainable params: 552,651\n",
      "Non-trainable params: 0\n",
      "_________________________________________________________________\n",
      "None\n"
     ]
    }
   ],
   "source": [
    "model = Sequential()\n",
    "model.add(Embedding(voc_size,embedding_vector_features,input_length=sent_length))\n",
    "model.add(Bidirectional(LSTM(64)))\n",
    "model.add(Dense(50, activation='relu'))\n",
    "model.add(Dense(3, activation='softmax'))\n",
    "model.compile(loss = 'categorical_crossentropy', optimizer = Adam(learning_rate=0.01), metrics = ['accuracy'])\n",
    "print(model.summary())"
   ]
  },
  {
   "cell_type": "code",
   "execution_count": null,
   "id": "eb2e0d28",
   "metadata": {
    "colab": {
     "base_uri": "https://localhost:8080/"
    },
    "executionInfo": {
     "elapsed": 58148,
     "status": "ok",
     "timestamp": 1677162209409,
     "user": {
      "displayName": "Branimir Raguž",
      "userId": "04099229421659579348"
     },
     "user_tz": -60
    },
    "id": "eb2e0d28",
    "outputId": "e7822e3e-6044-4487-d5e0-b1834c738dad"
   },
   "outputs": [
    {
     "name": "stdout",
     "output_type": "stream",
     "text": [
      "326/326 [==============================] - 52s 139ms/step - loss: 0.5811 - accuracy: 0.7666\n",
      "109/109 [==============================] - 4s 28ms/step\n"
     ]
    }
   ],
   "source": [
    "# training and predicting\n",
    "\n",
    "start=time.time()\n",
    "model.fit(X_train, y_train)\n",
    "end=time.time()\n",
    "\n",
    "train_time = end - start\n",
    "\n",
    "start=time.time()\n",
    "y_pred = model.predict(X_test)\n",
    "end=time.time()\n",
    "\n",
    "test_time = end - start"
   ]
  },
  {
   "cell_type": "code",
   "execution_count": null,
   "id": "df69abb0",
   "metadata": {
    "colab": {
     "base_uri": "https://localhost:8080/"
    },
    "executionInfo": {
     "elapsed": 1789,
     "status": "ok",
     "timestamp": 1677162211183,
     "user": {
      "displayName": "Branimir Raguž",
      "userId": "04099229421659579348"
     },
     "user_tz": -60
    },
    "id": "df69abb0",
    "outputId": "815f55f4-e4f5-444b-e47a-d67210d3d33d"
   },
   "outputs": [
    {
     "name": "stdout",
     "output_type": "stream",
     "text": [
      "Keras weights file (<HDF5 file \"variables.h5\" (mode r+)>) saving:\n",
      "...layers\n",
      "......bidirectional\n",
      ".........backward_layer\n",
      "............cell\n",
      "...............vars\n",
      "..................0\n",
      "..................1\n",
      "..................2\n",
      "............vars\n",
      ".........forward_layer\n",
      "............cell\n",
      "...............vars\n",
      "..................0\n",
      "..................1\n",
      "..................2\n",
      "............vars\n",
      ".........layer\n",
      "............cell\n",
      "...............vars\n",
      "............vars\n",
      ".........vars\n",
      "......dense\n",
      ".........vars\n",
      "............0\n",
      "............1\n",
      "......dense_1\n",
      ".........vars\n",
      "............0\n",
      "............1\n",
      "......embedding\n",
      ".........vars\n",
      "............0\n",
      "...metrics\n",
      "......mean\n",
      ".........vars\n",
      "............0\n",
      "............1\n",
      "......mean_metric_wrapper\n",
      ".........vars\n",
      "............0\n",
      "............1\n",
      "...optimizer\n",
      "......vars\n",
      ".........0\n",
      ".........1\n",
      ".........10\n",
      ".........11\n",
      ".........12\n",
      ".........13\n",
      ".........14\n",
      ".........15\n",
      ".........16\n",
      ".........17\n",
      ".........18\n",
      ".........19\n",
      ".........2\n",
      ".........20\n",
      ".........21\n",
      ".........22\n",
      ".........3\n",
      ".........4\n",
      ".........5\n",
      ".........6\n",
      ".........7\n",
      ".........8\n",
      ".........9\n",
      "...vars\n",
      "Keras model archive saving:\n",
      "File Name                                             Modified             Size\n",
      "metadata.json                                  2023-02-23 14:23:31           64\n",
      "config.json                                    2023-02-23 14:23:31         3196\n",
      "variables.h5                                   2023-02-23 14:23:31      6673960\n"
     ]
    }
   ],
   "source": [
    "# adjust the y_pred and the y_test\n",
    "y_pred = np.argmax(y_pred, axis = 1)\n",
    "y_test = np.argmax(y_test, axis = 1)\n",
    "\n",
    "reviews_m4_results = classification_report(y_test, y_pred, output_dict=True)\n",
    "\n",
    "reviews_m4_results['train_time'] = train_time\n",
    "reviews_m4_results['test_time'] = test_time\n",
    "reviews_m4_results = pd.DataFrame.from_dict(reviews_m4_results)\n",
    "reviews_m4_results.to_csv('results/lstm/reviews/model_4.csv')\n",
    "pickle.dump(model, open('models/lstm/reviews/model_4.sav', 'wb'))"
   ]
  },
  {
   "cell_type": "code",
   "execution_count": null,
   "id": "6f963831",
   "metadata": {
    "id": "6f963831",
    "outputId": "d3f23db4-2f3d-476e-83d7-398aeeb501c3"
   },
   "outputs": [
    {
     "data": {
      "text/html": [
       "<div>\n",
       "<style scoped>\n",
       "    .dataframe tbody tr th:only-of-type {\n",
       "        vertical-align: middle;\n",
       "    }\n",
       "\n",
       "    .dataframe tbody tr th {\n",
       "        vertical-align: top;\n",
       "    }\n",
       "\n",
       "    .dataframe thead th {\n",
       "        text-align: right;\n",
       "    }\n",
       "</style>\n",
       "<table border=\"1\" class=\"dataframe\">\n",
       "  <thead>\n",
       "    <tr style=\"text-align: right;\">\n",
       "      <th></th>\n",
       "      <th>0</th>\n",
       "      <th>1</th>\n",
       "      <th>2</th>\n",
       "      <th>accuracy</th>\n",
       "      <th>macro avg</th>\n",
       "      <th>weighted avg</th>\n",
       "      <th>train_time</th>\n",
       "      <th>test_time</th>\n",
       "    </tr>\n",
       "  </thead>\n",
       "  <tbody>\n",
       "    <tr>\n",
       "      <th>precision</th>\n",
       "      <td>0.633333</td>\n",
       "      <td>0.706897</td>\n",
       "      <td>0.904891</td>\n",
       "      <td>0.8094</td>\n",
       "      <td>0.748374</td>\n",
       "      <td>0.808975</td>\n",
       "      <td>39.3978</td>\n",
       "      <td>4.347106</td>\n",
       "    </tr>\n",
       "    <tr>\n",
       "      <th>recall</th>\n",
       "      <td>0.241270</td>\n",
       "      <td>0.854167</td>\n",
       "      <td>0.874016</td>\n",
       "      <td>0.8094</td>\n",
       "      <td>0.656484</td>\n",
       "      <td>0.809400</td>\n",
       "      <td>39.3978</td>\n",
       "      <td>4.347106</td>\n",
       "    </tr>\n",
       "    <tr>\n",
       "      <th>f1-score</th>\n",
       "      <td>0.349425</td>\n",
       "      <td>0.773585</td>\n",
       "      <td>0.889186</td>\n",
       "      <td>0.8094</td>\n",
       "      <td>0.670732</td>\n",
       "      <td>0.798559</td>\n",
       "      <td>39.3978</td>\n",
       "      <td>4.347106</td>\n",
       "    </tr>\n",
       "    <tr>\n",
       "      <th>support</th>\n",
       "      <td>315.000000</td>\n",
       "      <td>1248.000000</td>\n",
       "      <td>1905.000000</td>\n",
       "      <td>0.8094</td>\n",
       "      <td>3468.000000</td>\n",
       "      <td>3468.000000</td>\n",
       "      <td>39.3978</td>\n",
       "      <td>4.347106</td>\n",
       "    </tr>\n",
       "  </tbody>\n",
       "</table>\n",
       "</div>"
      ],
      "text/plain": [
       "                    0            1            2  accuracy    macro avg  \\\n",
       "precision    0.633333     0.706897     0.904891    0.8094     0.748374   \n",
       "recall       0.241270     0.854167     0.874016    0.8094     0.656484   \n",
       "f1-score     0.349425     0.773585     0.889186    0.8094     0.670732   \n",
       "support    315.000000  1248.000000  1905.000000    0.8094  3468.000000   \n",
       "\n",
       "           weighted avg  train_time  test_time  \n",
       "precision      0.808975     39.3978   4.347106  \n",
       "recall         0.809400     39.3978   4.347106  \n",
       "f1-score       0.798559     39.3978   4.347106  \n",
       "support     3468.000000     39.3978   4.347106  "
      ]
     },
     "execution_count": 90,
     "metadata": {},
     "output_type": "execute_result"
    }
   ],
   "source": [
    "reviews_m4_results"
   ]
  },
  {
   "cell_type": "markdown",
   "id": "CYaEW4m2Xebk",
   "metadata": {
    "id": "CYaEW4m2Xebk"
   },
   "source": [
    "### 3.5. Model 5 - best parameters on the augmented data set"
   ]
  },
  {
   "cell_type": "code",
   "execution_count": 107,
   "id": "unqxOmV0XwZL",
   "metadata": {
    "executionInfo": {
     "elapsed": 461,
     "status": "ok",
     "timestamp": 1677174611551,
     "user": {
      "displayName": "Branimir Raguž",
      "userId": "04099229421659579348"
     },
     "user_tz": -60
    },
    "id": "unqxOmV0XwZL"
   },
   "outputs": [],
   "source": [
    "X_train = pd.read_csv(\"data/X_train_reviews_augmented.csv\")\n",
    "y_train = pd.read_csv(\"data/y_train_reviews_augmented.csv\")\n",
    "y_train = y_train['sentiments']"
   ]
  },
  {
   "cell_type": "code",
   "execution_count": 108,
   "id": "0dcfcdf3",
   "metadata": {},
   "outputs": [],
   "source": [
    "mask = X_train.isna()\n",
    "\n",
    "# get the indexes of the NaN values\n",
    "indexes = mask.index[mask.any(axis=1)].tolist()"
   ]
  },
  {
   "cell_type": "code",
   "execution_count": 109,
   "id": "30d5a8b0",
   "metadata": {},
   "outputs": [],
   "source": [
    "X_train.drop(index = indexes, inplace=True)\n",
    "y_train.drop(index = indexes, inplace=True)"
   ]
  },
  {
   "cell_type": "code",
   "execution_count": 110,
   "id": "JDs4s4PZXm-R",
   "metadata": {
    "executionInfo": {
     "elapsed": 4,
     "status": "ok",
     "timestamp": 1677174611971,
     "user": {
      "displayName": "Branimir Raguž",
      "userId": "04099229421659579348"
     },
     "user_tz": -60
    },
    "id": "JDs4s4PZXm-R"
   },
   "outputs": [],
   "source": [
    "# setting the vocabulary and sentence length\n",
    "voc_size = 7500\n",
    "sent_length = 90\n",
    "embedding_vector_features = 64"
   ]
  },
  {
   "cell_type": "code",
   "execution_count": 111,
   "id": "KWuWj-s8Xm-R",
   "metadata": {
    "colab": {
     "base_uri": "https://localhost:8080/",
     "height": 363
    },
    "executionInfo": {
     "elapsed": 1009,
     "status": "error",
     "timestamp": 1677174612977,
     "user": {
      "displayName": "Branimir Raguž",
      "userId": "04099229421659579348"
     },
     "user_tz": -60
    },
    "id": "KWuWj-s8Xm-R",
    "outputId": "daf3cd92-5864-49a7-e29e-ce3fe78f84f8"
   },
   "outputs": [],
   "source": [
    "X_test = X_test_reviews.copy()\n",
    "y_test = y_test_reviews.copy()\n",
    "\n",
    "X_train, y_train = preprocessing_reviews(X_train, y_train, sent_length)\n",
    "X_test, y_test = preprocessing_reviews(X_test, y_test, sent_length)"
   ]
  },
  {
   "cell_type": "code",
   "execution_count": 112,
   "id": "Bjtoz2kGXm-R",
   "metadata": {
    "colab": {
     "base_uri": "https://localhost:8080/"
    },
    "executionInfo": {
     "elapsed": 1164,
     "status": "ok",
     "timestamp": 1677162017825,
     "user": {
      "displayName": "Branimir Raguž",
      "userId": "04099229421659579348"
     },
     "user_tz": -60
    },
    "id": "Bjtoz2kGXm-R",
    "outputId": "f09b5072-dff8-4ff7-9507-bb7e2c3bd2c4",
    "scrolled": true
   },
   "outputs": [
    {
     "name": "stdout",
     "output_type": "stream",
     "text": [
      "Model: \"sequential_1\"\n",
      "_________________________________________________________________\n",
      " Layer (type)                Output Shape              Param #   \n",
      "=================================================================\n",
      " embedding_1 (Embedding)     (None, 90, 64)            480000    \n",
      "                                                                 \n",
      " bidirectional_1 (Bidirectio  (None, 128)              66048     \n",
      " nal)                                                            \n",
      "                                                                 \n",
      " dense_2 (Dense)             (None, 50)                6450      \n",
      "                                                                 \n",
      " dense_3 (Dense)             (None, 3)                 153       \n",
      "                                                                 \n",
      "=================================================================\n",
      "Total params: 552,651\n",
      "Trainable params: 552,651\n",
      "Non-trainable params: 0\n",
      "_________________________________________________________________\n",
      "None\n"
     ]
    }
   ],
   "source": [
    "model = Sequential()\n",
    "model.add(Embedding(voc_size,embedding_vector_features,input_length=sent_length))\n",
    "model.add(Bidirectional(LSTM(64)))\n",
    "model.add(Dense(50, activation='relu'))\n",
    "model.add(Dense(3, activation='softmax'))\n",
    "model.compile(loss = 'categorical_crossentropy', optimizer = Adam(learning_rate=0.01), metrics = ['accuracy'])\n",
    "print(model.summary())"
   ]
  },
  {
   "cell_type": "code",
   "execution_count": 113,
   "id": "FZF7tuUpXm-S",
   "metadata": {
    "colab": {
     "base_uri": "https://localhost:8080/"
    },
    "executionInfo": {
     "elapsed": 96135,
     "status": "ok",
     "timestamp": 1677162113955,
     "user": {
      "displayName": "Branimir Raguž",
      "userId": "04099229421659579348"
     },
     "user_tz": -60
    },
    "id": "FZF7tuUpXm-S",
    "outputId": "57138873-5318-4624-e198-1f7d2892c4c4"
   },
   "outputs": [
    {
     "name": "stdout",
     "output_type": "stream",
     "text": [
      "650/650 [==============================] - 41s 57ms/step - loss: 0.4906 - accuracy: 0.7963\n"
     ]
    }
   ],
   "source": [
    "# training and predicting\n",
    "\n",
    "start=time.time()\n",
    "model.fit(X_train, y_train)\n",
    "end=time.time()\n",
    "\n",
    "train_time = end - start\n",
    "\n",
    "start=time.time()\n",
    "y_pred = model.predict(X_test)\n",
    "end=time.time()\n",
    "\n",
    "test_time = end - start"
   ]
  },
  {
   "cell_type": "code",
   "execution_count": 114,
   "id": "DKoDt1HfXm-S",
   "metadata": {
    "colab": {
     "base_uri": "https://localhost:8080/"
    },
    "executionInfo": {
     "elapsed": 2675,
     "status": "ok",
     "timestamp": 1677162124775,
     "user": {
      "displayName": "Branimir Raguž",
      "userId": "04099229421659579348"
     },
     "user_tz": -60
    },
    "id": "DKoDt1HfXm-S",
    "outputId": "dc0b646f-6085-4977-d245-2c8c88249dd7"
   },
   "outputs": [
    {
     "name": "stderr",
     "output_type": "stream",
     "text": [
      "WARNING:absl:Found untraced functions such as lstm_cell_4_layer_call_fn, lstm_cell_4_layer_call_and_return_conditional_losses, lstm_cell_5_layer_call_fn, lstm_cell_5_layer_call_and_return_conditional_losses while saving (showing 4 of 4). These functions will not be directly callable after loading.\n"
     ]
    },
    {
     "name": "stdout",
     "output_type": "stream",
     "text": [
      "INFO:tensorflow:Assets written to: ram://d21715dd-ca79-4ea1-8cd2-ded21b731337/assets\n"
     ]
    },
    {
     "name": "stderr",
     "output_type": "stream",
     "text": [
      "INFO:tensorflow:Assets written to: ram://d21715dd-ca79-4ea1-8cd2-ded21b731337/assets\n",
      "WARNING:absl:<keras.layers.recurrent.LSTMCell object at 0x0000018DEFF20A60> has the same name 'LSTMCell' as a built-in Keras object. Consider renaming <class 'keras.layers.recurrent.LSTMCell'> to avoid naming conflicts when loading with `tf.keras.models.load_model`. If renaming is not possible, pass the object in the `custom_objects` parameter of the load function.\n",
      "WARNING:absl:<keras.layers.recurrent.LSTMCell object at 0x0000018DE47AE9A0> has the same name 'LSTMCell' as a built-in Keras object. Consider renaming <class 'keras.layers.recurrent.LSTMCell'> to avoid naming conflicts when loading with `tf.keras.models.load_model`. If renaming is not possible, pass the object in the `custom_objects` parameter of the load function.\n"
     ]
    }
   ],
   "source": [
    "# adjust the y_pred and the y_test\n",
    "y_pred = np.argmax(y_pred, axis = 1)\n",
    "y_test = np.argmax(y_test, axis = 1)\n",
    "\n",
    "reviews_m5_results = classification_report(y_test, y_pred, output_dict=True)\n",
    "\n",
    "reviews_m5_results['train_time'] = train_time\n",
    "reviews_m5_results['test_time'] = test_time\n",
    "reviews_m5_results = pd.DataFrame.from_dict(reviews_m5_results)\n",
    "reviews_m5_results.to_csv('results/lstm/reviews/model_5.csv')\n",
    "pickle.dump(model, open('models/lstm/reviews/model_5.sav', 'wb'))"
   ]
  },
  {
   "cell_type": "code",
   "execution_count": 115,
   "id": "85997e5d",
   "metadata": {},
   "outputs": [
    {
     "data": {
      "text/html": [
       "<div>\n",
       "<style scoped>\n",
       "    .dataframe tbody tr th:only-of-type {\n",
       "        vertical-align: middle;\n",
       "    }\n",
       "\n",
       "    .dataframe tbody tr th {\n",
       "        vertical-align: top;\n",
       "    }\n",
       "\n",
       "    .dataframe thead th {\n",
       "        text-align: right;\n",
       "    }\n",
       "</style>\n",
       "<table border=\"1\" class=\"dataframe\">\n",
       "  <thead>\n",
       "    <tr style=\"text-align: right;\">\n",
       "      <th></th>\n",
       "      <th>0</th>\n",
       "      <th>1</th>\n",
       "      <th>2</th>\n",
       "      <th>accuracy</th>\n",
       "      <th>macro avg</th>\n",
       "      <th>weighted avg</th>\n",
       "      <th>train_time</th>\n",
       "      <th>test_time</th>\n",
       "    </tr>\n",
       "  </thead>\n",
       "  <tbody>\n",
       "    <tr>\n",
       "      <th>precision</th>\n",
       "      <td>0.706161</td>\n",
       "      <td>0.765468</td>\n",
       "      <td>0.919657</td>\n",
       "      <td>0.844867</td>\n",
       "      <td>0.797095</td>\n",
       "      <td>0.844778</td>\n",
       "      <td>41.596453</td>\n",
       "      <td>3.557642</td>\n",
       "    </tr>\n",
       "    <tr>\n",
       "      <th>recall</th>\n",
       "      <td>0.473016</td>\n",
       "      <td>0.852564</td>\n",
       "      <td>0.901312</td>\n",
       "      <td>0.844867</td>\n",
       "      <td>0.742297</td>\n",
       "      <td>0.844867</td>\n",
       "      <td>41.596453</td>\n",
       "      <td>3.557642</td>\n",
       "    </tr>\n",
       "    <tr>\n",
       "      <th>f1-score</th>\n",
       "      <td>0.566540</td>\n",
       "      <td>0.806672</td>\n",
       "      <td>0.910392</td>\n",
       "      <td>0.844867</td>\n",
       "      <td>0.761201</td>\n",
       "      <td>0.841835</td>\n",
       "      <td>41.596453</td>\n",
       "      <td>3.557642</td>\n",
       "    </tr>\n",
       "    <tr>\n",
       "      <th>support</th>\n",
       "      <td>315.000000</td>\n",
       "      <td>1248.000000</td>\n",
       "      <td>1905.000000</td>\n",
       "      <td>0.844867</td>\n",
       "      <td>3468.000000</td>\n",
       "      <td>3468.000000</td>\n",
       "      <td>41.596453</td>\n",
       "      <td>3.557642</td>\n",
       "    </tr>\n",
       "  </tbody>\n",
       "</table>\n",
       "</div>"
      ],
      "text/plain": [
       "                    0            1            2  accuracy    macro avg  \\\n",
       "precision    0.706161     0.765468     0.919657  0.844867     0.797095   \n",
       "recall       0.473016     0.852564     0.901312  0.844867     0.742297   \n",
       "f1-score     0.566540     0.806672     0.910392  0.844867     0.761201   \n",
       "support    315.000000  1248.000000  1905.000000  0.844867  3468.000000   \n",
       "\n",
       "           weighted avg  train_time  test_time  \n",
       "precision      0.844778   41.596453   3.557642  \n",
       "recall         0.844867   41.596453   3.557642  \n",
       "f1-score       0.841835   41.596453   3.557642  \n",
       "support     3468.000000   41.596453   3.557642  "
      ]
     },
     "execution_count": 115,
     "metadata": {},
     "output_type": "execute_result"
    }
   ],
   "source": [
    "reviews_m5_results"
   ]
  },
  {
   "cell_type": "markdown",
   "id": "7c5276d8",
   "metadata": {
    "id": "7c5276d8"
   },
   "source": [
    "### 3.6. Model comparison"
   ]
  },
  {
   "cell_type": "code",
   "execution_count": null,
   "id": "063dd31a",
   "metadata": {
    "colab": {
     "base_uri": "https://localhost:8080/",
     "height": 174
    },
    "executionInfo": {
     "elapsed": 474,
     "status": "ok",
     "timestamp": 1677162217834,
     "user": {
      "displayName": "Branimir Raguž",
      "userId": "04099229421659579348"
     },
     "user_tz": -60
    },
    "id": "063dd31a",
    "outputId": "c9ad25d9-3d2c-4d6f-ed43-4a3f18746417"
   },
   "outputs": [
    {
     "data": {
      "text/html": [
       "\n",
       "  <div id=\"df-3074d544-28d8-420f-ac7f-d4e379c5043b\">\n",
       "    <div class=\"colab-df-container\">\n",
       "      <div>\n",
       "<style scoped>\n",
       "    .dataframe tbody tr th:only-of-type {\n",
       "        vertical-align: middle;\n",
       "    }\n",
       "\n",
       "    .dataframe tbody tr th {\n",
       "        vertical-align: top;\n",
       "    }\n",
       "\n",
       "    .dataframe thead th {\n",
       "        text-align: right;\n",
       "    }\n",
       "</style>\n",
       "<table border=\"1\" class=\"dataframe\">\n",
       "  <thead>\n",
       "    <tr style=\"text-align: right;\">\n",
       "      <th></th>\n",
       "      <th>0</th>\n",
       "      <th>1</th>\n",
       "      <th>2</th>\n",
       "      <th>accuracy</th>\n",
       "      <th>macro avg</th>\n",
       "      <th>weighted avg</th>\n",
       "      <th>train_time</th>\n",
       "      <th>test_time</th>\n",
       "    </tr>\n",
       "  </thead>\n",
       "  <tbody>\n",
       "    <tr>\n",
       "      <th>precision</th>\n",
       "      <td>0.607143</td>\n",
       "      <td>0.678799</td>\n",
       "      <td>0.897140</td>\n",
       "      <td>0.791522</td>\n",
       "      <td>0.727694</td>\n",
       "      <td>0.792227</td>\n",
       "      <td>32.089595</td>\n",
       "      <td>2.254562</td>\n",
       "    </tr>\n",
       "    <tr>\n",
       "      <th>recall</th>\n",
       "      <td>0.161905</td>\n",
       "      <td>0.851763</td>\n",
       "      <td>0.856168</td>\n",
       "      <td>0.791522</td>\n",
       "      <td>0.623279</td>\n",
       "      <td>0.791522</td>\n",
       "      <td>32.089595</td>\n",
       "      <td>2.254562</td>\n",
       "    </tr>\n",
       "    <tr>\n",
       "      <th>f1-score</th>\n",
       "      <td>0.255639</td>\n",
       "      <td>0.755508</td>\n",
       "      <td>0.876175</td>\n",
       "      <td>0.791522</td>\n",
       "      <td>0.629107</td>\n",
       "      <td>0.776388</td>\n",
       "      <td>32.089595</td>\n",
       "      <td>2.254562</td>\n",
       "    </tr>\n",
       "    <tr>\n",
       "      <th>support</th>\n",
       "      <td>315.000000</td>\n",
       "      <td>1248.000000</td>\n",
       "      <td>1905.000000</td>\n",
       "      <td>0.791522</td>\n",
       "      <td>3468.000000</td>\n",
       "      <td>3468.000000</td>\n",
       "      <td>32.089595</td>\n",
       "      <td>2.254562</td>\n",
       "    </tr>\n",
       "  </tbody>\n",
       "</table>\n",
       "</div>\n",
       "      <button class=\"colab-df-convert\" onclick=\"convertToInteractive('df-3074d544-28d8-420f-ac7f-d4e379c5043b')\"\n",
       "              title=\"Convert this dataframe to an interactive table.\"\n",
       "              style=\"display:none;\">\n",
       "        \n",
       "  <svg xmlns=\"http://www.w3.org/2000/svg\" height=\"24px\"viewBox=\"0 0 24 24\"\n",
       "       width=\"24px\">\n",
       "    <path d=\"M0 0h24v24H0V0z\" fill=\"none\"/>\n",
       "    <path d=\"M18.56 5.44l.94 2.06.94-2.06 2.06-.94-2.06-.94-.94-2.06-.94 2.06-2.06.94zm-11 1L8.5 8.5l.94-2.06 2.06-.94-2.06-.94L8.5 2.5l-.94 2.06-2.06.94zm10 10l.94 2.06.94-2.06 2.06-.94-2.06-.94-.94-2.06-.94 2.06-2.06.94z\"/><path d=\"M17.41 7.96l-1.37-1.37c-.4-.4-.92-.59-1.43-.59-.52 0-1.04.2-1.43.59L10.3 9.45l-7.72 7.72c-.78.78-.78 2.05 0 2.83L4 21.41c.39.39.9.59 1.41.59.51 0 1.02-.2 1.41-.59l7.78-7.78 2.81-2.81c.8-.78.8-2.07 0-2.86zM5.41 20L4 18.59l7.72-7.72 1.47 1.35L5.41 20z\"/>\n",
       "  </svg>\n",
       "      </button>\n",
       "      \n",
       "  <style>\n",
       "    .colab-df-container {\n",
       "      display:flex;\n",
       "      flex-wrap:wrap;\n",
       "      gap: 12px;\n",
       "    }\n",
       "\n",
       "    .colab-df-convert {\n",
       "      background-color: #E8F0FE;\n",
       "      border: none;\n",
       "      border-radius: 50%;\n",
       "      cursor: pointer;\n",
       "      display: none;\n",
       "      fill: #1967D2;\n",
       "      height: 32px;\n",
       "      padding: 0 0 0 0;\n",
       "      width: 32px;\n",
       "    }\n",
       "\n",
       "    .colab-df-convert:hover {\n",
       "      background-color: #E2EBFA;\n",
       "      box-shadow: 0px 1px 2px rgba(60, 64, 67, 0.3), 0px 1px 3px 1px rgba(60, 64, 67, 0.15);\n",
       "      fill: #174EA6;\n",
       "    }\n",
       "\n",
       "    [theme=dark] .colab-df-convert {\n",
       "      background-color: #3B4455;\n",
       "      fill: #D2E3FC;\n",
       "    }\n",
       "\n",
       "    [theme=dark] .colab-df-convert:hover {\n",
       "      background-color: #434B5C;\n",
       "      box-shadow: 0px 1px 3px 1px rgba(0, 0, 0, 0.15);\n",
       "      filter: drop-shadow(0px 1px 2px rgba(0, 0, 0, 0.3));\n",
       "      fill: #FFFFFF;\n",
       "    }\n",
       "  </style>\n",
       "\n",
       "      <script>\n",
       "        const buttonEl =\n",
       "          document.querySelector('#df-3074d544-28d8-420f-ac7f-d4e379c5043b button.colab-df-convert');\n",
       "        buttonEl.style.display =\n",
       "          google.colab.kernel.accessAllowed ? 'block' : 'none';\n",
       "\n",
       "        async function convertToInteractive(key) {\n",
       "          const element = document.querySelector('#df-3074d544-28d8-420f-ac7f-d4e379c5043b');\n",
       "          const dataTable =\n",
       "            await google.colab.kernel.invokeFunction('convertToInteractive',\n",
       "                                                     [key], {});\n",
       "          if (!dataTable) return;\n",
       "\n",
       "          const docLinkHtml = 'Like what you see? Visit the ' +\n",
       "            '<a target=\"_blank\" href=https://colab.research.google.com/notebooks/data_table.ipynb>data table notebook</a>'\n",
       "            + ' to learn more about interactive tables.';\n",
       "          element.innerHTML = '';\n",
       "          dataTable['output_type'] = 'display_data';\n",
       "          await google.colab.output.renderOutput(dataTable, element);\n",
       "          const docLink = document.createElement('div');\n",
       "          docLink.innerHTML = docLinkHtml;\n",
       "          element.appendChild(docLink);\n",
       "        }\n",
       "      </script>\n",
       "    </div>\n",
       "  </div>\n",
       "  "
      ],
      "text/plain": [
       "                    0            1            2  accuracy    macro avg  \\\n",
       "precision    0.607143     0.678799     0.897140  0.791522     0.727694   \n",
       "recall       0.161905     0.851763     0.856168  0.791522     0.623279   \n",
       "f1-score     0.255639     0.755508     0.876175  0.791522     0.629107   \n",
       "support    315.000000  1248.000000  1905.000000  0.791522  3468.000000   \n",
       "\n",
       "           weighted avg  train_time  test_time  \n",
       "precision      0.792227   32.089595   2.254562  \n",
       "recall         0.791522   32.089595   2.254562  \n",
       "f1-score       0.776388   32.089595   2.254562  \n",
       "support     3468.000000   32.089595   2.254562  "
      ]
     },
     "execution_count": 75,
     "metadata": {},
     "output_type": "execute_result"
    }
   ],
   "source": [
    "reviews_m1_results"
   ]
  },
  {
   "cell_type": "code",
   "execution_count": null,
   "id": "1892c180",
   "metadata": {
    "colab": {
     "base_uri": "https://localhost:8080/",
     "height": 174
    },
    "executionInfo": {
     "elapsed": 16,
     "status": "ok",
     "timestamp": 1677162219313,
     "user": {
      "displayName": "Branimir Raguž",
      "userId": "04099229421659579348"
     },
     "user_tz": -60
    },
    "id": "1892c180",
    "outputId": "3b746e40-2c57-40fd-9d99-7f591db5342c"
   },
   "outputs": [
    {
     "data": {
      "text/html": [
       "\n",
       "  <div id=\"df-a7c218ff-4be5-4436-9d19-be494b494045\">\n",
       "    <div class=\"colab-df-container\">\n",
       "      <div>\n",
       "<style scoped>\n",
       "    .dataframe tbody tr th:only-of-type {\n",
       "        vertical-align: middle;\n",
       "    }\n",
       "\n",
       "    .dataframe tbody tr th {\n",
       "        vertical-align: top;\n",
       "    }\n",
       "\n",
       "    .dataframe thead th {\n",
       "        text-align: right;\n",
       "    }\n",
       "</style>\n",
       "<table border=\"1\" class=\"dataframe\">\n",
       "  <thead>\n",
       "    <tr style=\"text-align: right;\">\n",
       "      <th></th>\n",
       "      <th>0</th>\n",
       "      <th>1</th>\n",
       "      <th>2</th>\n",
       "      <th>accuracy</th>\n",
       "      <th>macro avg</th>\n",
       "      <th>weighted avg</th>\n",
       "      <th>train_time</th>\n",
       "      <th>test_time</th>\n",
       "    </tr>\n",
       "  </thead>\n",
       "  <tbody>\n",
       "    <tr>\n",
       "      <th>precision</th>\n",
       "      <td>0.652174</td>\n",
       "      <td>0.675316</td>\n",
       "      <td>0.886863</td>\n",
       "      <td>0.788927</td>\n",
       "      <td>0.738118</td>\n",
       "      <td>0.789419</td>\n",
       "      <td>24.234262</td>\n",
       "      <td>2.115632</td>\n",
       "    </tr>\n",
       "    <tr>\n",
       "      <th>recall</th>\n",
       "      <td>0.047619</td>\n",
       "      <td>0.854968</td>\n",
       "      <td>0.868241</td>\n",
       "      <td>0.788927</td>\n",
       "      <td>0.590276</td>\n",
       "      <td>0.788927</td>\n",
       "      <td>24.234262</td>\n",
       "      <td>2.115632</td>\n",
       "    </tr>\n",
       "    <tr>\n",
       "      <th>f1-score</th>\n",
       "      <td>0.088757</td>\n",
       "      <td>0.754597</td>\n",
       "      <td>0.877454</td>\n",
       "      <td>0.788927</td>\n",
       "      <td>0.573603</td>\n",
       "      <td>0.761605</td>\n",
       "      <td>24.234262</td>\n",
       "      <td>2.115632</td>\n",
       "    </tr>\n",
       "    <tr>\n",
       "      <th>support</th>\n",
       "      <td>315.000000</td>\n",
       "      <td>1248.000000</td>\n",
       "      <td>1905.000000</td>\n",
       "      <td>0.788927</td>\n",
       "      <td>3468.000000</td>\n",
       "      <td>3468.000000</td>\n",
       "      <td>24.234262</td>\n",
       "      <td>2.115632</td>\n",
       "    </tr>\n",
       "  </tbody>\n",
       "</table>\n",
       "</div>\n",
       "      <button class=\"colab-df-convert\" onclick=\"convertToInteractive('df-a7c218ff-4be5-4436-9d19-be494b494045')\"\n",
       "              title=\"Convert this dataframe to an interactive table.\"\n",
       "              style=\"display:none;\">\n",
       "        \n",
       "  <svg xmlns=\"http://www.w3.org/2000/svg\" height=\"24px\"viewBox=\"0 0 24 24\"\n",
       "       width=\"24px\">\n",
       "    <path d=\"M0 0h24v24H0V0z\" fill=\"none\"/>\n",
       "    <path d=\"M18.56 5.44l.94 2.06.94-2.06 2.06-.94-2.06-.94-.94-2.06-.94 2.06-2.06.94zm-11 1L8.5 8.5l.94-2.06 2.06-.94-2.06-.94L8.5 2.5l-.94 2.06-2.06.94zm10 10l.94 2.06.94-2.06 2.06-.94-2.06-.94-.94-2.06-.94 2.06-2.06.94z\"/><path d=\"M17.41 7.96l-1.37-1.37c-.4-.4-.92-.59-1.43-.59-.52 0-1.04.2-1.43.59L10.3 9.45l-7.72 7.72c-.78.78-.78 2.05 0 2.83L4 21.41c.39.39.9.59 1.41.59.51 0 1.02-.2 1.41-.59l7.78-7.78 2.81-2.81c.8-.78.8-2.07 0-2.86zM5.41 20L4 18.59l7.72-7.72 1.47 1.35L5.41 20z\"/>\n",
       "  </svg>\n",
       "      </button>\n",
       "      \n",
       "  <style>\n",
       "    .colab-df-container {\n",
       "      display:flex;\n",
       "      flex-wrap:wrap;\n",
       "      gap: 12px;\n",
       "    }\n",
       "\n",
       "    .colab-df-convert {\n",
       "      background-color: #E8F0FE;\n",
       "      border: none;\n",
       "      border-radius: 50%;\n",
       "      cursor: pointer;\n",
       "      display: none;\n",
       "      fill: #1967D2;\n",
       "      height: 32px;\n",
       "      padding: 0 0 0 0;\n",
       "      width: 32px;\n",
       "    }\n",
       "\n",
       "    .colab-df-convert:hover {\n",
       "      background-color: #E2EBFA;\n",
       "      box-shadow: 0px 1px 2px rgba(60, 64, 67, 0.3), 0px 1px 3px 1px rgba(60, 64, 67, 0.15);\n",
       "      fill: #174EA6;\n",
       "    }\n",
       "\n",
       "    [theme=dark] .colab-df-convert {\n",
       "      background-color: #3B4455;\n",
       "      fill: #D2E3FC;\n",
       "    }\n",
       "\n",
       "    [theme=dark] .colab-df-convert:hover {\n",
       "      background-color: #434B5C;\n",
       "      box-shadow: 0px 1px 3px 1px rgba(0, 0, 0, 0.15);\n",
       "      filter: drop-shadow(0px 1px 2px rgba(0, 0, 0, 0.3));\n",
       "      fill: #FFFFFF;\n",
       "    }\n",
       "  </style>\n",
       "\n",
       "      <script>\n",
       "        const buttonEl =\n",
       "          document.querySelector('#df-a7c218ff-4be5-4436-9d19-be494b494045 button.colab-df-convert');\n",
       "        buttonEl.style.display =\n",
       "          google.colab.kernel.accessAllowed ? 'block' : 'none';\n",
       "\n",
       "        async function convertToInteractive(key) {\n",
       "          const element = document.querySelector('#df-a7c218ff-4be5-4436-9d19-be494b494045');\n",
       "          const dataTable =\n",
       "            await google.colab.kernel.invokeFunction('convertToInteractive',\n",
       "                                                     [key], {});\n",
       "          if (!dataTable) return;\n",
       "\n",
       "          const docLinkHtml = 'Like what you see? Visit the ' +\n",
       "            '<a target=\"_blank\" href=https://colab.research.google.com/notebooks/data_table.ipynb>data table notebook</a>'\n",
       "            + ' to learn more about interactive tables.';\n",
       "          element.innerHTML = '';\n",
       "          dataTable['output_type'] = 'display_data';\n",
       "          await google.colab.output.renderOutput(dataTable, element);\n",
       "          const docLink = document.createElement('div');\n",
       "          docLink.innerHTML = docLinkHtml;\n",
       "          element.appendChild(docLink);\n",
       "        }\n",
       "      </script>\n",
       "    </div>\n",
       "  </div>\n",
       "  "
      ],
      "text/plain": [
       "                    0            1            2  accuracy    macro avg  \\\n",
       "precision    0.652174     0.675316     0.886863  0.788927     0.738118   \n",
       "recall       0.047619     0.854968     0.868241  0.788927     0.590276   \n",
       "f1-score     0.088757     0.754597     0.877454  0.788927     0.573603   \n",
       "support    315.000000  1248.000000  1905.000000  0.788927  3468.000000   \n",
       "\n",
       "           weighted avg  train_time  test_time  \n",
       "precision      0.789419   24.234262   2.115632  \n",
       "recall         0.788927   24.234262   2.115632  \n",
       "f1-score       0.761605   24.234262   2.115632  \n",
       "support     3468.000000   24.234262   2.115632  "
      ]
     },
     "execution_count": 76,
     "metadata": {},
     "output_type": "execute_result"
    }
   ],
   "source": [
    "reviews_m2_results"
   ]
  },
  {
   "cell_type": "code",
   "execution_count": null,
   "id": "e1f3302e",
   "metadata": {
    "colab": {
     "base_uri": "https://localhost:8080/",
     "height": 174
    },
    "executionInfo": {
     "elapsed": 15,
     "status": "ok",
     "timestamp": 1677162219314,
     "user": {
      "displayName": "Branimir Raguž",
      "userId": "04099229421659579348"
     },
     "user_tz": -60
    },
    "id": "e1f3302e",
    "outputId": "580e11d2-36ee-47c4-fa01-7334dd5303f5"
   },
   "outputs": [
    {
     "data": {
      "text/html": [
       "\n",
       "  <div id=\"df-4ba3967a-8569-4daf-8b53-8489d6ffa1ae\">\n",
       "    <div class=\"colab-df-container\">\n",
       "      <div>\n",
       "<style scoped>\n",
       "    .dataframe tbody tr th:only-of-type {\n",
       "        vertical-align: middle;\n",
       "    }\n",
       "\n",
       "    .dataframe tbody tr th {\n",
       "        vertical-align: top;\n",
       "    }\n",
       "\n",
       "    .dataframe thead th {\n",
       "        text-align: right;\n",
       "    }\n",
       "</style>\n",
       "<table border=\"1\" class=\"dataframe\">\n",
       "  <thead>\n",
       "    <tr style=\"text-align: right;\">\n",
       "      <th></th>\n",
       "      <th>0</th>\n",
       "      <th>1</th>\n",
       "      <th>2</th>\n",
       "      <th>accuracy</th>\n",
       "      <th>macro avg</th>\n",
       "      <th>weighted avg</th>\n",
       "      <th>train_time</th>\n",
       "      <th>test_time</th>\n",
       "    </tr>\n",
       "  </thead>\n",
       "  <tbody>\n",
       "    <tr>\n",
       "      <th>precision</th>\n",
       "      <td>0.673077</td>\n",
       "      <td>0.669109</td>\n",
       "      <td>0.906074</td>\n",
       "      <td>0.790657</td>\n",
       "      <td>0.749420</td>\n",
       "      <td>0.799636</td>\n",
       "      <td>87.403893</td>\n",
       "      <td>8.382079</td>\n",
       "    </tr>\n",
       "    <tr>\n",
       "      <th>recall</th>\n",
       "      <td>0.111111</td>\n",
       "      <td>0.878205</td>\n",
       "      <td>0.845669</td>\n",
       "      <td>0.790657</td>\n",
       "      <td>0.611662</td>\n",
       "      <td>0.790657</td>\n",
       "      <td>87.403893</td>\n",
       "      <td>8.382079</td>\n",
       "    </tr>\n",
       "    <tr>\n",
       "      <th>f1-score</th>\n",
       "      <td>0.190736</td>\n",
       "      <td>0.759529</td>\n",
       "      <td>0.874830</td>\n",
       "      <td>0.790657</td>\n",
       "      <td>0.608365</td>\n",
       "      <td>0.771201</td>\n",
       "      <td>87.403893</td>\n",
       "      <td>8.382079</td>\n",
       "    </tr>\n",
       "    <tr>\n",
       "      <th>support</th>\n",
       "      <td>315.000000</td>\n",
       "      <td>1248.000000</td>\n",
       "      <td>1905.000000</td>\n",
       "      <td>0.790657</td>\n",
       "      <td>3468.000000</td>\n",
       "      <td>3468.000000</td>\n",
       "      <td>87.403893</td>\n",
       "      <td>8.382079</td>\n",
       "    </tr>\n",
       "  </tbody>\n",
       "</table>\n",
       "</div>\n",
       "      <button class=\"colab-df-convert\" onclick=\"convertToInteractive('df-4ba3967a-8569-4daf-8b53-8489d6ffa1ae')\"\n",
       "              title=\"Convert this dataframe to an interactive table.\"\n",
       "              style=\"display:none;\">\n",
       "        \n",
       "  <svg xmlns=\"http://www.w3.org/2000/svg\" height=\"24px\"viewBox=\"0 0 24 24\"\n",
       "       width=\"24px\">\n",
       "    <path d=\"M0 0h24v24H0V0z\" fill=\"none\"/>\n",
       "    <path d=\"M18.56 5.44l.94 2.06.94-2.06 2.06-.94-2.06-.94-.94-2.06-.94 2.06-2.06.94zm-11 1L8.5 8.5l.94-2.06 2.06-.94-2.06-.94L8.5 2.5l-.94 2.06-2.06.94zm10 10l.94 2.06.94-2.06 2.06-.94-2.06-.94-.94-2.06-.94 2.06-2.06.94z\"/><path d=\"M17.41 7.96l-1.37-1.37c-.4-.4-.92-.59-1.43-.59-.52 0-1.04.2-1.43.59L10.3 9.45l-7.72 7.72c-.78.78-.78 2.05 0 2.83L4 21.41c.39.39.9.59 1.41.59.51 0 1.02-.2 1.41-.59l7.78-7.78 2.81-2.81c.8-.78.8-2.07 0-2.86zM5.41 20L4 18.59l7.72-7.72 1.47 1.35L5.41 20z\"/>\n",
       "  </svg>\n",
       "      </button>\n",
       "      \n",
       "  <style>\n",
       "    .colab-df-container {\n",
       "      display:flex;\n",
       "      flex-wrap:wrap;\n",
       "      gap: 12px;\n",
       "    }\n",
       "\n",
       "    .colab-df-convert {\n",
       "      background-color: #E8F0FE;\n",
       "      border: none;\n",
       "      border-radius: 50%;\n",
       "      cursor: pointer;\n",
       "      display: none;\n",
       "      fill: #1967D2;\n",
       "      height: 32px;\n",
       "      padding: 0 0 0 0;\n",
       "      width: 32px;\n",
       "    }\n",
       "\n",
       "    .colab-df-convert:hover {\n",
       "      background-color: #E2EBFA;\n",
       "      box-shadow: 0px 1px 2px rgba(60, 64, 67, 0.3), 0px 1px 3px 1px rgba(60, 64, 67, 0.15);\n",
       "      fill: #174EA6;\n",
       "    }\n",
       "\n",
       "    [theme=dark] .colab-df-convert {\n",
       "      background-color: #3B4455;\n",
       "      fill: #D2E3FC;\n",
       "    }\n",
       "\n",
       "    [theme=dark] .colab-df-convert:hover {\n",
       "      background-color: #434B5C;\n",
       "      box-shadow: 0px 1px 3px 1px rgba(0, 0, 0, 0.15);\n",
       "      filter: drop-shadow(0px 1px 2px rgba(0, 0, 0, 0.3));\n",
       "      fill: #FFFFFF;\n",
       "    }\n",
       "  </style>\n",
       "\n",
       "      <script>\n",
       "        const buttonEl =\n",
       "          document.querySelector('#df-4ba3967a-8569-4daf-8b53-8489d6ffa1ae button.colab-df-convert');\n",
       "        buttonEl.style.display =\n",
       "          google.colab.kernel.accessAllowed ? 'block' : 'none';\n",
       "\n",
       "        async function convertToInteractive(key) {\n",
       "          const element = document.querySelector('#df-4ba3967a-8569-4daf-8b53-8489d6ffa1ae');\n",
       "          const dataTable =\n",
       "            await google.colab.kernel.invokeFunction('convertToInteractive',\n",
       "                                                     [key], {});\n",
       "          if (!dataTable) return;\n",
       "\n",
       "          const docLinkHtml = 'Like what you see? Visit the ' +\n",
       "            '<a target=\"_blank\" href=https://colab.research.google.com/notebooks/data_table.ipynb>data table notebook</a>'\n",
       "            + ' to learn more about interactive tables.';\n",
       "          element.innerHTML = '';\n",
       "          dataTable['output_type'] = 'display_data';\n",
       "          await google.colab.output.renderOutput(dataTable, element);\n",
       "          const docLink = document.createElement('div');\n",
       "          docLink.innerHTML = docLinkHtml;\n",
       "          element.appendChild(docLink);\n",
       "        }\n",
       "      </script>\n",
       "    </div>\n",
       "  </div>\n",
       "  "
      ],
      "text/plain": [
       "                    0            1            2  accuracy    macro avg  \\\n",
       "precision    0.673077     0.669109     0.906074  0.790657     0.749420   \n",
       "recall       0.111111     0.878205     0.845669  0.790657     0.611662   \n",
       "f1-score     0.190736     0.759529     0.874830  0.790657     0.608365   \n",
       "support    315.000000  1248.000000  1905.000000  0.790657  3468.000000   \n",
       "\n",
       "           weighted avg  train_time  test_time  \n",
       "precision      0.799636   87.403893   8.382079  \n",
       "recall         0.790657   87.403893   8.382079  \n",
       "f1-score       0.771201   87.403893   8.382079  \n",
       "support     3468.000000   87.403893   8.382079  "
      ]
     },
     "execution_count": 77,
     "metadata": {},
     "output_type": "execute_result"
    }
   ],
   "source": [
    "reviews_m3_results"
   ]
  },
  {
   "cell_type": "code",
   "execution_count": null,
   "id": "36c9d809",
   "metadata": {
    "colab": {
     "base_uri": "https://localhost:8080/",
     "height": 174
    },
    "executionInfo": {
     "elapsed": 13,
     "status": "ok",
     "timestamp": 1677162219315,
     "user": {
      "displayName": "Branimir Raguž",
      "userId": "04099229421659579348"
     },
     "user_tz": -60
    },
    "id": "36c9d809",
    "outputId": "f12da708-9c46-4aaf-f63e-b19559926c46"
   },
   "outputs": [
    {
     "data": {
      "text/html": [
       "\n",
       "  <div id=\"df-12fb1e23-54d8-4469-a20d-366d67e703a6\">\n",
       "    <div class=\"colab-df-container\">\n",
       "      <div>\n",
       "<style scoped>\n",
       "    .dataframe tbody tr th:only-of-type {\n",
       "        vertical-align: middle;\n",
       "    }\n",
       "\n",
       "    .dataframe tbody tr th {\n",
       "        vertical-align: top;\n",
       "    }\n",
       "\n",
       "    .dataframe thead th {\n",
       "        text-align: right;\n",
       "    }\n",
       "</style>\n",
       "<table border=\"1\" class=\"dataframe\">\n",
       "  <thead>\n",
       "    <tr style=\"text-align: right;\">\n",
       "      <th></th>\n",
       "      <th>0</th>\n",
       "      <th>1</th>\n",
       "      <th>2</th>\n",
       "      <th>accuracy</th>\n",
       "      <th>macro avg</th>\n",
       "      <th>weighted avg</th>\n",
       "      <th>train_time</th>\n",
       "      <th>test_time</th>\n",
       "    </tr>\n",
       "  </thead>\n",
       "  <tbody>\n",
       "    <tr>\n",
       "      <th>precision</th>\n",
       "      <td>0.608163</td>\n",
       "      <td>0.789260</td>\n",
       "      <td>0.889168</td>\n",
       "      <td>0.83391</td>\n",
       "      <td>0.762197</td>\n",
       "      <td>0.827691</td>\n",
       "      <td>51.895286</td>\n",
       "      <td>5.975963</td>\n",
       "    </tr>\n",
       "    <tr>\n",
       "      <th>recall</th>\n",
       "      <td>0.473016</td>\n",
       "      <td>0.777244</td>\n",
       "      <td>0.930709</td>\n",
       "      <td>0.83391</td>\n",
       "      <td>0.726989</td>\n",
       "      <td>0.833910</td>\n",
       "      <td>51.895286</td>\n",
       "      <td>5.975963</td>\n",
       "    </tr>\n",
       "    <tr>\n",
       "      <th>f1-score</th>\n",
       "      <td>0.532143</td>\n",
       "      <td>0.783205</td>\n",
       "      <td>0.909464</td>\n",
       "      <td>0.83391</td>\n",
       "      <td>0.741604</td>\n",
       "      <td>0.829756</td>\n",
       "      <td>51.895286</td>\n",
       "      <td>5.975963</td>\n",
       "    </tr>\n",
       "    <tr>\n",
       "      <th>support</th>\n",
       "      <td>315.000000</td>\n",
       "      <td>1248.000000</td>\n",
       "      <td>1905.000000</td>\n",
       "      <td>0.83391</td>\n",
       "      <td>3468.000000</td>\n",
       "      <td>3468.000000</td>\n",
       "      <td>51.895286</td>\n",
       "      <td>5.975963</td>\n",
       "    </tr>\n",
       "  </tbody>\n",
       "</table>\n",
       "</div>\n",
       "      <button class=\"colab-df-convert\" onclick=\"convertToInteractive('df-12fb1e23-54d8-4469-a20d-366d67e703a6')\"\n",
       "              title=\"Convert this dataframe to an interactive table.\"\n",
       "              style=\"display:none;\">\n",
       "        \n",
       "  <svg xmlns=\"http://www.w3.org/2000/svg\" height=\"24px\"viewBox=\"0 0 24 24\"\n",
       "       width=\"24px\">\n",
       "    <path d=\"M0 0h24v24H0V0z\" fill=\"none\"/>\n",
       "    <path d=\"M18.56 5.44l.94 2.06.94-2.06 2.06-.94-2.06-.94-.94-2.06-.94 2.06-2.06.94zm-11 1L8.5 8.5l.94-2.06 2.06-.94-2.06-.94L8.5 2.5l-.94 2.06-2.06.94zm10 10l.94 2.06.94-2.06 2.06-.94-2.06-.94-.94-2.06-.94 2.06-2.06.94z\"/><path d=\"M17.41 7.96l-1.37-1.37c-.4-.4-.92-.59-1.43-.59-.52 0-1.04.2-1.43.59L10.3 9.45l-7.72 7.72c-.78.78-.78 2.05 0 2.83L4 21.41c.39.39.9.59 1.41.59.51 0 1.02-.2 1.41-.59l7.78-7.78 2.81-2.81c.8-.78.8-2.07 0-2.86zM5.41 20L4 18.59l7.72-7.72 1.47 1.35L5.41 20z\"/>\n",
       "  </svg>\n",
       "      </button>\n",
       "      \n",
       "  <style>\n",
       "    .colab-df-container {\n",
       "      display:flex;\n",
       "      flex-wrap:wrap;\n",
       "      gap: 12px;\n",
       "    }\n",
       "\n",
       "    .colab-df-convert {\n",
       "      background-color: #E8F0FE;\n",
       "      border: none;\n",
       "      border-radius: 50%;\n",
       "      cursor: pointer;\n",
       "      display: none;\n",
       "      fill: #1967D2;\n",
       "      height: 32px;\n",
       "      padding: 0 0 0 0;\n",
       "      width: 32px;\n",
       "    }\n",
       "\n",
       "    .colab-df-convert:hover {\n",
       "      background-color: #E2EBFA;\n",
       "      box-shadow: 0px 1px 2px rgba(60, 64, 67, 0.3), 0px 1px 3px 1px rgba(60, 64, 67, 0.15);\n",
       "      fill: #174EA6;\n",
       "    }\n",
       "\n",
       "    [theme=dark] .colab-df-convert {\n",
       "      background-color: #3B4455;\n",
       "      fill: #D2E3FC;\n",
       "    }\n",
       "\n",
       "    [theme=dark] .colab-df-convert:hover {\n",
       "      background-color: #434B5C;\n",
       "      box-shadow: 0px 1px 3px 1px rgba(0, 0, 0, 0.15);\n",
       "      filter: drop-shadow(0px 1px 2px rgba(0, 0, 0, 0.3));\n",
       "      fill: #FFFFFF;\n",
       "    }\n",
       "  </style>\n",
       "\n",
       "      <script>\n",
       "        const buttonEl =\n",
       "          document.querySelector('#df-12fb1e23-54d8-4469-a20d-366d67e703a6 button.colab-df-convert');\n",
       "        buttonEl.style.display =\n",
       "          google.colab.kernel.accessAllowed ? 'block' : 'none';\n",
       "\n",
       "        async function convertToInteractive(key) {\n",
       "          const element = document.querySelector('#df-12fb1e23-54d8-4469-a20d-366d67e703a6');\n",
       "          const dataTable =\n",
       "            await google.colab.kernel.invokeFunction('convertToInteractive',\n",
       "                                                     [key], {});\n",
       "          if (!dataTable) return;\n",
       "\n",
       "          const docLinkHtml = 'Like what you see? Visit the ' +\n",
       "            '<a target=\"_blank\" href=https://colab.research.google.com/notebooks/data_table.ipynb>data table notebook</a>'\n",
       "            + ' to learn more about interactive tables.';\n",
       "          element.innerHTML = '';\n",
       "          dataTable['output_type'] = 'display_data';\n",
       "          await google.colab.output.renderOutput(dataTable, element);\n",
       "          const docLink = document.createElement('div');\n",
       "          docLink.innerHTML = docLinkHtml;\n",
       "          element.appendChild(docLink);\n",
       "        }\n",
       "      </script>\n",
       "    </div>\n",
       "  </div>\n",
       "  "
      ],
      "text/plain": [
       "                    0            1            2  accuracy    macro avg  \\\n",
       "precision    0.608163     0.789260     0.889168   0.83391     0.762197   \n",
       "recall       0.473016     0.777244     0.930709   0.83391     0.726989   \n",
       "f1-score     0.532143     0.783205     0.909464   0.83391     0.741604   \n",
       "support    315.000000  1248.000000  1905.000000   0.83391  3468.000000   \n",
       "\n",
       "           weighted avg  train_time  test_time  \n",
       "precision      0.827691   51.895286   5.975963  \n",
       "recall         0.833910   51.895286   5.975963  \n",
       "f1-score       0.829756   51.895286   5.975963  \n",
       "support     3468.000000   51.895286   5.975963  "
      ]
     },
     "execution_count": 78,
     "metadata": {},
     "output_type": "execute_result"
    }
   ],
   "source": [
    "reviews_m4_results"
   ]
  },
  {
   "cell_type": "code",
   "execution_count": 116,
   "id": "548b876b",
   "metadata": {},
   "outputs": [
    {
     "data": {
      "text/html": [
       "<div>\n",
       "<style scoped>\n",
       "    .dataframe tbody tr th:only-of-type {\n",
       "        vertical-align: middle;\n",
       "    }\n",
       "\n",
       "    .dataframe tbody tr th {\n",
       "        vertical-align: top;\n",
       "    }\n",
       "\n",
       "    .dataframe thead th {\n",
       "        text-align: right;\n",
       "    }\n",
       "</style>\n",
       "<table border=\"1\" class=\"dataframe\">\n",
       "  <thead>\n",
       "    <tr style=\"text-align: right;\">\n",
       "      <th></th>\n",
       "      <th>0</th>\n",
       "      <th>1</th>\n",
       "      <th>2</th>\n",
       "      <th>accuracy</th>\n",
       "      <th>macro avg</th>\n",
       "      <th>weighted avg</th>\n",
       "      <th>train_time</th>\n",
       "      <th>test_time</th>\n",
       "    </tr>\n",
       "  </thead>\n",
       "  <tbody>\n",
       "    <tr>\n",
       "      <th>precision</th>\n",
       "      <td>0.706161</td>\n",
       "      <td>0.765468</td>\n",
       "      <td>0.919657</td>\n",
       "      <td>0.844867</td>\n",
       "      <td>0.797095</td>\n",
       "      <td>0.844778</td>\n",
       "      <td>41.596453</td>\n",
       "      <td>3.557642</td>\n",
       "    </tr>\n",
       "    <tr>\n",
       "      <th>recall</th>\n",
       "      <td>0.473016</td>\n",
       "      <td>0.852564</td>\n",
       "      <td>0.901312</td>\n",
       "      <td>0.844867</td>\n",
       "      <td>0.742297</td>\n",
       "      <td>0.844867</td>\n",
       "      <td>41.596453</td>\n",
       "      <td>3.557642</td>\n",
       "    </tr>\n",
       "    <tr>\n",
       "      <th>f1-score</th>\n",
       "      <td>0.566540</td>\n",
       "      <td>0.806672</td>\n",
       "      <td>0.910392</td>\n",
       "      <td>0.844867</td>\n",
       "      <td>0.761201</td>\n",
       "      <td>0.841835</td>\n",
       "      <td>41.596453</td>\n",
       "      <td>3.557642</td>\n",
       "    </tr>\n",
       "    <tr>\n",
       "      <th>support</th>\n",
       "      <td>315.000000</td>\n",
       "      <td>1248.000000</td>\n",
       "      <td>1905.000000</td>\n",
       "      <td>0.844867</td>\n",
       "      <td>3468.000000</td>\n",
       "      <td>3468.000000</td>\n",
       "      <td>41.596453</td>\n",
       "      <td>3.557642</td>\n",
       "    </tr>\n",
       "  </tbody>\n",
       "</table>\n",
       "</div>"
      ],
      "text/plain": [
       "                    0            1            2  accuracy    macro avg  \\\n",
       "precision    0.706161     0.765468     0.919657  0.844867     0.797095   \n",
       "recall       0.473016     0.852564     0.901312  0.844867     0.742297   \n",
       "f1-score     0.566540     0.806672     0.910392  0.844867     0.761201   \n",
       "support    315.000000  1248.000000  1905.000000  0.844867  3468.000000   \n",
       "\n",
       "           weighted avg  train_time  test_time  \n",
       "precision      0.844778   41.596453   3.557642  \n",
       "recall         0.844867   41.596453   3.557642  \n",
       "f1-score       0.841835   41.596453   3.557642  \n",
       "support     3468.000000   41.596453   3.557642  "
      ]
     },
     "execution_count": 116,
     "metadata": {},
     "output_type": "execute_result"
    }
   ],
   "source": [
    "reviews_m5_results"
   ]
  },
  {
   "cell_type": "markdown",
   "id": "f83fa3c0",
   "metadata": {
    "id": "f83fa3c0"
   },
   "source": [
    "From all of the models, the best results in the end were on the augmented data set using the best parameters we found using random search by using the Adam optimizer for accuracy. The difference between the augmented and the normal data set were very minor in the end with 83% and 84% respectively."
   ]
  },
  {
   "cell_type": "markdown",
   "id": "d6294856",
   "metadata": {
    "id": "d6294856"
   },
   "source": [
    "## 4. Model development - News"
   ]
  },
  {
   "cell_type": "code",
   "execution_count": null,
   "id": "4f244e58",
   "metadata": {
    "id": "4f244e58"
   },
   "outputs": [],
   "source": [
    "X_train = X_train_news.copy()\n",
    "y_train = y_train_news.copy()\n",
    "X_test = X_test_news.copy()\n",
    "y_test = y_test_news.copy()\n",
    "X_valid = X_valid_news.copy()\n",
    "y_valid = y_valid_news.copy()\n",
    "\n",
    "X_train = clean_news_data(X_train)\n",
    "X_valid = clean_news_data(X_valid)\n",
    "X_test = clean_news_data(X_test)"
   ]
  },
  {
   "cell_type": "markdown",
   "id": "13fe1034",
   "metadata": {
    "id": "13fe1034"
   },
   "source": [
    "### 4.1. Model 1 - base\n",
    "Again, same thing starting with a bit bigger parameters than the average and going from there."
   ]
  },
  {
   "cell_type": "code",
   "execution_count": null,
   "id": "bf5bfdf1",
   "metadata": {
    "id": "bf5bfdf1"
   },
   "outputs": [],
   "source": [
    "# setting the vocabulary and sentence length\n",
    "voc_size = 10000\n",
    "sent_length = 150\n",
    "embedding_vector_features = 50"
   ]
  },
  {
   "cell_type": "code",
   "execution_count": null,
   "id": "8c857b34",
   "metadata": {
    "id": "8c857b34"
   },
   "outputs": [],
   "source": [
    "X_train, y_train = preprocessing_news(X_train, y_train, sent_length)\n",
    "X_valid, y_valid = preprocessing_news(X_valid, y_valid, sent_length)\n",
    "X_test, y_test = preprocessing_news(X_test, y_test, sent_length)"
   ]
  },
  {
   "cell_type": "code",
   "execution_count": null,
   "id": "948ba612",
   "metadata": {
    "colab": {
     "base_uri": "https://localhost:8080/"
    },
    "executionInfo": {
     "elapsed": 12,
     "status": "ok",
     "timestamp": 1677162466521,
     "user": {
      "displayName": "Branimir Raguž",
      "userId": "04099229421659579348"
     },
     "user_tz": -60
    },
    "id": "948ba612",
    "outputId": "b80012c6-8b73-446c-ffaa-78f88e5cb8d9",
    "scrolled": true
   },
   "outputs": [
    {
     "name": "stdout",
     "output_type": "stream",
     "text": [
      "Model: \"sequential_5\"\n",
      "_________________________________________________________________\n",
      " Layer (type)                Output Shape              Param #   \n",
      "=================================================================\n",
      " embedding_5 (Embedding)     (None, 150, 50)           500000    \n",
      "                                                                 \n",
      " lstm_5 (LSTM)               (None, 100)               60400     \n",
      "                                                                 \n",
      " dense_6 (Dense)             (None, 4)                 404       \n",
      "                                                                 \n",
      "=================================================================\n",
      "Total params: 560,804\n",
      "Trainable params: 560,804\n",
      "Non-trainable params: 0\n",
      "_________________________________________________________________\n",
      "None\n"
     ]
    }
   ],
   "source": [
    "# creating the base LSTM model\n",
    "\n",
    "model = Sequential()\n",
    "model.add(Embedding(voc_size,embedding_vector_features,input_length=sent_length))\n",
    "model.add(LSTM(100))\n",
    "model.add(Dense(4, activation='softmax'))\n",
    "model.compile(loss = 'categorical_crossentropy', optimizer = 'adam', metrics = ['accuracy'])\n",
    "print(model.summary())"
   ]
  },
  {
   "cell_type": "code",
   "execution_count": null,
   "id": "dd9e1d88",
   "metadata": {
    "colab": {
     "base_uri": "https://localhost:8080/"
    },
    "executionInfo": {
     "elapsed": 561018,
     "status": "ok",
     "timestamp": 1677163027533,
     "user": {
      "displayName": "Branimir Raguž",
      "userId": "04099229421659579348"
     },
     "user_tz": -60
    },
    "id": "dd9e1d88",
    "outputId": "6e5f4ba8-6af8-480d-d0dd-6a3b6bb63e99"
   },
   "outputs": [
    {
     "name": "stdout",
     "output_type": "stream",
     "text": [
      "2813/2813 [==============================] - 540s 191ms/step - loss: 0.3787 - accuracy: 0.8689\n",
      "238/238 [==============================] - 13s 52ms/step\n"
     ]
    }
   ],
   "source": [
    "# training and predicting\n",
    "\n",
    "start=time.time()\n",
    "model.fit(X_train, y_train)\n",
    "end=time.time()\n",
    "\n",
    "train_time = end - start\n",
    "\n",
    "start=time.time()\n",
    "y_pred = model.predict(X_test)\n",
    "end=time.time()\n",
    "\n",
    "test_time = end - start"
   ]
  },
  {
   "cell_type": "code",
   "execution_count": null,
   "id": "571bdbf1",
   "metadata": {
    "colab": {
     "base_uri": "https://localhost:8080/"
    },
    "executionInfo": {
     "elapsed": 2591,
     "status": "ok",
     "timestamp": 1677163034537,
     "user": {
      "displayName": "Branimir Raguž",
      "userId": "04099229421659579348"
     },
     "user_tz": -60
    },
    "id": "571bdbf1",
    "outputId": "15417307-edd2-48d2-a269-7bf35e5d608c"
   },
   "outputs": [
    {
     "name": "stdout",
     "output_type": "stream",
     "text": [
      "Keras weights file (<HDF5 file \"variables.h5\" (mode r+)>) saving:\n",
      "...layers\n",
      "......dense\n",
      ".........vars\n",
      "............0\n",
      "............1\n",
      "......embedding\n",
      ".........vars\n",
      "............0\n",
      "......lstm\n",
      ".........cell\n",
      "............vars\n",
      "...............0\n",
      "...............1\n",
      "...............2\n",
      ".........vars\n",
      "...metrics\n",
      "......mean\n",
      ".........vars\n",
      "............0\n",
      "............1\n",
      "......mean_metric_wrapper\n",
      ".........vars\n",
      "............0\n",
      "............1\n",
      "...optimizer\n",
      "......vars\n",
      ".........0\n",
      ".........1\n",
      ".........10\n",
      ".........11\n",
      ".........12\n",
      ".........2\n",
      ".........3\n",
      ".........4\n",
      ".........5\n",
      ".........6\n",
      ".........7\n",
      ".........8\n",
      ".........9\n",
      "...vars\n",
      "Keras model archive saving:\n",
      "File Name                                             Modified             Size\n",
      "metadata.json                                  2023-02-23 14:37:14           64\n",
      "config.json                                    2023-02-23 14:37:14         2219\n",
      "variables.h5                                   2023-02-23 14:37:14      6755904\n"
     ]
    }
   ],
   "source": [
    "# adjust the y_pred and the y_test\n",
    "y_pred = np.argmax(y_pred, axis = 1)\n",
    "y_test = np.argmax(y_test, axis = 1)\n",
    "\n",
    "news_m1_results = classification_report(y_test, y_pred, output_dict=True)\n",
    "\n",
    "news_m1_results['train_time'] = train_time\n",
    "news_m1_results['test_time'] = test_time\n",
    "news_m1_results = pd.DataFrame.from_dict(news_m1_results)\n",
    "news_m1_results.to_csv('results/lstm/news/model_1.csv')\n",
    "pickle.dump(model, open('models/lstm/news/model_1.sav', 'wb'))"
   ]
  },
  {
   "cell_type": "code",
   "execution_count": null,
   "id": "d12e860f",
   "metadata": {
    "colab": {
     "base_uri": "https://localhost:8080/",
     "height": 174
    },
    "executionInfo": {
     "elapsed": 870,
     "status": "ok",
     "timestamp": 1677163038156,
     "user": {
      "displayName": "Branimir Raguž",
      "userId": "04099229421659579348"
     },
     "user_tz": -60
    },
    "id": "d12e860f",
    "outputId": "7745d423-5d3b-43b4-fbee-2f7983b6032b"
   },
   "outputs": [
    {
     "data": {
      "text/html": [
       "\n",
       "  <div id=\"df-5d491d87-dea5-4bd7-b0fb-c463852c05e3\">\n",
       "    <div class=\"colab-df-container\">\n",
       "      <div>\n",
       "<style scoped>\n",
       "    .dataframe tbody tr th:only-of-type {\n",
       "        vertical-align: middle;\n",
       "    }\n",
       "\n",
       "    .dataframe tbody tr th {\n",
       "        vertical-align: top;\n",
       "    }\n",
       "\n",
       "    .dataframe thead th {\n",
       "        text-align: right;\n",
       "    }\n",
       "</style>\n",
       "<table border=\"1\" class=\"dataframe\">\n",
       "  <thead>\n",
       "    <tr style=\"text-align: right;\">\n",
       "      <th></th>\n",
       "      <th>0</th>\n",
       "      <th>1</th>\n",
       "      <th>2</th>\n",
       "      <th>3</th>\n",
       "      <th>accuracy</th>\n",
       "      <th>macro avg</th>\n",
       "      <th>weighted avg</th>\n",
       "      <th>train_time</th>\n",
       "      <th>test_time</th>\n",
       "    </tr>\n",
       "  </thead>\n",
       "  <tbody>\n",
       "    <tr>\n",
       "      <th>precision</th>\n",
       "      <td>0.901254</td>\n",
       "      <td>0.937468</td>\n",
       "      <td>0.860847</td>\n",
       "      <td>0.882996</td>\n",
       "      <td>0.896184</td>\n",
       "      <td>0.895641</td>\n",
       "      <td>0.895641</td>\n",
       "      <td>540.047065</td>\n",
       "      <td>20.94732</td>\n",
       "    </tr>\n",
       "    <tr>\n",
       "      <th>recall</th>\n",
       "      <td>0.907895</td>\n",
       "      <td>0.970526</td>\n",
       "      <td>0.856316</td>\n",
       "      <td>0.850000</td>\n",
       "      <td>0.896184</td>\n",
       "      <td>0.896184</td>\n",
       "      <td>0.896184</td>\n",
       "      <td>540.047065</td>\n",
       "      <td>20.94732</td>\n",
       "    </tr>\n",
       "    <tr>\n",
       "      <th>f1-score</th>\n",
       "      <td>0.904562</td>\n",
       "      <td>0.953711</td>\n",
       "      <td>0.858575</td>\n",
       "      <td>0.866184</td>\n",
       "      <td>0.896184</td>\n",
       "      <td>0.895758</td>\n",
       "      <td>0.895758</td>\n",
       "      <td>540.047065</td>\n",
       "      <td>20.94732</td>\n",
       "    </tr>\n",
       "    <tr>\n",
       "      <th>support</th>\n",
       "      <td>1900.000000</td>\n",
       "      <td>1900.000000</td>\n",
       "      <td>1900.000000</td>\n",
       "      <td>1900.000000</td>\n",
       "      <td>0.896184</td>\n",
       "      <td>7600.000000</td>\n",
       "      <td>7600.000000</td>\n",
       "      <td>540.047065</td>\n",
       "      <td>20.94732</td>\n",
       "    </tr>\n",
       "  </tbody>\n",
       "</table>\n",
       "</div>\n",
       "      <button class=\"colab-df-convert\" onclick=\"convertToInteractive('df-5d491d87-dea5-4bd7-b0fb-c463852c05e3')\"\n",
       "              title=\"Convert this dataframe to an interactive table.\"\n",
       "              style=\"display:none;\">\n",
       "        \n",
       "  <svg xmlns=\"http://www.w3.org/2000/svg\" height=\"24px\"viewBox=\"0 0 24 24\"\n",
       "       width=\"24px\">\n",
       "    <path d=\"M0 0h24v24H0V0z\" fill=\"none\"/>\n",
       "    <path d=\"M18.56 5.44l.94 2.06.94-2.06 2.06-.94-2.06-.94-.94-2.06-.94 2.06-2.06.94zm-11 1L8.5 8.5l.94-2.06 2.06-.94-2.06-.94L8.5 2.5l-.94 2.06-2.06.94zm10 10l.94 2.06.94-2.06 2.06-.94-2.06-.94-.94-2.06-.94 2.06-2.06.94z\"/><path d=\"M17.41 7.96l-1.37-1.37c-.4-.4-.92-.59-1.43-.59-.52 0-1.04.2-1.43.59L10.3 9.45l-7.72 7.72c-.78.78-.78 2.05 0 2.83L4 21.41c.39.39.9.59 1.41.59.51 0 1.02-.2 1.41-.59l7.78-7.78 2.81-2.81c.8-.78.8-2.07 0-2.86zM5.41 20L4 18.59l7.72-7.72 1.47 1.35L5.41 20z\"/>\n",
       "  </svg>\n",
       "      </button>\n",
       "      \n",
       "  <style>\n",
       "    .colab-df-container {\n",
       "      display:flex;\n",
       "      flex-wrap:wrap;\n",
       "      gap: 12px;\n",
       "    }\n",
       "\n",
       "    .colab-df-convert {\n",
       "      background-color: #E8F0FE;\n",
       "      border: none;\n",
       "      border-radius: 50%;\n",
       "      cursor: pointer;\n",
       "      display: none;\n",
       "      fill: #1967D2;\n",
       "      height: 32px;\n",
       "      padding: 0 0 0 0;\n",
       "      width: 32px;\n",
       "    }\n",
       "\n",
       "    .colab-df-convert:hover {\n",
       "      background-color: #E2EBFA;\n",
       "      box-shadow: 0px 1px 2px rgba(60, 64, 67, 0.3), 0px 1px 3px 1px rgba(60, 64, 67, 0.15);\n",
       "      fill: #174EA6;\n",
       "    }\n",
       "\n",
       "    [theme=dark] .colab-df-convert {\n",
       "      background-color: #3B4455;\n",
       "      fill: #D2E3FC;\n",
       "    }\n",
       "\n",
       "    [theme=dark] .colab-df-convert:hover {\n",
       "      background-color: #434B5C;\n",
       "      box-shadow: 0px 1px 3px 1px rgba(0, 0, 0, 0.15);\n",
       "      filter: drop-shadow(0px 1px 2px rgba(0, 0, 0, 0.3));\n",
       "      fill: #FFFFFF;\n",
       "    }\n",
       "  </style>\n",
       "\n",
       "      <script>\n",
       "        const buttonEl =\n",
       "          document.querySelector('#df-5d491d87-dea5-4bd7-b0fb-c463852c05e3 button.colab-df-convert');\n",
       "        buttonEl.style.display =\n",
       "          google.colab.kernel.accessAllowed ? 'block' : 'none';\n",
       "\n",
       "        async function convertToInteractive(key) {\n",
       "          const element = document.querySelector('#df-5d491d87-dea5-4bd7-b0fb-c463852c05e3');\n",
       "          const dataTable =\n",
       "            await google.colab.kernel.invokeFunction('convertToInteractive',\n",
       "                                                     [key], {});\n",
       "          if (!dataTable) return;\n",
       "\n",
       "          const docLinkHtml = 'Like what you see? Visit the ' +\n",
       "            '<a target=\"_blank\" href=https://colab.research.google.com/notebooks/data_table.ipynb>data table notebook</a>'\n",
       "            + ' to learn more about interactive tables.';\n",
       "          element.innerHTML = '';\n",
       "          dataTable['output_type'] = 'display_data';\n",
       "          await google.colab.output.renderOutput(dataTable, element);\n",
       "          const docLink = document.createElement('div');\n",
       "          docLink.innerHTML = docLinkHtml;\n",
       "          element.appendChild(docLink);\n",
       "        }\n",
       "      </script>\n",
       "    </div>\n",
       "  </div>\n",
       "  "
      ],
      "text/plain": [
       "                     0            1            2            3  accuracy  \\\n",
       "precision     0.901254     0.937468     0.860847     0.882996  0.896184   \n",
       "recall        0.907895     0.970526     0.856316     0.850000  0.896184   \n",
       "f1-score      0.904562     0.953711     0.858575     0.866184  0.896184   \n",
       "support    1900.000000  1900.000000  1900.000000  1900.000000  0.896184   \n",
       "\n",
       "             macro avg  weighted avg  train_time  test_time  \n",
       "precision     0.895641      0.895641  540.047065   20.94732  \n",
       "recall        0.896184      0.896184  540.047065   20.94732  \n",
       "f1-score      0.895758      0.895758  540.047065   20.94732  \n",
       "support    7600.000000   7600.000000  540.047065   20.94732  "
      ]
     },
     "execution_count": 97,
     "metadata": {},
     "output_type": "execute_result"
    }
   ],
   "source": [
    "news_m1_results"
   ]
  },
  {
   "cell_type": "markdown",
   "id": "5eee0fd0",
   "metadata": {
    "id": "5eee0fd0"
   },
   "source": [
    "Again, we used model.fit with multiple epochs to see how the model functions better, but we removed it from the notebook for the sake of making everything consistent and clean.\n",
    "\n",
    "Based on the provided results of the LSTM model, it appears to be a good starting point for the news classification task. The training accuracy increased with each epoch, while the validation accuracy remained consistently high, suggesting that the model is generalizing well to new data. The validation loss did not increase significantly over the three epochs, indicating that the model is not overfitting. Overall, the model achieved an accuracy of 85.5% on the validation data.  \n",
    "The test accuracy is 86.9% which is very similar to the validation results, therefore we will try to add dropout layers, or make the model architecture a bit more complex."
   ]
  },
  {
   "cell_type": "markdown",
   "id": "ec02252c",
   "metadata": {
    "id": "ec02252c"
   },
   "source": [
    "### 4.2. Model 2 - bigger parameters"
   ]
  },
  {
   "cell_type": "code",
   "execution_count": null,
   "id": "a65a7b62",
   "metadata": {
    "id": "a65a7b62"
   },
   "outputs": [],
   "source": [
    "# setting the vocabulary and sentence length\n",
    "voc_size = 20000\n",
    "sent_length = 200\n",
    "embedding_vector_features = 100"
   ]
  },
  {
   "cell_type": "code",
   "execution_count": null,
   "id": "87312985",
   "metadata": {
    "id": "87312985"
   },
   "outputs": [],
   "source": [
    "X_train = X_train_news.copy()\n",
    "y_train = y_train_news.copy()\n",
    "X_test = X_test_news.copy()\n",
    "y_test = y_test_news.copy()\n",
    "\n",
    "X_train = clean_news_data(X_train)\n",
    "X_test = clean_news_data(X_test)\n",
    "\n",
    "X_train, y_train = preprocessing_news(X_train, y_train, sent_length)\n",
    "X_test, y_test = preprocessing_news(X_test, y_test, sent_length)"
   ]
  },
  {
   "cell_type": "code",
   "execution_count": null,
   "id": "69462b5f",
   "metadata": {
    "colab": {
     "base_uri": "https://localhost:8080/"
    },
    "executionInfo": {
     "elapsed": 1729,
     "status": "ok",
     "timestamp": 1677167085210,
     "user": {
      "displayName": "Branimir Raguž",
      "userId": "04099229421659579348"
     },
     "user_tz": -60
    },
    "id": "69462b5f",
    "outputId": "6fd1d1aa-a54b-4f8e-8f8d-cdd8e24a4c92",
    "scrolled": true
   },
   "outputs": [
    {
     "name": "stdout",
     "output_type": "stream",
     "text": [
      "Model: \"sequential\"\n",
      "_________________________________________________________________\n",
      " Layer (type)                Output Shape              Param #   \n",
      "=================================================================\n",
      " embedding (Embedding)       (None, 200, 100)          2000000   \n",
      "                                                                 \n",
      " bidirectional (Bidirectiona  (None, 200)              160800    \n",
      " l)                                                              \n",
      "                                                                 \n",
      " dense (Dense)               (None, 4)                 804       \n",
      "                                                                 \n",
      "=================================================================\n",
      "Total params: 2,161,604\n",
      "Trainable params: 2,161,604\n",
      "Non-trainable params: 0\n",
      "_________________________________________________________________\n",
      "None\n"
     ]
    }
   ],
   "source": [
    "# creating the base LSTM model\n",
    "\n",
    "model = Sequential()\n",
    "model.add(Embedding(voc_size,embedding_vector_features,input_length=sent_length))\n",
    "model.add(Bidirectional(LSTM(100)))\n",
    "model.add(Dense(4, activation='softmax'))\n",
    "model.compile(loss = 'categorical_crossentropy', optimizer = 'adam', metrics = ['accuracy'])\n",
    "print(model.summary())"
   ]
  },
  {
   "cell_type": "code",
   "execution_count": null,
   "id": "382996f6",
   "metadata": {
    "colab": {
     "base_uri": "https://localhost:8080/"
    },
    "executionInfo": {
     "elapsed": 1388647,
     "status": "ok",
     "timestamp": 1677164482494,
     "user": {
      "displayName": "Branimir Raguž",
      "userId": "04099229421659579348"
     },
     "user_tz": -60
    },
    "id": "382996f6",
    "outputId": "dbb98e14-fa4d-40a7-b8b2-6e3b669a80bb"
   },
   "outputs": [
    {
     "name": "stdout",
     "output_type": "stream",
     "text": [
      "2813/2813 [==============================] - 1298s 460ms/step - loss: 0.3598 - accuracy: 0.8774\n",
      "238/238 [==============================] - 27s 106ms/step\n"
     ]
    }
   ],
   "source": [
    "# training and predicting\n",
    "\n",
    "start=time.time()\n",
    "model.fit(X_train, y_train)\n",
    "end=time.time()\n",
    "\n",
    "train_time = end - start\n",
    "\n",
    "start=time.time()\n",
    "y_pred = model.predict(X_test)\n",
    "end=time.time()\n",
    "\n",
    "test_time = end - start"
   ]
  },
  {
   "cell_type": "code",
   "execution_count": null,
   "id": "4f96ad42",
   "metadata": {
    "colab": {
     "base_uri": "https://localhost:8080/"
    },
    "executionInfo": {
     "elapsed": 2371,
     "status": "ok",
     "timestamp": 1677164492904,
     "user": {
      "displayName": "Branimir Raguž",
      "userId": "04099229421659579348"
     },
     "user_tz": -60
    },
    "id": "4f96ad42",
    "outputId": "731bbc1e-7ba8-4c87-e0c3-029fbec75aed"
   },
   "outputs": [
    {
     "name": "stdout",
     "output_type": "stream",
     "text": [
      "Keras weights file (<HDF5 file \"variables.h5\" (mode r+)>) saving:\n",
      "...layers\n",
      "......bidirectional\n",
      ".........backward_layer\n",
      "............cell\n",
      "...............vars\n",
      "..................0\n",
      "..................1\n",
      "..................2\n",
      "............vars\n",
      ".........forward_layer\n",
      "............cell\n",
      "...............vars\n",
      "..................0\n",
      "..................1\n",
      "..................2\n",
      "............vars\n",
      ".........layer\n",
      "............cell\n",
      "...............vars\n",
      "............vars\n",
      ".........vars\n",
      "......dense\n",
      ".........vars\n",
      "............0\n",
      "............1\n",
      "......embedding\n",
      ".........vars\n",
      "............0\n",
      "...metrics\n",
      "......mean\n",
      ".........vars\n",
      "............0\n",
      "............1\n",
      "......mean_metric_wrapper\n",
      ".........vars\n",
      "............0\n",
      "............1\n",
      "...optimizer\n",
      "......vars\n",
      ".........0\n",
      ".........1\n",
      ".........10\n",
      ".........11\n",
      ".........12\n",
      ".........13\n",
      ".........14\n",
      ".........15\n",
      ".........16\n",
      ".........17\n",
      ".........18\n",
      ".........2\n",
      ".........3\n",
      ".........4\n",
      ".........5\n",
      ".........6\n",
      ".........7\n",
      ".........8\n",
      ".........9\n",
      "...vars\n",
      "Keras model archive saving:\n",
      "File Name                                             Modified             Size\n",
      "metadata.json                                  2023-02-23 15:01:33           64\n",
      "config.json                                    2023-02-23 15:01:33         2364\n",
      "variables.h5                                   2023-02-23 15:01:33     25977848\n"
     ]
    }
   ],
   "source": [
    "# adjust the y_pred and the y_test\n",
    "y_pred = np.argmax(y_pred, axis = 1)\n",
    "y_test = np.argmax(y_test, axis = 1)\n",
    "\n",
    "news_m2_results = classification_report(y_test, y_pred, output_dict=True)\n",
    "\n",
    "news_m2_results['train_time'] = train_time\n",
    "news_m2_results['test_time'] = test_time\n",
    "news_m2_results = pd.DataFrame.from_dict(news_m2_results)\n",
    "news_m2_results.to_csv('results/lstm/news/model_2.csv')\n",
    "pickle.dump(model, open('models/lstm/news/model_2.sav', 'wb'))"
   ]
  },
  {
   "cell_type": "code",
   "execution_count": null,
   "id": "53977a7c",
   "metadata": {
    "colab": {
     "base_uri": "https://localhost:8080/",
     "height": 174
    },
    "executionInfo": {
     "elapsed": 555,
     "status": "ok",
     "timestamp": 1677164497079,
     "user": {
      "displayName": "Branimir Raguž",
      "userId": "04099229421659579348"
     },
     "user_tz": -60
    },
    "id": "53977a7c",
    "outputId": "c10f575f-dd4a-4c85-9827-009a16637f29"
   },
   "outputs": [
    {
     "data": {
      "text/html": [
       "\n",
       "  <div id=\"df-a56475e9-0896-463d-b357-ae34985133cc\">\n",
       "    <div class=\"colab-df-container\">\n",
       "      <div>\n",
       "<style scoped>\n",
       "    .dataframe tbody tr th:only-of-type {\n",
       "        vertical-align: middle;\n",
       "    }\n",
       "\n",
       "    .dataframe tbody tr th {\n",
       "        vertical-align: top;\n",
       "    }\n",
       "\n",
       "    .dataframe thead th {\n",
       "        text-align: right;\n",
       "    }\n",
       "</style>\n",
       "<table border=\"1\" class=\"dataframe\">\n",
       "  <thead>\n",
       "    <tr style=\"text-align: right;\">\n",
       "      <th></th>\n",
       "      <th>0</th>\n",
       "      <th>1</th>\n",
       "      <th>2</th>\n",
       "      <th>3</th>\n",
       "      <th>accuracy</th>\n",
       "      <th>macro avg</th>\n",
       "      <th>weighted avg</th>\n",
       "      <th>train_time</th>\n",
       "      <th>test_time</th>\n",
       "    </tr>\n",
       "  </thead>\n",
       "  <tbody>\n",
       "    <tr>\n",
       "      <th>precision</th>\n",
       "      <td>0.947698</td>\n",
       "      <td>0.942494</td>\n",
       "      <td>0.842415</td>\n",
       "      <td>0.893964</td>\n",
       "      <td>0.905132</td>\n",
       "      <td>0.906643</td>\n",
       "      <td>0.906643</td>\n",
       "      <td>1345.974194</td>\n",
       "      <td>42.282684</td>\n",
       "    </tr>\n",
       "    <tr>\n",
       "      <th>recall</th>\n",
       "      <td>0.877368</td>\n",
       "      <td>0.974737</td>\n",
       "      <td>0.903158</td>\n",
       "      <td>0.865263</td>\n",
       "      <td>0.905132</td>\n",
       "      <td>0.905132</td>\n",
       "      <td>0.905132</td>\n",
       "      <td>1345.974194</td>\n",
       "      <td>42.282684</td>\n",
       "    </tr>\n",
       "    <tr>\n",
       "      <th>f1-score</th>\n",
       "      <td>0.911178</td>\n",
       "      <td>0.958344</td>\n",
       "      <td>0.871730</td>\n",
       "      <td>0.879380</td>\n",
       "      <td>0.905132</td>\n",
       "      <td>0.905158</td>\n",
       "      <td>0.905158</td>\n",
       "      <td>1345.974194</td>\n",
       "      <td>42.282684</td>\n",
       "    </tr>\n",
       "    <tr>\n",
       "      <th>support</th>\n",
       "      <td>1900.000000</td>\n",
       "      <td>1900.000000</td>\n",
       "      <td>1900.000000</td>\n",
       "      <td>1900.000000</td>\n",
       "      <td>0.905132</td>\n",
       "      <td>7600.000000</td>\n",
       "      <td>7600.000000</td>\n",
       "      <td>1345.974194</td>\n",
       "      <td>42.282684</td>\n",
       "    </tr>\n",
       "  </tbody>\n",
       "</table>\n",
       "</div>\n",
       "      <button class=\"colab-df-convert\" onclick=\"convertToInteractive('df-a56475e9-0896-463d-b357-ae34985133cc')\"\n",
       "              title=\"Convert this dataframe to an interactive table.\"\n",
       "              style=\"display:none;\">\n",
       "        \n",
       "  <svg xmlns=\"http://www.w3.org/2000/svg\" height=\"24px\"viewBox=\"0 0 24 24\"\n",
       "       width=\"24px\">\n",
       "    <path d=\"M0 0h24v24H0V0z\" fill=\"none\"/>\n",
       "    <path d=\"M18.56 5.44l.94 2.06.94-2.06 2.06-.94-2.06-.94-.94-2.06-.94 2.06-2.06.94zm-11 1L8.5 8.5l.94-2.06 2.06-.94-2.06-.94L8.5 2.5l-.94 2.06-2.06.94zm10 10l.94 2.06.94-2.06 2.06-.94-2.06-.94-.94-2.06-.94 2.06-2.06.94z\"/><path d=\"M17.41 7.96l-1.37-1.37c-.4-.4-.92-.59-1.43-.59-.52 0-1.04.2-1.43.59L10.3 9.45l-7.72 7.72c-.78.78-.78 2.05 0 2.83L4 21.41c.39.39.9.59 1.41.59.51 0 1.02-.2 1.41-.59l7.78-7.78 2.81-2.81c.8-.78.8-2.07 0-2.86zM5.41 20L4 18.59l7.72-7.72 1.47 1.35L5.41 20z\"/>\n",
       "  </svg>\n",
       "      </button>\n",
       "      \n",
       "  <style>\n",
       "    .colab-df-container {\n",
       "      display:flex;\n",
       "      flex-wrap:wrap;\n",
       "      gap: 12px;\n",
       "    }\n",
       "\n",
       "    .colab-df-convert {\n",
       "      background-color: #E8F0FE;\n",
       "      border: none;\n",
       "      border-radius: 50%;\n",
       "      cursor: pointer;\n",
       "      display: none;\n",
       "      fill: #1967D2;\n",
       "      height: 32px;\n",
       "      padding: 0 0 0 0;\n",
       "      width: 32px;\n",
       "    }\n",
       "\n",
       "    .colab-df-convert:hover {\n",
       "      background-color: #E2EBFA;\n",
       "      box-shadow: 0px 1px 2px rgba(60, 64, 67, 0.3), 0px 1px 3px 1px rgba(60, 64, 67, 0.15);\n",
       "      fill: #174EA6;\n",
       "    }\n",
       "\n",
       "    [theme=dark] .colab-df-convert {\n",
       "      background-color: #3B4455;\n",
       "      fill: #D2E3FC;\n",
       "    }\n",
       "\n",
       "    [theme=dark] .colab-df-convert:hover {\n",
       "      background-color: #434B5C;\n",
       "      box-shadow: 0px 1px 3px 1px rgba(0, 0, 0, 0.15);\n",
       "      filter: drop-shadow(0px 1px 2px rgba(0, 0, 0, 0.3));\n",
       "      fill: #FFFFFF;\n",
       "    }\n",
       "  </style>\n",
       "\n",
       "      <script>\n",
       "        const buttonEl =\n",
       "          document.querySelector('#df-a56475e9-0896-463d-b357-ae34985133cc button.colab-df-convert');\n",
       "        buttonEl.style.display =\n",
       "          google.colab.kernel.accessAllowed ? 'block' : 'none';\n",
       "\n",
       "        async function convertToInteractive(key) {\n",
       "          const element = document.querySelector('#df-a56475e9-0896-463d-b357-ae34985133cc');\n",
       "          const dataTable =\n",
       "            await google.colab.kernel.invokeFunction('convertToInteractive',\n",
       "                                                     [key], {});\n",
       "          if (!dataTable) return;\n",
       "\n",
       "          const docLinkHtml = 'Like what you see? Visit the ' +\n",
       "            '<a target=\"_blank\" href=https://colab.research.google.com/notebooks/data_table.ipynb>data table notebook</a>'\n",
       "            + ' to learn more about interactive tables.';\n",
       "          element.innerHTML = '';\n",
       "          dataTable['output_type'] = 'display_data';\n",
       "          await google.colab.output.renderOutput(dataTable, element);\n",
       "          const docLink = document.createElement('div');\n",
       "          docLink.innerHTML = docLinkHtml;\n",
       "          element.appendChild(docLink);\n",
       "        }\n",
       "      </script>\n",
       "    </div>\n",
       "  </div>\n",
       "  "
      ],
      "text/plain": [
       "                     0            1            2            3  accuracy  \\\n",
       "precision     0.947698     0.942494     0.842415     0.893964  0.905132   \n",
       "recall        0.877368     0.974737     0.903158     0.865263  0.905132   \n",
       "f1-score      0.911178     0.958344     0.871730     0.879380  0.905132   \n",
       "support    1900.000000  1900.000000  1900.000000  1900.000000  0.905132   \n",
       "\n",
       "             macro avg  weighted avg   train_time  test_time  \n",
       "precision     0.906643      0.906643  1345.974194  42.282684  \n",
       "recall        0.905132      0.905132  1345.974194  42.282684  \n",
       "f1-score      0.905158      0.905158  1345.974194  42.282684  \n",
       "support    7600.000000   7600.000000  1345.974194  42.282684  "
      ]
     },
     "execution_count": 103,
     "metadata": {},
     "output_type": "execute_result"
    }
   ],
   "source": [
    "news_m2_results"
   ]
  },
  {
   "cell_type": "markdown",
   "id": "IbQ_0v_XsUJD",
   "metadata": {
    "id": "IbQ_0v_XsUJD"
   },
   "source": [
    "### News, Hyperparameter tuning"
   ]
  },
  {
   "cell_type": "code",
   "execution_count": null,
   "id": "JPrlpR6A8Hmo",
   "metadata": {
    "colab": {
     "base_uri": "https://localhost:8080/"
    },
    "executionInfo": {
     "elapsed": 495,
     "status": "ok",
     "timestamp": 1677169580430,
     "user": {
      "displayName": "Branimir Raguž",
      "userId": "04099229421659579348"
     },
     "user_tz": -60
    },
    "id": "JPrlpR6A8Hmo",
    "outputId": "5741af51-4666-4e86-af68-16b6d896c546"
   },
   "outputs": [
    {
     "name": "stderr",
     "output_type": "stream",
     "text": [
      "[nltk_data] Downloading package stopwords to /root/nltk_data...\n",
      "[nltk_data]   Unzipping corpora/stopwords.zip.\n"
     ]
    },
    {
     "data": {
      "text/plain": [
       "True"
      ]
     },
     "execution_count": 43,
     "metadata": {},
     "output_type": "execute_result"
    }
   ],
   "source": [
    "# setting the vocabulary and sentence length\n",
    "voc_size = 20000\n",
    "sent_length = 200\n",
    "embedding_vector_features = 50"
   ]
  },
  {
   "cell_type": "code",
   "execution_count": null,
   "id": "LeMlaistub4R",
   "metadata": {
    "id": "LeMlaistub4R"
   },
   "outputs": [],
   "source": [
    "X_train = X_train_news_eight.copy()\n",
    "y_train = y_train_news_eight.copy()\n",
    "X_test = X_test_news.copy()\n",
    "y_test = y_test_news.copy()\n",
    "X_valid = X_valid_news.copy()\n",
    "y_valid = y_valid_news.copy()\n",
    "\n",
    "X_train = clean_news_data(X_train)\n",
    "X_valid = clean_news_data(X_valid)\n",
    "X_test = clean_news_data(X_test)\n",
    "\n",
    "X_train, y_train = preprocessing_news(X_train, y_train, sent_length)\n",
    "X_valid, y_valid = preprocessing_news(X_valid, y_valid, sent_length)\n",
    "X_test, y_test = preprocessing_news(X_test, y_test, sent_length)"
   ]
  },
  {
   "cell_type": "code",
   "execution_count": null,
   "id": "80Jc4HufsZa6",
   "metadata": {
    "id": "80Jc4HufsZa6"
   },
   "outputs": [],
   "source": [
    "def create_model(hp):\n",
    "    model = Sequential()\n",
    "    model.add(Embedding(\n",
    "        input_dim=hp.Int('voc_size', 15000, 30000, step=5000),\n",
    "        output_dim=hp.Int('embedding_size', 32, 160, 32),\n",
    "        input_length = 200))    \n",
    "    model.add(Bidirectional(LSTM(units=hp.Int('LSTM_units', 32, 128, 32))))\n",
    "    model.add(Dense(units=hp.Int('dense_units', 10, 50, 10), activation=hp.Choice('dense_activation', values=['relu', 'sigmoid', 'tanh'])))\n",
    "    model.add(Dense(units=4, activation='softmax'))\n",
    "    model.compile(\n",
    "        optimizer=Adam(hp.Choice('learning_rate', values=[0.01, 0.001, 0.0001])),\n",
    "        loss=CategoricalCrossentropy(),\n",
    "        metrics=[Accuracy()]\n",
    "    )\n",
    "    return model"
   ]
  },
  {
   "cell_type": "code",
   "execution_count": null,
   "id": "YULrVqPvsrBw",
   "metadata": {
    "id": "YULrVqPvsrBw"
   },
   "outputs": [],
   "source": [
    "tuner = RandomSearch(\n",
    "    create_model,\n",
    "    objective='val_accuracy',\n",
    "    max_trials=10,\n",
    "    executions_per_trial=3,\n",
    "    directory='tuning',\n",
    "    project_name='news'\n",
    ")"
   ]
  },
  {
   "cell_type": "code",
   "execution_count": null,
   "id": "QIldjkecsskH",
   "metadata": {
    "colab": {
     "base_uri": "https://localhost:8080/"
    },
    "executionInfo": {
     "elapsed": 1806651,
     "status": "ok",
     "timestamp": 1677171457673,
     "user": {
      "displayName": "Branimir Raguž",
      "userId": "04099229421659579348"
     },
     "user_tz": -60
    },
    "id": "QIldjkecsskH",
    "outputId": "bbe68731-723c-47ce-9c4b-a112ad43f427"
   },
   "outputs": [
    {
     "name": "stdout",
     "output_type": "stream",
     "text": [
      "Trial 10 Complete [00h 03m 57s]\n",
      "val_accuracy: 0.0\n",
      "\n",
      "Best val_accuracy So Far: 0.0\n",
      "Total elapsed time: 00h 30m 05s\n"
     ]
    }
   ],
   "source": [
    "tuner.search(X_train, y_train, epochs=3, validation_data=(X_valid, y_valid))"
   ]
  },
  {
   "cell_type": "code",
   "execution_count": null,
   "id": "PMqhQhHZsu6i",
   "metadata": {
    "id": "PMqhQhHZsu6i"
   },
   "outputs": [],
   "source": [
    "best_hyperparameters = tuner.get_best_hyperparameters(num_trials=1)[0]\n",
    "model = tuner.hypermodel.build(best_hyperparameters)"
   ]
  },
  {
   "cell_type": "code",
   "execution_count": null,
   "id": "7QqLGXlKswjf",
   "metadata": {
    "colab": {
     "base_uri": "https://localhost:8080/"
    },
    "executionInfo": {
     "elapsed": 440,
     "status": "ok",
     "timestamp": 1677173148724,
     "user": {
      "displayName": "Branimir Raguž",
      "userId": "04099229421659579348"
     },
     "user_tz": -60
    },
    "id": "7QqLGXlKswjf",
    "outputId": "8dd6255d-36b5-4f32-ae20-cf64f75085f8"
   },
   "outputs": [
    {
     "data": {
      "text/plain": [
       "{'voc_size': 30000,\n",
       " 'embedding_size': 32,\n",
       " 'LSTM_units': 96,\n",
       " 'dense_units': 40,\n",
       " 'dense_activation': 'tanh',\n",
       " 'learning_rate': 0.001}"
      ]
     },
     "execution_count": 51,
     "metadata": {},
     "output_type": "execute_result"
    }
   ],
   "source": [
    "best_hyperparameters.values"
   ]
  },
  {
   "cell_type": "markdown",
   "id": "rntXN9WzUVeF",
   "metadata": {
    "id": "rntXN9WzUVeF"
   },
   "source": [
    "{'voc_size': 30000,\n",
    " 'embedding_size': 32,\n",
    " 'LSTM_units': 96,\n",
    " 'dense_units': 40,\n",
    " 'dense_activation': 'tanh',\n",
    " 'learning_rate': 0.001}"
   ]
  },
  {
   "cell_type": "markdown",
   "id": "VoYDdfK_UO3V",
   "metadata": {
    "id": "VoYDdfK_UO3V"
   },
   "source": [
    "### 3.3. Model 3 - with best parameters"
   ]
  },
  {
   "cell_type": "code",
   "execution_count": null,
   "id": "Jt8zPc_Qsy2D",
   "metadata": {
    "id": "Jt8zPc_Qsy2D"
   },
   "outputs": [],
   "source": [
    "# setting the vocabulary and sentence length\n",
    "voc_size = 30000\n",
    "sent_length = 200\n",
    "embedding_vector_features = 32"
   ]
  },
  {
   "cell_type": "code",
   "execution_count": null,
   "id": "zFdegzUGUZby",
   "metadata": {
    "id": "zFdegzUGUZby"
   },
   "outputs": [],
   "source": [
    "X_train = X_train_news.copy()\n",
    "y_train = y_train_news.copy()\n",
    "X_test = X_test_news.copy()\n",
    "y_test = y_test_news.copy()\n",
    "\n",
    "X_train = clean_news_data(X_train)\n",
    "X_test = clean_news_data(X_test)\n",
    "\n",
    "X_train, y_train = preprocessing_news(X_train, y_train, sent_length)\n",
    "X_test, y_test = preprocessing_news(X_test, y_test, sent_length)"
   ]
  },
  {
   "cell_type": "code",
   "execution_count": null,
   "id": "2JIvSVTVUq2K",
   "metadata": {
    "colab": {
     "base_uri": "https://localhost:8080/"
    },
    "executionInfo": {
     "elapsed": 595,
     "status": "ok",
     "timestamp": 1677173488166,
     "user": {
      "displayName": "Branimir Raguž",
      "userId": "04099229421659579348"
     },
     "user_tz": -60
    },
    "id": "2JIvSVTVUq2K",
    "outputId": "864f3805-98e7-488f-a145-dad29620ba56"
   },
   "outputs": [
    {
     "name": "stdout",
     "output_type": "stream",
     "text": [
      "Model: \"sequential_2\"\n",
      "_________________________________________________________________\n",
      " Layer (type)                Output Shape              Param #   \n",
      "=================================================================\n",
      " embedding_2 (Embedding)     (None, 200, 50)           1000000   \n",
      "                                                                 \n",
      " bidirectional_2 (Bidirectio  (None, 192)              112896    \n",
      " nal)                                                            \n",
      "                                                                 \n",
      " dense_4 (Dense)             (None, 40)                7720      \n",
      "                                                                 \n",
      " dense_5 (Dense)             (None, 4)                 164       \n",
      "                                                                 \n",
      "=================================================================\n",
      "Total params: 1,120,780\n",
      "Trainable params: 1,120,780\n",
      "Non-trainable params: 0\n",
      "_________________________________________________________________\n",
      "None\n"
     ]
    }
   ],
   "source": [
    "model = Sequential()\n",
    "model.add(Embedding(voc_size,embedding_vector_features,input_length=sent_length))\n",
    "model.add(Bidirectional(LSTM(96)))\n",
    "model.add(Dense(40, activation='tanh'))\n",
    "model.add(Dense(4, activation='softmax'))\n",
    "model.compile(loss = 'categorical_crossentropy', optimizer = Adam(learning_rate=0.01), metrics = ['accuracy'])\n",
    "print(model.summary())"
   ]
  },
  {
   "cell_type": "code",
   "execution_count": null,
   "id": "HIgoWFoaVKIz",
   "metadata": {
    "colab": {
     "base_uri": "https://localhost:8080/"
    },
    "executionInfo": {
     "elapsed": 100038,
     "status": "ok",
     "timestamp": 1677173601541,
     "user": {
      "displayName": "Branimir Raguž",
      "userId": "04099229421659579348"
     },
     "user_tz": -60
    },
    "id": "HIgoWFoaVKIz",
    "outputId": "7545b937-62ff-44f8-afdb-2749cd8137e4"
   },
   "outputs": [
    {
     "name": "stdout",
     "output_type": "stream",
     "text": [
      "2813/2813 [==============================] - 96s 31ms/step - loss: 0.3919 - accuracy: 0.8695\n",
      "238/238 [==============================] - 2s 6ms/step\n"
     ]
    }
   ],
   "source": [
    "# training and predicting\n",
    "\n",
    "start=time.time()\n",
    "model.fit(X_train, y_train)\n",
    "end=time.time()\n",
    "\n",
    "train_time = end - start\n",
    "\n",
    "start=time.time()\n",
    "y_pred = model.predict(X_test)\n",
    "end=time.time()\n",
    "\n",
    "test_time = end - start"
   ]
  },
  {
   "cell_type": "code",
   "execution_count": null,
   "id": "f_s_wXoUVOjT",
   "metadata": {
    "colab": {
     "base_uri": "https://localhost:8080/"
    },
    "executionInfo": {
     "elapsed": 2413,
     "status": "ok",
     "timestamp": 1677173738536,
     "user": {
      "displayName": "Branimir Raguž",
      "userId": "04099229421659579348"
     },
     "user_tz": -60
    },
    "id": "f_s_wXoUVOjT",
    "outputId": "bd6694b8-9103-4e16-deb0-2674c31ee20c"
   },
   "outputs": [
    {
     "name": "stdout",
     "output_type": "stream",
     "text": [
      "Keras weights file (<HDF5 file \"variables.h5\" (mode r+)>) saving:\n",
      "...layers\n",
      "......bidirectional\n",
      ".........backward_layer\n",
      "............cell\n",
      "...............vars\n",
      "..................0\n",
      "..................1\n",
      "..................2\n",
      "............vars\n",
      ".........forward_layer\n",
      "............cell\n",
      "...............vars\n",
      "..................0\n",
      "..................1\n",
      "..................2\n",
      "............vars\n",
      ".........layer\n",
      "............cell\n",
      "...............vars\n",
      "............vars\n",
      ".........vars\n",
      "......dense\n",
      ".........vars\n",
      "............0\n",
      "............1\n",
      "......dense_1\n",
      ".........vars\n",
      "............0\n",
      "............1\n",
      "......embedding\n",
      ".........vars\n",
      "............0\n",
      "...metrics\n",
      "......mean\n",
      ".........vars\n",
      "............0\n",
      "............1\n",
      "......mean_metric_wrapper\n",
      ".........vars\n",
      "............0\n",
      "............1\n",
      "...optimizer\n",
      "......vars\n",
      ".........0\n",
      ".........1\n",
      ".........10\n",
      ".........11\n",
      ".........12\n",
      ".........13\n",
      ".........14\n",
      ".........15\n",
      ".........16\n",
      ".........17\n",
      ".........18\n",
      ".........19\n",
      ".........2\n",
      ".........20\n",
      ".........21\n",
      ".........22\n",
      ".........3\n",
      ".........4\n",
      ".........5\n",
      ".........6\n",
      ".........7\n",
      ".........8\n",
      ".........9\n",
      "...vars\n",
      "Keras model archive saving:\n",
      "File Name                                             Modified             Size\n",
      "config.json                                    2023-02-23 17:35:37         3200\n",
      "metadata.json                                  2023-02-23 17:35:37           64\n",
      "variables.h5                                   2023-02-23 17:35:37     13492176\n"
     ]
    }
   ],
   "source": [
    "# adjust the y_pred and the y_test\n",
    "y_pred = np.argmax(y_pred, axis = 1)\n",
    "y_test = np.argmax(y_test, axis = 1)\n",
    "\n",
    "news_m3_results = classification_report(y_test, y_pred, output_dict=True)\n",
    "\n",
    "news_m3_results['train_time'] = train_time\n",
    "news_m3_results['test_time'] = test_time\n",
    "news_m3_results = pd.DataFrame.from_dict(news_m3_results)\n",
    "news_m3_results.to_csv('results/lstm/news/model_3.csv')\n",
    "pickle.dump(model, open('models/lstm/news/model_3.sav', 'wb'))"
   ]
  },
  {
   "cell_type": "code",
   "execution_count": null,
   "id": "Frr2jvAsWE67",
   "metadata": {
    "colab": {
     "base_uri": "https://localhost:8080/",
     "height": 174
    },
    "executionInfo": {
     "elapsed": 6,
     "status": "ok",
     "timestamp": 1677173747248,
     "user": {
      "displayName": "Branimir Raguž",
      "userId": "04099229421659579348"
     },
     "user_tz": -60
    },
    "id": "Frr2jvAsWE67",
    "outputId": "066384f4-1bd8-4d6d-e21e-dd71e77e270b"
   },
   "outputs": [
    {
     "data": {
      "text/html": [
       "\n",
       "  <div id=\"df-587f1a92-cd01-4448-ba0d-4a20d7a82c8e\">\n",
       "    <div class=\"colab-df-container\">\n",
       "      <div>\n",
       "<style scoped>\n",
       "    .dataframe tbody tr th:only-of-type {\n",
       "        vertical-align: middle;\n",
       "    }\n",
       "\n",
       "    .dataframe tbody tr th {\n",
       "        vertical-align: top;\n",
       "    }\n",
       "\n",
       "    .dataframe thead th {\n",
       "        text-align: right;\n",
       "    }\n",
       "</style>\n",
       "<table border=\"1\" class=\"dataframe\">\n",
       "  <thead>\n",
       "    <tr style=\"text-align: right;\">\n",
       "      <th></th>\n",
       "      <th>0</th>\n",
       "      <th>1</th>\n",
       "      <th>2</th>\n",
       "      <th>3</th>\n",
       "      <th>accuracy</th>\n",
       "      <th>macro avg</th>\n",
       "      <th>weighted avg</th>\n",
       "      <th>train_time</th>\n",
       "      <th>test_time</th>\n",
       "    </tr>\n",
       "  </thead>\n",
       "  <tbody>\n",
       "    <tr>\n",
       "      <th>precision</th>\n",
       "      <td>0.940081</td>\n",
       "      <td>0.931244</td>\n",
       "      <td>0.871795</td>\n",
       "      <td>0.813315</td>\n",
       "      <td>0.886184</td>\n",
       "      <td>0.889109</td>\n",
       "      <td>0.889109</td>\n",
       "      <td>96.203267</td>\n",
       "      <td>3.304089</td>\n",
       "    </tr>\n",
       "    <tr>\n",
       "      <th>recall</th>\n",
       "      <td>0.850526</td>\n",
       "      <td>0.969474</td>\n",
       "      <td>0.805263</td>\n",
       "      <td>0.919474</td>\n",
       "      <td>0.886184</td>\n",
       "      <td>0.886184</td>\n",
       "      <td>0.886184</td>\n",
       "      <td>96.203267</td>\n",
       "      <td>3.304089</td>\n",
       "    </tr>\n",
       "    <tr>\n",
       "      <th>f1-score</th>\n",
       "      <td>0.893064</td>\n",
       "      <td>0.949974</td>\n",
       "      <td>0.837209</td>\n",
       "      <td>0.863142</td>\n",
       "      <td>0.886184</td>\n",
       "      <td>0.885848</td>\n",
       "      <td>0.885848</td>\n",
       "      <td>96.203267</td>\n",
       "      <td>3.304089</td>\n",
       "    </tr>\n",
       "    <tr>\n",
       "      <th>support</th>\n",
       "      <td>1900.000000</td>\n",
       "      <td>1900.000000</td>\n",
       "      <td>1900.000000</td>\n",
       "      <td>1900.000000</td>\n",
       "      <td>0.886184</td>\n",
       "      <td>7600.000000</td>\n",
       "      <td>7600.000000</td>\n",
       "      <td>96.203267</td>\n",
       "      <td>3.304089</td>\n",
       "    </tr>\n",
       "  </tbody>\n",
       "</table>\n",
       "</div>\n",
       "      <button class=\"colab-df-convert\" onclick=\"convertToInteractive('df-587f1a92-cd01-4448-ba0d-4a20d7a82c8e')\"\n",
       "              title=\"Convert this dataframe to an interactive table.\"\n",
       "              style=\"display:none;\">\n",
       "        \n",
       "  <svg xmlns=\"http://www.w3.org/2000/svg\" height=\"24px\"viewBox=\"0 0 24 24\"\n",
       "       width=\"24px\">\n",
       "    <path d=\"M0 0h24v24H0V0z\" fill=\"none\"/>\n",
       "    <path d=\"M18.56 5.44l.94 2.06.94-2.06 2.06-.94-2.06-.94-.94-2.06-.94 2.06-2.06.94zm-11 1L8.5 8.5l.94-2.06 2.06-.94-2.06-.94L8.5 2.5l-.94 2.06-2.06.94zm10 10l.94 2.06.94-2.06 2.06-.94-2.06-.94-.94-2.06-.94 2.06-2.06.94z\"/><path d=\"M17.41 7.96l-1.37-1.37c-.4-.4-.92-.59-1.43-.59-.52 0-1.04.2-1.43.59L10.3 9.45l-7.72 7.72c-.78.78-.78 2.05 0 2.83L4 21.41c.39.39.9.59 1.41.59.51 0 1.02-.2 1.41-.59l7.78-7.78 2.81-2.81c.8-.78.8-2.07 0-2.86zM5.41 20L4 18.59l7.72-7.72 1.47 1.35L5.41 20z\"/>\n",
       "  </svg>\n",
       "      </button>\n",
       "      \n",
       "  <style>\n",
       "    .colab-df-container {\n",
       "      display:flex;\n",
       "      flex-wrap:wrap;\n",
       "      gap: 12px;\n",
       "    }\n",
       "\n",
       "    .colab-df-convert {\n",
       "      background-color: #E8F0FE;\n",
       "      border: none;\n",
       "      border-radius: 50%;\n",
       "      cursor: pointer;\n",
       "      display: none;\n",
       "      fill: #1967D2;\n",
       "      height: 32px;\n",
       "      padding: 0 0 0 0;\n",
       "      width: 32px;\n",
       "    }\n",
       "\n",
       "    .colab-df-convert:hover {\n",
       "      background-color: #E2EBFA;\n",
       "      box-shadow: 0px 1px 2px rgba(60, 64, 67, 0.3), 0px 1px 3px 1px rgba(60, 64, 67, 0.15);\n",
       "      fill: #174EA6;\n",
       "    }\n",
       "\n",
       "    [theme=dark] .colab-df-convert {\n",
       "      background-color: #3B4455;\n",
       "      fill: #D2E3FC;\n",
       "    }\n",
       "\n",
       "    [theme=dark] .colab-df-convert:hover {\n",
       "      background-color: #434B5C;\n",
       "      box-shadow: 0px 1px 3px 1px rgba(0, 0, 0, 0.15);\n",
       "      filter: drop-shadow(0px 1px 2px rgba(0, 0, 0, 0.3));\n",
       "      fill: #FFFFFF;\n",
       "    }\n",
       "  </style>\n",
       "\n",
       "      <script>\n",
       "        const buttonEl =\n",
       "          document.querySelector('#df-587f1a92-cd01-4448-ba0d-4a20d7a82c8e button.colab-df-convert');\n",
       "        buttonEl.style.display =\n",
       "          google.colab.kernel.accessAllowed ? 'block' : 'none';\n",
       "\n",
       "        async function convertToInteractive(key) {\n",
       "          const element = document.querySelector('#df-587f1a92-cd01-4448-ba0d-4a20d7a82c8e');\n",
       "          const dataTable =\n",
       "            await google.colab.kernel.invokeFunction('convertToInteractive',\n",
       "                                                     [key], {});\n",
       "          if (!dataTable) return;\n",
       "\n",
       "          const docLinkHtml = 'Like what you see? Visit the ' +\n",
       "            '<a target=\"_blank\" href=https://colab.research.google.com/notebooks/data_table.ipynb>data table notebook</a>'\n",
       "            + ' to learn more about interactive tables.';\n",
       "          element.innerHTML = '';\n",
       "          dataTable['output_type'] = 'display_data';\n",
       "          await google.colab.output.renderOutput(dataTable, element);\n",
       "          const docLink = document.createElement('div');\n",
       "          docLink.innerHTML = docLinkHtml;\n",
       "          element.appendChild(docLink);\n",
       "        }\n",
       "      </script>\n",
       "    </div>\n",
       "  </div>\n",
       "  "
      ],
      "text/plain": [
       "                     0            1            2            3  accuracy  \\\n",
       "precision     0.940081     0.931244     0.871795     0.813315  0.886184   \n",
       "recall        0.850526     0.969474     0.805263     0.919474  0.886184   \n",
       "f1-score      0.893064     0.949974     0.837209     0.863142  0.886184   \n",
       "support    1900.000000  1900.000000  1900.000000  1900.000000  0.886184   \n",
       "\n",
       "             macro avg  weighted avg  train_time  test_time  \n",
       "precision     0.889109      0.889109   96.203267   3.304089  \n",
       "recall        0.886184      0.886184   96.203267   3.304089  \n",
       "f1-score      0.885848      0.885848   96.203267   3.304089  \n",
       "support    7600.000000   7600.000000   96.203267   3.304089  "
      ]
     },
     "execution_count": 56,
     "metadata": {},
     "output_type": "execute_result"
    }
   ],
   "source": [
    "news_m3_results"
   ]
  },
  {
   "cell_type": "markdown",
   "id": "072331aa",
   "metadata": {
    "id": "485b5c9d"
   },
   "source": [
    "### 3.4. Model comparison"
   ]
  },
  {
   "cell_type": "code",
   "execution_count": 139,
   "id": "433fbdc9",
   "metadata": {},
   "outputs": [
    {
     "data": {
      "text/html": [
       "<div>\n",
       "<style scoped>\n",
       "    .dataframe tbody tr th:only-of-type {\n",
       "        vertical-align: middle;\n",
       "    }\n",
       "\n",
       "    .dataframe tbody tr th {\n",
       "        vertical-align: top;\n",
       "    }\n",
       "\n",
       "    .dataframe thead th {\n",
       "        text-align: right;\n",
       "    }\n",
       "</style>\n",
       "<table border=\"1\" class=\"dataframe\">\n",
       "  <thead>\n",
       "    <tr style=\"text-align: right;\">\n",
       "      <th></th>\n",
       "      <th>0</th>\n",
       "      <th>1</th>\n",
       "      <th>2</th>\n",
       "      <th>3</th>\n",
       "      <th>accuracy</th>\n",
       "      <th>macro avg</th>\n",
       "      <th>weighted avg</th>\n",
       "      <th>train_time</th>\n",
       "      <th>test_time</th>\n",
       "    </tr>\n",
       "    <tr>\n",
       "      <th></th>\n",
       "      <th></th>\n",
       "      <th></th>\n",
       "      <th></th>\n",
       "      <th></th>\n",
       "      <th></th>\n",
       "      <th></th>\n",
       "      <th></th>\n",
       "      <th></th>\n",
       "      <th></th>\n",
       "    </tr>\n",
       "  </thead>\n",
       "  <tbody>\n",
       "    <tr>\n",
       "      <th>precision</th>\n",
       "      <td>0.901254</td>\n",
       "      <td>0.937468</td>\n",
       "      <td>0.860847</td>\n",
       "      <td>0.882996</td>\n",
       "      <td>0.896184</td>\n",
       "      <td>0.895641</td>\n",
       "      <td>0.895641</td>\n",
       "      <td>540.047065</td>\n",
       "      <td>20.94732</td>\n",
       "    </tr>\n",
       "    <tr>\n",
       "      <th>recall</th>\n",
       "      <td>0.907895</td>\n",
       "      <td>0.970526</td>\n",
       "      <td>0.856316</td>\n",
       "      <td>0.850000</td>\n",
       "      <td>0.896184</td>\n",
       "      <td>0.896184</td>\n",
       "      <td>0.896184</td>\n",
       "      <td>540.047065</td>\n",
       "      <td>20.94732</td>\n",
       "    </tr>\n",
       "    <tr>\n",
       "      <th>f1-score</th>\n",
       "      <td>0.904562</td>\n",
       "      <td>0.953711</td>\n",
       "      <td>0.858575</td>\n",
       "      <td>0.866184</td>\n",
       "      <td>0.896184</td>\n",
       "      <td>0.895758</td>\n",
       "      <td>0.895758</td>\n",
       "      <td>540.047065</td>\n",
       "      <td>20.94732</td>\n",
       "    </tr>\n",
       "    <tr>\n",
       "      <th>support</th>\n",
       "      <td>1900.000000</td>\n",
       "      <td>1900.000000</td>\n",
       "      <td>1900.000000</td>\n",
       "      <td>1900.000000</td>\n",
       "      <td>0.896184</td>\n",
       "      <td>7600.000000</td>\n",
       "      <td>7600.000000</td>\n",
       "      <td>540.047065</td>\n",
       "      <td>20.94732</td>\n",
       "    </tr>\n",
       "  </tbody>\n",
       "</table>\n",
       "</div>"
      ],
      "text/plain": [
       "                     0            1            2            3  accuracy  \\\n",
       "                                                                          \n",
       "precision     0.901254     0.937468     0.860847     0.882996  0.896184   \n",
       "recall        0.907895     0.970526     0.856316     0.850000  0.896184   \n",
       "f1-score      0.904562     0.953711     0.858575     0.866184  0.896184   \n",
       "support    1900.000000  1900.000000  1900.000000  1900.000000  0.896184   \n",
       "\n",
       "             macro avg  weighted avg  train_time  test_time  \n",
       "                                                             \n",
       "precision     0.895641      0.895641  540.047065   20.94732  \n",
       "recall        0.896184      0.896184  540.047065   20.94732  \n",
       "f1-score      0.895758      0.895758  540.047065   20.94732  \n",
       "support    7600.000000   7600.000000  540.047065   20.94732  "
      ]
     },
     "execution_count": 139,
     "metadata": {},
     "output_type": "execute_result"
    }
   ],
   "source": [
    "news_m1_results"
   ]
  },
  {
   "cell_type": "code",
   "execution_count": 140,
   "id": "509a6e60",
   "metadata": {},
   "outputs": [
    {
     "data": {
      "text/html": [
       "<div>\n",
       "<style scoped>\n",
       "    .dataframe tbody tr th:only-of-type {\n",
       "        vertical-align: middle;\n",
       "    }\n",
       "\n",
       "    .dataframe tbody tr th {\n",
       "        vertical-align: top;\n",
       "    }\n",
       "\n",
       "    .dataframe thead th {\n",
       "        text-align: right;\n",
       "    }\n",
       "</style>\n",
       "<table border=\"1\" class=\"dataframe\">\n",
       "  <thead>\n",
       "    <tr style=\"text-align: right;\">\n",
       "      <th></th>\n",
       "      <th>0</th>\n",
       "      <th>1</th>\n",
       "      <th>2</th>\n",
       "      <th>3</th>\n",
       "      <th>accuracy</th>\n",
       "      <th>macro avg</th>\n",
       "      <th>weighted avg</th>\n",
       "      <th>train_time</th>\n",
       "      <th>test_time</th>\n",
       "    </tr>\n",
       "    <tr>\n",
       "      <th></th>\n",
       "      <th></th>\n",
       "      <th></th>\n",
       "      <th></th>\n",
       "      <th></th>\n",
       "      <th></th>\n",
       "      <th></th>\n",
       "      <th></th>\n",
       "      <th></th>\n",
       "      <th></th>\n",
       "    </tr>\n",
       "  </thead>\n",
       "  <tbody>\n",
       "    <tr>\n",
       "      <th>precision</th>\n",
       "      <td>0.947698</td>\n",
       "      <td>0.942494</td>\n",
       "      <td>0.842415</td>\n",
       "      <td>0.893964</td>\n",
       "      <td>0.905132</td>\n",
       "      <td>0.906643</td>\n",
       "      <td>0.906643</td>\n",
       "      <td>1345.974194</td>\n",
       "      <td>42.282684</td>\n",
       "    </tr>\n",
       "    <tr>\n",
       "      <th>recall</th>\n",
       "      <td>0.877368</td>\n",
       "      <td>0.974737</td>\n",
       "      <td>0.903158</td>\n",
       "      <td>0.865263</td>\n",
       "      <td>0.905132</td>\n",
       "      <td>0.905132</td>\n",
       "      <td>0.905132</td>\n",
       "      <td>1345.974194</td>\n",
       "      <td>42.282684</td>\n",
       "    </tr>\n",
       "    <tr>\n",
       "      <th>f1-score</th>\n",
       "      <td>0.911178</td>\n",
       "      <td>0.958344</td>\n",
       "      <td>0.871730</td>\n",
       "      <td>0.879380</td>\n",
       "      <td>0.905132</td>\n",
       "      <td>0.905158</td>\n",
       "      <td>0.905158</td>\n",
       "      <td>1345.974194</td>\n",
       "      <td>42.282684</td>\n",
       "    </tr>\n",
       "    <tr>\n",
       "      <th>support</th>\n",
       "      <td>1900.000000</td>\n",
       "      <td>1900.000000</td>\n",
       "      <td>1900.000000</td>\n",
       "      <td>1900.000000</td>\n",
       "      <td>0.905132</td>\n",
       "      <td>7600.000000</td>\n",
       "      <td>7600.000000</td>\n",
       "      <td>1345.974194</td>\n",
       "      <td>42.282684</td>\n",
       "    </tr>\n",
       "  </tbody>\n",
       "</table>\n",
       "</div>"
      ],
      "text/plain": [
       "                     0            1            2            3  accuracy  \\\n",
       "                                                                          \n",
       "precision     0.947698     0.942494     0.842415     0.893964  0.905132   \n",
       "recall        0.877368     0.974737     0.903158     0.865263  0.905132   \n",
       "f1-score      0.911178     0.958344     0.871730     0.879380  0.905132   \n",
       "support    1900.000000  1900.000000  1900.000000  1900.000000  0.905132   \n",
       "\n",
       "             macro avg  weighted avg   train_time  test_time  \n",
       "                                                              \n",
       "precision     0.906643      0.906643  1345.974194  42.282684  \n",
       "recall        0.905132      0.905132  1345.974194  42.282684  \n",
       "f1-score      0.905158      0.905158  1345.974194  42.282684  \n",
       "support    7600.000000   7600.000000  1345.974194  42.282684  "
      ]
     },
     "execution_count": 140,
     "metadata": {},
     "output_type": "execute_result"
    }
   ],
   "source": [
    "news_m2_results"
   ]
  },
  {
   "cell_type": "code",
   "execution_count": 141,
   "id": "a52e3608",
   "metadata": {},
   "outputs": [
    {
     "data": {
      "text/html": [
       "<div>\n",
       "<style scoped>\n",
       "    .dataframe tbody tr th:only-of-type {\n",
       "        vertical-align: middle;\n",
       "    }\n",
       "\n",
       "    .dataframe tbody tr th {\n",
       "        vertical-align: top;\n",
       "    }\n",
       "\n",
       "    .dataframe thead th {\n",
       "        text-align: right;\n",
       "    }\n",
       "</style>\n",
       "<table border=\"1\" class=\"dataframe\">\n",
       "  <thead>\n",
       "    <tr style=\"text-align: right;\">\n",
       "      <th></th>\n",
       "      <th>0</th>\n",
       "      <th>1</th>\n",
       "      <th>2</th>\n",
       "      <th>3</th>\n",
       "      <th>accuracy</th>\n",
       "      <th>macro avg</th>\n",
       "      <th>weighted avg</th>\n",
       "      <th>train_time</th>\n",
       "      <th>test_time</th>\n",
       "    </tr>\n",
       "    <tr>\n",
       "      <th></th>\n",
       "      <th></th>\n",
       "      <th></th>\n",
       "      <th></th>\n",
       "      <th></th>\n",
       "      <th></th>\n",
       "      <th></th>\n",
       "      <th></th>\n",
       "      <th></th>\n",
       "      <th></th>\n",
       "    </tr>\n",
       "  </thead>\n",
       "  <tbody>\n",
       "    <tr>\n",
       "      <th>precision</th>\n",
       "      <td>0.940081</td>\n",
       "      <td>0.931244</td>\n",
       "      <td>0.871795</td>\n",
       "      <td>0.813315</td>\n",
       "      <td>0.886184</td>\n",
       "      <td>0.889109</td>\n",
       "      <td>0.889109</td>\n",
       "      <td>96.203267</td>\n",
       "      <td>3.304089</td>\n",
       "    </tr>\n",
       "    <tr>\n",
       "      <th>recall</th>\n",
       "      <td>0.850526</td>\n",
       "      <td>0.969474</td>\n",
       "      <td>0.805263</td>\n",
       "      <td>0.919474</td>\n",
       "      <td>0.886184</td>\n",
       "      <td>0.886184</td>\n",
       "      <td>0.886184</td>\n",
       "      <td>96.203267</td>\n",
       "      <td>3.304089</td>\n",
       "    </tr>\n",
       "    <tr>\n",
       "      <th>f1-score</th>\n",
       "      <td>0.893064</td>\n",
       "      <td>0.949974</td>\n",
       "      <td>0.837209</td>\n",
       "      <td>0.863142</td>\n",
       "      <td>0.886184</td>\n",
       "      <td>0.885848</td>\n",
       "      <td>0.885848</td>\n",
       "      <td>96.203267</td>\n",
       "      <td>3.304089</td>\n",
       "    </tr>\n",
       "    <tr>\n",
       "      <th>support</th>\n",
       "      <td>1900.000000</td>\n",
       "      <td>1900.000000</td>\n",
       "      <td>1900.000000</td>\n",
       "      <td>1900.000000</td>\n",
       "      <td>0.886184</td>\n",
       "      <td>7600.000000</td>\n",
       "      <td>7600.000000</td>\n",
       "      <td>96.203267</td>\n",
       "      <td>3.304089</td>\n",
       "    </tr>\n",
       "  </tbody>\n",
       "</table>\n",
       "</div>"
      ],
      "text/plain": [
       "                     0            1            2            3  accuracy  \\\n",
       "                                                                          \n",
       "precision     0.940081     0.931244     0.871795     0.813315  0.886184   \n",
       "recall        0.850526     0.969474     0.805263     0.919474  0.886184   \n",
       "f1-score      0.893064     0.949974     0.837209     0.863142  0.886184   \n",
       "support    1900.000000  1900.000000  1900.000000  1900.000000  0.886184   \n",
       "\n",
       "             macro avg  weighted avg  train_time  test_time  \n",
       "                                                             \n",
       "precision     0.889109      0.889109   96.203267   3.304089  \n",
       "recall        0.886184      0.886184   96.203267   3.304089  \n",
       "f1-score      0.885848      0.885848   96.203267   3.304089  \n",
       "support    7600.000000   7600.000000   96.203267   3.304089  "
      ]
     },
     "execution_count": 141,
     "metadata": {},
     "output_type": "execute_result"
    }
   ],
   "source": [
    "news_m3_results"
   ]
  },
  {
   "cell_type": "markdown",
   "id": "c95cdcb8",
   "metadata": {},
   "source": [
    "In the news data set, the best model was the one not with the \"best parameters\" from the keras-tuner. The reason for that is we tried with multiple layers in the keras-tuner, while we used a simple architecture when we experimented manually. Then we get the results which are similar to BERT, and to our shallow model which is okay. More details about the model comparison, etc will be found in the report."
   ]
  }
 ],
 "metadata": {
  "accelerator": "GPU",
  "colab": {
   "provenance": []
  },
  "gpuClass": "standard",
  "kernelspec": {
   "display_name": "Python 3 (ipykernel)",
   "language": "python",
   "name": "python3"
  },
  "language_info": {
   "codemirror_mode": {
    "name": "ipython",
    "version": 3
   },
   "file_extension": ".py",
   "mimetype": "text/x-python",
   "name": "python",
   "nbconvert_exporter": "python",
   "pygments_lexer": "ipython3",
   "version": "3.9.7"
  }
 },
 "nbformat": 4,
 "nbformat_minor": 5
}
