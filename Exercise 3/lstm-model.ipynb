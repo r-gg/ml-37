{
 "cells": [
  {
   "cell_type": "markdown",
   "id": "954ae2ef",
   "metadata": {},
   "source": [
    "# LSTM model creation"
   ]
  },
  {
   "cell_type": "code",
   "execution_count": 35,
   "id": "7425fa09",
   "metadata": {},
   "outputs": [],
   "source": [
    "# imports\n",
    "\n",
    "import time\n",
    "import os\n",
    "import optuna\n",
    "import pickle\n",
    "import pandas as pd\n",
    "import matplotlib.pyplot as plt\n",
    "import seaborn as sns\n",
    "import numpy as np\n",
    "import tensorflow as tf\n",
    "from sklearn.model_selection import train_test_split\n",
    "from sklearn.neural_network import MLPClassifier\n",
    "from sklearn.model_selection import cross_val_score\n",
    "from sklearn.metrics import log_loss, balanced_accuracy_score, accuracy_score, precision_score, f1_score, recall_score\n",
    "from tensorflow.keras.preprocessing.sequence import pad_sequences\n",
    "from tensorflow.keras.models import Sequential\n",
    "from tensorflow.keras.preprocessing.text import one_hot\n",
    "from tensorflow.keras.layers import LSTM, Bidirectional, Dense, Dropout, Embedding"
   ]
  },
  {
   "cell_type": "markdown",
   "id": "9ed92da3",
   "metadata": {},
   "source": [
    "## 1. Data loading and exploration"
   ]
  },
  {
   "cell_type": "code",
   "execution_count": 2,
   "id": "b7c69407",
   "metadata": {},
   "outputs": [],
   "source": [
    "ag_news_train_df = pd.read_csv('data/ag_news_train.csv')\n",
    "ag_news_test_df = pd.read_csv('data/ag_news_test.csv')\n",
    "amazon_reviews_df = pd.read_csv('data/cleaned_amazon_reviews.csv')"
   ]
  },
  {
   "cell_type": "code",
   "execution_count": 3,
   "id": "9af11b04",
   "metadata": {},
   "outputs": [
    {
     "data": {
      "text/plain": [
       "(120000, 3)"
      ]
     },
     "execution_count": 3,
     "metadata": {},
     "output_type": "execute_result"
    }
   ],
   "source": [
    "ag_news_train_df.shape"
   ]
  },
  {
   "cell_type": "code",
   "execution_count": 4,
   "id": "dbfc10cc",
   "metadata": {},
   "outputs": [
    {
     "data": {
      "text/plain": [
       "(7600, 3)"
      ]
     },
     "execution_count": 4,
     "metadata": {},
     "output_type": "execute_result"
    }
   ],
   "source": [
    "ag_news_test_df.shape"
   ]
  },
  {
   "cell_type": "code",
   "execution_count": 5,
   "id": "6a40c3a2",
   "metadata": {},
   "outputs": [
    {
     "data": {
      "text/html": [
       "<div>\n",
       "<style scoped>\n",
       "    .dataframe tbody tr th:only-of-type {\n",
       "        vertical-align: middle;\n",
       "    }\n",
       "\n",
       "    .dataframe tbody tr th {\n",
       "        vertical-align: top;\n",
       "    }\n",
       "\n",
       "    .dataframe thead th {\n",
       "        text-align: right;\n",
       "    }\n",
       "</style>\n",
       "<table border=\"1\" class=\"dataframe\">\n",
       "  <thead>\n",
       "    <tr style=\"text-align: right;\">\n",
       "      <th></th>\n",
       "      <th>Class Index</th>\n",
       "      <th>Title</th>\n",
       "      <th>Description</th>\n",
       "    </tr>\n",
       "  </thead>\n",
       "  <tbody>\n",
       "    <tr>\n",
       "      <th>0</th>\n",
       "      <td>3</td>\n",
       "      <td>Wall St. Bears Claw Back Into the Black (Reuters)</td>\n",
       "      <td>Reuters - Short-sellers, Wall Street's dwindli...</td>\n",
       "    </tr>\n",
       "    <tr>\n",
       "      <th>1</th>\n",
       "      <td>3</td>\n",
       "      <td>Carlyle Looks Toward Commercial Aerospace (Reu...</td>\n",
       "      <td>Reuters - Private investment firm Carlyle Grou...</td>\n",
       "    </tr>\n",
       "    <tr>\n",
       "      <th>2</th>\n",
       "      <td>3</td>\n",
       "      <td>Oil and Economy Cloud Stocks' Outlook (Reuters)</td>\n",
       "      <td>Reuters - Soaring crude prices plus worries\\ab...</td>\n",
       "    </tr>\n",
       "    <tr>\n",
       "      <th>3</th>\n",
       "      <td>3</td>\n",
       "      <td>Iraq Halts Oil Exports from Main Southern Pipe...</td>\n",
       "      <td>Reuters - Authorities have halted oil export\\f...</td>\n",
       "    </tr>\n",
       "    <tr>\n",
       "      <th>4</th>\n",
       "      <td>3</td>\n",
       "      <td>Oil prices soar to all-time record, posing new...</td>\n",
       "      <td>AFP - Tearaway world oil prices, toppling reco...</td>\n",
       "    </tr>\n",
       "  </tbody>\n",
       "</table>\n",
       "</div>"
      ],
      "text/plain": [
       "   Class Index                                              Title  \\\n",
       "0            3  Wall St. Bears Claw Back Into the Black (Reuters)   \n",
       "1            3  Carlyle Looks Toward Commercial Aerospace (Reu...   \n",
       "2            3    Oil and Economy Cloud Stocks' Outlook (Reuters)   \n",
       "3            3  Iraq Halts Oil Exports from Main Southern Pipe...   \n",
       "4            3  Oil prices soar to all-time record, posing new...   \n",
       "\n",
       "                                         Description  \n",
       "0  Reuters - Short-sellers, Wall Street's dwindli...  \n",
       "1  Reuters - Private investment firm Carlyle Grou...  \n",
       "2  Reuters - Soaring crude prices plus worries\\ab...  \n",
       "3  Reuters - Authorities have halted oil export\\f...  \n",
       "4  AFP - Tearaway world oil prices, toppling reco...  "
      ]
     },
     "execution_count": 5,
     "metadata": {},
     "output_type": "execute_result"
    }
   ],
   "source": [
    "ag_news_train_df.head()"
   ]
  },
  {
   "cell_type": "code",
   "execution_count": 6,
   "id": "fbc83f81",
   "metadata": {},
   "outputs": [
    {
     "data": {
      "text/plain": [
       "(17340, 4)"
      ]
     },
     "execution_count": 6,
     "metadata": {},
     "output_type": "execute_result"
    }
   ],
   "source": [
    "amazon_reviews_df.shape"
   ]
  },
  {
   "cell_type": "code",
   "execution_count": 7,
   "id": "24aec614",
   "metadata": {},
   "outputs": [
    {
     "data": {
      "text/html": [
       "<div>\n",
       "<style scoped>\n",
       "    .dataframe tbody tr th:only-of-type {\n",
       "        vertical-align: middle;\n",
       "    }\n",
       "\n",
       "    .dataframe tbody tr th {\n",
       "        vertical-align: top;\n",
       "    }\n",
       "\n",
       "    .dataframe thead th {\n",
       "        text-align: right;\n",
       "    }\n",
       "</style>\n",
       "<table border=\"1\" class=\"dataframe\">\n",
       "  <thead>\n",
       "    <tr style=\"text-align: right;\">\n",
       "      <th></th>\n",
       "      <th>sentiments</th>\n",
       "      <th>cleaned_review</th>\n",
       "      <th>cleaned_review_length</th>\n",
       "      <th>review_score</th>\n",
       "    </tr>\n",
       "  </thead>\n",
       "  <tbody>\n",
       "    <tr>\n",
       "      <th>0</th>\n",
       "      <td>positive</td>\n",
       "      <td>i wish would have gotten one earlier love it a...</td>\n",
       "      <td>19</td>\n",
       "      <td>5.0</td>\n",
       "    </tr>\n",
       "    <tr>\n",
       "      <th>1</th>\n",
       "      <td>neutral</td>\n",
       "      <td>i ve learned this lesson again open the packag...</td>\n",
       "      <td>88</td>\n",
       "      <td>1.0</td>\n",
       "    </tr>\n",
       "    <tr>\n",
       "      <th>2</th>\n",
       "      <td>neutral</td>\n",
       "      <td>it is so slow and lags find better option</td>\n",
       "      <td>9</td>\n",
       "      <td>2.0</td>\n",
       "    </tr>\n",
       "    <tr>\n",
       "      <th>3</th>\n",
       "      <td>neutral</td>\n",
       "      <td>roller ball stopped working within months of m...</td>\n",
       "      <td>12</td>\n",
       "      <td>1.0</td>\n",
       "    </tr>\n",
       "    <tr>\n",
       "      <th>4</th>\n",
       "      <td>neutral</td>\n",
       "      <td>i like the color and size but it few days out ...</td>\n",
       "      <td>21</td>\n",
       "      <td>1.0</td>\n",
       "    </tr>\n",
       "  </tbody>\n",
       "</table>\n",
       "</div>"
      ],
      "text/plain": [
       "  sentiments                                     cleaned_review  \\\n",
       "0   positive  i wish would have gotten one earlier love it a...   \n",
       "1    neutral  i ve learned this lesson again open the packag...   \n",
       "2    neutral          it is so slow and lags find better option   \n",
       "3    neutral  roller ball stopped working within months of m...   \n",
       "4    neutral  i like the color and size but it few days out ...   \n",
       "\n",
       "   cleaned_review_length  review_score  \n",
       "0                     19           5.0  \n",
       "1                     88           1.0  \n",
       "2                      9           2.0  \n",
       "3                     12           1.0  \n",
       "4                     21           1.0  "
      ]
     },
     "execution_count": 7,
     "metadata": {},
     "output_type": "execute_result"
    }
   ],
   "source": [
    "amazon_reviews_df.head()"
   ]
  },
  {
   "cell_type": "code",
   "execution_count": 8,
   "id": "97023268",
   "metadata": {},
   "outputs": [
    {
     "data": {
      "text/plain": [
       "sentiments               0\n",
       "cleaned_review           3\n",
       "cleaned_review_length    0\n",
       "review_score             0\n",
       "dtype: int64"
      ]
     },
     "execution_count": 8,
     "metadata": {},
     "output_type": "execute_result"
    }
   ],
   "source": [
    "amazon_reviews_df.isna().sum()"
   ]
  },
  {
   "cell_type": "code",
   "execution_count": 9,
   "id": "2cdd0644",
   "metadata": {},
   "outputs": [
    {
     "data": {
      "text/plain": [
       "<AxesSubplot:>"
      ]
     },
     "execution_count": 9,
     "metadata": {},
     "output_type": "execute_result"
    },
    {
     "data": {
      "image/png": "[encoded data removed]",
      "text/plain": [
       "<Figure size 432x288 with 1 Axes>"
      ]
     },
     "metadata": {
      "needs_background": "light"
     },
     "output_type": "display_data"
    }
   ],
   "source": [
    "amazon_reviews_df.sentiments.value_counts().plot(kind='bar')"
   ]
  },
  {
   "cell_type": "markdown",
   "id": "66cf4aa4",
   "metadata": {},
   "source": [
    "Unbalanced target"
   ]
  },
  {
   "cell_type": "code",
   "execution_count": 10,
   "id": "82393d1e",
   "metadata": {},
   "outputs": [
    {
     "data": {
      "text/plain": [
       "<AxesSubplot:>"
      ]
     },
     "execution_count": 10,
     "metadata": {},
     "output_type": "execute_result"
    },
    {
     "data": {
      "image/png": "[encoded data removed]",
      "text/plain": [
       "<Figure size 432x288 with 1 Axes>"
      ]
     },
     "metadata": {
      "needs_background": "light"
     },
     "output_type": "display_data"
    }
   ],
   "source": [
    "ag_news_train_df['Class Index'].value_counts().plot(kind='bar')"
   ]
  },
  {
   "cell_type": "markdown",
   "id": "0518b78a",
   "metadata": {},
   "source": [
    "Balanced target"
   ]
  },
  {
   "cell_type": "markdown",
   "id": "601b6dfe",
   "metadata": {},
   "source": [
    "#### Distribution of review lengths"
   ]
  },
  {
   "cell_type": "code",
   "execution_count": 11,
   "id": "398fe6df",
   "metadata": {},
   "outputs": [
    {
     "data": {
      "text/plain": [
       "(array([1.4993e+04, 1.8380e+03, 3.4300e+02, 8.3000e+01, 5.0000e+01,\n",
       "        1.2000e+01, 9.0000e+00, 5.0000e+00, 4.0000e+00, 3.0000e+00]),\n",
       " array([  0. ,  57.1, 114.2, 171.3, 228.4, 285.5, 342.6, 399.7, 456.8,\n",
       "        513.9, 571. ]),\n",
       " <BarContainer object of 10 artists>)"
      ]
     },
     "execution_count": 11,
     "metadata": {},
     "output_type": "execute_result"
    },
    {
     "data": {
      "image/png": "[encoded data removed]",
      "text/plain": [
       "<Figure size 432x288 with 1 Axes>"
      ]
     },
     "metadata": {
      "needs_background": "light"
     },
     "output_type": "display_data"
    }
   ],
   "source": [
    "plt.hist(amazon_reviews_df.cleaned_review_length)"
   ]
  },
  {
   "cell_type": "markdown",
   "id": "48c41a88",
   "metadata": {},
   "source": [
    "#### Distribution of the news article lengths"
   ]
  },
  {
   "cell_type": "code",
   "execution_count": 12,
   "id": "bbdc407f",
   "metadata": {},
   "outputs": [
    {
     "data": {
      "text/plain": [
       "(array([4.8100e+03, 6.7638e+04, 4.1664e+04, 4.2770e+03, 1.0700e+03,\n",
       "        2.9800e+02, 9.3000e+01, 9.0000e+01, 2.9000e+01, 3.1000e+01]),\n",
       " array([  6. , 103.9, 201.8, 299.7, 397.6, 495.5, 593.4, 691.3, 789.2,\n",
       "        887.1, 985. ]),\n",
       " <BarContainer object of 10 artists>)"
      ]
     },
     "execution_count": 12,
     "metadata": {},
     "output_type": "execute_result"
    },
    {
     "data": {
      "image/png": "[encoded data removed]",
      "text/plain": [
       "<Figure size 432x288 with 1 Axes>"
      ]
     },
     "metadata": {
      "needs_background": "light"
     },
     "output_type": "display_data"
    }
   ],
   "source": [
    "plt.hist(ag_news_train_df.Description.str.len())"
   ]
  },
  {
   "cell_type": "code",
   "execution_count": 13,
   "id": "21fcdac8",
   "metadata": {},
   "outputs": [
    {
     "data": {
      "text/plain": [
       "Class Index    False\n",
       "Title          False\n",
       "Description    False\n",
       "dtype: bool"
      ]
     },
     "execution_count": 13,
     "metadata": {},
     "output_type": "execute_result"
    }
   ],
   "source": [
    "ag_news_train_df.isna().any()"
   ]
  },
  {
   "cell_type": "markdown",
   "id": "698e7635",
   "metadata": {},
   "source": [
    "#### Removing NaNs"
   ]
  },
  {
   "cell_type": "code",
   "execution_count": 14,
   "id": "c7a01d77",
   "metadata": {},
   "outputs": [],
   "source": [
    "amazon_reviews_df.dropna(inplace=True)"
   ]
  },
  {
   "cell_type": "markdown",
   "id": "c93da568",
   "metadata": {},
   "source": [
    "## 2. Train/Val/Test split"
   ]
  },
  {
   "cell_type": "code",
   "execution_count": 15,
   "id": "17908955",
   "metadata": {},
   "outputs": [],
   "source": [
    "X_amazon_reviews = amazon_reviews_df.drop(columns=['sentiments'])\n",
    "y_amazon_reviews = amazon_reviews_df['sentiments']"
   ]
  },
  {
   "cell_type": "code",
   "execution_count": 16,
   "id": "34048169",
   "metadata": {},
   "outputs": [],
   "source": [
    "X_train_reviews, X_test_reviews, y_train_reviews, y_test_reviews = train_test_split(X_amazon_reviews,\n",
    "                                                                                   y_amazon_reviews,\n",
    "                                                                                   random_state=42,\n",
    "                                                                                   test_size=0.2)"
   ]
  },
  {
   "cell_type": "code",
   "execution_count": 17,
   "id": "1c12aa1a",
   "metadata": {},
   "outputs": [],
   "source": [
    "X_train_reviews, X_valid_reviews, y_train_reviews, y_valid_reviews = train_test_split(X_train_reviews,\n",
    "                                                                                     y_train_reviews,\n",
    "                                                                                     random_state=42,\n",
    "                                                                                     test_size = 0.33)"
   ]
  },
  {
   "cell_type": "markdown",
   "id": "f177d90e",
   "metadata": {},
   "source": [
    "### Splitting ag news into X and y's"
   ]
  },
  {
   "cell_type": "markdown",
   "id": "9f484ee0",
   "metadata": {},
   "source": [
    "Merging Title and Description into one field, \"Text\""
   ]
  },
  {
   "cell_type": "code",
   "execution_count": 18,
   "id": "674437cf",
   "metadata": {},
   "outputs": [],
   "source": [
    "ag_news_train_df['Text'] = ag_news_train_df[['Title', 'Description']].agg(' '.join,axis=1)\n",
    "ag_news_test_df['Text'] = ag_news_test_df[['Title', 'Description']].agg(' '.join,axis=1)"
   ]
  },
  {
   "cell_type": "code",
   "execution_count": 19,
   "id": "0c44f02d",
   "metadata": {},
   "outputs": [
    {
     "data": {
      "text/plain": [
       "0         Wall St. Bears Claw Back Into the Black (Reute...\n",
       "1         Carlyle Looks Toward Commercial Aerospace (Reu...\n",
       "2         Oil and Economy Cloud Stocks' Outlook (Reuters...\n",
       "3         Iraq Halts Oil Exports from Main Southern Pipe...\n",
       "4         Oil prices soar to all-time record, posing new...\n",
       "                                ...                        \n",
       "119995    Pakistan's Musharraf Says Won't Quit as Army C...\n",
       "119996    Renteria signing a top-shelf deal Red Sox gene...\n",
       "119997    Saban not going to Dolphins yet The Miami Dolp...\n",
       "119998    Today's NFL games PITTSBURGH at NY GIANTS Time...\n",
       "119999    Nets get Carter from Raptors INDIANAPOLIS -- A...\n",
       "Name: Text, Length: 120000, dtype: object"
      ]
     },
     "execution_count": 19,
     "metadata": {},
     "output_type": "execute_result"
    }
   ],
   "source": [
    "ag_news_train_df['Text']"
   ]
  },
  {
   "cell_type": "code",
   "execution_count": 20,
   "id": "4b277978",
   "metadata": {},
   "outputs": [],
   "source": [
    "X_train_news = ag_news_train_df['Text']\n",
    "y_train_news = ag_news_train_df['Class Index']\n",
    "\n",
    "X_test_news = ag_news_test_df['Text']\n",
    "y_test_news = ag_news_test_df['Class Index']"
   ]
  },
  {
   "cell_type": "code",
   "execution_count": 21,
   "id": "61ec7492",
   "metadata": {},
   "outputs": [],
   "source": [
    "X_train_news, X_valid_news, y_train_news, y_valid_news = train_test_split(X_train_news,\n",
    "                                                                          y_train_news,\n",
    "                                                                          random_state=42,\n",
    "                                                                          test_size = 0.33)"
   ]
  },
  {
   "cell_type": "code",
   "execution_count": 22,
   "id": "b6debe4b",
   "metadata": {},
   "outputs": [],
   "source": [
    "# use later on when we want to perform hyper parameter tuning\n",
    "\n",
    "# np.random.seed(42)\n",
    "# reviews_train_idx = np.random.choice(y_train_reviews.shape[0], \n",
    "#                                      replace=False, size=y_train_reviews.shape[0]//2)\n",
    "# news_train_idx = np.random.choice(y_train_news.shape[0], \n",
    "#                                      replace=False, size=y_train_news.shape[0]//8)\n",
    "\n",
    "# X_train_reviews_half = X_train_reviews_tr[reviews_train_idx,:]\n",
    "# y_train_reviews_half = y_train_reviews.iloc[reviews_train_idx]\n",
    "# X_train_news_eighth = X_train_news_tr[news_train_idx,:]\n",
    "# y_train_news_eighth = y_train_news.iloc[news_train_idx]"
   ]
  },
  {
   "cell_type": "code",
   "execution_count": 23,
   "id": "7b542517",
   "metadata": {},
   "outputs": [],
   "source": [
    "# checking if models are saved\n",
    "\n",
    "best_model_nn_reviews_is_saved = os.path.exists('models/best_model_nn_reviews.sav')\n",
    "best_model_nn_news_is_saved = os.path.exists('models/best_model_nn_news.sav')\n",
    "best_model_svm_reviews_is_saved = os.path.exists('models/best_model_svm_reviews.sav')\n",
    "best_model_svm_news_is_saved = os.path.exists('models/best_model_svm_news.sav')"
   ]
  },
  {
   "cell_type": "markdown",
   "id": "6209c298",
   "metadata": {},
   "source": [
    "## 3. Model development - LSTM"
   ]
  },
  {
   "cell_type": "markdown",
   "id": "56ac5d9c",
   "metadata": {},
   "source": [
    "### 3.1. Reviews data set"
   ]
  },
  {
   "cell_type": "code",
   "execution_count": 24,
   "id": "22c054aa",
   "metadata": {},
   "outputs": [],
   "source": [
    "# setting the vocabulary and sentence length\n",
    "voc_size = 5000\n",
    "sent_length = 40"
   ]
  },
  {
   "cell_type": "code",
   "execution_count": 25,
   "id": "414fe350",
   "metadata": {},
   "outputs": [],
   "source": [
    "X_train = X_train_reviews.copy()\n",
    "y_train = y_train_reviews.copy()\n",
    "X_test = X_test_reviews.copy()\n",
    "y_test = y_test_reviews.copy()\n",
    "X_valid = X_valid_reviews.copy()\n",
    "y_valid = y_valid_reviews.copy()"
   ]
  },
  {
   "cell_type": "code",
   "execution_count": 26,
   "id": "7750e293",
   "metadata": {},
   "outputs": [],
   "source": [
    "def preprocessing(X, y):\n",
    "    X.drop(['cleaned_review_length', 'review_score'], axis=1, inplace=True)\n",
    "    corpus = X['cleaned_review'].values.tolist()\n",
    "    onehot_repr = [one_hot(words, voc_size) for words in corpus] \n",
    "    embedded_docs = pad_sequences(onehot_repr, padding = 'pre', maxlen = sent_length)\n",
    "        \n",
    "    y = pd.get_dummies(y)\n",
    "    \n",
    "    X = np.array(embedded_docs)\n",
    "    y = np.array(y)\n",
    "    \n",
    "    return (X, y)"
   ]
  },
  {
   "cell_type": "code",
   "execution_count": 27,
   "id": "7d22adcf",
   "metadata": {},
   "outputs": [],
   "source": [
    "X_train, y_train = preprocessing(X_train, y_train)\n",
    "X_valid, y_valid = preprocessing(X_valid, y_valid)\n",
    "X_test, y_test = preprocessing(X_test, y_test)"
   ]
  },
  {
   "cell_type": "code",
   "execution_count": 28,
   "id": "e6919d64",
   "metadata": {
    "scrolled": true
   },
   "outputs": [
    {
     "name": "stdout",
     "output_type": "stream",
     "text": [
      "Model: \"sequential\"\n",
      "_________________________________________________________________\n",
      " Layer (type)                Output Shape              Param #   \n",
      "=================================================================\n",
      " embedding (Embedding)       (None, 40, 40)            200000    \n",
      "                                                                 \n",
      " lstm (LSTM)                 (None, 100)               56400     \n",
      "                                                                 \n",
      " dense (Dense)               (None, 3)                 303       \n",
      "                                                                 \n",
      "=================================================================\n",
      "Total params: 256,703\n",
      "Trainable params: 256,703\n",
      "Non-trainable params: 0\n",
      "_________________________________________________________________\n",
      "None\n"
     ]
    }
   ],
   "source": [
    "# creating the base LSTM model\n",
    "\n",
    "embedding_vector_features = 40\n",
    "model = Sequential()\n",
    "model.add(Embedding(voc_size,embedding_vector_features,input_length=sent_length))\n",
    "model.add(LSTM(100))\n",
    "model.add(Dense(3, activation='softmax'))\n",
    "model.compile(loss = 'categorical_crossentropy', optimizer = 'adam', metrics = ['accuracy'])\n",
    "print(model.summary())"
   ]
  },
  {
   "cell_type": "code",
   "execution_count": 29,
   "id": "6021cb2c",
   "metadata": {
    "scrolled": false
   },
   "outputs": [
    {
     "name": "stdout",
     "output_type": "stream",
     "text": [
      "Epoch 1/10\n",
      "93/93 [==============================] - 9s 71ms/step - loss: 0.7794 - accuracy: 0.6437 - val_loss: 0.5847 - val_accuracy: 0.7398\n",
      "Epoch 2/10\n",
      "93/93 [==============================] - 6s 66ms/step - loss: 0.4947 - accuracy: 0.7957 - val_loss: 0.4871 - val_accuracy: 0.7922\n",
      "Epoch 3/10\n",
      "93/93 [==============================] - 6s 66ms/step - loss: 0.3869 - accuracy: 0.8506 - val_loss: 0.4886 - val_accuracy: 0.8058\n",
      "Epoch 4/10\n",
      "93/93 [==============================] - 6s 66ms/step - loss: 0.3170 - accuracy: 0.8828 - val_loss: 0.4864 - val_accuracy: 0.8173\n",
      "Epoch 5/10\n",
      "93/93 [==============================] - 7s 71ms/step - loss: 0.2702 - accuracy: 0.9029 - val_loss: 0.4881 - val_accuracy: 0.8235\n",
      "Epoch 6/10\n",
      "93/93 [==============================] - 7s 75ms/step - loss: 0.2317 - accuracy: 0.9178 - val_loss: 0.5227 - val_accuracy: 0.8211\n",
      "Epoch 7/10\n",
      "93/93 [==============================] - 9s 100ms/step - loss: 0.1967 - accuracy: 0.9342 - val_loss: 0.5529 - val_accuracy: 0.8263\n",
      "Epoch 8/10\n",
      "93/93 [==============================] - 10s 108ms/step - loss: 0.1810 - accuracy: 0.9412 - val_loss: 0.5839 - val_accuracy: 0.8191\n",
      "Epoch 9/10\n",
      "93/93 [==============================] - 11s 114ms/step - loss: 0.1551 - accuracy: 0.9504 - val_loss: 0.6743 - val_accuracy: 0.8117\n",
      "Epoch 10/10\n",
      "93/93 [==============================] - 13s 139ms/step - loss: 0.1498 - accuracy: 0.9506 - val_loss: 0.6050 - val_accuracy: 0.8215\n"
     ]
    },
    {
     "data": {
      "text/plain": [
       "<keras.callbacks.History at 0x1e655c1ff70>"
      ]
     },
     "execution_count": 29,
     "metadata": {},
     "output_type": "execute_result"
    }
   ],
   "source": [
    "model.fit(X_train, y_train, validation_data = (X_valid, y_valid), epochs = 10, batch_size = 100)"
   ]
  },
  {
   "cell_type": "markdown",
   "id": "11fcbe5c",
   "metadata": {},
   "source": [
    "The results show that the model is overfitting the training data and not generalizing well to the validation data. This can be seen from the increasing difference between training accuracy and validation accuracy as the number of epochs increases.\n",
    "\n",
    "The training accuracy increases up to 95.6% while the validation accuracy only reaches 82.15%. This suggests that the model is memorizing the training data rather than learning the underlying patterns that can be generalized to the validation set.\n",
    "\n",
    "The loss is also decreasing on the training set, but increasing on the validation set. This further supports the overfitting issue.\n",
    "\n",
    "To address the overfitting issue, we will try using regularization techniques like dropout, or simplifying the model architecture."
   ]
  },
  {
   "cell_type": "code",
   "execution_count": 31,
   "id": "eaa865f9",
   "metadata": {},
   "outputs": [
    {
     "data": {
      "text/plain": [
       "0.8278546712802768"
      ]
     },
     "execution_count": 31,
     "metadata": {},
     "output_type": "execute_result"
    }
   ],
   "source": [
    "y_pred = model.predict(X_test)\n",
    "\n",
    "# adjust the y_pred and the y_test\n",
    "y_pred = np.argmax(y_pred, axis = 1)\n",
    "y_test = np.argmax(y_test, axis = 1)\n",
    "\n",
    "accuracy_score(y_test,y_pred)"
   ]
  },
  {
   "cell_type": "code",
   "execution_count": 32,
   "id": "cebeeba4",
   "metadata": {},
   "outputs": [
    {
     "data": {
      "text/plain": [
       "0.8260489804872534"
      ]
     },
     "execution_count": 32,
     "metadata": {},
     "output_type": "execute_result"
    }
   ],
   "source": [
    "precision_score(y_test,y_pred, average='weighted')"
   ]
  },
  {
   "cell_type": "code",
   "execution_count": 33,
   "id": "8062126a",
   "metadata": {},
   "outputs": [
    {
     "data": {
      "text/plain": [
       "0.8278546712802768"
      ]
     },
     "execution_count": 33,
     "metadata": {},
     "output_type": "execute_result"
    }
   ],
   "source": [
    "recall_score(y_test,y_pred, average='weighted')"
   ]
  },
  {
   "cell_type": "code",
   "execution_count": 34,
   "id": "5b4d2f36",
   "metadata": {},
   "outputs": [
    {
     "data": {
      "text/plain": [
       "0.8254018450419489"
      ]
     },
     "execution_count": 34,
     "metadata": {},
     "output_type": "execute_result"
    }
   ],
   "source": [
    "f1_score(y_test,y_pred, average='weighted')"
   ]
  },
  {
   "cell_type": "markdown",
   "id": "91239aa1",
   "metadata": {},
   "source": [
    "The test accuracy is 0.827 which is very similar to the validation results, therefore we will try to add dropout layers, or simplify the model architecture.\n",
    "\n",
    "We are using accuracy at the moment, we will later on focus on more metrics, and see in greated details how to best optimize the model."
   ]
  },
  {
   "cell_type": "markdown",
   "id": "623bede6",
   "metadata": {},
   "source": [
    "#### LSTM updated model - dropout added"
   ]
  },
  {
   "cell_type": "code",
   "execution_count": 36,
   "id": "1c656a95",
   "metadata": {},
   "outputs": [
    {
     "name": "stdout",
     "output_type": "stream",
     "text": [
      "Model: \"sequential_1\"\n",
      "_________________________________________________________________\n",
      " Layer (type)                Output Shape              Param #   \n",
      "=================================================================\n",
      " embedding_1 (Embedding)     (None, 40, 40)            200000    \n",
      "                                                                 \n",
      " dropout (Dropout)           (None, 40, 40)            0         \n",
      "                                                                 \n",
      " lstm_1 (LSTM)               (None, 100)               56400     \n",
      "                                                                 \n",
      " dropout_1 (Dropout)         (None, 100)               0         \n",
      "                                                                 \n",
      " dense_1 (Dense)             (None, 3)                 303       \n",
      "                                                                 \n",
      "=================================================================\n",
      "Total params: 256,703\n",
      "Trainable params: 256,703\n",
      "Non-trainable params: 0\n",
      "_________________________________________________________________\n",
      "None\n"
     ]
    }
   ],
   "source": [
    "embedding_vector_features = 40\n",
    "model = Sequential()\n",
    "model.add(Embedding(voc_size,embedding_vector_features,input_length=sent_length))\n",
    "model.add(Dropout(0.3))\n",
    "model.add(LSTM(100))\n",
    "model.add(Dropout(0.3))\n",
    "model.add(Dense(3,activation='softmax'))\n",
    "model.compile(loss = 'categorical_crossentropy', optimizer = 'adam', metrics = ['accuracy', tf.keras.metrics.Recall(), tf.keras.metrics.Precision()])\n",
    "print(model.summary())"
   ]
  },
  {
   "cell_type": "code",
   "execution_count": 37,
   "id": "ecf4b21d",
   "metadata": {},
   "outputs": [
    {
     "name": "stdout",
     "output_type": "stream",
     "text": [
      "Epoch 1/10\n",
      "93/93 [==============================] - 12s 79ms/step - loss: 0.8297 - accuracy: 0.6093 - recall: 0.4619 - precision: 0.6572 - val_loss: 0.6131 - val_accuracy: 0.7400 - val_recall: 0.6760 - val_precision: 0.7923\n",
      "Epoch 2/10\n",
      "93/93 [==============================] - 6s 63ms/step - loss: 0.5325 - accuracy: 0.7845 - recall: 0.7305 - precision: 0.8259 - val_loss: 0.4946 - val_accuracy: 0.7887 - val_recall: 0.7481 - val_precision: 0.8247\n",
      "Epoch 3/10\n",
      "93/93 [==============================] - 6s 69ms/step - loss: 0.4166 - accuracy: 0.8359 - recall: 0.8095 - precision: 0.8582 - val_loss: 0.4717 - val_accuracy: 0.8080 - val_recall: 0.7924 - val_precision: 0.8234\n",
      "Epoch 4/10\n",
      "93/93 [==============================] - 6s 68ms/step - loss: 0.3558 - accuracy: 0.8644 - recall: 0.8509 - precision: 0.8783 - val_loss: 0.4558 - val_accuracy: 0.8180 - val_recall: 0.8012 - val_precision: 0.8336\n",
      "Epoch 5/10\n",
      "93/93 [==============================] - 6s 68ms/step - loss: 0.3007 - accuracy: 0.8896 - recall: 0.8790 - precision: 0.9005 - val_loss: 0.4777 - val_accuracy: 0.8202 - val_recall: 0.8123 - val_precision: 0.8307\n",
      "Epoch 6/10\n",
      "93/93 [==============================] - 6s 68ms/step - loss: 0.2677 - accuracy: 0.9045 - recall: 0.8965 - precision: 0.9096 - val_loss: 0.5179 - val_accuracy: 0.8132 - val_recall: 0.8038 - val_precision: 0.8208\n",
      "Epoch 7/10\n",
      "93/93 [==============================] - 6s 70ms/step - loss: 0.2328 - accuracy: 0.9189 - recall: 0.9122 - precision: 0.9235 - val_loss: 0.5344 - val_accuracy: 0.8171 - val_recall: 0.8104 - val_precision: 0.8240\n",
      "Epoch 8/10\n",
      "93/93 [==============================] - 7s 78ms/step - loss: 0.2159 - accuracy: 0.9247 - recall: 0.9203 - precision: 0.9307 - val_loss: 0.5348 - val_accuracy: 0.8160 - val_recall: 0.8082 - val_precision: 0.8238\n",
      "Epoch 9/10\n",
      "93/93 [==============================] - 8s 91ms/step - loss: 0.2030 - accuracy: 0.9281 - recall: 0.9223 - precision: 0.9331 - val_loss: 0.5750 - val_accuracy: 0.8248 - val_recall: 0.8195 - val_precision: 0.8286\n",
      "Epoch 10/10\n",
      "93/93 [==============================] - 9s 93ms/step - loss: 0.1806 - accuracy: 0.9385 - recall: 0.9348 - precision: 0.9429 - val_loss: 0.5982 - val_accuracy: 0.8128 - val_recall: 0.8097 - val_precision: 0.8194\n"
     ]
    },
    {
     "data": {
      "text/plain": [
       "<keras.callbacks.History at 0x1e65acbcb50>"
      ]
     },
     "execution_count": 37,
     "metadata": {},
     "output_type": "execute_result"
    }
   ],
   "source": [
    "model.fit(X_train, y_train, validation_data = (X_valid, y_valid), epochs = 10, batch_size = 100)"
   ]
  },
  {
   "cell_type": "code",
   "execution_count": 38,
   "id": "c6c1530a",
   "metadata": {},
   "outputs": [
    {
     "data": {
      "text/plain": [
       "0.8284313725490197"
      ]
     },
     "execution_count": 38,
     "metadata": {},
     "output_type": "execute_result"
    }
   ],
   "source": [
    "y_pred = model.predict(X_test)\n",
    "\n",
    "# adjust the y_pred and the y_test\n",
    "\n",
    "y_pred = np.argmax(y_pred, axis = 1)\n",
    "# y_test = np.argmax(y_test, axis = 1)\n",
    "\n",
    "accuracy_score(y_test, y_pred)"
   ]
  },
  {
   "cell_type": "code",
   "execution_count": 39,
   "id": "baef7512",
   "metadata": {},
   "outputs": [
    {
     "data": {
      "text/plain": [
       "0.8273031494644975"
      ]
     },
     "execution_count": 39,
     "metadata": {},
     "output_type": "execute_result"
    }
   ],
   "source": [
    "precision_score(y_test,y_pred, average='weighted')"
   ]
  },
  {
   "cell_type": "code",
   "execution_count": 40,
   "id": "fc465356",
   "metadata": {},
   "outputs": [
    {
     "data": {
      "text/plain": [
       "0.8284313725490197"
      ]
     },
     "execution_count": 40,
     "metadata": {},
     "output_type": "execute_result"
    }
   ],
   "source": [
    "recall_score(y_test,y_pred, average='weighted')"
   ]
  },
  {
   "cell_type": "code",
   "execution_count": 41,
   "id": "a0edc5a2",
   "metadata": {},
   "outputs": [
    {
     "data": {
      "text/plain": [
       "0.827476634277903"
      ]
     },
     "execution_count": 41,
     "metadata": {},
     "output_type": "execute_result"
    }
   ],
   "source": [
    "f1_score(y_test,y_pred, average='weighted')"
   ]
  },
  {
   "cell_type": "markdown",
   "id": "187d9e76",
   "metadata": {},
   "source": [
    "After adding two dropout layers with the probability of 0.3, we get an accuracy of 0.828 which isn't an improvement really. We will now try to change the model architecture, and see what we can get.\n",
    "\n",
    "We will change the voc_size and the sent_length to see if that can make the results better."
   ]
  },
  {
   "cell_type": "code",
   "execution_count": 42,
   "id": "728ef2fe",
   "metadata": {},
   "outputs": [],
   "source": [
    "# setting the vocabulary and sentence length\n",
    "voc_size = 10000\n",
    "sent_length = 100\n",
    "embedding_vector_features = 60"
   ]
  },
  {
   "cell_type": "code",
   "execution_count": 43,
   "id": "512741f7",
   "metadata": {},
   "outputs": [],
   "source": [
    "X_train = X_train_reviews.copy()\n",
    "y_train = y_train_reviews.copy()\n",
    "X_test = X_test_reviews.copy()\n",
    "y_test = y_test_reviews.copy()\n",
    "X_valid = X_valid_reviews.copy()\n",
    "y_valid = y_valid_reviews.copy()"
   ]
  },
  {
   "cell_type": "code",
   "execution_count": 44,
   "id": "0f352c4c",
   "metadata": {},
   "outputs": [],
   "source": [
    "def preprocessing(X, y):\n",
    "    X.drop(['cleaned_review_length', 'review_score'], axis=1, inplace=True)\n",
    "    corpus = X['cleaned_review'].values.tolist()\n",
    "    onehot_repr = [one_hot(words, voc_size) for words in corpus] \n",
    "    embedded_docs = pad_sequences(onehot_repr, padding = 'pre', maxlen = sent_length)\n",
    "        \n",
    "    y = pd.get_dummies(y)\n",
    "    \n",
    "    X = np.array(embedded_docs)\n",
    "    y = np.array(y)\n",
    "    \n",
    "    return (X, y)"
   ]
  },
  {
   "cell_type": "code",
   "execution_count": 45,
   "id": "76139a4e",
   "metadata": {},
   "outputs": [],
   "source": [
    "X_train, y_train = preprocessing(X_train, y_train)\n",
    "X_valid, y_valid = preprocessing(X_valid, y_valid)\n",
    "X_test, y_test = preprocessing(X_test, y_test)"
   ]
  },
  {
   "cell_type": "code",
   "execution_count": 46,
   "id": "c06b7355",
   "metadata": {
    "scrolled": true
   },
   "outputs": [
    {
     "name": "stdout",
     "output_type": "stream",
     "text": [
      "Model: \"sequential_2\"\n",
      "_________________________________________________________________\n",
      " Layer (type)                Output Shape              Param #   \n",
      "=================================================================\n",
      " embedding_2 (Embedding)     (None, 100, 60)           600000    \n",
      "                                                                 \n",
      " bidirectional (Bidirectiona  (None, 200)              128800    \n",
      " l)                                                              \n",
      "                                                                 \n",
      " dense_2 (Dense)             (None, 3)                 603       \n",
      "                                                                 \n",
      "=================================================================\n",
      "Total params: 729,403\n",
      "Trainable params: 729,403\n",
      "Non-trainable params: 0\n",
      "_________________________________________________________________\n",
      "None\n"
     ]
    }
   ],
   "source": [
    "# creating the base LSTM model\n",
    "\n",
    "model = Sequential()\n",
    "model.add(Embedding(voc_size,embedding_vector_features,input_length=sent_length))\n",
    "model.add(Bidirectional(LSTM(100)))\n",
    "model.add(Dense(3, activation='softmax'))\n",
    "model.compile(loss = 'categorical_crossentropy', optimizer = 'adam', metrics = ['accuracy'])\n",
    "print(model.summary())"
   ]
  },
  {
   "cell_type": "code",
   "execution_count": 47,
   "id": "a86c5a0e",
   "metadata": {
    "scrolled": false
   },
   "outputs": [
    {
     "name": "stdout",
     "output_type": "stream",
     "text": [
      "Epoch 1/3\n",
      "146/146 [==============================] - 39s 232ms/step - loss: 0.7192 - accuracy: 0.6792 - val_loss: 0.5143 - val_accuracy: 0.7815\n",
      "Epoch 2/3\n",
      "146/146 [==============================] - 44s 299ms/step - loss: 0.4196 - accuracy: 0.8306 - val_loss: 0.4371 - val_accuracy: 0.8248\n",
      "Epoch 3/3\n",
      "146/146 [==============================] - 44s 302ms/step - loss: 0.3047 - accuracy: 0.8838 - val_loss: 0.4447 - val_accuracy: 0.8300\n"
     ]
    },
    {
     "data": {
      "text/plain": [
       "<keras.callbacks.History at 0x1e661327e20>"
      ]
     },
     "execution_count": 47,
     "metadata": {},
     "output_type": "execute_result"
    }
   ],
   "source": [
    "model.fit(X_train, y_train, validation_data = (X_valid, y_valid), epochs = 3, batch_size = 64)"
   ]
  },
  {
   "cell_type": "code",
   "execution_count": 49,
   "id": "e48cf7b4",
   "metadata": {},
   "outputs": [
    {
     "data": {
      "text/plain": [
       "0.8373702422145328"
      ]
     },
     "execution_count": 49,
     "metadata": {},
     "output_type": "execute_result"
    }
   ],
   "source": [
    "y_pred = model.predict(X_test)\n",
    "\n",
    "# adjust the y_pred and the y_test\n",
    "y_pred = np.argmax(y_pred, axis = 1)\n",
    "y_test = np.argmax(y_test, axis = 1)\n",
    "\n",
    "accuracy_score(y_test,y_pred)"
   ]
  },
  {
   "cell_type": "code",
   "execution_count": 50,
   "id": "c829d486",
   "metadata": {},
   "outputs": [
    {
     "data": {
      "text/plain": [
       "0.8408864917184785"
      ]
     },
     "execution_count": 50,
     "metadata": {},
     "output_type": "execute_result"
    }
   ],
   "source": [
    "precision_score(y_test,y_pred, average='weighted')"
   ]
  },
  {
   "cell_type": "code",
   "execution_count": 51,
   "id": "1f18fb8a",
   "metadata": {},
   "outputs": [
    {
     "data": {
      "text/plain": [
       "0.8373702422145328"
      ]
     },
     "execution_count": 51,
     "metadata": {},
     "output_type": "execute_result"
    }
   ],
   "source": [
    "recall_score(y_test,y_pred, average='weighted')"
   ]
  },
  {
   "cell_type": "code",
   "execution_count": 52,
   "id": "c93c30f4",
   "metadata": {},
   "outputs": [
    {
     "data": {
      "text/plain": [
       "0.8380719330360147"
      ]
     },
     "execution_count": 52,
     "metadata": {},
     "output_type": "execute_result"
    }
   ],
   "source": [
    "f1_score(y_test,y_pred, average='weighted')"
   ]
  },
  {
   "cell_type": "code",
   "execution_count": 53,
   "id": "90a2ecb0",
   "metadata": {},
   "outputs": [],
   "source": [
    "# best result is 83 % accuracy"
   ]
  },
  {
   "cell_type": "markdown",
   "id": "efa6cb7f",
   "metadata": {},
   "source": [
    "### left-to-do\n",
    "\n",
    "Perform the hyperparameter tuning using kerastuner\n",
    "- different dimensions of the LSTM layer\n",
    "- multiple Dense layers and different dimensions\n",
    "- different dropout probabilities\n",
    "- voc_size\n",
    "- embedding_size\n",
    "- sent_length\n",
    "- different activation function, maybe multiple dense layers with different activation functions"
   ]
  },
  {
   "cell_type": "markdown",
   "id": "134bef3c",
   "metadata": {},
   "source": [
    "##### LSTM hyperparameter tuning"
   ]
  },
  {
   "cell_type": "code",
   "execution_count": null,
   "id": "b14a13f3",
   "metadata": {},
   "outputs": [],
   "source": [
    "from kerastuner.tuners import RandomSearch"
   ]
  },
  {
   "cell_type": "code",
   "execution_count": null,
   "id": "4b56e3a7",
   "metadata": {},
   "outputs": [],
   "source": [
    "def build_model(hp):\n",
    "    model = Sequential()\n",
    "    model.add(Embedding(voc_size,embedding_vector_features,input_length=sent_length))"
   ]
  },
  {
   "cell_type": "code",
   "execution_count": null,
   "id": "c1ce7579",
   "metadata": {},
   "outputs": [],
   "source": [
    "# creating the base LSTM model\n",
    "\n",
    "model = Sequential()\n",
    "model.add(Embedding(voc_size,embedding_vector_features,input_length=sent_length))\n",
    "model.add(Bidirectional(LSTM(100)))\n",
    "model.add(Dense(3, activation='softmax'))\n",
    "model.compile(loss = 'categorical_crossentropy', optimizer = 'adam', metrics = ['accuracy'])\n",
    "print(model.summary())"
   ]
  }
 ],
 "metadata": {
  "kernelspec": {
   "display_name": "Python 3 (ipykernel)",
   "language": "python",
   "name": "python3"
  },
  "language_info": {
   "codemirror_mode": {
    "name": "ipython",
    "version": 3
   },
   "file_extension": ".py",
   "mimetype": "text/x-python",
   "name": "python",
   "nbconvert_exporter": "python",
   "pygments_lexer": "ipython3",
   "version": "3.9.7"
  }
 },
 "nbformat": 4,
 "nbformat_minor": 5
}
