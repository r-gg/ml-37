{
 "cells": [
  {
   "cell_type": "markdown",
   "id": "954ae2ef",
   "metadata": {
    "id": "954ae2ef"
   },
   "source": [
    "# LSTM"
   ]
  },
  {
   "cell_type": "code",
   "execution_count": 1,
   "id": "7425fa09",
   "metadata": {
    "colab": {
     "base_uri": "https://localhost:8080/"
    },
    "executionInfo": {
     "elapsed": 9590,
     "status": "ok",
     "timestamp": 1677264204823,
     "user": {
      "displayName": "Branimir Raguž",
      "userId": "04099229421659579348"
     },
     "user_tz": -60
    },
    "id": "7425fa09",
    "outputId": "fafe38cf-3c91-48d2-b8be-59518b529049"
   },
   "outputs": [
    {
     "name": "stderr",
     "output_type": "stream",
     "text": [
      "C:\\Users\\User\\AppData\\Local\\Temp/ipykernel_16264/3039973235.py:19: DeprecationWarning: `import kerastuner` is deprecated, please use `import keras_tuner`.\n",
      "  from kerastuner.tuners import RandomSearch\n"
     ]
    }
   ],
   "source": [
    "# imports\n",
    "import time\n",
    "import os\n",
    "import optuna\n",
    "import pickle\n",
    "import pandas as pd\n",
    "import matplotlib.pyplot as plt\n",
    "import seaborn as sns\n",
    "import numpy as np\n",
    "import tensorflow as tf\n",
    "from sklearn.model_selection import train_test_split\n",
    "from sklearn.neural_network import MLPClassifier\n",
    "from sklearn.model_selection import cross_val_score\n",
    "from sklearn.metrics import log_loss, balanced_accuracy_score, precision_score, f1_score, recall_score, classification_report\n",
    "from tensorflow.keras.preprocessing.sequence import pad_sequences\n",
    "from tensorflow.keras.models import Sequential\n",
    "from tensorflow.keras.preprocessing.text import one_hot\n",
    "from tensorflow.keras.layers import LSTM, Bidirectional, Dense, Dropout, Embedding\n",
    "from kerastuner.tuners import RandomSearch\n",
    "from tensorflow.keras.optimizers import Adam\n",
    "from tensorflow.keras.losses import CategoricalCrossentropy\n",
    "from tensorflow.keras.metrics import Accuracy\n",
    "from sklearn.preprocessing import OneHotEncoder\n",
    "from nltk.corpus import stopwords\n",
    "import re\n",
    "import nltk\n",
    "from nltk.stem import WordNetLemmatizer\n",
    "# nltk.download('wordnet')\n",
    "# nltk.download('stopwords')\n",
    "# nltk.download('punkt')\n",
    "# nltk.download('omw-1.4')"
   ]
  },
  {
   "cell_type": "markdown",
   "id": "9ed92da3",
   "metadata": {
    "id": "9ed92da3"
   },
   "source": [
    "## 1. Data loading and exploration"
   ]
  },
  {
   "cell_type": "code",
   "execution_count": 11,
   "id": "b7c69407",
   "metadata": {
    "executionInfo": {
     "elapsed": 2802,
     "status": "ok",
     "timestamp": 1677264301750,
     "user": {
      "displayName": "Branimir Raguž",
      "userId": "04099229421659579348"
     },
     "user_tz": -60
    },
    "id": "b7c69407"
   },
   "outputs": [],
   "source": [
    "ag_news_train_df = pd.read_csv('data/ag_news_train.csv')\n",
    "ag_news_test_df = pd.read_csv('data/ag_news_test.csv')\n",
    "amazon_reviews_df = pd.read_csv('data/cleaned_amazon_reviews.csv')"
   ]
  },
  {
   "cell_type": "code",
   "execution_count": 12,
   "id": "9af11b04",
   "metadata": {
    "colab": {
     "base_uri": "https://localhost:8080/"
    },
    "executionInfo": {
     "elapsed": 55,
     "status": "ok",
     "timestamp": 1677264301750,
     "user": {
      "displayName": "Branimir Raguž",
      "userId": "04099229421659579348"
     },
     "user_tz": -60
    },
    "id": "9af11b04",
    "outputId": "42fcd86c-5d65-4736-f640-730f314490b2"
   },
   "outputs": [
    {
     "data": {
      "text/plain": [
       "(120000, 3)"
      ]
     },
     "execution_count": 12,
     "metadata": {},
     "output_type": "execute_result"
    }
   ],
   "source": [
    "ag_news_train_df.shape"
   ]
  },
  {
   "cell_type": "code",
   "execution_count": 13,
   "id": "dbfc10cc",
   "metadata": {
    "colab": {
     "base_uri": "https://localhost:8080/"
    },
    "executionInfo": {
     "elapsed": 53,
     "status": "ok",
     "timestamp": 1677264301751,
     "user": {
      "displayName": "Branimir Raguž",
      "userId": "04099229421659579348"
     },
     "user_tz": -60
    },
    "id": "dbfc10cc",
    "outputId": "52f4837b-93dc-4584-eaae-8b639f802713"
   },
   "outputs": [
    {
     "data": {
      "text/plain": [
       "(7600, 3)"
      ]
     },
     "execution_count": 13,
     "metadata": {},
     "output_type": "execute_result"
    }
   ],
   "source": [
    "ag_news_test_df.shape"
   ]
  },
  {
   "cell_type": "code",
   "execution_count": 14,
   "id": "6a40c3a2",
   "metadata": {
    "colab": {
     "base_uri": "https://localhost:8080/",
     "height": 206
    },
    "executionInfo": {
     "elapsed": 49,
     "status": "ok",
     "timestamp": 1677264301752,
     "user": {
      "displayName": "Branimir Raguž",
      "userId": "04099229421659579348"
     },
     "user_tz": -60
    },
    "id": "6a40c3a2",
    "outputId": "67884df1-9cb6-499e-d2d8-d8c454722dc3"
   },
   "outputs": [
    {
     "data": {
      "text/html": [
       "\n",
       "  <div id=\"df-2b0809b9-c157-465c-a577-dde7ddecc092\">\n",
       "    <div class=\"colab-df-container\">\n",
       "      <div>\n",
       "<style scoped>\n",
       "    .dataframe tbody tr th:only-of-type {\n",
       "        vertical-align: middle;\n",
       "    }\n",
       "\n",
       "    .dataframe tbody tr th {\n",
       "        vertical-align: top;\n",
       "    }\n",
       "\n",
       "    .dataframe thead th {\n",
       "        text-align: right;\n",
       "    }\n",
       "</style>\n",
       "<table border=\"1\" class=\"dataframe\">\n",
       "  <thead>\n",
       "    <tr style=\"text-align: right;\">\n",
       "      <th></th>\n",
       "      <th>Class Index</th>\n",
       "      <th>Title</th>\n",
       "      <th>Description</th>\n",
       "    </tr>\n",
       "  </thead>\n",
       "  <tbody>\n",
       "    <tr>\n",
       "      <th>0</th>\n",
       "      <td>3</td>\n",
       "      <td>Wall St. Bears Claw Back Into the Black (Reuters)</td>\n",
       "      <td>Reuters - Short-sellers, Wall Street's dwindli...</td>\n",
       "    </tr>\n",
       "    <tr>\n",
       "      <th>1</th>\n",
       "      <td>3</td>\n",
       "      <td>Carlyle Looks Toward Commercial Aerospace (Reu...</td>\n",
       "      <td>Reuters - Private investment firm Carlyle Grou...</td>\n",
       "    </tr>\n",
       "    <tr>\n",
       "      <th>2</th>\n",
       "      <td>3</td>\n",
       "      <td>Oil and Economy Cloud Stocks' Outlook (Reuters)</td>\n",
       "      <td>Reuters - Soaring crude prices plus worries\\ab...</td>\n",
       "    </tr>\n",
       "    <tr>\n",
       "      <th>3</th>\n",
       "      <td>3</td>\n",
       "      <td>Iraq Halts Oil Exports from Main Southern Pipe...</td>\n",
       "      <td>Reuters - Authorities have halted oil export\\f...</td>\n",
       "    </tr>\n",
       "    <tr>\n",
       "      <th>4</th>\n",
       "      <td>3</td>\n",
       "      <td>Oil prices soar to all-time record, posing new...</td>\n",
       "      <td>AFP - Tearaway world oil prices, toppling reco...</td>\n",
       "    </tr>\n",
       "  </tbody>\n",
       "</table>\n",
       "</div>\n",
       "      <button class=\"colab-df-convert\" onclick=\"convertToInteractive('df-2b0809b9-c157-465c-a577-dde7ddecc092')\"\n",
       "              title=\"Convert this dataframe to an interactive table.\"\n",
       "              style=\"display:none;\">\n",
       "        \n",
       "  <svg xmlns=\"http://www.w3.org/2000/svg\" height=\"24px\"viewBox=\"0 0 24 24\"\n",
       "       width=\"24px\">\n",
       "    <path d=\"M0 0h24v24H0V0z\" fill=\"none\"/>\n",
       "    <path d=\"M18.56 5.44l.94 2.06.94-2.06 2.06-.94-2.06-.94-.94-2.06-.94 2.06-2.06.94zm-11 1L8.5 8.5l.94-2.06 2.06-.94-2.06-.94L8.5 2.5l-.94 2.06-2.06.94zm10 10l.94 2.06.94-2.06 2.06-.94-2.06-.94-.94-2.06-.94 2.06-2.06.94z\"/><path d=\"M17.41 7.96l-1.37-1.37c-.4-.4-.92-.59-1.43-.59-.52 0-1.04.2-1.43.59L10.3 9.45l-7.72 7.72c-.78.78-.78 2.05 0 2.83L4 21.41c.39.39.9.59 1.41.59.51 0 1.02-.2 1.41-.59l7.78-7.78 2.81-2.81c.8-.78.8-2.07 0-2.86zM5.41 20L4 18.59l7.72-7.72 1.47 1.35L5.41 20z\"/>\n",
       "  </svg>\n",
       "      </button>\n",
       "      \n",
       "  <style>\n",
       "    .colab-df-container {\n",
       "      display:flex;\n",
       "      flex-wrap:wrap;\n",
       "      gap: 12px;\n",
       "    }\n",
       "\n",
       "    .colab-df-convert {\n",
       "      background-color: #E8F0FE;\n",
       "      border: none;\n",
       "      border-radius: 50%;\n",
       "      cursor: pointer;\n",
       "      display: none;\n",
       "      fill: #1967D2;\n",
       "      height: 32px;\n",
       "      padding: 0 0 0 0;\n",
       "      width: 32px;\n",
       "    }\n",
       "\n",
       "    .colab-df-convert:hover {\n",
       "      background-color: #E2EBFA;\n",
       "      box-shadow: 0px 1px 2px rgba(60, 64, 67, 0.3), 0px 1px 3px 1px rgba(60, 64, 67, 0.15);\n",
       "      fill: #174EA6;\n",
       "    }\n",
       "\n",
       "    [theme=dark] .colab-df-convert {\n",
       "      background-color: #3B4455;\n",
       "      fill: #D2E3FC;\n",
       "    }\n",
       "\n",
       "    [theme=dark] .colab-df-convert:hover {\n",
       "      background-color: #434B5C;\n",
       "      box-shadow: 0px 1px 3px 1px rgba(0, 0, 0, 0.15);\n",
       "      filter: drop-shadow(0px 1px 2px rgba(0, 0, 0, 0.3));\n",
       "      fill: #FFFFFF;\n",
       "    }\n",
       "  </style>\n",
       "\n",
       "      <script>\n",
       "        const buttonEl =\n",
       "          document.querySelector('#df-2b0809b9-c157-465c-a577-dde7ddecc092 button.colab-df-convert');\n",
       "        buttonEl.style.display =\n",
       "          google.colab.kernel.accessAllowed ? 'block' : 'none';\n",
       "\n",
       "        async function convertToInteractive(key) {\n",
       "          const element = document.querySelector('#df-2b0809b9-c157-465c-a577-dde7ddecc092');\n",
       "          const dataTable =\n",
       "            await google.colab.kernel.invokeFunction('convertToInteractive',\n",
       "                                                     [key], {});\n",
       "          if (!dataTable) return;\n",
       "\n",
       "          const docLinkHtml = 'Like what you see? Visit the ' +\n",
       "            '<a target=\"_blank\" href=https://colab.research.google.com/notebooks/data_table.ipynb>data table notebook</a>'\n",
       "            + ' to learn more about interactive tables.';\n",
       "          element.innerHTML = '';\n",
       "          dataTable['output_type'] = 'display_data';\n",
       "          await google.colab.output.renderOutput(dataTable, element);\n",
       "          const docLink = document.createElement('div');\n",
       "          docLink.innerHTML = docLinkHtml;\n",
       "          element.appendChild(docLink);\n",
       "        }\n",
       "      </script>\n",
       "    </div>\n",
       "  </div>\n",
       "  "
      ],
      "text/plain": [
       "   Class Index                                              Title  \\\n",
       "0            3  Wall St. Bears Claw Back Into the Black (Reuters)   \n",
       "1            3  Carlyle Looks Toward Commercial Aerospace (Reu...   \n",
       "2            3    Oil and Economy Cloud Stocks' Outlook (Reuters)   \n",
       "3            3  Iraq Halts Oil Exports from Main Southern Pipe...   \n",
       "4            3  Oil prices soar to all-time record, posing new...   \n",
       "\n",
       "                                         Description  \n",
       "0  Reuters - Short-sellers, Wall Street's dwindli...  \n",
       "1  Reuters - Private investment firm Carlyle Grou...  \n",
       "2  Reuters - Soaring crude prices plus worries\\ab...  \n",
       "3  Reuters - Authorities have halted oil export\\f...  \n",
       "4  AFP - Tearaway world oil prices, toppling reco...  "
      ]
     },
     "execution_count": 14,
     "metadata": {},
     "output_type": "execute_result"
    }
   ],
   "source": [
    "ag_news_train_df.head()"
   ]
  },
  {
   "cell_type": "code",
   "execution_count": 15,
   "id": "fbc83f81",
   "metadata": {
    "colab": {
     "base_uri": "https://localhost:8080/"
    },
    "executionInfo": {
     "elapsed": 48,
     "status": "ok",
     "timestamp": 1677264301754,
     "user": {
      "displayName": "Branimir Raguž",
      "userId": "04099229421659579348"
     },
     "user_tz": -60
    },
    "id": "fbc83f81",
    "outputId": "a9cfff53-dbbe-4739-c84a-ebeb2926c530"
   },
   "outputs": [
    {
     "data": {
      "text/plain": [
       "(17340, 4)"
      ]
     },
     "execution_count": 15,
     "metadata": {},
     "output_type": "execute_result"
    }
   ],
   "source": [
    "amazon_reviews_df.shape"
   ]
  },
  {
   "cell_type": "code",
   "execution_count": 16,
   "id": "24aec614",
   "metadata": {
    "colab": {
     "base_uri": "https://localhost:8080/",
     "height": 206
    },
    "executionInfo": {
     "elapsed": 44,
     "status": "ok",
     "timestamp": 1677264301755,
     "user": {
      "displayName": "Branimir Raguž",
      "userId": "04099229421659579348"
     },
     "user_tz": -60
    },
    "id": "24aec614",
    "outputId": "2c22964c-2853-4ea3-d516-58bfbf41b2e1"
   },
   "outputs": [
    {
     "data": {
      "text/html": [
       "\n",
       "  <div id=\"df-f2835d6d-076f-407c-9b20-33d1fc09cda3\">\n",
       "    <div class=\"colab-df-container\">\n",
       "      <div>\n",
       "<style scoped>\n",
       "    .dataframe tbody tr th:only-of-type {\n",
       "        vertical-align: middle;\n",
       "    }\n",
       "\n",
       "    .dataframe tbody tr th {\n",
       "        vertical-align: top;\n",
       "    }\n",
       "\n",
       "    .dataframe thead th {\n",
       "        text-align: right;\n",
       "    }\n",
       "</style>\n",
       "<table border=\"1\" class=\"dataframe\">\n",
       "  <thead>\n",
       "    <tr style=\"text-align: right;\">\n",
       "      <th></th>\n",
       "      <th>sentiments</th>\n",
       "      <th>cleaned_review</th>\n",
       "      <th>cleaned_review_length</th>\n",
       "      <th>review_score</th>\n",
       "    </tr>\n",
       "  </thead>\n",
       "  <tbody>\n",
       "    <tr>\n",
       "      <th>0</th>\n",
       "      <td>positive</td>\n",
       "      <td>i wish would have gotten one earlier love it a...</td>\n",
       "      <td>19</td>\n",
       "      <td>5.0</td>\n",
       "    </tr>\n",
       "    <tr>\n",
       "      <th>1</th>\n",
       "      <td>neutral</td>\n",
       "      <td>i ve learned this lesson again open the packag...</td>\n",
       "      <td>88</td>\n",
       "      <td>1.0</td>\n",
       "    </tr>\n",
       "    <tr>\n",
       "      <th>2</th>\n",
       "      <td>neutral</td>\n",
       "      <td>it is so slow and lags find better option</td>\n",
       "      <td>9</td>\n",
       "      <td>2.0</td>\n",
       "    </tr>\n",
       "    <tr>\n",
       "      <th>3</th>\n",
       "      <td>neutral</td>\n",
       "      <td>roller ball stopped working within months of m...</td>\n",
       "      <td>12</td>\n",
       "      <td>1.0</td>\n",
       "    </tr>\n",
       "    <tr>\n",
       "      <th>4</th>\n",
       "      <td>neutral</td>\n",
       "      <td>i like the color and size but it few days out ...</td>\n",
       "      <td>21</td>\n",
       "      <td>1.0</td>\n",
       "    </tr>\n",
       "  </tbody>\n",
       "</table>\n",
       "</div>\n",
       "      <button class=\"colab-df-convert\" onclick=\"convertToInteractive('df-f2835d6d-076f-407c-9b20-33d1fc09cda3')\"\n",
       "              title=\"Convert this dataframe to an interactive table.\"\n",
       "              style=\"display:none;\">\n",
       "        \n",
       "  <svg xmlns=\"http://www.w3.org/2000/svg\" height=\"24px\"viewBox=\"0 0 24 24\"\n",
       "       width=\"24px\">\n",
       "    <path d=\"M0 0h24v24H0V0z\" fill=\"none\"/>\n",
       "    <path d=\"M18.56 5.44l.94 2.06.94-2.06 2.06-.94-2.06-.94-.94-2.06-.94 2.06-2.06.94zm-11 1L8.5 8.5l.94-2.06 2.06-.94-2.06-.94L8.5 2.5l-.94 2.06-2.06.94zm10 10l.94 2.06.94-2.06 2.06-.94-2.06-.94-.94-2.06-.94 2.06-2.06.94z\"/><path d=\"M17.41 7.96l-1.37-1.37c-.4-.4-.92-.59-1.43-.59-.52 0-1.04.2-1.43.59L10.3 9.45l-7.72 7.72c-.78.78-.78 2.05 0 2.83L4 21.41c.39.39.9.59 1.41.59.51 0 1.02-.2 1.41-.59l7.78-7.78 2.81-2.81c.8-.78.8-2.07 0-2.86zM5.41 20L4 18.59l7.72-7.72 1.47 1.35L5.41 20z\"/>\n",
       "  </svg>\n",
       "      </button>\n",
       "      \n",
       "  <style>\n",
       "    .colab-df-container {\n",
       "      display:flex;\n",
       "      flex-wrap:wrap;\n",
       "      gap: 12px;\n",
       "    }\n",
       "\n",
       "    .colab-df-convert {\n",
       "      background-color: #E8F0FE;\n",
       "      border: none;\n",
       "      border-radius: 50%;\n",
       "      cursor: pointer;\n",
       "      display: none;\n",
       "      fill: #1967D2;\n",
       "      height: 32px;\n",
       "      padding: 0 0 0 0;\n",
       "      width: 32px;\n",
       "    }\n",
       "\n",
       "    .colab-df-convert:hover {\n",
       "      background-color: #E2EBFA;\n",
       "      box-shadow: 0px 1px 2px rgba(60, 64, 67, 0.3), 0px 1px 3px 1px rgba(60, 64, 67, 0.15);\n",
       "      fill: #174EA6;\n",
       "    }\n",
       "\n",
       "    [theme=dark] .colab-df-convert {\n",
       "      background-color: #3B4455;\n",
       "      fill: #D2E3FC;\n",
       "    }\n",
       "\n",
       "    [theme=dark] .colab-df-convert:hover {\n",
       "      background-color: #434B5C;\n",
       "      box-shadow: 0px 1px 3px 1px rgba(0, 0, 0, 0.15);\n",
       "      filter: drop-shadow(0px 1px 2px rgba(0, 0, 0, 0.3));\n",
       "      fill: #FFFFFF;\n",
       "    }\n",
       "  </style>\n",
       "\n",
       "      <script>\n",
       "        const buttonEl =\n",
       "          document.querySelector('#df-f2835d6d-076f-407c-9b20-33d1fc09cda3 button.colab-df-convert');\n",
       "        buttonEl.style.display =\n",
       "          google.colab.kernel.accessAllowed ? 'block' : 'none';\n",
       "\n",
       "        async function convertToInteractive(key) {\n",
       "          const element = document.querySelector('#df-f2835d6d-076f-407c-9b20-33d1fc09cda3');\n",
       "          const dataTable =\n",
       "            await google.colab.kernel.invokeFunction('convertToInteractive',\n",
       "                                                     [key], {});\n",
       "          if (!dataTable) return;\n",
       "\n",
       "          const docLinkHtml = 'Like what you see? Visit the ' +\n",
       "            '<a target=\"_blank\" href=https://colab.research.google.com/notebooks/data_table.ipynb>data table notebook</a>'\n",
       "            + ' to learn more about interactive tables.';\n",
       "          element.innerHTML = '';\n",
       "          dataTable['output_type'] = 'display_data';\n",
       "          await google.colab.output.renderOutput(dataTable, element);\n",
       "          const docLink = document.createElement('div');\n",
       "          docLink.innerHTML = docLinkHtml;\n",
       "          element.appendChild(docLink);\n",
       "        }\n",
       "      </script>\n",
       "    </div>\n",
       "  </div>\n",
       "  "
      ],
      "text/plain": [
       "  sentiments                                     cleaned_review  \\\n",
       "0   positive  i wish would have gotten one earlier love it a...   \n",
       "1    neutral  i ve learned this lesson again open the packag...   \n",
       "2    neutral          it is so slow and lags find better option   \n",
       "3    neutral  roller ball stopped working within months of m...   \n",
       "4    neutral  i like the color and size but it few days out ...   \n",
       "\n",
       "   cleaned_review_length  review_score  \n",
       "0                     19           5.0  \n",
       "1                     88           1.0  \n",
       "2                      9           2.0  \n",
       "3                     12           1.0  \n",
       "4                     21           1.0  "
      ]
     },
     "execution_count": 16,
     "metadata": {},
     "output_type": "execute_result"
    }
   ],
   "source": [
    "amazon_reviews_df.head()"
   ]
  },
  {
   "cell_type": "code",
   "execution_count": 17,
   "id": "97023268",
   "metadata": {
    "colab": {
     "base_uri": "https://localhost:8080/"
    },
    "executionInfo": {
     "elapsed": 43,
     "status": "ok",
     "timestamp": 1677264301757,
     "user": {
      "displayName": "Branimir Raguž",
      "userId": "04099229421659579348"
     },
     "user_tz": -60
    },
    "id": "97023268",
    "outputId": "8c4065e5-04db-4772-9584-5e32940be695"
   },
   "outputs": [
    {
     "data": {
      "text/plain": [
       "sentiments               0\n",
       "cleaned_review           3\n",
       "cleaned_review_length    0\n",
       "review_score             0\n",
       "dtype: int64"
      ]
     },
     "execution_count": 17,
     "metadata": {},
     "output_type": "execute_result"
    }
   ],
   "source": [
    "amazon_reviews_df.isna().sum()"
   ]
  },
  {
   "cell_type": "code",
   "execution_count": 18,
   "id": "2cdd0644",
   "metadata": {
    "colab": {
     "base_uri": "https://localhost:8080/",
     "height": 316
    },
    "executionInfo": {
     "elapsed": 39,
     "status": "ok",
     "timestamp": 1677264301758,
     "user": {
      "displayName": "Branimir Raguž",
      "userId": "04099229421659579348"
     },
     "user_tz": -60
    },
    "id": "2cdd0644",
    "outputId": "9a864cd1-f60e-42c8-b107-d1f10f106df4"
   },
   "outputs": [
    {
     "data": {
      "text/plain": [
       "<AxesSubplot:>"
      ]
     },
     "execution_count": 18,
     "metadata": {},
     "output_type": "execute_result"
    },
    {
     "data": {
      "image/png": "[encoded data removed]",
      "text/plain": [
       "<Figure size 432x288 with 1 Axes>"
      ]
     },
     "metadata": {
      "needs_background": "light"
     },
     "output_type": "display_data"
    }
   ],
   "source": [
    "amazon_reviews_df.sentiments.value_counts().plot(kind='bar')"
   ]
  },
  {
   "cell_type": "markdown",
   "id": "66cf4aa4",
   "metadata": {
    "id": "66cf4aa4"
   },
   "source": [
    "Unbalanced target"
   ]
  },
  {
   "cell_type": "code",
   "execution_count": 19,
   "id": "82393d1e",
   "metadata": {
    "colab": {
     "base_uri": "https://localhost:8080/",
     "height": 279
    },
    "executionInfo": {
     "elapsed": 34,
     "status": "ok",
     "timestamp": 1677264301759,
     "user": {
      "displayName": "Branimir Raguž",
      "userId": "04099229421659579348"
     },
     "user_tz": -60
    },
    "id": "82393d1e",
    "outputId": "4accf019-b280-45b6-b544-ef3d878cf8ff"
   },
   "outputs": [
    {
     "data": {
      "text/plain": [
       "<AxesSubplot:>"
      ]
     },
     "execution_count": 19,
     "metadata": {},
     "output_type": "execute_result"
    },
    {
     "data": {
      "image/png": "[encoded data removed]",
      "text/plain": [
       "<Figure size 432x288 with 1 Axes>"
      ]
     },
     "metadata": {
      "needs_background": "light"
     },
     "output_type": "display_data"
    }
   ],
   "source": [
    "ag_news_train_df['Class Index'].value_counts().plot(kind='bar')"
   ]
  },
  {
   "cell_type": "markdown",
   "id": "0518b78a",
   "metadata": {
    "id": "0518b78a"
   },
   "source": [
    "Balanced target"
   ]
  },
  {
   "cell_type": "markdown",
   "id": "601b6dfe",
   "metadata": {
    "id": "601b6dfe"
   },
   "source": [
    "#### Distribution of review lengths"
   ]
  },
  {
   "cell_type": "code",
   "execution_count": 20,
   "id": "398fe6df",
   "metadata": {
    "colab": {
     "base_uri": "https://localhost:8080/",
     "height": 352
    },
    "executionInfo": {
     "elapsed": 680,
     "status": "ok",
     "timestamp": 1677264302412,
     "user": {
      "displayName": "Branimir Raguž",
      "userId": "04099229421659579348"
     },
     "user_tz": -60
    },
    "id": "398fe6df",
    "outputId": "8dbfb525-91cc-4fb7-b3fa-ad070cf51572"
   },
   "outputs": [
    {
     "data": {
      "text/plain": [
       "(array([1.4993e+04, 1.8380e+03, 3.4300e+02, 8.3000e+01, 5.0000e+01,\n",
       "        1.2000e+01, 9.0000e+00, 5.0000e+00, 4.0000e+00, 3.0000e+00]),\n",
       " array([  0. ,  57.1, 114.2, 171.3, 228.4, 285.5, 342.6, 399.7, 456.8,\n",
       "        513.9, 571. ]),\n",
       " <BarContainer object of 10 artists>)"
      ]
     },
     "execution_count": 20,
     "metadata": {},
     "output_type": "execute_result"
    },
    {
     "data": {
      "image/png": "[encoded data removed]",
      "text/plain": [
       "<Figure size 432x288 with 1 Axes>"
      ]
     },
     "metadata": {
      "needs_background": "light"
     },
     "output_type": "display_data"
    }
   ],
   "source": [
    "plt.hist(amazon_reviews_df.cleaned_review_length)"
   ]
  },
  {
   "cell_type": "markdown",
   "id": "48c41a88",
   "metadata": {
    "id": "48c41a88"
   },
   "source": [
    "#### Distribution of the news article lengths"
   ]
  },
  {
   "cell_type": "code",
   "execution_count": 21,
   "id": "bbdc407f",
   "metadata": {
    "colab": {
     "base_uri": "https://localhost:8080/",
     "height": 353
    },
    "executionInfo": {
     "elapsed": 30,
     "status": "ok",
     "timestamp": 1677264302414,
     "user": {
      "displayName": "Branimir Raguž",
      "userId": "04099229421659579348"
     },
     "user_tz": -60
    },
    "id": "bbdc407f",
    "outputId": "b2619dbe-26bf-4b7d-a542-fa12c224974b"
   },
   "outputs": [
    {
     "data": {
      "text/plain": [
       "(array([4.8100e+03, 6.7638e+04, 4.1664e+04, 4.2770e+03, 1.0700e+03,\n",
       "        2.9800e+02, 9.3000e+01, 9.0000e+01, 2.9000e+01, 3.1000e+01]),\n",
       " array([  6. , 103.9, 201.8, 299.7, 397.6, 495.5, 593.4, 691.3, 789.2,\n",
       "        887.1, 985. ]),\n",
       " <BarContainer object of 10 artists>)"
      ]
     },
     "execution_count": 21,
     "metadata": {},
     "output_type": "execute_result"
    },
    {
     "data": {
      "image/png": "[encoded data removed]",
      "text/plain": [
       "<Figure size 432x288 with 1 Axes>"
      ]
     },
     "metadata": {
      "needs_background": "light"
     },
     "output_type": "display_data"
    }
   ],
   "source": [
    "plt.hist(ag_news_train_df.Description.str.len())"
   ]
  },
  {
   "cell_type": "code",
   "execution_count": 22,
   "id": "21fcdac8",
   "metadata": {
    "colab": {
     "base_uri": "https://localhost:8080/"
    },
    "executionInfo": {
     "elapsed": 25,
     "status": "ok",
     "timestamp": 1677264302416,
     "user": {
      "displayName": "Branimir Raguž",
      "userId": "04099229421659579348"
     },
     "user_tz": -60
    },
    "id": "21fcdac8",
    "outputId": "9bb71eb1-4787-43a8-fe9d-d001d5255106"
   },
   "outputs": [
    {
     "data": {
      "text/plain": [
       "Class Index    False\n",
       "Title          False\n",
       "Description    False\n",
       "dtype: bool"
      ]
     },
     "execution_count": 22,
     "metadata": {},
     "output_type": "execute_result"
    }
   ],
   "source": [
    "ag_news_train_df.isna().any()"
   ]
  },
  {
   "cell_type": "markdown",
   "id": "698e7635",
   "metadata": {
    "id": "698e7635"
   },
   "source": [
    "#### Removing NaNs"
   ]
  },
  {
   "cell_type": "code",
   "execution_count": 23,
   "id": "c7a01d77",
   "metadata": {
    "executionInfo": {
     "elapsed": 20,
     "status": "ok",
     "timestamp": 1677264302417,
     "user": {
      "displayName": "Branimir Raguž",
      "userId": "04099229421659579348"
     },
     "user_tz": -60
    },
    "id": "c7a01d77"
   },
   "outputs": [],
   "source": [
    "amazon_reviews_df.dropna(inplace=True)"
   ]
  },
  {
   "cell_type": "markdown",
   "id": "c93da568",
   "metadata": {
    "id": "c93da568"
   },
   "source": [
    "## 2. Train/Val/Test split"
   ]
  },
  {
   "cell_type": "code",
   "execution_count": 24,
   "id": "17908955",
   "metadata": {
    "executionInfo": {
     "elapsed": 7,
     "status": "ok",
     "timestamp": 1677264304225,
     "user": {
      "displayName": "Branimir Raguž",
      "userId": "04099229421659579348"
     },
     "user_tz": -60
    },
    "id": "17908955"
   },
   "outputs": [],
   "source": [
    "X_amazon_reviews = amazon_reviews_df.drop(columns=['sentiments'])\n",
    "y_amazon_reviews = amazon_reviews_df['sentiments']"
   ]
  },
  {
   "cell_type": "code",
   "execution_count": 25,
   "id": "34048169",
   "metadata": {
    "executionInfo": {
     "elapsed": 5,
     "status": "ok",
     "timestamp": 1677264304225,
     "user": {
      "displayName": "Branimir Raguž",
      "userId": "04099229421659579348"
     },
     "user_tz": -60
    },
    "id": "34048169"
   },
   "outputs": [],
   "source": [
    "X_train_reviews, X_test_reviews, y_train_reviews, y_test_reviews = train_test_split(X_amazon_reviews,\n",
    "                                                                                   y_amazon_reviews,\n",
    "                                                                                   random_state=42,\n",
    "                                                                                   test_size=0.2)"
   ]
  },
  {
   "cell_type": "code",
   "execution_count": 26,
   "id": "1c12aa1a",
   "metadata": {
    "executionInfo": {
     "elapsed": 5,
     "status": "ok",
     "timestamp": 1677264304226,
     "user": {
      "displayName": "Branimir Raguž",
      "userId": "04099229421659579348"
     },
     "user_tz": -60
    },
    "id": "1c12aa1a"
   },
   "outputs": [],
   "source": [
    "X_train_reviews, X_valid_reviews, y_train_reviews, y_valid_reviews = train_test_split(X_train_reviews,\n",
    "                                                                                     y_train_reviews,\n",
    "                                                                                     random_state=42,\n",
    "                                                                                     test_size = 0.25)"
   ]
  },
  {
   "cell_type": "markdown",
   "id": "f177d90e",
   "metadata": {
    "id": "f177d90e"
   },
   "source": [
    "### Splitting ag news into X and y's"
   ]
  },
  {
   "cell_type": "markdown",
   "id": "9f484ee0",
   "metadata": {
    "id": "9f484ee0"
   },
   "source": [
    "Merging Title and Description into one field, \"Text\""
   ]
  },
  {
   "cell_type": "code",
   "execution_count": 27,
   "id": "674437cf",
   "metadata": {
    "executionInfo": {
     "elapsed": 4325,
     "status": "ok",
     "timestamp": 1677264309545,
     "user": {
      "displayName": "Branimir Raguž",
      "userId": "04099229421659579348"
     },
     "user_tz": -60
    },
    "id": "674437cf"
   },
   "outputs": [],
   "source": [
    "ag_news_train_df['Text'] = ag_news_train_df[['Title', 'Description']].agg(' '.join,axis=1)\n",
    "ag_news_test_df['Text'] = ag_news_test_df[['Title', 'Description']].agg(' '.join,axis=1)"
   ]
  },
  {
   "cell_type": "code",
   "execution_count": 28,
   "id": "0c44f02d",
   "metadata": {
    "colab": {
     "base_uri": "https://localhost:8080/"
    },
    "executionInfo": {
     "elapsed": 43,
     "status": "ok",
     "timestamp": 1677264309546,
     "user": {
      "displayName": "Branimir Raguž",
      "userId": "04099229421659579348"
     },
     "user_tz": -60
    },
    "id": "0c44f02d",
    "outputId": "4942737a-47c7-464d-de51-eca6a7c80685"
   },
   "outputs": [
    {
     "data": {
      "text/plain": [
       "0         Wall St. Bears Claw Back Into the Black (Reute...\n",
       "1         Carlyle Looks Toward Commercial Aerospace (Reu...\n",
       "2         Oil and Economy Cloud Stocks' Outlook (Reuters...\n",
       "3         Iraq Halts Oil Exports from Main Southern Pipe...\n",
       "4         Oil prices soar to all-time record, posing new...\n",
       "                                ...                        \n",
       "119995    Pakistan's Musharraf Says Won't Quit as Army C...\n",
       "119996    Renteria signing a top-shelf deal Red Sox gene...\n",
       "119997    Saban not going to Dolphins yet The Miami Dolp...\n",
       "119998    Today's NFL games PITTSBURGH at NY GIANTS Time...\n",
       "119999    Nets get Carter from Raptors INDIANAPOLIS -- A...\n",
       "Name: Text, Length: 120000, dtype: object"
      ]
     },
     "execution_count": 28,
     "metadata": {},
     "output_type": "execute_result"
    }
   ],
   "source": [
    "ag_news_train_df['Text']"
   ]
  },
  {
   "cell_type": "code",
   "execution_count": 29,
   "id": "4b277978",
   "metadata": {
    "executionInfo": {
     "elapsed": 31,
     "status": "ok",
     "timestamp": 1677264309547,
     "user": {
      "displayName": "Branimir Raguž",
      "userId": "04099229421659579348"
     },
     "user_tz": -60
    },
    "id": "4b277978"
   },
   "outputs": [],
   "source": [
    "X_train_news = ag_news_train_df['Text']\n",
    "y_train_news = ag_news_train_df['Class Index']\n",
    "\n",
    "X_test_news = ag_news_test_df['Text']\n",
    "y_test_news = ag_news_test_df['Class Index']"
   ]
  },
  {
   "cell_type": "code",
   "execution_count": 30,
   "id": "61ec7492",
   "metadata": {
    "executionInfo": {
     "elapsed": 31,
     "status": "ok",
     "timestamp": 1677264309547,
     "user": {
      "displayName": "Branimir Raguž",
      "userId": "04099229421659579348"
     },
     "user_tz": -60
    },
    "id": "61ec7492"
   },
   "outputs": [],
   "source": [
    "X_train_news, X_valid_news, y_train_news, y_valid_news = train_test_split(X_train_news,\n",
    "                                                                          y_train_news,\n",
    "                                                                          random_state=42,\n",
    "                                                                          test_size = 0.25)"
   ]
  },
  {
   "cell_type": "code",
   "execution_count": 31,
   "id": "b6debe4b",
   "metadata": {
    "executionInfo": {
     "elapsed": 31,
     "status": "ok",
     "timestamp": 1677264309548,
     "user": {
      "displayName": "Branimir Raguž",
      "userId": "04099229421659579348"
     },
     "user_tz": -60
    },
    "id": "b6debe4b"
   },
   "outputs": [],
   "source": [
    "# split the data sets accordignly, so we can perform hyperparameter tuning somewhat successfully\n",
    "\n",
    "np.random.seed(42)\n",
    "reviews_train_idx = np.random.choice(y_train_reviews.shape[0], \n",
    "                                     replace=False, size=y_train_reviews.shape[0]//2)\n",
    "news_train_idx = np.random.choice(y_train_news.shape[0], \n",
    "                                     replace=False, size=y_train_news.shape[0]//8)\n",
    "\n",
    "X_train_reviews_half = X_train_reviews.iloc[reviews_train_idx,:]\n",
    "y_train_reviews_half = y_train_reviews.iloc[reviews_train_idx]\n",
    "X_train_news_eight = X_train_news.iloc[news_train_idx]\n",
    "y_train_news_eight = y_train_news.iloc[news_train_idx]"
   ]
  },
  {
   "cell_type": "code",
   "execution_count": 32,
   "id": "16c23f45",
   "metadata": {
    "executionInfo": {
     "elapsed": 6,
     "status": "ok",
     "timestamp": 1677264311863,
     "user": {
      "displayName": "Branimir Raguž",
      "userId": "04099229421659579348"
     },
     "user_tz": -60
    },
    "id": "16c23f45"
   },
   "outputs": [],
   "source": [
    "# helper function for the reviews data set\n",
    "\n",
    "def preprocessing_reviews(X, y, sent_length):\n",
    "    X.drop(['cleaned_review_length', 'review_score'], axis=1, inplace=True)\n",
    "    corpus = X['cleaned_review'].values.tolist()\n",
    "    onehot_repr = [one_hot(words, voc_size) for words in corpus] \n",
    "    embedded_docs = pad_sequences(onehot_repr, padding = 'pre', maxlen = sent_length) \n",
    "    \n",
    "    X = np.array(embedded_docs)\n",
    "    \n",
    "    return (X, y)"
   ]
  },
  {
   "cell_type": "code",
   "execution_count": 34,
   "id": "83d45c52",
   "metadata": {
    "executionInfo": {
     "elapsed": 741,
     "status": "ok",
     "timestamp": 1677264331828,
     "user": {
      "displayName": "Branimir Raguž",
      "userId": "04099229421659579348"
     },
     "user_tz": -60
    },
    "id": "83d45c52"
   },
   "outputs": [],
   "source": [
    "### helper functions for the news data set \n",
    "\n",
    "# Tokenize the sentence into words\n",
    "lemmatizer = WordNetLemmatizer()\n",
    "\n",
    "def lemmetize_it(sentence):\n",
    "    words = nltk.word_tokenize(sentence)\n",
    "    lemmas = [lemmatizer.lemmatize(word) for word in words]\n",
    "    lemmas_str = ' '.join(lemmas)\n",
    "    return lemmas_str\n",
    "\n",
    "def clean_news_data(X):    \n",
    "    X = X.apply(lambda x: \" \".join(x.lower() for x in x.split()))\n",
    "    X = X.str.replace('[^\\w\\s]','', regex=True)\n",
    "    \n",
    "    stop = stopwords.words('english')\n",
    "    X = X.apply(lambda x: \" \".join(x for x in x.split() if x not in stop))\n",
    "    \n",
    "    # Create a WordNet lemmatizer object\n",
    "    lemmatizer = WordNetLemmatizer()\n",
    "    \n",
    "    X = X.apply(lemmetize_it)\n",
    "    \n",
    "    return(X)\n",
    "\n",
    "def preprocessing_news(X, y, sent_length):\n",
    "    corpus = X.values.tolist()\n",
    "    onehot_repr = [one_hot(words, voc_size) for words in corpus] \n",
    "    embedded_docs = pad_sequences(onehot_repr, padding = 'pre', maxlen = sent_length)\n",
    "          \n",
    "    X = np.array(embedded_docs)\n",
    "    \n",
    "    return (X, y)"
   ]
  },
  {
   "cell_type": "code",
   "execution_count": 35,
   "id": "238988c8",
   "metadata": {
    "colab": {
     "base_uri": "https://localhost:8080/"
    },
    "executionInfo": {
     "elapsed": 8,
     "status": "ok",
     "timestamp": 1677264333274,
     "user": {
      "displayName": "Branimir Raguž",
      "userId": "04099229421659579348"
     },
     "user_tz": -60
    },
    "id": "238988c8",
    "outputId": "6ad0df7a-48d7-41bf-8ff3-0d57c8ca21e8"
   },
   "outputs": [
    {
     "data": {
      "text/plain": [
       "11652     neutral\n",
       "7240     positive\n",
       "16483    positive\n",
       "13353    positive\n",
       "6024     positive\n",
       "Name: sentiments, dtype: object"
      ]
     },
     "execution_count": 35,
     "metadata": {},
     "output_type": "execute_result"
    }
   ],
   "source": [
    "y_train_reviews.head()"
   ]
  },
  {
   "cell_type": "markdown",
   "id": "6209c298",
   "metadata": {
    "id": "6209c298"
   },
   "source": [
    "## 3. Model development - Reviews"
   ]
  },
  {
   "cell_type": "markdown",
   "id": "56ac5d9c",
   "metadata": {
    "id": "56ac5d9c"
   },
   "source": [
    "### 3.1. Model 1 - base model\n",
    "The parameters were as follows:  \n",
    "voc_size = 5000  \n",
    "sent_length = 40  \n",
    "embedding_vector_features = 40  \n",
    "\n",
    "The average sentence length of the data is 34, so we chose 40 in the begining to try to capture more of the information. As the data set is small, a slightly bigger sentence length will not take us much longer to train it. And, the rest of the parameters were chosen randomly but that they make sense in the context of the data and the model."
   ]
  },
  {
   "cell_type": "code",
   "execution_count": 36,
   "id": "22c054aa",
   "metadata": {
    "executionInfo": {
     "elapsed": 5,
     "status": "ok",
     "timestamp": 1677264338289,
     "user": {
      "displayName": "Branimir Raguž",
      "userId": "04099229421659579348"
     },
     "user_tz": -60
    },
    "id": "22c054aa"
   },
   "outputs": [],
   "source": [
    "# setting the vocabulary and sentence length\n",
    "voc_size = 5000\n",
    "sent_length = 40\n",
    "embedding_vector_features = 40"
   ]
  },
  {
   "cell_type": "code",
   "execution_count": 37,
   "id": "414fe350",
   "metadata": {
    "executionInfo": {
     "elapsed": 4,
     "status": "ok",
     "timestamp": 1677264338290,
     "user": {
      "displayName": "Branimir Raguž",
      "userId": "04099229421659579348"
     },
     "user_tz": -60
    },
    "id": "414fe350"
   },
   "outputs": [],
   "source": [
    "X_train = X_train_reviews.copy()\n",
    "y_train = y_train_reviews.copy()\n",
    "X_test = X_test_reviews.copy()\n",
    "y_test = y_test_reviews.copy()\n",
    "X_valid = X_valid_reviews.copy()\n",
    "y_valid = y_valid_reviews.copy()"
   ]
  },
  {
   "cell_type": "code",
   "execution_count": 39,
   "id": "7d22adcf",
   "metadata": {
    "executionInfo": {
     "elapsed": 4,
     "status": "ok",
     "timestamp": 1677264349131,
     "user": {
      "displayName": "Branimir Raguž",
      "userId": "04099229421659579348"
     },
     "user_tz": -60
    },
    "id": "7d22adcf"
   },
   "outputs": [],
   "source": [
    "X_train, y_train = preprocessing_reviews(X_train, y_train, sent_length)\n",
    "X_valid, y_valid = preprocessing_reviews(X_valid, y_valid, sent_length)\n",
    "X_test, y_test = preprocessing_reviews(X_test, y_test, sent_length)"
   ]
  },
  {
   "cell_type": "code",
   "execution_count": 43,
   "id": "914eb677",
   "metadata": {
    "executionInfo": {
     "elapsed": 419,
     "status": "ok",
     "timestamp": 1677264440851,
     "user": {
      "displayName": "Branimir Raguž",
      "userId": "04099229421659579348"
     },
     "user_tz": -60
    },
    "id": "914eb677"
   },
   "outputs": [],
   "source": [
    "categories = [['negative', 'neutral', 'positive']]\n",
    "ohe = OneHotEncoder(categories=categories)\n",
    "\n",
    "y_train = ohe.fit_transform(y_train.values.reshape(-1, 1)).toarray()\n",
    "y_valid = ohe.transform(y_valid.values.reshape(-1, 1)).toarray()\n",
    "y_test = ohe.transform(y_test.values.reshape(-1, 1)).toarray()"
   ]
  },
  {
   "cell_type": "code",
   "execution_count": 44,
   "id": "e6919d64",
   "metadata": {
    "colab": {
     "base_uri": "https://localhost:8080/"
    },
    "executionInfo": {
     "elapsed": 3816,
     "status": "ok",
     "timestamp": 1677264449564,
     "user": {
      "displayName": "Branimir Raguž",
      "userId": "04099229421659579348"
     },
     "user_tz": -60
    },
    "id": "e6919d64",
    "outputId": "57848019-08ea-4b27-feab-4d38eaf358a7",
    "scrolled": true
   },
   "outputs": [
    {
     "name": "stdout",
     "output_type": "stream",
     "text": [
      "Model: \"sequential\"\n",
      "_________________________________________________________________\n",
      " Layer (type)                Output Shape              Param #   \n",
      "=================================================================\n",
      " embedding (Embedding)       (None, 40, 40)            200000    \n",
      "                                                                 \n",
      " lstm (LSTM)                 (None, 100)               56400     \n",
      "                                                                 \n",
      " dense (Dense)               (None, 3)                 303       \n",
      "                                                                 \n",
      "=================================================================\n",
      "Total params: 256,703\n",
      "Trainable params: 256,703\n",
      "Non-trainable params: 0\n",
      "_________________________________________________________________\n",
      "None\n"
     ]
    }
   ],
   "source": [
    "# creating the base LSTM model\n",
    "\n",
    "model = Sequential()\n",
    "model.add(Embedding(voc_size,embedding_vector_features,input_length=sent_length))\n",
    "model.add(LSTM(100))\n",
    "model.add(Dense(3, activation='softmax'))\n",
    "model.compile(loss = 'categorical_crossentropy', optimizer = 'adam', metrics = ['accuracy'])\n",
    "print(model.summary())"
   ]
  },
  {
   "cell_type": "markdown",
   "id": "11fcbe5c",
   "metadata": {
    "id": "11fcbe5c"
   },
   "source": [
    "We first ran the model.fit on the training data and tested it out on the validation data. We used 3 epochs to see if the model will overfit.  \n",
    "The results show that the model is overfitting the training data and not generalizing well to the validation data. This can be seen from the increasing difference between training accuracy and validation accuracy as the number of epochs increases.\n",
    "\n",
    "The training accuracy increases up to 95.6% while the validation accuracy only reaches 82.15%. This suggests that the model is memorizing the training data rather than learning the underlying patterns that can be generalized to the validation set.\n",
    "\n",
    "The loss is also decreasing on the training set, but increasing on the validation set. This further supports the overfitting issue.\n",
    "\n",
    "\n",
    "To address the overfitting issue, we will try using regularization techniques like dropout, or simplifying the model architecture."
   ]
  },
  {
   "cell_type": "code",
   "execution_count": 45,
   "id": "eaa865f9",
   "metadata": {
    "colab": {
     "base_uri": "https://localhost:8080/"
    },
    "executionInfo": {
     "elapsed": 30516,
     "status": "ok",
     "timestamp": 1677264483097,
     "user": {
      "displayName": "Branimir Raguž",
      "userId": "04099229421659579348"
     },
     "user_tz": -60
    },
    "id": "eaa865f9",
    "outputId": "9c603590-7aa7-42f6-f45e-1525b6960896"
   },
   "outputs": [
    {
     "name": "stdout",
     "output_type": "stream",
     "text": [
      "326/326 [==============================] - 29s 66ms/step - loss: 0.6696 - accuracy: 0.6984\n",
      "109/109 [==============================] - 1s 4ms/step\n"
     ]
    }
   ],
   "source": [
    "# training and predicting\n",
    "\n",
    "start=time.time()\n",
    "model.fit(X_train, y_train)\n",
    "end=time.time()\n",
    "\n",
    "train_time = end - start\n",
    "\n",
    "start=time.time()\n",
    "y_pred = model.predict(X_test)\n",
    "end=time.time()\n",
    "\n",
    "test_time = end - start"
   ]
  },
  {
   "cell_type": "code",
   "execution_count": 46,
   "id": "7ab7d401",
   "metadata": {
    "colab": {
     "base_uri": "https://localhost:8080/"
    },
    "executionInfo": {
     "elapsed": 4704,
     "status": "ok",
     "timestamp": 1677264492704,
     "user": {
      "displayName": "Branimir Raguž",
      "userId": "04099229421659579348"
     },
     "user_tz": -60
    },
    "id": "7ab7d401",
    "outputId": "d0f24937-9a6f-4968-e91c-7943dcb0007b"
   },
   "outputs": [
    {
     "name": "stdout",
     "output_type": "stream",
     "text": [
      "Keras weights file (<HDF5 file \"variables.h5\" (mode r+)>) saving:\n",
      "...layers\n",
      "......dense\n",
      ".........vars\n",
      "............0\n",
      "............1\n",
      "......embedding\n",
      ".........vars\n",
      "............0\n",
      "......lstm\n",
      ".........cell\n",
      "............vars\n",
      "...............0\n",
      "...............1\n",
      "...............2\n",
      ".........vars\n",
      "...metrics\n",
      "......mean\n",
      ".........vars\n",
      "............0\n",
      "............1\n",
      "......mean_metric_wrapper\n",
      ".........vars\n",
      "............0\n",
      "............1\n",
      "...optimizer\n",
      "......vars\n",
      ".........0\n",
      ".........1\n",
      ".........10\n",
      ".........11\n",
      ".........12\n",
      ".........2\n",
      ".........3\n",
      ".........4\n",
      ".........5\n",
      ".........6\n",
      ".........7\n",
      ".........8\n",
      ".........9\n",
      "...vars\n",
      "Keras model archive saving:\n",
      "File Name                                             Modified             Size\n",
      "config.json                                    2023-02-24 18:48:11         2204\n",
      "metadata.json                                  2023-02-24 18:48:11           64\n",
      "variables.h5                                   2023-02-24 18:48:11      3107104\n"
     ]
    }
   ],
   "source": [
    "# adjust the y_pred and the y_test\n",
    "y_pred = np.argmax(y_pred, axis = 1)\n",
    "y_test = np.argmax(y_test, axis = 1)\n",
    "\n",
    "reviews_m1_results = classification_report(y_test, y_pred, output_dict=True)\n",
    "\n",
    "reviews_m1_results['train_time'] = train_time\n",
    "reviews_m1_results['test_time'] = test_time\n",
    "reviews_m1_results = pd.DataFrame.from_dict(reviews_m1_results)\n",
    "reviews_m1_results.to_csv('results/lstm/reviews/model_1.csv')\n",
    "pickle.dump(model, open('models/lstm/reviews/model_1.sav', 'wb'))"
   ]
  },
  {
   "cell_type": "code",
   "execution_count": 47,
   "id": "f2ee4513",
   "metadata": {
    "colab": {
     "base_uri": "https://localhost:8080/",
     "height": 175
    },
    "executionInfo": {
     "elapsed": 535,
     "status": "ok",
     "timestamp": 1677264500304,
     "user": {
      "displayName": "Branimir Raguž",
      "userId": "04099229421659579348"
     },
     "user_tz": -60
    },
    "id": "f2ee4513",
    "outputId": "19191142-9e63-4fc2-d230-439059943555"
   },
   "outputs": [
    {
     "data": {
      "text/html": [
       "\n",
       "  <div id=\"df-445c86a9-c746-4d2f-8580-7e9aab1c5fd1\">\n",
       "    <div class=\"colab-df-container\">\n",
       "      <div>\n",
       "<style scoped>\n",
       "    .dataframe tbody tr th:only-of-type {\n",
       "        vertical-align: middle;\n",
       "    }\n",
       "\n",
       "    .dataframe tbody tr th {\n",
       "        vertical-align: top;\n",
       "    }\n",
       "\n",
       "    .dataframe thead th {\n",
       "        text-align: right;\n",
       "    }\n",
       "</style>\n",
       "<table border=\"1\" class=\"dataframe\">\n",
       "  <thead>\n",
       "    <tr style=\"text-align: right;\">\n",
       "      <th></th>\n",
       "      <th>0</th>\n",
       "      <th>1</th>\n",
       "      <th>2</th>\n",
       "      <th>accuracy</th>\n",
       "      <th>macro avg</th>\n",
       "      <th>weighted avg</th>\n",
       "      <th>train_time</th>\n",
       "      <th>test_time</th>\n",
       "    </tr>\n",
       "  </thead>\n",
       "  <tbody>\n",
       "    <tr>\n",
       "      <th>precision</th>\n",
       "      <td>0.615385</td>\n",
       "      <td>0.706637</td>\n",
       "      <td>0.829497</td>\n",
       "      <td>0.781719</td>\n",
       "      <td>0.717173</td>\n",
       "      <td>0.765837</td>\n",
       "      <td>29.191618</td>\n",
       "      <td>1.152139</td>\n",
       "    </tr>\n",
       "    <tr>\n",
       "      <th>recall</th>\n",
       "      <td>0.025397</td>\n",
       "      <td>0.750801</td>\n",
       "      <td>0.927034</td>\n",
       "      <td>0.781719</td>\n",
       "      <td>0.567744</td>\n",
       "      <td>0.781719</td>\n",
       "      <td>29.191618</td>\n",
       "      <td>1.152139</td>\n",
       "    </tr>\n",
       "    <tr>\n",
       "      <th>f1-score</th>\n",
       "      <td>0.048780</td>\n",
       "      <td>0.728050</td>\n",
       "      <td>0.875558</td>\n",
       "      <td>0.781719</td>\n",
       "      <td>0.550796</td>\n",
       "      <td>0.747379</td>\n",
       "      <td>29.191618</td>\n",
       "      <td>1.152139</td>\n",
       "    </tr>\n",
       "    <tr>\n",
       "      <th>support</th>\n",
       "      <td>315.000000</td>\n",
       "      <td>1248.000000</td>\n",
       "      <td>1905.000000</td>\n",
       "      <td>0.781719</td>\n",
       "      <td>3468.000000</td>\n",
       "      <td>3468.000000</td>\n",
       "      <td>29.191618</td>\n",
       "      <td>1.152139</td>\n",
       "    </tr>\n",
       "  </tbody>\n",
       "</table>\n",
       "</div>\n",
       "      <button class=\"colab-df-convert\" onclick=\"convertToInteractive('df-445c86a9-c746-4d2f-8580-7e9aab1c5fd1')\"\n",
       "              title=\"Convert this dataframe to an interactive table.\"\n",
       "              style=\"display:none;\">\n",
       "        \n",
       "  <svg xmlns=\"http://www.w3.org/2000/svg\" height=\"24px\"viewBox=\"0 0 24 24\"\n",
       "       width=\"24px\">\n",
       "    <path d=\"M0 0h24v24H0V0z\" fill=\"none\"/>\n",
       "    <path d=\"M18.56 5.44l.94 2.06.94-2.06 2.06-.94-2.06-.94-.94-2.06-.94 2.06-2.06.94zm-11 1L8.5 8.5l.94-2.06 2.06-.94-2.06-.94L8.5 2.5l-.94 2.06-2.06.94zm10 10l.94 2.06.94-2.06 2.06-.94-2.06-.94-.94-2.06-.94 2.06-2.06.94z\"/><path d=\"M17.41 7.96l-1.37-1.37c-.4-.4-.92-.59-1.43-.59-.52 0-1.04.2-1.43.59L10.3 9.45l-7.72 7.72c-.78.78-.78 2.05 0 2.83L4 21.41c.39.39.9.59 1.41.59.51 0 1.02-.2 1.41-.59l7.78-7.78 2.81-2.81c.8-.78.8-2.07 0-2.86zM5.41 20L4 18.59l7.72-7.72 1.47 1.35L5.41 20z\"/>\n",
       "  </svg>\n",
       "      </button>\n",
       "      \n",
       "  <style>\n",
       "    .colab-df-container {\n",
       "      display:flex;\n",
       "      flex-wrap:wrap;\n",
       "      gap: 12px;\n",
       "    }\n",
       "\n",
       "    .colab-df-convert {\n",
       "      background-color: #E8F0FE;\n",
       "      border: none;\n",
       "      border-radius: 50%;\n",
       "      cursor: pointer;\n",
       "      display: none;\n",
       "      fill: #1967D2;\n",
       "      height: 32px;\n",
       "      padding: 0 0 0 0;\n",
       "      width: 32px;\n",
       "    }\n",
       "\n",
       "    .colab-df-convert:hover {\n",
       "      background-color: #E2EBFA;\n",
       "      box-shadow: 0px 1px 2px rgba(60, 64, 67, 0.3), 0px 1px 3px 1px rgba(60, 64, 67, 0.15);\n",
       "      fill: #174EA6;\n",
       "    }\n",
       "\n",
       "    [theme=dark] .colab-df-convert {\n",
       "      background-color: #3B4455;\n",
       "      fill: #D2E3FC;\n",
       "    }\n",
       "\n",
       "    [theme=dark] .colab-df-convert:hover {\n",
       "      background-color: #434B5C;\n",
       "      box-shadow: 0px 1px 3px 1px rgba(0, 0, 0, 0.15);\n",
       "      filter: drop-shadow(0px 1px 2px rgba(0, 0, 0, 0.3));\n",
       "      fill: #FFFFFF;\n",
       "    }\n",
       "  </style>\n",
       "\n",
       "      <script>\n",
       "        const buttonEl =\n",
       "          document.querySelector('#df-445c86a9-c746-4d2f-8580-7e9aab1c5fd1 button.colab-df-convert');\n",
       "        buttonEl.style.display =\n",
       "          google.colab.kernel.accessAllowed ? 'block' : 'none';\n",
       "\n",
       "        async function convertToInteractive(key) {\n",
       "          const element = document.querySelector('#df-445c86a9-c746-4d2f-8580-7e9aab1c5fd1');\n",
       "          const dataTable =\n",
       "            await google.colab.kernel.invokeFunction('convertToInteractive',\n",
       "                                                     [key], {});\n",
       "          if (!dataTable) return;\n",
       "\n",
       "          const docLinkHtml = 'Like what you see? Visit the ' +\n",
       "            '<a target=\"_blank\" href=https://colab.research.google.com/notebooks/data_table.ipynb>data table notebook</a>'\n",
       "            + ' to learn more about interactive tables.';\n",
       "          element.innerHTML = '';\n",
       "          dataTable['output_type'] = 'display_data';\n",
       "          await google.colab.output.renderOutput(dataTable, element);\n",
       "          const docLink = document.createElement('div');\n",
       "          docLink.innerHTML = docLinkHtml;\n",
       "          element.appendChild(docLink);\n",
       "        }\n",
       "      </script>\n",
       "    </div>\n",
       "  </div>\n",
       "  "
      ],
      "text/plain": [
       "                    0            1            2  accuracy    macro avg  \\\n",
       "precision    0.615385     0.706637     0.829497  0.781719     0.717173   \n",
       "recall       0.025397     0.750801     0.927034  0.781719     0.567744   \n",
       "f1-score     0.048780     0.728050     0.875558  0.781719     0.550796   \n",
       "support    315.000000  1248.000000  1905.000000  0.781719  3468.000000   \n",
       "\n",
       "           weighted avg  train_time  test_time  \n",
       "precision      0.765837   29.191618   1.152139  \n",
       "recall         0.781719   29.191618   1.152139  \n",
       "f1-score       0.747379   29.191618   1.152139  \n",
       "support     3468.000000   29.191618   1.152139  "
      ]
     },
     "execution_count": 47,
     "metadata": {},
     "output_type": "execute_result"
    }
   ],
   "source": [
    "reviews_m1_results"
   ]
  },
  {
   "cell_type": "markdown",
   "id": "91239aa1",
   "metadata": {
    "id": "91239aa1"
   },
   "source": [
    "The test accuracy is 78 % which is very similar to the validation results, but this is a balanced accuracy, and the model.fit was a normal accuracy which doesn't take into account the distribution of the target variable properly. Furthermore, we will try to add dropout layers, or simplify the model architecture."
   ]
  },
  {
   "cell_type": "markdown",
   "id": "623bede6",
   "metadata": {
    "id": "623bede6"
   },
   "source": [
    "### 3.2. Model 1 - base model with dropout added\n",
    "Essentially, we will just add two dropout layers with the probability of neurons not firing at 30%. We just want to see if this small data context, it will make any difference."
   ]
  },
  {
   "cell_type": "code",
   "execution_count": 48,
   "id": "1c656a95",
   "metadata": {
    "colab": {
     "base_uri": "https://localhost:8080/"
    },
    "executionInfo": {
     "elapsed": 577,
     "status": "ok",
     "timestamp": 1677264513387,
     "user": {
      "displayName": "Branimir Raguž",
      "userId": "04099229421659579348"
     },
     "user_tz": -60
    },
    "id": "1c656a95",
    "outputId": "566c9cdb-23b3-4441-b9f9-03f94e403cf9"
   },
   "outputs": [
    {
     "name": "stdout",
     "output_type": "stream",
     "text": [
      "Model: \"sequential_1\"\n",
      "_________________________________________________________________\n",
      " Layer (type)                Output Shape              Param #   \n",
      "=================================================================\n",
      " embedding_1 (Embedding)     (None, 40, 40)            200000    \n",
      "                                                                 \n",
      " dropout (Dropout)           (None, 40, 40)            0         \n",
      "                                                                 \n",
      " lstm_1 (LSTM)               (None, 100)               56400     \n",
      "                                                                 \n",
      " dropout_1 (Dropout)         (None, 100)               0         \n",
      "                                                                 \n",
      " dense_1 (Dense)             (None, 3)                 303       \n",
      "                                                                 \n",
      "=================================================================\n",
      "Total params: 256,703\n",
      "Trainable params: 256,703\n",
      "Non-trainable params: 0\n",
      "_________________________________________________________________\n",
      "None\n"
     ]
    }
   ],
   "source": [
    "embedding_vector_features = 40\n",
    "model = Sequential()\n",
    "model.add(Embedding(voc_size,embedding_vector_features,input_length=sent_length))\n",
    "model.add(Dropout(0.3))\n",
    "model.add(LSTM(100))\n",
    "model.add(Dropout(0.3))\n",
    "model.add(Dense(3,activation='softmax'))\n",
    "model.compile(loss = 'categorical_crossentropy', optimizer = 'adam', metrics = ['accuracy', tf.keras.metrics.Recall(), tf.keras.metrics.Precision()])\n",
    "print(model.summary())"
   ]
  },
  {
   "cell_type": "code",
   "execution_count": 49,
   "id": "e8495525",
   "metadata": {
    "colab": {
     "base_uri": "https://localhost:8080/"
    },
    "executionInfo": {
     "elapsed": 22473,
     "status": "ok",
     "timestamp": 1677264551701,
     "user": {
      "displayName": "Branimir Raguž",
      "userId": "04099229421659579348"
     },
     "user_tz": -60
    },
    "id": "e8495525",
    "outputId": "ce316bd8-74e1-4a40-8f74-a0482fe63ad0"
   },
   "outputs": [
    {
     "name": "stdout",
     "output_type": "stream",
     "text": [
      "326/326 [==============================] - 21s 53ms/step - loss: 0.6916 - accuracy: 0.6859 - recall: 0.5778 - precision: 0.7470\n",
      "109/109 [==============================] - 1s 2ms/step\n"
     ]
    }
   ],
   "source": [
    "# training and predicting\n",
    "\n",
    "start=time.time()\n",
    "model.fit(X_train, y_train)\n",
    "end=time.time()\n",
    "\n",
    "train_time = end - start\n",
    "\n",
    "start=time.time()\n",
    "y_pred = model.predict(X_test)\n",
    "end=time.time()\n",
    "\n",
    "test_time = end - start"
   ]
  },
  {
   "cell_type": "code",
   "execution_count": 50,
   "id": "54b06ee1",
   "metadata": {
    "colab": {
     "base_uri": "https://localhost:8080/"
    },
    "executionInfo": {
     "elapsed": 2021,
     "status": "ok",
     "timestamp": 1677264558993,
     "user": {
      "displayName": "Branimir Raguž",
      "userId": "04099229421659579348"
     },
     "user_tz": -60
    },
    "id": "54b06ee1",
    "outputId": "5431d09f-5ca1-4ac0-ba66-4373077a9208"
   },
   "outputs": [
    {
     "name": "stdout",
     "output_type": "stream",
     "text": [
      "Keras weights file (<HDF5 file \"variables.h5\" (mode r+)>) saving:\n",
      "...layers\n",
      "......dense\n",
      ".........vars\n",
      "............0\n",
      "............1\n",
      "......dropout\n",
      ".........vars\n",
      "......dropout_1\n",
      ".........vars\n",
      "......embedding\n",
      ".........vars\n",
      "............0\n",
      "......lstm\n",
      ".........cell\n",
      "............vars\n",
      "...............0\n",
      "...............1\n",
      "...............2\n",
      ".........vars\n",
      "...metrics\n",
      "......mean\n",
      ".........vars\n",
      "............0\n",
      "............1\n",
      "......mean_metric_wrapper\n",
      ".........vars\n",
      "............0\n",
      "............1\n",
      "......precision\n",
      ".........vars\n",
      "............0\n",
      "............1\n",
      "......recall\n",
      ".........vars\n",
      "............0\n",
      "............1\n",
      "...optimizer\n",
      "......vars\n",
      ".........0\n",
      ".........1\n",
      ".........10\n",
      ".........11\n",
      ".........12\n",
      ".........2\n",
      ".........3\n",
      ".........4\n",
      ".........5\n",
      ".........6\n",
      ".........7\n",
      ".........8\n",
      ".........9\n",
      "...vars\n",
      "Keras model archive saving:\n",
      "File Name                                             Modified             Size\n",
      "config.json                                    2023-02-24 18:49:17         2874\n",
      "metadata.json                                  2023-02-24 18:49:17           64\n",
      "variables.h5                                   2023-02-24 18:49:17      3115792\n"
     ]
    }
   ],
   "source": [
    "# adjust the y_pred and the y_test\n",
    "y_pred = np.argmax(y_pred, axis = 1)\n",
    "# y_test = np.argmax(y_test, axis = 1)\n",
    "\n",
    "reviews_m2_results = classification_report(y_test, y_pred, output_dict=True)\n",
    "\n",
    "reviews_m2_results['train_time'] = train_time\n",
    "reviews_m2_results['test_time'] = test_time\n",
    "reviews_m2_results = pd.DataFrame.from_dict(reviews_m2_results)\n",
    "reviews_m2_results.to_csv('results/lstm/reviews/model_2.csv')\n",
    "pickle.dump(model, open('models/lstm/reviews/model_2.sav', 'wb'))"
   ]
  },
  {
   "cell_type": "code",
   "execution_count": 51,
   "id": "bcc9a44a",
   "metadata": {
    "colab": {
     "base_uri": "https://localhost:8080/",
     "height": 175
    },
    "executionInfo": {
     "elapsed": 5,
     "status": "ok",
     "timestamp": 1677264559414,
     "user": {
      "displayName": "Branimir Raguž",
      "userId": "04099229421659579348"
     },
     "user_tz": -60
    },
    "id": "bcc9a44a",
    "outputId": "373f286d-0792-437d-de5e-0f0d628138f2"
   },
   "outputs": [
    {
     "data": {
      "text/html": [
       "\n",
       "  <div id=\"df-c6eeef9e-486d-4fe8-91e8-2949539a2adf\">\n",
       "    <div class=\"colab-df-container\">\n",
       "      <div>\n",
       "<style scoped>\n",
       "    .dataframe tbody tr th:only-of-type {\n",
       "        vertical-align: middle;\n",
       "    }\n",
       "\n",
       "    .dataframe tbody tr th {\n",
       "        vertical-align: top;\n",
       "    }\n",
       "\n",
       "    .dataframe thead th {\n",
       "        text-align: right;\n",
       "    }\n",
       "</style>\n",
       "<table border=\"1\" class=\"dataframe\">\n",
       "  <thead>\n",
       "    <tr style=\"text-align: right;\">\n",
       "      <th></th>\n",
       "      <th>0</th>\n",
       "      <th>1</th>\n",
       "      <th>2</th>\n",
       "      <th>accuracy</th>\n",
       "      <th>macro avg</th>\n",
       "      <th>weighted avg</th>\n",
       "      <th>train_time</th>\n",
       "      <th>test_time</th>\n",
       "    </tr>\n",
       "  </thead>\n",
       "  <tbody>\n",
       "    <tr>\n",
       "      <th>precision</th>\n",
       "      <td>0.476190</td>\n",
       "      <td>0.725844</td>\n",
       "      <td>0.862525</td>\n",
       "      <td>0.786621</td>\n",
       "      <td>0.688187</td>\n",
       "      <td>0.778248</td>\n",
       "      <td>20.583426</td>\n",
       "      <td>0.96846</td>\n",
       "    </tr>\n",
       "    <tr>\n",
       "      <th>recall</th>\n",
       "      <td>0.349206</td>\n",
       "      <td>0.740385</td>\n",
       "      <td>0.889239</td>\n",
       "      <td>0.786621</td>\n",
       "      <td>0.659610</td>\n",
       "      <td>0.786621</td>\n",
       "      <td>20.583426</td>\n",
       "      <td>0.96846</td>\n",
       "    </tr>\n",
       "    <tr>\n",
       "      <th>f1-score</th>\n",
       "      <td>0.402930</td>\n",
       "      <td>0.733042</td>\n",
       "      <td>0.875678</td>\n",
       "      <td>0.786621</td>\n",
       "      <td>0.670550</td>\n",
       "      <td>0.781409</td>\n",
       "      <td>20.583426</td>\n",
       "      <td>0.96846</td>\n",
       "    </tr>\n",
       "    <tr>\n",
       "      <th>support</th>\n",
       "      <td>315.000000</td>\n",
       "      <td>1248.000000</td>\n",
       "      <td>1905.000000</td>\n",
       "      <td>0.786621</td>\n",
       "      <td>3468.000000</td>\n",
       "      <td>3468.000000</td>\n",
       "      <td>20.583426</td>\n",
       "      <td>0.96846</td>\n",
       "    </tr>\n",
       "  </tbody>\n",
       "</table>\n",
       "</div>\n",
       "      <button class=\"colab-df-convert\" onclick=\"convertToInteractive('df-c6eeef9e-486d-4fe8-91e8-2949539a2adf')\"\n",
       "              title=\"Convert this dataframe to an interactive table.\"\n",
       "              style=\"display:none;\">\n",
       "        \n",
       "  <svg xmlns=\"http://www.w3.org/2000/svg\" height=\"24px\"viewBox=\"0 0 24 24\"\n",
       "       width=\"24px\">\n",
       "    <path d=\"M0 0h24v24H0V0z\" fill=\"none\"/>\n",
       "    <path d=\"M18.56 5.44l.94 2.06.94-2.06 2.06-.94-2.06-.94-.94-2.06-.94 2.06-2.06.94zm-11 1L8.5 8.5l.94-2.06 2.06-.94-2.06-.94L8.5 2.5l-.94 2.06-2.06.94zm10 10l.94 2.06.94-2.06 2.06-.94-2.06-.94-.94-2.06-.94 2.06-2.06.94z\"/><path d=\"M17.41 7.96l-1.37-1.37c-.4-.4-.92-.59-1.43-.59-.52 0-1.04.2-1.43.59L10.3 9.45l-7.72 7.72c-.78.78-.78 2.05 0 2.83L4 21.41c.39.39.9.59 1.41.59.51 0 1.02-.2 1.41-.59l7.78-7.78 2.81-2.81c.8-.78.8-2.07 0-2.86zM5.41 20L4 18.59l7.72-7.72 1.47 1.35L5.41 20z\"/>\n",
       "  </svg>\n",
       "      </button>\n",
       "      \n",
       "  <style>\n",
       "    .colab-df-container {\n",
       "      display:flex;\n",
       "      flex-wrap:wrap;\n",
       "      gap: 12px;\n",
       "    }\n",
       "\n",
       "    .colab-df-convert {\n",
       "      background-color: #E8F0FE;\n",
       "      border: none;\n",
       "      border-radius: 50%;\n",
       "      cursor: pointer;\n",
       "      display: none;\n",
       "      fill: #1967D2;\n",
       "      height: 32px;\n",
       "      padding: 0 0 0 0;\n",
       "      width: 32px;\n",
       "    }\n",
       "\n",
       "    .colab-df-convert:hover {\n",
       "      background-color: #E2EBFA;\n",
       "      box-shadow: 0px 1px 2px rgba(60, 64, 67, 0.3), 0px 1px 3px 1px rgba(60, 64, 67, 0.15);\n",
       "      fill: #174EA6;\n",
       "    }\n",
       "\n",
       "    [theme=dark] .colab-df-convert {\n",
       "      background-color: #3B4455;\n",
       "      fill: #D2E3FC;\n",
       "    }\n",
       "\n",
       "    [theme=dark] .colab-df-convert:hover {\n",
       "      background-color: #434B5C;\n",
       "      box-shadow: 0px 1px 3px 1px rgba(0, 0, 0, 0.15);\n",
       "      filter: drop-shadow(0px 1px 2px rgba(0, 0, 0, 0.3));\n",
       "      fill: #FFFFFF;\n",
       "    }\n",
       "  </style>\n",
       "\n",
       "      <script>\n",
       "        const buttonEl =\n",
       "          document.querySelector('#df-c6eeef9e-486d-4fe8-91e8-2949539a2adf button.colab-df-convert');\n",
       "        buttonEl.style.display =\n",
       "          google.colab.kernel.accessAllowed ? 'block' : 'none';\n",
       "\n",
       "        async function convertToInteractive(key) {\n",
       "          const element = document.querySelector('#df-c6eeef9e-486d-4fe8-91e8-2949539a2adf');\n",
       "          const dataTable =\n",
       "            await google.colab.kernel.invokeFunction('convertToInteractive',\n",
       "                                                     [key], {});\n",
       "          if (!dataTable) return;\n",
       "\n",
       "          const docLinkHtml = 'Like what you see? Visit the ' +\n",
       "            '<a target=\"_blank\" href=https://colab.research.google.com/notebooks/data_table.ipynb>data table notebook</a>'\n",
       "            + ' to learn more about interactive tables.';\n",
       "          element.innerHTML = '';\n",
       "          dataTable['output_type'] = 'display_data';\n",
       "          await google.colab.output.renderOutput(dataTable, element);\n",
       "          const docLink = document.createElement('div');\n",
       "          docLink.innerHTML = docLinkHtml;\n",
       "          element.appendChild(docLink);\n",
       "        }\n",
       "      </script>\n",
       "    </div>\n",
       "  </div>\n",
       "  "
      ],
      "text/plain": [
       "                    0            1            2  accuracy    macro avg  \\\n",
       "precision    0.476190     0.725844     0.862525  0.786621     0.688187   \n",
       "recall       0.349206     0.740385     0.889239  0.786621     0.659610   \n",
       "f1-score     0.402930     0.733042     0.875678  0.786621     0.670550   \n",
       "support    315.000000  1248.000000  1905.000000  0.786621  3468.000000   \n",
       "\n",
       "           weighted avg  train_time  test_time  \n",
       "precision      0.778248   20.583426    0.96846  \n",
       "recall         0.786621   20.583426    0.96846  \n",
       "f1-score       0.781409   20.583426    0.96846  \n",
       "support     3468.000000   20.583426    0.96846  "
      ]
     },
     "execution_count": 51,
     "metadata": {},
     "output_type": "execute_result"
    }
   ],
   "source": [
    "reviews_m2_results"
   ]
  },
  {
   "cell_type": "markdown",
   "id": "187d9e76",
   "metadata": {
    "id": "187d9e76"
   },
   "source": [
    "After adding two dropout layers with the probability of 0.3, we get an accuracy of 78% which isn't an improvement really.  \n",
    "We will now change the voc_size and the sent_length to see if that can make the results better, and then we will experiment with the model architecture and all of the parameters in hyperparameter tuning."
   ]
  },
  {
   "cell_type": "markdown",
   "id": "77aa9dee",
   "metadata": {
    "id": "77aa9dee"
   },
   "source": [
    "### 3.3. Model 3 - bigger parameters\n",
    "We generally tried a bit bigger parameters because then the model can capture more information, as stated earlier, and we do not risk losing on performance."
   ]
  },
  {
   "cell_type": "code",
   "execution_count": 52,
   "id": "728ef2fe",
   "metadata": {
    "executionInfo": {
     "elapsed": 767,
     "status": "ok",
     "timestamp": 1677264566976,
     "user": {
      "displayName": "Branimir Raguž",
      "userId": "04099229421659579348"
     },
     "user_tz": -60
    },
    "id": "728ef2fe"
   },
   "outputs": [],
   "source": [
    "# setting the vocabulary and sentence length\n",
    "voc_size = 10000\n",
    "sent_length = 100\n",
    "embedding_vector_features = 60"
   ]
  },
  {
   "cell_type": "code",
   "execution_count": 54,
   "id": "1cBfGoX2wuGm",
   "metadata": {
    "executionInfo": {
     "elapsed": 419,
     "status": "ok",
     "timestamp": 1677264617501,
     "user": {
      "displayName": "Branimir Raguž",
      "userId": "04099229421659579348"
     },
     "user_tz": -60
    },
    "id": "1cBfGoX2wuGm"
   },
   "outputs": [],
   "source": [
    "X_train = X_train_reviews.copy()\n",
    "y_train = y_train_reviews.copy()\n",
    "X_test = X_test_reviews.copy()\n",
    "y_test = y_test_reviews.copy()\n",
    "X_valid = X_valid_reviews.copy()\n",
    "y_valid = y_valid_reviews.copy()"
   ]
  },
  {
   "cell_type": "code",
   "execution_count": 55,
   "id": "1CZ0xutPwuGn",
   "metadata": {
    "executionInfo": {
     "elapsed": 420,
     "status": "ok",
     "timestamp": 1677264620183,
     "user": {
      "displayName": "Branimir Raguž",
      "userId": "04099229421659579348"
     },
     "user_tz": -60
    },
    "id": "1CZ0xutPwuGn"
   },
   "outputs": [],
   "source": [
    "X_train, y_train = preprocessing_reviews(X_train, y_train, sent_length)\n",
    "X_valid, y_valid = preprocessing_reviews(X_valid, y_valid, sent_length)\n",
    "X_test, y_test = preprocessing_reviews(X_test, y_test, sent_length)"
   ]
  },
  {
   "cell_type": "code",
   "execution_count": 56,
   "id": "2tErihDWwuGo",
   "metadata": {
    "executionInfo": {
     "elapsed": 2,
     "status": "ok",
     "timestamp": 1677264622325,
     "user": {
      "displayName": "Branimir Raguž",
      "userId": "04099229421659579348"
     },
     "user_tz": -60
    },
    "id": "2tErihDWwuGo"
   },
   "outputs": [],
   "source": [
    "categories = [['negative', 'neutral', 'positive']]\n",
    "ohe = OneHotEncoder(categories=categories)\n",
    "\n",
    "y_train = ohe.fit_transform(y_train.values.reshape(-1, 1)).toarray()\n",
    "y_valid = ohe.transform(y_valid.values.reshape(-1, 1)).toarray()\n",
    "y_test = ohe.transform(y_test.values.reshape(-1, 1)).toarray()"
   ]
  },
  {
   "cell_type": "code",
   "execution_count": 57,
   "id": "c06b7355",
   "metadata": {
    "colab": {
     "base_uri": "https://localhost:8080/"
    },
    "executionInfo": {
     "elapsed": 1712,
     "status": "ok",
     "timestamp": 1677264631141,
     "user": {
      "displayName": "Branimir Raguž",
      "userId": "04099229421659579348"
     },
     "user_tz": -60
    },
    "id": "c06b7355",
    "outputId": "4f344934-ea17-45c0-e150-caf968bff674",
    "scrolled": true
   },
   "outputs": [
    {
     "name": "stdout",
     "output_type": "stream",
     "text": [
      "Model: \"sequential_2\"\n",
      "_________________________________________________________________\n",
      " Layer (type)                Output Shape              Param #   \n",
      "=================================================================\n",
      " embedding_2 (Embedding)     (None, 100, 60)           600000    \n",
      "                                                                 \n",
      " bidirectional (Bidirectiona  (None, 200)              128800    \n",
      " l)                                                              \n",
      "                                                                 \n",
      " dense_2 (Dense)             (None, 3)                 603       \n",
      "                                                                 \n",
      "=================================================================\n",
      "Total params: 729,403\n",
      "Trainable params: 729,403\n",
      "Non-trainable params: 0\n",
      "_________________________________________________________________\n",
      "None\n"
     ]
    }
   ],
   "source": [
    "model = Sequential()\n",
    "model.add(Embedding(voc_size,embedding_vector_features,input_length=sent_length))\n",
    "model.add(Bidirectional(LSTM(100)))\n",
    "model.add(Dense(3, activation='softmax'))\n",
    "model.compile(loss = 'categorical_crossentropy', optimizer = 'adam', metrics = ['accuracy'])\n",
    "print(model.summary())"
   ]
  },
  {
   "cell_type": "code",
   "execution_count": 60,
   "id": "edf9bf33",
   "metadata": {
    "colab": {
     "base_uri": "https://localhost:8080/"
    },
    "executionInfo": {
     "elapsed": 11970,
     "status": "ok",
     "timestamp": 1677264699448,
     "user": {
      "displayName": "Branimir Raguž",
      "userId": "04099229421659579348"
     },
     "user_tz": -60
    },
    "id": "edf9bf33",
    "outputId": "47c0843a-d886-4ff6-ec88-56e646f907c0"
   },
   "outputs": [
    {
     "name": "stdout",
     "output_type": "stream",
     "text": [
      "326/326 [==============================] - 11s 33ms/step - loss: 0.3733 - accuracy: 0.8553\n",
      "109/109 [==============================] - 0s 4ms/step\n"
     ]
    }
   ],
   "source": [
    "# training and predicting\n",
    "\n",
    "start=time.time()\n",
    "model.fit(X_train, y_train)\n",
    "end=time.time()\n",
    "\n",
    "train_time = end - start\n",
    "\n",
    "start=time.time()\n",
    "y_pred = model.predict(X_test)\n",
    "end=time.time()\n",
    "\n",
    "test_time = end - start"
   ]
  },
  {
   "cell_type": "code",
   "execution_count": 61,
   "id": "9c121baf",
   "metadata": {
    "colab": {
     "base_uri": "https://localhost:8080/"
    },
    "executionInfo": {
     "elapsed": 1927,
     "status": "ok",
     "timestamp": 1677264701358,
     "user": {
      "displayName": "Branimir Raguž",
      "userId": "04099229421659579348"
     },
     "user_tz": -60
    },
    "id": "9c121baf",
    "outputId": "a0eba0c2-769d-42b2-8f71-3b9e61b0a999"
   },
   "outputs": [
    {
     "name": "stdout",
     "output_type": "stream",
     "text": [
      "Keras weights file (<HDF5 file \"variables.h5\" (mode r+)>) saving:\n",
      "...layers\n",
      "......bidirectional\n",
      ".........backward_layer\n",
      "............cell\n",
      "...............vars\n",
      "..................0\n",
      "..................1\n",
      "..................2\n",
      "............vars\n",
      ".........forward_layer\n",
      "............cell\n",
      "...............vars\n",
      "..................0\n",
      "..................1\n",
      "..................2\n",
      "............vars\n",
      ".........layer\n",
      "............cell\n",
      "...............vars\n",
      "............vars\n",
      ".........vars\n",
      "......dense\n",
      ".........vars\n",
      "............0\n",
      "............1\n",
      "......embedding\n",
      ".........vars\n",
      "............0\n",
      "...metrics\n",
      "......mean\n",
      ".........vars\n",
      "............0\n",
      "............1\n",
      "......mean_metric_wrapper\n",
      ".........vars\n",
      "............0\n",
      "............1\n",
      "...optimizer\n",
      "......vars\n",
      ".........0\n",
      ".........1\n",
      ".........10\n",
      ".........11\n",
      ".........12\n",
      ".........13\n",
      ".........14\n",
      ".........15\n",
      ".........16\n",
      ".........17\n",
      ".........18\n",
      ".........2\n",
      ".........3\n",
      ".........4\n",
      ".........5\n",
      ".........6\n",
      ".........7\n",
      ".........8\n",
      ".........9\n",
      "...vars\n",
      "Keras model archive saving:\n",
      "File Name                                             Modified             Size\n",
      "config.json                                    2023-02-24 18:51:39         2361\n",
      "metadata.json                                  2023-02-24 18:51:39           64\n",
      "variables.h5                                   2023-02-24 18:51:39      8791448\n"
     ]
    }
   ],
   "source": [
    "# adjust the y_pred and the y_test\n",
    "y_pred = np.argmax(y_pred, axis = 1)\n",
    "y_test = np.argmax(y_test, axis = 1)\n",
    "\n",
    "reviews_m3_results = classification_report(y_test, y_pred, output_dict=True)\n",
    "\n",
    "reviews_m3_results['train_time'] = train_time\n",
    "reviews_m3_results['test_time'] = test_time\n",
    "reviews_m3_results = pd.DataFrame.from_dict(reviews_m3_results)\n",
    "reviews_m3_results.to_csv('results/lstm/reviews/model_3.csv')\n",
    "pickle.dump(model, open('models/lstm/reviews/model_3.sav', 'wb'))"
   ]
  },
  {
   "cell_type": "code",
   "execution_count": 62,
   "id": "2b249ff9",
   "metadata": {
    "colab": {
     "base_uri": "https://localhost:8080/",
     "height": 175
    },
    "executionInfo": {
     "elapsed": 613,
     "status": "ok",
     "timestamp": 1677264724287,
     "user": {
      "displayName": "Branimir Raguž",
      "userId": "04099229421659579348"
     },
     "user_tz": -60
    },
    "id": "2b249ff9",
    "outputId": "179153e3-63dc-46ab-cf59-63c55327a216"
   },
   "outputs": [
    {
     "data": {
      "text/html": [
       "\n",
       "  <div id=\"df-d07d2907-5c1d-4489-a199-174a6613b081\">\n",
       "    <div class=\"colab-df-container\">\n",
       "      <div>\n",
       "<style scoped>\n",
       "    .dataframe tbody tr th:only-of-type {\n",
       "        vertical-align: middle;\n",
       "    }\n",
       "\n",
       "    .dataframe tbody tr th {\n",
       "        vertical-align: top;\n",
       "    }\n",
       "\n",
       "    .dataframe thead th {\n",
       "        text-align: right;\n",
       "    }\n",
       "</style>\n",
       "<table border=\"1\" class=\"dataframe\">\n",
       "  <thead>\n",
       "    <tr style=\"text-align: right;\">\n",
       "      <th></th>\n",
       "      <th>0</th>\n",
       "      <th>1</th>\n",
       "      <th>2</th>\n",
       "      <th>accuracy</th>\n",
       "      <th>macro avg</th>\n",
       "      <th>weighted avg</th>\n",
       "      <th>train_time</th>\n",
       "      <th>test_time</th>\n",
       "    </tr>\n",
       "  </thead>\n",
       "  <tbody>\n",
       "    <tr>\n",
       "      <th>precision</th>\n",
       "      <td>0.639073</td>\n",
       "      <td>0.796488</td>\n",
       "      <td>0.910089</td>\n",
       "      <td>0.845444</td>\n",
       "      <td>0.781883</td>\n",
       "      <td>0.844592</td>\n",
       "      <td>11.067574</td>\n",
       "      <td>0.558506</td>\n",
       "    </tr>\n",
       "    <tr>\n",
       "      <th>recall</th>\n",
       "      <td>0.612698</td>\n",
       "      <td>0.799679</td>\n",
       "      <td>0.913911</td>\n",
       "      <td>0.845444</td>\n",
       "      <td>0.775430</td>\n",
       "      <td>0.845444</td>\n",
       "      <td>11.067574</td>\n",
       "      <td>0.558506</td>\n",
       "    </tr>\n",
       "    <tr>\n",
       "      <th>f1-score</th>\n",
       "      <td>0.625608</td>\n",
       "      <td>0.798081</td>\n",
       "      <td>0.911996</td>\n",
       "      <td>0.845444</td>\n",
       "      <td>0.778561</td>\n",
       "      <td>0.844989</td>\n",
       "      <td>11.067574</td>\n",
       "      <td>0.558506</td>\n",
       "    </tr>\n",
       "    <tr>\n",
       "      <th>support</th>\n",
       "      <td>315.000000</td>\n",
       "      <td>1248.000000</td>\n",
       "      <td>1905.000000</td>\n",
       "      <td>0.845444</td>\n",
       "      <td>3468.000000</td>\n",
       "      <td>3468.000000</td>\n",
       "      <td>11.067574</td>\n",
       "      <td>0.558506</td>\n",
       "    </tr>\n",
       "  </tbody>\n",
       "</table>\n",
       "</div>\n",
       "      <button class=\"colab-df-convert\" onclick=\"convertToInteractive('df-d07d2907-5c1d-4489-a199-174a6613b081')\"\n",
       "              title=\"Convert this dataframe to an interactive table.\"\n",
       "              style=\"display:none;\">\n",
       "        \n",
       "  <svg xmlns=\"http://www.w3.org/2000/svg\" height=\"24px\"viewBox=\"0 0 24 24\"\n",
       "       width=\"24px\">\n",
       "    <path d=\"M0 0h24v24H0V0z\" fill=\"none\"/>\n",
       "    <path d=\"M18.56 5.44l.94 2.06.94-2.06 2.06-.94-2.06-.94-.94-2.06-.94 2.06-2.06.94zm-11 1L8.5 8.5l.94-2.06 2.06-.94-2.06-.94L8.5 2.5l-.94 2.06-2.06.94zm10 10l.94 2.06.94-2.06 2.06-.94-2.06-.94-.94-2.06-.94 2.06-2.06.94z\"/><path d=\"M17.41 7.96l-1.37-1.37c-.4-.4-.92-.59-1.43-.59-.52 0-1.04.2-1.43.59L10.3 9.45l-7.72 7.72c-.78.78-.78 2.05 0 2.83L4 21.41c.39.39.9.59 1.41.59.51 0 1.02-.2 1.41-.59l7.78-7.78 2.81-2.81c.8-.78.8-2.07 0-2.86zM5.41 20L4 18.59l7.72-7.72 1.47 1.35L5.41 20z\"/>\n",
       "  </svg>\n",
       "      </button>\n",
       "      \n",
       "  <style>\n",
       "    .colab-df-container {\n",
       "      display:flex;\n",
       "      flex-wrap:wrap;\n",
       "      gap: 12px;\n",
       "    }\n",
       "\n",
       "    .colab-df-convert {\n",
       "      background-color: #E8F0FE;\n",
       "      border: none;\n",
       "      border-radius: 50%;\n",
       "      cursor: pointer;\n",
       "      display: none;\n",
       "      fill: #1967D2;\n",
       "      height: 32px;\n",
       "      padding: 0 0 0 0;\n",
       "      width: 32px;\n",
       "    }\n",
       "\n",
       "    .colab-df-convert:hover {\n",
       "      background-color: #E2EBFA;\n",
       "      box-shadow: 0px 1px 2px rgba(60, 64, 67, 0.3), 0px 1px 3px 1px rgba(60, 64, 67, 0.15);\n",
       "      fill: #174EA6;\n",
       "    }\n",
       "\n",
       "    [theme=dark] .colab-df-convert {\n",
       "      background-color: #3B4455;\n",
       "      fill: #D2E3FC;\n",
       "    }\n",
       "\n",
       "    [theme=dark] .colab-df-convert:hover {\n",
       "      background-color: #434B5C;\n",
       "      box-shadow: 0px 1px 3px 1px rgba(0, 0, 0, 0.15);\n",
       "      filter: drop-shadow(0px 1px 2px rgba(0, 0, 0, 0.3));\n",
       "      fill: #FFFFFF;\n",
       "    }\n",
       "  </style>\n",
       "\n",
       "      <script>\n",
       "        const buttonEl =\n",
       "          document.querySelector('#df-d07d2907-5c1d-4489-a199-174a6613b081 button.colab-df-convert');\n",
       "        buttonEl.style.display =\n",
       "          google.colab.kernel.accessAllowed ? 'block' : 'none';\n",
       "\n",
       "        async function convertToInteractive(key) {\n",
       "          const element = document.querySelector('#df-d07d2907-5c1d-4489-a199-174a6613b081');\n",
       "          const dataTable =\n",
       "            await google.colab.kernel.invokeFunction('convertToInteractive',\n",
       "                                                     [key], {});\n",
       "          if (!dataTable) return;\n",
       "\n",
       "          const docLinkHtml = 'Like what you see? Visit the ' +\n",
       "            '<a target=\"_blank\" href=https://colab.research.google.com/notebooks/data_table.ipynb>data table notebook</a>'\n",
       "            + ' to learn more about interactive tables.';\n",
       "          element.innerHTML = '';\n",
       "          dataTable['output_type'] = 'display_data';\n",
       "          await google.colab.output.renderOutput(dataTable, element);\n",
       "          const docLink = document.createElement('div');\n",
       "          docLink.innerHTML = docLinkHtml;\n",
       "          element.appendChild(docLink);\n",
       "        }\n",
       "      </script>\n",
       "    </div>\n",
       "  </div>\n",
       "  "
      ],
      "text/plain": [
       "                    0            1            2  accuracy    macro avg  \\\n",
       "precision    0.639073     0.796488     0.910089  0.845444     0.781883   \n",
       "recall       0.612698     0.799679     0.913911  0.845444     0.775430   \n",
       "f1-score     0.625608     0.798081     0.911996  0.845444     0.778561   \n",
       "support    315.000000  1248.000000  1905.000000  0.845444  3468.000000   \n",
       "\n",
       "           weighted avg  train_time  test_time  \n",
       "precision      0.844592   11.067574   0.558506  \n",
       "recall         0.845444   11.067574   0.558506  \n",
       "f1-score       0.844989   11.067574   0.558506  \n",
       "support     3468.000000   11.067574   0.558506  "
      ]
     },
     "execution_count": 62,
     "metadata": {},
     "output_type": "execute_result"
    }
   ],
   "source": [
    "reviews_m3_results"
   ]
  },
  {
   "cell_type": "markdown",
   "id": "7d6b3092",
   "metadata": {
    "id": "7d6b3092"
   },
   "source": [
    "The best result is 84 % accuracy, which is an improvement, it mostly happened because we increased the size of the features, and the sent length, and the voc size, so it managed to capture more information. Of, course it does train longer than but that is the trade off we must accept."
   ]
  },
  {
   "cell_type": "markdown",
   "id": "134bef3c",
   "metadata": {
    "id": "134bef3c"
   },
   "source": [
    "### Reviews, Hyperparameter tuning"
   ]
  },
  {
   "cell_type": "markdown",
   "id": "cef11ace",
   "metadata": {
    "id": "cef11ace"
   },
   "source": [
    "We experimented with essentially all of the parameters in our setting except. Furthermore, we added another layer to the model to see if different dense activation, and number of units will improve the model. In the begining with our experimentation, we tried different multi layer models, and it really didn't improve the model, so we just included in in the hyperparameter tuning to see if it finds the best model by itself."
   ]
  },
  {
   "cell_type": "code",
   "execution_count": null,
   "id": "CiO77tbhxSz0",
   "metadata": {
    "id": "CiO77tbhxSz0"
   },
   "outputs": [],
   "source": [
    "X_train = X_train_reviews.copy()\n",
    "y_train = y_train_reviews.copy()\n",
    "X_test = X_test_reviews.copy()\n",
    "y_test = y_test_reviews.copy()\n",
    "X_valid = X_valid_reviews.copy()\n",
    "y_valid = y_valid_reviews.copy()"
   ]
  },
  {
   "cell_type": "code",
   "execution_count": null,
   "id": "PXJpxVi_xSz0",
   "metadata": {
    "id": "PXJpxVi_xSz0"
   },
   "outputs": [],
   "source": [
    "X_train, y_train = preprocessing_reviews(X_train, y_train, sent_length)\n",
    "X_valid, y_valid = preprocessing_reviews(X_valid, y_valid, sent_length)\n",
    "X_test, y_test = preprocessing_reviews(X_test, y_test, sent_length)"
   ]
  },
  {
   "cell_type": "code",
   "execution_count": null,
   "id": "_CLvy6yTxSz0",
   "metadata": {
    "id": "_CLvy6yTxSz0"
   },
   "outputs": [],
   "source": [
    "categories = [['negative', 'neutral', 'positive']]\n",
    "ohe = OneHotEncoder(categories=categories)\n",
    "\n",
    "y_train = ohe.fit_transform(y_train.values.reshape(-1, 1)).toarray()\n",
    "y_valid = ohe.transform(y_valid.values.reshape(-1, 1)).toarray()\n",
    "y_test = ohe.transform(y_test.values.reshape(-1, 1)).toarray()"
   ]
  },
  {
   "cell_type": "code",
   "execution_count": null,
   "id": "28d363ab",
   "metadata": {
    "id": "28d363ab"
   },
   "outputs": [],
   "source": [
    "def create_model(hp):\n",
    "    model = Sequential()\n",
    "    model.add(Embedding(\n",
    "        input_dim=hp.Int('voc_size', 5000, 20000, step=2500),\n",
    "        output_dim=hp.Int('embedding_size', 32, 128, 32),\n",
    "        input_length = 100))    \n",
    "    model.add(Bidirectional(LSTM(units=hp.Int('LSTM_units', 32, 128, 32))))\n",
    "    model.add(Dense(units=hp.Int('dense_units', 10, 50, 10), activation=hp.Choice('dense_activation', values=['relu', 'sigmoid', 'tanh'])))\n",
    "    model.add(Dense(units=3, activation='softmax'))\n",
    "    model.compile(\n",
    "        optimizer=Adam(hp.Choice('learning_rate', values=[0.01, 0.001, 0.0001])),\n",
    "        loss=CategoricalCrossentropy(),\n",
    "        metrics=[Accuracy()]\n",
    "    )\n",
    "    return model"
   ]
  },
  {
   "cell_type": "code",
   "execution_count": null,
   "id": "c1ce7579",
   "metadata": {
    "id": "c1ce7579",
    "outputId": "5db11bc1-ceee-48a5-ee75-bc642e84e47c"
   },
   "outputs": [
    {
     "name": "stdout",
     "output_type": "stream",
     "text": [
      "INFO:tensorflow:Reloading Tuner from tuning\\movie_review_sentiment_analysis\\tuner0.json\n"
     ]
    },
    {
     "name": "stderr",
     "output_type": "stream",
     "text": [
      "INFO:tensorflow:Reloading Tuner from tuning\\movie_review_sentiment_analysis\\tuner0.json\n"
     ]
    }
   ],
   "source": [
    "tuner = RandomSearch(\n",
    "    create_model,\n",
    "    objective='val_accuracy',\n",
    "    max_trials=10,\n",
    "    executions_per_trial=3,\n",
    "    directory='tuning',\n",
    "    project_name='movie_review_sentiment_analysis'\n",
    ")"
   ]
  },
  {
   "cell_type": "code",
   "execution_count": null,
   "id": "1d4f6111",
   "metadata": {
    "id": "1d4f6111",
    "outputId": "f6faacbf-0ec5-47f1-a057-f2bca9cff533"
   },
   "outputs": [
    {
     "name": "stdout",
     "output_type": "stream",
     "text": [
      "INFO:tensorflow:Oracle triggered exit\n"
     ]
    },
    {
     "name": "stderr",
     "output_type": "stream",
     "text": [
      "INFO:tensorflow:Oracle triggered exit\n"
     ]
    }
   ],
   "source": [
    "tuner.search(X_train, y_train, epochs=3, validation_data=(X_valid, y_valid))"
   ]
  },
  {
   "cell_type": "code",
   "execution_count": null,
   "id": "44402ff2",
   "metadata": {
    "id": "44402ff2"
   },
   "outputs": [],
   "source": [
    "best_hyperparameters = tuner.get_best_hyperparameters(num_trials=1)[0]\n",
    "model = tuner.hypermodel.build(best_hyperparameters)"
   ]
  },
  {
   "cell_type": "code",
   "execution_count": null,
   "id": "6f802381",
   "metadata": {
    "id": "6f802381",
    "outputId": "59466d3c-ed96-4bcc-aaae-8f0a58c52f83"
   },
   "outputs": [
    {
     "data": {
      "text/plain": [
       "{'voc_size': 7500,\n",
       " 'embedding_size': 64,\n",
       " 'sent_length': 90,\n",
       " 'LSTM_units': 64,\n",
       " 'dense_units': 50,\n",
       " 'dense_activation': 'relu',\n",
       " 'learning_rate': 0.01}"
      ]
     },
     "execution_count": 84,
     "metadata": {},
     "output_type": "execute_result"
    }
   ],
   "source": [
    "best_hyperparameters.values"
   ]
  },
  {
   "cell_type": "markdown",
   "id": "b3c3a92f",
   "metadata": {
    "id": "b3c3a92f"
   },
   "source": [
    "### 3.4. Model 4 - with best parameters\n",
    "\n",
    "{ 'voc_size': 7500,  \n",
    " 'embedding_size': 64,  \n",
    " 'sent_length': 90,  \n",
    " 'LSTM_units': 64,  \n",
    " 'dense_units': 50,  \n",
    " 'dense_activation': 'relu',  \n",
    " 'learning_rate': 0.01 }"
   ]
  },
  {
   "cell_type": "code",
   "execution_count": 63,
   "id": "2683677c",
   "metadata": {
    "executionInfo": {
     "elapsed": 1044,
     "status": "ok",
     "timestamp": 1677264777246,
     "user": {
      "displayName": "Branimir Raguž",
      "userId": "04099229421659579348"
     },
     "user_tz": -60
    },
    "id": "2683677c"
   },
   "outputs": [],
   "source": [
    "# setting the vocabulary and sentence length\n",
    "voc_size = 7500\n",
    "sent_length = 90\n",
    "embedding_vector_features = 64"
   ]
  },
  {
   "cell_type": "code",
   "execution_count": 64,
   "id": "HF2qA4rtxVG0",
   "metadata": {
    "executionInfo": {
     "elapsed": 2,
     "status": "ok",
     "timestamp": 1677264777641,
     "user": {
      "displayName": "Branimir Raguž",
      "userId": "04099229421659579348"
     },
     "user_tz": -60
    },
    "id": "HF2qA4rtxVG0"
   },
   "outputs": [],
   "source": [
    "X_train = X_train_reviews.copy()\n",
    "y_train = y_train_reviews.copy()\n",
    "X_test = X_test_reviews.copy()\n",
    "y_test = y_test_reviews.copy()\n",
    "X_valid = X_valid_reviews.copy()\n",
    "y_valid = y_valid_reviews.copy()"
   ]
  },
  {
   "cell_type": "code",
   "execution_count": 65,
   "id": "u7WG7Ub4xVG1",
   "metadata": {
    "executionInfo": {
     "elapsed": 951,
     "status": "ok",
     "timestamp": 1677264779010,
     "user": {
      "displayName": "Branimir Raguž",
      "userId": "04099229421659579348"
     },
     "user_tz": -60
    },
    "id": "u7WG7Ub4xVG1"
   },
   "outputs": [],
   "source": [
    "X_train, y_train = preprocessing_reviews(X_train, y_train, sent_length)\n",
    "X_valid, y_valid = preprocessing_reviews(X_valid, y_valid, sent_length)\n",
    "X_test, y_test = preprocessing_reviews(X_test, y_test, sent_length)"
   ]
  },
  {
   "cell_type": "code",
   "execution_count": 66,
   "id": "PStXqhuHxVG1",
   "metadata": {
    "executionInfo": {
     "elapsed": 3,
     "status": "ok",
     "timestamp": 1677264780329,
     "user": {
      "displayName": "Branimir Raguž",
      "userId": "04099229421659579348"
     },
     "user_tz": -60
    },
    "id": "PStXqhuHxVG1"
   },
   "outputs": [],
   "source": [
    "categories = [['negative', 'neutral', 'positive']]\n",
    "ohe = OneHotEncoder(categories=categories)\n",
    "\n",
    "y_train = ohe.fit_transform(y_train.values.reshape(-1, 1)).toarray()\n",
    "y_valid = ohe.transform(y_valid.values.reshape(-1, 1)).toarray()\n",
    "y_test = ohe.transform(y_test.values.reshape(-1, 1)).toarray()"
   ]
  },
  {
   "cell_type": "code",
   "execution_count": 67,
   "id": "57e5c6d2",
   "metadata": {
    "colab": {
     "base_uri": "https://localhost:8080/"
    },
    "executionInfo": {
     "elapsed": 926,
     "status": "ok",
     "timestamp": 1677264783464,
     "user": {
      "displayName": "Branimir Raguž",
      "userId": "04099229421659579348"
     },
     "user_tz": -60
    },
    "id": "57e5c6d2",
    "outputId": "34d15b7b-261e-4d0b-c13f-54a4ffd18340"
   },
   "outputs": [
    {
     "name": "stdout",
     "output_type": "stream",
     "text": [
      "Model: \"sequential_3\"\n",
      "_________________________________________________________________\n",
      " Layer (type)                Output Shape              Param #   \n",
      "=================================================================\n",
      " embedding_3 (Embedding)     (None, 90, 64)            480000    \n",
      "                                                                 \n",
      " bidirectional_1 (Bidirectio  (None, 128)              66048     \n",
      " nal)                                                            \n",
      "                                                                 \n",
      " dense_3 (Dense)             (None, 50)                6450      \n",
      "                                                                 \n",
      " dense_4 (Dense)             (None, 3)                 153       \n",
      "                                                                 \n",
      "=================================================================\n",
      "Total params: 552,651\n",
      "Trainable params: 552,651\n",
      "Non-trainable params: 0\n",
      "_________________________________________________________________\n",
      "None\n"
     ]
    }
   ],
   "source": [
    "model = Sequential()\n",
    "model.add(Embedding(voc_size,embedding_vector_features,input_length=sent_length))\n",
    "model.add(Bidirectional(LSTM(64)))\n",
    "model.add(Dense(50, activation='relu'))\n",
    "model.add(Dense(3, activation='softmax'))\n",
    "model.compile(loss = 'categorical_crossentropy', optimizer = Adam(learning_rate=0.01), metrics = ['accuracy'])\n",
    "print(model.summary())"
   ]
  },
  {
   "cell_type": "code",
   "execution_count": 68,
   "id": "eb2e0d28",
   "metadata": {
    "colab": {
     "base_uri": "https://localhost:8080/"
    },
    "executionInfo": {
     "elapsed": 35100,
     "status": "ok",
     "timestamp": 1677264819506,
     "user": {
      "displayName": "Branimir Raguž",
      "userId": "04099229421659579348"
     },
     "user_tz": -60
    },
    "id": "eb2e0d28",
    "outputId": "f354815b-4e13-4141-e3ad-78a4627a0637"
   },
   "outputs": [
    {
     "name": "stdout",
     "output_type": "stream",
     "text": [
      "326/326 [==============================] - 34s 91ms/step - loss: 0.6254 - accuracy: 0.7365\n",
      "109/109 [==============================] - 1s 6ms/step\n"
     ]
    }
   ],
   "source": [
    "# training and predicting\n",
    "\n",
    "start=time.time()\n",
    "model.fit(X_train, y_train)\n",
    "end=time.time()\n",
    "\n",
    "train_time = end - start\n",
    "\n",
    "start=time.time()\n",
    "y_pred = model.predict(X_test)\n",
    "end=time.time()\n",
    "\n",
    "test_time = end - start"
   ]
  },
  {
   "cell_type": "code",
   "execution_count": 69,
   "id": "df69abb0",
   "metadata": {
    "colab": {
     "base_uri": "https://localhost:8080/"
    },
    "executionInfo": {
     "elapsed": 2126,
     "status": "ok",
     "timestamp": 1677264821618,
     "user": {
      "displayName": "Branimir Raguž",
      "userId": "04099229421659579348"
     },
     "user_tz": -60
    },
    "id": "df69abb0",
    "outputId": "b0faab0d-1ca1-4a29-c5da-c0ad4ade6b3c"
   },
   "outputs": [
    {
     "name": "stdout",
     "output_type": "stream",
     "text": [
      "Keras weights file (<HDF5 file \"variables.h5\" (mode r+)>) saving:\n",
      "...layers\n",
      "......bidirectional\n",
      ".........backward_layer\n",
      "............cell\n",
      "...............vars\n",
      "..................0\n",
      "..................1\n",
      "..................2\n",
      "............vars\n",
      ".........forward_layer\n",
      "............cell\n",
      "...............vars\n",
      "..................0\n",
      "..................1\n",
      "..................2\n",
      "............vars\n",
      ".........layer\n",
      "............cell\n",
      "...............vars\n",
      "............vars\n",
      ".........vars\n",
      "......dense\n",
      ".........vars\n",
      "............0\n",
      "............1\n",
      "......dense_1\n",
      ".........vars\n",
      "............0\n",
      "............1\n",
      "......embedding\n",
      ".........vars\n",
      "............0\n",
      "...metrics\n",
      "......mean\n",
      ".........vars\n",
      "............0\n",
      "............1\n",
      "......mean_metric_wrapper\n",
      ".........vars\n",
      "............0\n",
      "............1\n",
      "...optimizer\n",
      "......vars\n",
      ".........0\n",
      ".........1\n",
      ".........10\n",
      ".........11\n",
      ".........12\n",
      ".........13\n",
      ".........14\n",
      ".........15\n",
      ".........16\n",
      ".........17\n",
      ".........18\n",
      ".........19\n",
      ".........2\n",
      ".........20\n",
      ".........21\n",
      ".........22\n",
      ".........3\n",
      ".........4\n",
      ".........5\n",
      ".........6\n",
      ".........7\n",
      ".........8\n",
      ".........9\n",
      "...vars\n",
      "Keras model archive saving:\n",
      "File Name                                             Modified             Size\n",
      "config.json                                    2023-02-24 18:53:39         3195\n",
      "metadata.json                                  2023-02-24 18:53:39           64\n",
      "variables.h5                                   2023-02-24 18:53:39      6673960\n"
     ]
    }
   ],
   "source": [
    "# adjust the y_pred and the y_test\n",
    "y_pred = np.argmax(y_pred, axis = 1)\n",
    "y_test = np.argmax(y_test, axis = 1)\n",
    "\n",
    "reviews_m4_results = classification_report(y_test, y_pred, output_dict=True)\n",
    "\n",
    "reviews_m4_results['train_time'] = train_time\n",
    "reviews_m4_results['test_time'] = test_time\n",
    "reviews_m4_results = pd.DataFrame.from_dict(reviews_m4_results)\n",
    "reviews_m4_results.to_csv('results/lstm/reviews/model_4.csv')\n",
    "pickle.dump(model, open('models/lstm/reviews/model_4.sav', 'wb'))"
   ]
  },
  {
   "cell_type": "code",
   "execution_count": 70,
   "id": "6f963831",
   "metadata": {
    "colab": {
     "base_uri": "https://localhost:8080/",
     "height": 175
    },
    "executionInfo": {
     "elapsed": 409,
     "status": "ok",
     "timestamp": 1677264827034,
     "user": {
      "displayName": "Branimir Raguž",
      "userId": "04099229421659579348"
     },
     "user_tz": -60
    },
    "id": "6f963831",
    "outputId": "60c10856-74f4-47ca-a82e-b1655d755c9b"
   },
   "outputs": [
    {
     "data": {
      "text/html": [
       "\n",
       "  <div id=\"df-e9893a5c-d384-4a7a-a3ee-7bbe8532be88\">\n",
       "    <div class=\"colab-df-container\">\n",
       "      <div>\n",
       "<style scoped>\n",
       "    .dataframe tbody tr th:only-of-type {\n",
       "        vertical-align: middle;\n",
       "    }\n",
       "\n",
       "    .dataframe tbody tr th {\n",
       "        vertical-align: top;\n",
       "    }\n",
       "\n",
       "    .dataframe thead th {\n",
       "        text-align: right;\n",
       "    }\n",
       "</style>\n",
       "<table border=\"1\" class=\"dataframe\">\n",
       "  <thead>\n",
       "    <tr style=\"text-align: right;\">\n",
       "      <th></th>\n",
       "      <th>0</th>\n",
       "      <th>1</th>\n",
       "      <th>2</th>\n",
       "      <th>accuracy</th>\n",
       "      <th>macro avg</th>\n",
       "      <th>weighted avg</th>\n",
       "      <th>train_time</th>\n",
       "      <th>test_time</th>\n",
       "    </tr>\n",
       "  </thead>\n",
       "  <tbody>\n",
       "    <tr>\n",
       "      <th>precision</th>\n",
       "      <td>0.875000</td>\n",
       "      <td>0.728592</td>\n",
       "      <td>0.851585</td>\n",
       "      <td>0.802768</td>\n",
       "      <td>0.818392</td>\n",
       "      <td>0.809451</td>\n",
       "      <td>33.687989</td>\n",
       "      <td>1.943553</td>\n",
       "    </tr>\n",
       "    <tr>\n",
       "      <th>recall</th>\n",
       "      <td>0.022222</td>\n",
       "      <td>0.804487</td>\n",
       "      <td>0.930709</td>\n",
       "      <td>0.802768</td>\n",
       "      <td>0.585806</td>\n",
       "      <td>0.802768</td>\n",
       "      <td>33.687989</td>\n",
       "      <td>1.943553</td>\n",
       "    </tr>\n",
       "    <tr>\n",
       "      <th>f1-score</th>\n",
       "      <td>0.043344</td>\n",
       "      <td>0.764661</td>\n",
       "      <td>0.889391</td>\n",
       "      <td>0.802768</td>\n",
       "      <td>0.565798</td>\n",
       "      <td>0.767658</td>\n",
       "      <td>33.687989</td>\n",
       "      <td>1.943553</td>\n",
       "    </tr>\n",
       "    <tr>\n",
       "      <th>support</th>\n",
       "      <td>315.000000</td>\n",
       "      <td>1248.000000</td>\n",
       "      <td>1905.000000</td>\n",
       "      <td>0.802768</td>\n",
       "      <td>3468.000000</td>\n",
       "      <td>3468.000000</td>\n",
       "      <td>33.687989</td>\n",
       "      <td>1.943553</td>\n",
       "    </tr>\n",
       "  </tbody>\n",
       "</table>\n",
       "</div>\n",
       "      <button class=\"colab-df-convert\" onclick=\"convertToInteractive('df-e9893a5c-d384-4a7a-a3ee-7bbe8532be88')\"\n",
       "              title=\"Convert this dataframe to an interactive table.\"\n",
       "              style=\"display:none;\">\n",
       "        \n",
       "  <svg xmlns=\"http://www.w3.org/2000/svg\" height=\"24px\"viewBox=\"0 0 24 24\"\n",
       "       width=\"24px\">\n",
       "    <path d=\"M0 0h24v24H0V0z\" fill=\"none\"/>\n",
       "    <path d=\"M18.56 5.44l.94 2.06.94-2.06 2.06-.94-2.06-.94-.94-2.06-.94 2.06-2.06.94zm-11 1L8.5 8.5l.94-2.06 2.06-.94-2.06-.94L8.5 2.5l-.94 2.06-2.06.94zm10 10l.94 2.06.94-2.06 2.06-.94-2.06-.94-.94-2.06-.94 2.06-2.06.94z\"/><path d=\"M17.41 7.96l-1.37-1.37c-.4-.4-.92-.59-1.43-.59-.52 0-1.04.2-1.43.59L10.3 9.45l-7.72 7.72c-.78.78-.78 2.05 0 2.83L4 21.41c.39.39.9.59 1.41.59.51 0 1.02-.2 1.41-.59l7.78-7.78 2.81-2.81c.8-.78.8-2.07 0-2.86zM5.41 20L4 18.59l7.72-7.72 1.47 1.35L5.41 20z\"/>\n",
       "  </svg>\n",
       "      </button>\n",
       "      \n",
       "  <style>\n",
       "    .colab-df-container {\n",
       "      display:flex;\n",
       "      flex-wrap:wrap;\n",
       "      gap: 12px;\n",
       "    }\n",
       "\n",
       "    .colab-df-convert {\n",
       "      background-color: #E8F0FE;\n",
       "      border: none;\n",
       "      border-radius: 50%;\n",
       "      cursor: pointer;\n",
       "      display: none;\n",
       "      fill: #1967D2;\n",
       "      height: 32px;\n",
       "      padding: 0 0 0 0;\n",
       "      width: 32px;\n",
       "    }\n",
       "\n",
       "    .colab-df-convert:hover {\n",
       "      background-color: #E2EBFA;\n",
       "      box-shadow: 0px 1px 2px rgba(60, 64, 67, 0.3), 0px 1px 3px 1px rgba(60, 64, 67, 0.15);\n",
       "      fill: #174EA6;\n",
       "    }\n",
       "\n",
       "    [theme=dark] .colab-df-convert {\n",
       "      background-color: #3B4455;\n",
       "      fill: #D2E3FC;\n",
       "    }\n",
       "\n",
       "    [theme=dark] .colab-df-convert:hover {\n",
       "      background-color: #434B5C;\n",
       "      box-shadow: 0px 1px 3px 1px rgba(0, 0, 0, 0.15);\n",
       "      filter: drop-shadow(0px 1px 2px rgba(0, 0, 0, 0.3));\n",
       "      fill: #FFFFFF;\n",
       "    }\n",
       "  </style>\n",
       "\n",
       "      <script>\n",
       "        const buttonEl =\n",
       "          document.querySelector('#df-e9893a5c-d384-4a7a-a3ee-7bbe8532be88 button.colab-df-convert');\n",
       "        buttonEl.style.display =\n",
       "          google.colab.kernel.accessAllowed ? 'block' : 'none';\n",
       "\n",
       "        async function convertToInteractive(key) {\n",
       "          const element = document.querySelector('#df-e9893a5c-d384-4a7a-a3ee-7bbe8532be88');\n",
       "          const dataTable =\n",
       "            await google.colab.kernel.invokeFunction('convertToInteractive',\n",
       "                                                     [key], {});\n",
       "          if (!dataTable) return;\n",
       "\n",
       "          const docLinkHtml = 'Like what you see? Visit the ' +\n",
       "            '<a target=\"_blank\" href=https://colab.research.google.com/notebooks/data_table.ipynb>data table notebook</a>'\n",
       "            + ' to learn more about interactive tables.';\n",
       "          element.innerHTML = '';\n",
       "          dataTable['output_type'] = 'display_data';\n",
       "          await google.colab.output.renderOutput(dataTable, element);\n",
       "          const docLink = document.createElement('div');\n",
       "          docLink.innerHTML = docLinkHtml;\n",
       "          element.appendChild(docLink);\n",
       "        }\n",
       "      </script>\n",
       "    </div>\n",
       "  </div>\n",
       "  "
      ],
      "text/plain": [
       "                    0            1            2  accuracy    macro avg  \\\n",
       "precision    0.875000     0.728592     0.851585  0.802768     0.818392   \n",
       "recall       0.022222     0.804487     0.930709  0.802768     0.585806   \n",
       "f1-score     0.043344     0.764661     0.889391  0.802768     0.565798   \n",
       "support    315.000000  1248.000000  1905.000000  0.802768  3468.000000   \n",
       "\n",
       "           weighted avg  train_time  test_time  \n",
       "precision      0.809451   33.687989   1.943553  \n",
       "recall         0.802768   33.687989   1.943553  \n",
       "f1-score       0.767658   33.687989   1.943553  \n",
       "support     3468.000000   33.687989   1.943553  "
      ]
     },
     "execution_count": 70,
     "metadata": {},
     "output_type": "execute_result"
    }
   ],
   "source": [
    "reviews_m4_results"
   ]
  },
  {
   "cell_type": "markdown",
   "id": "1fe0c55c",
   "metadata": {},
   "source": [
    "After finding the best parameters using hyperparameter tuning, we fit the model again and get worse accuracy then before with 80%. This is the case because we used multi layer LSTM in our hyperparameter tuning, and when we also tried manually after the performance was worst than using a single layer LSTM."
   ]
  },
  {
   "cell_type": "markdown",
   "id": "CYaEW4m2Xebk",
   "metadata": {
    "id": "CYaEW4m2Xebk"
   },
   "source": [
    "### 3.5. Model 5 - best parameters on the augmented data set"
   ]
  },
  {
   "cell_type": "code",
   "execution_count": 71,
   "id": "unqxOmV0XwZL",
   "metadata": {
    "executionInfo": {
     "elapsed": 2365,
     "status": "ok",
     "timestamp": 1677264904241,
     "user": {
      "displayName": "Branimir Raguž",
      "userId": "04099229421659579348"
     },
     "user_tz": -60
    },
    "id": "unqxOmV0XwZL"
   },
   "outputs": [],
   "source": [
    "X_train = pd.read_csv(\"data/X_train_reviews_augmented.csv\")\n",
    "y_train = pd.read_csv(\"data/y_train_reviews_augmented.csv\")\n",
    "y_train = y_train['sentiments']"
   ]
  },
  {
   "cell_type": "code",
   "execution_count": 72,
   "id": "0dcfcdf3",
   "metadata": {
    "executionInfo": {
     "elapsed": 5,
     "status": "ok",
     "timestamp": 1677264906530,
     "user": {
      "displayName": "Branimir Raguž",
      "userId": "04099229421659579348"
     },
     "user_tz": -60
    },
    "id": "0dcfcdf3"
   },
   "outputs": [],
   "source": [
    "mask = X_train.isna()\n",
    "\n",
    "# get the indexes of the NaN values\n",
    "indexes = mask.index[mask.any(axis=1)].tolist()"
   ]
  },
  {
   "cell_type": "code",
   "execution_count": 73,
   "id": "30d5a8b0",
   "metadata": {
    "executionInfo": {
     "elapsed": 5,
     "status": "ok",
     "timestamp": 1677264908193,
     "user": {
      "displayName": "Branimir Raguž",
      "userId": "04099229421659579348"
     },
     "user_tz": -60
    },
    "id": "30d5a8b0"
   },
   "outputs": [],
   "source": [
    "X_train.drop(index = indexes, inplace=True)\n",
    "y_train.drop(index = indexes, inplace=True)"
   ]
  },
  {
   "cell_type": "code",
   "execution_count": 74,
   "id": "JDs4s4PZXm-R",
   "metadata": {
    "executionInfo": {
     "elapsed": 5,
     "status": "ok",
     "timestamp": 1677264910457,
     "user": {
      "displayName": "Branimir Raguž",
      "userId": "04099229421659579348"
     },
     "user_tz": -60
    },
    "id": "JDs4s4PZXm-R"
   },
   "outputs": [],
   "source": [
    "# setting the vocabulary and sentence length\n",
    "voc_size = 7500\n",
    "sent_length = 90\n",
    "embedding_vector_features = 64"
   ]
  },
  {
   "cell_type": "code",
   "execution_count": 75,
   "id": "pAjwC5kwxtXv",
   "metadata": {
    "executionInfo": {
     "elapsed": 5,
     "status": "ok",
     "timestamp": 1677264912784,
     "user": {
      "displayName": "Branimir Raguž",
      "userId": "04099229421659579348"
     },
     "user_tz": -60
    },
    "id": "pAjwC5kwxtXv"
   },
   "outputs": [],
   "source": [
    "X_test = X_test_reviews.copy()\n",
    "y_test = y_test_reviews.copy()"
   ]
  },
  {
   "cell_type": "code",
   "execution_count": 76,
   "id": "6gaWcLnRxtXw",
   "metadata": {
    "executionInfo": {
     "elapsed": 605,
     "status": "ok",
     "timestamp": 1677264915744,
     "user": {
      "displayName": "Branimir Raguž",
      "userId": "04099229421659579348"
     },
     "user_tz": -60
    },
    "id": "6gaWcLnRxtXw"
   },
   "outputs": [],
   "source": [
    "X_train, y_train = preprocessing_reviews(X_train, y_train, sent_length)\n",
    "X_test, y_test = preprocessing_reviews(X_test, y_test, sent_length)"
   ]
  },
  {
   "cell_type": "code",
   "execution_count": 77,
   "id": "1nmBpSEBxtXx",
   "metadata": {
    "executionInfo": {
     "elapsed": 5,
     "status": "ok",
     "timestamp": 1677264917623,
     "user": {
      "displayName": "Branimir Raguž",
      "userId": "04099229421659579348"
     },
     "user_tz": -60
    },
    "id": "1nmBpSEBxtXx"
   },
   "outputs": [],
   "source": [
    "categories = [['negative', 'neutral', 'positive']]\n",
    "ohe = OneHotEncoder(categories=categories)\n",
    "\n",
    "y_train = ohe.fit_transform(y_train.values.reshape(-1, 1)).toarray()\n",
    "y_test = ohe.transform(y_test.values.reshape(-1, 1)).toarray()"
   ]
  },
  {
   "cell_type": "code",
   "execution_count": 78,
   "id": "Bjtoz2kGXm-R",
   "metadata": {
    "colab": {
     "base_uri": "https://localhost:8080/"
    },
    "executionInfo": {
     "elapsed": 984,
     "status": "ok",
     "timestamp": 1677264929335,
     "user": {
      "displayName": "Branimir Raguž",
      "userId": "04099229421659579348"
     },
     "user_tz": -60
    },
    "id": "Bjtoz2kGXm-R",
    "outputId": "63fe0cbe-4cfc-404b-a7c5-0f1fed66f8fd",
    "scrolled": true
   },
   "outputs": [
    {
     "name": "stdout",
     "output_type": "stream",
     "text": [
      "Model: \"sequential_4\"\n",
      "_________________________________________________________________\n",
      " Layer (type)                Output Shape              Param #   \n",
      "=================================================================\n",
      " embedding_4 (Embedding)     (None, 90, 64)            480000    \n",
      "                                                                 \n",
      " bidirectional_2 (Bidirectio  (None, 128)              66048     \n",
      " nal)                                                            \n",
      "                                                                 \n",
      " dense_5 (Dense)             (None, 50)                6450      \n",
      "                                                                 \n",
      " dense_6 (Dense)             (None, 3)                 153       \n",
      "                                                                 \n",
      "=================================================================\n",
      "Total params: 552,651\n",
      "Trainable params: 552,651\n",
      "Non-trainable params: 0\n",
      "_________________________________________________________________\n",
      "None\n"
     ]
    }
   ],
   "source": [
    "model = Sequential()\n",
    "model.add(Embedding(voc_size,embedding_vector_features,input_length=sent_length))\n",
    "model.add(Bidirectional(LSTM(64)))\n",
    "model.add(Dense(50, activation='relu'))\n",
    "model.add(Dense(3, activation='softmax'))\n",
    "model.compile(loss = 'categorical_crossentropy', optimizer = Adam(learning_rate=0.01), metrics = ['accuracy'])\n",
    "print(model.summary())"
   ]
  },
  {
   "cell_type": "code",
   "execution_count": 79,
   "id": "FZF7tuUpXm-S",
   "metadata": {
    "colab": {
     "base_uri": "https://localhost:8080/"
    },
    "executionInfo": {
     "elapsed": 39541,
     "status": "ok",
     "timestamp": 1677264972316,
     "user": {
      "displayName": "Branimir Raguž",
      "userId": "04099229421659579348"
     },
     "user_tz": -60
    },
    "id": "FZF7tuUpXm-S",
    "outputId": "199db78d-ee05-4604-c006-348b1a59a012"
   },
   "outputs": [
    {
     "name": "stdout",
     "output_type": "stream",
     "text": [
      "650/650 [==============================] - 38s 50ms/step - loss: 0.4663 - accuracy: 0.8099\n",
      "109/109 [==============================] - 1s 4ms/step\n"
     ]
    }
   ],
   "source": [
    "# training and predicting\n",
    "\n",
    "start=time.time()\n",
    "model.fit(X_train, y_train)\n",
    "end=time.time()\n",
    "\n",
    "train_time = end - start\n",
    "\n",
    "start=time.time()\n",
    "y_pred = model.predict(X_test)\n",
    "end=time.time()\n",
    "\n",
    "test_time = end - start"
   ]
  },
  {
   "cell_type": "code",
   "execution_count": 80,
   "id": "DKoDt1HfXm-S",
   "metadata": {
    "colab": {
     "base_uri": "https://localhost:8080/"
    },
    "executionInfo": {
     "elapsed": 421,
     "status": "ok",
     "timestamp": 1677264982443,
     "user": {
      "displayName": "Branimir Raguž",
      "userId": "04099229421659579348"
     },
     "user_tz": -60
    },
    "id": "DKoDt1HfXm-S",
    "outputId": "17eb27fb-8166-4b67-d166-020cd0ed971a"
   },
   "outputs": [
    {
     "name": "stdout",
     "output_type": "stream",
     "text": [
      "Keras weights file (<HDF5 file \"variables.h5\" (mode r+)>) saving:\n",
      "...layers\n",
      "......bidirectional\n",
      ".........backward_layer\n",
      "............cell\n",
      "...............vars\n",
      "..................0\n",
      "..................1\n",
      "..................2\n",
      "............vars\n",
      ".........forward_layer\n",
      "............cell\n",
      "...............vars\n",
      "..................0\n",
      "..................1\n",
      "..................2\n",
      "............vars\n",
      ".........layer\n",
      "............cell\n",
      "...............vars\n",
      "............vars\n",
      ".........vars\n",
      "......dense\n",
      ".........vars\n",
      "............0\n",
      "............1\n",
      "......dense_1\n",
      ".........vars\n",
      "............0\n",
      "............1\n",
      "......embedding\n",
      ".........vars\n",
      "............0\n",
      "...metrics\n",
      "......mean\n",
      ".........vars\n",
      "............0\n",
      "............1\n",
      "......mean_metric_wrapper\n",
      ".........vars\n",
      "............0\n",
      "............1\n",
      "...optimizer\n",
      "......vars\n",
      ".........0\n",
      ".........1\n",
      ".........10\n",
      ".........11\n",
      ".........12\n",
      ".........13\n",
      ".........14\n",
      ".........15\n",
      ".........16\n",
      ".........17\n",
      ".........18\n",
      ".........19\n",
      ".........2\n",
      ".........20\n",
      ".........21\n",
      ".........22\n",
      ".........3\n",
      ".........4\n",
      ".........5\n",
      ".........6\n",
      ".........7\n",
      ".........8\n",
      ".........9\n",
      "...vars\n",
      "Keras model archive saving:\n",
      "File Name                                             Modified             Size\n",
      "config.json                                    2023-02-24 18:56:20         3195\n",
      "metadata.json                                  2023-02-24 18:56:20           64\n",
      "variables.h5                                   2023-02-24 18:56:21      6673960\n"
     ]
    }
   ],
   "source": [
    "# adjust the y_pred and the y_test\n",
    "y_pred = np.argmax(y_pred, axis = 1)\n",
    "y_test = np.argmax(y_test, axis = 1)\n",
    "\n",
    "reviews_m5_results = classification_report(y_test, y_pred, output_dict=True)\n",
    "\n",
    "reviews_m5_results['train_time'] = train_time\n",
    "reviews_m5_results['test_time'] = test_time\n",
    "reviews_m5_results = pd.DataFrame.from_dict(reviews_m5_results)\n",
    "reviews_m5_results.to_csv('results/lstm/reviews/model_5.csv')\n",
    "pickle.dump(model, open('models/lstm/reviews/model_5.sav', 'wb'))"
   ]
  },
  {
   "cell_type": "code",
   "execution_count": 81,
   "id": "85997e5d",
   "metadata": {
    "colab": {
     "base_uri": "https://localhost:8080/",
     "height": 175
    },
    "executionInfo": {
     "elapsed": 10,
     "status": "ok",
     "timestamp": 1677264986258,
     "user": {
      "displayName": "Branimir Raguž",
      "userId": "04099229421659579348"
     },
     "user_tz": -60
    },
    "id": "85997e5d",
    "outputId": "84234fa7-3621-4c34-f2b3-7ea5aa2c01a2"
   },
   "outputs": [
    {
     "data": {
      "text/html": [
       "\n",
       "  <div id=\"df-b5828bf3-4003-405c-b4fc-7193ab7f27e1\">\n",
       "    <div class=\"colab-df-container\">\n",
       "      <div>\n",
       "<style scoped>\n",
       "    .dataframe tbody tr th:only-of-type {\n",
       "        vertical-align: middle;\n",
       "    }\n",
       "\n",
       "    .dataframe tbody tr th {\n",
       "        vertical-align: top;\n",
       "    }\n",
       "\n",
       "    .dataframe thead th {\n",
       "        text-align: right;\n",
       "    }\n",
       "</style>\n",
       "<table border=\"1\" class=\"dataframe\">\n",
       "  <thead>\n",
       "    <tr style=\"text-align: right;\">\n",
       "      <th></th>\n",
       "      <th>0</th>\n",
       "      <th>1</th>\n",
       "      <th>2</th>\n",
       "      <th>accuracy</th>\n",
       "      <th>macro avg</th>\n",
       "      <th>weighted avg</th>\n",
       "      <th>train_time</th>\n",
       "      <th>test_time</th>\n",
       "    </tr>\n",
       "  </thead>\n",
       "  <tbody>\n",
       "    <tr>\n",
       "      <th>precision</th>\n",
       "      <td>0.719858</td>\n",
       "      <td>0.826194</td>\n",
       "      <td>0.897566</td>\n",
       "      <td>0.858131</td>\n",
       "      <td>0.814539</td>\n",
       "      <td>0.855741</td>\n",
       "      <td>38.085537</td>\n",
       "      <td>1.235642</td>\n",
       "    </tr>\n",
       "    <tr>\n",
       "      <th>recall</th>\n",
       "      <td>0.644444</td>\n",
       "      <td>0.803686</td>\n",
       "      <td>0.929134</td>\n",
       "      <td>0.858131</td>\n",
       "      <td>0.792421</td>\n",
       "      <td>0.858131</td>\n",
       "      <td>38.085537</td>\n",
       "      <td>1.235642</td>\n",
       "    </tr>\n",
       "    <tr>\n",
       "      <th>f1-score</th>\n",
       "      <td>0.680067</td>\n",
       "      <td>0.814785</td>\n",
       "      <td>0.913077</td>\n",
       "      <td>0.858131</td>\n",
       "      <td>0.802643</td>\n",
       "      <td>0.856541</td>\n",
       "      <td>38.085537</td>\n",
       "      <td>1.235642</td>\n",
       "    </tr>\n",
       "    <tr>\n",
       "      <th>support</th>\n",
       "      <td>315.000000</td>\n",
       "      <td>1248.000000</td>\n",
       "      <td>1905.000000</td>\n",
       "      <td>0.858131</td>\n",
       "      <td>3468.000000</td>\n",
       "      <td>3468.000000</td>\n",
       "      <td>38.085537</td>\n",
       "      <td>1.235642</td>\n",
       "    </tr>\n",
       "  </tbody>\n",
       "</table>\n",
       "</div>\n",
       "      <button class=\"colab-df-convert\" onclick=\"convertToInteractive('df-b5828bf3-4003-405c-b4fc-7193ab7f27e1')\"\n",
       "              title=\"Convert this dataframe to an interactive table.\"\n",
       "              style=\"display:none;\">\n",
       "        \n",
       "  <svg xmlns=\"http://www.w3.org/2000/svg\" height=\"24px\"viewBox=\"0 0 24 24\"\n",
       "       width=\"24px\">\n",
       "    <path d=\"M0 0h24v24H0V0z\" fill=\"none\"/>\n",
       "    <path d=\"M18.56 5.44l.94 2.06.94-2.06 2.06-.94-2.06-.94-.94-2.06-.94 2.06-2.06.94zm-11 1L8.5 8.5l.94-2.06 2.06-.94-2.06-.94L8.5 2.5l-.94 2.06-2.06.94zm10 10l.94 2.06.94-2.06 2.06-.94-2.06-.94-.94-2.06-.94 2.06-2.06.94z\"/><path d=\"M17.41 7.96l-1.37-1.37c-.4-.4-.92-.59-1.43-.59-.52 0-1.04.2-1.43.59L10.3 9.45l-7.72 7.72c-.78.78-.78 2.05 0 2.83L4 21.41c.39.39.9.59 1.41.59.51 0 1.02-.2 1.41-.59l7.78-7.78 2.81-2.81c.8-.78.8-2.07 0-2.86zM5.41 20L4 18.59l7.72-7.72 1.47 1.35L5.41 20z\"/>\n",
       "  </svg>\n",
       "      </button>\n",
       "      \n",
       "  <style>\n",
       "    .colab-df-container {\n",
       "      display:flex;\n",
       "      flex-wrap:wrap;\n",
       "      gap: 12px;\n",
       "    }\n",
       "\n",
       "    .colab-df-convert {\n",
       "      background-color: #E8F0FE;\n",
       "      border: none;\n",
       "      border-radius: 50%;\n",
       "      cursor: pointer;\n",
       "      display: none;\n",
       "      fill: #1967D2;\n",
       "      height: 32px;\n",
       "      padding: 0 0 0 0;\n",
       "      width: 32px;\n",
       "    }\n",
       "\n",
       "    .colab-df-convert:hover {\n",
       "      background-color: #E2EBFA;\n",
       "      box-shadow: 0px 1px 2px rgba(60, 64, 67, 0.3), 0px 1px 3px 1px rgba(60, 64, 67, 0.15);\n",
       "      fill: #174EA6;\n",
       "    }\n",
       "\n",
       "    [theme=dark] .colab-df-convert {\n",
       "      background-color: #3B4455;\n",
       "      fill: #D2E3FC;\n",
       "    }\n",
       "\n",
       "    [theme=dark] .colab-df-convert:hover {\n",
       "      background-color: #434B5C;\n",
       "      box-shadow: 0px 1px 3px 1px rgba(0, 0, 0, 0.15);\n",
       "      filter: drop-shadow(0px 1px 2px rgba(0, 0, 0, 0.3));\n",
       "      fill: #FFFFFF;\n",
       "    }\n",
       "  </style>\n",
       "\n",
       "      <script>\n",
       "        const buttonEl =\n",
       "          document.querySelector('#df-b5828bf3-4003-405c-b4fc-7193ab7f27e1 button.colab-df-convert');\n",
       "        buttonEl.style.display =\n",
       "          google.colab.kernel.accessAllowed ? 'block' : 'none';\n",
       "\n",
       "        async function convertToInteractive(key) {\n",
       "          const element = document.querySelector('#df-b5828bf3-4003-405c-b4fc-7193ab7f27e1');\n",
       "          const dataTable =\n",
       "            await google.colab.kernel.invokeFunction('convertToInteractive',\n",
       "                                                     [key], {});\n",
       "          if (!dataTable) return;\n",
       "\n",
       "          const docLinkHtml = 'Like what you see? Visit the ' +\n",
       "            '<a target=\"_blank\" href=https://colab.research.google.com/notebooks/data_table.ipynb>data table notebook</a>'\n",
       "            + ' to learn more about interactive tables.';\n",
       "          element.innerHTML = '';\n",
       "          dataTable['output_type'] = 'display_data';\n",
       "          await google.colab.output.renderOutput(dataTable, element);\n",
       "          const docLink = document.createElement('div');\n",
       "          docLink.innerHTML = docLinkHtml;\n",
       "          element.appendChild(docLink);\n",
       "        }\n",
       "      </script>\n",
       "    </div>\n",
       "  </div>\n",
       "  "
      ],
      "text/plain": [
       "                    0            1            2  accuracy    macro avg  \\\n",
       "precision    0.719858     0.826194     0.897566  0.858131     0.814539   \n",
       "recall       0.644444     0.803686     0.929134  0.858131     0.792421   \n",
       "f1-score     0.680067     0.814785     0.913077  0.858131     0.802643   \n",
       "support    315.000000  1248.000000  1905.000000  0.858131  3468.000000   \n",
       "\n",
       "           weighted avg  train_time  test_time  \n",
       "precision      0.855741   38.085537   1.235642  \n",
       "recall         0.858131   38.085537   1.235642  \n",
       "f1-score       0.856541   38.085537   1.235642  \n",
       "support     3468.000000   38.085537   1.235642  "
      ]
     },
     "execution_count": 81,
     "metadata": {},
     "output_type": "execute_result"
    }
   ],
   "source": [
    "reviews_m5_results"
   ]
  },
  {
   "cell_type": "markdown",
   "id": "7c5276d8",
   "metadata": {
    "id": "7c5276d8"
   },
   "source": [
    "### 3.6. Model comparison"
   ]
  },
  {
   "cell_type": "code",
   "execution_count": 82,
   "id": "063dd31a",
   "metadata": {
    "colab": {
     "base_uri": "https://localhost:8080/",
     "height": 175
    },
    "executionInfo": {
     "elapsed": 448,
     "status": "ok",
     "timestamp": 1677264998309,
     "user": {
      "displayName": "Branimir Raguž",
      "userId": "04099229421659579348"
     },
     "user_tz": -60
    },
    "id": "063dd31a",
    "outputId": "d54bfdde-7747-4403-ab43-a3dc9317d2f3"
   },
   "outputs": [
    {
     "data": {
      "text/html": [
       "\n",
       "  <div id=\"df-48b73356-c801-4d6a-be68-efcdb10739b4\">\n",
       "    <div class=\"colab-df-container\">\n",
       "      <div>\n",
       "<style scoped>\n",
       "    .dataframe tbody tr th:only-of-type {\n",
       "        vertical-align: middle;\n",
       "    }\n",
       "\n",
       "    .dataframe tbody tr th {\n",
       "        vertical-align: top;\n",
       "    }\n",
       "\n",
       "    .dataframe thead th {\n",
       "        text-align: right;\n",
       "    }\n",
       "</style>\n",
       "<table border=\"1\" class=\"dataframe\">\n",
       "  <thead>\n",
       "    <tr style=\"text-align: right;\">\n",
       "      <th></th>\n",
       "      <th>0</th>\n",
       "      <th>1</th>\n",
       "      <th>2</th>\n",
       "      <th>accuracy</th>\n",
       "      <th>macro avg</th>\n",
       "      <th>weighted avg</th>\n",
       "      <th>train_time</th>\n",
       "      <th>test_time</th>\n",
       "    </tr>\n",
       "  </thead>\n",
       "  <tbody>\n",
       "    <tr>\n",
       "      <th>precision</th>\n",
       "      <td>0.615385</td>\n",
       "      <td>0.706637</td>\n",
       "      <td>0.829497</td>\n",
       "      <td>0.781719</td>\n",
       "      <td>0.717173</td>\n",
       "      <td>0.765837</td>\n",
       "      <td>29.191618</td>\n",
       "      <td>1.152139</td>\n",
       "    </tr>\n",
       "    <tr>\n",
       "      <th>recall</th>\n",
       "      <td>0.025397</td>\n",
       "      <td>0.750801</td>\n",
       "      <td>0.927034</td>\n",
       "      <td>0.781719</td>\n",
       "      <td>0.567744</td>\n",
       "      <td>0.781719</td>\n",
       "      <td>29.191618</td>\n",
       "      <td>1.152139</td>\n",
       "    </tr>\n",
       "    <tr>\n",
       "      <th>f1-score</th>\n",
       "      <td>0.048780</td>\n",
       "      <td>0.728050</td>\n",
       "      <td>0.875558</td>\n",
       "      <td>0.781719</td>\n",
       "      <td>0.550796</td>\n",
       "      <td>0.747379</td>\n",
       "      <td>29.191618</td>\n",
       "      <td>1.152139</td>\n",
       "    </tr>\n",
       "    <tr>\n",
       "      <th>support</th>\n",
       "      <td>315.000000</td>\n",
       "      <td>1248.000000</td>\n",
       "      <td>1905.000000</td>\n",
       "      <td>0.781719</td>\n",
       "      <td>3468.000000</td>\n",
       "      <td>3468.000000</td>\n",
       "      <td>29.191618</td>\n",
       "      <td>1.152139</td>\n",
       "    </tr>\n",
       "  </tbody>\n",
       "</table>\n",
       "</div>\n",
       "      <button class=\"colab-df-convert\" onclick=\"convertToInteractive('df-48b73356-c801-4d6a-be68-efcdb10739b4')\"\n",
       "              title=\"Convert this dataframe to an interactive table.\"\n",
       "              style=\"display:none;\">\n",
       "        \n",
       "  <svg xmlns=\"http://www.w3.org/2000/svg\" height=\"24px\"viewBox=\"0 0 24 24\"\n",
       "       width=\"24px\">\n",
       "    <path d=\"M0 0h24v24H0V0z\" fill=\"none\"/>\n",
       "    <path d=\"M18.56 5.44l.94 2.06.94-2.06 2.06-.94-2.06-.94-.94-2.06-.94 2.06-2.06.94zm-11 1L8.5 8.5l.94-2.06 2.06-.94-2.06-.94L8.5 2.5l-.94 2.06-2.06.94zm10 10l.94 2.06.94-2.06 2.06-.94-2.06-.94-.94-2.06-.94 2.06-2.06.94z\"/><path d=\"M17.41 7.96l-1.37-1.37c-.4-.4-.92-.59-1.43-.59-.52 0-1.04.2-1.43.59L10.3 9.45l-7.72 7.72c-.78.78-.78 2.05 0 2.83L4 21.41c.39.39.9.59 1.41.59.51 0 1.02-.2 1.41-.59l7.78-7.78 2.81-2.81c.8-.78.8-2.07 0-2.86zM5.41 20L4 18.59l7.72-7.72 1.47 1.35L5.41 20z\"/>\n",
       "  </svg>\n",
       "      </button>\n",
       "      \n",
       "  <style>\n",
       "    .colab-df-container {\n",
       "      display:flex;\n",
       "      flex-wrap:wrap;\n",
       "      gap: 12px;\n",
       "    }\n",
       "\n",
       "    .colab-df-convert {\n",
       "      background-color: #E8F0FE;\n",
       "      border: none;\n",
       "      border-radius: 50%;\n",
       "      cursor: pointer;\n",
       "      display: none;\n",
       "      fill: #1967D2;\n",
       "      height: 32px;\n",
       "      padding: 0 0 0 0;\n",
       "      width: 32px;\n",
       "    }\n",
       "\n",
       "    .colab-df-convert:hover {\n",
       "      background-color: #E2EBFA;\n",
       "      box-shadow: 0px 1px 2px rgba(60, 64, 67, 0.3), 0px 1px 3px 1px rgba(60, 64, 67, 0.15);\n",
       "      fill: #174EA6;\n",
       "    }\n",
       "\n",
       "    [theme=dark] .colab-df-convert {\n",
       "      background-color: #3B4455;\n",
       "      fill: #D2E3FC;\n",
       "    }\n",
       "\n",
       "    [theme=dark] .colab-df-convert:hover {\n",
       "      background-color: #434B5C;\n",
       "      box-shadow: 0px 1px 3px 1px rgba(0, 0, 0, 0.15);\n",
       "      filter: drop-shadow(0px 1px 2px rgba(0, 0, 0, 0.3));\n",
       "      fill: #FFFFFF;\n",
       "    }\n",
       "  </style>\n",
       "\n",
       "      <script>\n",
       "        const buttonEl =\n",
       "          document.querySelector('#df-48b73356-c801-4d6a-be68-efcdb10739b4 button.colab-df-convert');\n",
       "        buttonEl.style.display =\n",
       "          google.colab.kernel.accessAllowed ? 'block' : 'none';\n",
       "\n",
       "        async function convertToInteractive(key) {\n",
       "          const element = document.querySelector('#df-48b73356-c801-4d6a-be68-efcdb10739b4');\n",
       "          const dataTable =\n",
       "            await google.colab.kernel.invokeFunction('convertToInteractive',\n",
       "                                                     [key], {});\n",
       "          if (!dataTable) return;\n",
       "\n",
       "          const docLinkHtml = 'Like what you see? Visit the ' +\n",
       "            '<a target=\"_blank\" href=https://colab.research.google.com/notebooks/data_table.ipynb>data table notebook</a>'\n",
       "            + ' to learn more about interactive tables.';\n",
       "          element.innerHTML = '';\n",
       "          dataTable['output_type'] = 'display_data';\n",
       "          await google.colab.output.renderOutput(dataTable, element);\n",
       "          const docLink = document.createElement('div');\n",
       "          docLink.innerHTML = docLinkHtml;\n",
       "          element.appendChild(docLink);\n",
       "        }\n",
       "      </script>\n",
       "    </div>\n",
       "  </div>\n",
       "  "
      ],
      "text/plain": [
       "                    0            1            2  accuracy    macro avg  \\\n",
       "precision    0.615385     0.706637     0.829497  0.781719     0.717173   \n",
       "recall       0.025397     0.750801     0.927034  0.781719     0.567744   \n",
       "f1-score     0.048780     0.728050     0.875558  0.781719     0.550796   \n",
       "support    315.000000  1248.000000  1905.000000  0.781719  3468.000000   \n",
       "\n",
       "           weighted avg  train_time  test_time  \n",
       "precision      0.765837   29.191618   1.152139  \n",
       "recall         0.781719   29.191618   1.152139  \n",
       "f1-score       0.747379   29.191618   1.152139  \n",
       "support     3468.000000   29.191618   1.152139  "
      ]
     },
     "execution_count": 82,
     "metadata": {},
     "output_type": "execute_result"
    }
   ],
   "source": [
    "reviews_m1_results"
   ]
  },
  {
   "cell_type": "code",
   "execution_count": 83,
   "id": "1892c180",
   "metadata": {
    "colab": {
     "base_uri": "https://localhost:8080/",
     "height": 175
    },
    "executionInfo": {
     "elapsed": 16,
     "status": "ok",
     "timestamp": 1677264999363,
     "user": {
      "displayName": "Branimir Raguž",
      "userId": "04099229421659579348"
     },
     "user_tz": -60
    },
    "id": "1892c180",
    "outputId": "b289a6fe-c071-4b27-a55d-ea38be4f1942"
   },
   "outputs": [
    {
     "data": {
      "text/html": [
       "\n",
       "  <div id=\"df-726f7082-ae30-4f22-bc5a-72466862f84f\">\n",
       "    <div class=\"colab-df-container\">\n",
       "      <div>\n",
       "<style scoped>\n",
       "    .dataframe tbody tr th:only-of-type {\n",
       "        vertical-align: middle;\n",
       "    }\n",
       "\n",
       "    .dataframe tbody tr th {\n",
       "        vertical-align: top;\n",
       "    }\n",
       "\n",
       "    .dataframe thead th {\n",
       "        text-align: right;\n",
       "    }\n",
       "</style>\n",
       "<table border=\"1\" class=\"dataframe\">\n",
       "  <thead>\n",
       "    <tr style=\"text-align: right;\">\n",
       "      <th></th>\n",
       "      <th>0</th>\n",
       "      <th>1</th>\n",
       "      <th>2</th>\n",
       "      <th>accuracy</th>\n",
       "      <th>macro avg</th>\n",
       "      <th>weighted avg</th>\n",
       "      <th>train_time</th>\n",
       "      <th>test_time</th>\n",
       "    </tr>\n",
       "  </thead>\n",
       "  <tbody>\n",
       "    <tr>\n",
       "      <th>precision</th>\n",
       "      <td>0.476190</td>\n",
       "      <td>0.725844</td>\n",
       "      <td>0.862525</td>\n",
       "      <td>0.786621</td>\n",
       "      <td>0.688187</td>\n",
       "      <td>0.778248</td>\n",
       "      <td>20.583426</td>\n",
       "      <td>0.96846</td>\n",
       "    </tr>\n",
       "    <tr>\n",
       "      <th>recall</th>\n",
       "      <td>0.349206</td>\n",
       "      <td>0.740385</td>\n",
       "      <td>0.889239</td>\n",
       "      <td>0.786621</td>\n",
       "      <td>0.659610</td>\n",
       "      <td>0.786621</td>\n",
       "      <td>20.583426</td>\n",
       "      <td>0.96846</td>\n",
       "    </tr>\n",
       "    <tr>\n",
       "      <th>f1-score</th>\n",
       "      <td>0.402930</td>\n",
       "      <td>0.733042</td>\n",
       "      <td>0.875678</td>\n",
       "      <td>0.786621</td>\n",
       "      <td>0.670550</td>\n",
       "      <td>0.781409</td>\n",
       "      <td>20.583426</td>\n",
       "      <td>0.96846</td>\n",
       "    </tr>\n",
       "    <tr>\n",
       "      <th>support</th>\n",
       "      <td>315.000000</td>\n",
       "      <td>1248.000000</td>\n",
       "      <td>1905.000000</td>\n",
       "      <td>0.786621</td>\n",
       "      <td>3468.000000</td>\n",
       "      <td>3468.000000</td>\n",
       "      <td>20.583426</td>\n",
       "      <td>0.96846</td>\n",
       "    </tr>\n",
       "  </tbody>\n",
       "</table>\n",
       "</div>\n",
       "      <button class=\"colab-df-convert\" onclick=\"convertToInteractive('df-726f7082-ae30-4f22-bc5a-72466862f84f')\"\n",
       "              title=\"Convert this dataframe to an interactive table.\"\n",
       "              style=\"display:none;\">\n",
       "        \n",
       "  <svg xmlns=\"http://www.w3.org/2000/svg\" height=\"24px\"viewBox=\"0 0 24 24\"\n",
       "       width=\"24px\">\n",
       "    <path d=\"M0 0h24v24H0V0z\" fill=\"none\"/>\n",
       "    <path d=\"M18.56 5.44l.94 2.06.94-2.06 2.06-.94-2.06-.94-.94-2.06-.94 2.06-2.06.94zm-11 1L8.5 8.5l.94-2.06 2.06-.94-2.06-.94L8.5 2.5l-.94 2.06-2.06.94zm10 10l.94 2.06.94-2.06 2.06-.94-2.06-.94-.94-2.06-.94 2.06-2.06.94z\"/><path d=\"M17.41 7.96l-1.37-1.37c-.4-.4-.92-.59-1.43-.59-.52 0-1.04.2-1.43.59L10.3 9.45l-7.72 7.72c-.78.78-.78 2.05 0 2.83L4 21.41c.39.39.9.59 1.41.59.51 0 1.02-.2 1.41-.59l7.78-7.78 2.81-2.81c.8-.78.8-2.07 0-2.86zM5.41 20L4 18.59l7.72-7.72 1.47 1.35L5.41 20z\"/>\n",
       "  </svg>\n",
       "      </button>\n",
       "      \n",
       "  <style>\n",
       "    .colab-df-container {\n",
       "      display:flex;\n",
       "      flex-wrap:wrap;\n",
       "      gap: 12px;\n",
       "    }\n",
       "\n",
       "    .colab-df-convert {\n",
       "      background-color: #E8F0FE;\n",
       "      border: none;\n",
       "      border-radius: 50%;\n",
       "      cursor: pointer;\n",
       "      display: none;\n",
       "      fill: #1967D2;\n",
       "      height: 32px;\n",
       "      padding: 0 0 0 0;\n",
       "      width: 32px;\n",
       "    }\n",
       "\n",
       "    .colab-df-convert:hover {\n",
       "      background-color: #E2EBFA;\n",
       "      box-shadow: 0px 1px 2px rgba(60, 64, 67, 0.3), 0px 1px 3px 1px rgba(60, 64, 67, 0.15);\n",
       "      fill: #174EA6;\n",
       "    }\n",
       "\n",
       "    [theme=dark] .colab-df-convert {\n",
       "      background-color: #3B4455;\n",
       "      fill: #D2E3FC;\n",
       "    }\n",
       "\n",
       "    [theme=dark] .colab-df-convert:hover {\n",
       "      background-color: #434B5C;\n",
       "      box-shadow: 0px 1px 3px 1px rgba(0, 0, 0, 0.15);\n",
       "      filter: drop-shadow(0px 1px 2px rgba(0, 0, 0, 0.3));\n",
       "      fill: #FFFFFF;\n",
       "    }\n",
       "  </style>\n",
       "\n",
       "      <script>\n",
       "        const buttonEl =\n",
       "          document.querySelector('#df-726f7082-ae30-4f22-bc5a-72466862f84f button.colab-df-convert');\n",
       "        buttonEl.style.display =\n",
       "          google.colab.kernel.accessAllowed ? 'block' : 'none';\n",
       "\n",
       "        async function convertToInteractive(key) {\n",
       "          const element = document.querySelector('#df-726f7082-ae30-4f22-bc5a-72466862f84f');\n",
       "          const dataTable =\n",
       "            await google.colab.kernel.invokeFunction('convertToInteractive',\n",
       "                                                     [key], {});\n",
       "          if (!dataTable) return;\n",
       "\n",
       "          const docLinkHtml = 'Like what you see? Visit the ' +\n",
       "            '<a target=\"_blank\" href=https://colab.research.google.com/notebooks/data_table.ipynb>data table notebook</a>'\n",
       "            + ' to learn more about interactive tables.';\n",
       "          element.innerHTML = '';\n",
       "          dataTable['output_type'] = 'display_data';\n",
       "          await google.colab.output.renderOutput(dataTable, element);\n",
       "          const docLink = document.createElement('div');\n",
       "          docLink.innerHTML = docLinkHtml;\n",
       "          element.appendChild(docLink);\n",
       "        }\n",
       "      </script>\n",
       "    </div>\n",
       "  </div>\n",
       "  "
      ],
      "text/plain": [
       "                    0            1            2  accuracy    macro avg  \\\n",
       "precision    0.476190     0.725844     0.862525  0.786621     0.688187   \n",
       "recall       0.349206     0.740385     0.889239  0.786621     0.659610   \n",
       "f1-score     0.402930     0.733042     0.875678  0.786621     0.670550   \n",
       "support    315.000000  1248.000000  1905.000000  0.786621  3468.000000   \n",
       "\n",
       "           weighted avg  train_time  test_time  \n",
       "precision      0.778248   20.583426    0.96846  \n",
       "recall         0.786621   20.583426    0.96846  \n",
       "f1-score       0.781409   20.583426    0.96846  \n",
       "support     3468.000000   20.583426    0.96846  "
      ]
     },
     "execution_count": 83,
     "metadata": {},
     "output_type": "execute_result"
    }
   ],
   "source": [
    "reviews_m2_results"
   ]
  },
  {
   "cell_type": "code",
   "execution_count": 84,
   "id": "e1f3302e",
   "metadata": {
    "colab": {
     "base_uri": "https://localhost:8080/",
     "height": 175
    },
    "executionInfo": {
     "elapsed": 8,
     "status": "ok",
     "timestamp": 1677264999839,
     "user": {
      "displayName": "Branimir Raguž",
      "userId": "04099229421659579348"
     },
     "user_tz": -60
    },
    "id": "e1f3302e",
    "outputId": "030a61ce-ab95-4dd6-d3bc-9ae627d9a2cd"
   },
   "outputs": [
    {
     "data": {
      "text/html": [
       "\n",
       "  <div id=\"df-082a178e-a431-496e-b569-22129e39d265\">\n",
       "    <div class=\"colab-df-container\">\n",
       "      <div>\n",
       "<style scoped>\n",
       "    .dataframe tbody tr th:only-of-type {\n",
       "        vertical-align: middle;\n",
       "    }\n",
       "\n",
       "    .dataframe tbody tr th {\n",
       "        vertical-align: top;\n",
       "    }\n",
       "\n",
       "    .dataframe thead th {\n",
       "        text-align: right;\n",
       "    }\n",
       "</style>\n",
       "<table border=\"1\" class=\"dataframe\">\n",
       "  <thead>\n",
       "    <tr style=\"text-align: right;\">\n",
       "      <th></th>\n",
       "      <th>0</th>\n",
       "      <th>1</th>\n",
       "      <th>2</th>\n",
       "      <th>accuracy</th>\n",
       "      <th>macro avg</th>\n",
       "      <th>weighted avg</th>\n",
       "      <th>train_time</th>\n",
       "      <th>test_time</th>\n",
       "    </tr>\n",
       "  </thead>\n",
       "  <tbody>\n",
       "    <tr>\n",
       "      <th>precision</th>\n",
       "      <td>0.639073</td>\n",
       "      <td>0.796488</td>\n",
       "      <td>0.910089</td>\n",
       "      <td>0.845444</td>\n",
       "      <td>0.781883</td>\n",
       "      <td>0.844592</td>\n",
       "      <td>11.067574</td>\n",
       "      <td>0.558506</td>\n",
       "    </tr>\n",
       "    <tr>\n",
       "      <th>recall</th>\n",
       "      <td>0.612698</td>\n",
       "      <td>0.799679</td>\n",
       "      <td>0.913911</td>\n",
       "      <td>0.845444</td>\n",
       "      <td>0.775430</td>\n",
       "      <td>0.845444</td>\n",
       "      <td>11.067574</td>\n",
       "      <td>0.558506</td>\n",
       "    </tr>\n",
       "    <tr>\n",
       "      <th>f1-score</th>\n",
       "      <td>0.625608</td>\n",
       "      <td>0.798081</td>\n",
       "      <td>0.911996</td>\n",
       "      <td>0.845444</td>\n",
       "      <td>0.778561</td>\n",
       "      <td>0.844989</td>\n",
       "      <td>11.067574</td>\n",
       "      <td>0.558506</td>\n",
       "    </tr>\n",
       "    <tr>\n",
       "      <th>support</th>\n",
       "      <td>315.000000</td>\n",
       "      <td>1248.000000</td>\n",
       "      <td>1905.000000</td>\n",
       "      <td>0.845444</td>\n",
       "      <td>3468.000000</td>\n",
       "      <td>3468.000000</td>\n",
       "      <td>11.067574</td>\n",
       "      <td>0.558506</td>\n",
       "    </tr>\n",
       "  </tbody>\n",
       "</table>\n",
       "</div>\n",
       "      <button class=\"colab-df-convert\" onclick=\"convertToInteractive('df-082a178e-a431-496e-b569-22129e39d265')\"\n",
       "              title=\"Convert this dataframe to an interactive table.\"\n",
       "              style=\"display:none;\">\n",
       "        \n",
       "  <svg xmlns=\"http://www.w3.org/2000/svg\" height=\"24px\"viewBox=\"0 0 24 24\"\n",
       "       width=\"24px\">\n",
       "    <path d=\"M0 0h24v24H0V0z\" fill=\"none\"/>\n",
       "    <path d=\"M18.56 5.44l.94 2.06.94-2.06 2.06-.94-2.06-.94-.94-2.06-.94 2.06-2.06.94zm-11 1L8.5 8.5l.94-2.06 2.06-.94-2.06-.94L8.5 2.5l-.94 2.06-2.06.94zm10 10l.94 2.06.94-2.06 2.06-.94-2.06-.94-.94-2.06-.94 2.06-2.06.94z\"/><path d=\"M17.41 7.96l-1.37-1.37c-.4-.4-.92-.59-1.43-.59-.52 0-1.04.2-1.43.59L10.3 9.45l-7.72 7.72c-.78.78-.78 2.05 0 2.83L4 21.41c.39.39.9.59 1.41.59.51 0 1.02-.2 1.41-.59l7.78-7.78 2.81-2.81c.8-.78.8-2.07 0-2.86zM5.41 20L4 18.59l7.72-7.72 1.47 1.35L5.41 20z\"/>\n",
       "  </svg>\n",
       "      </button>\n",
       "      \n",
       "  <style>\n",
       "    .colab-df-container {\n",
       "      display:flex;\n",
       "      flex-wrap:wrap;\n",
       "      gap: 12px;\n",
       "    }\n",
       "\n",
       "    .colab-df-convert {\n",
       "      background-color: #E8F0FE;\n",
       "      border: none;\n",
       "      border-radius: 50%;\n",
       "      cursor: pointer;\n",
       "      display: none;\n",
       "      fill: #1967D2;\n",
       "      height: 32px;\n",
       "      padding: 0 0 0 0;\n",
       "      width: 32px;\n",
       "    }\n",
       "\n",
       "    .colab-df-convert:hover {\n",
       "      background-color: #E2EBFA;\n",
       "      box-shadow: 0px 1px 2px rgba(60, 64, 67, 0.3), 0px 1px 3px 1px rgba(60, 64, 67, 0.15);\n",
       "      fill: #174EA6;\n",
       "    }\n",
       "\n",
       "    [theme=dark] .colab-df-convert {\n",
       "      background-color: #3B4455;\n",
       "      fill: #D2E3FC;\n",
       "    }\n",
       "\n",
       "    [theme=dark] .colab-df-convert:hover {\n",
       "      background-color: #434B5C;\n",
       "      box-shadow: 0px 1px 3px 1px rgba(0, 0, 0, 0.15);\n",
       "      filter: drop-shadow(0px 1px 2px rgba(0, 0, 0, 0.3));\n",
       "      fill: #FFFFFF;\n",
       "    }\n",
       "  </style>\n",
       "\n",
       "      <script>\n",
       "        const buttonEl =\n",
       "          document.querySelector('#df-082a178e-a431-496e-b569-22129e39d265 button.colab-df-convert');\n",
       "        buttonEl.style.display =\n",
       "          google.colab.kernel.accessAllowed ? 'block' : 'none';\n",
       "\n",
       "        async function convertToInteractive(key) {\n",
       "          const element = document.querySelector('#df-082a178e-a431-496e-b569-22129e39d265');\n",
       "          const dataTable =\n",
       "            await google.colab.kernel.invokeFunction('convertToInteractive',\n",
       "                                                     [key], {});\n",
       "          if (!dataTable) return;\n",
       "\n",
       "          const docLinkHtml = 'Like what you see? Visit the ' +\n",
       "            '<a target=\"_blank\" href=https://colab.research.google.com/notebooks/data_table.ipynb>data table notebook</a>'\n",
       "            + ' to learn more about interactive tables.';\n",
       "          element.innerHTML = '';\n",
       "          dataTable['output_type'] = 'display_data';\n",
       "          await google.colab.output.renderOutput(dataTable, element);\n",
       "          const docLink = document.createElement('div');\n",
       "          docLink.innerHTML = docLinkHtml;\n",
       "          element.appendChild(docLink);\n",
       "        }\n",
       "      </script>\n",
       "    </div>\n",
       "  </div>\n",
       "  "
      ],
      "text/plain": [
       "                    0            1            2  accuracy    macro avg  \\\n",
       "precision    0.639073     0.796488     0.910089  0.845444     0.781883   \n",
       "recall       0.612698     0.799679     0.913911  0.845444     0.775430   \n",
       "f1-score     0.625608     0.798081     0.911996  0.845444     0.778561   \n",
       "support    315.000000  1248.000000  1905.000000  0.845444  3468.000000   \n",
       "\n",
       "           weighted avg  train_time  test_time  \n",
       "precision      0.844592   11.067574   0.558506  \n",
       "recall         0.845444   11.067574   0.558506  \n",
       "f1-score       0.844989   11.067574   0.558506  \n",
       "support     3468.000000   11.067574   0.558506  "
      ]
     },
     "execution_count": 84,
     "metadata": {},
     "output_type": "execute_result"
    }
   ],
   "source": [
    "reviews_m3_results"
   ]
  },
  {
   "cell_type": "code",
   "execution_count": 85,
   "id": "36c9d809",
   "metadata": {
    "colab": {
     "base_uri": "https://localhost:8080/",
     "height": 175
    },
    "executionInfo": {
     "elapsed": 10,
     "status": "ok",
     "timestamp": 1677265000965,
     "user": {
      "displayName": "Branimir Raguž",
      "userId": "04099229421659579348"
     },
     "user_tz": -60
    },
    "id": "36c9d809",
    "outputId": "cd71ac3f-193b-4a71-f97b-46f2e872e2ba"
   },
   "outputs": [
    {
     "data": {
      "text/html": [
       "\n",
       "  <div id=\"df-0cded8b7-c0b1-4b7a-900a-0a69ced6ca39\">\n",
       "    <div class=\"colab-df-container\">\n",
       "      <div>\n",
       "<style scoped>\n",
       "    .dataframe tbody tr th:only-of-type {\n",
       "        vertical-align: middle;\n",
       "    }\n",
       "\n",
       "    .dataframe tbody tr th {\n",
       "        vertical-align: top;\n",
       "    }\n",
       "\n",
       "    .dataframe thead th {\n",
       "        text-align: right;\n",
       "    }\n",
       "</style>\n",
       "<table border=\"1\" class=\"dataframe\">\n",
       "  <thead>\n",
       "    <tr style=\"text-align: right;\">\n",
       "      <th></th>\n",
       "      <th>0</th>\n",
       "      <th>1</th>\n",
       "      <th>2</th>\n",
       "      <th>accuracy</th>\n",
       "      <th>macro avg</th>\n",
       "      <th>weighted avg</th>\n",
       "      <th>train_time</th>\n",
       "      <th>test_time</th>\n",
       "    </tr>\n",
       "  </thead>\n",
       "  <tbody>\n",
       "    <tr>\n",
       "      <th>precision</th>\n",
       "      <td>0.875000</td>\n",
       "      <td>0.728592</td>\n",
       "      <td>0.851585</td>\n",
       "      <td>0.802768</td>\n",
       "      <td>0.818392</td>\n",
       "      <td>0.809451</td>\n",
       "      <td>33.687989</td>\n",
       "      <td>1.943553</td>\n",
       "    </tr>\n",
       "    <tr>\n",
       "      <th>recall</th>\n",
       "      <td>0.022222</td>\n",
       "      <td>0.804487</td>\n",
       "      <td>0.930709</td>\n",
       "      <td>0.802768</td>\n",
       "      <td>0.585806</td>\n",
       "      <td>0.802768</td>\n",
       "      <td>33.687989</td>\n",
       "      <td>1.943553</td>\n",
       "    </tr>\n",
       "    <tr>\n",
       "      <th>f1-score</th>\n",
       "      <td>0.043344</td>\n",
       "      <td>0.764661</td>\n",
       "      <td>0.889391</td>\n",
       "      <td>0.802768</td>\n",
       "      <td>0.565798</td>\n",
       "      <td>0.767658</td>\n",
       "      <td>33.687989</td>\n",
       "      <td>1.943553</td>\n",
       "    </tr>\n",
       "    <tr>\n",
       "      <th>support</th>\n",
       "      <td>315.000000</td>\n",
       "      <td>1248.000000</td>\n",
       "      <td>1905.000000</td>\n",
       "      <td>0.802768</td>\n",
       "      <td>3468.000000</td>\n",
       "      <td>3468.000000</td>\n",
       "      <td>33.687989</td>\n",
       "      <td>1.943553</td>\n",
       "    </tr>\n",
       "  </tbody>\n",
       "</table>\n",
       "</div>\n",
       "      <button class=\"colab-df-convert\" onclick=\"convertToInteractive('df-0cded8b7-c0b1-4b7a-900a-0a69ced6ca39')\"\n",
       "              title=\"Convert this dataframe to an interactive table.\"\n",
       "              style=\"display:none;\">\n",
       "        \n",
       "  <svg xmlns=\"http://www.w3.org/2000/svg\" height=\"24px\"viewBox=\"0 0 24 24\"\n",
       "       width=\"24px\">\n",
       "    <path d=\"M0 0h24v24H0V0z\" fill=\"none\"/>\n",
       "    <path d=\"M18.56 5.44l.94 2.06.94-2.06 2.06-.94-2.06-.94-.94-2.06-.94 2.06-2.06.94zm-11 1L8.5 8.5l.94-2.06 2.06-.94-2.06-.94L8.5 2.5l-.94 2.06-2.06.94zm10 10l.94 2.06.94-2.06 2.06-.94-2.06-.94-.94-2.06-.94 2.06-2.06.94z\"/><path d=\"M17.41 7.96l-1.37-1.37c-.4-.4-.92-.59-1.43-.59-.52 0-1.04.2-1.43.59L10.3 9.45l-7.72 7.72c-.78.78-.78 2.05 0 2.83L4 21.41c.39.39.9.59 1.41.59.51 0 1.02-.2 1.41-.59l7.78-7.78 2.81-2.81c.8-.78.8-2.07 0-2.86zM5.41 20L4 18.59l7.72-7.72 1.47 1.35L5.41 20z\"/>\n",
       "  </svg>\n",
       "      </button>\n",
       "      \n",
       "  <style>\n",
       "    .colab-df-container {\n",
       "      display:flex;\n",
       "      flex-wrap:wrap;\n",
       "      gap: 12px;\n",
       "    }\n",
       "\n",
       "    .colab-df-convert {\n",
       "      background-color: #E8F0FE;\n",
       "      border: none;\n",
       "      border-radius: 50%;\n",
       "      cursor: pointer;\n",
       "      display: none;\n",
       "      fill: #1967D2;\n",
       "      height: 32px;\n",
       "      padding: 0 0 0 0;\n",
       "      width: 32px;\n",
       "    }\n",
       "\n",
       "    .colab-df-convert:hover {\n",
       "      background-color: #E2EBFA;\n",
       "      box-shadow: 0px 1px 2px rgba(60, 64, 67, 0.3), 0px 1px 3px 1px rgba(60, 64, 67, 0.15);\n",
       "      fill: #174EA6;\n",
       "    }\n",
       "\n",
       "    [theme=dark] .colab-df-convert {\n",
       "      background-color: #3B4455;\n",
       "      fill: #D2E3FC;\n",
       "    }\n",
       "\n",
       "    [theme=dark] .colab-df-convert:hover {\n",
       "      background-color: #434B5C;\n",
       "      box-shadow: 0px 1px 3px 1px rgba(0, 0, 0, 0.15);\n",
       "      filter: drop-shadow(0px 1px 2px rgba(0, 0, 0, 0.3));\n",
       "      fill: #FFFFFF;\n",
       "    }\n",
       "  </style>\n",
       "\n",
       "      <script>\n",
       "        const buttonEl =\n",
       "          document.querySelector('#df-0cded8b7-c0b1-4b7a-900a-0a69ced6ca39 button.colab-df-convert');\n",
       "        buttonEl.style.display =\n",
       "          google.colab.kernel.accessAllowed ? 'block' : 'none';\n",
       "\n",
       "        async function convertToInteractive(key) {\n",
       "          const element = document.querySelector('#df-0cded8b7-c0b1-4b7a-900a-0a69ced6ca39');\n",
       "          const dataTable =\n",
       "            await google.colab.kernel.invokeFunction('convertToInteractive',\n",
       "                                                     [key], {});\n",
       "          if (!dataTable) return;\n",
       "\n",
       "          const docLinkHtml = 'Like what you see? Visit the ' +\n",
       "            '<a target=\"_blank\" href=https://colab.research.google.com/notebooks/data_table.ipynb>data table notebook</a>'\n",
       "            + ' to learn more about interactive tables.';\n",
       "          element.innerHTML = '';\n",
       "          dataTable['output_type'] = 'display_data';\n",
       "          await google.colab.output.renderOutput(dataTable, element);\n",
       "          const docLink = document.createElement('div');\n",
       "          docLink.innerHTML = docLinkHtml;\n",
       "          element.appendChild(docLink);\n",
       "        }\n",
       "      </script>\n",
       "    </div>\n",
       "  </div>\n",
       "  "
      ],
      "text/plain": [
       "                    0            1            2  accuracy    macro avg  \\\n",
       "precision    0.875000     0.728592     0.851585  0.802768     0.818392   \n",
       "recall       0.022222     0.804487     0.930709  0.802768     0.585806   \n",
       "f1-score     0.043344     0.764661     0.889391  0.802768     0.565798   \n",
       "support    315.000000  1248.000000  1905.000000  0.802768  3468.000000   \n",
       "\n",
       "           weighted avg  train_time  test_time  \n",
       "precision      0.809451   33.687989   1.943553  \n",
       "recall         0.802768   33.687989   1.943553  \n",
       "f1-score       0.767658   33.687989   1.943553  \n",
       "support     3468.000000   33.687989   1.943553  "
      ]
     },
     "execution_count": 85,
     "metadata": {},
     "output_type": "execute_result"
    }
   ],
   "source": [
    "reviews_m4_results"
   ]
  },
  {
   "cell_type": "code",
   "execution_count": 86,
   "id": "548b876b",
   "metadata": {
    "colab": {
     "base_uri": "https://localhost:8080/",
     "height": 175
    },
    "executionInfo": {
     "elapsed": 8,
     "status": "ok",
     "timestamp": 1677265001909,
     "user": {
      "displayName": "Branimir Raguž",
      "userId": "04099229421659579348"
     },
     "user_tz": -60
    },
    "id": "548b876b",
    "outputId": "12ec477e-24ab-4d78-aee1-fd2ba7ce4119"
   },
   "outputs": [
    {
     "data": {
      "text/html": [
       "\n",
       "  <div id=\"df-ed196047-4d2e-41d3-b692-27a260edc9c6\">\n",
       "    <div class=\"colab-df-container\">\n",
       "      <div>\n",
       "<style scoped>\n",
       "    .dataframe tbody tr th:only-of-type {\n",
       "        vertical-align: middle;\n",
       "    }\n",
       "\n",
       "    .dataframe tbody tr th {\n",
       "        vertical-align: top;\n",
       "    }\n",
       "\n",
       "    .dataframe thead th {\n",
       "        text-align: right;\n",
       "    }\n",
       "</style>\n",
       "<table border=\"1\" class=\"dataframe\">\n",
       "  <thead>\n",
       "    <tr style=\"text-align: right;\">\n",
       "      <th></th>\n",
       "      <th>0</th>\n",
       "      <th>1</th>\n",
       "      <th>2</th>\n",
       "      <th>accuracy</th>\n",
       "      <th>macro avg</th>\n",
       "      <th>weighted avg</th>\n",
       "      <th>train_time</th>\n",
       "      <th>test_time</th>\n",
       "    </tr>\n",
       "  </thead>\n",
       "  <tbody>\n",
       "    <tr>\n",
       "      <th>precision</th>\n",
       "      <td>0.719858</td>\n",
       "      <td>0.826194</td>\n",
       "      <td>0.897566</td>\n",
       "      <td>0.858131</td>\n",
       "      <td>0.814539</td>\n",
       "      <td>0.855741</td>\n",
       "      <td>38.085537</td>\n",
       "      <td>1.235642</td>\n",
       "    </tr>\n",
       "    <tr>\n",
       "      <th>recall</th>\n",
       "      <td>0.644444</td>\n",
       "      <td>0.803686</td>\n",
       "      <td>0.929134</td>\n",
       "      <td>0.858131</td>\n",
       "      <td>0.792421</td>\n",
       "      <td>0.858131</td>\n",
       "      <td>38.085537</td>\n",
       "      <td>1.235642</td>\n",
       "    </tr>\n",
       "    <tr>\n",
       "      <th>f1-score</th>\n",
       "      <td>0.680067</td>\n",
       "      <td>0.814785</td>\n",
       "      <td>0.913077</td>\n",
       "      <td>0.858131</td>\n",
       "      <td>0.802643</td>\n",
       "      <td>0.856541</td>\n",
       "      <td>38.085537</td>\n",
       "      <td>1.235642</td>\n",
       "    </tr>\n",
       "    <tr>\n",
       "      <th>support</th>\n",
       "      <td>315.000000</td>\n",
       "      <td>1248.000000</td>\n",
       "      <td>1905.000000</td>\n",
       "      <td>0.858131</td>\n",
       "      <td>3468.000000</td>\n",
       "      <td>3468.000000</td>\n",
       "      <td>38.085537</td>\n",
       "      <td>1.235642</td>\n",
       "    </tr>\n",
       "  </tbody>\n",
       "</table>\n",
       "</div>\n",
       "      <button class=\"colab-df-convert\" onclick=\"convertToInteractive('df-ed196047-4d2e-41d3-b692-27a260edc9c6')\"\n",
       "              title=\"Convert this dataframe to an interactive table.\"\n",
       "              style=\"display:none;\">\n",
       "        \n",
       "  <svg xmlns=\"http://www.w3.org/2000/svg\" height=\"24px\"viewBox=\"0 0 24 24\"\n",
       "       width=\"24px\">\n",
       "    <path d=\"M0 0h24v24H0V0z\" fill=\"none\"/>\n",
       "    <path d=\"M18.56 5.44l.94 2.06.94-2.06 2.06-.94-2.06-.94-.94-2.06-.94 2.06-2.06.94zm-11 1L8.5 8.5l.94-2.06 2.06-.94-2.06-.94L8.5 2.5l-.94 2.06-2.06.94zm10 10l.94 2.06.94-2.06 2.06-.94-2.06-.94-.94-2.06-.94 2.06-2.06.94z\"/><path d=\"M17.41 7.96l-1.37-1.37c-.4-.4-.92-.59-1.43-.59-.52 0-1.04.2-1.43.59L10.3 9.45l-7.72 7.72c-.78.78-.78 2.05 0 2.83L4 21.41c.39.39.9.59 1.41.59.51 0 1.02-.2 1.41-.59l7.78-7.78 2.81-2.81c.8-.78.8-2.07 0-2.86zM5.41 20L4 18.59l7.72-7.72 1.47 1.35L5.41 20z\"/>\n",
       "  </svg>\n",
       "      </button>\n",
       "      \n",
       "  <style>\n",
       "    .colab-df-container {\n",
       "      display:flex;\n",
       "      flex-wrap:wrap;\n",
       "      gap: 12px;\n",
       "    }\n",
       "\n",
       "    .colab-df-convert {\n",
       "      background-color: #E8F0FE;\n",
       "      border: none;\n",
       "      border-radius: 50%;\n",
       "      cursor: pointer;\n",
       "      display: none;\n",
       "      fill: #1967D2;\n",
       "      height: 32px;\n",
       "      padding: 0 0 0 0;\n",
       "      width: 32px;\n",
       "    }\n",
       "\n",
       "    .colab-df-convert:hover {\n",
       "      background-color: #E2EBFA;\n",
       "      box-shadow: 0px 1px 2px rgba(60, 64, 67, 0.3), 0px 1px 3px 1px rgba(60, 64, 67, 0.15);\n",
       "      fill: #174EA6;\n",
       "    }\n",
       "\n",
       "    [theme=dark] .colab-df-convert {\n",
       "      background-color: #3B4455;\n",
       "      fill: #D2E3FC;\n",
       "    }\n",
       "\n",
       "    [theme=dark] .colab-df-convert:hover {\n",
       "      background-color: #434B5C;\n",
       "      box-shadow: 0px 1px 3px 1px rgba(0, 0, 0, 0.15);\n",
       "      filter: drop-shadow(0px 1px 2px rgba(0, 0, 0, 0.3));\n",
       "      fill: #FFFFFF;\n",
       "    }\n",
       "  </style>\n",
       "\n",
       "      <script>\n",
       "        const buttonEl =\n",
       "          document.querySelector('#df-ed196047-4d2e-41d3-b692-27a260edc9c6 button.colab-df-convert');\n",
       "        buttonEl.style.display =\n",
       "          google.colab.kernel.accessAllowed ? 'block' : 'none';\n",
       "\n",
       "        async function convertToInteractive(key) {\n",
       "          const element = document.querySelector('#df-ed196047-4d2e-41d3-b692-27a260edc9c6');\n",
       "          const dataTable =\n",
       "            await google.colab.kernel.invokeFunction('convertToInteractive',\n",
       "                                                     [key], {});\n",
       "          if (!dataTable) return;\n",
       "\n",
       "          const docLinkHtml = 'Like what you see? Visit the ' +\n",
       "            '<a target=\"_blank\" href=https://colab.research.google.com/notebooks/data_table.ipynb>data table notebook</a>'\n",
       "            + ' to learn more about interactive tables.';\n",
       "          element.innerHTML = '';\n",
       "          dataTable['output_type'] = 'display_data';\n",
       "          await google.colab.output.renderOutput(dataTable, element);\n",
       "          const docLink = document.createElement('div');\n",
       "          docLink.innerHTML = docLinkHtml;\n",
       "          element.appendChild(docLink);\n",
       "        }\n",
       "      </script>\n",
       "    </div>\n",
       "  </div>\n",
       "  "
      ],
      "text/plain": [
       "                    0            1            2  accuracy    macro avg  \\\n",
       "precision    0.719858     0.826194     0.897566  0.858131     0.814539   \n",
       "recall       0.644444     0.803686     0.929134  0.858131     0.792421   \n",
       "f1-score     0.680067     0.814785     0.913077  0.858131     0.802643   \n",
       "support    315.000000  1248.000000  1905.000000  0.858131  3468.000000   \n",
       "\n",
       "           weighted avg  train_time  test_time  \n",
       "precision      0.855741   38.085537   1.235642  \n",
       "recall         0.858131   38.085537   1.235642  \n",
       "f1-score       0.856541   38.085537   1.235642  \n",
       "support     3468.000000   38.085537   1.235642  "
      ]
     },
     "execution_count": 86,
     "metadata": {},
     "output_type": "execute_result"
    }
   ],
   "source": [
    "reviews_m5_results"
   ]
  },
  {
   "cell_type": "markdown",
   "id": "f83fa3c0",
   "metadata": {
    "id": "f83fa3c0"
   },
   "source": [
    "From all of the models, the best results in the end were on the augmented data set using the best parameters we found using random search by using the Adam optimizer for accuracy. The difference between the augmented and the normal data set were very minor in the end with 83% and 84% respectively."
   ]
  },
  {
   "cell_type": "markdown",
   "id": "d6294856",
   "metadata": {
    "id": "d6294856"
   },
   "source": [
    "## 4. Model development - News"
   ]
  },
  {
   "cell_type": "code",
   "execution_count": null,
   "id": "eXYxhwvcySBZ",
   "metadata": {
    "id": "eXYxhwvcySBZ"
   },
   "outputs": [],
   "source": [
    "X_train = X_train_news.copy()\n",
    "y_train = y_train_news.copy()\n",
    "X_test = X_test_news.copy()\n",
    "y_test = y_test_news.copy()\n",
    "X_valid = X_valid_news.copy()\n",
    "y_valid = y_valid_news.copy()"
   ]
  },
  {
   "cell_type": "code",
   "execution_count": null,
   "id": "qnq4wlTRySBa",
   "metadata": {
    "id": "qnq4wlTRySBa"
   },
   "outputs": [],
   "source": [
    "X_train = clean_news_data(X_train)\n",
    "X_valid = clean_news_data(X_valid)\n",
    "X_test = clean_news_data(X_test)"
   ]
  },
  {
   "cell_type": "code",
   "execution_count": null,
   "id": "7MKFSEATySBa",
   "metadata": {
    "id": "7MKFSEATySBa"
   },
   "outputs": [],
   "source": [
    "categories = [['negative', 'neutral', 'positive']]\n",
    "ohe = OneHotEncoder(categories=categories)\n",
    "\n",
    "y_train = ohe.fit_transform(y_train.values.reshape(-1, 1)).toarray()\n",
    "y_valid = ohe.transform(y_valid.values.reshape(-1, 1)).toarray()\n",
    "y_test = ohe.transform(y_test.values.reshape(-1, 1)).toarray()"
   ]
  },
  {
   "cell_type": "code",
   "execution_count": null,
   "id": "4f244e58",
   "metadata": {
    "id": "4f244e58"
   },
   "outputs": [],
   "source": [
    "X_train = X_train_news.copy()\n",
    "y_train = y_train_news.copy()\n",
    "X_test = X_test_news.copy()\n",
    "y_test = y_test_news.copy()\n",
    "X_valid = X_valid_news.copy()\n",
    "y_valid = y_valid_news.copy()\n",
    "\n",
    "X_train = clean_news_data(X_train)\n",
    "X_valid = clean_news_data(X_valid)\n",
    "X_test = clean_news_data(X_test)"
   ]
  },
  {
   "cell_type": "markdown",
   "id": "13fe1034",
   "metadata": {
    "id": "13fe1034"
   },
   "source": [
    "### 4.1. Model 1 - base\n",
    "Again, same thing starting with a bit bigger parameters than the average and going from there."
   ]
  },
  {
   "cell_type": "code",
   "execution_count": 87,
   "id": "bf5bfdf1",
   "metadata": {
    "executionInfo": {
     "elapsed": 421,
     "status": "ok",
     "timestamp": 1677265192693,
     "user": {
      "displayName": "Branimir Raguž",
      "userId": "04099229421659579348"
     },
     "user_tz": -60
    },
    "id": "bf5bfdf1"
   },
   "outputs": [],
   "source": [
    "# setting the vocabulary and sentence length\n",
    "voc_size = 10000\n",
    "sent_length = 150\n",
    "embedding_vector_features = 50"
   ]
  },
  {
   "cell_type": "code",
   "execution_count": 88,
   "id": "ZF-fHBM-ye7k",
   "metadata": {
    "executionInfo": {
     "elapsed": 4,
     "status": "ok",
     "timestamp": 1677265193151,
     "user": {
      "displayName": "Branimir Raguž",
      "userId": "04099229421659579348"
     },
     "user_tz": -60
    },
    "id": "ZF-fHBM-ye7k"
   },
   "outputs": [],
   "source": [
    "X_train = X_train_news.copy()\n",
    "y_train = y_train_news.copy()\n",
    "X_test = X_test_news.copy()\n",
    "y_test = y_test_news.copy()\n",
    "X_valid = X_valid_news.copy()\n",
    "y_valid = y_valid_news.copy()"
   ]
  },
  {
   "cell_type": "code",
   "execution_count": 89,
   "id": "Rxdj924byj6l",
   "metadata": {
    "executionInfo": {
     "elapsed": 45221,
     "status": "ok",
     "timestamp": 1677265239791,
     "user": {
      "displayName": "Branimir Raguž",
      "userId": "04099229421659579348"
     },
     "user_tz": -60
    },
    "id": "Rxdj924byj6l"
   },
   "outputs": [],
   "source": [
    "X_train = clean_news_data(X_train)\n",
    "X_valid = clean_news_data(X_valid)\n",
    "X_test = clean_news_data(X_test)"
   ]
  },
  {
   "cell_type": "code",
   "execution_count": 90,
   "id": "8c857b34",
   "metadata": {
    "executionInfo": {
     "elapsed": 4149,
     "status": "ok",
     "timestamp": 1677265243912,
     "user": {
      "displayName": "Branimir Raguž",
      "userId": "04099229421659579348"
     },
     "user_tz": -60
    },
    "id": "8c857b34"
   },
   "outputs": [],
   "source": [
    "X_train, y_train = preprocessing_news(X_train, y_train, sent_length)\n",
    "X_valid, y_valid = preprocessing_news(X_valid, y_valid, sent_length)\n",
    "X_test, y_test = preprocessing_news(X_test, y_test, sent_length)"
   ]
  },
  {
   "cell_type": "code",
   "execution_count": 92,
   "id": "1II0GJgvyozl",
   "metadata": {
    "executionInfo": {
     "elapsed": 898,
     "status": "ok",
     "timestamp": 1677265274302,
     "user": {
      "displayName": "Branimir Raguž",
      "userId": "04099229421659579348"
     },
     "user_tz": -60
    },
    "id": "1II0GJgvyozl"
   },
   "outputs": [],
   "source": [
    "categories = [[1, 2, 3, 4]]\n",
    "ohe = OneHotEncoder(categories=categories)\n",
    "\n",
    "y_train = ohe.fit_transform(y_train.values.reshape(-1, 1)).toarray()\n",
    "y_valid = ohe.transform(y_valid.values.reshape(-1, 1)).toarray()\n",
    "y_test = ohe.transform(y_test.values.reshape(-1, 1)).toarray()"
   ]
  },
  {
   "cell_type": "code",
   "execution_count": 93,
   "id": "948ba612",
   "metadata": {
    "colab": {
     "base_uri": "https://localhost:8080/"
    },
    "executionInfo": {
     "elapsed": 416,
     "status": "ok",
     "timestamp": 1677265282867,
     "user": {
      "displayName": "Branimir Raguž",
      "userId": "04099229421659579348"
     },
     "user_tz": -60
    },
    "id": "948ba612",
    "outputId": "1ac731dd-8e95-4286-b3a6-d5365dabd19b",
    "scrolled": true
   },
   "outputs": [
    {
     "name": "stdout",
     "output_type": "stream",
     "text": [
      "Model: \"sequential_5\"\n",
      "_________________________________________________________________\n",
      " Layer (type)                Output Shape              Param #   \n",
      "=================================================================\n",
      " embedding_5 (Embedding)     (None, 150, 50)           500000    \n",
      "                                                                 \n",
      " lstm_5 (LSTM)               (None, 100)               60400     \n",
      "                                                                 \n",
      " dense_7 (Dense)             (None, 4)                 404       \n",
      "                                                                 \n",
      "=================================================================\n",
      "Total params: 560,804\n",
      "Trainable params: 560,804\n",
      "Non-trainable params: 0\n",
      "_________________________________________________________________\n",
      "None\n"
     ]
    }
   ],
   "source": [
    "# creating the base LSTM model\n",
    "\n",
    "model = Sequential()\n",
    "model.add(Embedding(voc_size,embedding_vector_features,input_length=sent_length))\n",
    "model.add(LSTM(100))\n",
    "model.add(Dense(4, activation='softmax'))\n",
    "model.compile(loss = 'categorical_crossentropy', optimizer = 'adam', metrics = ['accuracy'])\n",
    "print(model.summary())"
   ]
  },
  {
   "cell_type": "code",
   "execution_count": 94,
   "id": "dd9e1d88",
   "metadata": {
    "colab": {
     "base_uri": "https://localhost:8080/"
    },
    "executionInfo": {
     "elapsed": 84538,
     "status": "ok",
     "timestamp": 1677265370802,
     "user": {
      "displayName": "Branimir Raguž",
      "userId": "04099229421659579348"
     },
     "user_tz": -60
    },
    "id": "dd9e1d88",
    "outputId": "412dd09f-fe77-4c74-cbda-5d21ac597b47"
   },
   "outputs": [
    {
     "name": "stdout",
     "output_type": "stream",
     "text": [
      "2813/2813 [==============================] - 56s 19ms/step - loss: 0.3759 - accuracy: 0.8712\n",
      "238/238 [==============================] - 1s 4ms/step\n"
     ]
    }
   ],
   "source": [
    "# training and predicting\n",
    "\n",
    "start=time.time()\n",
    "model.fit(X_train, y_train)\n",
    "end=time.time()\n",
    "\n",
    "train_time = end - start\n",
    "\n",
    "start=time.time()\n",
    "y_pred = model.predict(X_test)\n",
    "end=time.time()\n",
    "\n",
    "test_time = end - start"
   ]
  },
  {
   "cell_type": "code",
   "execution_count": 95,
   "id": "571bdbf1",
   "metadata": {
    "colab": {
     "base_uri": "https://localhost:8080/"
    },
    "executionInfo": {
     "elapsed": 2137,
     "status": "ok",
     "timestamp": 1677265377240,
     "user": {
      "displayName": "Branimir Raguž",
      "userId": "04099229421659579348"
     },
     "user_tz": -60
    },
    "id": "571bdbf1",
    "outputId": "81b4245a-b641-4db0-8ec7-71b129978cb1"
   },
   "outputs": [
    {
     "name": "stdout",
     "output_type": "stream",
     "text": [
      "Keras weights file (<HDF5 file \"variables.h5\" (mode r+)>) saving:\n",
      "...layers\n",
      "......dense\n",
      ".........vars\n",
      "............0\n",
      "............1\n",
      "......embedding\n",
      ".........vars\n",
      "............0\n",
      "......lstm\n",
      ".........cell\n",
      "............vars\n",
      "...............0\n",
      "...............1\n",
      "...............2\n",
      ".........vars\n",
      "...metrics\n",
      "......mean\n",
      ".........vars\n",
      "............0\n",
      "............1\n",
      "......mean_metric_wrapper\n",
      ".........vars\n",
      "............0\n",
      "............1\n",
      "...optimizer\n",
      "......vars\n",
      ".........0\n",
      ".........1\n",
      ".........10\n",
      ".........11\n",
      ".........12\n",
      ".........2\n",
      ".........3\n",
      ".........4\n",
      ".........5\n",
      ".........6\n",
      ".........7\n",
      ".........8\n",
      ".........9\n",
      "...vars\n",
      "Keras model archive saving:\n",
      "File Name                                             Modified             Size\n",
      "config.json                                    2023-02-24 19:02:55         2219\n",
      "metadata.json                                  2023-02-24 19:02:55           64\n",
      "variables.h5                                   2023-02-24 19:02:55      6755904\n"
     ]
    }
   ],
   "source": [
    "# adjust the y_pred and the y_test\n",
    "y_pred = np.argmax(y_pred, axis = 1)\n",
    "y_test = np.argmax(y_test, axis = 1)\n",
    "\n",
    "news_m1_results = classification_report(y_test, y_pred, output_dict=True)\n",
    "\n",
    "news_m1_results['train_time'] = train_time\n",
    "news_m1_results['test_time'] = test_time\n",
    "news_m1_results = pd.DataFrame.from_dict(news_m1_results)\n",
    "news_m1_results.to_csv('results/lstm/news/model_1.csv')\n",
    "pickle.dump(model, open('models/lstm/news/model_1.sav', 'wb'))"
   ]
  },
  {
   "cell_type": "code",
   "execution_count": 96,
   "id": "d12e860f",
   "metadata": {
    "colab": {
     "base_uri": "https://localhost:8080/",
     "height": 175
    },
    "executionInfo": {
     "elapsed": 10,
     "status": "ok",
     "timestamp": 1677265380136,
     "user": {
      "displayName": "Branimir Raguž",
      "userId": "04099229421659579348"
     },
     "user_tz": -60
    },
    "id": "d12e860f",
    "outputId": "1d3c924d-e2e4-4900-bc24-d36a77839711"
   },
   "outputs": [
    {
     "data": {
      "text/html": [
       "\n",
       "  <div id=\"df-a6fa0e74-8a57-41d1-a6ae-4a7f2e635d66\">\n",
       "    <div class=\"colab-df-container\">\n",
       "      <div>\n",
       "<style scoped>\n",
       "    .dataframe tbody tr th:only-of-type {\n",
       "        vertical-align: middle;\n",
       "    }\n",
       "\n",
       "    .dataframe tbody tr th {\n",
       "        vertical-align: top;\n",
       "    }\n",
       "\n",
       "    .dataframe thead th {\n",
       "        text-align: right;\n",
       "    }\n",
       "</style>\n",
       "<table border=\"1\" class=\"dataframe\">\n",
       "  <thead>\n",
       "    <tr style=\"text-align: right;\">\n",
       "      <th></th>\n",
       "      <th>0</th>\n",
       "      <th>1</th>\n",
       "      <th>2</th>\n",
       "      <th>3</th>\n",
       "      <th>accuracy</th>\n",
       "      <th>macro avg</th>\n",
       "      <th>weighted avg</th>\n",
       "      <th>train_time</th>\n",
       "      <th>test_time</th>\n",
       "    </tr>\n",
       "  </thead>\n",
       "  <tbody>\n",
       "    <tr>\n",
       "      <th>precision</th>\n",
       "      <td>0.934955</td>\n",
       "      <td>0.924812</td>\n",
       "      <td>0.879956</td>\n",
       "      <td>0.844631</td>\n",
       "      <td>0.895132</td>\n",
       "      <td>0.896089</td>\n",
       "      <td>0.896089</td>\n",
       "      <td>83.513696</td>\n",
       "      <td>1.598917</td>\n",
       "    </tr>\n",
       "    <tr>\n",
       "      <th>recall</th>\n",
       "      <td>0.870000</td>\n",
       "      <td>0.971053</td>\n",
       "      <td>0.841053</td>\n",
       "      <td>0.898421</td>\n",
       "      <td>0.895132</td>\n",
       "      <td>0.895132</td>\n",
       "      <td>0.895132</td>\n",
       "      <td>83.513696</td>\n",
       "      <td>1.598917</td>\n",
       "    </tr>\n",
       "    <tr>\n",
       "      <th>f1-score</th>\n",
       "      <td>0.901309</td>\n",
       "      <td>0.947368</td>\n",
       "      <td>0.860065</td>\n",
       "      <td>0.870696</td>\n",
       "      <td>0.895132</td>\n",
       "      <td>0.894859</td>\n",
       "      <td>0.894859</td>\n",
       "      <td>83.513696</td>\n",
       "      <td>1.598917</td>\n",
       "    </tr>\n",
       "    <tr>\n",
       "      <th>support</th>\n",
       "      <td>1900.000000</td>\n",
       "      <td>1900.000000</td>\n",
       "      <td>1900.000000</td>\n",
       "      <td>1900.000000</td>\n",
       "      <td>0.895132</td>\n",
       "      <td>7600.000000</td>\n",
       "      <td>7600.000000</td>\n",
       "      <td>83.513696</td>\n",
       "      <td>1.598917</td>\n",
       "    </tr>\n",
       "  </tbody>\n",
       "</table>\n",
       "</div>\n",
       "      <button class=\"colab-df-convert\" onclick=\"convertToInteractive('df-a6fa0e74-8a57-41d1-a6ae-4a7f2e635d66')\"\n",
       "              title=\"Convert this dataframe to an interactive table.\"\n",
       "              style=\"display:none;\">\n",
       "        \n",
       "  <svg xmlns=\"http://www.w3.org/2000/svg\" height=\"24px\"viewBox=\"0 0 24 24\"\n",
       "       width=\"24px\">\n",
       "    <path d=\"M0 0h24v24H0V0z\" fill=\"none\"/>\n",
       "    <path d=\"M18.56 5.44l.94 2.06.94-2.06 2.06-.94-2.06-.94-.94-2.06-.94 2.06-2.06.94zm-11 1L8.5 8.5l.94-2.06 2.06-.94-2.06-.94L8.5 2.5l-.94 2.06-2.06.94zm10 10l.94 2.06.94-2.06 2.06-.94-2.06-.94-.94-2.06-.94 2.06-2.06.94z\"/><path d=\"M17.41 7.96l-1.37-1.37c-.4-.4-.92-.59-1.43-.59-.52 0-1.04.2-1.43.59L10.3 9.45l-7.72 7.72c-.78.78-.78 2.05 0 2.83L4 21.41c.39.39.9.59 1.41.59.51 0 1.02-.2 1.41-.59l7.78-7.78 2.81-2.81c.8-.78.8-2.07 0-2.86zM5.41 20L4 18.59l7.72-7.72 1.47 1.35L5.41 20z\"/>\n",
       "  </svg>\n",
       "      </button>\n",
       "      \n",
       "  <style>\n",
       "    .colab-df-container {\n",
       "      display:flex;\n",
       "      flex-wrap:wrap;\n",
       "      gap: 12px;\n",
       "    }\n",
       "\n",
       "    .colab-df-convert {\n",
       "      background-color: #E8F0FE;\n",
       "      border: none;\n",
       "      border-radius: 50%;\n",
       "      cursor: pointer;\n",
       "      display: none;\n",
       "      fill: #1967D2;\n",
       "      height: 32px;\n",
       "      padding: 0 0 0 0;\n",
       "      width: 32px;\n",
       "    }\n",
       "\n",
       "    .colab-df-convert:hover {\n",
       "      background-color: #E2EBFA;\n",
       "      box-shadow: 0px 1px 2px rgba(60, 64, 67, 0.3), 0px 1px 3px 1px rgba(60, 64, 67, 0.15);\n",
       "      fill: #174EA6;\n",
       "    }\n",
       "\n",
       "    [theme=dark] .colab-df-convert {\n",
       "      background-color: #3B4455;\n",
       "      fill: #D2E3FC;\n",
       "    }\n",
       "\n",
       "    [theme=dark] .colab-df-convert:hover {\n",
       "      background-color: #434B5C;\n",
       "      box-shadow: 0px 1px 3px 1px rgba(0, 0, 0, 0.15);\n",
       "      filter: drop-shadow(0px 1px 2px rgba(0, 0, 0, 0.3));\n",
       "      fill: #FFFFFF;\n",
       "    }\n",
       "  </style>\n",
       "\n",
       "      <script>\n",
       "        const buttonEl =\n",
       "          document.querySelector('#df-a6fa0e74-8a57-41d1-a6ae-4a7f2e635d66 button.colab-df-convert');\n",
       "        buttonEl.style.display =\n",
       "          google.colab.kernel.accessAllowed ? 'block' : 'none';\n",
       "\n",
       "        async function convertToInteractive(key) {\n",
       "          const element = document.querySelector('#df-a6fa0e74-8a57-41d1-a6ae-4a7f2e635d66');\n",
       "          const dataTable =\n",
       "            await google.colab.kernel.invokeFunction('convertToInteractive',\n",
       "                                                     [key], {});\n",
       "          if (!dataTable) return;\n",
       "\n",
       "          const docLinkHtml = 'Like what you see? Visit the ' +\n",
       "            '<a target=\"_blank\" href=https://colab.research.google.com/notebooks/data_table.ipynb>data table notebook</a>'\n",
       "            + ' to learn more about interactive tables.';\n",
       "          element.innerHTML = '';\n",
       "          dataTable['output_type'] = 'display_data';\n",
       "          await google.colab.output.renderOutput(dataTable, element);\n",
       "          const docLink = document.createElement('div');\n",
       "          docLink.innerHTML = docLinkHtml;\n",
       "          element.appendChild(docLink);\n",
       "        }\n",
       "      </script>\n",
       "    </div>\n",
       "  </div>\n",
       "  "
      ],
      "text/plain": [
       "                     0            1            2            3  accuracy  \\\n",
       "precision     0.934955     0.924812     0.879956     0.844631  0.895132   \n",
       "recall        0.870000     0.971053     0.841053     0.898421  0.895132   \n",
       "f1-score      0.901309     0.947368     0.860065     0.870696  0.895132   \n",
       "support    1900.000000  1900.000000  1900.000000  1900.000000  0.895132   \n",
       "\n",
       "             macro avg  weighted avg  train_time  test_time  \n",
       "precision     0.896089      0.896089   83.513696   1.598917  \n",
       "recall        0.895132      0.895132   83.513696   1.598917  \n",
       "f1-score      0.894859      0.894859   83.513696   1.598917  \n",
       "support    7600.000000   7600.000000   83.513696   1.598917  "
      ]
     },
     "execution_count": 96,
     "metadata": {},
     "output_type": "execute_result"
    }
   ],
   "source": [
    "news_m1_results"
   ]
  },
  {
   "cell_type": "markdown",
   "id": "5eee0fd0",
   "metadata": {
    "id": "5eee0fd0"
   },
   "source": [
    "Again, we used model.fit with multiple epochs to see how the model functions better, but we removed it from the notebook for the sake of making everything consistent and clean.\n",
    "\n",
    "We got an accuracy of 89.5% which is a great start, we will try to do experiment in the same manner as we did in the first data set, and see if we could improve the results."
   ]
  },
  {
   "cell_type": "markdown",
   "id": "ec02252c",
   "metadata": {
    "id": "ec02252c"
   },
   "source": [
    "### 4.2. Model 2 - bigger parameters"
   ]
  },
  {
   "cell_type": "code",
   "execution_count": 97,
   "id": "a65a7b62",
   "metadata": {
    "executionInfo": {
     "elapsed": 7,
     "status": "ok",
     "timestamp": 1677265427576,
     "user": {
      "displayName": "Branimir Raguž",
      "userId": "04099229421659579348"
     },
     "user_tz": -60
    },
    "id": "a65a7b62"
   },
   "outputs": [],
   "source": [
    "# setting the vocabulary and sentence length\n",
    "voc_size = 20000\n",
    "sent_length = 200\n",
    "embedding_vector_features = 100"
   ]
  },
  {
   "cell_type": "code",
   "execution_count": 98,
   "id": "XnUoZ2RkzzqG",
   "metadata": {
    "executionInfo": {
     "elapsed": 7,
     "status": "ok",
     "timestamp": 1677265427577,
     "user": {
      "displayName": "Branimir Raguž",
      "userId": "04099229421659579348"
     },
     "user_tz": -60
    },
    "id": "XnUoZ2RkzzqG"
   },
   "outputs": [],
   "source": [
    "X_train = X_train_news.copy()\n",
    "y_train = y_train_news.copy()\n",
    "X_test = X_test_news.copy()\n",
    "y_test = y_test_news.copy()\n",
    "X_valid = X_valid_news.copy()\n",
    "y_valid = y_valid_news.copy()"
   ]
  },
  {
   "cell_type": "code",
   "execution_count": 99,
   "id": "mp_EoKwwzzqH",
   "metadata": {
    "executionInfo": {
     "elapsed": 42791,
     "status": "ok",
     "timestamp": 1677265470362,
     "user": {
      "displayName": "Branimir Raguž",
      "userId": "04099229421659579348"
     },
     "user_tz": -60
    },
    "id": "mp_EoKwwzzqH"
   },
   "outputs": [],
   "source": [
    "X_train = clean_news_data(X_train)\n",
    "X_valid = clean_news_data(X_valid)\n",
    "X_test = clean_news_data(X_test)"
   ]
  },
  {
   "cell_type": "code",
   "execution_count": 100,
   "id": "ggCcv_pPzzqI",
   "metadata": {
    "executionInfo": {
     "elapsed": 2932,
     "status": "ok",
     "timestamp": 1677265473251,
     "user": {
      "displayName": "Branimir Raguž",
      "userId": "04099229421659579348"
     },
     "user_tz": -60
    },
    "id": "ggCcv_pPzzqI"
   },
   "outputs": [],
   "source": [
    "X_train, y_train = preprocessing_news(X_train, y_train, sent_length)\n",
    "X_valid, y_valid = preprocessing_news(X_valid, y_valid, sent_length)\n",
    "X_test, y_test = preprocessing_news(X_test, y_test, sent_length)"
   ]
  },
  {
   "cell_type": "code",
   "execution_count": 101,
   "id": "1lsPam2jzzqI",
   "metadata": {
    "executionInfo": {
     "elapsed": 33,
     "status": "ok",
     "timestamp": 1677265473252,
     "user": {
      "displayName": "Branimir Raguž",
      "userId": "04099229421659579348"
     },
     "user_tz": -60
    },
    "id": "1lsPam2jzzqI"
   },
   "outputs": [],
   "source": [
    "categories = [[1, 2, 3, 4]]\n",
    "ohe = OneHotEncoder(categories=categories)\n",
    "\n",
    "y_train = ohe.fit_transform(y_train.values.reshape(-1, 1)).toarray()\n",
    "y_valid = ohe.transform(y_valid.values.reshape(-1, 1)).toarray()\n",
    "y_test = ohe.transform(y_test.values.reshape(-1, 1)).toarray()"
   ]
  },
  {
   "cell_type": "code",
   "execution_count": 102,
   "id": "69462b5f",
   "metadata": {
    "colab": {
     "base_uri": "https://localhost:8080/"
    },
    "executionInfo": {
     "elapsed": 806,
     "status": "ok",
     "timestamp": 1677265474026,
     "user": {
      "displayName": "Branimir Raguž",
      "userId": "04099229421659579348"
     },
     "user_tz": -60
    },
    "id": "69462b5f",
    "outputId": "44133c77-26b7-4a65-9ba2-57da2e1464ef",
    "scrolled": true
   },
   "outputs": [
    {
     "name": "stdout",
     "output_type": "stream",
     "text": [
      "Model: \"sequential_6\"\n",
      "_________________________________________________________________\n",
      " Layer (type)                Output Shape              Param #   \n",
      "=================================================================\n",
      " embedding_6 (Embedding)     (None, 200, 100)          2000000   \n",
      "                                                                 \n",
      " bidirectional_3 (Bidirectio  (None, 200)              160800    \n",
      " nal)                                                            \n",
      "                                                                 \n",
      " dense_8 (Dense)             (None, 4)                 804       \n",
      "                                                                 \n",
      "=================================================================\n",
      "Total params: 2,161,604\n",
      "Trainable params: 2,161,604\n",
      "Non-trainable params: 0\n",
      "_________________________________________________________________\n",
      "None\n"
     ]
    }
   ],
   "source": [
    "# creating the base LSTM model\n",
    "\n",
    "model = Sequential()\n",
    "model.add(Embedding(voc_size,embedding_vector_features,input_length=sent_length))\n",
    "model.add(Bidirectional(LSTM(100)))\n",
    "model.add(Dense(4, activation='softmax'))\n",
    "model.compile(loss = 'categorical_crossentropy', optimizer = 'adam', metrics = ['accuracy'])\n",
    "print(model.summary())"
   ]
  },
  {
   "cell_type": "code",
   "execution_count": 103,
   "id": "382996f6",
   "metadata": {
    "colab": {
     "base_uri": "https://localhost:8080/"
    },
    "executionInfo": {
     "elapsed": 87189,
     "status": "ok",
     "timestamp": 1677265561206,
     "user": {
      "displayName": "Branimir Raguž",
      "userId": "04099229421659579348"
     },
     "user_tz": -60
    },
    "id": "382996f6",
    "outputId": "e86d6a48-03c7-46e2-f6cf-2a50bbb5e7e9"
   },
   "outputs": [
    {
     "name": "stdout",
     "output_type": "stream",
     "text": [
      "2813/2813 [==============================] - 82s 28ms/step - loss: 0.3515 - accuracy: 0.8785\n",
      "238/238 [==============================] - 2s 7ms/step\n"
     ]
    }
   ],
   "source": [
    "# training and predicting\n",
    "\n",
    "start=time.time()\n",
    "model.fit(X_train, y_train)\n",
    "end=time.time()\n",
    "\n",
    "train_time = end - start\n",
    "\n",
    "start=time.time()\n",
    "y_pred = model.predict(X_test)\n",
    "end=time.time()\n",
    "\n",
    "test_time = end - start"
   ]
  },
  {
   "cell_type": "code",
   "execution_count": 104,
   "id": "4f96ad42",
   "metadata": {
    "colab": {
     "base_uri": "https://localhost:8080/"
    },
    "executionInfo": {
     "elapsed": 2283,
     "status": "ok",
     "timestamp": 1677265563449,
     "user": {
      "displayName": "Branimir Raguž",
      "userId": "04099229421659579348"
     },
     "user_tz": -60
    },
    "id": "4f96ad42",
    "outputId": "335f8d50-c491-471d-c298-f382fbcf4e5d"
   },
   "outputs": [
    {
     "name": "stdout",
     "output_type": "stream",
     "text": [
      "Keras weights file (<HDF5 file \"variables.h5\" (mode r+)>) saving:\n",
      "...layers\n",
      "......bidirectional\n",
      ".........backward_layer\n",
      "............cell\n",
      "...............vars\n",
      "..................0\n",
      "..................1\n",
      "..................2\n",
      "............vars\n",
      ".........forward_layer\n",
      "............cell\n",
      "...............vars\n",
      "..................0\n",
      "..................1\n",
      "..................2\n",
      "............vars\n",
      ".........layer\n",
      "............cell\n",
      "...............vars\n",
      "............vars\n",
      ".........vars\n",
      "......dense\n",
      ".........vars\n",
      "............0\n",
      "............1\n",
      "......embedding\n",
      ".........vars\n",
      "............0\n",
      "...metrics\n",
      "......mean\n",
      ".........vars\n",
      "............0\n",
      "............1\n",
      "......mean_metric_wrapper\n",
      ".........vars\n",
      "............0\n",
      "............1\n",
      "...optimizer\n",
      "......vars\n",
      ".........0\n",
      ".........1\n",
      ".........10\n",
      ".........11\n",
      ".........12\n",
      ".........13\n",
      ".........14\n",
      ".........15\n",
      ".........16\n",
      ".........17\n",
      ".........18\n",
      ".........2\n",
      ".........3\n",
      ".........4\n",
      ".........5\n",
      ".........6\n",
      ".........7\n",
      ".........8\n",
      ".........9\n",
      "...vars\n",
      "Keras model archive saving:\n",
      "File Name                                             Modified             Size\n",
      "config.json                                    2023-02-24 19:06:01         2364\n",
      "metadata.json                                  2023-02-24 19:06:01           64\n",
      "variables.h5                                   2023-02-24 19:06:01     25977848\n"
     ]
    }
   ],
   "source": [
    "# adjust the y_pred and the y_test\n",
    "y_pred = np.argmax(y_pred, axis = 1)\n",
    "y_test = np.argmax(y_test, axis = 1)\n",
    "\n",
    "news_m2_results = classification_report(y_test, y_pred, output_dict=True)\n",
    "\n",
    "news_m2_results['train_time'] = train_time\n",
    "news_m2_results['test_time'] = test_time\n",
    "news_m2_results = pd.DataFrame.from_dict(news_m2_results)\n",
    "news_m2_results.to_csv('results/lstm/news/model_2.csv')\n",
    "pickle.dump(model, open('models/lstm/news/model_2.sav', 'wb'))"
   ]
  },
  {
   "cell_type": "code",
   "execution_count": 105,
   "id": "53977a7c",
   "metadata": {
    "colab": {
     "base_uri": "https://localhost:8080/",
     "height": 175
    },
    "executionInfo": {
     "elapsed": 12,
     "status": "ok",
     "timestamp": 1677265563449,
     "user": {
      "displayName": "Branimir Raguž",
      "userId": "04099229421659579348"
     },
     "user_tz": -60
    },
    "id": "53977a7c",
    "outputId": "07dea624-fbb9-4c58-ccff-e336db1971f3"
   },
   "outputs": [
    {
     "data": {
      "text/html": [
       "\n",
       "  <div id=\"df-725caf78-37d8-4afc-ae46-db56a75cff9b\">\n",
       "    <div class=\"colab-df-container\">\n",
       "      <div>\n",
       "<style scoped>\n",
       "    .dataframe tbody tr th:only-of-type {\n",
       "        vertical-align: middle;\n",
       "    }\n",
       "\n",
       "    .dataframe tbody tr th {\n",
       "        vertical-align: top;\n",
       "    }\n",
       "\n",
       "    .dataframe thead th {\n",
       "        text-align: right;\n",
       "    }\n",
       "</style>\n",
       "<table border=\"1\" class=\"dataframe\">\n",
       "  <thead>\n",
       "    <tr style=\"text-align: right;\">\n",
       "      <th></th>\n",
       "      <th>0</th>\n",
       "      <th>1</th>\n",
       "      <th>2</th>\n",
       "      <th>3</th>\n",
       "      <th>accuracy</th>\n",
       "      <th>macro avg</th>\n",
       "      <th>weighted avg</th>\n",
       "      <th>train_time</th>\n",
       "      <th>test_time</th>\n",
       "    </tr>\n",
       "  </thead>\n",
       "  <tbody>\n",
       "    <tr>\n",
       "      <th>precision</th>\n",
       "      <td>0.952299</td>\n",
       "      <td>0.949205</td>\n",
       "      <td>0.874729</td>\n",
       "      <td>0.845186</td>\n",
       "      <td>0.903553</td>\n",
       "      <td>0.905355</td>\n",
       "      <td>0.905355</td>\n",
       "      <td>84.700018</td>\n",
       "      <td>2.329258</td>\n",
       "    </tr>\n",
       "    <tr>\n",
       "      <th>recall</th>\n",
       "      <td>0.872105</td>\n",
       "      <td>0.973684</td>\n",
       "      <td>0.848947</td>\n",
       "      <td>0.919474</td>\n",
       "      <td>0.903553</td>\n",
       "      <td>0.903553</td>\n",
       "      <td>0.903553</td>\n",
       "      <td>84.700018</td>\n",
       "      <td>2.329258</td>\n",
       "    </tr>\n",
       "    <tr>\n",
       "      <th>f1-score</th>\n",
       "      <td>0.910440</td>\n",
       "      <td>0.961289</td>\n",
       "      <td>0.861645</td>\n",
       "      <td>0.880766</td>\n",
       "      <td>0.903553</td>\n",
       "      <td>0.903535</td>\n",
       "      <td>0.903535</td>\n",
       "      <td>84.700018</td>\n",
       "      <td>2.329258</td>\n",
       "    </tr>\n",
       "    <tr>\n",
       "      <th>support</th>\n",
       "      <td>1900.000000</td>\n",
       "      <td>1900.000000</td>\n",
       "      <td>1900.000000</td>\n",
       "      <td>1900.000000</td>\n",
       "      <td>0.903553</td>\n",
       "      <td>7600.000000</td>\n",
       "      <td>7600.000000</td>\n",
       "      <td>84.700018</td>\n",
       "      <td>2.329258</td>\n",
       "    </tr>\n",
       "  </tbody>\n",
       "</table>\n",
       "</div>\n",
       "      <button class=\"colab-df-convert\" onclick=\"convertToInteractive('df-725caf78-37d8-4afc-ae46-db56a75cff9b')\"\n",
       "              title=\"Convert this dataframe to an interactive table.\"\n",
       "              style=\"display:none;\">\n",
       "        \n",
       "  <svg xmlns=\"http://www.w3.org/2000/svg\" height=\"24px\"viewBox=\"0 0 24 24\"\n",
       "       width=\"24px\">\n",
       "    <path d=\"M0 0h24v24H0V0z\" fill=\"none\"/>\n",
       "    <path d=\"M18.56 5.44l.94 2.06.94-2.06 2.06-.94-2.06-.94-.94-2.06-.94 2.06-2.06.94zm-11 1L8.5 8.5l.94-2.06 2.06-.94-2.06-.94L8.5 2.5l-.94 2.06-2.06.94zm10 10l.94 2.06.94-2.06 2.06-.94-2.06-.94-.94-2.06-.94 2.06-2.06.94z\"/><path d=\"M17.41 7.96l-1.37-1.37c-.4-.4-.92-.59-1.43-.59-.52 0-1.04.2-1.43.59L10.3 9.45l-7.72 7.72c-.78.78-.78 2.05 0 2.83L4 21.41c.39.39.9.59 1.41.59.51 0 1.02-.2 1.41-.59l7.78-7.78 2.81-2.81c.8-.78.8-2.07 0-2.86zM5.41 20L4 18.59l7.72-7.72 1.47 1.35L5.41 20z\"/>\n",
       "  </svg>\n",
       "      </button>\n",
       "      \n",
       "  <style>\n",
       "    .colab-df-container {\n",
       "      display:flex;\n",
       "      flex-wrap:wrap;\n",
       "      gap: 12px;\n",
       "    }\n",
       "\n",
       "    .colab-df-convert {\n",
       "      background-color: #E8F0FE;\n",
       "      border: none;\n",
       "      border-radius: 50%;\n",
       "      cursor: pointer;\n",
       "      display: none;\n",
       "      fill: #1967D2;\n",
       "      height: 32px;\n",
       "      padding: 0 0 0 0;\n",
       "      width: 32px;\n",
       "    }\n",
       "\n",
       "    .colab-df-convert:hover {\n",
       "      background-color: #E2EBFA;\n",
       "      box-shadow: 0px 1px 2px rgba(60, 64, 67, 0.3), 0px 1px 3px 1px rgba(60, 64, 67, 0.15);\n",
       "      fill: #174EA6;\n",
       "    }\n",
       "\n",
       "    [theme=dark] .colab-df-convert {\n",
       "      background-color: #3B4455;\n",
       "      fill: #D2E3FC;\n",
       "    }\n",
       "\n",
       "    [theme=dark] .colab-df-convert:hover {\n",
       "      background-color: #434B5C;\n",
       "      box-shadow: 0px 1px 3px 1px rgba(0, 0, 0, 0.15);\n",
       "      filter: drop-shadow(0px 1px 2px rgba(0, 0, 0, 0.3));\n",
       "      fill: #FFFFFF;\n",
       "    }\n",
       "  </style>\n",
       "\n",
       "      <script>\n",
       "        const buttonEl =\n",
       "          document.querySelector('#df-725caf78-37d8-4afc-ae46-db56a75cff9b button.colab-df-convert');\n",
       "        buttonEl.style.display =\n",
       "          google.colab.kernel.accessAllowed ? 'block' : 'none';\n",
       "\n",
       "        async function convertToInteractive(key) {\n",
       "          const element = document.querySelector('#df-725caf78-37d8-4afc-ae46-db56a75cff9b');\n",
       "          const dataTable =\n",
       "            await google.colab.kernel.invokeFunction('convertToInteractive',\n",
       "                                                     [key], {});\n",
       "          if (!dataTable) return;\n",
       "\n",
       "          const docLinkHtml = 'Like what you see? Visit the ' +\n",
       "            '<a target=\"_blank\" href=https://colab.research.google.com/notebooks/data_table.ipynb>data table notebook</a>'\n",
       "            + ' to learn more about interactive tables.';\n",
       "          element.innerHTML = '';\n",
       "          dataTable['output_type'] = 'display_data';\n",
       "          await google.colab.output.renderOutput(dataTable, element);\n",
       "          const docLink = document.createElement('div');\n",
       "          docLink.innerHTML = docLinkHtml;\n",
       "          element.appendChild(docLink);\n",
       "        }\n",
       "      </script>\n",
       "    </div>\n",
       "  </div>\n",
       "  "
      ],
      "text/plain": [
       "                     0            1            2            3  accuracy  \\\n",
       "precision     0.952299     0.949205     0.874729     0.845186  0.903553   \n",
       "recall        0.872105     0.973684     0.848947     0.919474  0.903553   \n",
       "f1-score      0.910440     0.961289     0.861645     0.880766  0.903553   \n",
       "support    1900.000000  1900.000000  1900.000000  1900.000000  0.903553   \n",
       "\n",
       "             macro avg  weighted avg  train_time  test_time  \n",
       "precision     0.905355      0.905355   84.700018   2.329258  \n",
       "recall        0.903553      0.903553   84.700018   2.329258  \n",
       "f1-score      0.903535      0.903535   84.700018   2.329258  \n",
       "support    7600.000000   7600.000000   84.700018   2.329258  "
      ]
     },
     "execution_count": 105,
     "metadata": {},
     "output_type": "execute_result"
    }
   ],
   "source": [
    "news_m2_results"
   ]
  },
  {
   "cell_type": "markdown",
   "id": "ad830b7e",
   "metadata": {},
   "source": [
    "Just a slight increase in performance after increasing the voc_size and sent_length, which means the older values already capture enough information and increasin the size would only make our model run slower without much benefit."
   ]
  },
  {
   "cell_type": "markdown",
   "id": "IbQ_0v_XsUJD",
   "metadata": {
    "id": "IbQ_0v_XsUJD"
   },
   "source": [
    "### News, Hyperparameter tuning"
   ]
  },
  {
   "cell_type": "code",
   "execution_count": 106,
   "id": "JPrlpR6A8Hmo",
   "metadata": {
    "executionInfo": {
     "elapsed": 1016,
     "status": "ok",
     "timestamp": 1677265576843,
     "user": {
      "displayName": "Branimir Raguž",
      "userId": "04099229421659579348"
     },
     "user_tz": -60
    },
    "id": "JPrlpR6A8Hmo"
   },
   "outputs": [],
   "source": [
    "# setting the vocabulary and sentence length\n",
    "voc_size = 20000\n",
    "sent_length = 200\n",
    "embedding_vector_features = 50"
   ]
  },
  {
   "cell_type": "code",
   "execution_count": 107,
   "id": "uKW6GGlU0ZW3",
   "metadata": {
    "executionInfo": {
     "elapsed": 19,
     "status": "ok",
     "timestamp": 1677265577848,
     "user": {
      "displayName": "Branimir Raguž",
      "userId": "04099229421659579348"
     },
     "user_tz": -60
    },
    "id": "uKW6GGlU0ZW3"
   },
   "outputs": [],
   "source": [
    "X_train = X_train_news.copy()\n",
    "y_train = y_train_news.copy()\n",
    "X_test = X_test_news.copy()\n",
    "y_test = y_test_news.copy()\n",
    "X_valid = X_valid_news.copy()\n",
    "y_valid = y_valid_news.copy()"
   ]
  },
  {
   "cell_type": "code",
   "execution_count": 109,
   "id": "OyHPnD4e0ZW4",
   "metadata": {
    "executionInfo": {
     "elapsed": 41762,
     "status": "ok",
     "timestamp": 1677265654204,
     "user": {
      "displayName": "Branimir Raguž",
      "userId": "04099229421659579348"
     },
     "user_tz": -60
    },
    "id": "OyHPnD4e0ZW4"
   },
   "outputs": [],
   "source": [
    "X_train = clean_news_data(X_train)\n",
    "X_valid = clean_news_data(X_valid)\n",
    "X_test = clean_news_data(X_test)"
   ]
  },
  {
   "cell_type": "code",
   "execution_count": 110,
   "id": "595lrxfp0ZW4",
   "metadata": {
    "executionInfo": {
     "elapsed": 4274,
     "status": "ok",
     "timestamp": 1677265658449,
     "user": {
      "displayName": "Branimir Raguž",
      "userId": "04099229421659579348"
     },
     "user_tz": -60
    },
    "id": "595lrxfp0ZW4"
   },
   "outputs": [],
   "source": [
    "X_train, y_train = preprocessing_news(X_train, y_train, sent_length)\n",
    "X_valid, y_valid = preprocessing_news(X_valid, y_valid, sent_length)\n",
    "X_test, y_test = preprocessing_news(X_test, y_test, sent_length)"
   ]
  },
  {
   "cell_type": "code",
   "execution_count": 111,
   "id": "ifMjAqmd0ZW5",
   "metadata": {
    "executionInfo": {
     "elapsed": 30,
     "status": "ok",
     "timestamp": 1677265658450,
     "user": {
      "displayName": "Branimir Raguž",
      "userId": "04099229421659579348"
     },
     "user_tz": -60
    },
    "id": "ifMjAqmd0ZW5"
   },
   "outputs": [],
   "source": [
    "categories = [[1, 2, 3, 4]]\n",
    "ohe = OneHotEncoder(categories=categories)\n",
    "\n",
    "y_train = ohe.fit_transform(y_train.values.reshape(-1, 1)).toarray()\n",
    "y_valid = ohe.transform(y_valid.values.reshape(-1, 1)).toarray()\n",
    "y_test = ohe.transform(y_test.values.reshape(-1, 1)).toarray()"
   ]
  },
  {
   "cell_type": "code",
   "execution_count": null,
   "id": "80Jc4HufsZa6",
   "metadata": {
    "id": "80Jc4HufsZa6"
   },
   "outputs": [],
   "source": [
    "def create_model(hp):\n",
    "    model = Sequential()\n",
    "    model.add(Embedding(\n",
    "        input_dim=hp.Int('voc_size', 15000, 30000, step=5000),\n",
    "        output_dim=hp.Int('embedding_size', 32, 160, 32),\n",
    "        input_length = 200))    \n",
    "    model.add(Bidirectional(LSTM(units=hp.Int('LSTM_units', 32, 128, 32))))\n",
    "    model.add(Dense(units=hp.Int('dense_units', 10, 50, 10), activation=hp.Choice('dense_activation', values=['relu', 'sigmoid', 'tanh'])))\n",
    "    model.add(Dense(units=4, activation='softmax'))\n",
    "    model.compile(\n",
    "        optimizer=Adam(hp.Choice('learning_rate', values=[0.01, 0.001, 0.0001])),\n",
    "        loss=CategoricalCrossentropy(),\n",
    "        metrics=[Accuracy()]\n",
    "    )\n",
    "    return model"
   ]
  },
  {
   "cell_type": "code",
   "execution_count": null,
   "id": "YULrVqPvsrBw",
   "metadata": {
    "id": "YULrVqPvsrBw"
   },
   "outputs": [],
   "source": [
    "tuner = RandomSearch(\n",
    "    create_model,\n",
    "    objective='val_accuracy',\n",
    "    max_trials=10,\n",
    "    executions_per_trial=3,\n",
    "    directory='tuning',\n",
    "    project_name='news'\n",
    ")"
   ]
  },
  {
   "cell_type": "code",
   "execution_count": null,
   "id": "QIldjkecsskH",
   "metadata": {
    "colab": {
     "base_uri": "https://localhost:8080/"
    },
    "executionInfo": {
     "elapsed": 1806651,
     "status": "ok",
     "timestamp": 1677171457673,
     "user": {
      "displayName": "Branimir Raguž",
      "userId": "04099229421659579348"
     },
     "user_tz": -60
    },
    "id": "QIldjkecsskH",
    "outputId": "bbe68731-723c-47ce-9c4b-a112ad43f427"
   },
   "outputs": [
    {
     "name": "stdout",
     "output_type": "stream",
     "text": [
      "Trial 10 Complete [00h 03m 57s]\n",
      "val_accuracy: 0.0\n",
      "\n",
      "Best val_accuracy So Far: 0.0\n",
      "Total elapsed time: 00h 30m 05s\n"
     ]
    }
   ],
   "source": [
    "tuner.search(X_train, y_train, epochs=3, validation_data=(X_valid, y_valid))"
   ]
  },
  {
   "cell_type": "code",
   "execution_count": null,
   "id": "PMqhQhHZsu6i",
   "metadata": {
    "id": "PMqhQhHZsu6i"
   },
   "outputs": [],
   "source": [
    "best_hyperparameters = tuner.get_best_hyperparameters(num_trials=1)[0]\n",
    "model = tuner.hypermodel.build(best_hyperparameters)"
   ]
  },
  {
   "cell_type": "code",
   "execution_count": null,
   "id": "7QqLGXlKswjf",
   "metadata": {
    "colab": {
     "base_uri": "https://localhost:8080/"
    },
    "executionInfo": {
     "elapsed": 440,
     "status": "ok",
     "timestamp": 1677173148724,
     "user": {
      "displayName": "Branimir Raguž",
      "userId": "04099229421659579348"
     },
     "user_tz": -60
    },
    "id": "7QqLGXlKswjf",
    "outputId": "8dd6255d-36b5-4f32-ae20-cf64f75085f8"
   },
   "outputs": [
    {
     "data": {
      "text/plain": [
       "{'voc_size': 30000,\n",
       " 'embedding_size': 32,\n",
       " 'LSTM_units': 96,\n",
       " 'dense_units': 40,\n",
       " 'dense_activation': 'tanh',\n",
       " 'learning_rate': 0.001}"
      ]
     },
     "execution_count": 51,
     "metadata": {},
     "output_type": "execute_result"
    }
   ],
   "source": [
    "best_hyperparameters.values"
   ]
  },
  {
   "cell_type": "markdown",
   "id": "rntXN9WzUVeF",
   "metadata": {
    "id": "rntXN9WzUVeF"
   },
   "source": [
    "{'voc_size': 30000,\n",
    " 'embedding_size': 32,\n",
    " 'LSTM_units': 96,\n",
    " 'dense_units': 40,\n",
    " 'dense_activation': 'tanh',\n",
    " 'learning_rate': 0.001}"
   ]
  },
  {
   "cell_type": "markdown",
   "id": "VoYDdfK_UO3V",
   "metadata": {
    "id": "VoYDdfK_UO3V"
   },
   "source": [
    "### 3.3. Model 3 - with best parameters"
   ]
  },
  {
   "cell_type": "code",
   "execution_count": 112,
   "id": "Jt8zPc_Qsy2D",
   "metadata": {
    "executionInfo": {
     "elapsed": 2,
     "status": "ok",
     "timestamp": 1677265706701,
     "user": {
      "displayName": "Branimir Raguž",
      "userId": "04099229421659579348"
     },
     "user_tz": -60
    },
    "id": "Jt8zPc_Qsy2D"
   },
   "outputs": [],
   "source": [
    "# setting the vocabulary and sentence length\n",
    "voc_size = 30000\n",
    "sent_length = 200\n",
    "embedding_vector_features = 32"
   ]
  },
  {
   "cell_type": "code",
   "execution_count": 113,
   "id": "9MdR_97U0du5",
   "metadata": {
    "executionInfo": {
     "elapsed": 2,
     "status": "ok",
     "timestamp": 1677265707119,
     "user": {
      "displayName": "Branimir Raguž",
      "userId": "04099229421659579348"
     },
     "user_tz": -60
    },
    "id": "9MdR_97U0du5"
   },
   "outputs": [],
   "source": [
    "X_train = X_train_news.copy()\n",
    "y_train = y_train_news.copy()\n",
    "X_test = X_test_news.copy()\n",
    "y_test = y_test_news.copy()\n",
    "X_valid = X_valid_news.copy()\n",
    "y_valid = y_valid_news.copy()"
   ]
  },
  {
   "cell_type": "code",
   "execution_count": 114,
   "id": "TuV-4peX0du6",
   "metadata": {
    "executionInfo": {
     "elapsed": 41901,
     "status": "ok",
     "timestamp": 1677265749976,
     "user": {
      "displayName": "Branimir Raguž",
      "userId": "04099229421659579348"
     },
     "user_tz": -60
    },
    "id": "TuV-4peX0du6"
   },
   "outputs": [],
   "source": [
    "X_train = clean_news_data(X_train)\n",
    "X_valid = clean_news_data(X_valid)\n",
    "X_test = clean_news_data(X_test)"
   ]
  },
  {
   "cell_type": "code",
   "execution_count": 115,
   "id": "c4OtFW0A0du6",
   "metadata": {
    "executionInfo": {
     "elapsed": 3921,
     "status": "ok",
     "timestamp": 1677265753867,
     "user": {
      "displayName": "Branimir Raguž",
      "userId": "04099229421659579348"
     },
     "user_tz": -60
    },
    "id": "c4OtFW0A0du6"
   },
   "outputs": [],
   "source": [
    "X_train, y_train = preprocessing_news(X_train, y_train, sent_length)\n",
    "X_valid, y_valid = preprocessing_news(X_valid, y_valid, sent_length)\n",
    "X_test, y_test = preprocessing_news(X_test, y_test, sent_length)"
   ]
  },
  {
   "cell_type": "code",
   "execution_count": 116,
   "id": "OcXrhaQn0du6",
   "metadata": {
    "executionInfo": {
     "elapsed": 7,
     "status": "ok",
     "timestamp": 1677265753868,
     "user": {
      "displayName": "Branimir Raguž",
      "userId": "04099229421659579348"
     },
     "user_tz": -60
    },
    "id": "OcXrhaQn0du6"
   },
   "outputs": [],
   "source": [
    "categories = [[1, 2, 3, 4]]\n",
    "ohe = OneHotEncoder(categories=categories)\n",
    "\n",
    "y_train = ohe.fit_transform(y_train.values.reshape(-1, 1)).toarray()\n",
    "y_valid = ohe.transform(y_valid.values.reshape(-1, 1)).toarray()\n",
    "y_test = ohe.transform(y_test.values.reshape(-1, 1)).toarray()"
   ]
  },
  {
   "cell_type": "code",
   "execution_count": 117,
   "id": "2JIvSVTVUq2K",
   "metadata": {
    "colab": {
     "base_uri": "https://localhost:8080/"
    },
    "executionInfo": {
     "elapsed": 1280,
     "status": "ok",
     "timestamp": 1677265760647,
     "user": {
      "displayName": "Branimir Raguž",
      "userId": "04099229421659579348"
     },
     "user_tz": -60
    },
    "id": "2JIvSVTVUq2K",
    "outputId": "6c32d00d-55de-4782-d44e-8dded4f1e06f"
   },
   "outputs": [
    {
     "name": "stdout",
     "output_type": "stream",
     "text": [
      "Model: \"sequential_7\"\n",
      "_________________________________________________________________\n",
      " Layer (type)                Output Shape              Param #   \n",
      "=================================================================\n",
      " embedding_7 (Embedding)     (None, 200, 32)           960000    \n",
      "                                                                 \n",
      " bidirectional_4 (Bidirectio  (None, 192)              99072     \n",
      " nal)                                                            \n",
      "                                                                 \n",
      " dense_9 (Dense)             (None, 40)                7720      \n",
      "                                                                 \n",
      " dense_10 (Dense)            (None, 4)                 164       \n",
      "                                                                 \n",
      "=================================================================\n",
      "Total params: 1,066,956\n",
      "Trainable params: 1,066,956\n",
      "Non-trainable params: 0\n",
      "_________________________________________________________________\n",
      "None\n"
     ]
    }
   ],
   "source": [
    "model = Sequential()\n",
    "model.add(Embedding(voc_size,embedding_vector_features,input_length=sent_length))\n",
    "model.add(Bidirectional(LSTM(96)))\n",
    "model.add(Dense(40, activation='tanh'))\n",
    "model.add(Dense(4, activation='softmax'))\n",
    "model.compile(loss = 'categorical_crossentropy', optimizer = Adam(learning_rate=0.01), metrics = ['accuracy'])\n",
    "print(model.summary())"
   ]
  },
  {
   "cell_type": "code",
   "execution_count": 118,
   "id": "HIgoWFoaVKIz",
   "metadata": {
    "colab": {
     "base_uri": "https://localhost:8080/"
    },
    "executionInfo": {
     "elapsed": 84342,
     "status": "ok",
     "timestamp": 1677265846638,
     "user": {
      "displayName": "Branimir Raguž",
      "userId": "04099229421659579348"
     },
     "user_tz": -60
    },
    "id": "HIgoWFoaVKIz",
    "outputId": "8800953a-37db-48cd-cc97-7b06645deb35"
   },
   "outputs": [
    {
     "name": "stdout",
     "output_type": "stream",
     "text": [
      "2813/2813 [==============================] - 80s 27ms/step - loss: 0.3766 - accuracy: 0.8750\n",
      "238/238 [==============================] - 2s 6ms/step\n"
     ]
    }
   ],
   "source": [
    "# training and predicting\n",
    "\n",
    "start=time.time()\n",
    "model.fit(X_train, y_train)\n",
    "end=time.time()\n",
    "\n",
    "train_time = end - start\n",
    "\n",
    "start=time.time()\n",
    "y_pred = model.predict(X_test)\n",
    "end=time.time()\n",
    "\n",
    "test_time = end - start"
   ]
  },
  {
   "cell_type": "code",
   "execution_count": 119,
   "id": "f_s_wXoUVOjT",
   "metadata": {
    "colab": {
     "base_uri": "https://localhost:8080/"
    },
    "executionInfo": {
     "elapsed": 2016,
     "status": "ok",
     "timestamp": 1677265851613,
     "user": {
      "displayName": "Branimir Raguž",
      "userId": "04099229421659579348"
     },
     "user_tz": -60
    },
    "id": "f_s_wXoUVOjT",
    "outputId": "4788bc15-c01e-4698-c2f0-4cf0b25acc79"
   },
   "outputs": [
    {
     "name": "stdout",
     "output_type": "stream",
     "text": [
      "Keras weights file (<HDF5 file \"variables.h5\" (mode r+)>) saving:\n",
      "...layers\n",
      "......bidirectional\n",
      ".........backward_layer\n",
      "............cell\n",
      "...............vars\n",
      "..................0\n",
      "..................1\n",
      "..................2\n",
      "............vars\n",
      ".........forward_layer\n",
      "............cell\n",
      "...............vars\n",
      "..................0\n",
      "..................1\n",
      "..................2\n",
      "............vars\n",
      ".........layer\n",
      "............cell\n",
      "...............vars\n",
      "............vars\n",
      ".........vars\n",
      "......dense\n",
      ".........vars\n",
      "............0\n",
      "............1\n",
      "......dense_1\n",
      ".........vars\n",
      "............0\n",
      "............1\n",
      "......embedding\n",
      ".........vars\n",
      "............0\n",
      "...metrics\n",
      "......mean\n",
      ".........vars\n",
      "............0\n",
      "............1\n",
      "......mean_metric_wrapper\n",
      ".........vars\n",
      "............0\n",
      "............1\n",
      "...optimizer\n",
      "......vars\n",
      ".........0\n",
      ".........1\n",
      ".........10\n",
      ".........11\n",
      ".........12\n",
      ".........13\n",
      ".........14\n",
      ".........15\n",
      ".........16\n",
      ".........17\n",
      ".........18\n",
      ".........19\n",
      ".........2\n",
      ".........20\n",
      ".........21\n",
      ".........22\n",
      ".........3\n",
      ".........4\n",
      ".........5\n",
      ".........6\n",
      ".........7\n",
      ".........8\n",
      ".........9\n",
      "...vars\n",
      "Keras model archive saving:\n",
      "File Name                                             Modified             Size\n",
      "config.json                                    2023-02-24 19:10:49         3201\n",
      "metadata.json                                  2023-02-24 19:10:49           64\n",
      "variables.h5                                   2023-02-24 19:10:49     12846288\n"
     ]
    }
   ],
   "source": [
    "# adjust the y_pred and the y_test\n",
    "y_pred = np.argmax(y_pred, axis = 1)\n",
    "y_test = np.argmax(y_test, axis = 1)\n",
    "\n",
    "news_m3_results = classification_report(y_test, y_pred, output_dict=True)\n",
    "\n",
    "news_m3_results['train_time'] = train_time\n",
    "news_m3_results['test_time'] = test_time\n",
    "news_m3_results = pd.DataFrame.from_dict(news_m3_results)\n",
    "news_m3_results.to_csv('results/lstm/news/model_3.csv')\n",
    "pickle.dump(model, open('models/lstm/news/model_3.sav', 'wb'))"
   ]
  },
  {
   "cell_type": "code",
   "execution_count": 120,
   "id": "Frr2jvAsWE67",
   "metadata": {
    "colab": {
     "base_uri": "https://localhost:8080/",
     "height": 175
    },
    "executionInfo": {
     "elapsed": 837,
     "status": "ok",
     "timestamp": 1677265858603,
     "user": {
      "displayName": "Branimir Raguž",
      "userId": "04099229421659579348"
     },
     "user_tz": -60
    },
    "id": "Frr2jvAsWE67",
    "outputId": "82f7a2f9-9f5f-4bc0-f693-05563ada20e0"
   },
   "outputs": [
    {
     "data": {
      "text/html": [
       "\n",
       "  <div id=\"df-2b1f506e-8b1d-41e3-9624-e018aafb5b1c\">\n",
       "    <div class=\"colab-df-container\">\n",
       "      <div>\n",
       "<style scoped>\n",
       "    .dataframe tbody tr th:only-of-type {\n",
       "        vertical-align: middle;\n",
       "    }\n",
       "\n",
       "    .dataframe tbody tr th {\n",
       "        vertical-align: top;\n",
       "    }\n",
       "\n",
       "    .dataframe thead th {\n",
       "        text-align: right;\n",
       "    }\n",
       "</style>\n",
       "<table border=\"1\" class=\"dataframe\">\n",
       "  <thead>\n",
       "    <tr style=\"text-align: right;\">\n",
       "      <th></th>\n",
       "      <th>0</th>\n",
       "      <th>1</th>\n",
       "      <th>2</th>\n",
       "      <th>3</th>\n",
       "      <th>accuracy</th>\n",
       "      <th>macro avg</th>\n",
       "      <th>weighted avg</th>\n",
       "      <th>train_time</th>\n",
       "      <th>test_time</th>\n",
       "    </tr>\n",
       "  </thead>\n",
       "  <tbody>\n",
       "    <tr>\n",
       "      <th>precision</th>\n",
       "      <td>0.945652</td>\n",
       "      <td>0.952727</td>\n",
       "      <td>0.880022</td>\n",
       "      <td>0.841247</td>\n",
       "      <td>0.902895</td>\n",
       "      <td>0.904912</td>\n",
       "      <td>0.904912</td>\n",
       "      <td>80.18783</td>\n",
       "      <td>3.176791</td>\n",
       "    </tr>\n",
       "    <tr>\n",
       "      <th>recall</th>\n",
       "      <td>0.870000</td>\n",
       "      <td>0.965263</td>\n",
       "      <td>0.853158</td>\n",
       "      <td>0.923158</td>\n",
       "      <td>0.902895</td>\n",
       "      <td>0.902895</td>\n",
       "      <td>0.902895</td>\n",
       "      <td>80.18783</td>\n",
       "      <td>3.176791</td>\n",
       "    </tr>\n",
       "    <tr>\n",
       "      <th>f1-score</th>\n",
       "      <td>0.906250</td>\n",
       "      <td>0.958954</td>\n",
       "      <td>0.866382</td>\n",
       "      <td>0.880301</td>\n",
       "      <td>0.902895</td>\n",
       "      <td>0.902972</td>\n",
       "      <td>0.902972</td>\n",
       "      <td>80.18783</td>\n",
       "      <td>3.176791</td>\n",
       "    </tr>\n",
       "    <tr>\n",
       "      <th>support</th>\n",
       "      <td>1900.000000</td>\n",
       "      <td>1900.000000</td>\n",
       "      <td>1900.000000</td>\n",
       "      <td>1900.000000</td>\n",
       "      <td>0.902895</td>\n",
       "      <td>7600.000000</td>\n",
       "      <td>7600.000000</td>\n",
       "      <td>80.18783</td>\n",
       "      <td>3.176791</td>\n",
       "    </tr>\n",
       "  </tbody>\n",
       "</table>\n",
       "</div>\n",
       "      <button class=\"colab-df-convert\" onclick=\"convertToInteractive('df-2b1f506e-8b1d-41e3-9624-e018aafb5b1c')\"\n",
       "              title=\"Convert this dataframe to an interactive table.\"\n",
       "              style=\"display:none;\">\n",
       "        \n",
       "  <svg xmlns=\"http://www.w3.org/2000/svg\" height=\"24px\"viewBox=\"0 0 24 24\"\n",
       "       width=\"24px\">\n",
       "    <path d=\"M0 0h24v24H0V0z\" fill=\"none\"/>\n",
       "    <path d=\"M18.56 5.44l.94 2.06.94-2.06 2.06-.94-2.06-.94-.94-2.06-.94 2.06-2.06.94zm-11 1L8.5 8.5l.94-2.06 2.06-.94-2.06-.94L8.5 2.5l-.94 2.06-2.06.94zm10 10l.94 2.06.94-2.06 2.06-.94-2.06-.94-.94-2.06-.94 2.06-2.06.94z\"/><path d=\"M17.41 7.96l-1.37-1.37c-.4-.4-.92-.59-1.43-.59-.52 0-1.04.2-1.43.59L10.3 9.45l-7.72 7.72c-.78.78-.78 2.05 0 2.83L4 21.41c.39.39.9.59 1.41.59.51 0 1.02-.2 1.41-.59l7.78-7.78 2.81-2.81c.8-.78.8-2.07 0-2.86zM5.41 20L4 18.59l7.72-7.72 1.47 1.35L5.41 20z\"/>\n",
       "  </svg>\n",
       "      </button>\n",
       "      \n",
       "  <style>\n",
       "    .colab-df-container {\n",
       "      display:flex;\n",
       "      flex-wrap:wrap;\n",
       "      gap: 12px;\n",
       "    }\n",
       "\n",
       "    .colab-df-convert {\n",
       "      background-color: #E8F0FE;\n",
       "      border: none;\n",
       "      border-radius: 50%;\n",
       "      cursor: pointer;\n",
       "      display: none;\n",
       "      fill: #1967D2;\n",
       "      height: 32px;\n",
       "      padding: 0 0 0 0;\n",
       "      width: 32px;\n",
       "    }\n",
       "\n",
       "    .colab-df-convert:hover {\n",
       "      background-color: #E2EBFA;\n",
       "      box-shadow: 0px 1px 2px rgba(60, 64, 67, 0.3), 0px 1px 3px 1px rgba(60, 64, 67, 0.15);\n",
       "      fill: #174EA6;\n",
       "    }\n",
       "\n",
       "    [theme=dark] .colab-df-convert {\n",
       "      background-color: #3B4455;\n",
       "      fill: #D2E3FC;\n",
       "    }\n",
       "\n",
       "    [theme=dark] .colab-df-convert:hover {\n",
       "      background-color: #434B5C;\n",
       "      box-shadow: 0px 1px 3px 1px rgba(0, 0, 0, 0.15);\n",
       "      filter: drop-shadow(0px 1px 2px rgba(0, 0, 0, 0.3));\n",
       "      fill: #FFFFFF;\n",
       "    }\n",
       "  </style>\n",
       "\n",
       "      <script>\n",
       "        const buttonEl =\n",
       "          document.querySelector('#df-2b1f506e-8b1d-41e3-9624-e018aafb5b1c button.colab-df-convert');\n",
       "        buttonEl.style.display =\n",
       "          google.colab.kernel.accessAllowed ? 'block' : 'none';\n",
       "\n",
       "        async function convertToInteractive(key) {\n",
       "          const element = document.querySelector('#df-2b1f506e-8b1d-41e3-9624-e018aafb5b1c');\n",
       "          const dataTable =\n",
       "            await google.colab.kernel.invokeFunction('convertToInteractive',\n",
       "                                                     [key], {});\n",
       "          if (!dataTable) return;\n",
       "\n",
       "          const docLinkHtml = 'Like what you see? Visit the ' +\n",
       "            '<a target=\"_blank\" href=https://colab.research.google.com/notebooks/data_table.ipynb>data table notebook</a>'\n",
       "            + ' to learn more about interactive tables.';\n",
       "          element.innerHTML = '';\n",
       "          dataTable['output_type'] = 'display_data';\n",
       "          await google.colab.output.renderOutput(dataTable, element);\n",
       "          const docLink = document.createElement('div');\n",
       "          docLink.innerHTML = docLinkHtml;\n",
       "          element.appendChild(docLink);\n",
       "        }\n",
       "      </script>\n",
       "    </div>\n",
       "  </div>\n",
       "  "
      ],
      "text/plain": [
       "                     0            1            2            3  accuracy  \\\n",
       "precision     0.945652     0.952727     0.880022     0.841247  0.902895   \n",
       "recall        0.870000     0.965263     0.853158     0.923158  0.902895   \n",
       "f1-score      0.906250     0.958954     0.866382     0.880301  0.902895   \n",
       "support    1900.000000  1900.000000  1900.000000  1900.000000  0.902895   \n",
       "\n",
       "             macro avg  weighted avg  train_time  test_time  \n",
       "precision     0.904912      0.904912    80.18783   3.176791  \n",
       "recall        0.902895      0.902895    80.18783   3.176791  \n",
       "f1-score      0.902972      0.902972    80.18783   3.176791  \n",
       "support    7600.000000   7600.000000    80.18783   3.176791  "
      ]
     },
     "execution_count": 120,
     "metadata": {},
     "output_type": "execute_result"
    }
   ],
   "source": [
    "news_m3_results"
   ]
  },
  {
   "cell_type": "markdown",
   "id": "072331aa",
   "metadata": {
    "id": "072331aa"
   },
   "source": [
    "### 3.4. Model comparison"
   ]
  },
  {
   "cell_type": "code",
   "execution_count": 121,
   "id": "433fbdc9",
   "metadata": {
    "colab": {
     "base_uri": "https://localhost:8080/",
     "height": 175
    },
    "executionInfo": {
     "elapsed": 1339,
     "status": "ok",
     "timestamp": 1677265865934,
     "user": {
      "displayName": "Branimir Raguž",
      "userId": "04099229421659579348"
     },
     "user_tz": -60
    },
    "id": "433fbdc9",
    "outputId": "7c9b82e5-c259-4fb4-d6ce-18900c370570"
   },
   "outputs": [
    {
     "data": {
      "text/html": [
       "\n",
       "  <div id=\"df-674bec06-f64d-4f77-b805-6a415ade6b87\">\n",
       "    <div class=\"colab-df-container\">\n",
       "      <div>\n",
       "<style scoped>\n",
       "    .dataframe tbody tr th:only-of-type {\n",
       "        vertical-align: middle;\n",
       "    }\n",
       "\n",
       "    .dataframe tbody tr th {\n",
       "        vertical-align: top;\n",
       "    }\n",
       "\n",
       "    .dataframe thead th {\n",
       "        text-align: right;\n",
       "    }\n",
       "</style>\n",
       "<table border=\"1\" class=\"dataframe\">\n",
       "  <thead>\n",
       "    <tr style=\"text-align: right;\">\n",
       "      <th></th>\n",
       "      <th>0</th>\n",
       "      <th>1</th>\n",
       "      <th>2</th>\n",
       "      <th>3</th>\n",
       "      <th>accuracy</th>\n",
       "      <th>macro avg</th>\n",
       "      <th>weighted avg</th>\n",
       "      <th>train_time</th>\n",
       "      <th>test_time</th>\n",
       "    </tr>\n",
       "  </thead>\n",
       "  <tbody>\n",
       "    <tr>\n",
       "      <th>precision</th>\n",
       "      <td>0.934955</td>\n",
       "      <td>0.924812</td>\n",
       "      <td>0.879956</td>\n",
       "      <td>0.844631</td>\n",
       "      <td>0.895132</td>\n",
       "      <td>0.896089</td>\n",
       "      <td>0.896089</td>\n",
       "      <td>83.513696</td>\n",
       "      <td>1.598917</td>\n",
       "    </tr>\n",
       "    <tr>\n",
       "      <th>recall</th>\n",
       "      <td>0.870000</td>\n",
       "      <td>0.971053</td>\n",
       "      <td>0.841053</td>\n",
       "      <td>0.898421</td>\n",
       "      <td>0.895132</td>\n",
       "      <td>0.895132</td>\n",
       "      <td>0.895132</td>\n",
       "      <td>83.513696</td>\n",
       "      <td>1.598917</td>\n",
       "    </tr>\n",
       "    <tr>\n",
       "      <th>f1-score</th>\n",
       "      <td>0.901309</td>\n",
       "      <td>0.947368</td>\n",
       "      <td>0.860065</td>\n",
       "      <td>0.870696</td>\n",
       "      <td>0.895132</td>\n",
       "      <td>0.894859</td>\n",
       "      <td>0.894859</td>\n",
       "      <td>83.513696</td>\n",
       "      <td>1.598917</td>\n",
       "    </tr>\n",
       "    <tr>\n",
       "      <th>support</th>\n",
       "      <td>1900.000000</td>\n",
       "      <td>1900.000000</td>\n",
       "      <td>1900.000000</td>\n",
       "      <td>1900.000000</td>\n",
       "      <td>0.895132</td>\n",
       "      <td>7600.000000</td>\n",
       "      <td>7600.000000</td>\n",
       "      <td>83.513696</td>\n",
       "      <td>1.598917</td>\n",
       "    </tr>\n",
       "  </tbody>\n",
       "</table>\n",
       "</div>\n",
       "      <button class=\"colab-df-convert\" onclick=\"convertToInteractive('df-674bec06-f64d-4f77-b805-6a415ade6b87')\"\n",
       "              title=\"Convert this dataframe to an interactive table.\"\n",
       "              style=\"display:none;\">\n",
       "        \n",
       "  <svg xmlns=\"http://www.w3.org/2000/svg\" height=\"24px\"viewBox=\"0 0 24 24\"\n",
       "       width=\"24px\">\n",
       "    <path d=\"M0 0h24v24H0V0z\" fill=\"none\"/>\n",
       "    <path d=\"M18.56 5.44l.94 2.06.94-2.06 2.06-.94-2.06-.94-.94-2.06-.94 2.06-2.06.94zm-11 1L8.5 8.5l.94-2.06 2.06-.94-2.06-.94L8.5 2.5l-.94 2.06-2.06.94zm10 10l.94 2.06.94-2.06 2.06-.94-2.06-.94-.94-2.06-.94 2.06-2.06.94z\"/><path d=\"M17.41 7.96l-1.37-1.37c-.4-.4-.92-.59-1.43-.59-.52 0-1.04.2-1.43.59L10.3 9.45l-7.72 7.72c-.78.78-.78 2.05 0 2.83L4 21.41c.39.39.9.59 1.41.59.51 0 1.02-.2 1.41-.59l7.78-7.78 2.81-2.81c.8-.78.8-2.07 0-2.86zM5.41 20L4 18.59l7.72-7.72 1.47 1.35L5.41 20z\"/>\n",
       "  </svg>\n",
       "      </button>\n",
       "      \n",
       "  <style>\n",
       "    .colab-df-container {\n",
       "      display:flex;\n",
       "      flex-wrap:wrap;\n",
       "      gap: 12px;\n",
       "    }\n",
       "\n",
       "    .colab-df-convert {\n",
       "      background-color: #E8F0FE;\n",
       "      border: none;\n",
       "      border-radius: 50%;\n",
       "      cursor: pointer;\n",
       "      display: none;\n",
       "      fill: #1967D2;\n",
       "      height: 32px;\n",
       "      padding: 0 0 0 0;\n",
       "      width: 32px;\n",
       "    }\n",
       "\n",
       "    .colab-df-convert:hover {\n",
       "      background-color: #E2EBFA;\n",
       "      box-shadow: 0px 1px 2px rgba(60, 64, 67, 0.3), 0px 1px 3px 1px rgba(60, 64, 67, 0.15);\n",
       "      fill: #174EA6;\n",
       "    }\n",
       "\n",
       "    [theme=dark] .colab-df-convert {\n",
       "      background-color: #3B4455;\n",
       "      fill: #D2E3FC;\n",
       "    }\n",
       "\n",
       "    [theme=dark] .colab-df-convert:hover {\n",
       "      background-color: #434B5C;\n",
       "      box-shadow: 0px 1px 3px 1px rgba(0, 0, 0, 0.15);\n",
       "      filter: drop-shadow(0px 1px 2px rgba(0, 0, 0, 0.3));\n",
       "      fill: #FFFFFF;\n",
       "    }\n",
       "  </style>\n",
       "\n",
       "      <script>\n",
       "        const buttonEl =\n",
       "          document.querySelector('#df-674bec06-f64d-4f77-b805-6a415ade6b87 button.colab-df-convert');\n",
       "        buttonEl.style.display =\n",
       "          google.colab.kernel.accessAllowed ? 'block' : 'none';\n",
       "\n",
       "        async function convertToInteractive(key) {\n",
       "          const element = document.querySelector('#df-674bec06-f64d-4f77-b805-6a415ade6b87');\n",
       "          const dataTable =\n",
       "            await google.colab.kernel.invokeFunction('convertToInteractive',\n",
       "                                                     [key], {});\n",
       "          if (!dataTable) return;\n",
       "\n",
       "          const docLinkHtml = 'Like what you see? Visit the ' +\n",
       "            '<a target=\"_blank\" href=https://colab.research.google.com/notebooks/data_table.ipynb>data table notebook</a>'\n",
       "            + ' to learn more about interactive tables.';\n",
       "          element.innerHTML = '';\n",
       "          dataTable['output_type'] = 'display_data';\n",
       "          await google.colab.output.renderOutput(dataTable, element);\n",
       "          const docLink = document.createElement('div');\n",
       "          docLink.innerHTML = docLinkHtml;\n",
       "          element.appendChild(docLink);\n",
       "        }\n",
       "      </script>\n",
       "    </div>\n",
       "  </div>\n",
       "  "
      ],
      "text/plain": [
       "                     0            1            2            3  accuracy  \\\n",
       "precision     0.934955     0.924812     0.879956     0.844631  0.895132   \n",
       "recall        0.870000     0.971053     0.841053     0.898421  0.895132   \n",
       "f1-score      0.901309     0.947368     0.860065     0.870696  0.895132   \n",
       "support    1900.000000  1900.000000  1900.000000  1900.000000  0.895132   \n",
       "\n",
       "             macro avg  weighted avg  train_time  test_time  \n",
       "precision     0.896089      0.896089   83.513696   1.598917  \n",
       "recall        0.895132      0.895132   83.513696   1.598917  \n",
       "f1-score      0.894859      0.894859   83.513696   1.598917  \n",
       "support    7600.000000   7600.000000   83.513696   1.598917  "
      ]
     },
     "execution_count": 121,
     "metadata": {},
     "output_type": "execute_result"
    }
   ],
   "source": [
    "news_m1_results"
   ]
  },
  {
   "cell_type": "code",
   "execution_count": 122,
   "id": "509a6e60",
   "metadata": {
    "colab": {
     "base_uri": "https://localhost:8080/",
     "height": 175
    },
    "executionInfo": {
     "elapsed": 14,
     "status": "ok",
     "timestamp": 1677265866495,
     "user": {
      "displayName": "Branimir Raguž",
      "userId": "04099229421659579348"
     },
     "user_tz": -60
    },
    "id": "509a6e60",
    "outputId": "4edfdf80-a231-42df-87ea-3da48e56c872"
   },
   "outputs": [
    {
     "data": {
      "text/html": [
       "\n",
       "  <div id=\"df-ab83eb4f-7308-421c-99a4-b803b500e437\">\n",
       "    <div class=\"colab-df-container\">\n",
       "      <div>\n",
       "<style scoped>\n",
       "    .dataframe tbody tr th:only-of-type {\n",
       "        vertical-align: middle;\n",
       "    }\n",
       "\n",
       "    .dataframe tbody tr th {\n",
       "        vertical-align: top;\n",
       "    }\n",
       "\n",
       "    .dataframe thead th {\n",
       "        text-align: right;\n",
       "    }\n",
       "</style>\n",
       "<table border=\"1\" class=\"dataframe\">\n",
       "  <thead>\n",
       "    <tr style=\"text-align: right;\">\n",
       "      <th></th>\n",
       "      <th>0</th>\n",
       "      <th>1</th>\n",
       "      <th>2</th>\n",
       "      <th>3</th>\n",
       "      <th>accuracy</th>\n",
       "      <th>macro avg</th>\n",
       "      <th>weighted avg</th>\n",
       "      <th>train_time</th>\n",
       "      <th>test_time</th>\n",
       "    </tr>\n",
       "  </thead>\n",
       "  <tbody>\n",
       "    <tr>\n",
       "      <th>precision</th>\n",
       "      <td>0.952299</td>\n",
       "      <td>0.949205</td>\n",
       "      <td>0.874729</td>\n",
       "      <td>0.845186</td>\n",
       "      <td>0.903553</td>\n",
       "      <td>0.905355</td>\n",
       "      <td>0.905355</td>\n",
       "      <td>84.700018</td>\n",
       "      <td>2.329258</td>\n",
       "    </tr>\n",
       "    <tr>\n",
       "      <th>recall</th>\n",
       "      <td>0.872105</td>\n",
       "      <td>0.973684</td>\n",
       "      <td>0.848947</td>\n",
       "      <td>0.919474</td>\n",
       "      <td>0.903553</td>\n",
       "      <td>0.903553</td>\n",
       "      <td>0.903553</td>\n",
       "      <td>84.700018</td>\n",
       "      <td>2.329258</td>\n",
       "    </tr>\n",
       "    <tr>\n",
       "      <th>f1-score</th>\n",
       "      <td>0.910440</td>\n",
       "      <td>0.961289</td>\n",
       "      <td>0.861645</td>\n",
       "      <td>0.880766</td>\n",
       "      <td>0.903553</td>\n",
       "      <td>0.903535</td>\n",
       "      <td>0.903535</td>\n",
       "      <td>84.700018</td>\n",
       "      <td>2.329258</td>\n",
       "    </tr>\n",
       "    <tr>\n",
       "      <th>support</th>\n",
       "      <td>1900.000000</td>\n",
       "      <td>1900.000000</td>\n",
       "      <td>1900.000000</td>\n",
       "      <td>1900.000000</td>\n",
       "      <td>0.903553</td>\n",
       "      <td>7600.000000</td>\n",
       "      <td>7600.000000</td>\n",
       "      <td>84.700018</td>\n",
       "      <td>2.329258</td>\n",
       "    </tr>\n",
       "  </tbody>\n",
       "</table>\n",
       "</div>\n",
       "      <button class=\"colab-df-convert\" onclick=\"convertToInteractive('df-ab83eb4f-7308-421c-99a4-b803b500e437')\"\n",
       "              title=\"Convert this dataframe to an interactive table.\"\n",
       "              style=\"display:none;\">\n",
       "        \n",
       "  <svg xmlns=\"http://www.w3.org/2000/svg\" height=\"24px\"viewBox=\"0 0 24 24\"\n",
       "       width=\"24px\">\n",
       "    <path d=\"M0 0h24v24H0V0z\" fill=\"none\"/>\n",
       "    <path d=\"M18.56 5.44l.94 2.06.94-2.06 2.06-.94-2.06-.94-.94-2.06-.94 2.06-2.06.94zm-11 1L8.5 8.5l.94-2.06 2.06-.94-2.06-.94L8.5 2.5l-.94 2.06-2.06.94zm10 10l.94 2.06.94-2.06 2.06-.94-2.06-.94-.94-2.06-.94 2.06-2.06.94z\"/><path d=\"M17.41 7.96l-1.37-1.37c-.4-.4-.92-.59-1.43-.59-.52 0-1.04.2-1.43.59L10.3 9.45l-7.72 7.72c-.78.78-.78 2.05 0 2.83L4 21.41c.39.39.9.59 1.41.59.51 0 1.02-.2 1.41-.59l7.78-7.78 2.81-2.81c.8-.78.8-2.07 0-2.86zM5.41 20L4 18.59l7.72-7.72 1.47 1.35L5.41 20z\"/>\n",
       "  </svg>\n",
       "      </button>\n",
       "      \n",
       "  <style>\n",
       "    .colab-df-container {\n",
       "      display:flex;\n",
       "      flex-wrap:wrap;\n",
       "      gap: 12px;\n",
       "    }\n",
       "\n",
       "    .colab-df-convert {\n",
       "      background-color: #E8F0FE;\n",
       "      border: none;\n",
       "      border-radius: 50%;\n",
       "      cursor: pointer;\n",
       "      display: none;\n",
       "      fill: #1967D2;\n",
       "      height: 32px;\n",
       "      padding: 0 0 0 0;\n",
       "      width: 32px;\n",
       "    }\n",
       "\n",
       "    .colab-df-convert:hover {\n",
       "      background-color: #E2EBFA;\n",
       "      box-shadow: 0px 1px 2px rgba(60, 64, 67, 0.3), 0px 1px 3px 1px rgba(60, 64, 67, 0.15);\n",
       "      fill: #174EA6;\n",
       "    }\n",
       "\n",
       "    [theme=dark] .colab-df-convert {\n",
       "      background-color: #3B4455;\n",
       "      fill: #D2E3FC;\n",
       "    }\n",
       "\n",
       "    [theme=dark] .colab-df-convert:hover {\n",
       "      background-color: #434B5C;\n",
       "      box-shadow: 0px 1px 3px 1px rgba(0, 0, 0, 0.15);\n",
       "      filter: drop-shadow(0px 1px 2px rgba(0, 0, 0, 0.3));\n",
       "      fill: #FFFFFF;\n",
       "    }\n",
       "  </style>\n",
       "\n",
       "      <script>\n",
       "        const buttonEl =\n",
       "          document.querySelector('#df-ab83eb4f-7308-421c-99a4-b803b500e437 button.colab-df-convert');\n",
       "        buttonEl.style.display =\n",
       "          google.colab.kernel.accessAllowed ? 'block' : 'none';\n",
       "\n",
       "        async function convertToInteractive(key) {\n",
       "          const element = document.querySelector('#df-ab83eb4f-7308-421c-99a4-b803b500e437');\n",
       "          const dataTable =\n",
       "            await google.colab.kernel.invokeFunction('convertToInteractive',\n",
       "                                                     [key], {});\n",
       "          if (!dataTable) return;\n",
       "\n",
       "          const docLinkHtml = 'Like what you see? Visit the ' +\n",
       "            '<a target=\"_blank\" href=https://colab.research.google.com/notebooks/data_table.ipynb>data table notebook</a>'\n",
       "            + ' to learn more about interactive tables.';\n",
       "          element.innerHTML = '';\n",
       "          dataTable['output_type'] = 'display_data';\n",
       "          await google.colab.output.renderOutput(dataTable, element);\n",
       "          const docLink = document.createElement('div');\n",
       "          docLink.innerHTML = docLinkHtml;\n",
       "          element.appendChild(docLink);\n",
       "        }\n",
       "      </script>\n",
       "    </div>\n",
       "  </div>\n",
       "  "
      ],
      "text/plain": [
       "                     0            1            2            3  accuracy  \\\n",
       "precision     0.952299     0.949205     0.874729     0.845186  0.903553   \n",
       "recall        0.872105     0.973684     0.848947     0.919474  0.903553   \n",
       "f1-score      0.910440     0.961289     0.861645     0.880766  0.903553   \n",
       "support    1900.000000  1900.000000  1900.000000  1900.000000  0.903553   \n",
       "\n",
       "             macro avg  weighted avg  train_time  test_time  \n",
       "precision     0.905355      0.905355   84.700018   2.329258  \n",
       "recall        0.903553      0.903553   84.700018   2.329258  \n",
       "f1-score      0.903535      0.903535   84.700018   2.329258  \n",
       "support    7600.000000   7600.000000   84.700018   2.329258  "
      ]
     },
     "execution_count": 122,
     "metadata": {},
     "output_type": "execute_result"
    }
   ],
   "source": [
    "news_m2_results"
   ]
  },
  {
   "cell_type": "code",
   "execution_count": 123,
   "id": "a52e3608",
   "metadata": {
    "colab": {
     "base_uri": "https://localhost:8080/",
     "height": 175
    },
    "executionInfo": {
     "elapsed": 13,
     "status": "ok",
     "timestamp": 1677265866496,
     "user": {
      "displayName": "Branimir Raguž",
      "userId": "04099229421659579348"
     },
     "user_tz": -60
    },
    "id": "a52e3608",
    "outputId": "e1e3adf9-9f8e-406b-8591-aa077a48c580"
   },
   "outputs": [
    {
     "data": {
      "text/html": [
       "\n",
       "  <div id=\"df-274f4c35-ee04-4542-8b9b-e39f894a309b\">\n",
       "    <div class=\"colab-df-container\">\n",
       "      <div>\n",
       "<style scoped>\n",
       "    .dataframe tbody tr th:only-of-type {\n",
       "        vertical-align: middle;\n",
       "    }\n",
       "\n",
       "    .dataframe tbody tr th {\n",
       "        vertical-align: top;\n",
       "    }\n",
       "\n",
       "    .dataframe thead th {\n",
       "        text-align: right;\n",
       "    }\n",
       "</style>\n",
       "<table border=\"1\" class=\"dataframe\">\n",
       "  <thead>\n",
       "    <tr style=\"text-align: right;\">\n",
       "      <th></th>\n",
       "      <th>0</th>\n",
       "      <th>1</th>\n",
       "      <th>2</th>\n",
       "      <th>3</th>\n",
       "      <th>accuracy</th>\n",
       "      <th>macro avg</th>\n",
       "      <th>weighted avg</th>\n",
       "      <th>train_time</th>\n",
       "      <th>test_time</th>\n",
       "    </tr>\n",
       "  </thead>\n",
       "  <tbody>\n",
       "    <tr>\n",
       "      <th>precision</th>\n",
       "      <td>0.945652</td>\n",
       "      <td>0.952727</td>\n",
       "      <td>0.880022</td>\n",
       "      <td>0.841247</td>\n",
       "      <td>0.902895</td>\n",
       "      <td>0.904912</td>\n",
       "      <td>0.904912</td>\n",
       "      <td>80.18783</td>\n",
       "      <td>3.176791</td>\n",
       "    </tr>\n",
       "    <tr>\n",
       "      <th>recall</th>\n",
       "      <td>0.870000</td>\n",
       "      <td>0.965263</td>\n",
       "      <td>0.853158</td>\n",
       "      <td>0.923158</td>\n",
       "      <td>0.902895</td>\n",
       "      <td>0.902895</td>\n",
       "      <td>0.902895</td>\n",
       "      <td>80.18783</td>\n",
       "      <td>3.176791</td>\n",
       "    </tr>\n",
       "    <tr>\n",
       "      <th>f1-score</th>\n",
       "      <td>0.906250</td>\n",
       "      <td>0.958954</td>\n",
       "      <td>0.866382</td>\n",
       "      <td>0.880301</td>\n",
       "      <td>0.902895</td>\n",
       "      <td>0.902972</td>\n",
       "      <td>0.902972</td>\n",
       "      <td>80.18783</td>\n",
       "      <td>3.176791</td>\n",
       "    </tr>\n",
       "    <tr>\n",
       "      <th>support</th>\n",
       "      <td>1900.000000</td>\n",
       "      <td>1900.000000</td>\n",
       "      <td>1900.000000</td>\n",
       "      <td>1900.000000</td>\n",
       "      <td>0.902895</td>\n",
       "      <td>7600.000000</td>\n",
       "      <td>7600.000000</td>\n",
       "      <td>80.18783</td>\n",
       "      <td>3.176791</td>\n",
       "    </tr>\n",
       "  </tbody>\n",
       "</table>\n",
       "</div>\n",
       "      <button class=\"colab-df-convert\" onclick=\"convertToInteractive('df-274f4c35-ee04-4542-8b9b-e39f894a309b')\"\n",
       "              title=\"Convert this dataframe to an interactive table.\"\n",
       "              style=\"display:none;\">\n",
       "        \n",
       "  <svg xmlns=\"http://www.w3.org/2000/svg\" height=\"24px\"viewBox=\"0 0 24 24\"\n",
       "       width=\"24px\">\n",
       "    <path d=\"M0 0h24v24H0V0z\" fill=\"none\"/>\n",
       "    <path d=\"M18.56 5.44l.94 2.06.94-2.06 2.06-.94-2.06-.94-.94-2.06-.94 2.06-2.06.94zm-11 1L8.5 8.5l.94-2.06 2.06-.94-2.06-.94L8.5 2.5l-.94 2.06-2.06.94zm10 10l.94 2.06.94-2.06 2.06-.94-2.06-.94-.94-2.06-.94 2.06-2.06.94z\"/><path d=\"M17.41 7.96l-1.37-1.37c-.4-.4-.92-.59-1.43-.59-.52 0-1.04.2-1.43.59L10.3 9.45l-7.72 7.72c-.78.78-.78 2.05 0 2.83L4 21.41c.39.39.9.59 1.41.59.51 0 1.02-.2 1.41-.59l7.78-7.78 2.81-2.81c.8-.78.8-2.07 0-2.86zM5.41 20L4 18.59l7.72-7.72 1.47 1.35L5.41 20z\"/>\n",
       "  </svg>\n",
       "      </button>\n",
       "      \n",
       "  <style>\n",
       "    .colab-df-container {\n",
       "      display:flex;\n",
       "      flex-wrap:wrap;\n",
       "      gap: 12px;\n",
       "    }\n",
       "\n",
       "    .colab-df-convert {\n",
       "      background-color: #E8F0FE;\n",
       "      border: none;\n",
       "      border-radius: 50%;\n",
       "      cursor: pointer;\n",
       "      display: none;\n",
       "      fill: #1967D2;\n",
       "      height: 32px;\n",
       "      padding: 0 0 0 0;\n",
       "      width: 32px;\n",
       "    }\n",
       "\n",
       "    .colab-df-convert:hover {\n",
       "      background-color: #E2EBFA;\n",
       "      box-shadow: 0px 1px 2px rgba(60, 64, 67, 0.3), 0px 1px 3px 1px rgba(60, 64, 67, 0.15);\n",
       "      fill: #174EA6;\n",
       "    }\n",
       "\n",
       "    [theme=dark] .colab-df-convert {\n",
       "      background-color: #3B4455;\n",
       "      fill: #D2E3FC;\n",
       "    }\n",
       "\n",
       "    [theme=dark] .colab-df-convert:hover {\n",
       "      background-color: #434B5C;\n",
       "      box-shadow: 0px 1px 3px 1px rgba(0, 0, 0, 0.15);\n",
       "      filter: drop-shadow(0px 1px 2px rgba(0, 0, 0, 0.3));\n",
       "      fill: #FFFFFF;\n",
       "    }\n",
       "  </style>\n",
       "\n",
       "      <script>\n",
       "        const buttonEl =\n",
       "          document.querySelector('#df-274f4c35-ee04-4542-8b9b-e39f894a309b button.colab-df-convert');\n",
       "        buttonEl.style.display =\n",
       "          google.colab.kernel.accessAllowed ? 'block' : 'none';\n",
       "\n",
       "        async function convertToInteractive(key) {\n",
       "          const element = document.querySelector('#df-274f4c35-ee04-4542-8b9b-e39f894a309b');\n",
       "          const dataTable =\n",
       "            await google.colab.kernel.invokeFunction('convertToInteractive',\n",
       "                                                     [key], {});\n",
       "          if (!dataTable) return;\n",
       "\n",
       "          const docLinkHtml = 'Like what you see? Visit the ' +\n",
       "            '<a target=\"_blank\" href=https://colab.research.google.com/notebooks/data_table.ipynb>data table notebook</a>'\n",
       "            + ' to learn more about interactive tables.';\n",
       "          element.innerHTML = '';\n",
       "          dataTable['output_type'] = 'display_data';\n",
       "          await google.colab.output.renderOutput(dataTable, element);\n",
       "          const docLink = document.createElement('div');\n",
       "          docLink.innerHTML = docLinkHtml;\n",
       "          element.appendChild(docLink);\n",
       "        }\n",
       "      </script>\n",
       "    </div>\n",
       "  </div>\n",
       "  "
      ],
      "text/plain": [
       "                     0            1            2            3  accuracy  \\\n",
       "precision     0.945652     0.952727     0.880022     0.841247  0.902895   \n",
       "recall        0.870000     0.965263     0.853158     0.923158  0.902895   \n",
       "f1-score      0.906250     0.958954     0.866382     0.880301  0.902895   \n",
       "support    1900.000000  1900.000000  1900.000000  1900.000000  0.902895   \n",
       "\n",
       "             macro avg  weighted avg  train_time  test_time  \n",
       "precision     0.904912      0.904912    80.18783   3.176791  \n",
       "recall        0.902895      0.902895    80.18783   3.176791  \n",
       "f1-score      0.902972      0.902972    80.18783   3.176791  \n",
       "support    7600.000000   7600.000000    80.18783   3.176791  "
      ]
     },
     "execution_count": 123,
     "metadata": {},
     "output_type": "execute_result"
    }
   ],
   "source": [
    "news_m3_results"
   ]
  }
 ],
 "metadata": {
  "accelerator": "GPU",
  "colab": {
   "provenance": []
  },
  "gpuClass": "standard",
  "kernelspec": {
   "display_name": "Python 3 (ipykernel)",
   "language": "python",
   "name": "python3"
  },
  "language_info": {
   "codemirror_mode": {
    "name": "ipython",
    "version": 3
   },
   "file_extension": ".py",
   "mimetype": "text/x-python",
   "name": "python",
   "nbconvert_exporter": "python",
   "pygments_lexer": "ipython3",
   "version": "3.9.7"
  }
 },
 "nbformat": 4,
 "nbformat_minor": 5
}
