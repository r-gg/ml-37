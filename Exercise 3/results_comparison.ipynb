{
 "cells": [
  {
   "cell_type": "markdown",
   "source": [
    "# Comparison of the results"
   ],
   "metadata": {
    "collapsed": false
   }
  },
  {
   "cell_type": "code",
   "execution_count": null,
   "outputs": [],
   "source": [
    "import pandas as pd\n",
    "import numpy as np\n",
    "import matplotlib.pyplot as plt\n",
    "from matplotlib.patches import Patch\n",
    "import seaborn as sns"
   ],
   "metadata": {
    "collapsed": false
   }
  },
  {
   "cell_type": "code",
   "execution_count": null,
   "outputs": [],
   "source": [
    "fst = 'aqua'\n",
    "snd = 'aquamarine'\n",
    "trd = 'darksalmon'"
   ],
   "metadata": {
    "collapsed": false
   }
  },
  {
   "cell_type": "markdown",
   "source": [
    "## Loading the files"
   ],
   "metadata": {
    "collapsed": false
   }
  },
  {
   "cell_type": "code",
   "execution_count": null,
   "outputs": [],
   "source": [
    "nn_reviews_baseline = pd.read_csv('results/baselines/nn_reviews_baseline.csv')\n",
    "nn_news_baseline = pd.read_csv('results/baselines/nn_news_baseline.csv')\n",
    "svm_reviews_baseline = pd.read_csv('results/baselines/svm_reviews_baseline.csv')\n",
    "svm_news_baseline = pd.read_csv('results/baselines/svm_news_baseline.csv')\n",
    "nn_reviews_augmented_baseline = pd.read_csv('results/baselines/nn_reviews_augmented_baseline.csv')\n",
    "svm_reviews_augmented_baseline = pd.read_csv('results/baselines/svm_reviews_augmented_baseline.csv')\n",
    "\n",
    "lstm_reviews_base_model = pd.read_csv('results/lstm/reviews/base_model.csv')\n",
    "lstm_reviews_base_model_dropout = pd.read_csv('results/lstm/reviews/base_model_dropout.csv')\n",
    "lstm_reviews_bigger_parameters = pd.read_csv('results/lstm/reviews/bigger_parameters.csv')\n",
    "lstm_reviews_best_parameters = pd.read_csv('results/lstm/reviews/best_parameters.csv')\n",
    "lstm_reviews_augmented_best_parameters = pd.read_csv('results/lstm/reviews/augmented_best_parameters.csv')\n",
    "\n",
    "lstm_news_base_model = pd.read_csv('results/lstm/news/base_model.csv')\n",
    "lstm_news_best_parameters = pd.read_csv('results/lstm/news/best_parameters.csv')\n",
    "lstm_news_bigger_parameters = pd.read_csv('results/lstm/news/bigger_parameters.csv')\n",
    "\n",
    "bert_reviews = pd.read_csv('results/bert/reviews_results.csv')\n",
    "bert_news = pd.read_csv('results/bert/news_results.csv')"
   ],
   "metadata": {
    "collapsed": false
   }
  },
  {
   "cell_type": "code",
   "execution_count": null,
   "outputs": [],
   "source": [
    "bert_news"
   ],
   "metadata": {
    "collapsed": false
   }
  },
  {
   "cell_type": "code",
   "execution_count": null,
   "outputs": [],
   "source": [
    "plt.style.use('seaborn-v0_8-pastel')"
   ],
   "metadata": {
    "collapsed": false
   }
  },
  {
   "cell_type": "code",
   "execution_count": null,
   "outputs": [],
   "source": [
    "nn_reviews_baseline.rename(columns={\"Unnamed: 0\": \"Metric\"}, inplace=True)\n",
    "svm_reviews_baseline.rename(columns={\"Unnamed: 0\": \"Metric\"}, inplace=True)\n",
    "\n",
    "nn_news_baseline.rename(columns={\"Unnamed: 0\": \"Metric\", \"1\": \"World\", \"2\": \"Sports\", \"3\": \"Business\", \"4\": \"Sci/Tech\"},\n",
    "                        inplace=True)\n",
    "svm_news_baseline.rename(\n",
    "    columns={\"Unnamed: 0\": \"Metric\", \"1\": \"World\", \"2\": \"Sports\", \"3\": \"Business\", \"4\": \"Sci/Tech\"}, inplace=True)\n",
    "\n",
    "nn_reviews_augmented_baseline.rename(columns={\"Unnamed: 0\": \"Metric\"}, inplace=True)\n",
    "svm_reviews_augmented_baseline.rename(columns={\"Unnamed: 0\": \"Metric\"}, inplace=True)\n",
    "\n",
    "lstm_reviews_best_parameters.rename(columns={\"Unnamed: 0\": \"Metric\", \"0\": \"negative\", \"1\": \"neutral\", \"2\":\"positive\"}, inplace=True)\n",
    "lstm_reviews_bigger_parameters.rename(columns={\"Unnamed: 0\": \"Metric\", \"0\": \"negative\", \"1\": \"neutral\", \"2\":\"positive\"}, inplace=True)\n",
    "lstm_reviews_base_model.rename(columns={\"Unnamed: 0\": \"Metric\", \"0\": \"negative\", \"1\": \"neutral\", \"2\":\"positive\"}, inplace=True)\n",
    "lstm_reviews_augmented_best_parameters.rename(columns={\"Unnamed: 0\": \"Metric\", \"0\": \"negative\", \"1\": \"neutral\", \"2\":\"positive\"}, inplace=True)\n",
    "lstm_reviews_base_model_dropout.rename(columns={\"Unnamed: 0\": \"Metric\", \"0\": \"negative\", \"1\": \"neutral\", \"2\":\"positive\"}, inplace=True)\n",
    "\n",
    "lstm_news_base_model.rename(\n",
    "    columns={\"Unnamed: 0\": \"Metric\", \"0\": \"World\", \"1\": \"Sports\", \"2\": \"Business\", \"3\": \"Sci/Tech\"}, inplace=True)\n",
    "lstm_news_best_parameters.rename(\n",
    "    columns={\"Unnamed: 0\": \"Metric\", \"0\": \"World\", \"1\": \"Sports\", \"2\": \"Business\", \"3\": \"Sci/Tech\"}, inplace=True)\n",
    "lstm_news_bigger_parameters.rename(\n",
    "    columns={\"Unnamed: 0\": \"Metric\", \"0\": \"World\", \"1\": \"Sports\", \"2\": \"Business\", \"3\": \"Sci/Tech\"}, inplace=True)\n",
    "\n",
    "bert_reviews.rename(columns={\"Unnamed: 0\": \"Metric\", \"0\": \"negative\", \"1\": \"neutral\", \"2\":\"positive\"}, inplace=True)\n",
    "bert_news.rename(\n",
    "    columns={\"Unnamed: 0\": \"Metric\", \"1\": \"World\", \"2\": \"Sports\", \"3\": \"Business\", \"4\": \"Sci/Tech\"}, inplace=True)"
   ],
   "metadata": {
    "collapsed": false
   }
  },
  {
   "cell_type": "code",
   "execution_count": null,
   "outputs": [],
   "source": [
    "nn_reviews_baseline.set_index('Metric', inplace=True)\n",
    "svm_reviews_baseline.set_index('Metric', inplace=True)\n",
    "nn_news_baseline.set_index('Metric', inplace=True)\n",
    "svm_news_baseline.set_index('Metric', inplace=True)\n",
    "\n",
    "nn_reviews_augmented_baseline.set_index('Metric', inplace=True)\n",
    "svm_reviews_augmented_baseline.set_index('Metric', inplace=True)\n",
    "\n",
    "lstm_reviews_base_model_dropout.set_index('Metric', inplace=True)\n",
    "lstm_reviews_best_parameters.set_index('Metric', inplace=True)\n",
    "lstm_reviews_base_model.set_index('Metric', inplace=True)\n",
    "lstm_reviews_bigger_parameters.set_index('Metric', inplace=True)\n",
    "lstm_reviews_augmented_best_parameters.set_index('Metric', inplace=True)\n",
    "\n",
    "lstm_news_base_model.set_index('Metric', inplace=True)\n",
    "lstm_news_bigger_parameters.set_index('Metric', inplace=True)\n",
    "lstm_news_best_parameters.set_index('Metric', inplace=True)\n",
    "\n",
    "bert_reviews.set_index('Metric', inplace=True)\n",
    "bert_news.set_index('Metric', inplace=True)"
   ],
   "metadata": {
    "collapsed": false
   }
  },
  {
   "cell_type": "markdown",
   "source": [
    "### Creating Runtime Dataframe"
   ],
   "metadata": {
    "collapsed": false
   }
  },
  {
   "cell_type": "code",
   "execution_count": null,
   "outputs": [],
   "source": [
    "runtimes = pd.DataFrame.from_dict({\n",
    "    \"train\": [nn_reviews_baseline.train_time[0],\n",
    "              svm_reviews_baseline.train_time[0],\n",
    "              nn_reviews_augmented_baseline.train_time[0],\n",
    "              svm_reviews_augmented_baseline.train_time[0],\n",
    "              nn_news_baseline.train_time[0],\n",
    "              svm_news_baseline.train_time[0],\n",
    "              lstm_reviews_base_model_dropout.train_time[0],\n",
    "              lstm_reviews_best_parameters.train_time[0],\n",
    "              lstm_reviews_base_model.train_time[0],\n",
    "              lstm_reviews_bigger_parameters.train_time[0],\n",
    "              lstm_reviews_augmented_best_parameters.train_time[0],\n",
    "              lstm_news_base_model.train_time[0],\n",
    "              lstm_news_bigger_parameters.train_time[0],\n",
    "              lstm_news_best_parameters.train_time[0],\n",
    "              bert_reviews.train_time[0],\n",
    "              bert_news.train_time[0]],\n",
    "    \"test\": [nn_reviews_baseline.test_time[0],\n",
    "             svm_reviews_baseline.test_time[0],\n",
    "             nn_reviews_augmented_baseline.test_time[0],\n",
    "             svm_reviews_augmented_baseline.test_time[0],\n",
    "             nn_news_baseline.test_time[0],\n",
    "             svm_news_baseline.test_time[0],\n",
    "             lstm_reviews_base_model_dropout.test_time[0],\n",
    "             lstm_reviews_best_parameters.test_time[0],\n",
    "             lstm_reviews_base_model.test_time[0],\n",
    "             lstm_reviews_bigger_parameters.test_time[0],\n",
    "             lstm_reviews_augmented_best_parameters.test_time[0],\n",
    "             lstm_news_base_model.test_time[0],\n",
    "             lstm_news_bigger_parameters.test_time[0],\n",
    "             lstm_news_best_parameters.test_time[0],\n",
    "             bert_reviews.test_time[0],\n",
    "             bert_news.test_time[0]]\n",
    "}\n",
    ")\n",
    "runtimes.index = [\"nn_reviews\", \"svm_reviews\", \"nn_reviews_augmented\",\n",
    "                  \"svm_reviews_augmented\", \"nn_news\", \"svm_news\",\n",
    "                  \"lstm_reviews_base_model_dropout\", \"lstm_reviews_best_parameters\",\n",
    "                  \"lstm_reviews_base_model\", \"lstm_reviews_bigger_parameters\",\n",
    "                  \"lstm_reviews_augmented_best_parameters\", \"lstm_news_base_model\",\n",
    "                  \"lstm_news_bigger_parameters\", \"lstm_news_best_parameters\",\n",
    "                  \"bert_reviews\", \"bert_news\"]\n",
    "\n",
    "feature_extraction_times = pd.DataFrame.from_dict(\n",
    "    {\"feature_extraction\": [nn_reviews_baseline.feature_extraction_time[0],\n",
    "                            nn_reviews_baseline.feature_extraction_time[0],\n",
    "                            nn_reviews_augmented_baseline.feature_extraction_time[0],\n",
    "                            nn_reviews_augmented_baseline.feature_extraction_time[0],\n",
    "                            nn_news_baseline.feature_extraction_time[0],\n",
    "                            nn_news_baseline.feature_extraction_time[0]]})\n",
    "feature_extraction_times.index = [\"nn_reviews\", \"svm_reviews\", \"nn_reviews_augmented\",\n",
    "                                  \"svm_reviews_augmented\", \"nn_news\", \"svm_news\"]"
   ],
   "metadata": {
    "collapsed": false
   }
  },
  {
   "cell_type": "markdown",
   "source": [
    "## Combining non-class metrics into one DF"
   ],
   "metadata": {
    "collapsed": false
   }
  },
  {
   "cell_type": "code",
   "execution_count": null,
   "outputs": [],
   "source": [
    "overall_metrics = pd.DataFrame.from_dict({\n",
    "    \"accuracy\": [nn_reviews_baseline.accuracy[0],\n",
    "                 svm_reviews_baseline.accuracy[0],\n",
    "                 nn_reviews_augmented_baseline.accuracy[0],\n",
    "                 svm_reviews_augmented_baseline.accuracy[0],\n",
    "                 nn_news_baseline.accuracy[0],\n",
    "                 svm_news_baseline.accuracy[0],\n",
    "                 lstm_reviews_base_model_dropout.accuracy[0],\n",
    "                 lstm_reviews_best_parameters.accuracy[0],\n",
    "                 lstm_reviews_base_model.accuracy[0],\n",
    "                 lstm_reviews_bigger_parameters.accuracy[0],\n",
    "                 lstm_reviews_augmented_best_parameters.accuracy[0],\n",
    "                 lstm_news_base_model.accuracy[0],\n",
    "                 lstm_news_bigger_parameters.accuracy[0],\n",
    "                 lstm_news_best_parameters.accuracy[0],\n",
    "                 bert_reviews.accuracy[0],\n",
    "                 bert_news.accuracy[0]],\n",
    "    \"macro avg\": [nn_reviews_baseline['macro avg'][0],\n",
    "                  svm_reviews_baseline['macro avg'][0],\n",
    "                  nn_reviews_augmented_baseline['macro avg'][0],\n",
    "                  svm_reviews_augmented_baseline['macro avg'][0],\n",
    "                  nn_news_baseline['macro avg'][0],\n",
    "                  svm_news_baseline['macro avg'][0],\n",
    "                  lstm_reviews_base_model_dropout['macro avg'][0],\n",
    "                  lstm_reviews_best_parameters['macro avg'][0],\n",
    "                  lstm_reviews_base_model['macro avg'][0],\n",
    "                  lstm_reviews_bigger_parameters['macro avg'][0],\n",
    "                  lstm_reviews_augmented_best_parameters['macro avg'][0],\n",
    "                  lstm_news_base_model['macro avg'][0],\n",
    "                  lstm_news_bigger_parameters['macro avg'][0],\n",
    "                  lstm_news_best_parameters['macro avg'][0],\n",
    "                  bert_reviews['macro avg'][0],\n",
    "                  bert_news['macro avg'][0]],\n",
    "    \"weighted avg\": [nn_reviews_baseline['weighted avg'][0],\n",
    "                     svm_reviews_baseline['weighted avg'][0],\n",
    "                     nn_reviews_augmented_baseline['weighted avg'][0],\n",
    "                     svm_reviews_augmented_baseline['weighted avg'][0],\n",
    "                     nn_news_baseline['weighted avg'][0],\n",
    "                     svm_news_baseline['weighted avg'][0],\n",
    "                     lstm_reviews_base_model_dropout['weighted avg'][0],\n",
    "                     lstm_reviews_best_parameters['weighted avg'][0],\n",
    "                     lstm_reviews_base_model['weighted avg'][0],\n",
    "                     lstm_reviews_bigger_parameters['weighted avg'][0],\n",
    "                     lstm_reviews_augmented_best_parameters['weighted avg'][0],\n",
    "                     lstm_news_base_model['weighted avg'][0],\n",
    "                     lstm_news_bigger_parameters['weighted avg'][0],\n",
    "                     lstm_news_best_parameters['weighted avg'][0],\n",
    "                     bert_reviews['weighted avg'][0],\n",
    "                     bert_news['weighted avg'][0]]\n",
    "})\n",
    "overall_metrics.index = [\"nn_reviews\", \"svm_reviews\", \"nn_reviews_augmented\",\n",
    "                  \"svm_reviews_augmented\", \"nn_news\", \"svm_news\",\n",
    "                  \"lstm_reviews_base_model_dropout\", \"lstm_reviews_best_parameters\",\n",
    "                  \"lstm_reviews_base_model\", \"lstm_reviews_bigger_parameters\",\n",
    "                  \"lstm_reviews_augmented_best_parameters\", \"lstm_news_base_model\",\n",
    "                  \"lstm_news_bigger_parameters\", \"lstm_news_best_parameters\",\n",
    "                  \"bert_reviews\", \"bert_news\"]\n"
   ],
   "metadata": {
    "collapsed": false
   }
  },
  {
   "cell_type": "code",
   "execution_count": null,
   "outputs": [],
   "source": [
    "overall_metrics_reviews = overall_metrics.loc[overall_metrics.index.str.contains('reviews')]\n",
    "overall_metrics_news = overall_metrics.loc[overall_metrics.index.str.contains('news')]"
   ],
   "metadata": {
    "collapsed": false
   }
  },
  {
   "cell_type": "markdown",
   "source": [
    "Dropping time and overall columns from original datasets"
   ],
   "metadata": {
    "collapsed": false
   }
  },
  {
   "cell_type": "code",
   "execution_count": null,
   "outputs": [],
   "source": [
    "nn_reviews_baseline.drop(columns=['train_time', 'test_time', 'feature_extraction_time', 'accuracy', 'macro avg', 'weighted avg'], inplace=True)\n",
    "nn_news_baseline.drop(columns=['train_time', 'test_time', 'feature_extraction_time', 'accuracy', 'macro avg', 'weighted avg'], inplace=True)\n",
    "nn_reviews_augmented_baseline.drop(columns=['train_time', 'test_time', 'feature_extraction_time', 'accuracy', 'macro avg', 'weighted avg', 'augmentation_time'], inplace=True)\n",
    "\n",
    "svm_reviews_baseline.drop(columns=['train_time', 'test_time', 'accuracy', 'macro avg', 'weighted avg'], inplace=True)\n",
    "svm_news_baseline.drop(columns=['train_time', 'test_time', 'accuracy', 'macro avg', 'weighted avg'], inplace=True)\n",
    "svm_reviews_augmented_baseline.drop(columns=['train_time', 'test_time', 'accuracy', 'macro avg', 'weighted avg'], inplace=True)\n",
    "\n",
    "lstm_reviews_base_model.drop(columns=['train_time', 'test_time', 'accuracy', 'macro avg', 'weighted avg'], inplace=True)\n",
    "lstm_reviews_best_parameters.drop(columns=['train_time', 'test_time', 'accuracy', 'macro avg', 'weighted avg'], inplace=True)\n",
    "lstm_reviews_base_model_dropout.drop(columns=['train_time', 'test_time', 'accuracy', 'macro avg', 'weighted avg'], inplace=True)\n",
    "lstm_reviews_bigger_parameters.drop(columns=['train_time', 'test_time', 'accuracy', 'macro avg', 'weighted avg'], inplace=True)\n",
    "lstm_reviews_augmented_best_parameters.drop(columns=['train_time', 'test_time', 'accuracy', 'macro avg', 'weighted avg'], inplace=True)\n",
    "\n",
    "lstm_news_base_model.drop(columns=['train_time', 'test_time', 'accuracy', 'macro avg', 'weighted avg'], inplace=True)\n",
    "lstm_news_bigger_parameters.drop(columns=['train_time', 'test_time', 'accuracy', 'macro avg', 'weighted avg'], inplace=True)\n",
    "lstm_news_best_parameters.drop(columns=['train_time', 'test_time', 'accuracy', 'macro avg', 'weighted avg'], inplace=True)\n",
    "\n",
    "bert_reviews.drop(columns=['train_time', 'test_time', 'accuracy', 'macro avg', 'weighted avg'], inplace=True)\n",
    "bert_news.drop(columns=['train_time', 'test_time', 'accuracy', 'macro avg', 'weighted avg'], inplace=True)"
   ],
   "metadata": {
    "collapsed": false
   }
  },
  {
   "cell_type": "code",
   "execution_count": null,
   "outputs": [],
   "source": [
    "fst_patch = Patch(color=fst, label='Baseline')\n",
    "snd_patch = Patch(color=snd, label='LSTM')\n",
    "trd_patch = Patch(color=trd, label='BERT')"
   ],
   "metadata": {
    "collapsed": false
   }
  },
  {
   "cell_type": "markdown",
   "source": [
    "## Overall Metrics comparison (Accuracy micro, macro and weighted avg)"
   ],
   "metadata": {
    "collapsed": false
   }
  },
  {
   "cell_type": "markdown",
   "source": [
    "### Reviews Dataset"
   ],
   "metadata": {
    "collapsed": false
   }
  },
  {
   "cell_type": "code",
   "execution_count": null,
   "outputs": [],
   "source": [
    "plt.bar(overall_metrics_reviews.index, overall_metrics_reviews.accuracy,\n",
    "        color=[fst for x in range(4)]+ [snd for x in range(5)] + [trd])\n",
    "plt.xticks(rotation=90)\n",
    "\n",
    "plt.title('Micro-Avg Accuracy Reviews')\n",
    "plt.legend(handles=[fst_patch,snd_patch,trd_patch], loc='lower right')\n",
    "plt.show()"
   ],
   "metadata": {
    "collapsed": false
   }
  },
  {
   "cell_type": "code",
   "execution_count": null,
   "outputs": [],
   "source": [
    "plt.bar(overall_metrics_reviews.index, overall_metrics_reviews['macro avg'],\n",
    "        color=[fst for x in range(4)]+ [snd for x in range(5)] + [trd])\n",
    "plt.xticks(rotation=90)\n",
    "\n",
    "plt.title('Macro-Avg Accuracy Reviews')\n",
    "plt.legend(handles=[fst_patch,snd_patch,trd_patch], loc='lower right')\n",
    "plt.show()"
   ],
   "metadata": {
    "collapsed": false
   }
  },
  {
   "cell_type": "code",
   "execution_count": null,
   "outputs": [],
   "source": [
    "plt.bar(overall_metrics_reviews.index, overall_metrics_reviews['weighted avg'],\n",
    "        color=[fst for x in range(4)]+ [snd for x in range(5)] + [trd])\n",
    "plt.xticks(rotation=90)\n",
    "\n",
    "plt.title('Weighted-Avg Accuracy Reviews')\n",
    "plt.legend(handles=[fst_patch,snd_patch,trd_patch], loc='lower right')\n",
    "plt.show()"
   ],
   "metadata": {
    "collapsed": false
   }
  },
  {
   "cell_type": "markdown",
   "source": [
    "### News Dataset"
   ],
   "metadata": {
    "collapsed": false
   }
  },
  {
   "cell_type": "code",
   "execution_count": null,
   "outputs": [],
   "source": [
    "plt.bar(overall_metrics_news.index, overall_metrics_news.accuracy,\n",
    "        color=[fst for x in range(2)]+ [snd for x in range(3)] + [trd])\n",
    "plt.xticks(rotation=90)\n",
    "\n",
    "plt.title('Micro-Avg Accuracy News')\n",
    "plt.legend(handles=[fst_patch,snd_patch,trd_patch], loc='lower right')\n",
    "plt.show()"
   ],
   "metadata": {
    "collapsed": false
   }
  },
  {
   "cell_type": "code",
   "execution_count": null,
   "outputs": [],
   "source": [
    "plt.bar(overall_metrics_news.index, overall_metrics_news['macro avg'],\n",
    "        color=[fst for x in range(2)]+ [snd for x in range(3)] + [trd])\n",
    "plt.xticks(rotation=90)\n",
    "\n",
    "plt.title('Macro-Avg Accuracy News')\n",
    "plt.legend(handles=[fst_patch,snd_patch,trd_patch], loc='lower right')\n",
    "plt.show()"
   ],
   "metadata": {
    "collapsed": false
   }
  },
  {
   "cell_type": "code",
   "execution_count": null,
   "outputs": [],
   "source": [
    "plt.bar(overall_metrics_news.index, overall_metrics_news['weighted avg'],\n",
    "        color=[fst for x in range(2)]+ [snd for x in range(3)] + [trd])\n",
    "plt.xticks(rotation=90)\n",
    "\n",
    "plt.title('Weighted-Avg Accuracy News')\n",
    "plt.legend(handles=[fst_patch,snd_patch,trd_patch], loc='lower right')\n",
    "plt.show()"
   ],
   "metadata": {
    "collapsed": false
   }
  },
  {
   "cell_type": "code",
   "execution_count": null,
   "outputs": [],
   "source": [
    "plt.bar(nn_reviews_baseline.columns, nn_reviews_baseline.loc['recall', :])\n",
    "plt.xticks(rotation=45)\n",
    "plt.title(\"Recall NN Reviews\")\n",
    "plt.show()"
   ],
   "metadata": {
    "collapsed": false
   }
  },
  {
   "cell_type": "code",
   "execution_count": null,
   "outputs": [],
   "source": [
    "plt.bar(nn_news_baseline.columns, nn_news_baseline.loc['recall', :])\n",
    "plt.xticks(rotation=45)\n",
    "plt.title(\"Recall NN News\")\n",
    "plt.show()"
   ],
   "metadata": {
    "collapsed": false
   }
  },
  {
   "cell_type": "code",
   "execution_count": null,
   "outputs": [],
   "source": [],
   "metadata": {
    "collapsed": false
   }
  },
  {
   "cell_type": "code",
   "execution_count": null,
   "outputs": [],
   "source": [
    "x = np.arange(nn_reviews_baseline.shape[1])\n",
    "width = 0.1\n",
    "plt.figure(figsize=(6,6))\n",
    "\n",
    "# plot data in grouped manner of bar type\n",
    "plt.bar(x - 3*width, nn_reviews_baseline.loc['recall', :], width)\n",
    "plt.bar(x - 2*width, svm_reviews_baseline.loc['recall', :], width)\n",
    "plt.bar(x -width, lstm_reviews_best_parameters.loc['recall', :], width)\n",
    "plt.bar(x , lstm_reviews_base_model.loc['recall', :], width)\n",
    "plt.bar(x + width, lstm_reviews_augmented_best_parameters.loc['recall', :], width)\n",
    "plt.bar(x + 2*width, lstm_reviews_bigger_parameters.loc['recall', :], width)\n",
    "plt.bar(x + 3*width, bert_reviews.loc['recall', :], width)\n",
    "\n",
    "plt.xticks(x, nn_reviews_baseline.columns, rotation=45)\n",
    "plt.title(\"Amazon Reviews Recall\")\n",
    "plt.legend(['NN', 'SVM', 'LSTM Best', 'LSTM Base', 'LSTM augmented', 'LSTM Bigger',  'BERT'],\n",
    "           loc='lower right')\n",
    "plt.show()"
   ],
   "metadata": {
    "collapsed": false
   }
  },
  {
   "cell_type": "code",
   "execution_count": null,
   "outputs": [],
   "source": [
    "x = np.arange(nn_reviews_baseline.shape[1])\n",
    "width = 0.1\n",
    "plt.figure(figsize=(6,6))\n",
    "\n",
    "# plot data in grouped manner of bar type\n",
    "plt.bar(x - 3*width, nn_reviews_baseline.loc['precision', :], width)\n",
    "plt.bar(x - 2*width, svm_reviews_baseline.loc['precision', :], width)\n",
    "plt.bar(x -width, lstm_reviews_best_parameters.loc['precision', :], width)\n",
    "plt.bar(x , lstm_reviews_base_model.loc['precision', :], width)\n",
    "plt.bar(x + width, lstm_reviews_augmented_best_parameters.loc['precision', :], width)\n",
    "plt.bar(x + 2*width, lstm_reviews_bigger_parameters.loc['precision', :], width)\n",
    "plt.bar(x + 3*width, bert_reviews.loc['precision', :], width)\n",
    "\n",
    "plt.xticks(x, nn_reviews_baseline.columns, rotation=45)\n",
    "plt.title(\"Amazon Reviews Precision\")\n",
    "plt.legend(['NN', 'SVM', 'LSTM Best', 'LSTM Base', 'LSTM augmented', 'LSTM Bigger',  'BERT'],\n",
    "           loc='lower right')\n",
    "plt.show()"
   ],
   "metadata": {
    "collapsed": false
   }
  },
  {
   "cell_type": "code",
   "execution_count": null,
   "outputs": [],
   "source": [
    "x = np.arange(nn_news_baseline.shape[1])\n",
    "width = 0.12\n",
    "\n",
    "# plot data in grouped manner of bar type\n",
    "plt.bar(x - 2.5*width, nn_news_baseline.loc['recall', :], width)\n",
    "plt.bar(x - 1.5*width, svm_news_baseline.loc['recall', :], width)\n",
    "plt.bar(x - 0.5*width, lstm_news_base_model.loc['recall', :], width)\n",
    "plt.bar(x + 0.5*width, lstm_news_best_parameters.loc['recall', :], width)\n",
    "plt.bar(x + 1.5*width, lstm_news_bigger_parameters.loc['recall', :], width)\n",
    "plt.bar(x + 2.5*width, bert_news.loc['recall', :], width)\n",
    "plt.xticks(x, nn_news_baseline.columns, rotation=45)\n",
    "plt.title(\"AG News Recall\")\n",
    "plt.legend(['NN', 'SVM', 'LSTM Base', 'LSTM Best', 'LSTM Bigger',  'BERT'],\n",
    "           loc='lower right')\n",
    "plt.show()"
   ],
   "metadata": {
    "collapsed": false
   }
  },
  {
   "cell_type": "code",
   "execution_count": null,
   "outputs": [],
   "source": [
    "x = np.arange(nn_news_baseline.shape[1])\n",
    "width = 0.12\n",
    "\n",
    "# plot data in grouped manner of bar type\n",
    "plt.bar(x - 2.5*width, nn_news_baseline.loc['precision', :], width)\n",
    "plt.bar(x - 1.5*width, svm_news_baseline.loc['precision', :], width)\n",
    "plt.bar(x - 0.5*width, lstm_news_base_model.loc['precision', :], width)\n",
    "plt.bar(x + 0.5*width, lstm_news_best_parameters.loc['precision', :], width)\n",
    "plt.bar(x + 1.5*width, lstm_news_bigger_parameters.loc['precision', :], width)\n",
    "plt.bar(x + 2.5*width, bert_news.loc['precision', :], width)\n",
    "plt.xticks(x, nn_news_baseline.columns, rotation=45)\n",
    "plt.title(\"AG News Precision\")\n",
    "plt.legend(['NN', 'SVM', 'LSTM Base', 'LSTM Best', 'LSTM Bigger',  'BERT'],\n",
    "           loc='lower right')\n",
    "plt.show()"
   ],
   "metadata": {
    "collapsed": false
   }
  },
  {
   "cell_type": "code",
   "execution_count": null,
   "outputs": [],
   "source": [
    "\n",
    "x = runtimes.index\n",
    "# plot bars in stack manner\n",
    "plt.bar(x, runtimes.train / 60, color=[fst, fst, snd, snd])\n",
    "#plt.bar(x, runtimes.test, bottom=runtimes.train, color='b')\n",
    "#plt.yscale(\"log\")\n",
    "plt.title(\"Train Times (mins)\")\n",
    "plt.xticks(rotation=90)\n",
    "plt.show()"
   ],
   "metadata": {
    "collapsed": false
   }
  },
  {
   "cell_type": "code",
   "execution_count": null,
   "outputs": [],
   "source": [
    "x = runtimes.index\n",
    "plt.bar(x, runtimes.test / 60)\n",
    "plt.title(\"Test Times (mins)\")\n",
    "\n",
    "plt.xticks(rotation=90)\n",
    "plt.show()"
   ],
   "metadata": {
    "collapsed": false
   }
  },
  {
   "cell_type": "code",
   "execution_count": null,
   "outputs": [],
   "source": [
    "feature_extraction_times"
   ],
   "metadata": {
    "collapsed": false
   }
  },
  {
   "cell_type": "code",
   "execution_count": null,
   "outputs": [],
   "source": [],
   "metadata": {
    "collapsed": false
   }
  },
  {
   "cell_type": "code",
   "execution_count": null,
   "outputs": [],
   "source": [
    "x = ['Reviews', 'Augmented Reviews', 'News']\n",
    "plt.bar(x, feature_extraction_times.feature_extraction[['nn_reviews', 'nn_reviews_augmented', 'nn_news']])\n",
    "plt.title(\"Feature Extraction Times (seconds)\")\n",
    "plt.xticks(rotation=45)\n",
    "plt.show()"
   ],
   "metadata": {
    "collapsed": false
   }
  },
  {
   "cell_type": "code",
   "execution_count": null,
   "outputs": [],
   "source": [
    "x = runtimes.index\n",
    "# plot bars in stack manner\n",
    "plt.bar(x, runtimes.train / 60)\n",
    "plt.bar(x, runtimes.test / 60, bottom=runtimes.train / 60, color='aquamarine')\n",
    "plt.yscale(\"log\")\n",
    "plt.ylim((0, 10 ** 3))\n",
    "plt.xticks(rotation=90)\n",
    "plt.title(\"Total Times (mins) [log scale]\")\n",
    "plt.legend(['Train', 'Test'], loc='upper left')\n",
    "plt.show()"
   ],
   "metadata": {
    "collapsed": false
   }
  },
  {
   "cell_type": "markdown",
   "source": [
    "## LSTM"
   ],
   "metadata": {
    "collapsed": false
   }
  },
  {
   "cell_type": "code",
   "execution_count": null,
   "outputs": [],
   "source": [],
   "metadata": {
    "collapsed": false
   }
  },
  {
   "cell_type": "code",
   "execution_count": null,
   "outputs": [],
   "source": [
    "x = np.arange(lstm_reviews_base_model_dropout.shape[1])\n",
    "width = 0.15\n",
    "plt.figure(figsize=(6,6))\n",
    "\n",
    "# plot data in grouped manner of bar type\n",
    "plt.bar(x - 2*width, lstm_reviews_base_model.loc['recall', :], width)\n",
    "plt.bar(x - width, lstm_reviews_bigger_parameters.loc['recall', :], width)\n",
    "plt.bar(x , lstm_reviews_best_parameters.loc['recall', :], width)\n",
    "plt.bar(x + width, lstm_reviews_base_model_dropout.loc['recall', :], width)\n",
    "plt.bar(x + 2*width, lstm_reviews_augmented_best_parameters.loc['recall', :], width)\n",
    "\n",
    "plt.xticks(x, lstm_reviews_base_model_dropout.columns, rotation=45)\n",
    "plt.title(\"LSTM Amazon Reviews Recall\")\n",
    "plt.legend(['Base Model', 'Bigger Params', 'Best params', 'Dropout', 'Augmented'], loc='lower right')\n",
    "plt.show()"
   ],
   "metadata": {
    "collapsed": false
   }
  },
  {
   "cell_type": "code",
   "execution_count": null,
   "outputs": [],
   "source": [
    "lstm_news_base_model"
   ],
   "metadata": {
    "collapsed": false
   }
  },
  {
   "cell_type": "code",
   "execution_count": null,
   "outputs": [],
   "source": [
    "x = np.arange(lstm_news_best_parameters.shape[1])\n",
    "width = 0.25\n",
    "plt.figure(figsize=(6,6))\n",
    "\n",
    "# plot data in grouped manner of bar type\n",
    "plt.bar(x - width, lstm_news_base_model.loc['recall', :], width)\n",
    "plt.bar(x , lstm_news_bigger_parameters.loc['recall', :], width)\n",
    "plt.bar(x + width, lstm_news_best_parameters.loc['recall', :], width)\n",
    "\n",
    "plt.xticks(x, lstm_news_best_parameters.columns, rotation=45)\n",
    "plt.title(\"LSTM AG News Recall\")\n",
    "plt.legend(['Base Model', 'Bigger Params', 'Best params'], loc='lower right')\n",
    "plt.show()"
   ],
   "metadata": {
    "collapsed": false
   }
  },
  {
   "cell_type": "code",
   "execution_count": null,
   "outputs": [],
   "source": [
    "print(overall_metrics_reviews.to_latex(float_format=\"%.2f\", caption=\"Reviews Dataset Overall Metrics\"))"
   ],
   "metadata": {
    "collapsed": false
   }
  },
  {
   "cell_type": "code",
   "execution_count": null,
   "outputs": [],
   "source": [
    "print(overall_metrics_news.to_latex(float_format=\"%.2f\", caption=\"News Dataset Overall Metrics\"))"
   ],
   "metadata": {
    "collapsed": false
   }
  },
  {
   "cell_type": "markdown",
   "source": [
    "### Class wise metrics latex tables export"
   ],
   "metadata": {
    "collapsed": false
   }
  },
  {
   "cell_type": "markdown",
   "source": [
    "#### Reviews Dataset"
   ],
   "metadata": {
    "collapsed": false
   }
  },
  {
   "cell_type": "code",
   "execution_count": null,
   "outputs": [],
   "source": [
    "reviews_recall = pd.DataFrame.from_dict({\n",
    "    \"nn_baseline\": nn_reviews_baseline.loc['recall'],\n",
    "    \"svm_baseline\": svm_reviews_baseline.loc['recall'],\n",
    "    \"nn_augmented_baseline\": nn_reviews_augmented_baseline.loc['recall'],\n",
    "    \"svm_augmented_baseline\": svm_reviews_augmented_baseline.loc['recall'],\n",
    "    \"lstm_base_model\": lstm_reviews_base_model.loc['recall'],\n",
    "    \"lstm_base_model_dropout\": lstm_reviews_base_model_dropout.loc['recall'],\n",
    "    \"lstm_best_params\": lstm_reviews_best_parameters.loc['recall'],\n",
    "    \"lstm_bigger_params_model\": lstm_reviews_bigger_parameters.loc['recall'],\n",
    "    \"lstm_augmented_model\": lstm_reviews_augmented_best_parameters.loc['recall'],\n",
    "    \"bert_model\" : bert_reviews.loc['recall']\n",
    "}).T\n",
    "\n",
    "reviews_recall"
   ],
   "metadata": {
    "collapsed": false
   }
  },
  {
   "cell_type": "code",
   "execution_count": null,
   "outputs": [],
   "source": [
    "print(reviews_recall.to_latex(float_format=\"%.2f\", caption=\"Reviews Recall per class\", label=\"tab:reviews_recall\"))"
   ],
   "metadata": {
    "collapsed": false
   }
  },
  {
   "cell_type": "code",
   "execution_count": null,
   "outputs": [],
   "source": [
    "reviews_precision = pd.DataFrame.from_dict({\n",
    "    \"nn_baseline\": nn_reviews_baseline.loc['precision'],\n",
    "    \"svm_baseline\": svm_reviews_baseline.loc['precision'],\n",
    "    \"nn_augmented_baseline\": nn_reviews_augmented_baseline.loc['precision'],\n",
    "    \"svm_augmented_baseline\": svm_reviews_augmented_baseline.loc['precision'],\n",
    "    \"lstm_base_model\": lstm_reviews_base_model.loc['precision'],\n",
    "    \"lstm_base_model_dropout\": lstm_reviews_base_model_dropout.loc['precision'],\n",
    "    \"lstm_best_params\": lstm_reviews_best_parameters.loc['precision'],\n",
    "    \"lstm_bigger_params_model\": lstm_reviews_bigger_parameters.loc['precision'],\n",
    "    \"lstm_augmented_model\": lstm_reviews_augmented_best_parameters.loc['precision'],\n",
    "    \"bert_model\" : bert_reviews.loc['precision']\n",
    "}).T\n",
    "\n",
    "reviews_precision"
   ],
   "metadata": {
    "collapsed": false
   }
  },
  {
   "cell_type": "code",
   "execution_count": null,
   "outputs": [],
   "source": [
    "print(reviews_precision.to_latex(float_format=\"%.2f\", caption=\"Reviews Precision per class\", label=\"tab:reviews_prec\"))"
   ],
   "metadata": {
    "collapsed": false
   }
  },
  {
   "cell_type": "markdown",
   "source": [
    "#### News Dataset"
   ],
   "metadata": {
    "collapsed": false
   }
  },
  {
   "cell_type": "code",
   "execution_count": null,
   "outputs": [],
   "source": [
    "news_recall = pd.DataFrame.from_dict({\n",
    "    \"nn_baseline\": nn_news_baseline.loc['recall'],\n",
    "    \"svm_baseline\": svm_news_baseline.loc['recall'],\n",
    "    \"lstm_base_model\": lstm_news_base_model.loc['recall'],\n",
    "    \"lstm_best_params\": lstm_news_best_parameters.loc['recall'],\n",
    "    \"lstm_bigger_params_model\": lstm_news_bigger_parameters.loc['recall'],\n",
    "    \"bert_model\" : bert_news.loc['recall']\n",
    "}).T\n",
    "\n",
    "news_recall"
   ],
   "metadata": {
    "collapsed": false
   }
  },
  {
   "cell_type": "code",
   "execution_count": null,
   "outputs": [],
   "source": [
    "print(news_recall.to_latex(float_format=\"%.2f\", caption=\"News Recall per class\", label=\"tab:news_recall\"))"
   ],
   "metadata": {
    "collapsed": false
   }
  },
  {
   "cell_type": "code",
   "execution_count": null,
   "outputs": [],
   "source": [
    "news_precision = pd.DataFrame.from_dict({\n",
    "    \"nn_baseline\": nn_news_baseline.loc['precision'],\n",
    "    \"svm_baseline\": svm_news_baseline.loc['precision'],\n",
    "    \"lstm_base_model\": lstm_news_base_model.loc['precision'],\n",
    "    \"lstm_best_params\": lstm_news_best_parameters.loc['precision'],\n",
    "    \"lstm_bigger_params_model\": lstm_news_bigger_parameters.loc['precision'],\n",
    "    \"bert_model\" : bert_news.loc['precision']\n",
    "}).T\n",
    "\n",
    "news_precision"
   ],
   "metadata": {
    "collapsed": false
   }
  },
  {
   "cell_type": "code",
   "execution_count": null,
   "outputs": [],
   "source": [
    "print(news_precision.to_latex(float_format=\"%.2f\", caption=\"News Precision per class\", label=\"tab:news_prec\"))"
   ],
   "metadata": {
    "collapsed": false
   }
  },
  {
   "cell_type": "code",
   "execution_count": null,
   "outputs": [],
   "source": [],
   "metadata": {
    "collapsed": false
   }
  },
  {
   "cell_type": "markdown",
   "source": [
    "Other plots:\n",
    "* same plots for BERT\n",
    "* Precision, F1 score instead of recall.."
   ],
   "metadata": {
    "collapsed": false
   }
  }
 ],
 "metadata": {
  "kernelspec": {
   "display_name": "Python 3",
   "language": "python",
   "name": "python3"
  },
  "language_info": {
   "codemirror_mode": {
    "name": "ipython",
    "version": 2
   },
   "file_extension": ".py",
   "mimetype": "text/x-python",
   "name": "python",
   "nbconvert_exporter": "python",
   "pygments_lexer": "ipython2",
   "version": "2.7.6"
  }
 },
 "nbformat": 4,
 "nbformat_minor": 0
}
