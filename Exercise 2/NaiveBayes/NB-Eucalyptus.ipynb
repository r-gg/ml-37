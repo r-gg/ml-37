{
 "cells": [
  {
   "cell_type": "code",
   "execution_count": 1,
   "id": "90104b72",
   "metadata": {},
   "outputs": [],
   "source": [
    "# imports\n",
    "import time\n",
    "import pandas as pd\n",
    "import matplotlib.pyplot as plt\n",
    "import numpy as np\n",
    "from scipy.io.arff import loadarff\n",
    "from sklearn.model_selection import train_test_split\n",
    "from sklearn.metrics import accuracy_score\n",
    "\n",
    "from naivebayes import NaiveBayes\n",
    "\n",
    "pd.set_option('display.max_rows', 500)\n",
    "pd.set_option('display.max_columns', 500)\n",
    "pd.set_option('display.width', 1000)\n",
    "\n",
    "%matplotlib inline"
   ]
  },
  {
   "cell_type": "code",
   "execution_count": 2,
   "id": "304bd082",
   "metadata": {},
   "outputs": [],
   "source": [
    "# Load learn data\n",
    "raw_data = loadarff(\"data/dataset_194_eucalyptus.arff\");\n",
    "df = pd.DataFrame(raw_data[0])"
   ]
  },
  {
   "cell_type": "code",
   "execution_count": 3,
   "id": "6f668de7",
   "metadata": {},
   "outputs": [
    {
     "data": {
      "text/html": [
       "<div>\n",
       "<style scoped>\n",
       "    .dataframe tbody tr th:only-of-type {\n",
       "        vertical-align: middle;\n",
       "    }\n",
       "\n",
       "    .dataframe tbody tr th {\n",
       "        vertical-align: top;\n",
       "    }\n",
       "\n",
       "    .dataframe thead th {\n",
       "        text-align: right;\n",
       "    }\n",
       "</style>\n",
       "<table border=\"1\" class=\"dataframe\">\n",
       "  <thead>\n",
       "    <tr style=\"text-align: right;\">\n",
       "      <th></th>\n",
       "      <th>Abbrev</th>\n",
       "      <th>Rep</th>\n",
       "      <th>Locality</th>\n",
       "      <th>Map_Ref</th>\n",
       "      <th>Latitude</th>\n",
       "      <th>Altitude</th>\n",
       "      <th>Rainfall</th>\n",
       "      <th>Frosts</th>\n",
       "      <th>Year</th>\n",
       "      <th>Sp</th>\n",
       "      <th>PMCno</th>\n",
       "      <th>DBH</th>\n",
       "      <th>Ht</th>\n",
       "      <th>Surv</th>\n",
       "      <th>Vig</th>\n",
       "      <th>Ins_res</th>\n",
       "      <th>Stem_Fm</th>\n",
       "      <th>Crown_Fm</th>\n",
       "      <th>Brnch_Fm</th>\n",
       "      <th>Utility</th>\n",
       "    </tr>\n",
       "  </thead>\n",
       "  <tbody>\n",
       "    <tr>\n",
       "      <th>0</th>\n",
       "      <td>b'Cra'</td>\n",
       "      <td>1.0</td>\n",
       "      <td>b'Central_Hawkes_Bay'</td>\n",
       "      <td>b'N135_382/137'</td>\n",
       "      <td>b'39__38'</td>\n",
       "      <td>100.0</td>\n",
       "      <td>850.0</td>\n",
       "      <td>-2.0</td>\n",
       "      <td>1980.0</td>\n",
       "      <td>b'co'</td>\n",
       "      <td>1520.0</td>\n",
       "      <td>18.45</td>\n",
       "      <td>9.96</td>\n",
       "      <td>40.0</td>\n",
       "      <td>4.0</td>\n",
       "      <td>3.0</td>\n",
       "      <td>3.5</td>\n",
       "      <td>4.0</td>\n",
       "      <td>3.5</td>\n",
       "      <td>b'good'</td>\n",
       "    </tr>\n",
       "    <tr>\n",
       "      <th>1</th>\n",
       "      <td>b'Cra'</td>\n",
       "      <td>1.0</td>\n",
       "      <td>b'Central_Hawkes_Bay'</td>\n",
       "      <td>b'N135_382/137'</td>\n",
       "      <td>b'39__38'</td>\n",
       "      <td>100.0</td>\n",
       "      <td>850.0</td>\n",
       "      <td>-2.0</td>\n",
       "      <td>1980.0</td>\n",
       "      <td>b'fr'</td>\n",
       "      <td>1487.0</td>\n",
       "      <td>13.15</td>\n",
       "      <td>9.65</td>\n",
       "      <td>90.0</td>\n",
       "      <td>4.5</td>\n",
       "      <td>4.0</td>\n",
       "      <td>3.5</td>\n",
       "      <td>3.5</td>\n",
       "      <td>3.0</td>\n",
       "      <td>b'best'</td>\n",
       "    </tr>\n",
       "    <tr>\n",
       "      <th>2</th>\n",
       "      <td>b'Cra'</td>\n",
       "      <td>1.0</td>\n",
       "      <td>b'Central_Hawkes_Bay'</td>\n",
       "      <td>b'N135_382/137'</td>\n",
       "      <td>b'39__38'</td>\n",
       "      <td>100.0</td>\n",
       "      <td>850.0</td>\n",
       "      <td>-2.0</td>\n",
       "      <td>1980.0</td>\n",
       "      <td>b'ma'</td>\n",
       "      <td>1362.0</td>\n",
       "      <td>10.32</td>\n",
       "      <td>6.50</td>\n",
       "      <td>50.0</td>\n",
       "      <td>2.3</td>\n",
       "      <td>2.5</td>\n",
       "      <td>3.0</td>\n",
       "      <td>3.5</td>\n",
       "      <td>3.0</td>\n",
       "      <td>b'low'</td>\n",
       "    </tr>\n",
       "    <tr>\n",
       "      <th>3</th>\n",
       "      <td>b'Cra'</td>\n",
       "      <td>1.0</td>\n",
       "      <td>b'Central_Hawkes_Bay'</td>\n",
       "      <td>b'N135_382/137'</td>\n",
       "      <td>b'39__38'</td>\n",
       "      <td>100.0</td>\n",
       "      <td>850.0</td>\n",
       "      <td>-2.0</td>\n",
       "      <td>1980.0</td>\n",
       "      <td>b'nd'</td>\n",
       "      <td>1596.0</td>\n",
       "      <td>14.80</td>\n",
       "      <td>9.48</td>\n",
       "      <td>70.0</td>\n",
       "      <td>3.7</td>\n",
       "      <td>3.0</td>\n",
       "      <td>3.3</td>\n",
       "      <td>4.0</td>\n",
       "      <td>3.5</td>\n",
       "      <td>b'good'</td>\n",
       "    </tr>\n",
       "    <tr>\n",
       "      <th>4</th>\n",
       "      <td>b'Cra'</td>\n",
       "      <td>1.0</td>\n",
       "      <td>b'Central_Hawkes_Bay'</td>\n",
       "      <td>b'N135_382/137'</td>\n",
       "      <td>b'39__38'</td>\n",
       "      <td>100.0</td>\n",
       "      <td>850.0</td>\n",
       "      <td>-2.0</td>\n",
       "      <td>1980.0</td>\n",
       "      <td>b'ni'</td>\n",
       "      <td>2088.0</td>\n",
       "      <td>14.50</td>\n",
       "      <td>10.78</td>\n",
       "      <td>90.0</td>\n",
       "      <td>4.0</td>\n",
       "      <td>2.7</td>\n",
       "      <td>3.3</td>\n",
       "      <td>3.0</td>\n",
       "      <td>3.0</td>\n",
       "      <td>b'good'</td>\n",
       "    </tr>\n",
       "  </tbody>\n",
       "</table>\n",
       "</div>"
      ],
      "text/plain": [
       "   Abbrev  Rep               Locality          Map_Ref   Latitude  Altitude  Rainfall  Frosts    Year     Sp   PMCno    DBH     Ht  Surv  Vig  Ins_res  Stem_Fm  Crown_Fm  Brnch_Fm  Utility\n",
       "0  b'Cra'  1.0  b'Central_Hawkes_Bay'  b'N135_382/137'  b'39__38'     100.0     850.0    -2.0  1980.0  b'co'  1520.0  18.45   9.96  40.0  4.0      3.0      3.5       4.0       3.5  b'good'\n",
       "1  b'Cra'  1.0  b'Central_Hawkes_Bay'  b'N135_382/137'  b'39__38'     100.0     850.0    -2.0  1980.0  b'fr'  1487.0  13.15   9.65  90.0  4.5      4.0      3.5       3.5       3.0  b'best'\n",
       "2  b'Cra'  1.0  b'Central_Hawkes_Bay'  b'N135_382/137'  b'39__38'     100.0     850.0    -2.0  1980.0  b'ma'  1362.0  10.32   6.50  50.0  2.3      2.5      3.0       3.5       3.0   b'low'\n",
       "3  b'Cra'  1.0  b'Central_Hawkes_Bay'  b'N135_382/137'  b'39__38'     100.0     850.0    -2.0  1980.0  b'nd'  1596.0  14.80   9.48  70.0  3.7      3.0      3.3       4.0       3.5  b'good'\n",
       "4  b'Cra'  1.0  b'Central_Hawkes_Bay'  b'N135_382/137'  b'39__38'     100.0     850.0    -2.0  1980.0  b'ni'  2088.0  14.50  10.78  90.0  4.0      2.7      3.3       3.0       3.0  b'good'"
      ]
     },
     "execution_count": 3,
     "metadata": {},
     "output_type": "execute_result"
    }
   ],
   "source": [
    "df.head()"
   ]
  },
  {
   "cell_type": "code",
   "execution_count": 4,
   "id": "b874d0f3",
   "metadata": {},
   "outputs": [],
   "source": [
    "df = df.dropna()"
   ]
  },
  {
   "cell_type": "code",
   "execution_count": 5,
   "id": "b6720cdb",
   "metadata": {},
   "outputs": [
    {
     "data": {
      "text/plain": [
       "(641, 20)"
      ]
     },
     "execution_count": 5,
     "metadata": {},
     "output_type": "execute_result"
    }
   ],
   "source": [
    "df.shape"
   ]
  },
  {
   "cell_type": "markdown",
   "id": "284c8e41",
   "metadata": {},
   "source": [
    "## Custom Implementation"
   ]
  },
  {
   "cell_type": "code",
   "execution_count": 11,
   "id": "c12779f5",
   "metadata": {},
   "outputs": [],
   "source": [
    "train, test = train_test_split(df, test_size=0.3, random_state=42, shuffle=True)\n",
    "X_test = test.drop(['Utility'], axis=1)\n",
    "y_test = list(test['Utility'])"
   ]
  },
  {
   "cell_type": "code",
   "execution_count": 12,
   "id": "d0beefa2",
   "metadata": {},
   "outputs": [
    {
     "name": "stdout",
     "output_type": "stream",
     "text": [
      "{'Abbrev': {b'Wak': {'general': 0.11607142857142858, b'low': 0.024553571428571428, b'good': 0.022321428571428572, b'average': 0.015625, b'none': 0.03794642857142857, b'best': 0.015625}, b'Cra': {'general': 0.049107142857142856, b'low': 0.004464285714285714, b'good': 0.017857142857142856, b'average': 0.015625, b'none': 0.0, b'best': 0.011160714285714286}, b'Puk': {'general': 0.13839285714285715, b'low': 0.017857142857142856, b'good': 0.03794642857142857, b'average': 0.03571428571428571, b'none': 0.03794642857142857, b'best': 0.008928571428571428}, b'K83': {'general': 0.08928571428571429, b'low': 0.017857142857142856, b'good': 0.015625, b'average': 0.029017857142857144, b'none': 0.020089285714285716, b'best': 0.006696428571428571}, b'WSp': {'general': 0.08035714285714286, b'low': 0.002232142857142857, b'good': 0.04017857142857143, b'average': 0.024553571428571428, b'none': 0.004464285714285714, b'best': 0.008928571428571428}, b'K81a': {'general': 0.05357142857142857, b'low': 0.006696428571428571, b'good': 0.011160714285714286, b'average': 0.022321428571428572, b'none': 0.006696428571428571, b'best': 0.006696428571428571}, b'K82': {'general': 0.06696428571428571, b'low': 0.022321428571428572, b'good': 0.006696428571428571, b'average': 0.013392857142857142, b'none': 0.015625, b'best': 0.008928571428571428}, b'Wai': {'general': 0.09598214285714286, b'low': 0.011160714285714286, b'good': 0.022321428571428572, b'average': 0.002232142857142857, b'none': 0.024553571428571428, b'best': 0.03571428571428571}, b'Paw': {'general': 0.08482142857142858, b'low': 0.008928571428571428, b'good': 0.04241071428571429, b'average': 0.008928571428571428, b'none': 0.004464285714285714, b'best': 0.020089285714285716}, b'Lon': {'general': 0.08482142857142858, b'low': 0.013392857142857142, b'good': 0.04241071428571429, b'average': 0.017857142857142856, b'none': 0.006696428571428571, b'best': 0.004464285714285714}, b'K81': {'general': 0.10491071428571429, b'low': 0.03125, b'good': 0.024553571428571428, b'average': 0.015625, b'none': 0.008928571428571428, b'best': 0.024553571428571428}, b'Nga': {'general': 0.03125, b'low': 0.002232142857142857, b'good': 0.020089285714285716, b'average': 0.002232142857142857, b'none': 0.006696428571428571, b'best': 0.0}, b'WSh': {'general': 0.004464285714285714, b'low': 0.0, b'good': 0.004464285714285714, b'average': 0.0, b'none': 0.0, b'best': 0.0}}, 'Locality': {b'South_Wairarapa': {'general': 0.3392857142857143, b'low': 0.05580357142857143, b'good': 0.10267857142857142, b'average': 0.06919642857142858, b'none': 0.08258928571428571, b'best': 0.029017857142857144}, b'Central_Hawkes_Bay': {'general': 0.049107142857142856, b'low': 0.004464285714285714, b'good': 0.017857142857142856, b'average': 0.015625, b'none': 0.0, b'best': 0.011160714285714286}, b'Central_Wairarapa': {'general': 0.31473214285714285, b'low': 0.078125, b'good': 0.05803571428571429, b'average': 0.08035714285714286, b'none': 0.05133928571428571, b'best': 0.046875}, b'Southern_Hawkes_Bay': {'general': 0.11607142857142858, b'low': 0.004464285714285714, b'good': 0.06473214285714286, b'average': 0.026785714285714284, b'none': 0.011160714285714286, b'best': 0.008928571428571428}, b'Central_Hawkes_Bay_(coastal)': {'general': 0.09598214285714286, b'low': 0.011160714285714286, b'good': 0.022321428571428572, b'average': 0.002232142857142857, b'none': 0.024553571428571428, b'best': 0.03571428571428571}, b'Southern_Hawkes_Bay_(coastal)': {'general': 0.08482142857142858, b'low': 0.008928571428571428, b'good': 0.04241071428571429, b'average': 0.008928571428571428, b'none': 0.004464285714285714, b'best': 0.020089285714285716}}, 'Map_Ref': {b'N162_081/300': {'general': 0.11607142857142858, b'low': 0.024553571428571428, b'good': 0.022321428571428572, b'average': 0.015625, b'none': 0.03794642857142857, b'best': 0.015625}, b'N135_382/137': {'general': 0.049107142857142856, b'low': 0.004464285714285714, b'good': 0.017857142857142856, b'average': 0.015625, b'none': 0.0, b'best': 0.011160714285714286}, b'N166_063/197': {'general': 0.13839285714285715, b'low': 0.017857142857142856, b'good': 0.03794642857142857, b'average': 0.03571428571428571, b'none': 0.03794642857142857, b'best': 0.008928571428571428}, b'N158_344/626': {'general': 0.24776785714285715, b'low': 0.05580357142857143, b'good': 0.05133928571428571, b'average': 0.06696428571428571, b'none': 0.03571428571428571, b'best': 0.03794642857142857}, b'N151_912/221': {'general': 0.08035714285714286, b'low': 0.002232142857142857, b'good': 0.04017857142857143, b'average': 0.024553571428571428, b'none': 0.004464285714285714, b'best': 0.008928571428571428}, b'N158_343/625': {'general': 0.06696428571428571, b'low': 0.022321428571428572, b'good': 0.006696428571428571, b'average': 0.013392857142857142, b'none': 0.015625, b'best': 0.008928571428571428}, b'N142_377/957': {'general': 0.09598214285714286, b'low': 0.011160714285714286, b'good': 0.022321428571428572, b'average': 0.002232142857142857, b'none': 0.024553571428571428, b'best': 0.03571428571428571}, b'N146_273/737': {'general': 0.08482142857142858, b'low': 0.008928571428571428, b'good': 0.04241071428571429, b'average': 0.008928571428571428, b'none': 0.004464285714285714, b'best': 0.020089285714285716}, b'N162_097/424': {'general': 0.08482142857142858, b'low': 0.013392857142857142, b'good': 0.04241071428571429, b'average': 0.017857142857142856, b'none': 0.006696428571428571, b'best': 0.004464285714285714}, b'N145_874/586': {'general': 0.03125, b'low': 0.002232142857142857, b'good': 0.020089285714285716, b'average': 0.002232142857142857, b'none': 0.006696428571428571, b'best': 0.0}, b'N151_922/226': {'general': 0.004464285714285714, b'low': 0.0, b'good': 0.004464285714285714, b'average': 0.0, b'none': 0.0, b'best': 0.0}}, 'Latitude': {b'41__12': {'general': 0.11607142857142858, b'low': 0.024553571428571428, b'good': 0.022321428571428572, b'average': 0.015625, b'none': 0.03794642857142857, b'best': 0.015625}, b'39__38': {'general': 0.049107142857142856, b'low': 0.004464285714285714, b'good': 0.017857142857142856, b'average': 0.015625, b'none': 0.0, b'best': 0.011160714285714286}, b'41__16': {'general': 0.13839285714285715, b'low': 0.017857142857142856, b'good': 0.03794642857142857, b'average': 0.03571428571428571, b'none': 0.03794642857142857, b'best': 0.008928571428571428}, b'40__57': {'general': 0.31473214285714285, b'low': 0.078125, b'good': 0.05803571428571429, b'average': 0.08035714285714286, b'none': 0.05133928571428571, b'best': 0.046875}, b'40__36': {'general': 0.08482142857142858, b'low': 0.002232142857142857, b'good': 0.044642857142857144, b'average': 0.024553571428571428, b'none': 0.004464285714285714, b'best': 0.008928571428571428}, b'39__50': {'general': 0.09598214285714286, b'low': 0.011160714285714286, b'good': 0.022321428571428572, b'average': 0.002232142857142857, b'none': 0.024553571428571428, b'best': 0.03571428571428571}, b'40__00': {'general': 0.08482142857142858, b'low': 0.008928571428571428, b'good': 0.04241071428571429, b'average': 0.008928571428571428, b'none': 0.004464285714285714, b'best': 0.020089285714285716}, b'41__08': {'general': 0.08482142857142858, b'low': 0.013392857142857142, b'good': 0.04241071428571429, b'average': 0.017857142857142856, b'none': 0.006696428571428571, b'best': 0.004464285714285714}, b'40__11': {'general': 0.03125, b'low': 0.002232142857142857, b'good': 0.020089285714285716, b'average': 0.002232142857142857, b'none': 0.006696428571428571, b'best': 0.0}}, 'Sp': {b'sm': {'general': 0.022321428571428572, b'low': 0.013392857142857142, b'good': 0.0, b'average': 0.0, b'none': 0.008928571428571428, b'best': 0.0}, b'si': {'general': 0.013392857142857142, b'low': 0.002232142857142857, b'good': 0.006696428571428571, b'average': 0.002232142857142857, b'none': 0.0, b'best': 0.002232142857142857}, b'br': {'general': 0.033482142857142856, b'low': 0.015625, b'good': 0.0, b'average': 0.008928571428571428, b'none': 0.004464285714285714, b'best': 0.004464285714285714}, b'ni': {'general': 0.044642857142857144, b'low': 0.006696428571428571, b'good': 0.024553571428571428, b'average': 0.006696428571428571, b'none': 0.0, b'best': 0.006696428571428571}, b'ov': {'general': 0.09151785714285714, b'low': 0.017857142857142856, b'good': 0.022321428571428572, b'average': 0.026785714285714284, b'none': 0.013392857142857142, b'best': 0.011160714285714286}, b'rd': {'general': 0.06473214285714286, b'low': 0.026785714285714284, b'good': 0.0, b'average': 0.011160714285714286, b'none': 0.026785714285714284, b'best': 0.0}, b'jo': {'general': 0.011160714285714286, b'low': 0.006696428571428571, b'good': 0.0, b'average': 0.0, b'none': 0.004464285714285714, b'best': 0.0}, b'bxs': {'general': 0.029017857142857144, b'low': 0.004464285714285714, b'good': 0.008928571428571428, b'average': 0.013392857142857142, b'none': 0.002232142857142857, b'best': 0.0}, b're': {'general': 0.13616071428571427, b'low': 0.006696428571428571, b'good': 0.044642857142857144, b'average': 0.026785714285714284, b'none': 0.013392857142857142, b'best': 0.044642857142857144}, b'nd': {'general': 0.10714285714285714, b'low': 0.004464285714285714, b'good': 0.060267857142857144, b'average': 0.020089285714285716, b'none': 0.006696428571428571, b'best': 0.015625}, b'ka': {'general': 0.033482142857142856, b'low': 0.013392857142857142, b'good': 0.0, b'average': 0.0, b'none': 0.020089285714285716, b'best': 0.0}, b'ob': {'general': 0.06919642857142858, b'low': 0.0, b'good': 0.024553571428571428, b'average': 0.013392857142857142, b'none': 0.013392857142857142, b'best': 0.017857142857142856}, b'co': {'general': 0.03125, b'low': 0.002232142857142857, b'good': 0.013392857142857142, b'average': 0.011160714285714286, b'none': 0.0, b'best': 0.004464285714285714}, b'fa': {'general': 0.07589285714285714, b'low': 0.004464285714285714, b'good': 0.029017857142857144, b'average': 0.015625, b'none': 0.011160714285714286, b'best': 0.015625}, b'ma': {'general': 0.004464285714285714, b'low': 0.002232142857142857, b'good': 0.0, b'average': 0.002232142857142857, b'none': 0.0, b'best': 0.0}, b'fr': {'general': 0.07366071428571429, b'low': 0.008928571428571428, b'good': 0.03125, b'average': 0.015625, b'none': 0.006696428571428571, b'best': 0.011160714285714286}, b'am': {'general': 0.04241071428571429, b'low': 0.0, b'good': 0.022321428571428572, b'average': 0.011160714285714286, b'none': 0.0, b'best': 0.008928571428571428}, b'cr': {'general': 0.015625, b'low': 0.008928571428571428, b'good': 0.002232142857142857, b'average': 0.004464285714285714, b'none': 0.0, b'best': 0.0}, b'nc': {'general': 0.011160714285714286, b'low': 0.004464285714285714, b'good': 0.0, b'average': 0.002232142857142857, b'none': 0.004464285714285714, b'best': 0.0}, b'ag': {'general': 0.013392857142857142, b'low': 0.002232142857142857, b'good': 0.0, b'average': 0.0, b'none': 0.011160714285714286, b'best': 0.0}, b'pa': {'general': 0.015625, b'low': 0.002232142857142857, b'good': 0.002232142857142857, b'average': 0.002232142857142857, b'none': 0.006696428571428571, b'best': 0.002232142857142857}, b'pu': {'general': 0.03794642857142857, b'low': 0.0, b'good': 0.013392857142857142, b'average': 0.006696428571428571, b'none': 0.011160714285714286, b'best': 0.006696428571428571}, b'el': {'general': 0.020089285714285716, b'low': 0.008928571428571428, b'good': 0.002232142857142857, b'average': 0.002232142857142857, b'none': 0.006696428571428571, b'best': 0.0}, b'ro': {'general': 0.002232142857142857, b'low': 0.0, b'good': 0.0, b'average': 0.0, b'none': 0.002232142857142857, b'best': 0.0}}, 'Rep': {b'low': {'mean': 2.0821917808219177, 'std': 0.8292135607766863}, b'good': {'mean': 1.9565217391304348, 'std': 0.8701838484946126}, b'average': {'mean': 2.0549450549450547, 'std': 0.8864741315099872}, b'none': {'mean': 2.0641025641025643, 'std': 0.6901861896307231}, b'best': {'mean': 2.4411764705882355, 'std': 2.53561116269694}, 'general': {'mean': 2.0892857142857144, 'std': 1.2535663410560174}}, 'Altitude': {b'low': {'mean': 180.95890410958904, 'std': 53.93319899966902}, b'good': {'mean': 173.768115942029, 'std': 61.290297615739114}, b'average': {'mean': 190.21978021978023, 'std': 58.632149352799075}, b'none': {'mean': 184.35897435897436, 'std': 71.99548585397548}, b'best': {'mean': 148.6764705882353, 'std': 59.12052985253006}, 'general': {'mean': 176.31696428571428, 'std': 62.459346797712605}}, 'Rainfall': {b'low': {'mean': 1080.13698630137, 'std': 88.01030796138679}, b'good': {'mean': 1115.4347826086957, 'std': 126.57832499279486}, b'average': {'mean': 1103.076923076923, 'std': 111.97908840188082}, b'none': {'mean': 1083.2051282051282, 'std': 88.25131748758791}, b'best': {'mean': 1081.3235294117646, 'std': 123.51692628905013}, 'general': {'mean': 1096.3839285714287, 'std': 111.9837592519989}}, 'Frosts': {b'low': {'mean': -2.767123287671233, 'std': 0.4255893934430971}, b'good': {'mean': -2.579710144927536, 'std': 0.49540360605170203}, b'average': {'mean': -2.78021978021978, 'std': 0.41639185076340457}, b'none': {'mean': -2.7948717948717947, 'std': 0.40640886452950953}, b'best': {'mean': -2.5294117647058822, 'std': 0.5028452845140674}, 'general': {'mean': -2.6808035714285716, 'std': 0.4666864266692661}}, 'Year': {b'low': {'mean': 1981.7260273972602, 'std': 0.901546109817936}, b'good': {'mean': 1981.963768115942, 'std': 1.110069507193493}, b'average': {'mean': 1981.9450549450548, 'std': 1.015027502228797}, b'none': {'mean': 1981.679487179487, 'std': 0.8450557461606981}, b'best': {'mean': 1981.5735294117646, 'std': 0.9668563688201094}, 'general': {'mean': 1981.8125, 'std': 1.00139723415918}}, 'PMCno': {b'low': {'mean': 1874.6712328767123, 'std': 600.2384029791486}, b'good': {'mean': 2103.644927536232, 'std': 507.05293926991243}, b'average': {'mean': 2028.1978021978023, 'std': 686.6149207004239}, b'none': {'mean': 1909.3589743589744, 'std': 594.8489271127974}, b'best': {'mean': 2059.0, 'std': 488.55641755515643}, 'general': {'mean': 2010.40625, 'std': 579.9827584849579}}, 'DBH': {b'low': {'mean': 8.920000000000002, 'std': 7.051974112891289}, b'good': {'mean': 18.093115942028984, 'std': 8.818799577406175}, b'average': {'mean': 13.44945054945055, 'std': 7.361725697844579}, b'none': {'mean': 7.079999999999998, 'std': 4.701956763156952}, b'best': {'mean': 638.094705882353, 'std': 5101.202868630476}, 'general': {'mean': 107.8450669642857, 'std': 1987.692009294666}}, 'Ht': {b'low': {'mean': 5.977397260273973, 'std': 2.4425635596172657}, b'good': {'mean': 10.954202898550726, 'std': 3.5092654858962273}, b'average': {'mean': 8.593956043956043, 'std': 3.5435973182067335}, b'none': {'mean': 5.526410256410257, 'std': 3.071269450454655}, b'best': {'mean': 12.19764705882353, 'std': 3.7849182714207323}, 'general': {'mean': 8.907544642857143, 'std': 4.1704536792320335}}, 'Surv': {b'low': {'mean': 63.54794520547945, 'std': 28.427803827263904}, b'good': {'mean': 67.05072463768116, 'std': 28.456734341770044}, b'average': {'mean': 58.1978021978022, 'std': 28.26195706843773}, b'none': {'mean': 39.73717948717949, 'std': 33.397908438183485}, b'best': {'mean': 73.70588235294117, 'std': 24.899834455800125}, 'general': {'mean': 60.93638392857143, 'std': 30.686476079664793}}, 'Vig': {b'low': {'mean': 2.410958904109589, 'std': 0.5404631871099128}, b'good': {'mean': 3.6043478260869564, 'std': 0.5950979267040866}, b'average': {'mean': 3.041758241758241, 'std': 0.47657713239911453}, b'none': {'mean': 1.7256410256410255, 'std': 0.7943691276870665}, b'best': {'mean': 4.147058823529412, 'std': 0.6688083830250375}, 'general': {'mean': 3.050892857142857, 'std': 1.0137970388208972}}, 'Ins_res': {b'low': {'mean': 2.3753424657534246, 'std': 0.6851157286501571}, b'good': {'mean': 3.221014492753623, 'std': 0.6101875861564015}, b'average': {'mean': 2.934065934065934, 'std': 0.7196017077707764}, b'none': {'mean': 2.27948717948718, 'std': 0.9113083180147378}, b'best': {'mean': 3.2661764705882352, 'std': 0.6273874505992664}, 'general': {'mean': 2.867857142857143, 'std': 0.8121520323300122}}, 'Stem_Fm': {b'low': {'mean': 2.6657534246575345, 'std': 0.6772532716138919}, b'good': {'mean': 3.177536231884058, 'std': 0.5361416791646798}, b'average': {'mean': 2.901098901098901, 'std': 0.5550764723079966}, b'none': {'mean': 2.467948717948718, 'std': 0.8426139893203382}, b'best': {'mean': 3.498529411764706, 'std': 0.6993584793967443}, 'general': {'mean': 2.963169642857143, 'std': 0.7317386043029063}}, 'Crown_Fm': {b'low': {'mean': 2.984931506849315, 'std': 0.8686949395623926}, b'good': {'mean': 3.410869565217391, 'std': 0.6193574233825567}, b'average': {'mean': 3.159340659340659, 'std': 0.6582768789259194}, b'none': {'mean': 2.6794871794871793, 'std': 0.7601023468951913}, b'best': {'mean': 3.6220588235294118, 'std': 0.5682772048593664}, 'general': {'mean': 3.195089285714286, 'std': 0.7551600219005861}}, 'Brnch_Fm': {b'low': {'mean': 2.86027397260274, 'std': 0.8157715717220309}, b'good': {'mean': 2.896376811594203, 'std': 0.6620482947397887}, b'average': {'mean': 2.826373626373626, 'std': 0.6969513237961082}, b'none': {'mean': 2.628205128205128, 'std': 0.9343234841104943}, b'best': {'mean': 3.1220588235294113, 'std': 0.6668808186916863}, 'general': {'mean': 2.8638392857142856, 'std': 0.7594802715265009}}, 'targets': {b'low': 0.16294642857142858, b'good': 0.3080357142857143, b'average': 0.203125, b'none': 0.17410714285714285, b'best': 0.15178571428571427}}\n"
     ]
    }
   ],
   "source": [
    "nb = NaiveBayes()\n",
    "nb.fit(train, 'Utility')"
   ]
  },
  {
   "cell_type": "code",
   "execution_count": 13,
   "id": "4cf4d612",
   "metadata": {},
   "outputs": [],
   "source": [
    "predictions = nb.predict(X_test)"
   ]
  },
  {
   "cell_type": "code",
   "execution_count": 14,
   "id": "c16a6ce0",
   "metadata": {},
   "outputs": [
    {
     "data": {
      "text/plain": [
       "0.5492227979274611"
      ]
     },
     "execution_count": 14,
     "metadata": {},
     "output_type": "execute_result"
    }
   ],
   "source": [
    "accuracy_score(y_test, predictions)"
   ]
  },
  {
   "cell_type": "markdown",
   "id": "7610314c",
   "metadata": {},
   "source": [
    "## SKLearn"
   ]
  },
  {
   "cell_type": "code",
   "execution_count": 46,
   "id": "477c4a56",
   "metadata": {},
   "outputs": [],
   "source": [
    "from sklearn.naive_bayes import GaussianNB\n",
    "from sklearn.preprocessing import LabelEncoder  "
   ]
  },
  {
   "cell_type": "code",
   "execution_count": 47,
   "id": "a704d472",
   "metadata": {},
   "outputs": [],
   "source": [
    "le = LabelEncoder()\n",
    "nominal_features = [\"Abbrev\", \"Locality\", \"Map_Ref\", \"Latitude\", \"Sp\"]\n",
    "\n",
    "X = df.drop(columns=['Utility'])\n",
    "y = df['Utility']\n",
    "\n",
    "for feature in nominal_features:\n",
    "    X[feature] = le.fit_transform(X[feature])\n",
    "\n",
    "y = le.fit_transform (y)\n",
    "\n",
    "\n",
    "X_train, X_test, y_train, y_test = train_test_split(X, y, test_size=0.3, random_state=42, shuffle=True)"
   ]
  },
  {
   "cell_type": "code",
   "execution_count": 48,
   "id": "631f2c21",
   "metadata": {},
   "outputs": [],
   "source": [
    "gnb = GaussianNB()\n",
    "y_pred = gnb.fit(X_train, y_train).predict(X_test)"
   ]
  },
  {
   "cell_type": "code",
   "execution_count": 49,
   "id": "4c5bc710",
   "metadata": {},
   "outputs": [
    {
     "data": {
      "text/plain": [
       "0.5595854922279793"
      ]
     },
     "execution_count": 49,
     "metadata": {},
     "output_type": "execute_result"
    }
   ],
   "source": [
    "accuracy_score(y_test, y_pred)"
   ]
  }
 ],
 "metadata": {
  "kernelspec": {
   "display_name": "Python 3 (ipykernel)",
   "language": "python",
   "name": "python3"
  },
  "language_info": {
   "codemirror_mode": {
    "name": "ipython",
    "version": 3
   },
   "file_extension": ".py",
   "mimetype": "text/x-python",
   "name": "python",
   "nbconvert_exporter": "python",
   "pygments_lexer": "ipython3",
   "version": "3.10.8"
  }
 },
 "nbformat": 4,
 "nbformat_minor": 5
}
