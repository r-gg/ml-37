{
 "cells": [
  {
   "cell_type": "markdown",
   "id": "f6075fdf",
   "metadata": {},
   "source": [
    "# Eucalyptus data set"
   ]
  },
  {
   "cell_type": "code",
   "execution_count": 45,
   "id": "7807db15",
   "metadata": {},
   "outputs": [],
   "source": [
    "# imports\n",
    "import time\n",
    "import pandas as pd\n",
    "import matplotlib.pyplot as plt\n",
    "import numpy as np\n",
    "from scipy.io.arff import loadarff\n",
    "from sklearn.model_selection import train_test_split, cross_val_score\n",
    "from sklearn.metrics import accuracy_score, f1_score, precision_score, recall_score\n",
    "from sklearn.model_selection import KFold\n",
    "from naivebayes import NaiveBayes\n",
    "from sklearn.neural_network import MLPClassifier\n",
    "from sklearn.naive_bayes import GaussianNB\n",
    "from sklearn.preprocessing import LabelEncoder  \n",
    "\n",
    "pd.set_option('display.max_rows', 500)\n",
    "pd.set_option('display.max_columns', 500)\n",
    "pd.set_option('display.width', 1000)\n",
    "\n",
    "%matplotlib inline"
   ]
  },
  {
   "cell_type": "code",
   "execution_count": 46,
   "id": "304bd082",
   "metadata": {},
   "outputs": [],
   "source": [
    "# Load learn data\n",
    "raw_data = loadarff(\"data/dataset_194_eucalyptus.arff\");\n",
    "df = pd.DataFrame(raw_data[0])"
   ]
  },
  {
   "cell_type": "code",
   "execution_count": 47,
   "id": "6f668de7",
   "metadata": {},
   "outputs": [
    {
     "data": {
      "text/html": [
       "<div>\n",
       "<style scoped>\n",
       "    .dataframe tbody tr th:only-of-type {\n",
       "        vertical-align: middle;\n",
       "    }\n",
       "\n",
       "    .dataframe tbody tr th {\n",
       "        vertical-align: top;\n",
       "    }\n",
       "\n",
       "    .dataframe thead th {\n",
       "        text-align: right;\n",
       "    }\n",
       "</style>\n",
       "<table border=\"1\" class=\"dataframe\">\n",
       "  <thead>\n",
       "    <tr style=\"text-align: right;\">\n",
       "      <th></th>\n",
       "      <th>Abbrev</th>\n",
       "      <th>Rep</th>\n",
       "      <th>Locality</th>\n",
       "      <th>Map_Ref</th>\n",
       "      <th>Latitude</th>\n",
       "      <th>Altitude</th>\n",
       "      <th>Rainfall</th>\n",
       "      <th>Frosts</th>\n",
       "      <th>Year</th>\n",
       "      <th>Sp</th>\n",
       "      <th>PMCno</th>\n",
       "      <th>DBH</th>\n",
       "      <th>Ht</th>\n",
       "      <th>Surv</th>\n",
       "      <th>Vig</th>\n",
       "      <th>Ins_res</th>\n",
       "      <th>Stem_Fm</th>\n",
       "      <th>Crown_Fm</th>\n",
       "      <th>Brnch_Fm</th>\n",
       "      <th>Utility</th>\n",
       "    </tr>\n",
       "  </thead>\n",
       "  <tbody>\n",
       "    <tr>\n",
       "      <th>0</th>\n",
       "      <td>b'Cra'</td>\n",
       "      <td>1.0</td>\n",
       "      <td>b'Central_Hawkes_Bay'</td>\n",
       "      <td>b'N135_382/137'</td>\n",
       "      <td>b'39__38'</td>\n",
       "      <td>100.0</td>\n",
       "      <td>850.0</td>\n",
       "      <td>-2.0</td>\n",
       "      <td>1980.0</td>\n",
       "      <td>b'co'</td>\n",
       "      <td>1520.0</td>\n",
       "      <td>18.45</td>\n",
       "      <td>9.96</td>\n",
       "      <td>40.0</td>\n",
       "      <td>4.0</td>\n",
       "      <td>3.0</td>\n",
       "      <td>3.5</td>\n",
       "      <td>4.0</td>\n",
       "      <td>3.5</td>\n",
       "      <td>b'good'</td>\n",
       "    </tr>\n",
       "    <tr>\n",
       "      <th>1</th>\n",
       "      <td>b'Cra'</td>\n",
       "      <td>1.0</td>\n",
       "      <td>b'Central_Hawkes_Bay'</td>\n",
       "      <td>b'N135_382/137'</td>\n",
       "      <td>b'39__38'</td>\n",
       "      <td>100.0</td>\n",
       "      <td>850.0</td>\n",
       "      <td>-2.0</td>\n",
       "      <td>1980.0</td>\n",
       "      <td>b'fr'</td>\n",
       "      <td>1487.0</td>\n",
       "      <td>13.15</td>\n",
       "      <td>9.65</td>\n",
       "      <td>90.0</td>\n",
       "      <td>4.5</td>\n",
       "      <td>4.0</td>\n",
       "      <td>3.5</td>\n",
       "      <td>3.5</td>\n",
       "      <td>3.0</td>\n",
       "      <td>b'best'</td>\n",
       "    </tr>\n",
       "    <tr>\n",
       "      <th>2</th>\n",
       "      <td>b'Cra'</td>\n",
       "      <td>1.0</td>\n",
       "      <td>b'Central_Hawkes_Bay'</td>\n",
       "      <td>b'N135_382/137'</td>\n",
       "      <td>b'39__38'</td>\n",
       "      <td>100.0</td>\n",
       "      <td>850.0</td>\n",
       "      <td>-2.0</td>\n",
       "      <td>1980.0</td>\n",
       "      <td>b'ma'</td>\n",
       "      <td>1362.0</td>\n",
       "      <td>10.32</td>\n",
       "      <td>6.50</td>\n",
       "      <td>50.0</td>\n",
       "      <td>2.3</td>\n",
       "      <td>2.5</td>\n",
       "      <td>3.0</td>\n",
       "      <td>3.5</td>\n",
       "      <td>3.0</td>\n",
       "      <td>b'low'</td>\n",
       "    </tr>\n",
       "    <tr>\n",
       "      <th>3</th>\n",
       "      <td>b'Cra'</td>\n",
       "      <td>1.0</td>\n",
       "      <td>b'Central_Hawkes_Bay'</td>\n",
       "      <td>b'N135_382/137'</td>\n",
       "      <td>b'39__38'</td>\n",
       "      <td>100.0</td>\n",
       "      <td>850.0</td>\n",
       "      <td>-2.0</td>\n",
       "      <td>1980.0</td>\n",
       "      <td>b'nd'</td>\n",
       "      <td>1596.0</td>\n",
       "      <td>14.80</td>\n",
       "      <td>9.48</td>\n",
       "      <td>70.0</td>\n",
       "      <td>3.7</td>\n",
       "      <td>3.0</td>\n",
       "      <td>3.3</td>\n",
       "      <td>4.0</td>\n",
       "      <td>3.5</td>\n",
       "      <td>b'good'</td>\n",
       "    </tr>\n",
       "    <tr>\n",
       "      <th>4</th>\n",
       "      <td>b'Cra'</td>\n",
       "      <td>1.0</td>\n",
       "      <td>b'Central_Hawkes_Bay'</td>\n",
       "      <td>b'N135_382/137'</td>\n",
       "      <td>b'39__38'</td>\n",
       "      <td>100.0</td>\n",
       "      <td>850.0</td>\n",
       "      <td>-2.0</td>\n",
       "      <td>1980.0</td>\n",
       "      <td>b'ni'</td>\n",
       "      <td>2088.0</td>\n",
       "      <td>14.50</td>\n",
       "      <td>10.78</td>\n",
       "      <td>90.0</td>\n",
       "      <td>4.0</td>\n",
       "      <td>2.7</td>\n",
       "      <td>3.3</td>\n",
       "      <td>3.0</td>\n",
       "      <td>3.0</td>\n",
       "      <td>b'good'</td>\n",
       "    </tr>\n",
       "  </tbody>\n",
       "</table>\n",
       "</div>"
      ],
      "text/plain": [
       "   Abbrev  Rep               Locality          Map_Ref   Latitude  Altitude  Rainfall  Frosts    Year     Sp   PMCno    DBH     Ht  Surv  Vig  Ins_res  Stem_Fm  Crown_Fm  Brnch_Fm  Utility\n",
       "0  b'Cra'  1.0  b'Central_Hawkes_Bay'  b'N135_382/137'  b'39__38'     100.0     850.0    -2.0  1980.0  b'co'  1520.0  18.45   9.96  40.0  4.0      3.0      3.5       4.0       3.5  b'good'\n",
       "1  b'Cra'  1.0  b'Central_Hawkes_Bay'  b'N135_382/137'  b'39__38'     100.0     850.0    -2.0  1980.0  b'fr'  1487.0  13.15   9.65  90.0  4.5      4.0      3.5       3.5       3.0  b'best'\n",
       "2  b'Cra'  1.0  b'Central_Hawkes_Bay'  b'N135_382/137'  b'39__38'     100.0     850.0    -2.0  1980.0  b'ma'  1362.0  10.32   6.50  50.0  2.3      2.5      3.0       3.5       3.0   b'low'\n",
       "3  b'Cra'  1.0  b'Central_Hawkes_Bay'  b'N135_382/137'  b'39__38'     100.0     850.0    -2.0  1980.0  b'nd'  1596.0  14.80   9.48  70.0  3.7      3.0      3.3       4.0       3.5  b'good'\n",
       "4  b'Cra'  1.0  b'Central_Hawkes_Bay'  b'N135_382/137'  b'39__38'     100.0     850.0    -2.0  1980.0  b'ni'  2088.0  14.50  10.78  90.0  4.0      2.7      3.3       3.0       3.0  b'good'"
      ]
     },
     "execution_count": 47,
     "metadata": {},
     "output_type": "execute_result"
    }
   ],
   "source": [
    "df.head()"
   ]
  },
  {
   "cell_type": "code",
   "execution_count": 48,
   "id": "b874d0f3",
   "metadata": {},
   "outputs": [],
   "source": [
    "df = df.dropna()"
   ]
  },
  {
   "cell_type": "code",
   "execution_count": 49,
   "id": "b6720cdb",
   "metadata": {},
   "outputs": [
    {
     "data": {
      "text/plain": [
       "(641, 20)"
      ]
     },
     "execution_count": 49,
     "metadata": {},
     "output_type": "execute_result"
    }
   ],
   "source": [
    "df.shape"
   ]
  },
  {
   "cell_type": "code",
   "execution_count": 50,
   "id": "bd9327ba",
   "metadata": {},
   "outputs": [
    {
     "data": {
      "text/plain": [
       "Abbrev       object\n",
       "Rep         float64\n",
       "Locality     object\n",
       "Map_Ref      object\n",
       "Latitude     object\n",
       "Altitude    float64\n",
       "Rainfall    float64\n",
       "Frosts      float64\n",
       "Year        float64\n",
       "Sp           object\n",
       "PMCno       float64\n",
       "DBH         float64\n",
       "Ht          float64\n",
       "Surv        float64\n",
       "Vig         float64\n",
       "Ins_res     float64\n",
       "Stem_Fm     float64\n",
       "Crown_Fm    float64\n",
       "Brnch_Fm    float64\n",
       "Utility      object\n",
       "dtype: object"
      ]
     },
     "execution_count": 50,
     "metadata": {},
     "output_type": "execute_result"
    }
   ],
   "source": [
    "df.dtypes"
   ]
  },
  {
   "cell_type": "markdown",
   "id": "284c8e41",
   "metadata": {},
   "source": [
    "## Custom Implementation"
   ]
  },
  {
   "cell_type": "code",
   "execution_count": 51,
   "id": "bd952280",
   "metadata": {},
   "outputs": [],
   "source": [
    "metrics_our_model = {'time':{'Holdout': {'fit': 0, 'predict': 0, 'total-time': 0}, 'CV': 0},\n",
    "                     'metrics': {'Holdout': {'accuracy': 0, 'precision':0, 'recall':0, 'f1':0},\n",
    "                                'CV': {'accuracy': 0, 'precision':0, 'recall':0, 'f1':0}}}"
   ]
  },
  {
   "cell_type": "code",
   "execution_count": 52,
   "id": "c12779f5",
   "metadata": {},
   "outputs": [],
   "source": [
    "train, test = train_test_split(df, test_size=0.3, random_state=42, shuffle=True)\n",
    "X_test = test.drop(['Utility'], axis=1)\n",
    "y_test = list(test['Utility'])"
   ]
  },
  {
   "cell_type": "code",
   "execution_count": 53,
   "id": "7cce158c",
   "metadata": {},
   "outputs": [],
   "source": [
    "# Holdout on our model\n",
    "\n",
    "# fitting the model\n",
    "st1 = time.time()\n",
    "nb = NaiveBayes()\n",
    "nb.fit(train, 'Utility')\n",
    "et1 = time.time()\n",
    "elapsed_time1 = et1 - st1\n",
    "metrics_our_model['time']['Holdout']['fit'] = elapsed_time1\n",
    "\n",
    "# prediction\n",
    "st2 = time.time()\n",
    "predictions = nb.predict(X_test)\n",
    "et2 = time.time()\n",
    "elapsed_time2 = et2 - st2\n",
    "total_time = et2-st1\n",
    "\n",
    "metrics_our_model['time']['Holdout']['predict'] = elapsed_time2\n",
    "metrics_our_model['time']['Holdout']['total-time'] = total_time\n",
    "metrics_our_model['metrics']['Holdout']['accuracy'] = accuracy_score(y_test, predictions)\n",
    "metrics_our_model['metrics']['Holdout']['precision'] = precision_score(y_test, predictions, average='macro', zero_division=0)\n",
    "metrics_our_model['metrics']['Holdout']['recall'] = recall_score(y_test, predictions, average='macro', zero_division=0)\n",
    "metrics_our_model['metrics']['Holdout']['f1'] = f1_score(y_test, predictions, average='macro', zero_division=0)"
   ]
  },
  {
   "cell_type": "code",
   "execution_count": 54,
   "id": "8e334a0d",
   "metadata": {},
   "outputs": [],
   "source": [
    "# Perform the CV on our own model\n",
    "\n",
    "# create the folds\n",
    "kf5 = KFold(n_splits=5, shuffle=False)\n",
    "\n",
    "accuracy = 0\n",
    "precision = 0\n",
    "recall = 0\n",
    "f1 = 0\n",
    "\n",
    "st = time.time()\n",
    "\n",
    "for train_index, test_index in kf5.split(df):\n",
    "    \n",
    "    # create the train/test split properly\n",
    "    train = df.iloc[train_index]\n",
    "    test = df.iloc[test_index]\n",
    "    X_test = test.drop(['Utility'], axis=1)\n",
    "    y_test = list(test['Utility'])\n",
    "\n",
    "    # fitting the model\n",
    "    nb = NaiveBayes()\n",
    "    nb.fit(train, 'Utility')\n",
    "    \n",
    "    # prediction\n",
    "    predictions = nb.predict(X_test)\n",
    "    \n",
    "    accuracy += accuracy_score(y_test, predictions)\n",
    "    precision += precision_score(y_test, predictions, average='macro', zero_division=0)\n",
    "    recall += recall_score(y_test, predictions, average='macro', zero_division=0)\n",
    "    f1 += f1_score(y_test, predictions, average='macro', zero_division=0)\n",
    "    \n",
    "et = time.time()    \n",
    "total_time = et - st"
   ]
  },
  {
   "cell_type": "code",
   "execution_count": 55,
   "id": "b2f0a5a2",
   "metadata": {},
   "outputs": [],
   "source": [
    "accuracy = accuracy / 5\n",
    "precision = precision / 5\n",
    "recall = recall / 5\n",
    "f1 = f1 / 5\n",
    "\n",
    "metrics_our_model['time']['CV'] = total_time\n",
    "metrics_our_model['metrics']['CV']['accuracy'] = accuracy\n",
    "metrics_our_model['metrics']['CV']['precision'] = precision\n",
    "metrics_our_model['metrics']['CV']['recall'] = recall\n",
    "metrics_our_model['metrics']['CV']['f1'] = f1"
   ]
  },
  {
   "cell_type": "code",
   "execution_count": 56,
   "id": "d0beefa2",
   "metadata": {},
   "outputs": [
    {
     "data": {
      "text/plain": [
       "{'time': {'Holdout': {'fit': 0.30000925064086914,\n",
       "   'predict': 0.4779543876647949,\n",
       "   'total-time': 0.7779636383056641},\n",
       "  'CV': 3.027630567550659},\n",
       " 'metrics': {'Holdout': {'accuracy': 0.5492227979274611,\n",
       "   'precision': 0.43068013468013466,\n",
       "   'recall': 0.46889427557531,\n",
       "   'f1': 0.4380979818190801},\n",
       "  'CV': {'accuracy': 0.36677567829457364,\n",
       "   'precision': 0.320500896125995,\n",
       "   'recall': 0.28900319350826736,\n",
       "   'f1': 0.23228184103460703}}}"
      ]
     },
     "execution_count": 56,
     "metadata": {},
     "output_type": "execute_result"
    }
   ],
   "source": [
    "metrics_our_model"
   ]
  },
  {
   "cell_type": "markdown",
   "id": "7610314c",
   "metadata": {},
   "source": [
    "## Scikit-learn NB"
   ]
  },
  {
   "cell_type": "code",
   "execution_count": 57,
   "id": "477c4a56",
   "metadata": {},
   "outputs": [],
   "source": [
    "metrics_sklearn_NB = {'time':{'Holdout': {'fit': 0, 'predict': 0, 'total-time': 0}, 'CV': 0},\n",
    "                     'metrics': {'Holdout': {'accuracy': 0, 'precision':0, 'recall':0, 'f1':0},\n",
    "                                'CV': {'accuracy': 0, 'precision':0, 'recall':0, 'f1':0}}}"
   ]
  },
  {
   "cell_type": "code",
   "execution_count": 58,
   "id": "a704d472",
   "metadata": {},
   "outputs": [],
   "source": [
    "# holdout\n",
    "\n",
    "le = LabelEncoder()\n",
    "nominal_features = [\"Abbrev\", \"Locality\", \"Map_Ref\", \"Latitude\", \"Sp\"]\n",
    "\n",
    "X = df.drop(columns=['Utility'])\n",
    "y = df['Utility']\n",
    "\n",
    "for feature in nominal_features:\n",
    "    X[feature] = le.fit_transform(X[feature])\n",
    "\n",
    "y = le.fit_transform (y)\n",
    "\n",
    "X_train, X_test, y_train, y_test = train_test_split(X, y, test_size=0.3, random_state=42, shuffle=True)\n",
    "\n",
    "st1 = time.time()\n",
    "gnb = GaussianNB()\n",
    "gnb.fit(X_train, y_train)\n",
    "et1 = time.time()\n",
    "\n",
    "st2 = time.time()\n",
    "predictions = gnb.predict(X_test)\n",
    "et2 = time.time()\n",
    "\n",
    "accuracy_score(y_test, predictions)\n",
    "\n",
    "metrics_sklearn_NB['time']['Holdout']['fit'] = et1 - st1\n",
    "metrics_sklearn_NB['time']['Holdout']['predict'] = et2 - st2\n",
    "metrics_sklearn_NB['time']['Holdout']['total-time'] = et2 - st1\n",
    "metrics_sklearn_NB['metrics']['Holdout']['accuracy'] = accuracy_score(y_test, predictions)\n",
    "metrics_sklearn_NB['metrics']['Holdout']['precision'] = precision_score(y_test, predictions, average='macro', zero_division=0)\n",
    "metrics_sklearn_NB['metrics']['Holdout']['recall'] = recall_score(y_test, predictions, average='macro', zero_division=0)\n",
    "metrics_sklearn_NB['metrics']['Holdout']['f1'] = f1_score(y_test, predictions, average='macro', zero_division=0)"
   ]
  },
  {
   "cell_type": "code",
   "execution_count": 59,
   "id": "0404e34e",
   "metadata": {},
   "outputs": [
    {
     "name": "stderr",
     "output_type": "stream",
     "text": [
      "C:\\Users\\User\\AppData\\Local\\Programs\\Python\\Python39\\lib\\site-packages\\sklearn\\metrics\\_classification.py:1308: UndefinedMetricWarning: Precision is ill-defined and being set to 0.0 in labels with no predicted samples. Use `zero_division` parameter to control this behavior.\n",
      "  _warn_prf(average, modifier, msg_start, len(result))\n",
      "C:\\Users\\User\\AppData\\Local\\Programs\\Python\\Python39\\lib\\site-packages\\sklearn\\metrics\\_classification.py:1308: UndefinedMetricWarning: Precision is ill-defined and being set to 0.0 in labels with no predicted samples. Use `zero_division` parameter to control this behavior.\n",
      "  _warn_prf(average, modifier, msg_start, len(result))\n",
      "C:\\Users\\User\\AppData\\Local\\Programs\\Python\\Python39\\lib\\site-packages\\sklearn\\metrics\\_classification.py:1308: UndefinedMetricWarning: Precision is ill-defined and being set to 0.0 in labels with no predicted samples. Use `zero_division` parameter to control this behavior.\n",
      "  _warn_prf(average, modifier, msg_start, len(result))\n"
     ]
    }
   ],
   "source": [
    "# Cross validation on the sklearn NB\n",
    "\n",
    "# ovdje mi bude error, i treba preprocessing nekakav odraditi\n",
    "\n",
    "X = df.drop(columns=['Utility'])\n",
    "y = df['Utility']\n",
    "\n",
    "for feature in nominal_features:\n",
    "    X[feature] = le.fit_transform(X[feature])\n",
    "\n",
    "y = le.fit_transform (y)\n",
    "\n",
    "gnb = GaussianNB()\n",
    "\n",
    "st = time.time()\n",
    "\n",
    "accuracy_scores = cross_val_score(gnb, X, y, cv=5, scoring=\"accuracy\")\n",
    "\n",
    "et = time.time()\n",
    "\n",
    "precision_scores = cross_val_score(gnb, X, y, cv=5, scoring=\"precision_macro\")\n",
    "recall_scores = cross_val_score(gnb, X, y, cv=5, scoring=\"recall_macro\")\n",
    "f1_scores = cross_val_score(gnb, X, y, cv=5, scoring=\"f1_macro\")"
   ]
  },
  {
   "cell_type": "code",
   "execution_count": 60,
   "id": "dcf8ac45",
   "metadata": {},
   "outputs": [],
   "source": [
    "metrics_sklearn_NB['time']['CV'] = et - st\n",
    "metrics_sklearn_NB['metrics']['CV']['accuracy'] = accuracy_scores.mean()\n",
    "metrics_sklearn_NB['metrics']['CV']['precision'] = precision_scores.mean()\n",
    "metrics_sklearn_NB['metrics']['CV']['recall'] = recall_scores.mean()\n",
    "metrics_sklearn_NB['metrics']['CV']['f1'] = f1_scores.mean()"
   ]
  },
  {
   "cell_type": "code",
   "execution_count": 61,
   "id": "25b8ecdd",
   "metadata": {},
   "outputs": [
    {
     "data": {
      "text/plain": [
       "{'time': {'Holdout': {'fit': 0.00500035285949707,\n",
       "   'predict': 0.003999233245849609,\n",
       "   'total-time': 0.00899958610534668},\n",
       "  'CV': 0.047003746032714844},\n",
       " 'metrics': {'Holdout': {'accuracy': 0.5595854922279793,\n",
       "   'precision': 0.46063829787234045,\n",
       "   'recall': 0.5089690121155639,\n",
       "   'f1': 0.4782535074987905},\n",
       "  'CV': {'accuracy': 0.4353076550387597,\n",
       "   'precision': 0.401011363414508,\n",
       "   'recall': 0.3961396148566881,\n",
       "   'f1': 0.3749093482995372}}}"
      ]
     },
     "execution_count": 61,
     "metadata": {},
     "output_type": "execute_result"
    }
   ],
   "source": [
    "metrics_sklearn_NB"
   ]
  },
  {
   "cell_type": "markdown",
   "id": "ab7c5d3a",
   "metadata": {},
   "source": [
    "## Scikit-learn MLP"
   ]
  },
  {
   "cell_type": "code",
   "execution_count": 62,
   "id": "ae6ac1d9",
   "metadata": {},
   "outputs": [],
   "source": [
    "metrics_sklearn_mlp = {'time':{'Holdout': {'fit': 0, 'predict': 0, 'total-time': 0}, 'CV': 0},\n",
    "                     'metrics': {'Holdout': {'accuracy': 0, 'precision':0, 'recall':0, 'f1':0},\n",
    "                                'CV': {'accuracy': 0, 'precision':0, 'recall':0, 'f1':0}}}"
   ]
  },
  {
   "cell_type": "code",
   "execution_count": 63,
   "id": "6e1d78ea",
   "metadata": {},
   "outputs": [],
   "source": [
    "# holdout\n",
    "\n",
    "le = LabelEncoder()\n",
    "nominal_features = [\"Abbrev\", \"Locality\", \"Map_Ref\", \"Latitude\", \"Sp\"]\n",
    "\n",
    "X = df.drop(columns=['Utility'])\n",
    "y = df['Utility']\n",
    "\n",
    "for feature in nominal_features:\n",
    "    X[feature] = le.fit_transform(X[feature])\n",
    "\n",
    "y = le.fit_transform (y)\n",
    "\n",
    "X_train, X_test, y_train, y_test = train_test_split(X, y, test_size=0.3, random_state=42, shuffle=True)\n",
    "\n",
    "st1 = time.time()\n",
    "mlp = MLPClassifier()\n",
    "mlp.fit(X_train, y_train)\n",
    "et1 = time.time()\n",
    "\n",
    "st2 = time.time()\n",
    "predictions = mlp.predict(X_test)\n",
    "et2 = time.time()\n",
    "\n",
    "accuracy_score(y_test, predictions)\n",
    "\n",
    "metrics_sklearn_mlp['time']['Holdout']['fit'] = et1 - st1\n",
    "metrics_sklearn_mlp['time']['Holdout']['predict'] = et2 - st2\n",
    "metrics_sklearn_mlp['time']['Holdout']['total-time'] = et2 - st1\n",
    "metrics_sklearn_mlp['metrics']['Holdout']['accuracy'] = accuracy_score(y_test, predictions)\n",
    "metrics_sklearn_mlp['metrics']['Holdout']['precision'] = precision_score(y_test, predictions, average='macro', zero_division=0)\n",
    "metrics_sklearn_mlp['metrics']['Holdout']['recall'] = recall_score(y_test, predictions, average='macro', zero_division=0)\n",
    "metrics_sklearn_mlp['metrics']['Holdout']['f1'] = f1_score(y_test, predictions, average='macro', zero_division=0)"
   ]
  },
  {
   "cell_type": "code",
   "execution_count": 64,
   "id": "8109f333",
   "metadata": {},
   "outputs": [
    {
     "name": "stderr",
     "output_type": "stream",
     "text": [
      "C:\\Users\\User\\AppData\\Local\\Programs\\Python\\Python39\\lib\\site-packages\\sklearn\\metrics\\_classification.py:1308: UndefinedMetricWarning: Precision is ill-defined and being set to 0.0 in labels with no predicted samples. Use `zero_division` parameter to control this behavior.\n",
      "  _warn_prf(average, modifier, msg_start, len(result))\n",
      "C:\\Users\\User\\AppData\\Local\\Programs\\Python\\Python39\\lib\\site-packages\\sklearn\\metrics\\_classification.py:1308: UndefinedMetricWarning: Precision is ill-defined and being set to 0.0 in labels with no predicted samples. Use `zero_division` parameter to control this behavior.\n",
      "  _warn_prf(average, modifier, msg_start, len(result))\n"
     ]
    }
   ],
   "source": [
    "# Cross validation on the sklearn NB\n",
    "\n",
    "# ovdje mi bude error, i treba preprocessing nekakav odraditi\n",
    "\n",
    "X = df.drop(columns=['Utility'])\n",
    "y = df['Utility']\n",
    "\n",
    "for feature in nominal_features:\n",
    "    X[feature] = le.fit_transform(X[feature])\n",
    "\n",
    "y = le.fit_transform (y)\n",
    "\n",
    "mlp = MLPClassifier()\n",
    "\n",
    "st = time.time()\n",
    "\n",
    "accuracy_scores = cross_val_score(mlp, X, y, cv=5, scoring=\"accuracy\")\n",
    "\n",
    "et = time.time()\n",
    "\n",
    "precision_scores = cross_val_score(mlp, X, y, cv=5, scoring=\"precision_macro\")\n",
    "recall_scores = cross_val_score(mlp, X, y, cv=5, scoring=\"recall_macro\")\n",
    "f1_scores = cross_val_score(mlp, X, y, cv=5, scoring=\"f1_macro\")"
   ]
  },
  {
   "cell_type": "code",
   "execution_count": 65,
   "id": "46c40f95",
   "metadata": {},
   "outputs": [],
   "source": [
    "metrics_sklearn_mlp['time']['CV'] = et - st\n",
    "metrics_sklearn_mlp['metrics']['CV']['accuracy'] = accuracy_scores.mean()\n",
    "metrics_sklearn_mlp['metrics']['CV']['precision'] = precision_scores.mean()\n",
    "metrics_sklearn_mlp['metrics']['CV']['recall'] = recall_scores.mean()\n",
    "metrics_sklearn_mlp['metrics']['CV']['f1'] = f1_scores.mean()"
   ]
  },
  {
   "cell_type": "code",
   "execution_count": 66,
   "id": "2f0ae6c6",
   "metadata": {},
   "outputs": [
    {
     "data": {
      "text/plain": [
       "{'time': {'Holdout': {'fit': 0.23549365997314453,\n",
       "   'predict': 0.0,\n",
       "   'total-time': 0.23549365997314453},\n",
       "  'CV': 1.6499574184417725},\n",
       " 'metrics': {'Holdout': {'accuracy': 0.3626943005181347,\n",
       "   'precision': 0.20912482065997132,\n",
       "   'recall': 0.3155769230769231,\n",
       "   'f1': 0.2513223187243211},\n",
       "  'CV': {'accuracy': 0.3293725775193798,\n",
       "   'precision': 0.38728014150367623,\n",
       "   'recall': 0.25081573223524445,\n",
       "   'f1': 0.2507372333525697}}}"
      ]
     },
     "execution_count": 66,
     "metadata": {},
     "output_type": "execute_result"
    }
   ],
   "source": [
    "metrics_sklearn_mlp"
   ]
  }
 ],
 "metadata": {
  "kernelspec": {
   "display_name": "Python 3 (ipykernel)",
   "language": "python",
   "name": "python3"
  },
  "language_info": {
   "codemirror_mode": {
    "name": "ipython",
    "version": 3
   },
   "file_extension": ".py",
   "mimetype": "text/x-python",
   "name": "python",
   "nbconvert_exporter": "python",
   "pygments_lexer": "ipython3",
   "version": "3.9.7"
  }
 },
 "nbformat": 4,
 "nbformat_minor": 5
}
