{
 "cells": [
  {
   "cell_type": "markdown",
   "id": "979fabd7",
   "metadata": {},
   "source": [
    "# Naive Bayes implementation from scratch"
   ]
  },
  {
   "cell_type": "code",
   "execution_count": 1,
   "id": "a32b6ec4",
   "metadata": {},
   "outputs": [],
   "source": [
    "# imports\n",
    "import pandas as pd\n",
    "import numpy as np\n",
    "import warnings\n",
    "import math\n",
    "\n",
    "from naivebayes import NaiveBayes\n",
    "\n",
    "warnings.filterwarnings('ignore')\n",
    "pd.set_option('display.max_rows', 500)\n",
    "pd.set_option('display.max_columns', 500)\n",
    "pd.set_option('display.width', 1000)"
   ]
  },
  {
   "cell_type": "code",
   "execution_count": 5,
   "id": "c3ac1395",
   "metadata": {},
   "outputs": [],
   "source": [
    "df = pd.read_csv(\"data/drug200.csv\")"
   ]
  },
  {
   "cell_type": "code",
   "execution_count": 6,
   "id": "f7e9e472",
   "metadata": {},
   "outputs": [
    {
     "data": {
      "text/html": [
       "<div>\n",
       "<style scoped>\n",
       "    .dataframe tbody tr th:only-of-type {\n",
       "        vertical-align: middle;\n",
       "    }\n",
       "\n",
       "    .dataframe tbody tr th {\n",
       "        vertical-align: top;\n",
       "    }\n",
       "\n",
       "    .dataframe thead th {\n",
       "        text-align: right;\n",
       "    }\n",
       "</style>\n",
       "<table border=\"1\" class=\"dataframe\">\n",
       "  <thead>\n",
       "    <tr style=\"text-align: right;\">\n",
       "      <th></th>\n",
       "      <th>Age</th>\n",
       "      <th>Sex</th>\n",
       "      <th>BP</th>\n",
       "      <th>Cholesterol</th>\n",
       "      <th>Na_to_K</th>\n",
       "      <th>Drug</th>\n",
       "    </tr>\n",
       "  </thead>\n",
       "  <tbody>\n",
       "    <tr>\n",
       "      <th>0</th>\n",
       "      <td>23</td>\n",
       "      <td>F</td>\n",
       "      <td>HIGH</td>\n",
       "      <td>HIGH</td>\n",
       "      <td>25.355</td>\n",
       "      <td>DrugY</td>\n",
       "    </tr>\n",
       "    <tr>\n",
       "      <th>1</th>\n",
       "      <td>47</td>\n",
       "      <td>M</td>\n",
       "      <td>LOW</td>\n",
       "      <td>HIGH</td>\n",
       "      <td>13.093</td>\n",
       "      <td>drugC</td>\n",
       "    </tr>\n",
       "    <tr>\n",
       "      <th>2</th>\n",
       "      <td>47</td>\n",
       "      <td>M</td>\n",
       "      <td>LOW</td>\n",
       "      <td>HIGH</td>\n",
       "      <td>10.114</td>\n",
       "      <td>drugC</td>\n",
       "    </tr>\n",
       "    <tr>\n",
       "      <th>3</th>\n",
       "      <td>28</td>\n",
       "      <td>F</td>\n",
       "      <td>NORMAL</td>\n",
       "      <td>HIGH</td>\n",
       "      <td>7.798</td>\n",
       "      <td>drugX</td>\n",
       "    </tr>\n",
       "    <tr>\n",
       "      <th>4</th>\n",
       "      <td>61</td>\n",
       "      <td>F</td>\n",
       "      <td>LOW</td>\n",
       "      <td>HIGH</td>\n",
       "      <td>18.043</td>\n",
       "      <td>DrugY</td>\n",
       "    </tr>\n",
       "  </tbody>\n",
       "</table>\n",
       "</div>"
      ],
      "text/plain": [
       "   Age Sex      BP Cholesterol  Na_to_K   Drug\n",
       "0   23   F    HIGH        HIGH   25.355  DrugY\n",
       "1   47   M     LOW        HIGH   13.093  drugC\n",
       "2   47   M     LOW        HIGH   10.114  drugC\n",
       "3   28   F  NORMAL        HIGH    7.798  drugX\n",
       "4   61   F     LOW        HIGH   18.043  DrugY"
      ]
     },
     "execution_count": 6,
     "metadata": {},
     "output_type": "execute_result"
    }
   ],
   "source": [
    "df.head()"
   ]
  },
  {
   "cell_type": "code",
   "execution_count": 7,
   "id": "924bcd70",
   "metadata": {},
   "outputs": [
    {
     "data": {
      "text/plain": [
       "array(['F', 'M'], dtype=object)"
      ]
     },
     "execution_count": 7,
     "metadata": {},
     "output_type": "execute_result"
    }
   ],
   "source": [
    "df['Sex'].unique()"
   ]
  },
  {
   "cell_type": "code",
   "execution_count": 8,
   "id": "e25a47c6",
   "metadata": {},
   "outputs": [
    {
     "data": {
      "text/plain": [
       "array(['HIGH', 'LOW', 'NORMAL'], dtype=object)"
      ]
     },
     "execution_count": 8,
     "metadata": {},
     "output_type": "execute_result"
    }
   ],
   "source": [
    "df['BP'].unique()"
   ]
  },
  {
   "cell_type": "code",
   "execution_count": 9,
   "id": "ceab93ae",
   "metadata": {},
   "outputs": [
    {
     "data": {
      "text/plain": [
       "array(['HIGH', 'NORMAL'], dtype=object)"
      ]
     },
     "execution_count": 9,
     "metadata": {},
     "output_type": "execute_result"
    }
   ],
   "source": [
    "df['Cholesterol'].unique()"
   ]
  },
  {
   "cell_type": "code",
   "execution_count": 10,
   "id": "9a09ae55",
   "metadata": {},
   "outputs": [
    {
     "data": {
      "text/plain": [
       "array(['DrugY', 'drugC', 'drugX', 'drugA', 'drugB'], dtype=object)"
      ]
     },
     "execution_count": 10,
     "metadata": {},
     "output_type": "execute_result"
    }
   ],
   "source": [
    "df['Drug'].unique()"
   ]
  },
  {
   "cell_type": "code",
   "execution_count": 11,
   "id": "7376e162",
   "metadata": {},
   "outputs": [
    {
     "data": {
      "text/plain": [
       "200"
      ]
     },
     "execution_count": 11,
     "metadata": {},
     "output_type": "execute_result"
    }
   ],
   "source": [
    "df.shape[0]"
   ]
  },
  {
   "cell_type": "code",
   "execution_count": 3,
   "id": "1a6138f6",
   "metadata": {},
   "outputs": [
    {
     "name": "stdout",
     "output_type": "stream",
     "text": [
      "{'Sex': {'F': {'general': 0.48, 'DrugY': 0.235, 'drugC': 0.035, 'drugX': 0.135, 'drugA': 0.045, 'drugB': 0.03}, 'M': {'general': 0.52, 'DrugY': 0.22, 'drugC': 0.045, 'drugX': 0.135, 'drugA': 0.07, 'drugB': 0.05}}, 'BP': {'HIGH': {'general': 0.385, 'DrugY': 0.19, 'drugC': 0.0, 'drugX': 0.0, 'drugA': 0.115, 'drugB': 0.08}, 'LOW': {'general': 0.32, 'DrugY': 0.15, 'drugC': 0.08, 'drugX': 0.09, 'drugA': 0.0, 'drugB': 0.0}, 'NORMAL': {'general': 0.295, 'DrugY': 0.115, 'drugC': 0.0, 'drugX': 0.18, 'drugA': 0.0, 'drugB': 0.0}}, 'Cholesterol': {'HIGH': {'general': 0.515, 'DrugY': 0.235, 'drugC': 0.08, 'drugX': 0.1, 'drugA': 0.06, 'drugB': 0.04}, 'NORMAL': {'general': 0.485, 'DrugY': 0.22, 'drugC': 0.0, 'drugX': 0.17, 'drugA': 0.055, 'drugB': 0.04}}, 'Age': {'DrugY': {'mean': 43.747252747252745, 'std': 17.031730783448097}, 'drugC': {'mean': 42.5, 'std': 16.725230441860386}, 'drugX': {'mean': 44.01851851851852, 'std': 16.43568453292069}, 'drugA': {'mean': 35.869565217391305, 'std': 9.696786477188704}, 'drugB': {'mean': 62.5, 'std': 7.127411872482185}, 'general': {'mean': 44.315, 'std': 16.544314634751974}}, 'Na_to_K': {'DrugY': {'mean': 22.374780219780217, 'std': 6.060195165178168}, 'drugC': {'mean': 10.633750000000001, 'std': 2.0450088345367443}, 'drugX': {'mean': 10.650555555555558, 'std': 2.1980907209690104}, 'drugA': {'mean': 10.91878260869565, 'std': 2.037641505549575}, 'drugB': {'mean': 11.524375, 'std': 1.8699194947020226}, 'general': {'mean': 16.084485, 'std': 7.223955528459516}}, 'targets': {'DrugY': 0.455, 'drugC': 0.08, 'drugX': 0.27, 'drugA': 0.115, 'drugB': 0.08}}\n"
     ]
    }
   ],
   "source": [
    "nb = NaiveBayes()\n",
    "nb.fit(df, 'Drug')"
   ]
  },
  {
   "cell_type": "code",
   "execution_count": 4,
   "id": "dfbaadbc",
   "metadata": {},
   "outputs": [
    {
     "data": {
      "text/plain": [
       "['DrugY',\n",
       " 'DrugY',\n",
       " 'drugX',\n",
       " 'drugX',\n",
       " 'DrugY',\n",
       " 'drugX',\n",
       " 'DrugY',\n",
       " 'drugX',\n",
       " 'DrugY',\n",
       " 'DrugY',\n",
       " 'drugX',\n",
       " 'DrugY',\n",
       " 'DrugY',\n",
       " 'DrugY',\n",
       " 'drugX',\n",
       " 'DrugY',\n",
       " 'drugX',\n",
       " 'DrugY',\n",
       " 'drugX',\n",
       " 'DrugY',\n",
       " 'DrugY',\n",
       " 'DrugY',\n",
       " 'DrugY',\n",
       " 'DrugY',\n",
       " 'DrugY',\n",
       " 'DrugY',\n",
       " 'DrugY',\n",
       " 'drugX',\n",
       " 'DrugY',\n",
       " 'DrugY',\n",
       " 'drugX',\n",
       " 'DrugY',\n",
       " 'drugX',\n",
       " 'DrugY',\n",
       " 'DrugY',\n",
       " 'drugX',\n",
       " 'DrugY',\n",
       " 'DrugY',\n",
       " 'drugX',\n",
       " 'drugX',\n",
       " 'DrugY',\n",
       " 'DrugY',\n",
       " 'DrugY',\n",
       " 'drugX',\n",
       " 'drugX',\n",
       " 'drugX',\n",
       " 'DrugY',\n",
       " 'drugX',\n",
       " 'DrugY',\n",
       " 'DrugY',\n",
       " 'DrugY',\n",
       " 'drugX',\n",
       " 'DrugY',\n",
       " 'DrugY',\n",
       " 'DrugY',\n",
       " 'DrugY',\n",
       " 'DrugY',\n",
       " 'DrugY',\n",
       " 'drugX',\n",
       " 'DrugY',\n",
       " 'DrugY',\n",
       " 'DrugY',\n",
       " 'DrugY',\n",
       " 'drugX',\n",
       " 'DrugY',\n",
       " 'DrugY',\n",
       " 'DrugY',\n",
       " 'drugX',\n",
       " 'DrugY',\n",
       " 'DrugY',\n",
       " 'DrugY',\n",
       " 'DrugY',\n",
       " 'drugX',\n",
       " 'DrugY',\n",
       " 'DrugY',\n",
       " 'DrugY',\n",
       " 'DrugY',\n",
       " 'DrugY',\n",
       " 'DrugY',\n",
       " 'drugX',\n",
       " 'DrugY',\n",
       " 'drugX',\n",
       " 'drugX',\n",
       " 'DrugY',\n",
       " 'drugX',\n",
       " 'DrugY',\n",
       " 'DrugY',\n",
       " 'DrugY',\n",
       " 'DrugY',\n",
       " 'DrugY',\n",
       " 'DrugY',\n",
       " 'DrugY',\n",
       " 'DrugY',\n",
       " 'DrugY',\n",
       " 'DrugY',\n",
       " 'drugX',\n",
       " 'DrugY',\n",
       " 'DrugY',\n",
       " 'DrugY',\n",
       " 'DrugY',\n",
       " 'DrugY',\n",
       " 'DrugY',\n",
       " 'DrugY',\n",
       " 'drugX',\n",
       " 'DrugY',\n",
       " 'drugX',\n",
       " 'drugX',\n",
       " 'DrugY',\n",
       " 'DrugY',\n",
       " 'DrugY',\n",
       " 'DrugY',\n",
       " 'drugX',\n",
       " 'drugX',\n",
       " 'DrugY',\n",
       " 'drugX',\n",
       " 'DrugY',\n",
       " 'drugX',\n",
       " 'drugX',\n",
       " 'DrugY',\n",
       " 'DrugY',\n",
       " 'DrugY',\n",
       " 'DrugY',\n",
       " 'DrugY',\n",
       " 'DrugY',\n",
       " 'DrugY',\n",
       " 'DrugY',\n",
       " 'DrugY',\n",
       " 'drugX',\n",
       " 'DrugY',\n",
       " 'drugX',\n",
       " 'DrugY',\n",
       " 'DrugY',\n",
       " 'DrugY',\n",
       " 'DrugY',\n",
       " 'DrugY',\n",
       " 'drugX',\n",
       " 'DrugY',\n",
       " 'DrugY',\n",
       " 'DrugY',\n",
       " 'drugX',\n",
       " 'DrugY',\n",
       " 'DrugY',\n",
       " 'DrugY',\n",
       " 'DrugY',\n",
       " 'DrugY',\n",
       " 'drugX',\n",
       " 'drugX',\n",
       " 'DrugY',\n",
       " 'drugX',\n",
       " 'drugX',\n",
       " 'DrugY',\n",
       " 'DrugY',\n",
       " 'drugX',\n",
       " 'DrugY',\n",
       " 'DrugY',\n",
       " 'drugX',\n",
       " 'DrugY',\n",
       " 'DrugY',\n",
       " 'drugX',\n",
       " 'DrugY',\n",
       " 'drugX',\n",
       " 'DrugY',\n",
       " 'drugX',\n",
       " 'DrugY',\n",
       " 'DrugY',\n",
       " 'DrugY',\n",
       " 'DrugY',\n",
       " 'DrugY',\n",
       " 'DrugY',\n",
       " 'DrugY',\n",
       " 'drugX',\n",
       " 'drugX',\n",
       " 'DrugY',\n",
       " 'DrugY',\n",
       " 'DrugY',\n",
       " 'DrugY',\n",
       " 'DrugY',\n",
       " 'DrugY',\n",
       " 'DrugY',\n",
       " 'DrugY',\n",
       " 'DrugY',\n",
       " 'DrugY',\n",
       " 'drugX',\n",
       " 'DrugY',\n",
       " 'DrugY',\n",
       " 'DrugY',\n",
       " 'DrugY',\n",
       " 'DrugY',\n",
       " 'DrugY',\n",
       " 'DrugY',\n",
       " 'DrugY',\n",
       " 'DrugY',\n",
       " 'DrugY',\n",
       " 'drugX',\n",
       " 'DrugY',\n",
       " 'drugX',\n",
       " 'DrugY',\n",
       " 'drugX',\n",
       " 'DrugY',\n",
       " 'drugX']"
      ]
     },
     "execution_count": 4,
     "metadata": {},
     "output_type": "execute_result"
    }
   ],
   "source": [
    "nb.predict(df.drop(['Drug'], axis=1))"
   ]
  }
 ],
 "metadata": {
  "kernelspec": {
   "display_name": "Python 3 (ipykernel)",
   "language": "python",
   "name": "python3"
  },
  "language_info": {
   "codemirror_mode": {
    "name": "ipython",
    "version": 3
   },
   "file_extension": ".py",
   "mimetype": "text/x-python",
   "name": "python",
   "nbconvert_exporter": "python",
   "pygments_lexer": "ipython3",
   "version": "3.10.8"
  }
 },
 "nbformat": 4,
 "nbformat_minor": 5
}
